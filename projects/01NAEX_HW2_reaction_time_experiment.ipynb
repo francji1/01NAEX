{
  "cells": [
    {
      "cell_type": "markdown",
      "metadata": {
        "id": "view-in-github",
        "colab_type": "text"
      },
      "source": [
        "<a href=\"https://colab.research.google.com/github/francji1/01NAEX/blob/main/projects/01NAEX_HW2_reaction_time_experiment.ipynb\" target=\"_parent\"><img src=\"https://colab.research.google.com/assets/colab-badge.svg\" alt=\"Open In Colab\"/></a>"
      ]
    },
    {
      "cell_type": "markdown",
      "id": "e5e8ba8e",
      "metadata": {
        "id": "e5e8ba8e"
      },
      "source": [
        "# 01NAEX - HW2: Reaction Time Experiment"
      ]
    },
    {
      "cell_type": "markdown",
      "id": "d592b19b",
      "metadata": {
        "id": "d592b19b"
      },
      "source": [
        "**Team Name:** add your names"
      ]
    },
    {
      "cell_type": "markdown",
      "id": "d0da3d99",
      "metadata": {
        "id": "d0da3d99"
      },
      "source": [
        "## Assignment"
      ]
    },
    {
      "cell_type": "markdown",
      "source": [
        "Design an experiment to measure the reaction time when responding to a color change on a screen, examining the dependence on 6 factors. Due to time constraints, you are encouraged to use a $\\frac{1}{2}$ fraction design: $2^{6-1}$ or a $\\frac{1}{4}$ fraction design: $2^{6-2}$, or a full factorial design with blocks. The response variable is the reaction time in milliseconds. The factors examined are:\n",
        "\n",
        "* Hand Used - Left hand vs. Right hand (categorical variable)\n",
        "* Distance of Hand from the Screen - Close vs. Far (numerical variable)\n",
        "* Noise Level in Background - Quiet (cca 60 dB) vs. Loud (cca 80 dB) (numerical variable)\n",
        "* Visual Focus - Watching the screen directly vs. Looking at another static object (categorical variable)\n",
        "* Distance of Screen from Eyes - Close  vs. Far  (numerical variable)\n",
        "* Brightness of the Screen - Low brightness  vs. High brightness (numerical variable)\n",
        "\n",
        "Due to the nature of this experiment, ensure consistency in instructions and measurement procedures across all participants.\n"
      ],
      "metadata": {
        "id": "9xg0tsbLzmrF"
      },
      "id": "9xg0tsbLzmrF"
    },
    {
      "cell_type": "markdown",
      "source": [
        "## Experiment Design Questions\n",
        "\n",
        "1. **Define the low and high levels for each variable**\n",
        "   - Define specific ranges and settings for each variable, both numerical and categorical, ensuring consistent conditions for each participant.\n",
        "   - Specify what data you will record and how.\n",
        "\n",
        "2. **Design the experimental design**\n",
        "   - Choose appropriate generators to achieve the desired fractional design. Provide details on the chosen resolution, alias structure, and how it impacts the interpretation of main effects and interactions.\n",
        "\n",
        "3. **Measure data**\n",
        "   - Record the reaction time in milliseconds using a reaction timer app on a mobile phone.\n",
        "   - Because of the high probability of measuring outliers, it is recommended to repeat each combination 5 times and take the median as a representative measurement for a given experimental setup.\n",
        "\n",
        "4. **Calculate the individual effects and their interactions**\n",
        "   - Analyze the main effects and interactions using coded variables. Determine the significance of each factor.\n",
        "\n",
        "5. **Determine significant factors and interactions**\n",
        "   - Generate appropriate visualizations such as main effects plots (e.g., Daniel plot), interaction plots, and boxplots to interpret the data. Use these to identify significant factors.\n",
        "\n",
        "6. **Perform ANOVA**\n",
        "   - Conduct an analysis of variance to assess the main effects and interactions, validating the model using plots and statistical hypothesis tests.\n",
        "\n",
        "7. **Add measurements at the 'center points'**\n",
        "   - Include additional measurements at center points (e.g., mid-levels of numerical variables) to detect potential curvature and non-linear effects. Analyze what information the center point measurements provide.\n",
        "\n",
        "8. **Construct a final regression model**\n",
        "   - Create a regression model that represents the relationship between the reaction time and significant factors.\n",
        "   - Check for assumptions of the regression model such as linearity, homoscedasticity, normality of residuals, and absence of multicollinearity. Use appropriate plots and statistical tests to validate these assumptions.\n",
        "\n",
        "9. **Create contour plots for significant numerical variables**\n",
        "   - For all pairs of significant numerical variables, plot their contours to find optimal settings for the lowest reaction time, using the actual numerical values rather than coded values.\n",
        "\n",
        "10. **Discuss the Limitations and Potential Improvements**\n",
        "    - Suggest potential improvements. Consider factors such as sample size, potential biases, and measurement precision.\n",
        "    - Discuss sensitivity analysis (how changes in the levels of significant factors affect the outcome) and the robustness of the model's predictions when conditions vary.\n",
        "\n",
        "11.  **Predict and Validate on New Data** (Bonus)\n",
        " - Collect new reaction time data under selected conditions predicted to yield optimal results. Compare the predicted outcomes with actual results to validate the model.\n",
        "  - Discuss how the findings from the experiment could be applied in real-world settings, such as improving reaction times in different professions or daily activities.\n"
      ],
      "metadata": {
        "id": "02sB569MWjim"
      },
      "id": "02sB569MWjim"
    },
    {
      "cell_type": "markdown",
      "source": [
        "\n",
        "\n",
        "## Additional Notes\n",
        "\n",
        "- Ensure that all measurements are taken randomly and consistently for reliability.\n",
        "- Discuss the implications of your findings in the context of human reaction time and its potential applications.\n",
        "\n",
        "## Submission conditions:\n",
        "Submit the completed jupyter notebook, with commented code and measured data, by December 1, 2024.\n"
      ],
      "metadata": {
        "id": "GzOfwPBPR8u-"
      },
      "id": "GzOfwPBPR8u-"
    },
    {
      "cell_type": "code",
      "source": [],
      "metadata": {
        "id": "16CKJp9b-K31"
      },
      "id": "16CKJp9b-K31",
      "execution_count": null,
      "outputs": []
    }
  ],
  "metadata": {
    "colab": {
      "provenance": [],
      "include_colab_link": true
    }
  },
  "nbformat": 4,
  "nbformat_minor": 5
}