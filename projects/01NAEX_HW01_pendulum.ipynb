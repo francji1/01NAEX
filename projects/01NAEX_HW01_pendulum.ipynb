{
  "cells": [
    {
      "cell_type": "markdown",
      "metadata": {
        "id": "view-in-github",
        "colab_type": "text"
      },
      "source": [
        "<a href=\"https://colab.research.google.com/github/francji1/01NAEX/blob/main/projects/01NAEX_HW01_pendulum.ipynb\" target=\"_parent\"><img src=\"https://colab.research.google.com/assets/colab-badge.svg\" alt=\"Open In Colab\"/></a>"
      ]
    },
    {
      "cell_type": "markdown",
      "id": "3651abbe",
      "metadata": {
        "id": "3651abbe"
      },
      "source": [
        "# 01NAEX Project 01 - Pendulum study\n",
        "\n",
        "Add your team name(s), members, and roles here (optional)."
      ]
    },
    {
      "cell_type": "markdown",
      "id": "eb39016e",
      "metadata": {
        "id": "eb39016e"
      },
      "source": [
        "## Research Task\n",
        "\n",
        "Design and run an experiment to investigate which factors affect the period of a simple pendulum. For small release angles, classical theory predicts the period T depends only on the string length L:\n",
        "\n",
        "$T \\approx 2*\\pi*\\sqrt{\\frac{L}{g}} \\ \\ \\text{for} \\ \\ |\\theta| <= 10\\text{deg}$\n",
        "\n",
        "https://en.wikipedia.org/wiki/Pendulum_(mechanics)\n",
        "\n",
        "That is, for small angles the period should be independent of the bob's weight (mass) and approximately independent of angle. Your goal is to build an experiment that confirms that weight is not a significant factor, while verifying the expected length effect. You may optionally probe how well the \"small-angle\" approximation holds by using a couple of small angle levels.\n",
        "\n",
        "- Response variable: period T (seconds). Recommended protocol: time $N$ swings with a stopwatch and use $T = t_N / N$ to reduce reaction-time error.\n",
        "- Primary factors:\n",
        "  - Length $L$ (quantitative, choose >= 3 levels across your feasible range)\n",
        "  - Weight $m$ (mass of the bob; choose 2-3 levels). Theory: no effect on $T$.\n",
        "  - Release angle $\\theta$ (small angles: e.g., 5, 10, 20 degrees; choose >= 2 levels to test the approximation)\n",
        "- Optional nuisance/structure: operator (person), day/session, string type, pivot, ambient conditions. You may treat these as blocks or ignore them if you control them sufficiently.\n",
        "\n",
        "You decide whether to randomize run order, include operators, blocking, or repeated measurements - justify your choices using **design of experiments reasoning**."
      ]
    },
    {
      "cell_type": "markdown",
      "id": "dcaf9c0e",
      "metadata": {
        "id": "dcaf9c0e"
      },
      "source": [
        "## Design Guidance\n",
        "\n",
        "- Target the physics regime where the small-angle approximation is valid $(|\\theta| \\leq 10 deg)$. If you exceed this, discuss the implications.\n",
        "- Plan replicates/repeated measurements to mitigate stopwatch error (e.g., 3 repeats per treatment or average of 10-20 swings per timing).\n",
        "- If multiple operators participate, consider blocking by operator or using a mixed-effects model.\n",
        "- Randomize run order if practical; if not, explain how you controlled time-related drift.\n",
        "- Record all factor levels and the run order for traceability.\n",
        "- Power: Aim for $\\beta \\leq 0.1$  to detect a 0.1s change in T between mass levels at $\\alpha = 0.05$. Use a pilot SD (e.g., from 10 swings) to size the study."
      ]
    },
    {
      "cell_type": "markdown",
      "id": "3fd047a6",
      "metadata": {
        "id": "3fd047a6"
      },
      "source": [
        "## Submission\n",
        "\n",
        "Submit by the deadline in PDF, Rmd, or ipynb (Python or R). Include raw data (I prefer a link to the data in the code) and your analysis code with outputs. Ensure the report is self-contained and reproducible."
      ]
    },
    {
      "cell_type": "markdown",
      "id": "e4db6442",
      "metadata": {
        "id": "e4db6442"
      },
      "source": [
        "## Tasks / Questions\n",
        "\n",
        "1) Planning and design\n",
        "- Define your factors and levels ($L$, $m$, $\\theta$) and any nuisance variables (operators, sessions, etc.).\n",
        "- Specify the response and the measurement protocol ($N$ swings per timing, repeats per treatment, instrumentation, units).\n",
        "- State whether you will randomize or block; justify your choices.\n",
        "\n",
        "2) Power and sample size (pre-study)\n",
        "- Using a pilot SD (or a reasonable assumption), estimate how many replicates per treatment you need to achieve 80% power to detect a 2-3% change in $T$ between mass levels at $\\alpha = 0.05$. State assumptions clearly.\n",
        "\n",
        "3) Data collection and quality\n",
        "- Report the full data table (with run order if randomized) and basic summaries (mean, SD) by factor level.\n",
        "- Visualize the data (e.g., boxplots and mean+/-SE) across $L$, $m$, and $\\theta$.\n",
        "\n",
        "4) Primary analysis - ANOVA\n",
        "- Fit an ANOVA model for $T$ with factors $L$, $m$, $\\theta$. Consider interactions only if justified by design.\n",
        "- Test and interpret the effect of weight $m$. Report F, df, and p-values.\n",
        "\n",
        "5) ANOVA - multiple comparison (Tukey, LSD)\n",
        "- Find out if there is significant difference in means between different levels of $L$, $m$, $\\theta$.\n",
        "- Can we confirm the assumption that the mass of the blob does not matter?\n",
        "- Can we confirm the assumption that a small angle has no effect on the time T , but a larger one does?\n",
        "\n",
        "6) Assumptions and diagnostics\n",
        "- Provide residual plots (QQ-plot, residuals vs fitted, ...) and formal tests where relevant. Discuss any deviations and remedies.\n",
        "- Discuss the effect of the experimental design and the evolution of the residuals over time (order of measurements).\n",
        "\n",
        "7) Post-study power/reflection\n",
        "- Based on the observed SD and estimates, re-calc the achieved power of the test in the ANOVA for different lenghts of ropes and corresponding measuremnts and other factors.\n",
        "- Assume the difference in T we want to detect is 0.1s. Calculate the number of repetition needed for the power of the resulting test to be greater than 0.9.\n",
        "\n",
        "8) Alternative model - regression with quantitative factors\n",
        "- Fit a regression with T ~ sqrt(L) (or log T vs 0.5 log L) and include theta (as small quantitative) and m. Compare conclusions about m.\n",
        "- Choose model with significant variables.\n",
        "\n",
        "9) Conclusions\n",
        "- Summarize whether the data support the theoretical result (T depends on L; m not significant at small angles). Provide a minimal recommended design that would convincingly demonstrate this in future labs.\n",
        "\n",
        "10) (Optional) Estimate $g$\n",
        "- Use your best model to estimate $g$ and provide an interval. Compare to 9.81 $m/s^2$.\n"
      ]
    },
    {
      "cell_type": "markdown",
      "id": "9e03b080",
      "metadata": {
        "id": "9e03b080"
      },
      "source": [
        "### 1) Planning and design"
      ]
    },
    {
      "cell_type": "code",
      "source": [],
      "metadata": {
        "id": "Bkcc0m8Rah9C"
      },
      "id": "Bkcc0m8Rah9C",
      "execution_count": null,
      "outputs": []
    },
    {
      "cell_type": "markdown",
      "id": "e42fbc4d",
      "metadata": {
        "id": "e42fbc4d"
      },
      "source": [
        "### 2) Power and sample size (pre-study)"
      ]
    },
    {
      "cell_type": "code",
      "source": [],
      "metadata": {
        "id": "9nny2qU6akbx"
      },
      "id": "9nny2qU6akbx",
      "execution_count": null,
      "outputs": []
    },
    {
      "cell_type": "markdown",
      "id": "fa7c76b3",
      "metadata": {
        "id": "fa7c76b3"
      },
      "source": [
        "### 3) Data collection and quality"
      ]
    },
    {
      "cell_type": "code",
      "source": [],
      "metadata": {
        "id": "Rt53VGQ5ak33"
      },
      "id": "Rt53VGQ5ak33",
      "execution_count": null,
      "outputs": []
    },
    {
      "cell_type": "markdown",
      "id": "d3df7a0d",
      "metadata": {
        "id": "d3df7a0d"
      },
      "source": [
        "### 4) Primary analysis - ANOVA"
      ]
    },
    {
      "cell_type": "code",
      "source": [],
      "metadata": {
        "id": "QbICcOCcalTi"
      },
      "id": "QbICcOCcalTi",
      "execution_count": null,
      "outputs": []
    },
    {
      "cell_type": "markdown",
      "id": "3f8b8bcf",
      "metadata": {
        "id": "3f8b8bcf"
      },
      "source": [
        "### 5) Tukey, LSD"
      ]
    },
    {
      "cell_type": "code",
      "source": [],
      "metadata": {
        "id": "-F9XLNwlamiw"
      },
      "id": "-F9XLNwlamiw",
      "execution_count": null,
      "outputs": []
    },
    {
      "cell_type": "markdown",
      "id": "a522178e",
      "metadata": {
        "id": "a522178e"
      },
      "source": [
        "### 6) Assumptions and diagnostics"
      ]
    },
    {
      "cell_type": "code",
      "source": [],
      "metadata": {
        "id": "62EqOIr9arYv"
      },
      "id": "62EqOIr9arYv",
      "execution_count": null,
      "outputs": []
    },
    {
      "cell_type": "markdown",
      "id": "2b46ee79",
      "metadata": {
        "id": "2b46ee79"
      },
      "source": [
        "### 7) Post-study power/reflection"
      ]
    },
    {
      "cell_type": "code",
      "source": [],
      "metadata": {
        "id": "as8IdKOfar6t"
      },
      "id": "as8IdKOfar6t",
      "execution_count": null,
      "outputs": []
    },
    {
      "cell_type": "markdown",
      "id": "a5fb457c",
      "metadata": {
        "id": "a5fb457c"
      },
      "source": [
        "### 8) Alternative model - regression with quantitative factors"
      ]
    },
    {
      "cell_type": "code",
      "source": [],
      "metadata": {
        "id": "CoioaKW5asYO"
      },
      "id": "CoioaKW5asYO",
      "execution_count": null,
      "outputs": []
    },
    {
      "cell_type": "markdown",
      "id": "3f58a893",
      "metadata": {
        "id": "3f58a893"
      },
      "source": [
        "### 9) Conclusions"
      ]
    },
    {
      "cell_type": "code",
      "source": [],
      "metadata": {
        "id": "kLl6dwI4bIj2"
      },
      "id": "kLl6dwI4bIj2",
      "execution_count": null,
      "outputs": []
    },
    {
      "cell_type": "markdown",
      "source": [
        "### 10) (Optional) Estimate g`"
      ],
      "metadata": {
        "id": "jRadq6kba_C6"
      },
      "id": "jRadq6kba_C6"
    },
    {
      "cell_type": "code",
      "source": [],
      "metadata": {
        "id": "dDWWTP8abC4Q"
      },
      "id": "dDWWTP8abC4Q",
      "execution_count": null,
      "outputs": []
    }
  ],
  "metadata": {
    "colab": {
      "provenance": [],
      "include_colab_link": true
    },
    "language_info": {
      "name": "python"
    }
  },
  "nbformat": 4,
  "nbformat_minor": 5
}