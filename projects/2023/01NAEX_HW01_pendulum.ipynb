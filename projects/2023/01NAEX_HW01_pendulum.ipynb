{
  "cells": [
    {
      "cell_type": "markdown",
      "metadata": {
        "id": "view-in-github",
        "colab_type": "text"
      },
      "source": [
        "<a href=\"https://colab.research.google.com/github/francji1/01NAEX/blob/main/projects/01NAEX_HW01_pendulum.ipynb\" target=\"_parent\"><img src=\"https://colab.research.google.com/assets/colab-badge.svg\" alt=\"Open In Colab\"/></a>"
      ]
    },
    {
      "cell_type": "markdown",
      "id": "3651abbe",
      "metadata": {
        "id": "3651abbe"
      },
      "source": [
        "#01NAEX project 01\n",
        "\n",
        "*Add description of your Team*"
      ]
    },
    {
      "cell_type": "markdown",
      "id": "eb39016e",
      "metadata": {
        "id": "eb39016e"
      },
      "source": [
        "# Research task:\n",
        "\n",
        "The goal of this research task is to determine the effect of varying parameters on the frequency (or period) of a pendulum."
      ]
    },
    {
      "cell_type": "markdown",
      "id": "dcaf9c0e",
      "metadata": {
        "id": "dcaf9c0e"
      },
      "source": [
        "\n",
        "# Description:\n",
        "\n",
        "You have the same number of operators as team members. Each of you will run the experiment, i.e. pendulum swinging and frequency measurement.\n",
        "Each of you can choose different type of rope. You will measure with 3 different  lengths whose levels are 0.5m, 1m, 1.5m. Attach 1, 2, or 3 weights to the pendulum. Measure the frequency (or period) of the pendulum for each combination. In total, each operator will take 9 measurements.\n"
      ]
    },
    {
      "cell_type": "markdown",
      "id": "3fd047a6",
      "metadata": {
        "id": "3fd047a6"
      },
      "source": [
        "# Submission:\n",
        "\n",
        "Submit the elaborated measurement by October 23, 2023 in pdf/ Rmd /ipynb format (Python or R)."
      ]
    },
    {
      "cell_type": "markdown",
      "id": "e4db6442",
      "metadata": {
        "id": "e4db6442"
      },
      "source": [
        "\n",
        "# Questions:\n",
        "\n",
        "1. Measure the data and set up the experiment so that it is *randomized*. Be sure to record the order of the measurements, type of rope, number of weights, and the operator (member of the group taking the measurements) for each measurement. Each operator should conduct one measurement for each combination of rope length and number of weights.\"\n"
      ]
    },
    {
      "cell_type": "code",
      "source": [],
      "metadata": {
        "id": "zUDGKxzKVBvE"
      },
      "id": "zUDGKxzKVBvE",
      "execution_count": null,
      "outputs": []
    },
    {
      "cell_type": "markdown",
      "id": "9e03b080",
      "metadata": {
        "id": "9e03b080"
      },
      "source": [
        "\n",
        "2. Calculate the basic statistics (mean, median, and sd for each variable). Display the measured data (box plot, interaction plot, effects plot) and comment on what we can predict about the outcome from the given figures before the analysis.\n"
      ]
    },
    {
      "cell_type": "code",
      "source": [],
      "metadata": {
        "id": "xjP2BwZsVCPH"
      },
      "id": "xjP2BwZsVCPH",
      "execution_count": null,
      "outputs": []
    },
    {
      "cell_type": "markdown",
      "id": "e42fbc4d",
      "metadata": {
        "id": "e42fbc4d"
      },
      "source": [
        "\n",
        "3. Focus especially on the factors length of rope, and number of weights; operator with its own rope ype is a nuisance parameter. Run one-way analysis of variance for each factor separately. Are there significant differences in means of frequency (or period)? For each factor: perform Tukey HSD and Fisher LSD test for pairwise comparison of means of individual groups.\n"
      ]
    },
    {
      "cell_type": "code",
      "source": [],
      "metadata": {
        "id": "njM7XMyWVCxF"
      },
      "id": "njM7XMyWVCxF",
      "execution_count": null,
      "outputs": []
    },
    {
      "cell_type": "markdown",
      "id": "fa7c76b3",
      "metadata": {
        "id": "fa7c76b3"
      },
      "source": [
        "\n",
        "4. Analyse the data using ANOVA (take all variables as a factor).\n",
        "\n",
        "    * With the assumption that each of the participants in the experiment forms a block.\n",
        "    * Discuss results, verify assumptions, plot QQ-plot, residuals x fitted values, residuals x factor levels.\n",
        "    * Discuss the effect of the experimental design and the evolution of the residuals over time (order of measurements).\n",
        "    * If the measured data do not meet the assumptions for using ANOVA, discuss possible transformations (logarithmic, Box-Cox, ...) and the reason why the data do not meet the assumptions?\n"
      ]
    },
    {
      "cell_type": "code",
      "source": [],
      "metadata": {
        "id": "nQJbEpnVVDTV"
      },
      "id": "nQJbEpnVVDTV",
      "execution_count": null,
      "outputs": []
    },
    {
      "cell_type": "markdown",
      "id": "d3df7a0d",
      "metadata": {
        "id": "d3df7a0d"
      },
      "source": [
        "\n",
        "5. Choose one level of weights factor and *even if it does not meet the assumptions for using ANOVA*, solve the following:\n",
        "   * Calculate the power of the test in the ANOVA for 3 different lenghts of ropes and **n** operators.\n",
        "   * Assume the standard deviation of the disturbances to be a certain value for the experiment conducted\n",
        "     and the maximum (for us significant) difference we want to detect is a certain frequency difference.\n",
        "     Calculate the number of operators needed for the power of the resulting test to be greater than 0.9.\n"
      ]
    },
    {
      "cell_type": "code",
      "source": [],
      "metadata": {
        "id": "rYbiBM0dVDvR"
      },
      "id": "rYbiBM0dVDvR",
      "execution_count": null,
      "outputs": []
    },
    {
      "cell_type": "markdown",
      "id": "3f8b8bcf",
      "metadata": {
        "id": "3f8b8bcf"
      },
      "source": [
        "\n",
        "6. Create a regression model where you do not consider blocks and both length of the rope and number of weights are quantitative variables.\n",
        "      * Try to add a squared variable to the model and compare the two regression models with each other and select the more appropriate one.\n",
        "      * Check the assumptions for using the chosen model.\n"
      ]
    },
    {
      "cell_type": "code",
      "source": [],
      "metadata": {
        "id": "WjloZwiKVEKH"
      },
      "id": "WjloZwiKVEKH",
      "execution_count": null,
      "outputs": []
    },
    {
      "cell_type": "markdown",
      "id": "a522178e",
      "metadata": {
        "id": "a522178e"
      },
      "source": [
        "\n",
        "7. If you based your previous answers on the p-value, discuss following.  Does p-value provide a good measure of evidence regarding a model or hypothesis?"
      ]
    },
    {
      "cell_type": "code",
      "source": [],
      "metadata": {
        "id": "6iCx5MgVVExL"
      },
      "id": "6iCx5MgVVExL",
      "execution_count": null,
      "outputs": []
    },
    {
      "cell_type": "markdown",
      "id": "2b46ee79",
      "metadata": {
        "id": "2b46ee79"
      },
      "source": [
        "Note: In case the blocks are highly dominant and none of the other variables appear significant,\n",
        "      use only the \"operator with the best data for academic purposes\" for the resulting analysis."
      ]
    }
  ],
  "metadata": {
    "colab": {
      "provenance": [],
      "include_colab_link": true
    }
  },
  "nbformat": 4,
  "nbformat_minor": 5
}