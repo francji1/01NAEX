{
  "cells": [
    {
      "cell_type": "markdown",
      "metadata": {
        "id": "view-in-github",
        "colab_type": "text"
      },
      "source": [
        "<a href=\"https://colab.research.google.com/github/francji1/01NAEX/blob/main/projects/01naex_hw2_bridge_strength_experiment_finalising.ipynb\" target=\"_parent\"><img src=\"https://colab.research.google.com/assets/colab-badge.svg\" alt=\"Open In Colab\"/></a>"
      ]
    },
    {
      "cell_type": "markdown",
      "metadata": {
        "id": "e5e8ba8e"
      },
      "source": [
        "# 01NAEX - HW2: Paper Bridge Strength Experiment"
      ],
      "id": "e5e8ba8e"
    },
    {
      "cell_type": "markdown",
      "metadata": {
        "id": "d592b19b"
      },
      "source": [
        "**Team Name:**\n",
        " - Drocárová Soňa\n",
        " - Fucsiková Tereza\n",
        " - Kreanová Jazmína\n",
        " - Molnárová Soňa\n",
        " - Gaj Aleksej\n"
      ],
      "id": "d592b19b"
    },
    {
      "cell_type": "markdown",
      "metadata": {
        "id": "d0da3d99"
      },
      "source": [
        "## Assignment"
      ],
      "id": "d0da3d99"
    },
    {
      "cell_type": "markdown",
      "metadata": {
        "id": "9xg0tsbLzmrF"
      },
      "source": [
        "Design an experiment to measure the maximum weight a paper bridge can hold before collapsing, examining the dependence on 6 factors. Due to time constraints, you are encouraged to use a $\\frac{1}{2}$ fraction design: $2^{6-1}$ or a $\\frac{1}{4}$ fraction design: $2^{6-2}$, or a full factorial design.\n",
        "The response variable is the maximum weight the paper bridge can hold. The factors examined are:\n",
        " * Number of Paper Layers - 2 layers vs. 4 layers (numerical variable)\n",
        " * Bridge Length - Short vs. Long (numerical variable)\n",
        " * Bridge Width - Narrow vs. Wide (numerical variable)\n",
        " * Type of Construction - 1 fold vs. 3 folds (numerical variable)\n",
        " * Weight Distribution Method - Center load vs. Distributed load (factor variable)\n",
        " * The Height of the Bridge Above the Valley (numerical variable)\n",
        "\n",
        "Due to the nature of this experiment, consider safety and practical aspects of bridge construction and testing in a classroom setting."
      ],
      "id": "9xg0tsbLzmrF"
    },
    {
      "cell_type": "markdown",
      "metadata": {
        "id": "a8893415"
      },
      "source": [
        "## Experiment Design Questions"
      ],
      "id": "a8893415"
    },
    {
      "cell_type": "markdown",
      "metadata": {
        "id": "3445cae6"
      },
      "source": [
        "\n",
        "  1. How will you define the low and high levels for each variable, both numerical and factor? What and how will you record data?\n",
        "  2. What are the generators used in the design and why did you choose them? Explain the resolution and alias structure for the chosen design.\n",
        "  3. Calculate the individual effects and their interactions.\n",
        "  4. Determine which factors and their interactions appear significant. Use appropriate plots (main effects plot, interaction plot, boxplots) for data visualization.\n",
        "  5. Perform an analysis of variance and find a valid model for the experiment.\n",
        "  6. If feasible, incorporate measurements at the 'center points' of the numerical variables and analyze their effects.\n",
        "  7. Construct a regression model using the coded quantitative variables and any significant factor variables.\n",
        "  8. For two chosen numerical variables, create a contour plot to find the optimal values for maximizing bridge strength under the additional condition of 3 layers, minimal width 6cm and minimal length of 22 cm.\n",
        "  "
      ],
      "id": "3445cae6"
    },
    {
      "cell_type": "markdown",
      "metadata": {
        "id": "bc95332d"
      },
      "source": [
        "## Additional Notes"
      ],
      "id": "bc95332d"
    },
    {
      "cell_type": "markdown",
      "metadata": {
        "id": "9a17d7c5"
      },
      "source": [
        "\n",
        "  - Consider practical limitations of your classroom setting.\n",
        "  - Ensure that all measurements are taken randomly.\n",
        "  - Discuss the implications of your findings in the context of the experiment.\n",
        "  "
      ],
      "id": "9a17d7c5"
    },
    {
      "cell_type": "code",
      "execution_count": null,
      "metadata": {
        "colab": {
          "base_uri": "https://localhost:8080/"
        },
        "id": "pvRGF3CnNDKZ",
        "outputId": "175b2a4d-8a8e-429c-f74f-8d96c7322e58"
      },
      "outputs": [
        {
          "output_type": "stream",
          "name": "stdout",
          "text": [
            "Requirement already satisfied: rpy2 in /usr/local/lib/python3.10/dist-packages (3.4.2)\n",
            "Requirement already satisfied: cffi>=1.10.0 in /usr/local/lib/python3.10/dist-packages (from rpy2) (1.16.0)\n",
            "Requirement already satisfied: jinja2 in /usr/local/lib/python3.10/dist-packages (from rpy2) (3.1.2)\n",
            "Requirement already satisfied: pytz in /usr/local/lib/python3.10/dist-packages (from rpy2) (2023.3.post1)\n",
            "Requirement already satisfied: tzlocal in /usr/local/lib/python3.10/dist-packages (from rpy2) (5.2)\n",
            "Requirement already satisfied: pycparser in /usr/local/lib/python3.10/dist-packages (from cffi>=1.10.0->rpy2) (2.21)\n",
            "Requirement already satisfied: MarkupSafe>=2.0 in /usr/local/lib/python3.10/dist-packages (from jinja2->rpy2) (2.1.3)\n"
          ]
        }
      ],
      "source": [
        "# import R into Python\n",
        "!pip install rpy2"
      ],
      "id": "pvRGF3CnNDKZ"
    },
    {
      "cell_type": "code",
      "execution_count": null,
      "metadata": {
        "id": "lQOnVXWcNG5N",
        "colab": {
          "base_uri": "https://localhost:8080/"
        },
        "outputId": "a7fff97c-4f9a-4287-e2fb-91b7b69724cf"
      },
      "outputs": [
        {
          "output_type": "stream",
          "name": "stdout",
          "text": [
            "The rpy2.ipython extension is already loaded. To reload it, use:\n",
            "  %reload_ext rpy2.ipython\n"
          ]
        }
      ],
      "source": [
        "%load_ext rpy2.ipython"
      ],
      "id": "lQOnVXWcNG5N"
    },
    {
      "cell_type": "code",
      "execution_count": null,
      "metadata": {
        "colab": {
          "base_uri": "https://localhost:8080/"
        },
        "id": "y1O4B3sbrD2b",
        "outputId": "fabf26cf-21ff-446c-96ad-7d4e91577e4d"
      },
      "outputs": [
        {
          "output_type": "stream",
          "name": "stderr",
          "text": [
            "WARNING:rpy2.rinterface_lib.callbacks:R[write to console]: Installing package into ‘/usr/local/lib/R/site-library’\n",
            "(as ‘lib’ is unspecified)\n",
            "\n",
            "WARNING:rpy2.rinterface_lib.callbacks:R[write to console]: trying URL 'https://cran.rstudio.com/src/contrib/gmp_0.7-3.tar.gz'\n",
            "\n",
            "WARNING:rpy2.rinterface_lib.callbacks:R[write to console]: Content type 'application/x-gzip'\n",
            "WARNING:rpy2.rinterface_lib.callbacks:R[write to console]:  length 167426 bytes (163 KB)\n",
            "\n",
            "WARNING:rpy2.rinterface_lib.callbacks:R[write to console]: =\n",
            "WARNING:rpy2.rinterface_lib.callbacks:R[write to console]: =\n",
            "WARNING:rpy2.rinterface_lib.callbacks:R[write to console]: =\n",
            "WARNING:rpy2.rinterface_lib.callbacks:R[write to console]: =\n",
            "WARNING:rpy2.rinterface_lib.callbacks:R[write to console]: =\n",
            "WARNING:rpy2.rinterface_lib.callbacks:R[write to console]: =\n",
            "WARNING:rpy2.rinterface_lib.callbacks:R[write to console]: =\n",
            "WARNING:rpy2.rinterface_lib.callbacks:R[write to console]: =\n",
            "WARNING:rpy2.rinterface_lib.callbacks:R[write to console]: =\n",
            "WARNING:rpy2.rinterface_lib.callbacks:R[write to console]: =\n",
            "WARNING:rpy2.rinterface_lib.callbacks:R[write to console]: =\n",
            "WARNING:rpy2.rinterface_lib.callbacks:R[write to console]: =\n",
            "WARNING:rpy2.rinterface_lib.callbacks:R[write to console]: =\n",
            "WARNING:rpy2.rinterface_lib.callbacks:R[write to console]: =\n",
            "WARNING:rpy2.rinterface_lib.callbacks:R[write to console]: =\n",
            "WARNING:rpy2.rinterface_lib.callbacks:R[write to console]: =\n",
            "WARNING:rpy2.rinterface_lib.callbacks:R[write to console]: =\n",
            "WARNING:rpy2.rinterface_lib.callbacks:R[write to console]: =\n",
            "WARNING:rpy2.rinterface_lib.callbacks:R[write to console]: =\n",
            "WARNING:rpy2.rinterface_lib.callbacks:R[write to console]: =\n",
            "WARNING:rpy2.rinterface_lib.callbacks:R[write to console]: =\n",
            "WARNING:rpy2.rinterface_lib.callbacks:R[write to console]: =\n",
            "WARNING:rpy2.rinterface_lib.callbacks:R[write to console]: =\n",
            "WARNING:rpy2.rinterface_lib.callbacks:R[write to console]: =\n",
            "WARNING:rpy2.rinterface_lib.callbacks:R[write to console]: =\n",
            "WARNING:rpy2.rinterface_lib.callbacks:R[write to console]: =\n",
            "WARNING:rpy2.rinterface_lib.callbacks:R[write to console]: =\n",
            "WARNING:rpy2.rinterface_lib.callbacks:R[write to console]: =\n",
            "WARNING:rpy2.rinterface_lib.callbacks:R[write to console]: =\n",
            "WARNING:rpy2.rinterface_lib.callbacks:R[write to console]: =\n",
            "WARNING:rpy2.rinterface_lib.callbacks:R[write to console]: =\n",
            "WARNING:rpy2.rinterface_lib.callbacks:R[write to console]: =\n",
            "WARNING:rpy2.rinterface_lib.callbacks:R[write to console]: =\n",
            "WARNING:rpy2.rinterface_lib.callbacks:R[write to console]: =\n",
            "WARNING:rpy2.rinterface_lib.callbacks:R[write to console]: =\n",
            "WARNING:rpy2.rinterface_lib.callbacks:R[write to console]: =\n",
            "WARNING:rpy2.rinterface_lib.callbacks:R[write to console]: =\n",
            "WARNING:rpy2.rinterface_lib.callbacks:R[write to console]: =\n",
            "WARNING:rpy2.rinterface_lib.callbacks:R[write to console]: =\n",
            "WARNING:rpy2.rinterface_lib.callbacks:R[write to console]: =\n",
            "WARNING:rpy2.rinterface_lib.callbacks:R[write to console]: =\n",
            "WARNING:rpy2.rinterface_lib.callbacks:R[write to console]: =\n",
            "WARNING:rpy2.rinterface_lib.callbacks:R[write to console]: =\n",
            "WARNING:rpy2.rinterface_lib.callbacks:R[write to console]: =\n",
            "WARNING:rpy2.rinterface_lib.callbacks:R[write to console]: =\n",
            "WARNING:rpy2.rinterface_lib.callbacks:R[write to console]: =\n",
            "WARNING:rpy2.rinterface_lib.callbacks:R[write to console]: =\n",
            "WARNING:rpy2.rinterface_lib.callbacks:R[write to console]: =\n",
            "WARNING:rpy2.rinterface_lib.callbacks:R[write to console]: =\n",
            "WARNING:rpy2.rinterface_lib.callbacks:R[write to console]: =\n",
            "WARNING:rpy2.rinterface_lib.callbacks:R[write to console]: \n",
            "\n",
            "WARNING:rpy2.rinterface_lib.callbacks:R[write to console]: downloaded 163 KB\n",
            "\n",
            "\n",
            "WARNING:rpy2.rinterface_lib.callbacks:R[write to console]: \n",
            "\n",
            "WARNING:rpy2.rinterface_lib.callbacks:R[write to console]: \n",
            "WARNING:rpy2.rinterface_lib.callbacks:R[write to console]: The downloaded source packages are in\n",
            "\t‘/tmp/RtmpiJRn85/downloaded_packages’\n",
            "WARNING:rpy2.rinterface_lib.callbacks:R[write to console]: \n",
            "WARNING:rpy2.rinterface_lib.callbacks:R[write to console]: \n",
            "\n",
            "WARNING:rpy2.rinterface_lib.callbacks:R[write to console]: Installing package into ‘/usr/local/lib/R/site-library’\n",
            "(as ‘lib’ is unspecified)\n",
            "\n",
            "WARNING:rpy2.rinterface_lib.callbacks:R[write to console]: trying URL 'https://cran.rstudio.com/src/contrib/partitions_1.10-7.tar.gz'\n",
            "\n",
            "WARNING:rpy2.rinterface_lib.callbacks:R[write to console]: Content type 'application/x-gzip'\n",
            "WARNING:rpy2.rinterface_lib.callbacks:R[write to console]:  length 745639 bytes (728 KB)\n",
            "\n",
            "WARNING:rpy2.rinterface_lib.callbacks:R[write to console]: =\n",
            "WARNING:rpy2.rinterface_lib.callbacks:R[write to console]: =\n",
            "WARNING:rpy2.rinterface_lib.callbacks:R[write to console]: =\n",
            "WARNING:rpy2.rinterface_lib.callbacks:R[write to console]: =\n",
            "WARNING:rpy2.rinterface_lib.callbacks:R[write to console]: =\n",
            "WARNING:rpy2.rinterface_lib.callbacks:R[write to console]: =\n",
            "WARNING:rpy2.rinterface_lib.callbacks:R[write to console]: =\n",
            "WARNING:rpy2.rinterface_lib.callbacks:R[write to console]: =\n",
            "WARNING:rpy2.rinterface_lib.callbacks:R[write to console]: =\n",
            "WARNING:rpy2.rinterface_lib.callbacks:R[write to console]: =\n",
            "WARNING:rpy2.rinterface_lib.callbacks:R[write to console]: =\n",
            "WARNING:rpy2.rinterface_lib.callbacks:R[write to console]: =\n",
            "WARNING:rpy2.rinterface_lib.callbacks:R[write to console]: =\n",
            "WARNING:rpy2.rinterface_lib.callbacks:R[write to console]: =\n",
            "WARNING:rpy2.rinterface_lib.callbacks:R[write to console]: =\n",
            "WARNING:rpy2.rinterface_lib.callbacks:R[write to console]: =\n",
            "WARNING:rpy2.rinterface_lib.callbacks:R[write to console]: =\n",
            "WARNING:rpy2.rinterface_lib.callbacks:R[write to console]: =\n",
            "WARNING:rpy2.rinterface_lib.callbacks:R[write to console]: =\n",
            "WARNING:rpy2.rinterface_lib.callbacks:R[write to console]: =\n",
            "WARNING:rpy2.rinterface_lib.callbacks:R[write to console]: =\n",
            "WARNING:rpy2.rinterface_lib.callbacks:R[write to console]: =\n",
            "WARNING:rpy2.rinterface_lib.callbacks:R[write to console]: =\n",
            "WARNING:rpy2.rinterface_lib.callbacks:R[write to console]: =\n",
            "WARNING:rpy2.rinterface_lib.callbacks:R[write to console]: =\n",
            "WARNING:rpy2.rinterface_lib.callbacks:R[write to console]: =\n",
            "WARNING:rpy2.rinterface_lib.callbacks:R[write to console]: =\n",
            "WARNING:rpy2.rinterface_lib.callbacks:R[write to console]: =\n",
            "WARNING:rpy2.rinterface_lib.callbacks:R[write to console]: =\n",
            "WARNING:rpy2.rinterface_lib.callbacks:R[write to console]: =\n",
            "WARNING:rpy2.rinterface_lib.callbacks:R[write to console]: =\n",
            "WARNING:rpy2.rinterface_lib.callbacks:R[write to console]: =\n",
            "WARNING:rpy2.rinterface_lib.callbacks:R[write to console]: =\n",
            "WARNING:rpy2.rinterface_lib.callbacks:R[write to console]: =\n",
            "WARNING:rpy2.rinterface_lib.callbacks:R[write to console]: =\n",
            "WARNING:rpy2.rinterface_lib.callbacks:R[write to console]: =\n",
            "WARNING:rpy2.rinterface_lib.callbacks:R[write to console]: =\n",
            "WARNING:rpy2.rinterface_lib.callbacks:R[write to console]: =\n",
            "WARNING:rpy2.rinterface_lib.callbacks:R[write to console]: =\n",
            "WARNING:rpy2.rinterface_lib.callbacks:R[write to console]: =\n",
            "WARNING:rpy2.rinterface_lib.callbacks:R[write to console]: =\n",
            "WARNING:rpy2.rinterface_lib.callbacks:R[write to console]: =\n",
            "WARNING:rpy2.rinterface_lib.callbacks:R[write to console]: =\n",
            "WARNING:rpy2.rinterface_lib.callbacks:R[write to console]: =\n",
            "WARNING:rpy2.rinterface_lib.callbacks:R[write to console]: =\n",
            "WARNING:rpy2.rinterface_lib.callbacks:R[write to console]: =\n",
            "WARNING:rpy2.rinterface_lib.callbacks:R[write to console]: =\n",
            "WARNING:rpy2.rinterface_lib.callbacks:R[write to console]: =\n",
            "WARNING:rpy2.rinterface_lib.callbacks:R[write to console]: =\n",
            "WARNING:rpy2.rinterface_lib.callbacks:R[write to console]: =\n",
            "WARNING:rpy2.rinterface_lib.callbacks:R[write to console]: \n",
            "\n",
            "WARNING:rpy2.rinterface_lib.callbacks:R[write to console]: downloaded 728 KB\n",
            "\n",
            "\n",
            "WARNING:rpy2.rinterface_lib.callbacks:R[write to console]: \n",
            "\n",
            "WARNING:rpy2.rinterface_lib.callbacks:R[write to console]: \n",
            "WARNING:rpy2.rinterface_lib.callbacks:R[write to console]: The downloaded source packages are in\n",
            "\t‘/tmp/RtmpiJRn85/downloaded_packages’\n",
            "WARNING:rpy2.rinterface_lib.callbacks:R[write to console]: \n",
            "WARNING:rpy2.rinterface_lib.callbacks:R[write to console]: \n",
            "\n",
            "WARNING:rpy2.rinterface_lib.callbacks:R[write to console]: Installing package into ‘/usr/local/lib/R/site-library’\n",
            "(as ‘lib’ is unspecified)\n",
            "\n",
            "WARNING:rpy2.rinterface_lib.callbacks:R[write to console]: trying URL 'https://cran.rstudio.com/src/contrib/DoE.base_1.2-4.tar.gz'\n",
            "\n",
            "WARNING:rpy2.rinterface_lib.callbacks:R[write to console]: Content type 'application/x-gzip'\n",
            "WARNING:rpy2.rinterface_lib.callbacks:R[write to console]:  length 770065 bytes (752 KB)\n",
            "\n",
            "WARNING:rpy2.rinterface_lib.callbacks:R[write to console]: =\n",
            "WARNING:rpy2.rinterface_lib.callbacks:R[write to console]: =\n",
            "WARNING:rpy2.rinterface_lib.callbacks:R[write to console]: =\n",
            "WARNING:rpy2.rinterface_lib.callbacks:R[write to console]: =\n",
            "WARNING:rpy2.rinterface_lib.callbacks:R[write to console]: =\n",
            "WARNING:rpy2.rinterface_lib.callbacks:R[write to console]: =\n",
            "WARNING:rpy2.rinterface_lib.callbacks:R[write to console]: =\n",
            "WARNING:rpy2.rinterface_lib.callbacks:R[write to console]: =\n",
            "WARNING:rpy2.rinterface_lib.callbacks:R[write to console]: =\n",
            "WARNING:rpy2.rinterface_lib.callbacks:R[write to console]: =\n",
            "WARNING:rpy2.rinterface_lib.callbacks:R[write to console]: =\n",
            "WARNING:rpy2.rinterface_lib.callbacks:R[write to console]: =\n",
            "WARNING:rpy2.rinterface_lib.callbacks:R[write to console]: =\n",
            "WARNING:rpy2.rinterface_lib.callbacks:R[write to console]: =\n",
            "WARNING:rpy2.rinterface_lib.callbacks:R[write to console]: =\n",
            "WARNING:rpy2.rinterface_lib.callbacks:R[write to console]: =\n",
            "WARNING:rpy2.rinterface_lib.callbacks:R[write to console]: =\n",
            "WARNING:rpy2.rinterface_lib.callbacks:R[write to console]: =\n",
            "WARNING:rpy2.rinterface_lib.callbacks:R[write to console]: =\n",
            "WARNING:rpy2.rinterface_lib.callbacks:R[write to console]: =\n",
            "WARNING:rpy2.rinterface_lib.callbacks:R[write to console]: =\n",
            "WARNING:rpy2.rinterface_lib.callbacks:R[write to console]: =\n",
            "WARNING:rpy2.rinterface_lib.callbacks:R[write to console]: =\n",
            "WARNING:rpy2.rinterface_lib.callbacks:R[write to console]: =\n",
            "WARNING:rpy2.rinterface_lib.callbacks:R[write to console]: =\n",
            "WARNING:rpy2.rinterface_lib.callbacks:R[write to console]: =\n",
            "WARNING:rpy2.rinterface_lib.callbacks:R[write to console]: =\n",
            "WARNING:rpy2.rinterface_lib.callbacks:R[write to console]: =\n",
            "WARNING:rpy2.rinterface_lib.callbacks:R[write to console]: =\n",
            "WARNING:rpy2.rinterface_lib.callbacks:R[write to console]: =\n",
            "WARNING:rpy2.rinterface_lib.callbacks:R[write to console]: =\n",
            "WARNING:rpy2.rinterface_lib.callbacks:R[write to console]: =\n",
            "WARNING:rpy2.rinterface_lib.callbacks:R[write to console]: =\n",
            "WARNING:rpy2.rinterface_lib.callbacks:R[write to console]: =\n",
            "WARNING:rpy2.rinterface_lib.callbacks:R[write to console]: =\n",
            "WARNING:rpy2.rinterface_lib.callbacks:R[write to console]: =\n",
            "WARNING:rpy2.rinterface_lib.callbacks:R[write to console]: =\n",
            "WARNING:rpy2.rinterface_lib.callbacks:R[write to console]: =\n",
            "WARNING:rpy2.rinterface_lib.callbacks:R[write to console]: =\n",
            "WARNING:rpy2.rinterface_lib.callbacks:R[write to console]: =\n",
            "WARNING:rpy2.rinterface_lib.callbacks:R[write to console]: =\n",
            "WARNING:rpy2.rinterface_lib.callbacks:R[write to console]: =\n",
            "WARNING:rpy2.rinterface_lib.callbacks:R[write to console]: =\n",
            "WARNING:rpy2.rinterface_lib.callbacks:R[write to console]: =\n",
            "WARNING:rpy2.rinterface_lib.callbacks:R[write to console]: =\n",
            "WARNING:rpy2.rinterface_lib.callbacks:R[write to console]: =\n",
            "WARNING:rpy2.rinterface_lib.callbacks:R[write to console]: =\n",
            "WARNING:rpy2.rinterface_lib.callbacks:R[write to console]: =\n",
            "WARNING:rpy2.rinterface_lib.callbacks:R[write to console]: =\n",
            "WARNING:rpy2.rinterface_lib.callbacks:R[write to console]: =\n",
            "WARNING:rpy2.rinterface_lib.callbacks:R[write to console]: \n",
            "\n",
            "WARNING:rpy2.rinterface_lib.callbacks:R[write to console]: downloaded 752 KB\n",
            "\n",
            "\n",
            "WARNING:rpy2.rinterface_lib.callbacks:R[write to console]: \n",
            "\n",
            "WARNING:rpy2.rinterface_lib.callbacks:R[write to console]: \n",
            "WARNING:rpy2.rinterface_lib.callbacks:R[write to console]: The downloaded source packages are in\n",
            "\t‘/tmp/RtmpiJRn85/downloaded_packages’\n",
            "WARNING:rpy2.rinterface_lib.callbacks:R[write to console]: \n",
            "WARNING:rpy2.rinterface_lib.callbacks:R[write to console]: \n",
            "\n"
          ]
        },
        {
          "output_type": "stream",
          "name": "stdout",
          "text": [
            "[[1]]\n",
            " [1] \"pid\"         \"rsm\"         \"reticulate\"  \"FrF2\"        \"DoE.base\"   \n",
            " [6] \"conf.design\" \"grid\"        \"lattice\"     \"MASS\"        \"lubridate\"  \n",
            "[11] \"forcats\"     \"stringr\"     \"dplyr\"       \"purrr\"       \"readr\"      \n",
            "[16] \"tidyr\"       \"tibble\"      \"ggplot2\"     \"tidyverse\"   \"tools\"      \n",
            "[21] \"stats\"       \"graphics\"    \"grDevices\"   \"utils\"       \"datasets\"   \n",
            "[26] \"methods\"     \"base\"       \n",
            "\n",
            "[[2]]\n",
            " [1] \"pid\"         \"rsm\"         \"reticulate\"  \"FrF2\"        \"DoE.base\"   \n",
            " [6] \"conf.design\" \"grid\"        \"lattice\"     \"MASS\"        \"lubridate\"  \n",
            "[11] \"forcats\"     \"stringr\"     \"dplyr\"       \"purrr\"       \"readr\"      \n",
            "[16] \"tidyr\"       \"tibble\"      \"ggplot2\"     \"tidyverse\"   \"tools\"      \n",
            "[21] \"stats\"       \"graphics\"    \"grDevices\"   \"utils\"       \"datasets\"   \n",
            "[26] \"methods\"     \"base\"       \n",
            "\n",
            "[[3]]\n",
            " [1] \"pid\"         \"rsm\"         \"reticulate\"  \"FrF2\"        \"DoE.base\"   \n",
            " [6] \"conf.design\" \"grid\"        \"lattice\"     \"MASS\"        \"lubridate\"  \n",
            "[11] \"forcats\"     \"stringr\"     \"dplyr\"       \"purrr\"       \"readr\"      \n",
            "[16] \"tidyr\"       \"tibble\"      \"ggplot2\"     \"tidyverse\"   \"tools\"      \n",
            "[21] \"stats\"       \"graphics\"    \"grDevices\"   \"utils\"       \"datasets\"   \n",
            "[26] \"methods\"     \"base\"       \n",
            "\n",
            "[[4]]\n",
            " [1] \"pid\"         \"rsm\"         \"reticulate\"  \"FrF2\"        \"DoE.base\"   \n",
            " [6] \"conf.design\" \"grid\"        \"lattice\"     \"MASS\"        \"lubridate\"  \n",
            "[11] \"forcats\"     \"stringr\"     \"dplyr\"       \"purrr\"       \"readr\"      \n",
            "[16] \"tidyr\"       \"tibble\"      \"ggplot2\"     \"tidyverse\"   \"tools\"      \n",
            "[21] \"stats\"       \"graphics\"    \"grDevices\"   \"utils\"       \"datasets\"   \n",
            "[26] \"methods\"     \"base\"       \n",
            "\n",
            "[[5]]\n",
            " [1] \"pid\"         \"rsm\"         \"reticulate\"  \"FrF2\"        \"DoE.base\"   \n",
            " [6] \"conf.design\" \"grid\"        \"lattice\"     \"MASS\"        \"lubridate\"  \n",
            "[11] \"forcats\"     \"stringr\"     \"dplyr\"       \"purrr\"       \"readr\"      \n",
            "[16] \"tidyr\"       \"tibble\"      \"ggplot2\"     \"tidyverse\"   \"tools\"      \n",
            "[21] \"stats\"       \"graphics\"    \"grDevices\"   \"utils\"       \"datasets\"   \n",
            "[26] \"methods\"     \"base\"       \n",
            "\n",
            "[[6]]\n",
            " [1] \"pid\"         \"rsm\"         \"reticulate\"  \"FrF2\"        \"DoE.base\"   \n",
            " [6] \"conf.design\" \"grid\"        \"lattice\"     \"MASS\"        \"lubridate\"  \n",
            "[11] \"forcats\"     \"stringr\"     \"dplyr\"       \"purrr\"       \"readr\"      \n",
            "[16] \"tidyr\"       \"tibble\"      \"ggplot2\"     \"tidyverse\"   \"tools\"      \n",
            "[21] \"stats\"       \"graphics\"    \"grDevices\"   \"utils\"       \"datasets\"   \n",
            "[26] \"methods\"     \"base\"       \n",
            "\n",
            "[[7]]\n",
            " [1] \"pid\"         \"rsm\"         \"reticulate\"  \"FrF2\"        \"DoE.base\"   \n",
            " [6] \"conf.design\" \"grid\"        \"lattice\"     \"MASS\"        \"lubridate\"  \n",
            "[11] \"forcats\"     \"stringr\"     \"dplyr\"       \"purrr\"       \"readr\"      \n",
            "[16] \"tidyr\"       \"tibble\"      \"ggplot2\"     \"tidyverse\"   \"tools\"      \n",
            "[21] \"stats\"       \"graphics\"    \"grDevices\"   \"utils\"       \"datasets\"   \n",
            "[26] \"methods\"     \"base\"       \n",
            "\n"
          ]
        }
      ],
      "source": [
        "%%R\n",
        "list_of_packages <- c(\"tidyverse\",\"MASS\", \"lattice\", \"FrF2\", \"reticulate\", \"rsm\", \"pid\")\n",
        "missing_packages <- list_of_packages[!(list_of_packages %in% installed.packages()[,\"Package\"])]\n",
        "missing_packages\n",
        "\n",
        "system(\"sudo apt-get install libgmp-dev\")\n",
        "install.packages(\"gmp\")\n",
        "system(\"sudo apt-get install libgmp-dev\")\n",
        "install.packages(\"partitions\")\n",
        "system(\"sudo apt-get install libgmp-dev\")\n",
        "install.packages(\"DoE.base\")\n",
        "\n",
        "\n",
        "if(length(missing_packages)) install.packages(missing_packages)\n",
        "lapply(list_of_packages, library, character.only = TRUE)"
      ],
      "id": "y1O4B3sbrD2b"
    },
    {
      "cell_type": "markdown",
      "metadata": {
        "id": "2PcOk2YxXNzh"
      },
      "source": [
        "#1. How will you define the low and high levels for each variable, both numerical and factor? What and how will you record data?"
      ],
      "id": "2PcOk2YxXNzh"
    },
    {
      "cell_type": "markdown",
      "metadata": {
        "id": "5HqPeqJXXWmZ"
      },
      "source": [
        "* **(A) Bridge Width** (numerical variable): *low* 4.5 vs. *high* 6.5 \\[cm]\n",
        "* **(B) Number of Paper Layers** (numerical variable): *low* 1 vs. *hig*h 2\n",
        "* **(C) Type of construction** (numerical variable): *low* 3 vs. *high* 5 \\[folds]\n",
        "* **(D) Reinforcement - office clamps** (factor variable): *low* 0 = without clamps vs. *high* 1 = with clamps\n",
        "* **(E) Weight Distribution Method** (factor variable): *low* 0 = Center load vs. *high* 1 = Distributed load\n",
        "* **(F) Day of the experiment** (numerical variable): *low* 1 vs. *hig*h 2\n",
        "---\n",
        "* **Constants**: Bridge Height (3.5 cm), Bridge Length (3.5 cm), Props (2.5cm)\n",
        "* **Response**: The maximum number of batteries the paper bridge can hold\n",
        "---\n",
        "To design an experiment we are using the $\\frac{1}{2}$ fraction design: $2^{6-1}$."
      ],
      "id": "5HqPeqJXXWmZ"
    },
    {
      "cell_type": "code",
      "execution_count": null,
      "metadata": {
        "colab": {
          "base_uri": "https://localhost:8080/"
        },
        "id": "USWPCcTlXcV7",
        "outputId": "30087ff5-60dd-497e-b22d-784f8d69e545"
      },
      "outputs": [
        {
          "output_type": "stream",
          "name": "stdout",
          "text": [
            "  height width layers folds length clamps weight_distrib max_num_of_batteries\n",
            "1    3.5   4.5      1     5   24.5      0              0                    8\n",
            "2    3.5   4.5      1     5   24.5      0              1                    8\n",
            "3    3.5   4.5      1     5   24.5      1              1                    8\n",
            "4    3.5   4.5      1     5   24.5      1              0                    4\n",
            "5    3.5   4.5      2     5   24.5      0              1                   25\n",
            "6    3.5   4.5      2     5   24.5      0              0                   16\n",
            "  support_length exp_day\n",
            "1            2.5       2\n",
            "2            2.5       1\n",
            "3            2.5       2\n",
            "4            2.5       1\n",
            "5            2.5       2\n",
            "6            2.5       1\n"
          ]
        }
      ],
      "source": [
        "%%R\n",
        "url = \"https://gist.githubusercontent.com/aleksejalex/8c6f79713b6adab830b96974a9bf7aad/raw/965be061b72984f791ec8fee12a26e07d6a354ab/NAEX-bridge-CP.csv\"\n",
        "df_raw = read.table(url, header=TRUE, sep=\",\")\n",
        "head(df_raw)"
      ],
      "id": "USWPCcTlXcV7"
    },
    {
      "cell_type": "code",
      "execution_count": null,
      "metadata": {
        "colab": {
          "base_uri": "https://localhost:8080/"
        },
        "id": "sHp6cT9OXj7Y",
        "outputId": "3caee72c-8057-41c2-8cbc-eb915405fa04"
      },
      "outputs": [
        {
          "output_type": "stream",
          "name": "stdout",
          "text": [
            "  width layers folds clamps weight_distrib exp_day max_num_of_batteries\n",
            "1   4.5      1     5      0              0       2                    8\n",
            "2   4.5      1     5      0              1       1                    8\n",
            "3   4.5      1     5      1              1       2                    8\n",
            "4   4.5      1     5      1              0       1                    4\n",
            "5   4.5      2     5      0              1       2                   25\n",
            "6   4.5      2     5      0              0       1                   16\n"
          ]
        }
      ],
      "source": [
        "%%R\n",
        "# remove center points\n",
        "columns_to_keep <- c(2, 3, 4, 6, 7, 10, 8)\n",
        "rows_to_delete <- df_raw$width == 5.5\n",
        "df <- df_raw[!rows_to_delete, columns_to_keep]\n",
        "head(df)"
      ],
      "id": "sHp6cT9OXj7Y"
    },
    {
      "cell_type": "code",
      "execution_count": null,
      "metadata": {
        "colab": {
          "base_uri": "https://localhost:8080/"
        },
        "id": "bhNVs0rXXl5l",
        "outputId": "b4d5f639-7521-4bd0-8d87-152312ba2cbb"
      },
      "outputs": [
        {
          "output_type": "stream",
          "name": "stdout",
          "text": [
            "   width layers folds clamps weight_distrib exp_day max_num_of_batteries\n",
            "1    4.5      1     5      0              0       2                    8\n",
            "2    4.5      1     5      0              1       1                    8\n",
            "3    4.5      1     5      1              1       2                    8\n",
            "4    4.5      1     5      1              0       1                    4\n",
            "5    4.5      2     5      0              1       2                   25\n",
            "6    4.5      2     5      0              0       1                   16\n",
            "7    4.5      2     5      1              1       1                   28\n",
            "8    4.5      2     5      1              0       2                   13\n",
            "9    4.5      1     3      0              1       2                   26\n",
            "10   4.5      1     3      0              0       1                    6\n",
            "11   4.5      1     3      1              1       1                   12\n",
            "12   4.5      1     3      1              0       2                    2\n",
            "13   4.5      2     3      0              1       1                   36\n",
            "14   4.5      2     3      0              0       2                   25\n",
            "15   4.5      2     3      1              1       2                   48\n",
            "16   4.5      2     3      1              0       1                   17\n",
            "17   6.5      2     5      0              1       1                   36\n",
            "18   6.5      2     5      0              0       2                   15\n",
            "19   6.5      2     5      1              1       2                   24\n",
            "20   6.5      2     5      1              0       1                    6\n",
            "21   6.5      1     5      0              1       2                   22\n",
            "22   6.5      1     5      0              0       1                    5\n",
            "23   6.5      1     5      1              1       1                   10\n",
            "24   6.5      1     5      1              0       2                    5\n",
            "25   6.5      2     3      0              1       2                   45\n",
            "26   6.5      2     3      0              0       1                   13\n",
            "27   6.5      2     3      1              1       1                   18\n",
            "28   6.5      2     3      1              0       2                    9\n",
            "29   6.5      1     3      0              1       1                   26\n",
            "30   6.5      1     3      0              0       2                    8\n",
            "31   6.5      1     3      1              1       2                    9\n",
            "32   6.5      1     3      1              0       1                    2\n"
          ]
        }
      ],
      "source": [
        "%%R\n",
        "data <- df %>% transmute(width = as.factor(width),\n",
        "                          layers = as.factor(layers),\n",
        "                          folds = as.factor(folds),\n",
        "                          clamps = as.factor(clamps),\n",
        "                          weight_distrib = as.factor(weight_distrib),\n",
        "                          exp_day = as.factor(exp_day),\n",
        "                          max_num_of_batteries = as.numeric(max_num_of_batteries))\n",
        "\n",
        "print(data)"
      ],
      "id": "bhNVs0rXXl5l"
    },
    {
      "cell_type": "code",
      "execution_count": null,
      "metadata": {
        "colab": {
          "base_uri": "https://localhost:8080/"
        },
        "id": "GHDaIilaXnk_",
        "outputId": "9c6c3b8d-91b2-48cd-a2c5-3b490dd3962f"
      },
      "outputs": [
        {
          "output_type": "stream",
          "name": "stdout",
          "text": [
            "   width layers folds clamps weight_distrib exp_day max_num_of_batteries\n",
            "1     -1     -1    -1     -1             -1      -1                    8\n",
            "2      1     -1    -1     -1             -1       1                    8\n",
            "3     -1      1    -1     -1             -1       1                    8\n",
            "4      1      1    -1     -1             -1      -1                    4\n",
            "5     -1     -1     1     -1             -1       1                   25\n",
            "6      1     -1     1     -1             -1      -1                   16\n",
            "7     -1      1     1     -1             -1      -1                   28\n",
            "8      1      1     1     -1             -1       1                   13\n",
            "9     -1     -1    -1      1             -1       1                   26\n",
            "10     1     -1    -1      1             -1      -1                    6\n",
            "11    -1      1    -1      1             -1      -1                   12\n",
            "12     1      1    -1      1             -1       1                    2\n",
            "13    -1     -1     1      1             -1      -1                   36\n",
            "14     1     -1     1      1             -1       1                   25\n",
            "15    -1      1     1      1             -1       1                   48\n",
            "16     1      1     1      1             -1      -1                   17\n",
            "17    -1     -1    -1     -1              1       1                   36\n",
            "18     1     -1    -1     -1              1      -1                   15\n",
            "19    -1      1    -1     -1              1      -1                   24\n",
            "20     1      1    -1     -1              1       1                    6\n",
            "21    -1     -1     1     -1              1      -1                   22\n",
            "22     1     -1     1     -1              1       1                    5\n",
            "23    -1      1     1     -1              1       1                   10\n",
            "24     1      1     1     -1              1      -1                    5\n",
            "25    -1     -1    -1      1              1      -1                   45\n",
            "26     1     -1    -1      1              1       1                   13\n",
            "27    -1      1    -1      1              1       1                   18\n",
            "28     1      1    -1      1              1      -1                    9\n",
            "29    -1     -1     1      1              1       1                   26\n",
            "30     1     -1     1      1              1      -1                    8\n",
            "31    -1      1     1      1              1      -1                    9\n",
            "32     1      1     1      1              1       1                    2\n",
            "class=design, type= FrF2.generators \n"
          ]
        }
      ],
      "source": [
        "%%R\n",
        "m                         <- FrF2(2^(6-1), 6, replications = 1, randomize = FALSE, generators = c(\"ABCDE\"), factor.names = c(\"width\", \"layers\", \"folds\", \"clamps\", \"weight_distrib\", \"exp_day\"))\n",
        "num_of_bat                <- data[\"max_num_of_batteries\"]\n",
        "m                         <- add.response(m, num_of_bat)\n",
        "\n",
        "response.names(m)\n",
        "m"
      ],
      "id": "GHDaIilaXnk_"
    },
    {
      "cell_type": "markdown",
      "metadata": {
        "id": "cSOQp7GnXqQL"
      },
      "source": [
        "# 2. What are the generators used in the design and why did you choose them? Explain the resolution and alias structure for the chosen design.\n"
      ],
      "id": "cSOQp7GnXqQL"
    },
    {
      "cell_type": "markdown",
      "metadata": {
        "id": "n1_fkR5cXyqz"
      },
      "source": [
        "**Generators**\n",
        "\n",
        "The use of the generator will reduce the number of experimental runs, which grows exponentially as the number of factors and levels increases. This allows us to explore the factor space efficiently by choosing an informative subset of the full model. It is achieved by setting one factor at its high level. In our case, the generator was set up as ABCDE, which is a common choice for a $2^{6-1}$ factorial design. Which means F is set at its high level.\n",
        "\n",
        "\n",
        "\n",
        "**Resolution and Alias Structure**\n",
        "\n",
        "The resolution indicates how well the design can estimate the main effects and interactions. In our case, we have a Resolution V design, which means that two-factor interactions are aliased with three-factor interactions."
      ],
      "id": "n1_fkR5cXyqz"
    },
    {
      "cell_type": "markdown",
      "metadata": {
        "id": "phjKyLjKYE0X"
      },
      "source": [
        "# 3. Calculate the individual effects and their interactions."
      ],
      "id": "phjKyLjKYE0X"
    },
    {
      "cell_type": "code",
      "execution_count": null,
      "metadata": {
        "colab": {
          "base_uri": "https://localhost:8080/"
        },
        "id": "mCcfTjy6YHkF",
        "outputId": "051733e7-ac93-41c7-83b2-17fe726c3f0d"
      },
      "outputs": [
        {
          "output_type": "stream",
          "name": "stdout",
          "text": [
            "                                                        Effects\n",
            "(Intercept)                                             33.4375\n",
            "width1                                                 -14.1875\n",
            "layers1                                                 -6.5625\n",
            "folds1                                                   3.4375\n",
            "clamps1                                                  4.3125\n",
            "weight_distrib1                                         -1.8125\n",
            "exp_day1                                                 0.4375\n",
            "width1:layers1                                           1.8125\n",
            "width1:folds1                                            0.0625\n",
            "layers1:folds1                                           2.6875\n",
            "width1:clamps1                                          -3.0625\n",
            "layers1:clamps1                                         -1.9375\n",
            "folds1:clamps1                                           1.5625\n",
            "width1:weight_distrib1                                  -1.6875\n",
            "layers1:weight_distrib1                                 -4.3125\n",
            "folds1:weight_distrib1                                 -13.3125\n",
            "clamps1:weight_distrib1                                 -3.4375\n",
            "width1:exp_day1                                         -1.1875\n",
            "layers1:exp_day1                                        -0.5625\n",
            "folds1:exp_day1                                          1.1875\n",
            "clamps1:exp_day1                                         1.8125\n",
            "weight_distrib1:exp_day1                                -3.0625\n",
            "width1:layers1:folds1                                   -2.1875\n",
            "width1:layers1:clamps1                                   1.1875\n",
            "width1:folds1:clamps1                                    0.4375\n",
            "layers1:folds1:clamps1                                   1.0625\n",
            "width1:layers1:weight_distrib1                           4.3125\n",
            "width1:folds1:weight_distrib1                            4.0625\n",
            "layers1:folds1:weight_distrib1                          -0.5625\n",
            "width1:clamps1:weight_distrib1                           2.4375\n",
            "layers1:clamps1:weight_distrib1                         -0.6875\n",
            "folds1:clamps1:weight_distrib1                          -1.6875\n",
            "width1:layers1:exp_day1                                      NA\n",
            "width1:folds1:exp_day1                                       NA\n",
            "layers1:folds1:exp_day1                                      NA\n",
            "width1:clamps1:exp_day1                                      NA\n",
            "layers1:clamps1:exp_day1                                     NA\n",
            "folds1:clamps1:exp_day1                                      NA\n",
            "width1:weight_distrib1:exp_day1                              NA\n",
            "layers1:weight_distrib1:exp_day1                             NA\n",
            "folds1:weight_distrib1:exp_day1                              NA\n",
            "clamps1:weight_distrib1:exp_day1                             NA\n",
            "width1:layers1:folds1:clamps1                                NA\n",
            "width1:layers1:folds1:weight_distrib1                        NA\n",
            "width1:layers1:clamps1:weight_distrib1                       NA\n",
            "width1:folds1:clamps1:weight_distrib1                        NA\n",
            "layers1:folds1:clamps1:weight_distrib1                       NA\n",
            "width1:layers1:folds1:exp_day1                               NA\n",
            "width1:layers1:clamps1:exp_day1                              NA\n",
            "width1:folds1:clamps1:exp_day1                               NA\n",
            "layers1:folds1:clamps1:exp_day1                              NA\n",
            "width1:layers1:weight_distrib1:exp_day1                      NA\n",
            "width1:folds1:weight_distrib1:exp_day1                       NA\n",
            "layers1:folds1:weight_distrib1:exp_day1                      NA\n",
            "width1:clamps1:weight_distrib1:exp_day1                      NA\n",
            "layers1:clamps1:weight_distrib1:exp_day1                     NA\n",
            "folds1:clamps1:weight_distrib1:exp_day1                      NA\n",
            "width1:layers1:folds1:clamps1:weight_distrib1                NA\n",
            "width1:layers1:folds1:clamps1:exp_day1                       NA\n",
            "width1:layers1:folds1:weight_distrib1:exp_day1               NA\n",
            "width1:layers1:clamps1:weight_distrib1:exp_day1              NA\n",
            "width1:folds1:clamps1:weight_distrib1:exp_day1               NA\n",
            "layers1:folds1:clamps1:weight_distrib1:exp_day1              NA\n",
            "width1:layers1:folds1:clamps1:weight_distrib1:exp_day1       NA\n"
          ]
        }
      ],
      "source": [
        "%%R\n",
        "lm_coeffs <- lm(max_num_of_batteries ~ width*layers*folds*clamps*weight_distrib*exp_day, data=m)\n",
        "effects <-as.data.frame(2*lm_coeffs$coefficients)\n",
        "names(effects)[1] <- 'Effects'\n",
        "effects"
      ],
      "id": "mCcfTjy6YHkF"
    },
    {
      "cell_type": "markdown",
      "metadata": {
        "id": "4RkpcaMLYOVH"
      },
      "source": [
        "# 4. Determine which factors and their interactions appear significant. Use appropriate plots (main effects plot, interaction plot, boxplots) for data visualization."
      ],
      "id": "4RkpcaMLYOVH"
    },
    {
      "cell_type": "code",
      "execution_count": null,
      "metadata": {
        "colab": {
          "base_uri": "https://localhost:8080/",
          "height": 497
        },
        "id": "K4paw7fIqv95",
        "outputId": "117f80c7-16b3-4523-d547-d638cb155ac2"
      },
      "outputs": [
        {
          "output_type": "display_data",
          "data": {
            "image/png": "[encoded data removed]"
          },
          "metadata": {}
        }
      ],
      "source": [
        "%%R\n",
        "MEPlot(m)"
      ],
      "id": "K4paw7fIqv95"
    },
    {
      "cell_type": "markdown",
      "metadata": {
        "id": "JJcHvfJ1qywN"
      },
      "source": [
        "Main effects plot suggests, that factors width and layers have the biggest effect on the maximum weight."
      ],
      "id": "JJcHvfJ1qywN"
    },
    {
      "cell_type": "code",
      "execution_count": null,
      "metadata": {
        "colab": {
          "base_uri": "https://localhost:8080/",
          "height": 497
        },
        "id": "bO1eZWMOq3BA",
        "outputId": "d7a1262f-7ff1-4e51-8202-cbdfb7e3298b"
      },
      "outputs": [
        {
          "output_type": "display_data",
          "data": {
            "image/png": "[encoded data removed]"
          },
          "metadata": {}
        }
      ],
      "source": [
        "%%R\n",
        "IAPlot(m)"
      ],
      "id": "bO1eZWMOq3BA"
    },
    {
      "cell_type": "markdown",
      "metadata": {
        "id": "oUa2Cc1xq6ww"
      },
      "source": [
        "The interaction plot suggest there might be some interaction between weight distribution and all clamps, number of folds layers and experiment day. Another possible interaction suggested by the plot is between clamps and experiment day"
      ],
      "id": "oUa2Cc1xq6ww"
    },
    {
      "cell_type": "code",
      "execution_count": null,
      "metadata": {
        "colab": {
          "base_uri": "https://localhost:8080/",
          "height": 497
        },
        "id": "75UGLcS_q_uD",
        "outputId": "b8118f94-5354-4654-f027-bc7dfcb7afeb"
      },
      "outputs": [
        {
          "output_type": "display_data",
          "data": {
            "image/png": "[encoded data removed]"
          },
          "metadata": {}
        }
      ],
      "source": [
        "%%R\n",
        "par(mfrow=c(2,3))\n",
        "boxplot(m$max_num_of_batteries ~ m$width, main = \"Width\")\n",
        "boxplot(m$max_num_of_batteries ~ m$layers, main = \"Layers\")\n",
        "boxplot(m$max_num_of_batteries ~ m$folds, main = \"Folds\")\n",
        "boxplot(m$max_num_of_batteries ~ m$clamps, main = \"Clamps\")\n",
        "boxplot(m$max_num_of_batteries ~ m$weight_distrib, main = \"Weight Distribution\")\n",
        "boxplot(m$max_num_of_batteries ~ m$exp_day, main = \"Experiment Day\")"
      ],
      "id": "75UGLcS_q_uD"
    },
    {
      "cell_type": "markdown",
      "metadata": {
        "id": "Fi8OfpA6rDel"
      },
      "source": [
        "There appears to be a difference in the median number of batteries supported at the two levels of width. There also seems to be slight difference in the median values for the number of layers, with the higher level supporting more batteries."
      ],
      "id": "Fi8OfpA6rDel"
    },
    {
      "cell_type": "markdown",
      "metadata": {
        "id": "FH5m8l1tYTKb"
      },
      "source": [
        "# 5. Perform an analysis of variance and find a valid model for the experiment."
      ],
      "id": "FH5m8l1tYTKb"
    },
    {
      "cell_type": "code",
      "execution_count": null,
      "metadata": {
        "colab": {
          "base_uri": "https://localhost:8080/"
        },
        "id": "sCLseh35stpA",
        "outputId": "080ac9f5-9bd2-4a88-e7df-11be28cf3d7c"
      },
      "outputs": [
        {
          "output_type": "stream",
          "name": "stdout",
          "text": [
            "                       Df Sum Sq Mean Sq F value   Pr(>F)    \n",
            "width                   1 1610.3  1610.3  38.564 0.000100 ***\n",
            "layers                  1  344.5   344.5   8.251 0.016599 *  \n",
            "folds                   1   94.5    94.5   2.264 0.163333    \n",
            "clamps                  1  148.8   148.8   3.563 0.088409 .  \n",
            "weight_distrib          1   26.3    26.3   0.629 0.445992    \n",
            "exp_day                 1    1.5     1.5   0.037 0.851969    \n",
            "width:layers            1   26.3    26.3   0.629 0.445992    \n",
            "width:folds             1    0.0     0.0   0.001 0.978713    \n",
            "width:clamps            1   75.0    75.0   1.797 0.209747    \n",
            "width:weight_distrib    1   22.8    22.8   0.546 0.477108    \n",
            "width:exp_day           1   11.3    11.3   0.270 0.614529    \n",
            "layers:folds            1   57.8    57.8   1.384 0.266702    \n",
            "layers:clamps           1   30.0    30.0   0.719 0.416242    \n",
            "layers:weight_distrib   1  148.8   148.8   3.563 0.088409 .  \n",
            "layers:exp_day          1    2.5     2.5   0.061 0.810499    \n",
            "folds:clamps            1   19.5    19.5   0.468 0.509564    \n",
            "folds:weight_distrib    1 1417.8  1417.8  33.954 0.000167 ***\n",
            "folds:exp_day           1   11.3    11.3   0.270 0.614529    \n",
            "clamps:weight_distrib   1   94.5    94.5   2.264 0.163333    \n",
            "clamps:exp_day          1   26.3    26.3   0.629 0.445992    \n",
            "weight_distrib:exp_day  1   75.0    75.0   1.797 0.209747    \n",
            "Residuals              10  417.6    41.8                     \n",
            "---\n",
            "Signif. codes:  0 ‘***’ 0.001 ‘**’ 0.01 ‘*’ 0.05 ‘.’ 0.1 ‘ ’ 1\n"
          ]
        }
      ],
      "source": [
        "%%R\n",
        "summary(lm_full<-lm(max_num_of_batteries ~ (width+layers+folds+clamps+weight_distrib+exp_day)^2, data=m))\n",
        "lm_full %>% aov %>% summary"
      ],
      "id": "sCLseh35stpA"
    },
    {
      "cell_type": "code",
      "execution_count": null,
      "metadata": {
        "colab": {
          "base_uri": "https://localhost:8080/"
        },
        "id": "ssFft0bls5SB",
        "outputId": "727dab21-cd07-4ebc-e59b-007f647b23ee"
      },
      "outputs": [
        {
          "output_type": "stream",
          "name": "stdout",
          "text": [
            "                      Df Sum Sq Mean Sq F value   Pr(>F)    \n",
            "width                  1 1610.3  1610.3  44.345 6.90e-07 ***\n",
            "layers                 1  344.5   344.5   9.488  0.00512 ** \n",
            "clamps                 1  148.8   148.8   4.097  0.05422 .  \n",
            "weight_distrib         1   26.3    26.3   0.724  0.40332    \n",
            "folds                  1   94.5    94.5   2.603  0.11972    \n",
            "weight_distrib:folds   1 1417.8  1417.8  39.044 1.86e-06 ***\n",
            "layers:weight_distrib  1  148.8   148.8   4.097  0.05422 .  \n",
            "Residuals             24  871.5    36.3                     \n",
            "---\n",
            "Signif. codes:  0 ‘***’ 0.001 ‘**’ 0.01 ‘*’ 0.05 ‘.’ 0.1 ‘ ’ 1\n"
          ]
        }
      ],
      "source": [
        "%%R\n",
        "lm_reduced<-lm(max_num_of_batteries~width+layers+clamps+weight_distrib+folds+folds:weight_distrib+layers:weight_distrib,data=m)\n",
        "lm_reduced %>% aov %>% summary"
      ],
      "id": "ssFft0bls5SB"
    },
    {
      "cell_type": "code",
      "execution_count": null,
      "metadata": {
        "colab": {
          "base_uri": "https://localhost:8080/"
        },
        "id": "PvIPzlrYs5dt",
        "outputId": "8e83e629-7543-49f8-a920-1a54a9afcc61"
      },
      "outputs": [
        {
          "output_type": "stream",
          "name": "stdout",
          "text": [
            "\n",
            "Call:\n",
            "lm.default(formula = max_num_of_batteries ~ width + layers + \n",
            "    clamps + weight_distrib + folds + folds:weight_distrib + \n",
            "    layers:weight_distrib, data = m)\n",
            "\n",
            "Residuals:\n",
            "    Min      1Q  Median      3Q     Max \n",
            "-8.2500 -3.0469 -0.7813  3.0469 13.8750 \n",
            "\n",
            "Coefficients:\n",
            "                        Estimate Std. Error t value Pr(>|t|)    \n",
            "(Intercept)              16.7187     1.0653  15.695 4.04e-14 ***\n",
            "width1                   -7.0938     1.0653  -6.659 6.90e-07 ***\n",
            "layers1                  -3.2812     1.0653  -3.080  0.00512 ** \n",
            "clamps1                   2.1563     1.0653   2.024  0.05422 .  \n",
            "weight_distrib1          -0.9062     1.0653  -0.851  0.40332    \n",
            "folds1                    1.7188     1.0653   1.613  0.11972    \n",
            "weight_distrib1:folds1   -6.6563     1.0653  -6.249 1.86e-06 ***\n",
            "layers1:weight_distrib1  -2.1563     1.0653  -2.024  0.05422 .  \n",
            "---\n",
            "Signif. codes:  0 ‘***’ 0.001 ‘**’ 0.01 ‘*’ 0.05 ‘.’ 0.1 ‘ ’ 1\n",
            "\n",
            "Residual standard error: 6.026 on 24 degrees of freedom\n",
            "Multiple R-squared:  0.8131,\tAdjusted R-squared:  0.7586 \n",
            "F-statistic: 14.91 on 7 and 24 DF,  p-value: 2.384e-07\n",
            "\n"
          ]
        }
      ],
      "source": [
        "%%R\n",
        "summary(lm_reduced)"
      ],
      "id": "PvIPzlrYs5dt"
    },
    {
      "cell_type": "code",
      "execution_count": null,
      "metadata": {
        "colab": {
          "base_uri": "https://localhost:8080/"
        },
        "id": "Yr73gcMltArB",
        "outputId": "962bc52f-a3c3-4e07-86b0-57eced225a41"
      },
      "outputs": [
        {
          "output_type": "stream",
          "name": "stdout",
          "text": [
            "NULL\n"
          ]
        }
      ],
      "source": [
        "%%R\n",
        "# full_model <- lm(max_num_of_batteries ~ (width + layers + folds + clamps + weight_distribution + experiment_day)^2, data=m)\n",
        "\n",
        "# # Perform backward selection using BIC instead of AIC\n",
        "# backward_model_bic <- stepAIC(full_model, direction=\"backward\", k=log(nrow(df)))"
      ],
      "id": "Yr73gcMltArB"
    },
    {
      "cell_type": "code",
      "execution_count": null,
      "metadata": {
        "colab": {
          "base_uri": "https://localhost:8080/"
        },
        "id": "9oLW6jmNtA2M",
        "outputId": "226c58e3-be58-414e-804f-725db6d5ac6d"
      },
      "outputs": [
        {
          "output_type": "stream",
          "name": "stdout",
          "text": [
            "NULL\n"
          ]
        }
      ],
      "source": [
        "%%R\n",
        "# summary(backward_model_bic)\n",
        "# backward_model_bic%>% aov %>% summary"
      ],
      "id": "9oLW6jmNtA2M"
    },
    {
      "cell_type": "markdown",
      "metadata": {
        "id": "0ER8oeu0YTbr"
      },
      "source": [
        "# 6. If feasible, incorporate measurements at the 'center points' of the numerical variables and analyze their effects."
      ],
      "id": "0ER8oeu0YTbr"
    },
    {
      "cell_type": "code",
      "execution_count": null,
      "metadata": {
        "colab": {
          "base_uri": "https://localhost:8080/"
        },
        "id": "KHtD6A2BtTDn",
        "outputId": "ec6a82a9-d378-40fd-b7fa-4ec91a05e7a0"
      },
      "outputs": [
        {
          "output_type": "stream",
          "name": "stdout",
          "text": [
            "   width layers folds clamps weight_distrib max_num_of_batteries exp_day\n",
            "1    4.5      1     5      0              0                    8       2\n",
            "2    4.5      1     5      0              1                    8       1\n",
            "3    4.5      1     5      1              1                    8       2\n",
            "4    4.5      1     5      1              0                    4       1\n",
            "5    4.5      2     5      0              1                   25       2\n",
            "6    4.5      2     5      0              0                   16       1\n",
            "7    4.5      2     5      1              1                   28       1\n",
            "8    4.5      2     5      1              0                   13       2\n",
            "9    4.5      1     3      0              1                   26       2\n",
            "10   4.5      1     3      0              0                    6       1\n",
            "11   4.5      1     3      1              1                   12       1\n",
            "12   4.5      1     3      1              0                    2       2\n",
            "13   4.5      2     3      0              1                   36       1\n",
            "14   4.5      2     3      0              0                   25       2\n",
            "15   4.5      2     3      1              1                   48       2\n",
            "16   4.5      2     3      1              0                   17       1\n",
            "17   6.5      2     5      0              1                   36       1\n",
            "18   6.5      2     5      0              0                   15       2\n",
            "19   6.5      2     5      1              1                   24       2\n",
            "20   6.5      2     5      1              0                    6       1\n",
            "21   6.5      1     5      0              1                   22       2\n",
            "22   6.5      1     5      0              0                    5       1\n",
            "23   6.5      1     5      1              1                   10       1\n",
            "24   6.5      1     5      1              0                    5       2\n",
            "25   6.5      2     3      0              1                   45       2\n",
            "26   6.5      2     3      0              0                   13       1\n",
            "27   6.5      2     3      1              1                   18       1\n",
            "28   6.5      2     3      1              0                    9       2\n",
            "29   6.5      1     3      0              1                   26       1\n",
            "30   6.5      1     3      0              0                    8       2\n",
            "31   6.5      1     3      1              1                    9       2\n",
            "32   6.5      1     3      1              0                    2       1\n",
            "33   5.5      1     4      0              0                    6       1\n",
            "34   5.5      1     4      0              1                   20       1\n",
            "35   5.5      1     4      1              0                    6       1\n",
            "36   5.5      1     4      1              1                   14       1\n",
            "37   5.5      2     4      0              0                   20       1\n",
            "38   5.5      2     4      0              1                   27       1\n",
            "39   5.5      2     4      1              0                   13       1\n",
            "40   5.5      2     4      1              1                   34       1\n"
          ]
        }
      ],
      "source": [
        "%%R\n",
        "# Create a dataframe containing center points\n",
        "df_new = df_raw[, c(2, 3, 4, 6, 7, 8, 10)]\n",
        "\n",
        "# Define factors\n",
        "df_new[, c(4, 5, 7)] = lapply(df_new[, c(4, 5, 7)], as.factor)\n",
        "df_new"
      ],
      "id": "KHtD6A2BtTDn"
    },
    {
      "cell_type": "code",
      "execution_count": null,
      "metadata": {
        "colab": {
          "base_uri": "https://localhost:8080/"
        },
        "id": "RSjCuFV6tTP2",
        "outputId": "a44ee024-b81c-40bc-97f1-30faf1ef7def"
      },
      "outputs": [
        {
          "output_type": "stream",
          "name": "stdout",
          "text": [
            "                       Df Sum Sq Mean Sq F value   Pr(>F)    \n",
            "width                   1   26.3    26.3   1.003  0.32982    \n",
            "layers                  1 1703.0  1703.0  65.006 2.19e-07 ***\n",
            "folds                   1  148.8   148.8   5.679  0.02839 *  \n",
            "clamps                  1  308.0   308.0  11.758  0.00299 ** \n",
            "weight_distrib          1 1918.2  1918.2  73.220 9.28e-08 ***\n",
            "exp_day                 1   50.4    50.4   1.924  0.18231    \n",
            "width:layers            1   94.5    94.5   3.608  0.07364 .  \n",
            "width:folds             1   94.5    94.5   3.608  0.07364 .  \n",
            "width:clamps            1  148.8   148.8   5.679  0.02839 *  \n",
            "width:weight_distrib    1   22.8    22.8   0.870  0.36341    \n",
            "width:exp_day           1    1.5     1.5   0.058  0.81170    \n",
            "layers:folds            1   22.8    22.8   0.870  0.36341    \n",
            "layers:clamps           1    5.6     5.6   0.215  0.64865    \n",
            "layers:weight_distrib   1  126.0   126.0   4.810  0.04166 *  \n",
            "layers:exp_day          1   14.0    14.0   0.535  0.47392    \n",
            "folds:clamps            1   30.0    30.0   1.146  0.29847    \n",
            "folds:weight_distrib    1   75.0    75.0   2.864  0.10782    \n",
            "folds:exp_day           1   38.3    38.3   1.461  0.24238    \n",
            "clamps:weight_distrib   1   11.0    11.0   0.421  0.52471    \n",
            "clamps:exp_day          1   14.0    14.0   0.535  0.47392    \n",
            "weight_distrib:exp_day  1   13.1    13.1   0.499  0.48908    \n",
            "Residuals              18  471.6    26.2                     \n",
            "---\n",
            "Signif. codes:  0 ‘***’ 0.001 ‘**’ 0.01 ‘*’ 0.05 ‘.’ 0.1 ‘ ’ 1\n"
          ]
        }
      ],
      "source": [
        "%%R\n",
        "# ANOVA\n",
        "lm_center = lm(max_num_of_batteries ~ .^2, data = df_new)\n",
        "lm_center %>% aov %>% summary"
      ],
      "id": "RSjCuFV6tTP2"
    },
    {
      "cell_type": "code",
      "execution_count": null,
      "metadata": {
        "colab": {
          "base_uri": "https://localhost:8080/"
        },
        "id": "YAT0prIitTYJ",
        "outputId": "d83d6761-ea8d-4533-cef7-2abf97e0ceb2"
      },
      "outputs": [
        {
          "output_type": "stream",
          "name": "stdout",
          "text": [
            "                      Df Sum Sq Mean Sq F value   Pr(>F)    \n",
            "width                  1   26.3    26.3   0.877  0.35611    \n",
            "layers                 1 1703.0  1703.0  56.813 1.39e-08 ***\n",
            "folds                  1  148.8   148.8   4.963  0.03304 *  \n",
            "clamps                 1  308.0   308.0  10.276  0.00305 ** \n",
            "weight_distrib         1 1918.2  1918.2  63.992 3.93e-09 ***\n",
            "layers:weight_distrib  1  126.0   126.0   4.204  0.04859 *  \n",
            "width:clamps           1  148.8   148.8   4.963  0.03304 *  \n",
            "Residuals             32  959.2    30.0                     \n",
            "---\n",
            "Signif. codes:  0 ‘***’ 0.001 ‘**’ 0.01 ‘*’ 0.05 ‘.’ 0.1 ‘ ’ 1\n"
          ]
        }
      ],
      "source": [
        "%%R\n",
        "# Extract the significant effects\n",
        "lm_center = lm(max_num_of_batteries ~ width + layers + folds + clamps + weight_distrib + layers:weight_distrib + width:clamps, data = df_new)\n",
        "lm_center %>% aov %>% summary"
      ],
      "id": "YAT0prIitTYJ"
    },
    {
      "cell_type": "markdown",
      "metadata": {
        "id": "I06HH7jutTsC"
      },
      "source": [
        "Outside of `clamps`, `weight_distrib` and `exp_day` it seemed useful to consider the variables as numeric. After adding center points, the only significant effects were observed in variables `layers`, `weight_distrib`, `clamps` and `folds` provided that we are cunducting the analysis on significance level of 0.05. Interactions `width:clamps` and `layers:weight_distrib` were also recognized as significant."
      ],
      "id": "I06HH7jutTsC"
    },
    {
      "cell_type": "markdown",
      "metadata": {
        "id": "eWpofTt1YTtQ"
      },
      "source": [
        "# 7. Construct a regression model using the coded quantitative variables and any significant factor variables."
      ],
      "id": "eWpofTt1YTtQ"
    },
    {
      "cell_type": "code",
      "execution_count": null,
      "metadata": {
        "colab": {
          "base_uri": "https://localhost:8080/"
        },
        "id": "MV9JspKMOXBd",
        "outputId": "7d3a2cae-d480-412f-848d-256a65665d63"
      },
      "outputs": [
        {
          "output_type": "stream",
          "name": "stdout",
          "text": [
            "Requirement already satisfied: statsmodels in /usr/local/lib/python3.10/dist-packages (0.14.0)\n",
            "Requirement already satisfied: numpy>=1.18 in /usr/local/lib/python3.10/dist-packages (from statsmodels) (1.23.5)\n",
            "Requirement already satisfied: scipy!=1.9.2,>=1.4 in /usr/local/lib/python3.10/dist-packages (from statsmodels) (1.11.4)\n",
            "Requirement already satisfied: pandas>=1.0 in /usr/local/lib/python3.10/dist-packages (from statsmodels) (1.5.3)\n",
            "Requirement already satisfied: patsy>=0.5.2 in /usr/local/lib/python3.10/dist-packages (from statsmodels) (0.5.3)\n",
            "Requirement already satisfied: packaging>=21.3 in /usr/local/lib/python3.10/dist-packages (from statsmodels) (23.2)\n",
            "Requirement already satisfied: python-dateutil>=2.8.1 in /usr/local/lib/python3.10/dist-packages (from pandas>=1.0->statsmodels) (2.8.2)\n",
            "Requirement already satisfied: pytz>=2020.1 in /usr/local/lib/python3.10/dist-packages (from pandas>=1.0->statsmodels) (2023.3.post1)\n",
            "Requirement already satisfied: six in /usr/local/lib/python3.10/dist-packages (from patsy>=0.5.2->statsmodels) (1.16.0)\n"
          ]
        }
      ],
      "source": [
        "!pip install --upgrade statsmodels"
      ],
      "id": "MV9JspKMOXBd"
    },
    {
      "cell_type": "code",
      "execution_count": null,
      "metadata": {
        "id": "YoB08a5pOe0v"
      },
      "outputs": [],
      "source": [
        "# imports\n",
        "import numpy as np\n",
        "import scipy as scp\n",
        "import statsmodels as sm\n",
        "import statsmodels.api as sma\n",
        "import statsmodels.formula.api as smf\n",
        "import seaborn as sbn\n",
        "import matplotlib.pyplot as plt\n",
        "import pandas as pd\n",
        "from scipy import stats"
      ],
      "id": "YoB08a5pOe0v"
    },
    {
      "cell_type": "code",
      "execution_count": null,
      "metadata": {
        "colab": {
          "base_uri": "https://localhost:8080/",
          "height": 206
        },
        "id": "EmCeQifPOeg0",
        "outputId": "31433071-78cc-4757-de22-5244309fcbe9"
      },
      "outputs": [
        {
          "output_type": "execute_result",
          "data": {
            "text/plain": [
              "   height  width  layers  folds  length  clamps  weight_distrib  \\\n",
              "0     3.5    4.5       1      5    24.5       0               0   \n",
              "1     3.5    4.5       1      5    24.5       0               1   \n",
              "2     3.5    4.5       1      5    24.5       1               1   \n",
              "3     3.5    4.5       1      5    24.5       1               0   \n",
              "4     3.5    4.5       2      5    24.5       0               1   \n",
              "\n",
              "   max_num_of_batteries  support_length  exp_day  \n",
              "0                     8             2.5        2  \n",
              "1                     8             2.5        1  \n",
              "2                     8             2.5        2  \n",
              "3                     4             2.5        1  \n",
              "4                    25             2.5        2  "
            ],
            "text/html": [
              "\n",
              "  <div id=\"df-22ee0637-099e-4274-ac27-71a3698b90c4\" class=\"colab-df-container\">\n",
              "    <div>\n",
              "<style scoped>\n",
              "    .dataframe tbody tr th:only-of-type {\n",
              "        vertical-align: middle;\n",
              "    }\n",
              "\n",
              "    .dataframe tbody tr th {\n",
              "        vertical-align: top;\n",
              "    }\n",
              "\n",
              "    .dataframe thead th {\n",
              "        text-align: right;\n",
              "    }\n",
              "</style>\n",
              "<table border=\"1\" class=\"dataframe\">\n",
              "  <thead>\n",
              "    <tr style=\"text-align: right;\">\n",
              "      <th></th>\n",
              "      <th>height</th>\n",
              "      <th>width</th>\n",
              "      <th>layers</th>\n",
              "      <th>folds</th>\n",
              "      <th>length</th>\n",
              "      <th>clamps</th>\n",
              "      <th>weight_distrib</th>\n",
              "      <th>max_num_of_batteries</th>\n",
              "      <th>support_length</th>\n",
              "      <th>exp_day</th>\n",
              "    </tr>\n",
              "  </thead>\n",
              "  <tbody>\n",
              "    <tr>\n",
              "      <th>0</th>\n",
              "      <td>3.5</td>\n",
              "      <td>4.5</td>\n",
              "      <td>1</td>\n",
              "      <td>5</td>\n",
              "      <td>24.5</td>\n",
              "      <td>0</td>\n",
              "      <td>0</td>\n",
              "      <td>8</td>\n",
              "      <td>2.5</td>\n",
              "      <td>2</td>\n",
              "    </tr>\n",
              "    <tr>\n",
              "      <th>1</th>\n",
              "      <td>3.5</td>\n",
              "      <td>4.5</td>\n",
              "      <td>1</td>\n",
              "      <td>5</td>\n",
              "      <td>24.5</td>\n",
              "      <td>0</td>\n",
              "      <td>1</td>\n",
              "      <td>8</td>\n",
              "      <td>2.5</td>\n",
              "      <td>1</td>\n",
              "    </tr>\n",
              "    <tr>\n",
              "      <th>2</th>\n",
              "      <td>3.5</td>\n",
              "      <td>4.5</td>\n",
              "      <td>1</td>\n",
              "      <td>5</td>\n",
              "      <td>24.5</td>\n",
              "      <td>1</td>\n",
              "      <td>1</td>\n",
              "      <td>8</td>\n",
              "      <td>2.5</td>\n",
              "      <td>2</td>\n",
              "    </tr>\n",
              "    <tr>\n",
              "      <th>3</th>\n",
              "      <td>3.5</td>\n",
              "      <td>4.5</td>\n",
              "      <td>1</td>\n",
              "      <td>5</td>\n",
              "      <td>24.5</td>\n",
              "      <td>1</td>\n",
              "      <td>0</td>\n",
              "      <td>4</td>\n",
              "      <td>2.5</td>\n",
              "      <td>1</td>\n",
              "    </tr>\n",
              "    <tr>\n",
              "      <th>4</th>\n",
              "      <td>3.5</td>\n",
              "      <td>4.5</td>\n",
              "      <td>2</td>\n",
              "      <td>5</td>\n",
              "      <td>24.5</td>\n",
              "      <td>0</td>\n",
              "      <td>1</td>\n",
              "      <td>25</td>\n",
              "      <td>2.5</td>\n",
              "      <td>2</td>\n",
              "    </tr>\n",
              "  </tbody>\n",
              "</table>\n",
              "</div>\n",
              "    <div class=\"colab-df-buttons\">\n",
              "\n",
              "  <div class=\"colab-df-container\">\n",
              "    <button class=\"colab-df-convert\" onclick=\"convertToInteractive('df-22ee0637-099e-4274-ac27-71a3698b90c4')\"\n",
              "            title=\"Convert this dataframe to an interactive table.\"\n",
              "            style=\"display:none;\">\n",
              "\n",
              "  <svg xmlns=\"http://www.w3.org/2000/svg\" height=\"24px\" viewBox=\"0 -960 960 960\">\n",
              "    <path d=\"M120-120v-720h720v720H120Zm60-500h600v-160H180v160Zm220 220h160v-160H400v160Zm0 220h160v-160H400v160ZM180-400h160v-160H180v160Zm440 0h160v-160H620v160ZM180-180h160v-160H180v160Zm440 0h160v-160H620v160Z\"/>\n",
              "  </svg>\n",
              "    </button>\n",
              "\n",
              "  <style>\n",
              "    .colab-df-container {\n",
              "      display:flex;\n",
              "      gap: 12px;\n",
              "    }\n",
              "\n",
              "    .colab-df-convert {\n",
              "      background-color: #E8F0FE;\n",
              "      border: none;\n",
              "      border-radius: 50%;\n",
              "      cursor: pointer;\n",
              "      display: none;\n",
              "      fill: #1967D2;\n",
              "      height: 32px;\n",
              "      padding: 0 0 0 0;\n",
              "      width: 32px;\n",
              "    }\n",
              "\n",
              "    .colab-df-convert:hover {\n",
              "      background-color: #E2EBFA;\n",
              "      box-shadow: 0px 1px 2px rgba(60, 64, 67, 0.3), 0px 1px 3px 1px rgba(60, 64, 67, 0.15);\n",
              "      fill: #174EA6;\n",
              "    }\n",
              "\n",
              "    .colab-df-buttons div {\n",
              "      margin-bottom: 4px;\n",
              "    }\n",
              "\n",
              "    [theme=dark] .colab-df-convert {\n",
              "      background-color: #3B4455;\n",
              "      fill: #D2E3FC;\n",
              "    }\n",
              "\n",
              "    [theme=dark] .colab-df-convert:hover {\n",
              "      background-color: #434B5C;\n",
              "      box-shadow: 0px 1px 3px 1px rgba(0, 0, 0, 0.15);\n",
              "      filter: drop-shadow(0px 1px 2px rgba(0, 0, 0, 0.3));\n",
              "      fill: #FFFFFF;\n",
              "    }\n",
              "  </style>\n",
              "\n",
              "    <script>\n",
              "      const buttonEl =\n",
              "        document.querySelector('#df-22ee0637-099e-4274-ac27-71a3698b90c4 button.colab-df-convert');\n",
              "      buttonEl.style.display =\n",
              "        google.colab.kernel.accessAllowed ? 'block' : 'none';\n",
              "\n",
              "      async function convertToInteractive(key) {\n",
              "        const element = document.querySelector('#df-22ee0637-099e-4274-ac27-71a3698b90c4');\n",
              "        const dataTable =\n",
              "          await google.colab.kernel.invokeFunction('convertToInteractive',\n",
              "                                                    [key], {});\n",
              "        if (!dataTable) return;\n",
              "\n",
              "        const docLinkHtml = 'Like what you see? Visit the ' +\n",
              "          '<a target=\"_blank\" href=https://colab.research.google.com/notebooks/data_table.ipynb>data table notebook</a>'\n",
              "          + ' to learn more about interactive tables.';\n",
              "        element.innerHTML = '';\n",
              "        dataTable['output_type'] = 'display_data';\n",
              "        await google.colab.output.renderOutput(dataTable, element);\n",
              "        const docLink = document.createElement('div');\n",
              "        docLink.innerHTML = docLinkHtml;\n",
              "        element.appendChild(docLink);\n",
              "      }\n",
              "    </script>\n",
              "  </div>\n",
              "\n",
              "\n",
              "<div id=\"df-b9133a52-29e7-4f21-a1b1-8a0dcccf3c61\">\n",
              "  <button class=\"colab-df-quickchart\" onclick=\"quickchart('df-b9133a52-29e7-4f21-a1b1-8a0dcccf3c61')\"\n",
              "            title=\"Suggest charts\"\n",
              "            style=\"display:none;\">\n",
              "\n",
              "<svg xmlns=\"http://www.w3.org/2000/svg\" height=\"24px\"viewBox=\"0 0 24 24\"\n",
              "     width=\"24px\">\n",
              "    <g>\n",
              "        <path d=\"M19 3H5c-1.1 0-2 .9-2 2v14c0 1.1.9 2 2 2h14c1.1 0 2-.9 2-2V5c0-1.1-.9-2-2-2zM9 17H7v-7h2v7zm4 0h-2V7h2v10zm4 0h-2v-4h2v4z\"/>\n",
              "    </g>\n",
              "</svg>\n",
              "  </button>\n",
              "\n",
              "<style>\n",
              "  .colab-df-quickchart {\n",
              "      --bg-color: #E8F0FE;\n",
              "      --fill-color: #1967D2;\n",
              "      --hover-bg-color: #E2EBFA;\n",
              "      --hover-fill-color: #174EA6;\n",
              "      --disabled-fill-color: #AAA;\n",
              "      --disabled-bg-color: #DDD;\n",
              "  }\n",
              "\n",
              "  [theme=dark] .colab-df-quickchart {\n",
              "      --bg-color: #3B4455;\n",
              "      --fill-color: #D2E3FC;\n",
              "      --hover-bg-color: #434B5C;\n",
              "      --hover-fill-color: #FFFFFF;\n",
              "      --disabled-bg-color: #3B4455;\n",
              "      --disabled-fill-color: #666;\n",
              "  }\n",
              "\n",
              "  .colab-df-quickchart {\n",
              "    background-color: var(--bg-color);\n",
              "    border: none;\n",
              "    border-radius: 50%;\n",
              "    cursor: pointer;\n",
              "    display: none;\n",
              "    fill: var(--fill-color);\n",
              "    height: 32px;\n",
              "    padding: 0;\n",
              "    width: 32px;\n",
              "  }\n",
              "\n",
              "  .colab-df-quickchart:hover {\n",
              "    background-color: var(--hover-bg-color);\n",
              "    box-shadow: 0 1px 2px rgba(60, 64, 67, 0.3), 0 1px 3px 1px rgba(60, 64, 67, 0.15);\n",
              "    fill: var(--button-hover-fill-color);\n",
              "  }\n",
              "\n",
              "  .colab-df-quickchart-complete:disabled,\n",
              "  .colab-df-quickchart-complete:disabled:hover {\n",
              "    background-color: var(--disabled-bg-color);\n",
              "    fill: var(--disabled-fill-color);\n",
              "    box-shadow: none;\n",
              "  }\n",
              "\n",
              "  .colab-df-spinner {\n",
              "    border: 2px solid var(--fill-color);\n",
              "    border-color: transparent;\n",
              "    border-bottom-color: var(--fill-color);\n",
              "    animation:\n",
              "      spin 1s steps(1) infinite;\n",
              "  }\n",
              "\n",
              "  @keyframes spin {\n",
              "    0% {\n",
              "      border-color: transparent;\n",
              "      border-bottom-color: var(--fill-color);\n",
              "      border-left-color: var(--fill-color);\n",
              "    }\n",
              "    20% {\n",
              "      border-color: transparent;\n",
              "      border-left-color: var(--fill-color);\n",
              "      border-top-color: var(--fill-color);\n",
              "    }\n",
              "    30% {\n",
              "      border-color: transparent;\n",
              "      border-left-color: var(--fill-color);\n",
              "      border-top-color: var(--fill-color);\n",
              "      border-right-color: var(--fill-color);\n",
              "    }\n",
              "    40% {\n",
              "      border-color: transparent;\n",
              "      border-right-color: var(--fill-color);\n",
              "      border-top-color: var(--fill-color);\n",
              "    }\n",
              "    60% {\n",
              "      border-color: transparent;\n",
              "      border-right-color: var(--fill-color);\n",
              "    }\n",
              "    80% {\n",
              "      border-color: transparent;\n",
              "      border-right-color: var(--fill-color);\n",
              "      border-bottom-color: var(--fill-color);\n",
              "    }\n",
              "    90% {\n",
              "      border-color: transparent;\n",
              "      border-bottom-color: var(--fill-color);\n",
              "    }\n",
              "  }\n",
              "</style>\n",
              "\n",
              "  <script>\n",
              "    async function quickchart(key) {\n",
              "      const quickchartButtonEl =\n",
              "        document.querySelector('#' + key + ' button');\n",
              "      quickchartButtonEl.disabled = true;  // To prevent multiple clicks.\n",
              "      quickchartButtonEl.classList.add('colab-df-spinner');\n",
              "      try {\n",
              "        const charts = await google.colab.kernel.invokeFunction(\n",
              "            'suggestCharts', [key], {});\n",
              "      } catch (error) {\n",
              "        console.error('Error during call to suggestCharts:', error);\n",
              "      }\n",
              "      quickchartButtonEl.classList.remove('colab-df-spinner');\n",
              "      quickchartButtonEl.classList.add('colab-df-quickchart-complete');\n",
              "    }\n",
              "    (() => {\n",
              "      let quickchartButtonEl =\n",
              "        document.querySelector('#df-b9133a52-29e7-4f21-a1b1-8a0dcccf3c61 button');\n",
              "      quickchartButtonEl.style.display =\n",
              "        google.colab.kernel.accessAllowed ? 'block' : 'none';\n",
              "    })();\n",
              "  </script>\n",
              "</div>\n",
              "    </div>\n",
              "  </div>\n"
            ]
          },
          "metadata": {},
          "execution_count": 70
        }
      ],
      "source": [
        "url = \"https://gist.githubusercontent.com/aleksejalex/8c6f79713b6adab830b96974a9bf7aad/raw/965be061b72984f791ec8fee12a26e07d6a354ab/NAEX-bridge-CP.csv\"\n",
        "\n",
        "data = pd.read_csv(url)\n",
        "data.head(5)"
      ],
      "id": "EmCeQifPOeg0"
    },
    {
      "cell_type": "code",
      "execution_count": null,
      "metadata": {
        "colab": {
          "base_uri": "https://localhost:8080/",
          "height": 300
        },
        "id": "aDeha_V4OeNE",
        "outputId": "10d03e25-e713-4571-d891-187e1f374e6d"
      },
      "outputs": [
        {
          "output_type": "execute_result",
          "data": {
            "text/plain": [
              "       height      width    layers      folds  length    clamps  \\\n",
              "count    40.0  40.000000  40.00000  40.000000    40.0  40.00000   \n",
              "mean      3.5   5.500000   1.50000   4.000000    24.5   0.50000   \n",
              "std       0.0   0.905822   0.50637   0.905822     0.0   0.50637   \n",
              "min       3.5   4.500000   1.00000   3.000000    24.5   0.00000   \n",
              "25%       3.5   4.500000   1.00000   3.000000    24.5   0.00000   \n",
              "50%       3.5   5.500000   1.50000   4.000000    24.5   0.50000   \n",
              "75%       3.5   6.500000   2.00000   5.000000    24.5   1.00000   \n",
              "max       3.5   6.500000   2.00000   5.000000    24.5   1.00000   \n",
              "\n",
              "       weight_distrib  max_num_of_batteries  support_length    exp_day  \n",
              "count        40.00000             40.000000            40.0  40.000000  \n",
              "mean          0.50000             16.875000             2.5   1.400000  \n",
              "std           0.50637             11.699633             0.0   0.496139  \n",
              "min           0.00000              2.000000             2.5   1.000000  \n",
              "25%           0.00000              8.000000             2.5   1.000000  \n",
              "50%           0.50000             13.500000             2.5   1.000000  \n",
              "75%           1.00000             25.000000             2.5   2.000000  \n",
              "max           1.00000             48.000000             2.5   2.000000  "
            ],
            "text/html": [
              "\n",
              "  <div id=\"df-8f79080f-7396-486f-95e2-179e95d423e7\" class=\"colab-df-container\">\n",
              "    <div>\n",
              "<style scoped>\n",
              "    .dataframe tbody tr th:only-of-type {\n",
              "        vertical-align: middle;\n",
              "    }\n",
              "\n",
              "    .dataframe tbody tr th {\n",
              "        vertical-align: top;\n",
              "    }\n",
              "\n",
              "    .dataframe thead th {\n",
              "        text-align: right;\n",
              "    }\n",
              "</style>\n",
              "<table border=\"1\" class=\"dataframe\">\n",
              "  <thead>\n",
              "    <tr style=\"text-align: right;\">\n",
              "      <th></th>\n",
              "      <th>height</th>\n",
              "      <th>width</th>\n",
              "      <th>layers</th>\n",
              "      <th>folds</th>\n",
              "      <th>length</th>\n",
              "      <th>clamps</th>\n",
              "      <th>weight_distrib</th>\n",
              "      <th>max_num_of_batteries</th>\n",
              "      <th>support_length</th>\n",
              "      <th>exp_day</th>\n",
              "    </tr>\n",
              "  </thead>\n",
              "  <tbody>\n",
              "    <tr>\n",
              "      <th>count</th>\n",
              "      <td>40.0</td>\n",
              "      <td>40.000000</td>\n",
              "      <td>40.00000</td>\n",
              "      <td>40.000000</td>\n",
              "      <td>40.0</td>\n",
              "      <td>40.00000</td>\n",
              "      <td>40.00000</td>\n",
              "      <td>40.000000</td>\n",
              "      <td>40.0</td>\n",
              "      <td>40.000000</td>\n",
              "    </tr>\n",
              "    <tr>\n",
              "      <th>mean</th>\n",
              "      <td>3.5</td>\n",
              "      <td>5.500000</td>\n",
              "      <td>1.50000</td>\n",
              "      <td>4.000000</td>\n",
              "      <td>24.5</td>\n",
              "      <td>0.50000</td>\n",
              "      <td>0.50000</td>\n",
              "      <td>16.875000</td>\n",
              "      <td>2.5</td>\n",
              "      <td>1.400000</td>\n",
              "    </tr>\n",
              "    <tr>\n",
              "      <th>std</th>\n",
              "      <td>0.0</td>\n",
              "      <td>0.905822</td>\n",
              "      <td>0.50637</td>\n",
              "      <td>0.905822</td>\n",
              "      <td>0.0</td>\n",
              "      <td>0.50637</td>\n",
              "      <td>0.50637</td>\n",
              "      <td>11.699633</td>\n",
              "      <td>0.0</td>\n",
              "      <td>0.496139</td>\n",
              "    </tr>\n",
              "    <tr>\n",
              "      <th>min</th>\n",
              "      <td>3.5</td>\n",
              "      <td>4.500000</td>\n",
              "      <td>1.00000</td>\n",
              "      <td>3.000000</td>\n",
              "      <td>24.5</td>\n",
              "      <td>0.00000</td>\n",
              "      <td>0.00000</td>\n",
              "      <td>2.000000</td>\n",
              "      <td>2.5</td>\n",
              "      <td>1.000000</td>\n",
              "    </tr>\n",
              "    <tr>\n",
              "      <th>25%</th>\n",
              "      <td>3.5</td>\n",
              "      <td>4.500000</td>\n",
              "      <td>1.00000</td>\n",
              "      <td>3.000000</td>\n",
              "      <td>24.5</td>\n",
              "      <td>0.00000</td>\n",
              "      <td>0.00000</td>\n",
              "      <td>8.000000</td>\n",
              "      <td>2.5</td>\n",
              "      <td>1.000000</td>\n",
              "    </tr>\n",
              "    <tr>\n",
              "      <th>50%</th>\n",
              "      <td>3.5</td>\n",
              "      <td>5.500000</td>\n",
              "      <td>1.50000</td>\n",
              "      <td>4.000000</td>\n",
              "      <td>24.5</td>\n",
              "      <td>0.50000</td>\n",
              "      <td>0.50000</td>\n",
              "      <td>13.500000</td>\n",
              "      <td>2.5</td>\n",
              "      <td>1.000000</td>\n",
              "    </tr>\n",
              "    <tr>\n",
              "      <th>75%</th>\n",
              "      <td>3.5</td>\n",
              "      <td>6.500000</td>\n",
              "      <td>2.00000</td>\n",
              "      <td>5.000000</td>\n",
              "      <td>24.5</td>\n",
              "      <td>1.00000</td>\n",
              "      <td>1.00000</td>\n",
              "      <td>25.000000</td>\n",
              "      <td>2.5</td>\n",
              "      <td>2.000000</td>\n",
              "    </tr>\n",
              "    <tr>\n",
              "      <th>max</th>\n",
              "      <td>3.5</td>\n",
              "      <td>6.500000</td>\n",
              "      <td>2.00000</td>\n",
              "      <td>5.000000</td>\n",
              "      <td>24.5</td>\n",
              "      <td>1.00000</td>\n",
              "      <td>1.00000</td>\n",
              "      <td>48.000000</td>\n",
              "      <td>2.5</td>\n",
              "      <td>2.000000</td>\n",
              "    </tr>\n",
              "  </tbody>\n",
              "</table>\n",
              "</div>\n",
              "    <div class=\"colab-df-buttons\">\n",
              "\n",
              "  <div class=\"colab-df-container\">\n",
              "    <button class=\"colab-df-convert\" onclick=\"convertToInteractive('df-8f79080f-7396-486f-95e2-179e95d423e7')\"\n",
              "            title=\"Convert this dataframe to an interactive table.\"\n",
              "            style=\"display:none;\">\n",
              "\n",
              "  <svg xmlns=\"http://www.w3.org/2000/svg\" height=\"24px\" viewBox=\"0 -960 960 960\">\n",
              "    <path d=\"M120-120v-720h720v720H120Zm60-500h600v-160H180v160Zm220 220h160v-160H400v160Zm0 220h160v-160H400v160ZM180-400h160v-160H180v160Zm440 0h160v-160H620v160ZM180-180h160v-160H180v160Zm440 0h160v-160H620v160Z\"/>\n",
              "  </svg>\n",
              "    </button>\n",
              "\n",
              "  <style>\n",
              "    .colab-df-container {\n",
              "      display:flex;\n",
              "      gap: 12px;\n",
              "    }\n",
              "\n",
              "    .colab-df-convert {\n",
              "      background-color: #E8F0FE;\n",
              "      border: none;\n",
              "      border-radius: 50%;\n",
              "      cursor: pointer;\n",
              "      display: none;\n",
              "      fill: #1967D2;\n",
              "      height: 32px;\n",
              "      padding: 0 0 0 0;\n",
              "      width: 32px;\n",
              "    }\n",
              "\n",
              "    .colab-df-convert:hover {\n",
              "      background-color: #E2EBFA;\n",
              "      box-shadow: 0px 1px 2px rgba(60, 64, 67, 0.3), 0px 1px 3px 1px rgba(60, 64, 67, 0.15);\n",
              "      fill: #174EA6;\n",
              "    }\n",
              "\n",
              "    .colab-df-buttons div {\n",
              "      margin-bottom: 4px;\n",
              "    }\n",
              "\n",
              "    [theme=dark] .colab-df-convert {\n",
              "      background-color: #3B4455;\n",
              "      fill: #D2E3FC;\n",
              "    }\n",
              "\n",
              "    [theme=dark] .colab-df-convert:hover {\n",
              "      background-color: #434B5C;\n",
              "      box-shadow: 0px 1px 3px 1px rgba(0, 0, 0, 0.15);\n",
              "      filter: drop-shadow(0px 1px 2px rgba(0, 0, 0, 0.3));\n",
              "      fill: #FFFFFF;\n",
              "    }\n",
              "  </style>\n",
              "\n",
              "    <script>\n",
              "      const buttonEl =\n",
              "        document.querySelector('#df-8f79080f-7396-486f-95e2-179e95d423e7 button.colab-df-convert');\n",
              "      buttonEl.style.display =\n",
              "        google.colab.kernel.accessAllowed ? 'block' : 'none';\n",
              "\n",
              "      async function convertToInteractive(key) {\n",
              "        const element = document.querySelector('#df-8f79080f-7396-486f-95e2-179e95d423e7');\n",
              "        const dataTable =\n",
              "          await google.colab.kernel.invokeFunction('convertToInteractive',\n",
              "                                                    [key], {});\n",
              "        if (!dataTable) return;\n",
              "\n",
              "        const docLinkHtml = 'Like what you see? Visit the ' +\n",
              "          '<a target=\"_blank\" href=https://colab.research.google.com/notebooks/data_table.ipynb>data table notebook</a>'\n",
              "          + ' to learn more about interactive tables.';\n",
              "        element.innerHTML = '';\n",
              "        dataTable['output_type'] = 'display_data';\n",
              "        await google.colab.output.renderOutput(dataTable, element);\n",
              "        const docLink = document.createElement('div');\n",
              "        docLink.innerHTML = docLinkHtml;\n",
              "        element.appendChild(docLink);\n",
              "      }\n",
              "    </script>\n",
              "  </div>\n",
              "\n",
              "\n",
              "<div id=\"df-74bffc6f-9125-476d-b552-fb08941f9049\">\n",
              "  <button class=\"colab-df-quickchart\" onclick=\"quickchart('df-74bffc6f-9125-476d-b552-fb08941f9049')\"\n",
              "            title=\"Suggest charts\"\n",
              "            style=\"display:none;\">\n",
              "\n",
              "<svg xmlns=\"http://www.w3.org/2000/svg\" height=\"24px\"viewBox=\"0 0 24 24\"\n",
              "     width=\"24px\">\n",
              "    <g>\n",
              "        <path d=\"M19 3H5c-1.1 0-2 .9-2 2v14c0 1.1.9 2 2 2h14c1.1 0 2-.9 2-2V5c0-1.1-.9-2-2-2zM9 17H7v-7h2v7zm4 0h-2V7h2v10zm4 0h-2v-4h2v4z\"/>\n",
              "    </g>\n",
              "</svg>\n",
              "  </button>\n",
              "\n",
              "<style>\n",
              "  .colab-df-quickchart {\n",
              "      --bg-color: #E8F0FE;\n",
              "      --fill-color: #1967D2;\n",
              "      --hover-bg-color: #E2EBFA;\n",
              "      --hover-fill-color: #174EA6;\n",
              "      --disabled-fill-color: #AAA;\n",
              "      --disabled-bg-color: #DDD;\n",
              "  }\n",
              "\n",
              "  [theme=dark] .colab-df-quickchart {\n",
              "      --bg-color: #3B4455;\n",
              "      --fill-color: #D2E3FC;\n",
              "      --hover-bg-color: #434B5C;\n",
              "      --hover-fill-color: #FFFFFF;\n",
              "      --disabled-bg-color: #3B4455;\n",
              "      --disabled-fill-color: #666;\n",
              "  }\n",
              "\n",
              "  .colab-df-quickchart {\n",
              "    background-color: var(--bg-color);\n",
              "    border: none;\n",
              "    border-radius: 50%;\n",
              "    cursor: pointer;\n",
              "    display: none;\n",
              "    fill: var(--fill-color);\n",
              "    height: 32px;\n",
              "    padding: 0;\n",
              "    width: 32px;\n",
              "  }\n",
              "\n",
              "  .colab-df-quickchart:hover {\n",
              "    background-color: var(--hover-bg-color);\n",
              "    box-shadow: 0 1px 2px rgba(60, 64, 67, 0.3), 0 1px 3px 1px rgba(60, 64, 67, 0.15);\n",
              "    fill: var(--button-hover-fill-color);\n",
              "  }\n",
              "\n",
              "  .colab-df-quickchart-complete:disabled,\n",
              "  .colab-df-quickchart-complete:disabled:hover {\n",
              "    background-color: var(--disabled-bg-color);\n",
              "    fill: var(--disabled-fill-color);\n",
              "    box-shadow: none;\n",
              "  }\n",
              "\n",
              "  .colab-df-spinner {\n",
              "    border: 2px solid var(--fill-color);\n",
              "    border-color: transparent;\n",
              "    border-bottom-color: var(--fill-color);\n",
              "    animation:\n",
              "      spin 1s steps(1) infinite;\n",
              "  }\n",
              "\n",
              "  @keyframes spin {\n",
              "    0% {\n",
              "      border-color: transparent;\n",
              "      border-bottom-color: var(--fill-color);\n",
              "      border-left-color: var(--fill-color);\n",
              "    }\n",
              "    20% {\n",
              "      border-color: transparent;\n",
              "      border-left-color: var(--fill-color);\n",
              "      border-top-color: var(--fill-color);\n",
              "    }\n",
              "    30% {\n",
              "      border-color: transparent;\n",
              "      border-left-color: var(--fill-color);\n",
              "      border-top-color: var(--fill-color);\n",
              "      border-right-color: var(--fill-color);\n",
              "    }\n",
              "    40% {\n",
              "      border-color: transparent;\n",
              "      border-right-color: var(--fill-color);\n",
              "      border-top-color: var(--fill-color);\n",
              "    }\n",
              "    60% {\n",
              "      border-color: transparent;\n",
              "      border-right-color: var(--fill-color);\n",
              "    }\n",
              "    80% {\n",
              "      border-color: transparent;\n",
              "      border-right-color: var(--fill-color);\n",
              "      border-bottom-color: var(--fill-color);\n",
              "    }\n",
              "    90% {\n",
              "      border-color: transparent;\n",
              "      border-bottom-color: var(--fill-color);\n",
              "    }\n",
              "  }\n",
              "</style>\n",
              "\n",
              "  <script>\n",
              "    async function quickchart(key) {\n",
              "      const quickchartButtonEl =\n",
              "        document.querySelector('#' + key + ' button');\n",
              "      quickchartButtonEl.disabled = true;  // To prevent multiple clicks.\n",
              "      quickchartButtonEl.classList.add('colab-df-spinner');\n",
              "      try {\n",
              "        const charts = await google.colab.kernel.invokeFunction(\n",
              "            'suggestCharts', [key], {});\n",
              "      } catch (error) {\n",
              "        console.error('Error during call to suggestCharts:', error);\n",
              "      }\n",
              "      quickchartButtonEl.classList.remove('colab-df-spinner');\n",
              "      quickchartButtonEl.classList.add('colab-df-quickchart-complete');\n",
              "    }\n",
              "    (() => {\n",
              "      let quickchartButtonEl =\n",
              "        document.querySelector('#df-74bffc6f-9125-476d-b552-fb08941f9049 button');\n",
              "      quickchartButtonEl.style.display =\n",
              "        google.colab.kernel.accessAllowed ? 'block' : 'none';\n",
              "    })();\n",
              "  </script>\n",
              "</div>\n",
              "    </div>\n",
              "  </div>\n"
            ]
          },
          "metadata": {},
          "execution_count": 71
        }
      ],
      "source": [
        "data.describe()"
      ],
      "id": "aDeha_V4OeNE"
    },
    {
      "cell_type": "code",
      "execution_count": null,
      "metadata": {
        "id": "PbGFISdaOd6K"
      },
      "outputs": [],
      "source": [
        "def factorize(df, variable_name):\n",
        "    \"\"\"\n",
        "    this function taks dataframe and a name of var that has only 2 or 3 values.\n",
        "    It sets those values to {-1, 1} for 2-valued vars and to {-1, 0, 1} for 3-valued vars.\n",
        "    \"\"\"\n",
        "    unique_values = df[variable_name].unique()  # Check the number of unique values in the variable\n",
        "    num_unique_values = len(unique_values)\n",
        "\n",
        "    if num_unique_values == 2:\n",
        "        # Assign -1 to the lower value and +1 to the higher value\n",
        "        lower_value, higher_value = unique_values\n",
        "        df[variable_name] = df[variable_name].apply(lambda x: -1 if x == lower_value else 1)\n",
        "\n",
        "    elif num_unique_values == 3:\n",
        "        # Assign -1 to the lowest value, 0 to the middle value, and +1 to the highest value\n",
        "        sorted_values = sorted(unique_values)\n",
        "        df[variable_name] = df[variable_name].apply(lambda x: sorted_values.index(x) - 1)\n",
        "\n",
        "    else:\n",
        "        print(f\"The variable '{variable_name}' does not have exactly two or three unique values.\")\n",
        "\n",
        "    return df"
      ],
      "id": "PbGFISdaOd6K"
    },
    {
      "cell_type": "code",
      "execution_count": null,
      "metadata": {
        "id": "Ljp6TGEdOdnu"
      },
      "outputs": [],
      "source": [
        "df = data.copy()\n",
        "#print(\"Original DataFrame:\")\n",
        "#print(df)\n",
        "\n",
        "df2 = factorize(df, 'folds')\n",
        "df2 = factorize(df2, 'width')\n",
        "df2 = factorize(df2, 'layers')\n",
        "df2 = factorize(df2, 'clamps')\n",
        "df2 = factorize(df2, 'weight_distrib')\n",
        "\n",
        "#print(\"\\nDataFrame after factorization:\")\n",
        "#print(df2)\n",
        "data2= df2.copy()"
      ],
      "id": "Ljp6TGEdOdnu"
    },
    {
      "cell_type": "code",
      "execution_count": null,
      "metadata": {
        "id": "rtr1_Rf4OdVM"
      },
      "outputs": [],
      "source": [
        "data2.drop(\"height\", axis=1, inplace=True)\n",
        "data2.drop(\"length\", axis=1, inplace=True)\n",
        "data2.drop(\"support_length\", axis=1, inplace=True)\n",
        "data2.drop(\"exp_day\", axis=1, inplace=True)"
      ],
      "id": "rtr1_Rf4OdVM"
    },
    {
      "cell_type": "code",
      "execution_count": null,
      "metadata": {
        "colab": {
          "base_uri": "https://localhost:8080/",
          "height": 1000
        },
        "id": "r2Q1SaW3OtBZ",
        "outputId": "abac8475-d548-4187-d114-942aaf23040f"
      },
      "outputs": [
        {
          "output_type": "execute_result",
          "data": {
            "text/plain": [
              "    width  layers  folds  clamps  weight_distrib  max_num_of_batteries\n",
              "0      -1      -1      1      -1              -1                     8\n",
              "1      -1      -1      1      -1               1                     8\n",
              "2      -1      -1      1       1               1                     8\n",
              "3      -1      -1      1       1              -1                     4\n",
              "4      -1       1      1      -1               1                    25\n",
              "5      -1       1      1      -1              -1                    16\n",
              "6      -1       1      1       1               1                    28\n",
              "7      -1       1      1       1              -1                    13\n",
              "8      -1      -1     -1      -1               1                    26\n",
              "9      -1      -1     -1      -1              -1                     6\n",
              "10     -1      -1     -1       1               1                    12\n",
              "11     -1      -1     -1       1              -1                     2\n",
              "12     -1       1     -1      -1               1                    36\n",
              "13     -1       1     -1      -1              -1                    25\n",
              "14     -1       1     -1       1               1                    48\n",
              "15     -1       1     -1       1              -1                    17\n",
              "16      1       1      1      -1               1                    36\n",
              "17      1       1      1      -1              -1                    15\n",
              "18      1       1      1       1               1                    24\n",
              "19      1       1      1       1              -1                     6\n",
              "20      1      -1      1      -1               1                    22\n",
              "21      1      -1      1      -1              -1                     5\n",
              "22      1      -1      1       1               1                    10\n",
              "23      1      -1      1       1              -1                     5\n",
              "24      1       1     -1      -1               1                    45\n",
              "25      1       1     -1      -1              -1                    13\n",
              "26      1       1     -1       1               1                    18\n",
              "27      1       1     -1       1              -1                     9\n",
              "28      1      -1     -1      -1               1                    26\n",
              "29      1      -1     -1      -1              -1                     8\n",
              "30      1      -1     -1       1               1                     9\n",
              "31      1      -1     -1       1              -1                     2\n",
              "32      0      -1      0      -1              -1                     6\n",
              "33      0      -1      0      -1               1                    20\n",
              "34      0      -1      0       1              -1                     6\n",
              "35      0      -1      0       1               1                    14\n",
              "36      0       1      0      -1              -1                    20\n",
              "37      0       1      0      -1               1                    27\n",
              "38      0       1      0       1              -1                    13\n",
              "39      0       1      0       1               1                    34"
            ],
            "text/html": [
              "\n",
              "  <div id=\"df-20b0db22-150f-4259-9855-0e97c9d0518f\" class=\"colab-df-container\">\n",
              "    <div>\n",
              "<style scoped>\n",
              "    .dataframe tbody tr th:only-of-type {\n",
              "        vertical-align: middle;\n",
              "    }\n",
              "\n",
              "    .dataframe tbody tr th {\n",
              "        vertical-align: top;\n",
              "    }\n",
              "\n",
              "    .dataframe thead th {\n",
              "        text-align: right;\n",
              "    }\n",
              "</style>\n",
              "<table border=\"1\" class=\"dataframe\">\n",
              "  <thead>\n",
              "    <tr style=\"text-align: right;\">\n",
              "      <th></th>\n",
              "      <th>width</th>\n",
              "      <th>layers</th>\n",
              "      <th>folds</th>\n",
              "      <th>clamps</th>\n",
              "      <th>weight_distrib</th>\n",
              "      <th>max_num_of_batteries</th>\n",
              "    </tr>\n",
              "  </thead>\n",
              "  <tbody>\n",
              "    <tr>\n",
              "      <th>0</th>\n",
              "      <td>-1</td>\n",
              "      <td>-1</td>\n",
              "      <td>1</td>\n",
              "      <td>-1</td>\n",
              "      <td>-1</td>\n",
              "      <td>8</td>\n",
              "    </tr>\n",
              "    <tr>\n",
              "      <th>1</th>\n",
              "      <td>-1</td>\n",
              "      <td>-1</td>\n",
              "      <td>1</td>\n",
              "      <td>-1</td>\n",
              "      <td>1</td>\n",
              "      <td>8</td>\n",
              "    </tr>\n",
              "    <tr>\n",
              "      <th>2</th>\n",
              "      <td>-1</td>\n",
              "      <td>-1</td>\n",
              "      <td>1</td>\n",
              "      <td>1</td>\n",
              "      <td>1</td>\n",
              "      <td>8</td>\n",
              "    </tr>\n",
              "    <tr>\n",
              "      <th>3</th>\n",
              "      <td>-1</td>\n",
              "      <td>-1</td>\n",
              "      <td>1</td>\n",
              "      <td>1</td>\n",
              "      <td>-1</td>\n",
              "      <td>4</td>\n",
              "    </tr>\n",
              "    <tr>\n",
              "      <th>4</th>\n",
              "      <td>-1</td>\n",
              "      <td>1</td>\n",
              "      <td>1</td>\n",
              "      <td>-1</td>\n",
              "      <td>1</td>\n",
              "      <td>25</td>\n",
              "    </tr>\n",
              "    <tr>\n",
              "      <th>5</th>\n",
              "      <td>-1</td>\n",
              "      <td>1</td>\n",
              "      <td>1</td>\n",
              "      <td>-1</td>\n",
              "      <td>-1</td>\n",
              "      <td>16</td>\n",
              "    </tr>\n",
              "    <tr>\n",
              "      <th>6</th>\n",
              "      <td>-1</td>\n",
              "      <td>1</td>\n",
              "      <td>1</td>\n",
              "      <td>1</td>\n",
              "      <td>1</td>\n",
              "      <td>28</td>\n",
              "    </tr>\n",
              "    <tr>\n",
              "      <th>7</th>\n",
              "      <td>-1</td>\n",
              "      <td>1</td>\n",
              "      <td>1</td>\n",
              "      <td>1</td>\n",
              "      <td>-1</td>\n",
              "      <td>13</td>\n",
              "    </tr>\n",
              "    <tr>\n",
              "      <th>8</th>\n",
              "      <td>-1</td>\n",
              "      <td>-1</td>\n",
              "      <td>-1</td>\n",
              "      <td>-1</td>\n",
              "      <td>1</td>\n",
              "      <td>26</td>\n",
              "    </tr>\n",
              "    <tr>\n",
              "      <th>9</th>\n",
              "      <td>-1</td>\n",
              "      <td>-1</td>\n",
              "      <td>-1</td>\n",
              "      <td>-1</td>\n",
              "      <td>-1</td>\n",
              "      <td>6</td>\n",
              "    </tr>\n",
              "    <tr>\n",
              "      <th>10</th>\n",
              "      <td>-1</td>\n",
              "      <td>-1</td>\n",
              "      <td>-1</td>\n",
              "      <td>1</td>\n",
              "      <td>1</td>\n",
              "      <td>12</td>\n",
              "    </tr>\n",
              "    <tr>\n",
              "      <th>11</th>\n",
              "      <td>-1</td>\n",
              "      <td>-1</td>\n",
              "      <td>-1</td>\n",
              "      <td>1</td>\n",
              "      <td>-1</td>\n",
              "      <td>2</td>\n",
              "    </tr>\n",
              "    <tr>\n",
              "      <th>12</th>\n",
              "      <td>-1</td>\n",
              "      <td>1</td>\n",
              "      <td>-1</td>\n",
              "      <td>-1</td>\n",
              "      <td>1</td>\n",
              "      <td>36</td>\n",
              "    </tr>\n",
              "    <tr>\n",
              "      <th>13</th>\n",
              "      <td>-1</td>\n",
              "      <td>1</td>\n",
              "      <td>-1</td>\n",
              "      <td>-1</td>\n",
              "      <td>-1</td>\n",
              "      <td>25</td>\n",
              "    </tr>\n",
              "    <tr>\n",
              "      <th>14</th>\n",
              "      <td>-1</td>\n",
              "      <td>1</td>\n",
              "      <td>-1</td>\n",
              "      <td>1</td>\n",
              "      <td>1</td>\n",
              "      <td>48</td>\n",
              "    </tr>\n",
              "    <tr>\n",
              "      <th>15</th>\n",
              "      <td>-1</td>\n",
              "      <td>1</td>\n",
              "      <td>-1</td>\n",
              "      <td>1</td>\n",
              "      <td>-1</td>\n",
              "      <td>17</td>\n",
              "    </tr>\n",
              "    <tr>\n",
              "      <th>16</th>\n",
              "      <td>1</td>\n",
              "      <td>1</td>\n",
              "      <td>1</td>\n",
              "      <td>-1</td>\n",
              "      <td>1</td>\n",
              "      <td>36</td>\n",
              "    </tr>\n",
              "    <tr>\n",
              "      <th>17</th>\n",
              "      <td>1</td>\n",
              "      <td>1</td>\n",
              "      <td>1</td>\n",
              "      <td>-1</td>\n",
              "      <td>-1</td>\n",
              "      <td>15</td>\n",
              "    </tr>\n",
              "    <tr>\n",
              "      <th>18</th>\n",
              "      <td>1</td>\n",
              "      <td>1</td>\n",
              "      <td>1</td>\n",
              "      <td>1</td>\n",
              "      <td>1</td>\n",
              "      <td>24</td>\n",
              "    </tr>\n",
              "    <tr>\n",
              "      <th>19</th>\n",
              "      <td>1</td>\n",
              "      <td>1</td>\n",
              "      <td>1</td>\n",
              "      <td>1</td>\n",
              "      <td>-1</td>\n",
              "      <td>6</td>\n",
              "    </tr>\n",
              "    <tr>\n",
              "      <th>20</th>\n",
              "      <td>1</td>\n",
              "      <td>-1</td>\n",
              "      <td>1</td>\n",
              "      <td>-1</td>\n",
              "      <td>1</td>\n",
              "      <td>22</td>\n",
              "    </tr>\n",
              "    <tr>\n",
              "      <th>21</th>\n",
              "      <td>1</td>\n",
              "      <td>-1</td>\n",
              "      <td>1</td>\n",
              "      <td>-1</td>\n",
              "      <td>-1</td>\n",
              "      <td>5</td>\n",
              "    </tr>\n",
              "    <tr>\n",
              "      <th>22</th>\n",
              "      <td>1</td>\n",
              "      <td>-1</td>\n",
              "      <td>1</td>\n",
              "      <td>1</td>\n",
              "      <td>1</td>\n",
              "      <td>10</td>\n",
              "    </tr>\n",
              "    <tr>\n",
              "      <th>23</th>\n",
              "      <td>1</td>\n",
              "      <td>-1</td>\n",
              "      <td>1</td>\n",
              "      <td>1</td>\n",
              "      <td>-1</td>\n",
              "      <td>5</td>\n",
              "    </tr>\n",
              "    <tr>\n",
              "      <th>24</th>\n",
              "      <td>1</td>\n",
              "      <td>1</td>\n",
              "      <td>-1</td>\n",
              "      <td>-1</td>\n",
              "      <td>1</td>\n",
              "      <td>45</td>\n",
              "    </tr>\n",
              "    <tr>\n",
              "      <th>25</th>\n",
              "      <td>1</td>\n",
              "      <td>1</td>\n",
              "      <td>-1</td>\n",
              "      <td>-1</td>\n",
              "      <td>-1</td>\n",
              "      <td>13</td>\n",
              "    </tr>\n",
              "    <tr>\n",
              "      <th>26</th>\n",
              "      <td>1</td>\n",
              "      <td>1</td>\n",
              "      <td>-1</td>\n",
              "      <td>1</td>\n",
              "      <td>1</td>\n",
              "      <td>18</td>\n",
              "    </tr>\n",
              "    <tr>\n",
              "      <th>27</th>\n",
              "      <td>1</td>\n",
              "      <td>1</td>\n",
              "      <td>-1</td>\n",
              "      <td>1</td>\n",
              "      <td>-1</td>\n",
              "      <td>9</td>\n",
              "    </tr>\n",
              "    <tr>\n",
              "      <th>28</th>\n",
              "      <td>1</td>\n",
              "      <td>-1</td>\n",
              "      <td>-1</td>\n",
              "      <td>-1</td>\n",
              "      <td>1</td>\n",
              "      <td>26</td>\n",
              "    </tr>\n",
              "    <tr>\n",
              "      <th>29</th>\n",
              "      <td>1</td>\n",
              "      <td>-1</td>\n",
              "      <td>-1</td>\n",
              "      <td>-1</td>\n",
              "      <td>-1</td>\n",
              "      <td>8</td>\n",
              "    </tr>\n",
              "    <tr>\n",
              "      <th>30</th>\n",
              "      <td>1</td>\n",
              "      <td>-1</td>\n",
              "      <td>-1</td>\n",
              "      <td>1</td>\n",
              "      <td>1</td>\n",
              "      <td>9</td>\n",
              "    </tr>\n",
              "    <tr>\n",
              "      <th>31</th>\n",
              "      <td>1</td>\n",
              "      <td>-1</td>\n",
              "      <td>-1</td>\n",
              "      <td>1</td>\n",
              "      <td>-1</td>\n",
              "      <td>2</td>\n",
              "    </tr>\n",
              "    <tr>\n",
              "      <th>32</th>\n",
              "      <td>0</td>\n",
              "      <td>-1</td>\n",
              "      <td>0</td>\n",
              "      <td>-1</td>\n",
              "      <td>-1</td>\n",
              "      <td>6</td>\n",
              "    </tr>\n",
              "    <tr>\n",
              "      <th>33</th>\n",
              "      <td>0</td>\n",
              "      <td>-1</td>\n",
              "      <td>0</td>\n",
              "      <td>-1</td>\n",
              "      <td>1</td>\n",
              "      <td>20</td>\n",
              "    </tr>\n",
              "    <tr>\n",
              "      <th>34</th>\n",
              "      <td>0</td>\n",
              "      <td>-1</td>\n",
              "      <td>0</td>\n",
              "      <td>1</td>\n",
              "      <td>-1</td>\n",
              "      <td>6</td>\n",
              "    </tr>\n",
              "    <tr>\n",
              "      <th>35</th>\n",
              "      <td>0</td>\n",
              "      <td>-1</td>\n",
              "      <td>0</td>\n",
              "      <td>1</td>\n",
              "      <td>1</td>\n",
              "      <td>14</td>\n",
              "    </tr>\n",
              "    <tr>\n",
              "      <th>36</th>\n",
              "      <td>0</td>\n",
              "      <td>1</td>\n",
              "      <td>0</td>\n",
              "      <td>-1</td>\n",
              "      <td>-1</td>\n",
              "      <td>20</td>\n",
              "    </tr>\n",
              "    <tr>\n",
              "      <th>37</th>\n",
              "      <td>0</td>\n",
              "      <td>1</td>\n",
              "      <td>0</td>\n",
              "      <td>-1</td>\n",
              "      <td>1</td>\n",
              "      <td>27</td>\n",
              "    </tr>\n",
              "    <tr>\n",
              "      <th>38</th>\n",
              "      <td>0</td>\n",
              "      <td>1</td>\n",
              "      <td>0</td>\n",
              "      <td>1</td>\n",
              "      <td>-1</td>\n",
              "      <td>13</td>\n",
              "    </tr>\n",
              "    <tr>\n",
              "      <th>39</th>\n",
              "      <td>0</td>\n",
              "      <td>1</td>\n",
              "      <td>0</td>\n",
              "      <td>1</td>\n",
              "      <td>1</td>\n",
              "      <td>34</td>\n",
              "    </tr>\n",
              "  </tbody>\n",
              "</table>\n",
              "</div>\n",
              "    <div class=\"colab-df-buttons\">\n",
              "\n",
              "  <div class=\"colab-df-container\">\n",
              "    <button class=\"colab-df-convert\" onclick=\"convertToInteractive('df-20b0db22-150f-4259-9855-0e97c9d0518f')\"\n",
              "            title=\"Convert this dataframe to an interactive table.\"\n",
              "            style=\"display:none;\">\n",
              "\n",
              "  <svg xmlns=\"http://www.w3.org/2000/svg\" height=\"24px\" viewBox=\"0 -960 960 960\">\n",
              "    <path d=\"M120-120v-720h720v720H120Zm60-500h600v-160H180v160Zm220 220h160v-160H400v160Zm0 220h160v-160H400v160ZM180-400h160v-160H180v160Zm440 0h160v-160H620v160ZM180-180h160v-160H180v160Zm440 0h160v-160H620v160Z\"/>\n",
              "  </svg>\n",
              "    </button>\n",
              "\n",
              "  <style>\n",
              "    .colab-df-container {\n",
              "      display:flex;\n",
              "      gap: 12px;\n",
              "    }\n",
              "\n",
              "    .colab-df-convert {\n",
              "      background-color: #E8F0FE;\n",
              "      border: none;\n",
              "      border-radius: 50%;\n",
              "      cursor: pointer;\n",
              "      display: none;\n",
              "      fill: #1967D2;\n",
              "      height: 32px;\n",
              "      padding: 0 0 0 0;\n",
              "      width: 32px;\n",
              "    }\n",
              "\n",
              "    .colab-df-convert:hover {\n",
              "      background-color: #E2EBFA;\n",
              "      box-shadow: 0px 1px 2px rgba(60, 64, 67, 0.3), 0px 1px 3px 1px rgba(60, 64, 67, 0.15);\n",
              "      fill: #174EA6;\n",
              "    }\n",
              "\n",
              "    .colab-df-buttons div {\n",
              "      margin-bottom: 4px;\n",
              "    }\n",
              "\n",
              "    [theme=dark] .colab-df-convert {\n",
              "      background-color: #3B4455;\n",
              "      fill: #D2E3FC;\n",
              "    }\n",
              "\n",
              "    [theme=dark] .colab-df-convert:hover {\n",
              "      background-color: #434B5C;\n",
              "      box-shadow: 0px 1px 3px 1px rgba(0, 0, 0, 0.15);\n",
              "      filter: drop-shadow(0px 1px 2px rgba(0, 0, 0, 0.3));\n",
              "      fill: #FFFFFF;\n",
              "    }\n",
              "  </style>\n",
              "\n",
              "    <script>\n",
              "      const buttonEl =\n",
              "        document.querySelector('#df-20b0db22-150f-4259-9855-0e97c9d0518f button.colab-df-convert');\n",
              "      buttonEl.style.display =\n",
              "        google.colab.kernel.accessAllowed ? 'block' : 'none';\n",
              "\n",
              "      async function convertToInteractive(key) {\n",
              "        const element = document.querySelector('#df-20b0db22-150f-4259-9855-0e97c9d0518f');\n",
              "        const dataTable =\n",
              "          await google.colab.kernel.invokeFunction('convertToInteractive',\n",
              "                                                    [key], {});\n",
              "        if (!dataTable) return;\n",
              "\n",
              "        const docLinkHtml = 'Like what you see? Visit the ' +\n",
              "          '<a target=\"_blank\" href=https://colab.research.google.com/notebooks/data_table.ipynb>data table notebook</a>'\n",
              "          + ' to learn more about interactive tables.';\n",
              "        element.innerHTML = '';\n",
              "        dataTable['output_type'] = 'display_data';\n",
              "        await google.colab.output.renderOutput(dataTable, element);\n",
              "        const docLink = document.createElement('div');\n",
              "        docLink.innerHTML = docLinkHtml;\n",
              "        element.appendChild(docLink);\n",
              "      }\n",
              "    </script>\n",
              "  </div>\n",
              "\n",
              "\n",
              "<div id=\"df-10df09c2-9f4d-4412-bacf-c88d61e2c436\">\n",
              "  <button class=\"colab-df-quickchart\" onclick=\"quickchart('df-10df09c2-9f4d-4412-bacf-c88d61e2c436')\"\n",
              "            title=\"Suggest charts\"\n",
              "            style=\"display:none;\">\n",
              "\n",
              "<svg xmlns=\"http://www.w3.org/2000/svg\" height=\"24px\"viewBox=\"0 0 24 24\"\n",
              "     width=\"24px\">\n",
              "    <g>\n",
              "        <path d=\"M19 3H5c-1.1 0-2 .9-2 2v14c0 1.1.9 2 2 2h14c1.1 0 2-.9 2-2V5c0-1.1-.9-2-2-2zM9 17H7v-7h2v7zm4 0h-2V7h2v10zm4 0h-2v-4h2v4z\"/>\n",
              "    </g>\n",
              "</svg>\n",
              "  </button>\n",
              "\n",
              "<style>\n",
              "  .colab-df-quickchart {\n",
              "      --bg-color: #E8F0FE;\n",
              "      --fill-color: #1967D2;\n",
              "      --hover-bg-color: #E2EBFA;\n",
              "      --hover-fill-color: #174EA6;\n",
              "      --disabled-fill-color: #AAA;\n",
              "      --disabled-bg-color: #DDD;\n",
              "  }\n",
              "\n",
              "  [theme=dark] .colab-df-quickchart {\n",
              "      --bg-color: #3B4455;\n",
              "      --fill-color: #D2E3FC;\n",
              "      --hover-bg-color: #434B5C;\n",
              "      --hover-fill-color: #FFFFFF;\n",
              "      --disabled-bg-color: #3B4455;\n",
              "      --disabled-fill-color: #666;\n",
              "  }\n",
              "\n",
              "  .colab-df-quickchart {\n",
              "    background-color: var(--bg-color);\n",
              "    border: none;\n",
              "    border-radius: 50%;\n",
              "    cursor: pointer;\n",
              "    display: none;\n",
              "    fill: var(--fill-color);\n",
              "    height: 32px;\n",
              "    padding: 0;\n",
              "    width: 32px;\n",
              "  }\n",
              "\n",
              "  .colab-df-quickchart:hover {\n",
              "    background-color: var(--hover-bg-color);\n",
              "    box-shadow: 0 1px 2px rgba(60, 64, 67, 0.3), 0 1px 3px 1px rgba(60, 64, 67, 0.15);\n",
              "    fill: var(--button-hover-fill-color);\n",
              "  }\n",
              "\n",
              "  .colab-df-quickchart-complete:disabled,\n",
              "  .colab-df-quickchart-complete:disabled:hover {\n",
              "    background-color: var(--disabled-bg-color);\n",
              "    fill: var(--disabled-fill-color);\n",
              "    box-shadow: none;\n",
              "  }\n",
              "\n",
              "  .colab-df-spinner {\n",
              "    border: 2px solid var(--fill-color);\n",
              "    border-color: transparent;\n",
              "    border-bottom-color: var(--fill-color);\n",
              "    animation:\n",
              "      spin 1s steps(1) infinite;\n",
              "  }\n",
              "\n",
              "  @keyframes spin {\n",
              "    0% {\n",
              "      border-color: transparent;\n",
              "      border-bottom-color: var(--fill-color);\n",
              "      border-left-color: var(--fill-color);\n",
              "    }\n",
              "    20% {\n",
              "      border-color: transparent;\n",
              "      border-left-color: var(--fill-color);\n",
              "      border-top-color: var(--fill-color);\n",
              "    }\n",
              "    30% {\n",
              "      border-color: transparent;\n",
              "      border-left-color: var(--fill-color);\n",
              "      border-top-color: var(--fill-color);\n",
              "      border-right-color: var(--fill-color);\n",
              "    }\n",
              "    40% {\n",
              "      border-color: transparent;\n",
              "      border-right-color: var(--fill-color);\n",
              "      border-top-color: var(--fill-color);\n",
              "    }\n",
              "    60% {\n",
              "      border-color: transparent;\n",
              "      border-right-color: var(--fill-color);\n",
              "    }\n",
              "    80% {\n",
              "      border-color: transparent;\n",
              "      border-right-color: var(--fill-color);\n",
              "      border-bottom-color: var(--fill-color);\n",
              "    }\n",
              "    90% {\n",
              "      border-color: transparent;\n",
              "      border-bottom-color: var(--fill-color);\n",
              "    }\n",
              "  }\n",
              "</style>\n",
              "\n",
              "  <script>\n",
              "    async function quickchart(key) {\n",
              "      const quickchartButtonEl =\n",
              "        document.querySelector('#' + key + ' button');\n",
              "      quickchartButtonEl.disabled = true;  // To prevent multiple clicks.\n",
              "      quickchartButtonEl.classList.add('colab-df-spinner');\n",
              "      try {\n",
              "        const charts = await google.colab.kernel.invokeFunction(\n",
              "            'suggestCharts', [key], {});\n",
              "      } catch (error) {\n",
              "        console.error('Error during call to suggestCharts:', error);\n",
              "      }\n",
              "      quickchartButtonEl.classList.remove('colab-df-spinner');\n",
              "      quickchartButtonEl.classList.add('colab-df-quickchart-complete');\n",
              "    }\n",
              "    (() => {\n",
              "      let quickchartButtonEl =\n",
              "        document.querySelector('#df-10df09c2-9f4d-4412-bacf-c88d61e2c436 button');\n",
              "      quickchartButtonEl.style.display =\n",
              "        google.colab.kernel.accessAllowed ? 'block' : 'none';\n",
              "    })();\n",
              "  </script>\n",
              "</div>\n",
              "    </div>\n",
              "  </div>\n"
            ]
          },
          "metadata": {},
          "execution_count": 75
        }
      ],
      "source": [
        "data2"
      ],
      "id": "r2Q1SaW3OtBZ"
    },
    {
      "cell_type": "code",
      "execution_count": null,
      "metadata": {
        "colab": {
          "base_uri": "https://localhost:8080/"
        },
        "id": "U69DN5EWOsZJ",
        "outputId": "278e8ad4-9daf-4ad7-8b41-854a6fc62afb"
      },
      "outputs": [
        {
          "output_type": "stream",
          "name": "stdout",
          "text": [
            "                             OLS Regression Results                             \n",
            "================================================================================\n",
            "Dep. Variable:     max_num_of_batteries   R-squared:                       0.806\n",
            "Model:                              OLS   Adj. R-squared:                  0.764\n",
            "Method:                   Least Squares   F-statistic:                     19.05\n",
            "Date:                  Mon, 04 Dec 2023   Prob (F-statistic):           9.32e-10\n",
            "Time:                          21:41:45   Log-Likelihood:                -121.78\n",
            "No. Observations:                    40   AIC:                             259.6\n",
            "Df Residuals:                        32   BIC:                             273.1\n",
            "Df Model:                             7                                         \n",
            "Covariance Type:              nonrobust                                         \n",
            "=========================================================================================\n",
            "                            coef    std err          t      P>|t|      [0.025      0.975]\n",
            "-----------------------------------------------------------------------------------------\n",
            "Intercept                16.8750      0.898     18.785      0.000      15.045      18.705\n",
            "width                    -0.9062      1.004     -0.902      0.374      -2.952       1.140\n",
            "layers                    6.5250      0.898      7.263      0.000       4.695       8.355\n",
            "folds                    -2.1563      1.004     -2.147      0.039      -4.202      -0.110\n",
            "clamps                   -2.7750      0.898     -3.089      0.004      -4.605      -0.945\n",
            "weight_distrib            6.9250      0.898      7.709      0.000       5.095       8.755\n",
            "weight_distrib:folds     -1.5313      1.004     -1.525      0.137      -3.577       0.515\n",
            "layers:weight_distrib     1.7750      0.898      1.976      0.057      -0.055       3.605\n",
            "==============================================================================\n",
            "Omnibus:                        2.286   Durbin-Watson:                   1.587\n",
            "Prob(Omnibus):                  0.319   Jarque-Bera (JB):                1.357\n",
            "Skew:                          -0.034   Prob(JB):                        0.507\n",
            "Kurtosis:                       3.900   Cond. No.                         1.12\n",
            "==============================================================================\n",
            "\n",
            "Notes:\n",
            "[1] Standard Errors assume that the covariance matrix of the errors is correctly specified.\n"
          ]
        }
      ],
      "source": [
        "# OLS 1\n",
        "formula_temp = \"max_num_of_batteries ~  width + layers + folds + clamps + weight_distrib + weight_distrib:folds + layers:weight_distrib\"\n",
        "\n",
        "# fit\n",
        "model_temp = smf.ols(formula=formula_temp, data=data2).fit()\n",
        "print(model_temp.summary())"
      ],
      "id": "U69DN5EWOsZJ"
    },
    {
      "cell_type": "code",
      "execution_count": null,
      "metadata": {
        "colab": {
          "base_uri": "https://localhost:8080/",
          "height": 489
        },
        "id": "VzhNdKInOr3x",
        "outputId": "e68cb01c-6a66-4e76-e5c7-76df59f7abca"
      },
      "outputs": [
        {
          "output_type": "display_data",
          "data": {
            "text/plain": [
              "<Figure size 840x480 with 2 Axes>"
            ],
            "image/png": "[encoded data removed]"
          },
          "metadata": {}
        }
      ],
      "source": [
        "plt.figure(figsize=(7,4), dpi=120)\n",
        "plt.subplot(1,2,1)\n",
        "plt.scatter(model_temp.fittedvalues, model_temp.resid)\n",
        "plt.xlabel('Fitted Values')\n",
        "plt.ylabel('Residuals')\n",
        "plt.title(\"Residual plot\")\n",
        "plt.axhline(y=0, color='r', linestyle='--')\n",
        "ax = plt.subplot(1,2,2)\n",
        "stats.probplot(model_temp.resid, dist=\"norm\", plot = ax)\n",
        "plt.grid()\n",
        "\n",
        "plt.savefig(\"residuals_of_OLS.png\", dpi=300)\n",
        "plt.show()"
      ],
      "id": "VzhNdKInOr3x"
    },
    {
      "cell_type": "code",
      "execution_count": null,
      "metadata": {
        "colab": {
          "base_uri": "https://localhost:8080/"
        },
        "id": "ovhKtGhUOdDg",
        "outputId": "e434d9f5-40f9-400e-ec65-e7c27bd95e1a"
      },
      "outputs": [
        {
          "output_type": "stream",
          "name": "stdout",
          "text": [
            "H0: variance of error in OLS model is constant.\n",
            "White Test Statistic: 35.055735285612016, p-value: 0.03822867049836392\n",
            "Can't reject H_0 (Have to accept H_0). \n"
          ]
        }
      ],
      "source": [
        "# White test (for heteroscedasticity)\n",
        "from statsmodels.stats.diagnostic import het_white\n",
        "\n",
        "print(f\"H0: variance of error in OLS model is constant.\")\n",
        "white_test_statistic, white_p_value, _, _ = het_white(model_temp.resid, model_temp.model.exog)\n",
        "print(f'White Test Statistic: {white_test_statistic}, p-value: {white_p_value}')\n",
        "\n",
        "alpha = 0.01  # significance level\n",
        "if white_p_value < alpha:\n",
        "    # we dont have enough evidence to accept H_0\n",
        "    print(\"Reject H_0 (Have to accept H_1). \")\n",
        "else:\n",
        "    # significant evidence to reject H_0, i.e. to accept H_1\n",
        "    print(\"Can't reject H_0 (Have to accept H_0). \")"
      ],
      "id": "ovhKtGhUOdDg"
    },
    {
      "cell_type": "code",
      "execution_count": null,
      "metadata": {
        "colab": {
          "base_uri": "https://localhost:8080/"
        },
        "id": "LTpUCGJFOc0D",
        "outputId": "295c848a-8a23-4252-caa8-5ad0b7dbdb38"
      },
      "outputs": [
        {
          "output_type": "stream",
          "name": "stdout",
          "text": [
            "H0: sample (residuals) came from normal distribution.\n",
            "Shapiro-Wilk Test: Statistic=0.9857189059257507, p-value=0.8855799436569214\n",
            "Can't reject H_0 (Have to accept H_0). \n"
          ]
        }
      ],
      "source": [
        "# Normality of residuals - Shapiro-Wilk test\n",
        "#  (can be important especially in case small sample size)\n",
        "print(f\"H0: sample (residuals) came from normal distribution.\")\n",
        "from scipy.stats import shapiro\n",
        "stat, p_value = shapiro(model_temp.resid)\n",
        "print(f'Shapiro-Wilk Test: Statistic={stat}, p-value={p_value}')\n",
        "\n",
        "alpha = 0.05  # significance level\n",
        "if p_value < alpha:\n",
        "    # we dont have enough evidence to accept H_0\n",
        "    print(\"Reject H_0 (Have to accept H_1). \")\n",
        "else:\n",
        "    # significant evidence to reject H_0, i.e. to accept H_1\n",
        "    print(\"Can't reject H_0 (Have to accept H_0). \")"
      ],
      "id": "LTpUCGJFOc0D"
    },
    {
      "cell_type": "code",
      "execution_count": null,
      "metadata": {
        "colab": {
          "base_uri": "https://localhost:8080/",
          "height": 237
        },
        "id": "aImOsPwoOcln",
        "outputId": "59a4fd50-2326-4b21-b81a-880cb4f72f94"
      },
      "outputs": [
        {
          "output_type": "execute_result",
          "data": {
            "text/plain": [
              "               Variable       VIF\n",
              "0                 width  1.002082\n",
              "1                layers  1.134897\n",
              "2                 folds  1.011785\n",
              "3                clamps  1.024399\n",
              "4        weight_distrib  1.151943\n",
              "5  max_num_of_batteries  1.325105"
            ],
            "text/html": [
              "\n",
              "  <div id=\"df-33615003-e368-4bf9-82c3-ece4761ffee7\" class=\"colab-df-container\">\n",
              "    <div>\n",
              "<style scoped>\n",
              "    .dataframe tbody tr th:only-of-type {\n",
              "        vertical-align: middle;\n",
              "    }\n",
              "\n",
              "    .dataframe tbody tr th {\n",
              "        vertical-align: top;\n",
              "    }\n",
              "\n",
              "    .dataframe thead th {\n",
              "        text-align: right;\n",
              "    }\n",
              "</style>\n",
              "<table border=\"1\" class=\"dataframe\">\n",
              "  <thead>\n",
              "    <tr style=\"text-align: right;\">\n",
              "      <th></th>\n",
              "      <th>Variable</th>\n",
              "      <th>VIF</th>\n",
              "    </tr>\n",
              "  </thead>\n",
              "  <tbody>\n",
              "    <tr>\n",
              "      <th>0</th>\n",
              "      <td>width</td>\n",
              "      <td>1.002082</td>\n",
              "    </tr>\n",
              "    <tr>\n",
              "      <th>1</th>\n",
              "      <td>layers</td>\n",
              "      <td>1.134897</td>\n",
              "    </tr>\n",
              "    <tr>\n",
              "      <th>2</th>\n",
              "      <td>folds</td>\n",
              "      <td>1.011785</td>\n",
              "    </tr>\n",
              "    <tr>\n",
              "      <th>3</th>\n",
              "      <td>clamps</td>\n",
              "      <td>1.024399</td>\n",
              "    </tr>\n",
              "    <tr>\n",
              "      <th>4</th>\n",
              "      <td>weight_distrib</td>\n",
              "      <td>1.151943</td>\n",
              "    </tr>\n",
              "    <tr>\n",
              "      <th>5</th>\n",
              "      <td>max_num_of_batteries</td>\n",
              "      <td>1.325105</td>\n",
              "    </tr>\n",
              "  </tbody>\n",
              "</table>\n",
              "</div>\n",
              "    <div class=\"colab-df-buttons\">\n",
              "\n",
              "  <div class=\"colab-df-container\">\n",
              "    <button class=\"colab-df-convert\" onclick=\"convertToInteractive('df-33615003-e368-4bf9-82c3-ece4761ffee7')\"\n",
              "            title=\"Convert this dataframe to an interactive table.\"\n",
              "            style=\"display:none;\">\n",
              "\n",
              "  <svg xmlns=\"http://www.w3.org/2000/svg\" height=\"24px\" viewBox=\"0 -960 960 960\">\n",
              "    <path d=\"M120-120v-720h720v720H120Zm60-500h600v-160H180v160Zm220 220h160v-160H400v160Zm0 220h160v-160H400v160ZM180-400h160v-160H180v160Zm440 0h160v-160H620v160ZM180-180h160v-160H180v160Zm440 0h160v-160H620v160Z\"/>\n",
              "  </svg>\n",
              "    </button>\n",
              "\n",
              "  <style>\n",
              "    .colab-df-container {\n",
              "      display:flex;\n",
              "      gap: 12px;\n",
              "    }\n",
              "\n",
              "    .colab-df-convert {\n",
              "      background-color: #E8F0FE;\n",
              "      border: none;\n",
              "      border-radius: 50%;\n",
              "      cursor: pointer;\n",
              "      display: none;\n",
              "      fill: #1967D2;\n",
              "      height: 32px;\n",
              "      padding: 0 0 0 0;\n",
              "      width: 32px;\n",
              "    }\n",
              "\n",
              "    .colab-df-convert:hover {\n",
              "      background-color: #E2EBFA;\n",
              "      box-shadow: 0px 1px 2px rgba(60, 64, 67, 0.3), 0px 1px 3px 1px rgba(60, 64, 67, 0.15);\n",
              "      fill: #174EA6;\n",
              "    }\n",
              "\n",
              "    .colab-df-buttons div {\n",
              "      margin-bottom: 4px;\n",
              "    }\n",
              "\n",
              "    [theme=dark] .colab-df-convert {\n",
              "      background-color: #3B4455;\n",
              "      fill: #D2E3FC;\n",
              "    }\n",
              "\n",
              "    [theme=dark] .colab-df-convert:hover {\n",
              "      background-color: #434B5C;\n",
              "      box-shadow: 0px 1px 3px 1px rgba(0, 0, 0, 0.15);\n",
              "      filter: drop-shadow(0px 1px 2px rgba(0, 0, 0, 0.3));\n",
              "      fill: #FFFFFF;\n",
              "    }\n",
              "  </style>\n",
              "\n",
              "    <script>\n",
              "      const buttonEl =\n",
              "        document.querySelector('#df-33615003-e368-4bf9-82c3-ece4761ffee7 button.colab-df-convert');\n",
              "      buttonEl.style.display =\n",
              "        google.colab.kernel.accessAllowed ? 'block' : 'none';\n",
              "\n",
              "      async function convertToInteractive(key) {\n",
              "        const element = document.querySelector('#df-33615003-e368-4bf9-82c3-ece4761ffee7');\n",
              "        const dataTable =\n",
              "          await google.colab.kernel.invokeFunction('convertToInteractive',\n",
              "                                                    [key], {});\n",
              "        if (!dataTable) return;\n",
              "\n",
              "        const docLinkHtml = 'Like what you see? Visit the ' +\n",
              "          '<a target=\"_blank\" href=https://colab.research.google.com/notebooks/data_table.ipynb>data table notebook</a>'\n",
              "          + ' to learn more about interactive tables.';\n",
              "        element.innerHTML = '';\n",
              "        dataTable['output_type'] = 'display_data';\n",
              "        await google.colab.output.renderOutput(dataTable, element);\n",
              "        const docLink = document.createElement('div');\n",
              "        docLink.innerHTML = docLinkHtml;\n",
              "        element.appendChild(docLink);\n",
              "      }\n",
              "    </script>\n",
              "  </div>\n",
              "\n",
              "\n",
              "<div id=\"df-df789e19-95cf-480c-952e-bcdeab48c2b0\">\n",
              "  <button class=\"colab-df-quickchart\" onclick=\"quickchart('df-df789e19-95cf-480c-952e-bcdeab48c2b0')\"\n",
              "            title=\"Suggest charts\"\n",
              "            style=\"display:none;\">\n",
              "\n",
              "<svg xmlns=\"http://www.w3.org/2000/svg\" height=\"24px\"viewBox=\"0 0 24 24\"\n",
              "     width=\"24px\">\n",
              "    <g>\n",
              "        <path d=\"M19 3H5c-1.1 0-2 .9-2 2v14c0 1.1.9 2 2 2h14c1.1 0 2-.9 2-2V5c0-1.1-.9-2-2-2zM9 17H7v-7h2v7zm4 0h-2V7h2v10zm4 0h-2v-4h2v4z\"/>\n",
              "    </g>\n",
              "</svg>\n",
              "  </button>\n",
              "\n",
              "<style>\n",
              "  .colab-df-quickchart {\n",
              "      --bg-color: #E8F0FE;\n",
              "      --fill-color: #1967D2;\n",
              "      --hover-bg-color: #E2EBFA;\n",
              "      --hover-fill-color: #174EA6;\n",
              "      --disabled-fill-color: #AAA;\n",
              "      --disabled-bg-color: #DDD;\n",
              "  }\n",
              "\n",
              "  [theme=dark] .colab-df-quickchart {\n",
              "      --bg-color: #3B4455;\n",
              "      --fill-color: #D2E3FC;\n",
              "      --hover-bg-color: #434B5C;\n",
              "      --hover-fill-color: #FFFFFF;\n",
              "      --disabled-bg-color: #3B4455;\n",
              "      --disabled-fill-color: #666;\n",
              "  }\n",
              "\n",
              "  .colab-df-quickchart {\n",
              "    background-color: var(--bg-color);\n",
              "    border: none;\n",
              "    border-radius: 50%;\n",
              "    cursor: pointer;\n",
              "    display: none;\n",
              "    fill: var(--fill-color);\n",
              "    height: 32px;\n",
              "    padding: 0;\n",
              "    width: 32px;\n",
              "  }\n",
              "\n",
              "  .colab-df-quickchart:hover {\n",
              "    background-color: var(--hover-bg-color);\n",
              "    box-shadow: 0 1px 2px rgba(60, 64, 67, 0.3), 0 1px 3px 1px rgba(60, 64, 67, 0.15);\n",
              "    fill: var(--button-hover-fill-color);\n",
              "  }\n",
              "\n",
              "  .colab-df-quickchart-complete:disabled,\n",
              "  .colab-df-quickchart-complete:disabled:hover {\n",
              "    background-color: var(--disabled-bg-color);\n",
              "    fill: var(--disabled-fill-color);\n",
              "    box-shadow: none;\n",
              "  }\n",
              "\n",
              "  .colab-df-spinner {\n",
              "    border: 2px solid var(--fill-color);\n",
              "    border-color: transparent;\n",
              "    border-bottom-color: var(--fill-color);\n",
              "    animation:\n",
              "      spin 1s steps(1) infinite;\n",
              "  }\n",
              "\n",
              "  @keyframes spin {\n",
              "    0% {\n",
              "      border-color: transparent;\n",
              "      border-bottom-color: var(--fill-color);\n",
              "      border-left-color: var(--fill-color);\n",
              "    }\n",
              "    20% {\n",
              "      border-color: transparent;\n",
              "      border-left-color: var(--fill-color);\n",
              "      border-top-color: var(--fill-color);\n",
              "    }\n",
              "    30% {\n",
              "      border-color: transparent;\n",
              "      border-left-color: var(--fill-color);\n",
              "      border-top-color: var(--fill-color);\n",
              "      border-right-color: var(--fill-color);\n",
              "    }\n",
              "    40% {\n",
              "      border-color: transparent;\n",
              "      border-right-color: var(--fill-color);\n",
              "      border-top-color: var(--fill-color);\n",
              "    }\n",
              "    60% {\n",
              "      border-color: transparent;\n",
              "      border-right-color: var(--fill-color);\n",
              "    }\n",
              "    80% {\n",
              "      border-color: transparent;\n",
              "      border-right-color: var(--fill-color);\n",
              "      border-bottom-color: var(--fill-color);\n",
              "    }\n",
              "    90% {\n",
              "      border-color: transparent;\n",
              "      border-bottom-color: var(--fill-color);\n",
              "    }\n",
              "  }\n",
              "</style>\n",
              "\n",
              "  <script>\n",
              "    async function quickchart(key) {\n",
              "      const quickchartButtonEl =\n",
              "        document.querySelector('#' + key + ' button');\n",
              "      quickchartButtonEl.disabled = true;  // To prevent multiple clicks.\n",
              "      quickchartButtonEl.classList.add('colab-df-spinner');\n",
              "      try {\n",
              "        const charts = await google.colab.kernel.invokeFunction(\n",
              "            'suggestCharts', [key], {});\n",
              "      } catch (error) {\n",
              "        console.error('Error during call to suggestCharts:', error);\n",
              "      }\n",
              "      quickchartButtonEl.classList.remove('colab-df-spinner');\n",
              "      quickchartButtonEl.classList.add('colab-df-quickchart-complete');\n",
              "    }\n",
              "    (() => {\n",
              "      let quickchartButtonEl =\n",
              "        document.querySelector('#df-df789e19-95cf-480c-952e-bcdeab48c2b0 button');\n",
              "      quickchartButtonEl.style.display =\n",
              "        google.colab.kernel.accessAllowed ? 'block' : 'none';\n",
              "    })();\n",
              "  </script>\n",
              "</div>\n",
              "    </div>\n",
              "  </div>\n"
            ]
          },
          "metadata": {},
          "execution_count": 80
        }
      ],
      "source": [
        "# VIF\n",
        "# =is a measure that quantifies the extent of multicollinearity in a set of predictor variables within a regression model.\n",
        "# Multicollinearity occurs when two or more independent variables in a model are highly correlated,\n",
        "# making it difficult to isolate the individual effect of each variable on the dependent variable.\n",
        "from statsmodels.stats.outliers_influence import variance_inflation_factor\n",
        "\n",
        "vif = pd.DataFrame()\n",
        "vif[\"Variable\"] = data2.columns\n",
        "vif[\"VIF\"] = [variance_inflation_factor(data2.values, i) for i in range(data2.shape[1])]\n",
        "#print(vif)\n",
        "vif"
      ],
      "id": "aImOsPwoOcln"
    },
    {
      "cell_type": "code",
      "execution_count": null,
      "metadata": {
        "colab": {
          "base_uri": "https://localhost:8080/",
          "height": 36
        },
        "id": "601rourIOcW1",
        "outputId": "007571c0-74a8-4783-b106-89e192cc4196"
      },
      "outputs": [
        {
          "output_type": "execute_result",
          "data": {
            "text/plain": [
              "'=> we see almost no or very slight correlation between vars used in our model. '"
            ],
            "application/vnd.google.colaboratory.intrinsic+json": {
              "type": "string"
            }
          },
          "metadata": {},
          "execution_count": 81
        }
      ],
      "source": [
        "\"\"\"=> we see almost no or very slight correlation between vars used in our model. \"\"\""
      ],
      "id": "601rourIOcW1"
    },
    {
      "cell_type": "code",
      "execution_count": null,
      "metadata": {
        "id": "5aw6Y8lAPfks"
      },
      "outputs": [],
      "source": [
        "import pickle\n",
        "\n",
        "with open('statsmodels_ols_model.pkl', 'wb') as f:\n",
        "    pickle.dump(model_temp, f)"
      ],
      "id": "5aw6Y8lAPfks"
    },
    {
      "cell_type": "code",
      "execution_count": null,
      "metadata": {
        "id": "iplUDcXWPfTx"
      },
      "outputs": [],
      "source": [
        "%%R\n",
        "#if (!requireNamespace(\"reticulate\", quietly = TRUE)) install.packages(\"reticulate\")\n",
        "#library(reticulate)\n",
        "model <- reticulate::py_load_object(\"statsmodels_ols_model.pkl\")"
      ],
      "id": "iplUDcXWPfTx"
    },
    {
      "cell_type": "code",
      "execution_count": null,
      "metadata": {
        "colab": {
          "base_uri": "https://localhost:8080/"
        },
        "id": "cbjcUb8dPe6I",
        "outputId": "b363bf21-2b97-478c-c5f2-e36540aca4c3"
      },
      "outputs": [
        {
          "output_type": "stream",
          "name": "stdout",
          "text": [
            "Intercept                16.87500\n",
            "width                    -0.90625\n",
            "layers                    6.52500\n",
            "folds                    -2.15625\n",
            "clamps                   -2.77500\n",
            "weight_distrib            6.92500\n",
            "weight_distrib:folds     -1.53125\n",
            "layers:weight_distrib     1.77500\n",
            "dtype: float64\n"
          ]
        }
      ],
      "source": [
        "%%R\n",
        "# Access coefficients\n",
        "coefficients <- reticulate::py_get_attr(model, \"params\")\n",
        "print(coefficients)"
      ],
      "id": "cbjcUb8dPe6I"
    },
    {
      "cell_type": "code",
      "execution_count": null,
      "metadata": {
        "id": "yVl0mTwyPepZ"
      },
      "outputs": [],
      "source": [
        "%%R\n",
        "coefficients <- reticulate::py_get_attr(model, \"params\")\n",
        "std_errors <- reticulate::py_get_attr(model, \"bse\")\n",
        "t_values <- reticulate::py_get_attr(model, \"tvalues\")\n",
        "p_values <- reticulate::py_get_attr(model, \"pvalues\")"
      ],
      "id": "yVl0mTwyPepZ"
    },
    {
      "cell_type": "code",
      "execution_count": null,
      "metadata": {
        "colab": {
          "base_uri": "https://localhost:8080/"
        },
        "id": "1KQa2V46PeP_",
        "outputId": "d48f01d9-3ed2-4daf-ab38-e7740148529e"
      },
      "outputs": [
        {
          "output_type": "stream",
          "name": "stdout",
          "text": [
            "Intercept                16.87500\n",
            "width                    -0.90625\n",
            "layers                    6.52500\n",
            "folds                    -2.15625\n",
            "clamps                   -2.77500\n",
            "weight_distrib            6.92500\n",
            "weight_distrib:folds     -1.53125\n",
            "layers:weight_distrib     1.77500\n",
            "dtype: float64\n"
          ]
        }
      ],
      "source": [
        "%%R\n",
        "coefficients"
      ],
      "id": "1KQa2V46PeP_"
    },
    {
      "cell_type": "code",
      "execution_count": null,
      "metadata": {
        "colab": {
          "base_uri": "https://localhost:8080/"
        },
        "id": "bRmAFOqxPd_X",
        "outputId": "9af358a0-4efd-4b7c-9fb0-1d0c856d5507"
      },
      "outputs": [
        {
          "output_type": "stream",
          "name": "stdout",
          "text": [
            "[1] -0.90625\n"
          ]
        }
      ],
      "source": [
        "%%R\n",
        "coefficients$width"
      ],
      "id": "bRmAFOqxPd_X"
    },
    {
      "cell_type": "markdown",
      "metadata": {
        "id": "FJB-a1d8YT9G"
      },
      "source": [
        "# 8. For two chosen numerical variables, create a contour plot to find the optimal values for maximizing bridge strength under the additional condition of 3 layers, minimal width 6cm and minimal length of 22 cm."
      ],
      "id": "FJB-a1d8YT9G"
    },
    {
      "cell_type": "code",
      "execution_count": null,
      "metadata": {
        "colab": {
          "base_uri": "https://localhost:8080/"
        },
        "id": "bzHGHhkLD5m8",
        "outputId": "04d7288b-7d12-4bc2-9fd3-205a737e0ad5"
      },
      "outputs": [
        {
          "output_type": "stream",
          "name": "stdout",
          "text": [
            "  width layers folds clamps weight_distrib exp_day max_num_of_batteries\n",
            "1   4.5      1     5      0              0       2                    8\n",
            "2   4.5      1     5      0              1       1                    8\n",
            "3   4.5      1     5      1              1       2                    8\n",
            "4   4.5      1     5      1              0       1                    4\n",
            "5   4.5      2     5      0              1       2                   25\n",
            "6   4.5      2     5      0              0       1                   16\n"
          ]
        }
      ],
      "source": [
        "%%R\n",
        "data8 <- df %>% transmute(width = as.numeric(width),\n",
        "                          layers = as.numeric(layers),\n",
        "                          folds = as.numeric(folds),\n",
        "                          clamps = as.factor(clamps),\n",
        "                          weight_distrib = as.factor(weight_distrib),\n",
        "                          exp_day = as.factor(exp_day),\n",
        "                          max_num_of_batteries = as.numeric(max_num_of_batteries))\n",
        "\n",
        "head(data8)"
      ],
      "id": "bzHGHhkLD5m8"
    },
    {
      "cell_type": "code",
      "execution_count": null,
      "metadata": {
        "colab": {
          "base_uri": "https://localhost:8080/"
        },
        "id": "GLchhkt_g6dk",
        "outputId": "6ba3d624-d2c7-4239-a818-34983bf49cbc"
      },
      "outputs": [
        {
          "output_type": "stream",
          "name": "stdout",
          "text": [
            "\n",
            "Call:\n",
            "lm.default(formula = max_num_of_batteries ~ width * layers, data = data8)\n",
            "\n",
            "Residuals:\n",
            "    Min      1Q  Median      3Q     Max \n",
            "-14.750  -6.219  -1.562   2.875  24.250 \n",
            "\n",
            "Coefficients:\n",
            "             Estimate Std. Error t value Pr(>|t|)\n",
            "(Intercept)   -26.625     33.008  -0.807    0.427\n",
            "width           4.250      5.905   0.720    0.478\n",
            "layers         32.219     20.876   1.543    0.134\n",
            "width:layers   -3.437      3.734  -0.920    0.365\n",
            "\n",
            "Residual standard error: 10.56 on 28 degrees of freedom\n",
            "Multiple R-squared:   0.33,\tAdjusted R-squared:  0.2582 \n",
            "F-statistic: 4.597 on 3 and 28 DF,  p-value: 0.009731\n",
            "\n"
          ]
        }
      ],
      "source": [
        "%%R\n",
        "ctrlm<-lm(max_num_of_batteries~width*layers, data=data8)\n",
        "summary(ctrlm)"
      ],
      "id": "GLchhkt_g6dk"
    },
    {
      "cell_type": "code",
      "execution_count": null,
      "metadata": {
        "id": "UWIdh44bh4K0"
      },
      "outputs": [],
      "source": [
        "%%R\n",
        "rg <- list(width=seq(3.5,7.5,by=.05),layers=seq(1,5,by=1),data=data8)\n",
        "new8 <- expand.grid(rg)\n",
        "new8$max_num_of_batteries <- predict(ctrlm,new8)"
      ],
      "id": "UWIdh44bh4K0"
    },
    {
      "cell_type": "code",
      "execution_count": null,
      "metadata": {
        "colab": {
          "base_uri": "https://localhost:8080/",
          "height": 497
        },
        "id": "QfjLgrT9h4Eb",
        "outputId": "33f0abde-6384-4680-ba4f-76bff145e825"
      },
      "outputs": [
        {
          "output_type": "display_data",
          "data": {
            "image/png": "[encoded data removed]"
          },
          "metadata": {}
        }
      ],
      "source": [
        "%%R\n",
        "contourplot(max_num_of_batteries ~ width*layers, new8, region = TRUE, xlab=\"A Width\",ylab=\"B Layers\",main=\"Contour plot of Maximal Number of Batteries\")\n",
        "#points(, col=\"red\", pch=17)\n"
      ],
      "id": "QfjLgrT9h4Eb"
    },
    {
      "cell_type": "markdown",
      "metadata": {
        "id": "p01abBHBtBTI"
      },
      "source": [
        "The contour plot was constructed for continuous variables width an layers affecting maximal number of batteries. We can notice, that for a width 6cm and 3 layers of paper is a weight capacity of a bridge in region around 50 batteries. Our Bridge constructors did not change the length of a bridge, so that condition is omitted."
      ],
      "id": "p01abBHBtBTI"
    },
    {
      "cell_type": "code",
      "execution_count": null,
      "metadata": {
        "colab": {
          "base_uri": "https://localhost:8080/"
        },
        "id": "CFW7Wh8UlfPu",
        "outputId": "25f56481-a39b-4c84-85d2-e77d70f89e45"
      },
      "outputs": [
        {
          "output_type": "stream",
          "name": "stdout",
          "text": [
            "NULL\n"
          ]
        }
      ],
      "source": [
        "%%R\n",
        "#install.packages(\"rsm\")\n",
        "#library(\"rsm\")"
      ],
      "id": "CFW7Wh8UlfPu"
    },
    {
      "cell_type": "code",
      "execution_count": null,
      "metadata": {
        "colab": {
          "base_uri": "https://localhost:8080/"
        },
        "id": "znhCkEvingnK",
        "outputId": "d3d4b0af-fce1-4362-97df-f4e50664d1f9"
      },
      "outputs": [
        {
          "output_type": "stream",
          "name": "stdout",
          "text": [
            "NULL\n"
          ]
        }
      ],
      "source": [
        "%%R\n",
        "#install.packages(\"pid\")\n",
        "#library(\"pid\")"
      ],
      "id": "znhCkEvingnK"
    },
    {
      "cell_type": "code",
      "execution_count": null,
      "metadata": {
        "colab": {
          "base_uri": "https://localhost:8080/",
          "height": 977
        },
        "id": "GmIg-sXHh4AL",
        "outputId": "e5e17269-88e3-4d75-8824-d49d1230e17f"
      },
      "outputs": [
        {
          "output_type": "display_data",
          "data": {
            "image/png": "[encoded data removed]"
          },
          "metadata": {}
        },
        {
          "output_type": "display_data",
          "data": {
            "image/png": "[encoded data removed]"
          },
          "metadata": {}
        }
      ],
      "source": [
        "%%R\n",
        "contourPlot(ctrlm,\n",
        "            xlab=\"width\",ylab=\"layers\",\n",
        "            main=\"Contour plot of Maz number  of batteries\",\n",
        "            xlim=c(3.5, 7.5),\n",
        "            ylim=c(1, 5),\n",
        "            colour.function=terrain.colors)"
      ],
      "id": "GmIg-sXHh4AL"
    },
    {
      "cell_type": "code",
      "execution_count": null,
      "metadata": {
        "id": "PJce5P5Kla4u"
      },
      "outputs": [],
      "source": [
        "%%R\n",
        "rsm_bt<-rsm(max_num_of_batteries~FO(width,layers)+TWI(width,layers), data=new8)"
      ],
      "id": "PJce5P5Kla4u"
    },
    {
      "cell_type": "code",
      "execution_count": null,
      "metadata": {
        "colab": {
          "base_uri": "https://localhost:8080/",
          "height": 497
        },
        "id": "Md-9Rc6FlbkS",
        "outputId": "634a406e-c38f-4ce5-9b01-d2fc0c39adde"
      },
      "outputs": [
        {
          "output_type": "display_data",
          "data": {
            "image/png": "[encoded data removed]"
          },
          "metadata": {}
        }
      ],
      "source": [
        "%%R\n",
        "persp(rsm_bt, width~layers, zlab = \"max_num_of_batteries\", main=\"Response surface\")"
      ],
      "id": "Md-9Rc6FlbkS"
    },
    {
      "cell_type": "code",
      "execution_count": null,
      "metadata": {
        "id": "iYnC_5X-RDvc"
      },
      "outputs": [],
      "source": [],
      "id": "iYnC_5X-RDvc"
    }
  ],
  "metadata": {
    "colab": {
      "provenance": [],
      "include_colab_link": true
    },
    "kernelspec": {
      "display_name": "Python 3",
      "name": "python3"
    },
    "language_info": {
      "name": "python"
    }
  },
  "nbformat": 4,
  "nbformat_minor": 5
}