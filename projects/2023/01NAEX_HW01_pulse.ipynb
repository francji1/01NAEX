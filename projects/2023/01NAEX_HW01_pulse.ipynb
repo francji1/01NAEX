{
  "nbformat": 4,
  "nbformat_minor": 0,
  "metadata": {
    "colab": {
      "private_outputs": true,
      "provenance": [],
      "include_colab_link": true
    },
    "kernelspec": {
      "name": "ir",
      "display_name": "R"
    },
    "language_info": {
      "name": "R"
    }
  },
  "cells": [
    {
      "cell_type": "markdown",
      "metadata": {
        "id": "view-in-github",
        "colab_type": "text"
      },
      "source": [
        "<a href=\"https://colab.research.google.com/github/francji1/01NAEX/blob/main/projects/01NAEX_HW01_pulse.ipynb\" target=\"_parent\"><img src=\"https://colab.research.google.com/assets/colab-badge.svg\" alt=\"Open In Colab\"/></a>"
      ]
    },
    {
      "cell_type": "markdown",
      "metadata": {
        "lines_to_next_cell": 0,
        "id": "febba912"
      },
      "source": [
        "#01NAEX Home project 01\n",
        "\n",
        "*Add description of your Team*"
      ]
    },
    {
      "cell_type": "code",
      "execution_count": null,
      "metadata": {
        "lines_to_next_cell": 2,
        "name": "setup",
        "tags": [
          "remove_cell"
        ],
        "id": "6b0e5fb1"
      },
      "outputs": [],
      "source": [
        "knitr::opts_chunk$set(echo = TRUE)\n",
        "# get requirements for this project\n",
        "list_of_packages <- c(\"tidyverse\", \"lattice\", \"pwr\", \"MASS\",\"GGally\",\"agridat\",\"agricolae\")\n",
        "missing_packages <- list_of_packages[!(list_of_packages %in% installed.packages()[,\"Package\"])]\n",
        "if(length(missing_packages)) install.packages(missing_packages)\n",
        "lapply(list_of_packages, library, character.only = TRUE)\n",
        "\n",
        "######################\n",
        "# check your settings\n",
        "#getwd()\n",
        "#print(.libPaths())\n",
        "#print(sessionInfo())"
      ]
    },
    {
      "cell_type": "code",
      "source": [
        "print(version)"
      ],
      "metadata": {
        "id": "AIaz0HNtCmMJ"
      },
      "execution_count": null,
      "outputs": []
    },
    {
      "cell_type": "markdown",
      "metadata": {
        "id": "49a19642"
      },
      "source": [
        "# Research task:\n",
        "\n",
        "The goal of this research task is to find out the effect of exercise on resting heart rate.\n"
      ]
    },
    {
      "cell_type": "markdown",
      "source": [
        "\n",
        "# Descrition:\n",
        "\n",
        "You have the same number of operators as team members. Each of you will run the experiment, i.e. physical exercises and resting heart rate measurement.\n",
        "Choose 3 differently difficult exercises, (for example squats, push-ups, sit-ups, chair climbs, plank, mathematical computation, ...) and \"iteration\" whose levels are 10, 20, 30 (number of repetitions, number of seconds for plank, ...) affect the increase in heart rate per minute. Measure your heart rate at rest (you should have it at a similar level before each subsequent measurement) and then immediately after the exercise. Simply measure for 15 seconds and multiply the measurement by 4. In total, take 9 measurements each."
      ],
      "metadata": {
        "id": "xSCkXCzcCMao"
      }
    },
    {
      "cell_type": "markdown",
      "metadata": {
        "id": "b2dac64c"
      },
      "source": [
        "# Submission:\n",
        "\n",
        "Submit the elaborated measurement by October 23, 2023 in pdf + Rmd/ipynb format (Python or R)."
      ]
    },
    {
      "cell_type": "markdown",
      "metadata": {
        "id": "775fc4b3"
      },
      "source": [
        "# Questions:\n",
        "\n",
        " 1. Measure the data and set up the experiment so that it is *randomized*. Be sure to record the order of the measurements and the operator (member of the group taking the measurements) for each measurement. The number of replications for operator, exercise and iteration is one."
      ]
    },
    {
      "cell_type": "code",
      "source": [],
      "metadata": {
        "id": "SlCKXxkkCXed"
      },
      "execution_count": null,
      "outputs": []
    },
    {
      "cell_type": "markdown",
      "source": [
        "\n",
        "\n",
        "2. Calculate the basic statistics (mean, median and sd for each variable). Display the measured data (box plot, interaction plot, effects plot) and comment what we can predict about the outcome from the given figures before the analysis."
      ],
      "metadata": {
        "id": "EDEqhBWACOnP"
      }
    },
    {
      "cell_type": "code",
      "source": [],
      "metadata": {
        "id": "e69SiekzCX6Y"
      },
      "execution_count": null,
      "outputs": []
    },
    {
      "cell_type": "markdown",
      "source": [
        "\n",
        "\n",
        "3.  Focus especially on the factors exercise and iteration, operator is a nuisance parameter. Run one-way analysis of variance for each factor separately. Are there significance differences in means of hart rate increases? For each factor: perform Tukey HSD and Fisher LSD test for pairwise comparison of means of individual groups."
      ],
      "metadata": {
        "id": "3YF_m325CPRI"
      }
    },
    {
      "cell_type": "code",
      "source": [],
      "metadata": {
        "id": "Xlj2mUIzCYRw"
      },
      "execution_count": null,
      "outputs": []
    },
    {
      "cell_type": "markdown",
      "metadata": {
        "id": "695cec94"
      },
      "source": [
        "4.  Analyse the data using ANOVA (take all variables as a factor).\n",
        "       * With the assumption that each of the participants in the experiment forms a block.\n",
        "       * Discuss results, verify assumptions, plot QQ-plot, residuals x fitted values, residuals x factor levels.\n",
        "       * Discuss the effect of the experimental design and the evolution of the residuals over time (number of measurements).\n",
        "       * If the measured data do not meet the assumptions for using ANOVA, discuss possible transformations (logarithmic, Box-Cox, ...)  and the reason why the data do not meet the assumptions?\n"
      ]
    },
    {
      "cell_type": "code",
      "source": [],
      "metadata": {
        "id": "EBjV4NmZCYtu"
      },
      "execution_count": null,
      "outputs": []
    },
    {
      "cell_type": "markdown",
      "source": [
        "      \n",
        "5. Choose one level of iteration factor and *even if it does not meet the assumptions for using ANOVA*, solve the following:\n",
        "   * Calculate the power of the test in the ANOVA for 3 levels of exercises and **n** operators.\n",
        "   * Assume the standard deviation of the disturbances to be 4 for the experiment conducted\n",
        "     and the maximum (for us significant) difference we want to detect is 5 bpm.\n",
        "     Calculate the number of operators needed for the power of the resulting test to be greater than 0.9.\n"
      ],
      "metadata": {
        "id": "tYrFqeSgCRFM"
      }
    },
    {
      "cell_type": "code",
      "source": [],
      "metadata": {
        "id": "etuBRg6mCZMO"
      },
      "execution_count": null,
      "outputs": []
    },
    {
      "cell_type": "markdown",
      "source": [
        "\n",
        "6. Create a regression model where you do not consider blocks and the iteration of exercises is the quantitative variable.\n",
        "      * Try to add a squared variable to the model and compare the two regression models with each other and select the more appropriate one.\n",
        "      * Check the assumptions for using the chosen model.\n"
      ],
      "metadata": {
        "id": "B3G7xBLJCSRv"
      }
    },
    {
      "cell_type": "code",
      "source": [],
      "metadata": {
        "id": "IGbGm9GhCZt-"
      },
      "execution_count": null,
      "outputs": []
    },
    {
      "cell_type": "markdown",
      "source": [
        "\n",
        "7. If you based your previous answers on the p-value, discuss following.  Does p-value provide a good measure of evidence regarding a model or hypothesis?"
      ],
      "metadata": {
        "id": "ywNkrXCXCTQq"
      }
    },
    {
      "cell_type": "code",
      "source": [],
      "metadata": {
        "id": "VocxOzbSCaMA"
      },
      "execution_count": null,
      "outputs": []
    },
    {
      "cell_type": "markdown",
      "metadata": {
        "id": "2b699ff1"
      },
      "source": [
        "Note: In case the blocks are highly dominant and none of the other variables appear significant,\n",
        "      use only the \"operator with the best data for academic purposes\" for the resulting analysis."
      ]
    }
  ]
}