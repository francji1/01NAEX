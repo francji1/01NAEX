{
  "cells": [
    {
      "cell_type": "markdown",
      "metadata": {
        "id": "view-in-github",
        "colab_type": "text"
      },
      "source": [
        "<a href=\"https://colab.research.google.com/github/francji1/01NAEX/blob/main/projects/01NAEX_HW01_pendulum_Rusa_Nesnerova_Vojtasek_Florentin_Rosa.ipynb\" target=\"_parent\"><img src=\"https://colab.research.google.com/assets/colab-badge.svg\" alt=\"Open In Colab\"/></a>"
      ]
    },
    {
      "cell_type": "markdown",
      "id": "3651abbe",
      "metadata": {
        "id": "3651abbe"
      },
      "source": [
        "# 01NAEX Project 01 - Pendulum study\n",
        "\n",
        "---\n",
        "\n",
        "\n",
        "\n",
        "Vendula Rusá, Sabina Nešněrová, Petr Vojtášek, Florentin, Francisco Rosa"
      ]
    },
    {
      "cell_type": "markdown",
      "id": "eb39016e",
      "metadata": {
        "id": "eb39016e"
      },
      "source": [
        "## Research Task\n",
        "\n",
        "Design and run an experiment to investigate which factors affect the period of a simple pendulum. For small release angles, classical theory predicts the period T depends only on the string length L:\n",
        "\n",
        "$T \\approx 2*\\pi*\\sqrt{\\frac{L}{g}} \\ \\ \\text{for} \\ \\ |\\theta| <= 10\\text{deg}$\n",
        "\n",
        "https://en.wikipedia.org/wiki/Pendulum_(mechanics)\n",
        "\n",
        "That is, for small angles the period should be independent of the bob's weight (mass) and approximately independent of angle. Your goal is to build an experiment that confirms that weight is not a significant factor, while verifying the expected length effect. You may optionally probe how well the \"small-angle\" approximation holds by using a couple of small angle levels.\n",
        "\n",
        "- Response variable: period T (seconds). Recommended protocol: time $N$ swings with a stopwatch and use $T = t_N / N$ to reduce reaction-time error.\n",
        "- Primary factors:\n",
        "  - Length $L$ (quantitative, choose >= 3 levels across your feasible range)\n",
        "  - Weight $m$ (mass of the bob; choose 2-3 levels). Theory: no effect on $T$.\n",
        "  - Release angle $\\theta$ (small angles: e.g., 5, 10, 20 degrees; choose >= 2 levels to test the approximation)\n",
        "- Optional nuisance/structure: operator (person), day/session, string type, pivot, ambient conditions. You may treat these as blocks or ignore them if you control them sufficiently.\n",
        "\n",
        "You decide whether to randomize run order, include operators, blocking, or repeated measurements - justify your choices using **design of experiments reasoning**."
      ]
    },
    {
      "cell_type": "markdown",
      "id": "dcaf9c0e",
      "metadata": {
        "id": "dcaf9c0e"
      },
      "source": [
        "## Design Guidance\n",
        "\n",
        "- Target the physics regime where the small-angle approximation is valid $(|\\theta| \\leq 10 deg)$. If you exceed this, discuss the implications.\n",
        "- Plan replicates/repeated measurements to mitigate stopwatch error (e.g., 3 repeats per treatment or average of 10-20 swings per timing).\n",
        "- If multiple operators participate, consider blocking by operator or using a mixed-effects model.\n",
        "- Randomize run order if practical; if not, explain how you controlled time-related drift.\n",
        "- Record all factor levels and the run order for traceability.\n",
        "- Power: Aim for $\\beta \\leq 0.1$  to detect a 0.1s change in T between mass levels at $\\alpha = 0.05$. Use a pilot SD (e.g., from 10 swings) to size the study."
      ]
    },
    {
      "cell_type": "markdown",
      "id": "3fd047a6",
      "metadata": {
        "id": "3fd047a6"
      },
      "source": [
        "## Submission\n",
        "\n",
        "Submit by the deadline in PDF, Rmd, or ipynb (Python or R). Include raw data (I prefer a link to the data in the code) and your analysis code with outputs. Ensure the report is self-contained and reproducible."
      ]
    },
    {
      "cell_type": "markdown",
      "id": "e4db6442",
      "metadata": {
        "id": "e4db6442"
      },
      "source": [
        "## Tasks / Questions\n",
        "\n",
        "1) Planning and design\n",
        "- Define your factors and levels ($L$, $m$, $\\theta$) and any nuisance variables (operators, sessions, etc.).\n",
        "- Specify the response and the measurement protocol ($N$ swings per timing, repeats per treatment, instrumentation, units).\n",
        "- State whether you will randomize or block; justify your choices.\n",
        "\n",
        "2) Power and sample size (pre-study)\n",
        "- Using a pilot SD (or a reasonable assumption), estimate how many replicates per treatment you need to achieve 80% power to detect a 2-3% change in $T$ between mass levels at $\\alpha = 0.05$. State assumptions clearly.\n",
        "\n",
        "3) Data collection and quality\n",
        "- Report the full data table (with run order if randomized) and basic summaries (mean, SD) by factor level.\n",
        "- Visualize the data (e.g., boxplots and mean+/-SE) across $L$, $m$, and $\\theta$.\n",
        "\n",
        "4) Primary analysis - ANOVA\n",
        "- Fit an ANOVA model for $T$ with factors $L$, $m$, $\\theta$. Consider interactions only if justified by design.\n",
        "- Test and interpret the effect of weight $m$. Report F, df, and p-values.\n",
        "\n",
        "5) ANOVA - multiple comparison (Tukey, LSD)\n",
        "- Find out if there is significant difference in means between different levels of $L$, $m$, $\\theta$.\n",
        "- Can we confirm the assumption that the mass of the blob does not matter?\n",
        "- Can we confirm the assumption that a small angle has no effect on the time T , but a larger one does?\n",
        "\n",
        "6) Assumptions and diagnostics\n",
        "- Provide residual plots (QQ-plot, residuals vs fitted, ...) and formal tests where relevant. Discuss any deviations and remedies.\n",
        "- Discuss the effect of the experimental design and the evolution of the residuals over time (order of measurements).\n",
        "\n",
        "7) Post-study power/reflection\n",
        "- Based on the observed SD and estimates, re-calc the achieved power of the test in the ANOVA for different lenghts of ropes and corresponding measuremnts and other factors.\n",
        "- Assume the difference in T we want to detect is 0.1s. Calculate the number of repetition needed for the power of the resulting test to be greater than 0.9.\n",
        "\n",
        "8) Alternative model - regression with quantitative factors\n",
        "- Fit a regression with T ~ sqrt(L) (or log T vs 0.5 log L) and include theta (as small quantitative) and m. Compare conclusions about m.\n",
        "- Choose model with significant variables.\n",
        "\n",
        "9) Conclusions\n",
        "- Summarize whether the data support the theoretical result (T depends on L; m not significant at small angles). Provide a minimal recommended design that would convincingly demonstrate this in future labs.\n",
        "\n",
        "10) (Optional) Estimate $g$\n",
        "- Use your best model to estimate $g$ and provide an interval. Compare to 9.81 $m/s^2$.\n"
      ]
    },
    {
      "cell_type": "markdown",
      "id": "9e03b080",
      "metadata": {
        "id": "9e03b080"
      },
      "source": [
        "### 1) Planning and design"
      ]
    },
    {
      "cell_type": "markdown",
      "source": [
        "# **Experiment**\n",
        "-------------------\n",
        "**Preparation**\n",
        "* The pendulum mass was weighed using a digital scale.\n",
        "* The mass was attached to a string.\n",
        "* The upper end of the string was fixed to the bottom side of a support board, which was positioned above another board used for drawing reference angles.\n",
        "* The length L was defined as the distance between the point where the string was attached to the support board and the center of mass.\n",
        "* On the lower board, reference lines were drawn to indicate specific angle (θ).\n",
        "* The horizontal distance of each line from the vertical position was calculated using $$x=L⋅\\tan(θ)$$\n",
        "for the selected angles.\n",
        "\n",
        "**Measurement procedure**\n",
        "* One operator displaced the pendulum mass to the required angle θ and released it.\n",
        "* Two operators measured the time using a phone stopwatch.\n",
        "* Timing started when the pendulum mass first passed the vertical reference line.\n",
        "* The stopwatch was stopped after the fifth complete swing (N=5).\n",
        "* All factor levels and measurement repetitions were recorded.\n",
        "\n",
        "**Data processing**\n",
        "* For each treatment level, two repeated measurements were performed.\n",
        "* In total, 54 measurements were collected.\n",
        "* The measurements taken by the two operators were averaged to reduce random error.\n",
        "* The mean values were used to calculate the period T as $$T = \\frac{t_{N}}{N}$$\n",
        "* Overall, 27 periods are available.\n",
        "\n",
        "**Blocking and randomization**\n",
        "* Blocking was not applied because both operators measured simultaneously.\n",
        "* But the potential variability due to differences in human reaction time was controlled by averaging the measurements from the two operators for each treatment.\n",
        "* Randomization of the experimental runs was also not applied, because for each mass, all lengths and angles were measured in a fixed sequence.\n",
        "* This approach ensured that all combinations of factors were measured completely and consistently.\n",
        "\n",
        "# **Factors**\n",
        "--------------------\n",
        "* Length (L) - 3 levels: 33 cm, 65.5 cm, 120 cm\n",
        "* Weight (m) - 3 levels: 77 g, 139 g, 220 g\n",
        "* Angle (θ) - 3 levels: 5°, 10° 20°\n",
        "\n",
        "\n"
      ],
      "metadata": {
        "id": "f2OZkME__VCg"
      },
      "id": "f2OZkME__VCg"
    },
    {
      "cell_type": "markdown",
      "id": "e42fbc4d",
      "metadata": {
        "id": "e42fbc4d"
      },
      "source": [
        "### 2) Power and sample size (pre-study)\n",
        "\n",
        "Cohen’s *f* for ANOVA is defined as:\n",
        "\n",
        "$\n",
        "f = \\frac{\\sqrt{\\frac{1}{k}\\sum_{i=1}^{k}(\\mu_i - \\bar{\\mu})^2}}{\\sigma}\n",
        "$\n",
        "\n",
        "where  \n",
        "- $ \\mu_i $ are the group means,  \n",
        "- $ \\bar{\\mu} $ is the overall mean,  \n",
        "- $ k $ is the number of groups, and  \n",
        "- $ \\sigma $ is the within-group standard deviation."
      ]
    },
    {
      "cell_type": "code",
      "source": [
        "import numpy as np\n",
        "from math import ceil\n",
        "from statsmodels.stats.power import FTestAnovaPower\n",
        "\n",
        "# Fixed scenario\n",
        "T_t = 1.1152          # in seconds, baseline period, for which the human reaction\n",
        "                      # is most influential (ratio is the highest), i.e. the 33cm\n",
        "                      # for L=65.5 its 1.622\n",
        "sigma_T = 0.025    # this was derived from the average human reaction time study\n",
        "                   # which stated the reaction time SD to 90ms, per period std is than.\n",
        "                   # sigma_T = sqrt(var(start+stop))/5=(√2×90)/ 5 ≈ 25 ms\n",
        "alpha = 0.05\n",
        "k_groups = 3       # three mass levels\n",
        "\n",
        "# Target relative differences (2% and 3%)\n",
        "deltas = [0.02*T_t, 0.03*T_t]   # absolute seconds\n",
        "\n",
        "# Cohen's f for 3 groups with means [-Δ/2, 0, +Δ/2]\n",
        "f_vals = []\n",
        "for delta in deltas:\n",
        "    means = np.array([-delta/2, 0.0, +delta/2])\n",
        "    var_means = (means**2).mean()\n",
        "    f_vals.append(np.sqrt(var_means) / sigma_T)\n",
        "\n",
        "print(f\"sigma_T = {sigma_T:.3f} s\")\n",
        "print(f\"Δ (2%, 3%) = {deltas[0]:.5f} s, {deltas[1]:.5f} s\")\n",
        "print(f\"Cohen f (2%, 3%) = {f_vals[0]:.3f}, {f_vals[1]:.3f}\")\n",
        "\n",
        "# Power vs replicates per mass level\n",
        "solver = FTestAnovaPower()\n",
        "for f, label in zip(f_vals, [\"2%\", \"3%\"]):\n",
        "    print(f\"\\nPower for {label} effect (f={f:.3f}):\")\n",
        "    for n in [3,6,9,12,15,27,54,108]:\n",
        "        pwr = solver.power(effect_size=f, k_groups=k_groups, nobs=n, alpha=alpha)\n",
        "        print(f\"  observations/group ={n//3:>2} -> power={pwr:.3f}\")\n",
        "    n80 = solver.solve_power(effect_size=f, k_groups=k_groups, power=0.80, alpha=alpha)\n",
        "    print(f\"  observations/group for 80% power ≈ {ceil(n80)//3}\")\n"
      ],
      "metadata": {
        "id": "9nny2qU6akbx",
        "colab": {
          "base_uri": "https://localhost:8080/"
        },
        "outputId": "7fde7cfa-b843-4bba-e832-e1cd44596883"
      },
      "id": "9nny2qU6akbx",
      "execution_count": 1,
      "outputs": [
        {
          "output_type": "stream",
          "name": "stdout",
          "text": [
            "sigma_T = 0.025 s\n",
            "Δ (2%, 3%) = 0.02230 s, 0.03346 s\n",
            "Cohen f (2%, 3%) = 0.364, 0.546\n",
            "\n",
            "Power for 2% effect (f=0.364):\n",
            "  observations/group = 1 -> power=nan\n",
            "  observations/group = 2 -> power=0.076\n",
            "  observations/group = 3 -> power=0.110\n",
            "  observations/group = 4 -> power=0.146\n",
            "  observations/group = 5 -> power=0.184\n",
            "  observations/group = 9 -> power=0.337\n",
            "  observations/group =18 -> power=0.639\n",
            "  observations/group =36 -> power=0.927\n",
            "  observations/group for 80% power ≈ 25\n",
            "\n",
            "Power for 3% effect (f=0.546):\n",
            "  observations/group = 1 -> power=nan\n",
            "  observations/group = 2 -> power=0.110\n",
            "  observations/group = 3 -> power=0.193\n",
            "  observations/group = 4 -> power=0.281\n",
            "  observations/group = 5 -> power=0.368\n",
            "  observations/group = 9 -> power=0.662\n",
            "  observations/group =18 -> power=0.947\n",
            "  observations/group =36 -> power=0.999\n",
            "  observations/group for 80% power ≈ 12\n"
          ]
        }
      ]
    },
    {
      "cell_type": "markdown",
      "id": "fa7c76b3",
      "metadata": {
        "id": "fa7c76b3"
      },
      "source": [
        "### 3) Data collection and quality"
      ]
    },
    {
      "cell_type": "code",
      "source": [
        "import pandas as pd\n",
        "url = \"https://raw.githubusercontent.com/VojtasekP/NAEX-pendulum/refs/heads/main/NAEX_pendulum.csv\"\n",
        "data = pd.read_csv(url)\n",
        "print(data.head())\n",
        "print(\"---------------------------------------------------------------------------------\")\n",
        "print(data.describe())\n"
      ],
      "metadata": {
        "id": "Bkcc0m8Rah9C",
        "colab": {
          "base_uri": "https://localhost:8080/"
        },
        "outputId": "d2f09aca-4195-416b-a6b5-db206a0452dc"
      },
      "id": "Bkcc0m8Rah9C",
      "execution_count": 2,
      "outputs": [
        {
          "output_type": "stream",
          "name": "stdout",
          "text": [
            "      L   m  angle  time_Sab  time_Flo  time_avg  period\n",
            "0  65.5  77      5      8.06      8.10     8.080   1.616\n",
            "1  65.5  77     10      8.24      8.23     8.235   1.647\n",
            "2  65.5  77     20      8.19      8.23     8.210   1.642\n",
            "3  33.0  77      5      5.83      5.26     5.545   1.109\n",
            "4  33.0  77     10      5.88      6.00     5.940   1.188\n",
            "---------------------------------------------------------------------------------\n",
            "                L           m      angle   time_Sab   time_Flo   time_avg  \\\n",
            "count   27.000000   27.000000  27.000000  27.000000  27.000000  27.000000   \n",
            "mean    72.833333  145.333333  11.666667   8.358519   8.326296   8.342407   \n",
            "std     36.577894   59.666380   6.354889   2.172763   2.227633   2.197652   \n",
            "min     33.000000   77.000000   5.000000   5.690000   5.260000   5.515000   \n",
            "25%     33.000000   77.000000   5.000000   5.890000   5.945000   5.917500   \n",
            "50%     65.500000  139.000000  10.000000   8.160000   8.150000   8.140000   \n",
            "75%    120.000000  220.000000  20.000000  10.985000  11.010000  11.012500   \n",
            "max    120.000000  220.000000  20.000000  11.210000  11.320000  11.155000   \n",
            "\n",
            "          period  \n",
            "count  27.000000  \n",
            "mean    1.668481  \n",
            "std     0.439530  \n",
            "min     1.103000  \n",
            "25%     1.183500  \n",
            "50%     1.628000  \n",
            "75%     2.202500  \n",
            "max     2.231000  \n"
          ]
        }
      ]
    },
    {
      "cell_type": "code",
      "source": [
        "T = data['period']\n",
        "data['L'] = data['L']/100\n",
        "L= data['L']\n",
        "m = data['m']\n",
        "θ = data['angle']"
      ],
      "metadata": {
        "id": "Rt53VGQ5ak33"
      },
      "id": "Rt53VGQ5ak33",
      "execution_count": 3,
      "outputs": []
    },
    {
      "cell_type": "code",
      "source": [
        "import seaborn as sns\n",
        "import matplotlib.pyplot as plt\n",
        "fig, axes = plt.subplots(1, 3, figsize=(15, 5))\n",
        "sns.boxplot(x=L, y=T, ax=axes[0])\n",
        "axes[0].set_xlabel(\"L [m]\")\n",
        "axes[0].set_ylabel(\"T [s]\")\n",
        "\n",
        "sns.boxplot(x=m, y=T, ax=axes[1])\n",
        "axes[1].set_xlabel(\"m [g]\")\n",
        "axes[1].set_ylabel(\"T [s]\")\n",
        "\n",
        "sns.boxplot(x=θ, y=T, ax=axes[2])\n",
        "axes[2].set_xlabel(\"θ [°]\")\n",
        "axes[2].set_ylabel(\"T [s]\")\n",
        "\n",
        "\n",
        "plt.tight_layout()\n",
        "plt.show()"
      ],
      "metadata": {
        "colab": {
          "base_uri": "https://localhost:8080/",
          "height": 507
        },
        "id": "kqu9EoELDxA-",
        "outputId": "27956469-80a2-4eab-ee05-0e4922ba85c8"
      },
      "id": "kqu9EoELDxA-",
      "execution_count": 4,
      "outputs": [
        {
          "output_type": "display_data",
          "data": {
            "text/plain": [
              "<Figure size 1500x500 with 3 Axes>"
            ],
            "image/png": "[encoded data removed]"
          },
          "metadata": {}
        }
      ]
    },
    {
      "cell_type": "code",
      "source": [
        "import pandas as pd\n",
        "import statsmodels.api as sm\n",
        "import seaborn as sns\n",
        "import matplotlib.pyplot as plt\n",
        "\n",
        "# assuming you already have:\n",
        "# T = data['period'], L = data['L'], m = data['m'], θ = data['angle']\n",
        "# all columns are in `data`\n",
        "\n",
        "# full table with run order if randomized\n",
        "data = data.reset_index().rename(columns={'index': 'run_order'})\n",
        "print(data.head())\n",
        "\n",
        "# summaries by each factor\n",
        "summary_L = data.groupby('L')['period'].agg(['mean', 'std']).reset_index()\n",
        "summary_m = data.groupby('m')['period'].agg(['mean', 'std']).reset_index()\n",
        "summary_theta = data.groupby('angle')['period'].agg(['mean', 'std']).reset_index()\n",
        "\n",
        "print(\"\\nSummary by L:\\n\", summary_L)\n",
        "print(\"\\nSummary by m:\\n\", summary_m)\n",
        "print(\"\\nSummary by θ:\\n\", summary_theta)\n"
      ],
      "metadata": {
        "colab": {
          "base_uri": "https://localhost:8080/"
        },
        "id": "Tr0Sg6l6AIOV",
        "outputId": "bc7b7a02-83e0-440b-b117-e51b2250a77b"
      },
      "id": "Tr0Sg6l6AIOV",
      "execution_count": 5,
      "outputs": [
        {
          "output_type": "stream",
          "name": "stdout",
          "text": [
            "   run_order      L   m  angle  time_Sab  time_Flo  time_avg  period\n",
            "0          0  0.655  77      5      8.06      8.10     8.080   1.616\n",
            "1          1  0.655  77     10      8.24      8.23     8.235   1.647\n",
            "2          2  0.655  77     20      8.19      8.23     8.210   1.642\n",
            "3          3  0.330  77      5      5.83      5.26     5.545   1.109\n",
            "4          4  0.330  77     10      5.88      6.00     5.940   1.188\n",
            "\n",
            "Summary by L:\n",
            "        L      mean       std\n",
            "0  0.330  1.160111  0.031711\n",
            "1  0.655  1.632111  0.021351\n",
            "2  1.200  2.213222  0.018089\n",
            "\n",
            "Summary by m:\n",
            "      m      mean       std\n",
            "0   77  1.661889  0.470522\n",
            "1  139  1.678556  0.451492\n",
            "2  220  1.665000  0.449939\n",
            "\n",
            "Summary by θ:\n",
            "    angle      mean       std\n",
            "0      5  1.669000  0.462582\n",
            "1     10  1.670556  0.441573\n",
            "2     20  1.665889  0.467841\n"
          ]
        }
      ]
    },
    {
      "cell_type": "markdown",
      "id": "d3df7a0d",
      "metadata": {
        "id": "d3df7a0d"
      },
      "source": [
        "### 4) Primary analysis - ANOVA"
      ]
    },
    {
      "cell_type": "code",
      "source": [
        "import statsmodels.api as sm\n",
        "import statsmodels.formula.api as smf\n",
        "\n",
        "# Make sure categorical factors are coded correctly\n",
        "data['L'] = data['L'].astype('category')\n",
        "data['m'] = data['m'].astype('category')\n",
        "data['angle'] = data['angle'].astype('category')\n"
      ],
      "metadata": {
        "id": "QbICcOCcalTi"
      },
      "id": "QbICcOCcalTi",
      "execution_count": 6,
      "outputs": []
    },
    {
      "cell_type": "code",
      "source": [
        "# additive model (no interactions)\n",
        "model = smf.ols('period ~ C(L) + C(m) + C(angle)', data=data).fit()\n",
        "anova_table = sm.stats.anova_lm(model, typ=2)  # Type II for balanced designs\n",
        "print(anova_table)"
      ],
      "metadata": {
        "colab": {
          "base_uri": "https://localhost:8080/"
        },
        "id": "hKSIoUrxBHsk",
        "outputId": "c1eda94b-2384-4791-ae1d-709e18d1fe98"
      },
      "id": "hKSIoUrxBHsk",
      "execution_count": 30,
      "outputs": [
        {
          "output_type": "stream",
          "name": "stdout",
          "text": [
            "            sum_sq    df            F        PR(>F)\n",
            "C(L)      5.008551   2.0  3877.760026  9.276774e-29\n",
            "C(angle)  0.000102   2.0     0.078684  9.245904e-01\n",
            "Residual  0.014208  22.0          NaN           NaN\n"
          ]
        }
      ]
    },
    {
      "cell_type": "code",
      "source": [
        "F_m = anova_table.loc['C(m)', 'F']\n",
        "df_m = (anova_table.loc['C(m)', 'df'], anova_table.loc['Residual', 'df'])\n",
        "p_m = anova_table.loc['C(m)', 'PR(>F)']\n",
        "\n",
        "print(f\"Effect of mass m: F({df_m[0]:.0f}, {df_m[1]:.0f}) = {F_m:.3f}, p = {p_m:.4f}\")\n"
      ],
      "metadata": {
        "colab": {
          "base_uri": "https://localhost:8080/"
        },
        "id": "zhcXymuyBPTW",
        "outputId": "615a08eb-04b5-430a-90c4-b0c249afa6d1"
      },
      "id": "zhcXymuyBPTW",
      "execution_count": 8,
      "outputs": [
        {
          "output_type": "stream",
          "name": "stdout",
          "text": [
            "Effect of mass m: F(2, 20) = 1.105, p = 0.3506\n"
          ]
        }
      ]
    },
    {
      "cell_type": "markdown",
      "source": [
        "By examining the table, we can see that the F and p-value for the string length (L) indicate that this factor is significant, since F is very large for L (the variance explained by L is approximately 3915 times greater than the variance due to random error), and the p-value is below 0.05.\n",
        "\n",
        "Conversely, the ANOVA table suggests that the mass (M) has no detectable effect, as its p-value is not significant (>0.05) and the F value is approximately 1.\n",
        "\n",
        "Finally, everything indicates that the angle has no impact, with a very large p-value (>0.9) and an F factor close to 0."
      ],
      "metadata": {
        "id": "3DPnDCRaoVE1"
      },
      "id": "3DPnDCRaoVE1"
    },
    {
      "cell_type": "markdown",
      "id": "3f8b8bcf",
      "metadata": {
        "id": "3f8b8bcf"
      },
      "source": [
        "### 5) Tukey, LSD"
      ]
    },
    {
      "cell_type": "code",
      "source": [
        "from statsmodels.stats.multicomp import pairwise_tukeyhsd\n",
        "\n",
        "tukey_angle = pairwise_tukeyhsd(data['period'], data['angle'])\n",
        "print(tukey_angle)\n",
        "tukey_m = pairwise_tukeyhsd(data['period'], data['m'])\n",
        "print(tukey_m)\n",
        "tukey_L = pairwise_tukeyhsd(data['period'], data['L'])\n",
        "print(tukey_L)\n"
      ],
      "metadata": {
        "id": "-F9XLNwlamiw",
        "colab": {
          "base_uri": "https://localhost:8080/"
        },
        "outputId": "054624e5-86f2-431b-e683-1a0fa8e01e3e"
      },
      "id": "-F9XLNwlamiw",
      "execution_count": 9,
      "outputs": [
        {
          "output_type": "stream",
          "name": "stdout",
          "text": [
            "Multiple Comparison of Means - Tukey HSD, FWER=0.05\n",
            "===================================================\n",
            "group1 group2 meandiff p-adj   lower  upper  reject\n",
            "---------------------------------------------------\n",
            "     5     10   0.0016    1.0  -0.537 0.5401  False\n",
            "     5     20  -0.0031 0.9999 -0.5417 0.5354  False\n",
            "    10     20  -0.0047 0.9997 -0.5432 0.5339  False\n",
            "---------------------------------------------------\n",
            "Multiple Comparison of Means - Tukey HSD, FWER=0.05\n",
            "===================================================\n",
            "group1 group2 meandiff p-adj   lower  upper  reject\n",
            "---------------------------------------------------\n",
            "    77    139   0.0167 0.9967 -0.5218 0.5551  False\n",
            "    77    220   0.0031 0.9999 -0.5354 0.5416  False\n",
            "   139    220  -0.0136 0.9978  -0.552 0.5249  False\n",
            "---------------------------------------------------\n",
            "Multiple Comparison of Means - Tukey HSD, FWER=0.05\n",
            "=================================================\n",
            "group1 group2 meandiff p-adj lower  upper  reject\n",
            "-------------------------------------------------\n",
            "  0.33  0.655    0.472   0.0 0.4433 0.5007   True\n",
            "  0.33    1.2   1.0531   0.0 1.0244 1.0819   True\n",
            " 0.655    1.2   0.5811   0.0 0.5524 0.6099   True\n",
            "-------------------------------------------------\n"
          ]
        }
      ]
    },
    {
      "cell_type": "markdown",
      "source": [
        "\n",
        "    \n",
        "\n",
        "*   tukey_angle : All adjusted p-values (p-adj) are not significant (>>0.05) and all reject values are False. There is no significant difference in the period of the pendulum between the different angles.\n",
        "* tukey_m : Similarly, for the mass (m) of the pendulum bob, all adjusted p-values are very high and all reject values are False. We can affirm that the mass has no significant impact.\n",
        "* tukey_L : All adjusted p-values are 0 and all reject values are True, indicating that there are significant differences in the period depending on the length.\n",
        "\n",
        "\n",
        "\n",
        "\n"
      ],
      "metadata": {
        "id": "QcllPzKZod1Z"
      },
      "id": "QcllPzKZod1Z"
    },
    {
      "cell_type": "code",
      "source": [
        "#Added by JF\n",
        "from statsmodels.stats.multicomp import MultiComparison\n",
        "\n",
        "print(anova_table)\n",
        "\n",
        "# Post-hoc for angle (while controlling for others)\n",
        "mc_angle = MultiComparison(model.resid + model.fittedvalues, data['angle'])\n",
        "tukey_angle = mc_angle.tukeyhsd()\n",
        "print(tukey_angle)\n"
      ],
      "metadata": {
        "colab": {
          "base_uri": "https://localhost:8080/"
        },
        "id": "ijQUGBeUQ5sD",
        "outputId": "1ee10b14-e1b8-42c6-cfd6-0c479049637b"
      },
      "id": "ijQUGBeUQ5sD",
      "execution_count": 28,
      "outputs": [
        {
          "output_type": "stream",
          "name": "stdout",
          "text": [
            "            sum_sq    df            F        PR(>F)\n",
            "C(L)      5.008551   2.0  3914.743168  1.153155e-26\n",
            "C(m)      0.001414   2.0     1.104910  3.506305e-01\n",
            "C(angle)  0.000102   2.0     0.079435  9.239280e-01\n",
            "Residual  0.012794  20.0          NaN           NaN\n",
            "Multiple Comparison of Means - Tukey HSD, FWER=0.05\n",
            "===================================================\n",
            "group1 group2 meandiff p-adj   lower  upper  reject\n",
            "---------------------------------------------------\n",
            "     5     10   0.0016    1.0  -0.537 0.5401  False\n",
            "     5     20  -0.0031 0.9999 -0.5417 0.5354  False\n",
            "    10     20  -0.0047 0.9997 -0.5432 0.5339  False\n",
            "---------------------------------------------------\n"
          ]
        }
      ]
    },
    {
      "cell_type": "code",
      "source": [
        "from statsmodels.stats.multicomp import pairwise_tukeyhsd\n",
        "\n",
        "for l in data['L'].unique():\n",
        "    d = data.query('L == @l')\n",
        "    print(f'--- L == {l} ---')\n",
        "    print(pairwise_tukeyhsd(endog=d['period'], groups=d['angle']))"
      ],
      "metadata": {
        "colab": {
          "base_uri": "https://localhost:8080/"
        },
        "id": "39SpgsKESuA_",
        "outputId": "3d4d0a85-78b3-4b61-e560-ead9683d45b4"
      },
      "id": "39SpgsKESuA_",
      "execution_count": 32,
      "outputs": [
        {
          "output_type": "stream",
          "name": "stdout",
          "text": [
            "--- L == 0.655 ---\n",
            "Multiple Comparison of Means - Tukey HSD, FWER=0.05\n",
            "===================================================\n",
            "group1 group2 meandiff p-adj   lower  upper  reject\n",
            "---------------------------------------------------\n",
            "     5     10  -0.0007 0.9994 -0.0619 0.0605  False\n",
            "     5     20   -0.006 0.9518 -0.0672 0.0552  False\n",
            "    10     20  -0.0053 0.9616 -0.0665 0.0559  False\n",
            "---------------------------------------------------\n",
            "--- L == 0.33 ---\n",
            "Multiple Comparison of Means - Tukey HSD, FWER=0.05\n",
            "===================================================\n",
            "group1 group2 meandiff p-adj   lower  upper  reject\n",
            "---------------------------------------------------\n",
            "     5     10   0.0263 0.5975 -0.0536 0.1063  False\n",
            "     5     20   -0.008 0.9498 -0.0879 0.0719  False\n",
            "    10     20  -0.0343 0.4368 -0.1143 0.0456  False\n",
            "---------------------------------------------------\n",
            "--- L == 1.2 ---\n",
            "Multiple Comparison of Means - Tukey HSD, FWER=0.05\n",
            "===================================================\n",
            "group1 group2 meandiff p-adj   lower  upper  reject\n",
            "---------------------------------------------------\n",
            "     5     10   -0.021 0.3052 -0.0606 0.0186  False\n",
            "     5     20   0.0047 0.9311 -0.0349 0.0442  False\n",
            "    10     20   0.0257 0.1952 -0.0139 0.0652  False\n",
            "---------------------------------------------------\n"
          ]
        }
      ]
    },
    {
      "cell_type": "code",
      "source": [
        "import statsmodels.api as sm\n",
        "from statsmodels.formula.api import ols\n",
        "from statsmodels.stats.multitest import multipletests\n",
        "\n",
        "def pairwise_lsmeans(data, formula, factor, p_adjust=\"holm\"):\n",
        "    \"\"\"\n",
        "    Run pairwise LSMeans comparisons for a factor from an OLS model.\n",
        "    \"\"\"\n",
        "    res = ols(formula, data=data).fit()\n",
        "    pw = res.t_test_pairwise(factor)\n",
        "    df = pw.result_frame\n",
        "    #print(df)\n",
        "    df[\"p_adj\"] = multipletests(df[\"P>|t|\"], method=p_adjust)[1]\n",
        "    return df\n",
        "\n",
        "\n",
        "(pairwise_lsmeans(data, \"period ~ C(angle)+C(m)+C(L)\", \"C(angle)\"))\n"
      ],
      "metadata": {
        "colab": {
          "base_uri": "https://localhost:8080/",
          "height": 143
        },
        "id": "gMyItFfsVsIZ",
        "outputId": "8f6ac622-1da7-47a8-cf8a-0b0cf7e177b4"
      },
      "id": "gMyItFfsVsIZ",
      "execution_count": 40,
      "outputs": [
        {
          "output_type": "execute_result",
          "data": {
            "text/plain": [
              "           coef   std err         t     P>|t|  Conf. Int. Low  \\\n",
              "10-5   0.001556  0.011923  0.130468  0.897500       -0.023315   \n",
              "20-5  -0.003111  0.011923 -0.260935  0.796811       -0.027982   \n",
              "20-10 -0.004667  0.011923 -0.391403  0.699639       -0.029537   \n",
              "\n",
              "       Conf. Int. Upp.  pvalue-hs  reject-hs  p_adj  \n",
              "10-5          0.026426   0.972902      False    1.0  \n",
              "20-5          0.021760   0.972902      False    1.0  \n",
              "20-10         0.020204   0.972902      False    1.0  "
            ],
            "text/html": [
              "\n",
              "  <div id=\"df-e009a5b1-2d88-404d-a37a-4a673119eb33\" class=\"colab-df-container\">\n",
              "    <div>\n",
              "<style scoped>\n",
              "    .dataframe tbody tr th:only-of-type {\n",
              "        vertical-align: middle;\n",
              "    }\n",
              "\n",
              "    .dataframe tbody tr th {\n",
              "        vertical-align: top;\n",
              "    }\n",
              "\n",
              "    .dataframe thead th {\n",
              "        text-align: right;\n",
              "    }\n",
              "</style>\n",
              "<table border=\"1\" class=\"dataframe\">\n",
              "  <thead>\n",
              "    <tr style=\"text-align: right;\">\n",
              "      <th></th>\n",
              "      <th>coef</th>\n",
              "      <th>std err</th>\n",
              "      <th>t</th>\n",
              "      <th>P&gt;|t|</th>\n",
              "      <th>Conf. Int. Low</th>\n",
              "      <th>Conf. Int. Upp.</th>\n",
              "      <th>pvalue-hs</th>\n",
              "      <th>reject-hs</th>\n",
              "      <th>p_adj</th>\n",
              "    </tr>\n",
              "  </thead>\n",
              "  <tbody>\n",
              "    <tr>\n",
              "      <th>10-5</th>\n",
              "      <td>0.001556</td>\n",
              "      <td>0.011923</td>\n",
              "      <td>0.130468</td>\n",
              "      <td>0.897500</td>\n",
              "      <td>-0.023315</td>\n",
              "      <td>0.026426</td>\n",
              "      <td>0.972902</td>\n",
              "      <td>False</td>\n",
              "      <td>1.0</td>\n",
              "    </tr>\n",
              "    <tr>\n",
              "      <th>20-5</th>\n",
              "      <td>-0.003111</td>\n",
              "      <td>0.011923</td>\n",
              "      <td>-0.260935</td>\n",
              "      <td>0.796811</td>\n",
              "      <td>-0.027982</td>\n",
              "      <td>0.021760</td>\n",
              "      <td>0.972902</td>\n",
              "      <td>False</td>\n",
              "      <td>1.0</td>\n",
              "    </tr>\n",
              "    <tr>\n",
              "      <th>20-10</th>\n",
              "      <td>-0.004667</td>\n",
              "      <td>0.011923</td>\n",
              "      <td>-0.391403</td>\n",
              "      <td>0.699639</td>\n",
              "      <td>-0.029537</td>\n",
              "      <td>0.020204</td>\n",
              "      <td>0.972902</td>\n",
              "      <td>False</td>\n",
              "      <td>1.0</td>\n",
              "    </tr>\n",
              "  </tbody>\n",
              "</table>\n",
              "</div>\n",
              "    <div class=\"colab-df-buttons\">\n",
              "\n",
              "  <div class=\"colab-df-container\">\n",
              "    <button class=\"colab-df-convert\" onclick=\"convertToInteractive('df-e009a5b1-2d88-404d-a37a-4a673119eb33')\"\n",
              "            title=\"Convert this dataframe to an interactive table.\"\n",
              "            style=\"display:none;\">\n",
              "\n",
              "  <svg xmlns=\"http://www.w3.org/2000/svg\" height=\"24px\" viewBox=\"0 -960 960 960\">\n",
              "    <path d=\"M120-120v-720h720v720H120Zm60-500h600v-160H180v160Zm220 220h160v-160H400v160Zm0 220h160v-160H400v160ZM180-400h160v-160H180v160Zm440 0h160v-160H620v160ZM180-180h160v-160H180v160Zm440 0h160v-160H620v160Z\"/>\n",
              "  </svg>\n",
              "    </button>\n",
              "\n",
              "  <style>\n",
              "    .colab-df-container {\n",
              "      display:flex;\n",
              "      gap: 12px;\n",
              "    }\n",
              "\n",
              "    .colab-df-convert {\n",
              "      background-color: #E8F0FE;\n",
              "      border: none;\n",
              "      border-radius: 50%;\n",
              "      cursor: pointer;\n",
              "      display: none;\n",
              "      fill: #1967D2;\n",
              "      height: 32px;\n",
              "      padding: 0 0 0 0;\n",
              "      width: 32px;\n",
              "    }\n",
              "\n",
              "    .colab-df-convert:hover {\n",
              "      background-color: #E2EBFA;\n",
              "      box-shadow: 0px 1px 2px rgba(60, 64, 67, 0.3), 0px 1px 3px 1px rgba(60, 64, 67, 0.15);\n",
              "      fill: #174EA6;\n",
              "    }\n",
              "\n",
              "    .colab-df-buttons div {\n",
              "      margin-bottom: 4px;\n",
              "    }\n",
              "\n",
              "    [theme=dark] .colab-df-convert {\n",
              "      background-color: #3B4455;\n",
              "      fill: #D2E3FC;\n",
              "    }\n",
              "\n",
              "    [theme=dark] .colab-df-convert:hover {\n",
              "      background-color: #434B5C;\n",
              "      box-shadow: 0px 1px 3px 1px rgba(0, 0, 0, 0.15);\n",
              "      filter: drop-shadow(0px 1px 2px rgba(0, 0, 0, 0.3));\n",
              "      fill: #FFFFFF;\n",
              "    }\n",
              "  </style>\n",
              "\n",
              "    <script>\n",
              "      const buttonEl =\n",
              "        document.querySelector('#df-e009a5b1-2d88-404d-a37a-4a673119eb33 button.colab-df-convert');\n",
              "      buttonEl.style.display =\n",
              "        google.colab.kernel.accessAllowed ? 'block' : 'none';\n",
              "\n",
              "      async function convertToInteractive(key) {\n",
              "        const element = document.querySelector('#df-e009a5b1-2d88-404d-a37a-4a673119eb33');\n",
              "        const dataTable =\n",
              "          await google.colab.kernel.invokeFunction('convertToInteractive',\n",
              "                                                    [key], {});\n",
              "        if (!dataTable) return;\n",
              "\n",
              "        const docLinkHtml = 'Like what you see? Visit the ' +\n",
              "          '<a target=\"_blank\" href=https://colab.research.google.com/notebooks/data_table.ipynb>data table notebook</a>'\n",
              "          + ' to learn more about interactive tables.';\n",
              "        element.innerHTML = '';\n",
              "        dataTable['output_type'] = 'display_data';\n",
              "        await google.colab.output.renderOutput(dataTable, element);\n",
              "        const docLink = document.createElement('div');\n",
              "        docLink.innerHTML = docLinkHtml;\n",
              "        element.appendChild(docLink);\n",
              "      }\n",
              "    </script>\n",
              "  </div>\n",
              "\n",
              "\n",
              "    <div id=\"df-5f30058b-92b6-4608-afcb-888d4508113b\">\n",
              "      <button class=\"colab-df-quickchart\" onclick=\"quickchart('df-5f30058b-92b6-4608-afcb-888d4508113b')\"\n",
              "                title=\"Suggest charts\"\n",
              "                style=\"display:none;\">\n",
              "\n",
              "<svg xmlns=\"http://www.w3.org/2000/svg\" height=\"24px\"viewBox=\"0 0 24 24\"\n",
              "     width=\"24px\">\n",
              "    <g>\n",
              "        <path d=\"M19 3H5c-1.1 0-2 .9-2 2v14c0 1.1.9 2 2 2h14c1.1 0 2-.9 2-2V5c0-1.1-.9-2-2-2zM9 17H7v-7h2v7zm4 0h-2V7h2v10zm4 0h-2v-4h2v4z\"/>\n",
              "    </g>\n",
              "</svg>\n",
              "      </button>\n",
              "\n",
              "<style>\n",
              "  .colab-df-quickchart {\n",
              "      --bg-color: #E8F0FE;\n",
              "      --fill-color: #1967D2;\n",
              "      --hover-bg-color: #E2EBFA;\n",
              "      --hover-fill-color: #174EA6;\n",
              "      --disabled-fill-color: #AAA;\n",
              "      --disabled-bg-color: #DDD;\n",
              "  }\n",
              "\n",
              "  [theme=dark] .colab-df-quickchart {\n",
              "      --bg-color: #3B4455;\n",
              "      --fill-color: #D2E3FC;\n",
              "      --hover-bg-color: #434B5C;\n",
              "      --hover-fill-color: #FFFFFF;\n",
              "      --disabled-bg-color: #3B4455;\n",
              "      --disabled-fill-color: #666;\n",
              "  }\n",
              "\n",
              "  .colab-df-quickchart {\n",
              "    background-color: var(--bg-color);\n",
              "    border: none;\n",
              "    border-radius: 50%;\n",
              "    cursor: pointer;\n",
              "    display: none;\n",
              "    fill: var(--fill-color);\n",
              "    height: 32px;\n",
              "    padding: 0;\n",
              "    width: 32px;\n",
              "  }\n",
              "\n",
              "  .colab-df-quickchart:hover {\n",
              "    background-color: var(--hover-bg-color);\n",
              "    box-shadow: 0 1px 2px rgba(60, 64, 67, 0.3), 0 1px 3px 1px rgba(60, 64, 67, 0.15);\n",
              "    fill: var(--button-hover-fill-color);\n",
              "  }\n",
              "\n",
              "  .colab-df-quickchart-complete:disabled,\n",
              "  .colab-df-quickchart-complete:disabled:hover {\n",
              "    background-color: var(--disabled-bg-color);\n",
              "    fill: var(--disabled-fill-color);\n",
              "    box-shadow: none;\n",
              "  }\n",
              "\n",
              "  .colab-df-spinner {\n",
              "    border: 2px solid var(--fill-color);\n",
              "    border-color: transparent;\n",
              "    border-bottom-color: var(--fill-color);\n",
              "    animation:\n",
              "      spin 1s steps(1) infinite;\n",
              "  }\n",
              "\n",
              "  @keyframes spin {\n",
              "    0% {\n",
              "      border-color: transparent;\n",
              "      border-bottom-color: var(--fill-color);\n",
              "      border-left-color: var(--fill-color);\n",
              "    }\n",
              "    20% {\n",
              "      border-color: transparent;\n",
              "      border-left-color: var(--fill-color);\n",
              "      border-top-color: var(--fill-color);\n",
              "    }\n",
              "    30% {\n",
              "      border-color: transparent;\n",
              "      border-left-color: var(--fill-color);\n",
              "      border-top-color: var(--fill-color);\n",
              "      border-right-color: var(--fill-color);\n",
              "    }\n",
              "    40% {\n",
              "      border-color: transparent;\n",
              "      border-right-color: var(--fill-color);\n",
              "      border-top-color: var(--fill-color);\n",
              "    }\n",
              "    60% {\n",
              "      border-color: transparent;\n",
              "      border-right-color: var(--fill-color);\n",
              "    }\n",
              "    80% {\n",
              "      border-color: transparent;\n",
              "      border-right-color: var(--fill-color);\n",
              "      border-bottom-color: var(--fill-color);\n",
              "    }\n",
              "    90% {\n",
              "      border-color: transparent;\n",
              "      border-bottom-color: var(--fill-color);\n",
              "    }\n",
              "  }\n",
              "</style>\n",
              "\n",
              "      <script>\n",
              "        async function quickchart(key) {\n",
              "          const quickchartButtonEl =\n",
              "            document.querySelector('#' + key + ' button');\n",
              "          quickchartButtonEl.disabled = true;  // To prevent multiple clicks.\n",
              "          quickchartButtonEl.classList.add('colab-df-spinner');\n",
              "          try {\n",
              "            const charts = await google.colab.kernel.invokeFunction(\n",
              "                'suggestCharts', [key], {});\n",
              "          } catch (error) {\n",
              "            console.error('Error during call to suggestCharts:', error);\n",
              "          }\n",
              "          quickchartButtonEl.classList.remove('colab-df-spinner');\n",
              "          quickchartButtonEl.classList.add('colab-df-quickchart-complete');\n",
              "        }\n",
              "        (() => {\n",
              "          let quickchartButtonEl =\n",
              "            document.querySelector('#df-5f30058b-92b6-4608-afcb-888d4508113b button');\n",
              "          quickchartButtonEl.style.display =\n",
              "            google.colab.kernel.accessAllowed ? 'block' : 'none';\n",
              "        })();\n",
              "      </script>\n",
              "    </div>\n",
              "\n",
              "    </div>\n",
              "  </div>\n"
            ],
            "application/vnd.google.colaboratory.intrinsic+json": {
              "type": "dataframe",
              "summary": "{\n  \"name\": \"(pairwise_lsmeans(data, \\\"period ~ C(angle)+C(m)+C(L)\\\", \\\"C(angle)\\\"))\",\n  \"rows\": 3,\n  \"fields\": [\n    {\n      \"column\": \"coef\",\n      \"properties\": {\n        \"dtype\": \"number\",\n        \"std\": 0.0032381471102811673,\n        \"min\": -0.004666666666667179,\n        \"max\": 0.0015555555555561292,\n        \"num_unique_values\": 3,\n        \"samples\": [\n          0.0015555555555561292,\n          -0.0031111111111110494,\n          -0.004666666666667179\n        ],\n        \"semantic_type\": \"\",\n        \"description\": \"\"\n      }\n    },\n    {\n      \"column\": \"std err\",\n      \"properties\": {\n        \"dtype\": \"number\",\n        \"std\": 3.469446951953614e-18,\n        \"min\": 0.011922934982663577,\n        \"max\": 0.011922934982663584,\n        \"num_unique_values\": 3,\n        \"samples\": [\n          0.011922934982663584,\n          0.011922934982663577,\n          0.01192293498266358\n        ],\n        \"semantic_type\": \"\",\n        \"description\": \"\"\n      }\n    },\n    {\n      \"column\": \"t\",\n      \"properties\": {\n        \"dtype\": \"number\",\n        \"std\": 0.2715897650192307,\n        \"min\": -0.39140250898396217,\n        \"max\": 0.13046750299468782,\n        \"num_unique_values\": 3,\n        \"samples\": [\n          0.13046750299468782,\n          -0.2609350059892744,\n          -0.39140250898396217\n        ],\n        \"semantic_type\": \"\",\n        \"description\": \"\"\n      }\n    },\n    {\n      \"column\": \"P>|t|\",\n      \"properties\": {\n        \"dtype\": \"number\",\n        \"std\": 0.09893589543110892,\n        \"min\": 0.6996385566948329,\n        \"max\": 0.8974999268655848,\n        \"num_unique_values\": 3,\n        \"samples\": [\n          0.8974999268655848,\n          0.796810588920636,\n          0.6996385566948329\n        ],\n        \"semantic_type\": \"\",\n        \"description\": \"\"\n      }\n    },\n    {\n      \"column\": \"Conf. Int. Low\",\n      \"properties\": {\n        \"dtype\": \"number\",\n        \"std\": 0.003238147110281163,\n        \"min\": -0.029537473224630538,\n        \"max\": -0.023315251002407236,\n        \"num_unique_values\": 3,\n        \"samples\": [\n          -0.023315251002407236,\n          -0.027981917669074402,\n          -0.029537473224630538\n        ],\n        \"semantic_type\": \"\",\n        \"description\": \"\"\n      }\n    },\n    {\n      \"column\": \"Conf. Int. Upp.\",\n      \"properties\": {\n        \"dtype\": \"number\",\n        \"std\": 0.0032381471102811733,\n        \"min\": 0.02020413989129618,\n        \"max\": 0.026426362113519494,\n        \"num_unique_values\": 3,\n        \"samples\": [\n          0.026426362113519494,\n          0.0217596954468523,\n          0.02020413989129618\n        ],\n        \"semantic_type\": \"\",\n        \"description\": \"\"\n      }\n    },\n    {\n      \"column\": \"pvalue-hs\",\n      \"properties\": {\n        \"dtype\": \"number\",\n        \"std\": 1.3597399555105182e-16,\n        \"min\": 0.9729022926832489,\n        \"max\": 0.9729022926832489,\n        \"num_unique_values\": 1,\n        \"samples\": [\n          0.9729022926832489\n        ],\n        \"semantic_type\": \"\",\n        \"description\": \"\"\n      }\n    },\n    {\n      \"column\": \"reject-hs\",\n      \"properties\": {\n        \"dtype\": \"boolean\",\n        \"num_unique_values\": 1,\n        \"samples\": [\n          false\n        ],\n        \"semantic_type\": \"\",\n        \"description\": \"\"\n      }\n    },\n    {\n      \"column\": \"p_adj\",\n      \"properties\": {\n        \"dtype\": \"number\",\n        \"std\": 0.0,\n        \"min\": 1.0,\n        \"max\": 1.0,\n        \"num_unique_values\": 1,\n        \"samples\": [\n          1.0\n        ],\n        \"semantic_type\": \"\",\n        \"description\": \"\"\n      }\n    }\n  ]\n}"
            }
          },
          "metadata": {},
          "execution_count": 40
        }
      ]
    },
    {
      "cell_type": "markdown",
      "id": "a522178e",
      "metadata": {
        "id": "a522178e"
      },
      "source": [
        "### 6) Assumptions and diagnostics"
      ]
    },
    {
      "cell_type": "code",
      "source": [
        "# additive model just lenght\n",
        "model_sig = smf.ols('period ~ C(L)', data=data).fit()\n",
        "anova_table_1 = sm.stats.anova_lm(model_sig, typ=2)  # Type II for balanced designs\n",
        "print(anova_table_1)\n",
        "print(model_sig.summary())"
      ],
      "metadata": {
        "id": "62EqOIr9arYv",
        "colab": {
          "base_uri": "https://localhost:8080/"
        },
        "outputId": "88a289da-e4b3-4c85-de7e-132de73b6b3e"
      },
      "id": "62EqOIr9arYv",
      "execution_count": 11,
      "outputs": [
        {
          "output_type": "stream",
          "name": "stdout",
          "text": [
            "            sum_sq    df            F        PR(>F)\n",
            "C(L)      5.008551   2.0  4200.238787  2.857717e-31\n",
            "Residual  0.014309  24.0          NaN           NaN\n",
            "                            OLS Regression Results                            \n",
            "==============================================================================\n",
            "Dep. Variable:                 period   R-squared:                       0.997\n",
            "Model:                            OLS   Adj. R-squared:                  0.997\n",
            "Method:                 Least Squares   F-statistic:                     4200.\n",
            "Date:                Mon, 20 Oct 2025   Prob (F-statistic):           2.86e-31\n",
            "Time:                        15:38:21   Log-Likelihood:                 63.515\n",
            "No. Observations:                  27   AIC:                            -121.0\n",
            "Df Residuals:                      24   BIC:                            -117.1\n",
            "Df Model:                           2                                         \n",
            "Covariance Type:            nonrobust                                         \n",
            "=================================================================================\n",
            "                    coef    std err          t      P>|t|      [0.025      0.975]\n",
            "---------------------------------------------------------------------------------\n",
            "Intercept         1.1601      0.008    142.533      0.000       1.143       1.177\n",
            "C(L)[T.0.655]     0.4720      0.012     41.006      0.000       0.448       0.496\n",
            "C(L)[T.1.2]       1.0531      0.012     91.491      0.000       1.029       1.077\n",
            "==============================================================================\n",
            "Omnibus:                        4.599   Durbin-Watson:                   2.682\n",
            "Prob(Omnibus):                  0.100   Jarque-Bera (JB):                3.158\n",
            "Skew:                          -0.818   Prob(JB):                        0.206\n",
            "Kurtosis:                       3.365   Cond. No.                         3.73\n",
            "==============================================================================\n",
            "\n",
            "Notes:\n",
            "[1] Standard Errors assume that the covariance matrix of the errors is correctly specified.\n"
          ]
        }
      ]
    },
    {
      "cell_type": "code",
      "source": [
        "resid = model_sig.resid\n",
        "fitted = model_sig.fittedvalues"
      ],
      "metadata": {
        "id": "P01pgcxUh0nV"
      },
      "id": "P01pgcxUh0nV",
      "execution_count": 12,
      "outputs": []
    },
    {
      "cell_type": "code",
      "source": [
        "sm.qqplot(resid, line='45', fit=True)\n",
        "plt.title('QQ Plot of Residuals')\n",
        "plt.show()\n"
      ],
      "metadata": {
        "colab": {
          "base_uri": "https://localhost:8080/",
          "height": 472
        },
        "id": "4b83cyXtE7Jc",
        "outputId": "c8c63e17-52c0-45be-ddb5-9a285d4b16fa"
      },
      "id": "4b83cyXtE7Jc",
      "execution_count": 13,
      "outputs": [
        {
          "output_type": "display_data",
          "data": {
            "text/plain": [
              "<Figure size 640x480 with 1 Axes>"
            ],
            "image/png": "[encoded data removed]"
          },
          "metadata": {}
        }
      ]
    },
    {
      "cell_type": "code",
      "source": [
        "from scipy import stats\n",
        "# --- Shapiro-Wilk test ---\n",
        "shapiro_stat, shapiro_p = stats.shapiro(resid)\n",
        "print(f\"Shapiro–Wilk Test:\")\n",
        "print(f\"  Statistic = {shapiro_stat:.3f}\")\n",
        "print(f\"  p-value   = {shapiro_p:.3f}\")"
      ],
      "metadata": {
        "colab": {
          "base_uri": "https://localhost:8080/"
        },
        "id": "mCplf4nvE8Hj",
        "outputId": "78f0ad27-cdce-413f-f102-b2fe28e03f53"
      },
      "id": "mCplf4nvE8Hj",
      "execution_count": 14,
      "outputs": [
        {
          "output_type": "stream",
          "name": "stdout",
          "text": [
            "Shapiro–Wilk Test:\n",
            "  Statistic = 0.935\n",
            "  p-value   = 0.091\n"
          ]
        }
      ]
    },
    {
      "cell_type": "markdown",
      "source": [
        "QQ plot and Shapiro-Wilk test do not reject hypothesis. We consider residuals normally distributed.\n",
        "\n"
      ],
      "metadata": {
        "id": "cOPGN5XESzMk"
      },
      "id": "cOPGN5XESzMk"
    },
    {
      "cell_type": "code",
      "source": [
        "sns.scatterplot(x=fitted, y=resid)\n",
        "plt.axhline(0, color='red', linestyle='--')\n",
        "plt.title('Residuals vs Fitted Values')\n",
        "plt.xlabel('Fitted Period')\n",
        "plt.ylabel('Residuals')\n",
        "plt.show()\n"
      ],
      "metadata": {
        "colab": {
          "base_uri": "https://localhost:8080/",
          "height": 472
        },
        "id": "jbLPDBfkh9Bk",
        "outputId": "025e4ba8-541c-4447-843a-e996fbb290b6"
      },
      "id": "jbLPDBfkh9Bk",
      "execution_count": 15,
      "outputs": [
        {
          "output_type": "display_data",
          "data": {
            "text/plain": [
              "<Figure size 640x480 with 1 Axes>"
            ],
            "image/png": "[encoded data removed]"
          },
          "metadata": {}
        }
      ]
    },
    {
      "cell_type": "markdown",
      "source": [
        "We can see two outliers which were probably caused by human mistake, because the measurement for shorter length was more dificult. Apart from that we can say that the residuals are homoscadastic."
      ],
      "metadata": {
        "id": "D_AW1IR3iAU3"
      },
      "id": "D_AW1IR3iAU3"
    },
    {
      "cell_type": "markdown",
      "id": "2b46ee79",
      "metadata": {
        "id": "2b46ee79"
      },
      "source": [
        "### 7) Post-study power/reflection"
      ]
    },
    {
      "cell_type": "code",
      "source": [
        "import numpy as np\n",
        "import pandas as pd\n",
        "import statsmodels.api as sm\n",
        "from statsmodels.formula.api import ols\n",
        "from statsmodels.stats.power import FTestAnovaPower\n",
        "\n",
        "# --- fit one-way ANOVA ---\n",
        "model = ols('T ~ C(L)', data=data).fit()\n",
        "anova  = sm.stats.anova_lm(model, typ=2)\n",
        "\n",
        "# --- pull sums of squares ---\n",
        "ss_between = anova.loc['C(L)', 'sum_sq']\n",
        "ss_within  = anova.loc['Residual', 'sum_sq']\n",
        "df_between = anova.loc['C(L)', 'df']\n",
        "df_within  = anova.loc['Residual', 'df']\n",
        "\n",
        "# --- effect size for one-way ANOVA ---\n",
        "eta_sq = ss_between / (ss_between + ss_within)               # same as partial η² here\n",
        "f_cohen = np.sqrt(eta_sq / (1.0 - eta_sq))                   # Cohen's f\n",
        "k_groups = data['L'].nunique()                                 # number of levels of L\n",
        "nobs = len(data)                                               # total N\n",
        "\n",
        "solver = FTestAnovaPower()\n",
        "\n",
        "# Power at alpha = 0.05\n",
        "power_005 = solver.power(effect_size=f_cohen, k_groups=k_groups, nobs=nobs, alpha=0.05)\n",
        "\n",
        "print(power_005)"
      ],
      "metadata": {
        "id": "as8IdKOfar6t",
        "colab": {
          "base_uri": "https://localhost:8080/"
        },
        "outputId": "333bb46e-3c85-4be2-a42a-217bbfd07cba"
      },
      "id": "as8IdKOfar6t",
      "execution_count": 16,
      "outputs": [
        {
          "output_type": "stream",
          "name": "stdout",
          "text": [
            "1.0\n"
          ]
        }
      ]
    },
    {
      "cell_type": "code",
      "source": [
        "import numpy as np\n",
        "from math import ceil\n",
        "from statsmodels.stats.power import FTestAnovaPower\n",
        "\n",
        "alpha = 0.05\n",
        "k_groups = 3          # three levels (e.g., mass or length)\n",
        "delta = 0.1           # total range across the 3 group means, in seconds\n",
        "\n",
        "# from your fitted ANOVA:\n",
        "ss_within  = anova.loc['Residual', 'sum_sq']\n",
        "df_within  = anova.loc['Residual', 'df']\n",
        "mse_within = ss_within / df_within\n",
        "sigma_hat  = float(np.sqrt(mse_within))     # SD, not MSE\n",
        "\n",
        "# Cohen's f for 3 equally spaced means [-Δ/2, 0, +Δ/2]\n",
        "f = delta / (sigma_hat * np.sqrt(6))\n",
        "\n",
        "solver = FTestAnovaPower()\n",
        "N_total_90 = solver.solve_power(effect_size=f, k_groups=k_groups, power=0.90, alpha=alpha)\n",
        "reps_per_group_90 = ceil(N_total_90 / k_groups)\n",
        "\n",
        "print({\n",
        "    \"sigma_hat\": sigma_hat,\n",
        "    \"delta\": delta,\n",
        "    \"cohen_f\": f,\n",
        "    \"N_total_for_90pct\": N_total_90,\n",
        "    \"reps_per_group_for_90pct\": reps_per_group_90,\n",
        "})\n"
      ],
      "metadata": {
        "colab": {
          "base_uri": "https://localhost:8080/"
        },
        "id": "j1vygkIPhr2g",
        "outputId": "155c2466-a3a0-43e5-9ea9-095ec1c09eba"
      },
      "id": "j1vygkIPhr2g",
      "execution_count": 17,
      "outputs": [
        {
          "output_type": "stream",
          "name": "stdout",
          "text": [
            "{'sigma_hat': 0.024417662095749908, 'delta': 0.1, 'cohen_f': np.float64(1.671938488062385), 'N_total_for_90pct': 8.432734912867527, 'reps_per_group_for_90pct': 3}\n"
          ]
        }
      ]
    },
    {
      "cell_type": "markdown",
      "source": [
        "The power of the test for different lenght groups is 1. The needed number of observations per length group to achieve 0.9 power detecting 0.1 sec difference between groups is 3."
      ],
      "metadata": {
        "id": "EdzvPwsxhslu"
      },
      "id": "EdzvPwsxhslu"
    },
    {
      "cell_type": "markdown",
      "id": "a5fb457c",
      "metadata": {
        "id": "a5fb457c"
      },
      "source": [
        "### 8) Alternative model - regression with quantitative factors"
      ]
    },
    {
      "cell_type": "code",
      "source": [
        "import numpy as np\n",
        "import statsmodels.api as sm\n",
        "import statsmodels.formula.api as smf\n",
        "\n",
        "# if factors are numeric, ensure correct dtype\n",
        "data['L'] = pd.to_numeric(data['L'], errors='coerce')\n",
        "data['m'] = pd.to_numeric(data['m'], errors='coerce')\n",
        "data['angle'] = pd.to_numeric(data['angle'], errors='coerce')\n",
        "\n",
        "data['sqrt_L'] = np.sqrt(data['L'])\n",
        "\n",
        "# model 1: T ~ sqrt(L) + m + angle\n",
        "model1 = smf.ols('period ~ sqrt_L + m + angle', data=data).fit()\n",
        "print(model1.summary())\n"
      ],
      "metadata": {
        "id": "CoioaKW5asYO",
        "colab": {
          "base_uri": "https://localhost:8080/"
        },
        "outputId": "b5607c5b-0334-47d6-d7e3-7957f9551cee"
      },
      "id": "CoioaKW5asYO",
      "execution_count": 18,
      "outputs": [
        {
          "output_type": "stream",
          "name": "stdout",
          "text": [
            "                            OLS Regression Results                            \n",
            "==============================================================================\n",
            "Dep. Variable:                 period   R-squared:                       0.997\n",
            "Model:                            OLS   Adj. R-squared:                  0.997\n",
            "Method:                 Least Squares   F-statistic:                     2689.\n",
            "Date:                Mon, 20 Oct 2025   Prob (F-statistic):           2.06e-29\n",
            "Time:                        15:38:23   Log-Likelihood:                 63.545\n",
            "No. Observations:                  27   AIC:                            -119.1\n",
            "Df Residuals:                      23   BIC:                            -113.9\n",
            "Df Model:                           3                                         \n",
            "Covariance Type:            nonrobust                                         \n",
            "==============================================================================\n",
            "                 coef    std err          t      P>|t|      [0.025      0.975]\n",
            "------------------------------------------------------------------------------\n",
            "Intercept     -0.0012      0.024     -0.050      0.960      -0.052       0.049\n",
            "sqrt_L         2.0217      0.023     89.823      0.000       1.975       2.068\n",
            "m           1.232e-05   8.19e-05      0.150      0.882      -0.000       0.000\n",
            "angle         -0.0002      0.001     -0.318      0.753      -0.002       0.001\n",
            "==============================================================================\n",
            "Omnibus:                        3.652   Durbin-Watson:                   2.664\n",
            "Prob(Omnibus):                  0.161   Jarque-Bera (JB):                2.766\n",
            "Skew:                          -0.784   Prob(JB):                        0.251\n",
            "Kurtosis:                       2.973   Cond. No.                     1.02e+03\n",
            "==============================================================================\n",
            "\n",
            "Notes:\n",
            "[1] Standard Errors assume that the covariance matrix of the errors is correctly specified.\n",
            "[2] The condition number is large, 1.02e+03. This might indicate that there are\n",
            "strong multicollinearity or other numerical problems.\n"
          ]
        }
      ]
    },
    {
      "cell_type": "code",
      "source": [
        "data['log_T'] = 0.5*np.log(data['period'])\n",
        "data['log_L'] = np.log(data['L'])\n",
        "\n",
        "model2 = smf.ols('log_T ~ log_L + m + angle', data=data).fit()\n",
        "print(model2.summary())\n"
      ],
      "metadata": {
        "colab": {
          "base_uri": "https://localhost:8080/"
        },
        "id": "s5KQ7iTQGDiC",
        "outputId": "07eff849-bead-4804-b9da-bdaaa2e914d4"
      },
      "id": "s5KQ7iTQGDiC",
      "execution_count": 19,
      "outputs": [
        {
          "output_type": "stream",
          "name": "stdout",
          "text": [
            "                            OLS Regression Results                            \n",
            "==============================================================================\n",
            "Dep. Variable:                  log_T   R-squared:                       0.996\n",
            "Model:                            OLS   Adj. R-squared:                  0.995\n",
            "Method:                 Least Squares   F-statistic:                     1829.\n",
            "Date:                Mon, 20 Oct 2025   Prob (F-statistic):           1.71e-27\n",
            "Time:                        15:38:23   Log-Likelihood:                 90.270\n",
            "No. Observations:                  27   AIC:                            -172.5\n",
            "Df Residuals:                      23   BIC:                            -167.4\n",
            "Df Model:                           3                                         \n",
            "Covariance Type:            nonrobust                                         \n",
            "==============================================================================\n",
            "                 coef    std err          t      P>|t|      [0.025      0.975]\n",
            "------------------------------------------------------------------------------\n",
            "Intercept      0.3503      0.006     58.255      0.000       0.338       0.363\n",
            "log_L          0.2503      0.003     74.067      0.000       0.243       0.257\n",
            "m           1.728e-05   3.04e-05      0.568      0.576   -4.57e-05    8.02e-05\n",
            "angle         -0.0001      0.000     -0.458      0.651      -0.001       0.000\n",
            "==============================================================================\n",
            "Omnibus:                        8.311   Durbin-Watson:                   2.728\n",
            "Prob(Omnibus):                  0.016   Jarque-Bera (JB):                6.410\n",
            "Skew:                          -1.079   Prob(JB):                       0.0406\n",
            "Kurtosis:                       4.019   Cond. No.                         538.\n",
            "==============================================================================\n",
            "\n",
            "Notes:\n",
            "[1] Standard Errors assume that the covariance matrix of the errors is correctly specified.\n"
          ]
        }
      ]
    },
    {
      "cell_type": "code",
      "source": [
        "# drop m if not significant\n",
        "model3 = smf.ols('period ~ sqrt_L + angle', data=data).fit()\n",
        "print(model3.summary())\n"
      ],
      "metadata": {
        "colab": {
          "base_uri": "https://localhost:8080/"
        },
        "id": "wh_X-2YrGGF1",
        "outputId": "27438ecb-b0d9-4d41-81bc-85197cdd7230"
      },
      "id": "wh_X-2YrGGF1",
      "execution_count": 20,
      "outputs": [
        {
          "output_type": "stream",
          "name": "stdout",
          "text": [
            "                            OLS Regression Results                            \n",
            "==============================================================================\n",
            "Dep. Variable:                 period   R-squared:                       0.997\n",
            "Model:                            OLS   Adj. R-squared:                  0.997\n",
            "Method:                 Least Squares   F-statistic:                     4205.\n",
            "Date:                Mon, 20 Oct 2025   Prob (F-statistic):           2.82e-31\n",
            "Time:                        15:38:23   Log-Likelihood:                 63.531\n",
            "No. Observations:                  27   AIC:                            -121.1\n",
            "Df Residuals:                      24   BIC:                            -117.2\n",
            "Df Model:                           2                                         \n",
            "Covariance Type:            nonrobust                                         \n",
            "==============================================================================\n",
            "                 coef    std err          t      P>|t|      [0.025      0.975]\n",
            "------------------------------------------------------------------------------\n",
            "Intercept      0.0006      0.021      0.028      0.978      -0.042       0.043\n",
            "sqrt_L         2.0217      0.022     91.710      0.000       1.976       2.067\n",
            "angle         -0.0002      0.001     -0.325      0.748      -0.002       0.001\n",
            "==============================================================================\n",
            "Omnibus:                        3.941   Durbin-Watson:                   2.648\n",
            "Prob(Omnibus):                  0.139   Jarque-Bera (JB):                2.941\n",
            "Skew:                          -0.808   Prob(JB):                        0.230\n",
            "Kurtosis:                       3.045   Cond. No.                         83.0\n",
            "==============================================================================\n",
            "\n",
            "Notes:\n",
            "[1] Standard Errors assume that the covariance matrix of the errors is correctly specified.\n"
          ]
        }
      ]
    },
    {
      "cell_type": "code",
      "source": [
        "model4 = smf.ols('period ~ sqrt_L', data=data).fit()\n",
        "print(model4.summary())"
      ],
      "metadata": {
        "colab": {
          "base_uri": "https://localhost:8080/"
        },
        "id": "UnQ5n8UphF3z",
        "outputId": "bcc0c848-8ab4-41a0-cdc6-652cf918bcd3"
      },
      "id": "UnQ5n8UphF3z",
      "execution_count": 21,
      "outputs": [
        {
          "output_type": "stream",
          "name": "stdout",
          "text": [
            "                            OLS Regression Results                            \n",
            "==============================================================================\n",
            "Dep. Variable:                 period   R-squared:                       0.997\n",
            "Model:                            OLS   Adj. R-squared:                  0.997\n",
            "Method:                 Least Squares   F-statistic:                     8723.\n",
            "Date:                Mon, 20 Oct 2025   Prob (F-statistic):           2.51e-33\n",
            "Time:                        15:38:23   Log-Likelihood:                 63.472\n",
            "No. Observations:                  27   AIC:                            -122.9\n",
            "Df Residuals:                      25   BIC:                            -120.4\n",
            "Df Model:                           1                                         \n",
            "Covariance Type:            nonrobust                                         \n",
            "==============================================================================\n",
            "                 coef    std err          t      P>|t|      [0.025      0.975]\n",
            "------------------------------------------------------------------------------\n",
            "Intercept     -0.0023      0.018     -0.123      0.903      -0.040       0.036\n",
            "sqrt_L         2.0217      0.022     93.396      0.000       1.977       2.066\n",
            "==============================================================================\n",
            "Omnibus:                        3.906   Durbin-Watson:                   2.668\n",
            "Prob(Omnibus):                  0.142   Jarque-Bera (JB):                2.774\n",
            "Skew:                          -0.782   Prob(JB):                        0.250\n",
            "Kurtosis:                       3.149   Cond. No.                         7.99\n",
            "==============================================================================\n",
            "\n",
            "Notes:\n",
            "[1] Standard Errors assume that the covariance matrix of the errors is correctly specified.\n"
          ]
        }
      ]
    },
    {
      "cell_type": "code",
      "source": [
        "model5 = smf.ols('period ~ sqrt_L - 1', data=data).fit()\n",
        "print(model5.summary())"
      ],
      "metadata": {
        "colab": {
          "base_uri": "https://localhost:8080/"
        },
        "id": "zxdMQuenjxsK",
        "outputId": "1896ae34-82cd-461e-b39e-72c51f6c573d"
      },
      "id": "zxdMQuenjxsK",
      "execution_count": 22,
      "outputs": [
        {
          "output_type": "stream",
          "name": "stdout",
          "text": [
            "                                 OLS Regression Results                                \n",
            "=======================================================================================\n",
            "Dep. Variable:                 period   R-squared (uncentered):                   1.000\n",
            "Model:                            OLS   Adj. R-squared (uncentered):              1.000\n",
            "Method:                 Least Squares   F-statistic:                          1.451e+05\n",
            "Date:                Mon, 20 Oct 2025   Prob (F-statistic):                    3.03e-50\n",
            "Time:                        15:38:24   Log-Likelihood:                          63.464\n",
            "No. Observations:                  27   AIC:                                     -124.9\n",
            "Df Residuals:                      26   BIC:                                     -123.6\n",
            "Df Model:                           1                                                  \n",
            "Covariance Type:            nonrobust                                                  \n",
            "==============================================================================\n",
            "                 coef    std err          t      P>|t|      [0.025      0.975]\n",
            "------------------------------------------------------------------------------\n",
            "sqrt_L         2.0191      0.005    380.953      0.000       2.008       2.030\n",
            "==============================================================================\n",
            "Omnibus:                        4.272   Durbin-Watson:                   2.678\n",
            "Prob(Omnibus):                  0.118   Jarque-Bera (JB):                3.029\n",
            "Skew:                          -0.813   Prob(JB):                        0.220\n",
            "Kurtosis:                       3.216   Cond. No.                         1.00\n",
            "==============================================================================\n",
            "\n",
            "Notes:\n",
            "[1] R² is computed without centering (uncentered) since the model does not contain a constant.\n",
            "[2] Standard Errors assume that the covariance matrix of the errors is correctly specified.\n"
          ]
        }
      ]
    },
    {
      "cell_type": "code",
      "source": [
        "model6 = smf.ols('log_T ~ log_L', data=data).fit()\n",
        "print(model6.summary())"
      ],
      "metadata": {
        "id": "gnwVRU3b1upo",
        "outputId": "5276cf28-ea6d-479c-d541-01735d040d74",
        "colab": {
          "base_uri": "https://localhost:8080/"
        }
      },
      "id": "gnwVRU3b1upo",
      "execution_count": 23,
      "outputs": [
        {
          "output_type": "stream",
          "name": "stdout",
          "text": [
            "                            OLS Regression Results                            \n",
            "==============================================================================\n",
            "Dep. Variable:                  log_T   R-squared:                       0.996\n",
            "Model:                            OLS   Adj. R-squared:                  0.996\n",
            "Method:                 Least Squares   F-statistic:                     5828.\n",
            "Date:                Mon, 20 Oct 2025   Prob (F-statistic):           3.82e-31\n",
            "Time:                        15:38:24   Log-Likelihood:                 89.961\n",
            "No. Observations:                  27   AIC:                            -175.9\n",
            "Df Residuals:                      25   BIC:                            -173.3\n",
            "Df Model:                           1                                         \n",
            "Covariance Type:            nonrobust                                         \n",
            "==============================================================================\n",
            "                 coef    std err          t      P>|t|      [0.025      0.975]\n",
            "------------------------------------------------------------------------------\n",
            "Intercept      0.3513      0.002    154.601      0.000       0.347       0.356\n",
            "log_L          0.2503      0.003     76.341      0.000       0.244       0.257\n",
            "==============================================================================\n",
            "Omnibus:                       11.277   Durbin-Watson:                   2.670\n",
            "Prob(Omnibus):                  0.004   Jarque-Bera (JB):                9.955\n",
            "Skew:                          -1.224   Prob(JB):                      0.00689\n",
            "Kurtosis:                       4.689   Cond. No.                         2.39\n",
            "==============================================================================\n",
            "\n",
            "Notes:\n",
            "[1] Standard Errors assume that the covariance matrix of the errors is correctly specified.\n"
          ]
        }
      ]
    },
    {
      "cell_type": "code",
      "source": [
        "print(model1.aic, model2.aic, model3.aic, model4.aic, model5.aic, model6.aic)\n"
      ],
      "metadata": {
        "colab": {
          "base_uri": "https://localhost:8080/"
        },
        "id": "VWEV6D5JGIWT",
        "outputId": "8e03e809-637f-47c1-c2dc-75a8336919e8"
      },
      "id": "VWEV6D5JGIWT",
      "execution_count": 24,
      "outputs": [
        {
          "output_type": "stream",
          "name": "stdout",
          "text": [
            "-119.08944679871144 -172.54058232742 -121.06287770533115 -122.94460721283261 -124.92818520856545 -175.9226963325405\n"
          ]
        }
      ]
    },
    {
      "cell_type": "markdown",
      "source": [
        "A regression analysis was performed to model the quantitative relationship between the pendulum length and period. The most effective and parsimonious model based on AIC was log T ~ log L, as both mass and release angle were found to be statistically insignificant predictors. The logarithmic formulation linearizes the theoretical dependence.\n",
        "This model demonstrated an excellent fit, with an R-squared value of 0.996, indicating that 99.6% of the variance in the period is explained."
      ],
      "metadata": {
        "id": "EseXXm6JiWlm"
      },
      "id": "EseXXm6JiWlm"
    },
    {
      "cell_type": "markdown",
      "id": "3f58a893",
      "metadata": {
        "id": "3f58a893"
      },
      "source": [
        "# **Conclusions**\n",
        "-----------------------------------\n",
        "This experiment broadly agrees with the theoretical prediction for a simple pendulum: the period T increases with the square root of the length\n",
        "L, while mass m had no detectable influence. The effect of the release angle θ was statistically insignificant within our measurement uncertainty; however, one tested angle (20°) already exceeds the strict validity range of the small-oscillation approximation. Any deviation from the theoretical relation at that angle was likely masked by human interation time variabilty and imperfect experimental design.\n",
        "\n",
        "Improvements:\n",
        "* Test larger angles (e.g. 30–40°) to clearly observe the deviation from the small-oscillation formula.\n",
        "For reference, the theoretical increase in period at 20° is about +0.77 %, which corresponds to roughly 0.042 s over five swings for a pendulum of length 33 cm—too small to detect reliably with manual timing.\n",
        "\n",
        "* Increase the number of oscillations per measurement to 10–15.\n",
        "Averaging over more swings reduces the influence of human reaction time and makes small deviations in period easier to detect. Also beneficial for measurements with larger angles\n",
        "\n",
        "* Use multiple operators (3–4 per configuration) and average their results.\n",
        "This minimizes individual reaction-time bias and yields more reliable estimates.\n",
        "\n",
        "* Prefer longer pendulums (L > 50 cm).\n",
        "Longer periods make the relative timing uncertainty smaller, so reaction-time variabily contributes less to total measurement variance.\n",
        "\n",
        "* As the experiment was tedious, randomize to remove exhaustion and bordom errors. This will make it even more tedious, so hard to decide..."
      ]
    },
    {
      "cell_type": "markdown",
      "source": [
        "### 10) (Optional) Estimate g`"
      ],
      "metadata": {
        "id": "jRadq6kba_C6"
      },
      "id": "jRadq6kba_C6"
    },
    {
      "cell_type": "code",
      "source": [
        "import numpy as np\n",
        "import pandas as pd\n",
        "import statsmodels.formula.api as smf\n",
        "from scipy.stats import t\n",
        "\n",
        "# 1) prepare\n",
        "data = data.copy()\n",
        "data['L'] = pd.to_numeric(data['L'], errors='coerce')          # meters > 0\n",
        "data['period'] = pd.to_numeric(data['period'], errors='coerce')# seconds > 0\n",
        "data = data[(data['L'] > 0) & (data['period'] > 0)].copy()\n",
        "\n",
        "# logs\n",
        "data['log_L'] = np.log(data['L'])\n",
        "data['log_T'] = np.log(data['period'])\n",
        "\n",
        "# 2) fit log–log model: log T = beta0 + beta1 * log L\n",
        "mod = smf.ols('log_T ~ log_L', data=data).fit()\n",
        "\n",
        "# 3) extract parameters\n",
        "b0  = mod.params['Intercept']    # should be log(2π) - 0.5*log g\n",
        "b1  = mod.params['log_L']        # should be ~ 0.5\n",
        "se0 = mod.bse['Intercept']\n",
        "se1 = mod.bse['log_L']\n",
        "df  = int(mod.df_resid)\n",
        "alpha = 0.05\n",
        "tcrit = t.ppf(1 - alpha/2, df)\n",
        "\n",
        "# 4) test the theoretical slope beta1 = 0.5\n",
        "b1_lo = b1 - tcrit*se1\n",
        "b1_hi = b1 + tcrit*se1\n",
        "t_slope = (b1 - 0.5) / se1\n",
        "p_slope = 2 * (1 - t.cdf(abs(t_slope), df))\n",
        "\n",
        "# 5) estimate g from intercept:\n",
        "# log T = log(2π) - 0.5*log g + 0.5*log L\n",
        "# => b0 = log(2π) - 0.5*log g\n",
        "# => log g = 2*(log(2π) - b0)\n",
        "# => g = (2π)^2 * exp(-2*b0)\n",
        "\n",
        "c = (2*np.pi)**2\n",
        "g_hat = c * np.exp(-2*b0)\n",
        "\n",
        "# 95% CI for g via endpoint transform on b0 (monotone decreasing in b0)\n",
        "b0_lo = b0 - tcrit*se0\n",
        "b0_hi = b0 + tcrit*se0\n",
        "g_lo  = c * np.exp(-2*b0_hi)   # higher b0 -> lower g\n",
        "g_hi  = c * np.exp(-2*b0_lo)   # lower b0 -> higher g\n",
        "\n",
        "print(\"Model summary:\")\n",
        "print(mod.summary())\n",
        "\n",
        "print(\"\\nSlope on log_L (theory = 0.5):\")\n",
        "print(f\"beta1 = {b1:.6f}  (95% CI: {b1_lo:.6f} .. {b1_hi:.6f})\")\n",
        "print(f\"t-test H0: beta1 = 0.5  -> t = {t_slope:.3f}, df = {df}, p = {p_slope:.4f}\")\n",
        "\n",
        "print(\"\\nGravity estimate from intercept:\")\n",
        "print(f\"g_hat = {g_hat:.4f} m/s^2  (95% CI: {g_lo:.4f} .. {g_hi:.4f})\")\n",
        "\n",
        "# 6) compare to 9.81\n",
        "g_true = 9.81\n",
        "diff = g_hat - g_true\n",
        "rel = diff / g_true * 100\n",
        "inside = (g_lo <= g_true <= g_hi)\n",
        "print(f\"\\nCompare to 9.81 m/s^2:\")\n",
        "print(f\"Δ = {diff:+.4f} m/s^2  ({rel:+.2f}%); 9.81 inside CI? {inside}\")\n"
      ],
      "metadata": {
        "id": "dDWWTP8abC4Q",
        "colab": {
          "base_uri": "https://localhost:8080/"
        },
        "outputId": "be5579ed-2dd9-46c4-a8f5-7d060201bf94"
      },
      "id": "dDWWTP8abC4Q",
      "execution_count": 25,
      "outputs": [
        {
          "output_type": "stream",
          "name": "stdout",
          "text": [
            "Model summary:\n",
            "                            OLS Regression Results                            \n",
            "==============================================================================\n",
            "Dep. Variable:                  log_T   R-squared:                       0.996\n",
            "Model:                            OLS   Adj. R-squared:                  0.996\n",
            "Method:                 Least Squares   F-statistic:                     5828.\n",
            "Date:                Mon, 20 Oct 2025   Prob (F-statistic):           3.82e-31\n",
            "Time:                        15:38:24   Log-Likelihood:                 71.246\n",
            "No. Observations:                  27   AIC:                            -138.5\n",
            "Df Residuals:                      25   BIC:                            -135.9\n",
            "Df Model:                           1                                         \n",
            "Covariance Type:            nonrobust                                         \n",
            "==============================================================================\n",
            "                 coef    std err          t      P>|t|      [0.025      0.975]\n",
            "------------------------------------------------------------------------------\n",
            "Intercept      0.7026      0.005    154.601      0.000       0.693       0.712\n",
            "log_L          0.5005      0.007     76.341      0.000       0.487       0.514\n",
            "==============================================================================\n",
            "Omnibus:                       11.277   Durbin-Watson:                   2.670\n",
            "Prob(Omnibus):                  0.004   Jarque-Bera (JB):                9.955\n",
            "Skew:                          -1.224   Prob(JB):                      0.00689\n",
            "Kurtosis:                       4.689   Cond. No.                         2.39\n",
            "==============================================================================\n",
            "\n",
            "Notes:\n",
            "[1] Standard Errors assume that the covariance matrix of the errors is correctly specified.\n",
            "\n",
            "Slope on log_L (theory = 0.5):\n",
            "beta1 = 0.500532  (95% CI: 0.487028 .. 0.514035)\n",
            "t-test H0: beta1 = 0.5  -> t = 0.081, df = 25, p = 0.9360\n",
            "\n",
            "Gravity estimate from intercept:\n",
            "g_hat = 9.6845 m/s^2  (95% CI: 9.5049 .. 9.8675)\n",
            "\n",
            "Compare to 9.81 m/s^2:\n",
            "Δ = -0.1255 m/s^2  (-1.28%); 9.81 inside CI? True\n"
          ]
        }
      ]
    },
    {
      "cell_type": "markdown",
      "source": [
        "Leveraging the regression model, the intercept was used to estimate the acceleration g. Our experimental estimate is 9.6845 m/s². We built a 95% confidence interval for this estimate which is (9.51 m/s², 9.87 m/s²). The real value of 9.81 m/s² does fall within this interval, showing our experiment was statistically consistent with real value."
      ],
      "metadata": {
        "id": "e3hZ5oVvinb0"
      },
      "id": "e3hZ5oVvinb0"
    }
  ],
  "metadata": {
    "colab": {
      "provenance": [],
      "include_colab_link": true
    },
    "language_info": {
      "name": "python"
    },
    "kernelspec": {
      "name": "python3",
      "display_name": "Python 3"
    }
  },
  "nbformat": 4,
  "nbformat_minor": 5
}