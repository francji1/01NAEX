{
  "cells": [
    {
      "cell_type": "markdown",
      "metadata": {
        "id": "view-in-github",
        "colab_type": "text"
      },
      "source": [
        "<a href=\"https://colab.research.google.com/github/francji1/01NAEX/blob/main/projects/01NAEX_HW2_bridge_strength_experiment.ipynb\" target=\"_parent\"><img src=\"https://colab.research.google.com/assets/colab-badge.svg\" alt=\"Open In Colab\"/></a>"
      ]
    },
    {
      "cell_type": "markdown",
      "id": "e5e8ba8e",
      "metadata": {
        "id": "e5e8ba8e"
      },
      "source": [
        "# 01NAEX - HW2: Paper Bridge Strength Experiment"
      ]
    },
    {
      "cell_type": "markdown",
      "id": "d592b19b",
      "metadata": {
        "id": "d592b19b"
      },
      "source": [
        "**Team Name:** add your names"
      ]
    },
    {
      "cell_type": "markdown",
      "id": "d0da3d99",
      "metadata": {
        "id": "d0da3d99"
      },
      "source": [
        "## Assignment"
      ]
    },
    {
      "cell_type": "markdown",
      "source": [
        "Design an experiment to measure the maximum weight a paper bridge can hold before collapsing, examining the dependence on 6 factors. Due to time constraints, you are encouraged to use a $\\frac{1}{2}$ fraction design: $2^{6-1}$ or a $\\frac{1}{4}$ fraction design: $2^{6-2}$, or a full factorial design.\n",
        "The response variable is the maximum weight the paper bridge can hold. The factors examined are:\n",
        " * Number of Paper Layers - 2 layers vs. 4 layers (numerical variable)\n",
        " * Bridge Length - Short vs. Long (numerical variable)\n",
        " * Bridge Width - Narrow vs. Wide (numerical variable)\n",
        " * Type of Construction - 1 fold vs. 3 folds (numerical variable)\n",
        " * Weight Distribution Method - Center load vs. Distributed load (factor variable)\n",
        " * The Height of the Bridge Above the Valley (numerical variable)\n",
        "\n",
        "Due to the nature of this experiment, consider safety and practical aspects of bridge construction and testing in a classroom setting."
      ],
      "metadata": {
        "id": "9xg0tsbLzmrF"
      },
      "id": "9xg0tsbLzmrF"
    },
    {
      "cell_type": "markdown",
      "id": "a8893415",
      "metadata": {
        "id": "a8893415"
      },
      "source": [
        "## Experiment Design Questions"
      ]
    },
    {
      "cell_type": "markdown",
      "id": "3445cae6",
      "metadata": {
        "id": "3445cae6"
      },
      "source": [
        "\n",
        "  1. How will you define the low and high levels for each variable, both numerical and factor? What and how will you record data?\n",
        "  2. What are the generators used in the design and why did you choose them? Explain the resolution and alias structure for the chosen design.\n",
        "  3. Calculate the individual effects and their interactions.\n",
        "  4. Determine which factors and their interactions appear significant. Use appropriate plots (main effects plot, interaction plot, boxplots) for data visualization.\n",
        "  5. Perform an analysis of variance and find a valid model for the experiment.\n",
        "  6. If feasible, incorporate measurements at the 'center points' of the numerical variables and analyze their effects.\n",
        "  7. Construct a regression model using the coded quantitative variables and any significant factor variables.\n",
        "  8. For two chosen numerical variables, create a contour plot to find the optimal values for maximizing bridge strength under the additional condition of 3 layers, minimal width 6cm and minimal length of 22 cm.\n",
        "  "
      ]
    },
    {
      "cell_type": "markdown",
      "id": "bc95332d",
      "metadata": {
        "id": "bc95332d"
      },
      "source": [
        "## Additional Notes"
      ]
    },
    {
      "cell_type": "markdown",
      "id": "9a17d7c5",
      "metadata": {
        "id": "9a17d7c5"
      },
      "source": [
        "\n",
        "  - Consider practical limitations of your classroom setting.\n",
        "  - Ensure that all measurements are taken randomly.\n",
        "  - Discuss the implications of your findings in the context of the experiment.\n",
        "  "
      ]
    }
  ],
  "metadata": {
    "colab": {
      "provenance": [],
      "include_colab_link": true
    }
  },
  "nbformat": 4,
  "nbformat_minor": 5
}