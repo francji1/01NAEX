{
  "nbformat": 4,
  "nbformat_minor": 0,
  "metadata": {
    "colab": {
      "private_outputs": true,
      "provenance": [],
      "include_colab_link": true
    },
    "kernelspec": {
      "name": "ir",
      "display_name": "R"
    },
    "language_info": {
      "name": "R"
    }
  },
  "cells": [
    {
      "cell_type": "markdown",
      "metadata": {
        "id": "view-in-github",
        "colab_type": "text"
      },
      "source": [
        "<a href=\"https://colab.research.google.com/github/francji1/01NAEX/blob/main/code/01NAEX_Exercise_01_solution_R.ipynb\" target=\"_parent\"><img src=\"https://colab.research.google.com/assets/colab-badge.svg\" alt=\"Open In Colab\"/></a>"
      ]
    },
    {
      "cell_type": "markdown",
      "source": [
        "# 01NAEX - Exercise 01\n",
        "Data and exercises come from D.C. Montgomery: Design and Analysis of Experiment\n"
      ],
      "metadata": {
        "id": "IJZpZoupsfsX"
      }
    },
    {
      "cell_type": "markdown",
      "source": [
        "Get requirements:\n"
      ],
      "metadata": {
        "id": "pd9dWycysgCh"
      }
    },
    {
      "cell_type": "code",
      "source": [
        "# get requirements for Lecture 1\n",
        "list_of_packages <- c(\"tidyverse\",\"nortest\",\"lattice\",\"pwr\",\"MASS\")\n",
        "missing_packages <- list_of_packages[!(list_of_packages %in% installed.packages()[,\"Package\"])]\n",
        "missing_packages\n",
        "if(length(missing_packages)) install.packages(missing_packages)\n",
        "lapply(list_of_packages, library, character.only = TRUE)\n"
      ],
      "metadata": {
        "id": "OXxvZtMIsgVb"
      },
      "execution_count": null,
      "outputs": []
    },
    {
      "cell_type": "code",
      "source": [
        "# If you need to check your settings\n",
        "\n",
        "#getwd()\n",
        "#print(.libPaths())\n",
        "#print(sessionInfo())\n",
        "#print(version)"
      ],
      "metadata": {
        "id": "1CZG5KMctI6K"
      },
      "execution_count": null,
      "outputs": []
    },
    {
      "cell_type": "markdown",
      "source": [
        "## Assigment:\n",
        "\n",
        "* Run and familiarize with R.\n",
        "* Solve problems 2.20, 2.26, 2.30 from following slides.\n",
        "  (originally from Montgomery - Design and Analysis of Experiments).\n"
      ],
      "metadata": {
        "id": "7SzDDewJ0Gps"
      }
    },
    {
      "cell_type": "markdown",
      "source": [
        "### Exercises 2.20\n",
        "\n",
        "The shelf life of a carbonated beverage is of interest. Ten bottles are randomly\n",
        "selected and tested, and the following results are obtained:\n",
        "\n",
        "| Days ||\n",
        "|--------------------------------------------||\n",
        "| 108      |  138  |\n",
        "| 124      |  163  |\n",
        "| 124      |  159  |\n",
        "| 106      |  134  |\n",
        "| 115      |  139  |\n",
        "\n",
        "* We would like to demonstrate that the mean shelf life exceeds 120 days.\n",
        "Set up appropriate hypotheses for investigating this claim.\n",
        "* Test these hypotheses using significant level $\\alpha = 0.01$. Find the P-value\n",
        "for the test. What are your conclusions?\n",
        "* Construct a 99 percent confidence interval on the mean shelf life."
      ],
      "metadata": {
        "id": "zvHL1CwW0VKS"
      }
    },
    {
      "cell_type": "code",
      "source": [
        "Problem20 <- read.table(\"https://raw.githubusercontent.com/francji1/01NAEX/main/data/Ex02_20.csv\",header=TRUE,sep=\";\")\n",
        "head(Problem20)\n"
      ],
      "metadata": {
        "id": "tQr4UVuXtrC_"
      },
      "execution_count": null,
      "outputs": []
    },
    {
      "cell_type": "markdown",
      "source": [
        "SOLUTION:"
      ],
      "metadata": {
        "id": "FGZPi3stCt3u"
      }
    },
    {
      "cell_type": "code",
      "source": [
        "t.test(Problem20,mu = 120,alternative = \"less\",conf.level = 0.99)"
      ],
      "metadata": {
        "id": "-_EgvfX179wQ"
      },
      "execution_count": null,
      "outputs": []
    },
    {
      "cell_type": "markdown",
      "source": [
        "The null hypothesis $H_0: \\mu > 120$ is tested with one sample t-test. As we can see in the summary, p-value exceeds the significance level and therefore the null hypothesis is **not rejected**. The 99% confidence interval is $\\left(-\\infty,148.4\\right)$."
      ],
      "metadata": {
        "id": "eeRLDDCv8qVX"
      }
    },
    {
      "cell_type": "markdown",
      "source": [
        "\n",
        "### Exercise 2.26\n",
        "\n",
        "The following are the burning times (in minutes) of chemical flares of two different formulations. The design engineers are interested in both the mean and\n",
        "variance of the burning times.\n",
        "\n",
        "|Type1|| Type2 ||\n",
        "|--------------------------------||||\n",
        "| 65 | 82 | 64 | 56 |\n",
        "| 81 | 67 | 71 | 69 |\n",
        "| 57 | 59 | 83 | 74 |\n",
        "| 66 | 75 | 59 | 82 |\n",
        "| 82 | 70 | 65 | 79 |\n",
        "\n",
        "\n",
        "1. Test the hypothesis that the two variances are equal. Use $\\alpha = 0.05$.\n",
        "2. Using the results of part 1), test the hypothesis that the mean burning\n",
        "times are equal. Use $\\alpha = 0.05$. What is the P-value for this test?\n",
        "3. Discuss the role of the normality assumption in this problem. Check the\n",
        "assumption of normality for both types of flares"
      ],
      "metadata": {
        "id": "Ylfv4-d_3SEl"
      }
    },
    {
      "cell_type": "code",
      "source": [
        "Problem26 <- read.table(\"https://raw.githubusercontent.com/francji1/01NAEX/main/data/Ex02_26.csv\",header=TRUE,sep=\";\")\n",
        "head(Problem26)\n"
      ],
      "metadata": {
        "id": "YtM7AlkJ0UF_"
      },
      "execution_count": null,
      "outputs": []
    },
    {
      "cell_type": "markdown",
      "source": [
        "SOLUTION:"
      ],
      "metadata": {
        "id": "6Lyi5h_xCq-m"
      }
    },
    {
      "cell_type": "markdown",
      "source": [
        "**F-test vs Levene test**\n",
        "\n",
        "The F-test (i.e., var.test()) assumes that both groups are normally distributed. If this assumption is not met, the F-test can give misleading results. Levene's test, on the other hand, is more robust against departures from normality, especially when centered at the median.\n",
        "\n",
        "**Why use Levene test:** Given the sensitivity of the F-test to the normality assumption, in many cases (especially when normality is in question), the Levene's test might be preferred.\n",
        "\n",
        "**Why use F-test:** The F-test can be more sensitive (i.e., powerful) when its assumptions are met. This means that if the data truly are normal, the F-test might be more likely to detect a difference in variances than the Levene's test."
      ],
      "metadata": {
        "id": "i_P14wFFNsx-"
      }
    },
    {
      "cell_type": "code",
      "source": [
        "# F-test for variances\n",
        "var.test_result <- var.test(Problem26$Type1, Problem26$Type2, alternative = \"two.sided\")\n",
        "var.test_result\n",
        "\n",
        "install.packages(\"lawstat\")\n",
        "library(lawstat)\n",
        "\n",
        "long_data26 <- pivot_longer(Problem26, cols = everything(), names_to = \"Type\", values_to = \"BurningTime\")\n",
        "values <- long_data26$BurningTime\n",
        "groups <- long_data26$Type\n",
        "levene_result <- levene.test(values, groups, location=\"median\")\n",
        "levene_result"
      ],
      "metadata": {
        "id": "KYymw1tbOD8B"
      },
      "execution_count": null,
      "outputs": []
    },
    {
      "cell_type": "markdown",
      "source": [
        "With the results we obtained from F-test, we can conclude that variances of both types of substances are equal. Therefore we set option *var.equal = TRUE* in the following section, where we use two sample t-test.\n"
      ],
      "metadata": {
        "id": "wv_2WVDQ-_u-"
      }
    },
    {
      "cell_type": "code",
      "source": [
        "t.test(Problem26$Type1, Problem26$Type2, paired=FALSE, var.equal = TRUE,\n",
        "       mu = 0,alternative = \"two.sided\",conf.level = 0.95)"
      ],
      "metadata": {
        "id": "GphfYdxU-waV"
      },
      "execution_count": null,
      "outputs": []
    },
    {
      "cell_type": "markdown",
      "source": [
        "*In* accordance with the statistical test, we do not reject the null hypothesis."
      ],
      "metadata": {
        "id": "LMuw0TWuAno9"
      }
    },
    {
      "cell_type": "code",
      "source": [
        "# Shapiro-Wilk test for normality\n",
        "shapiro.test_result_Type1 <- shapiro.test(Problem26$Type1)\n",
        "shapiro.test_result_Type2 <- shapiro.test(Problem26$Type2)\n",
        "\n",
        "shapiro.test_result_Type1\n",
        "shapiro.test_result_Type2\n",
        "\n",
        "# QQ-plots for visual inspection\n",
        "par(mfrow=c(1, 2))\n",
        "qqnorm(Problem26$Type1); qqline(Problem26$Type1, col=\"red\")\n",
        "qqnorm(Problem26$Type2); qqline(Problem26$Type2, col=\"red\")"
      ],
      "metadata": {
        "id": "GPfnHCOVA5ll"
      },
      "execution_count": null,
      "outputs": []
    },
    {
      "cell_type": "markdown",
      "source": [
        "The assumption of normality is needed for both t-test and F-test. Using Shapiro-Wilk normality test we did not reject normality in either of the two samples."
      ],
      "metadata": {
        "id": "Hu7lIzXIBQIW"
      }
    },
    {
      "cell_type": "markdown",
      "source": [
        "### Exercise 2.30\n",
        "\n",
        "Front housings for cell phones are manufactured in an injection molding process. The time the part is allowed to cool in the mold before removal is thought to influence the occurrence of a particularly troublesome cosmetic defect, flow lines, in the finished housing. After manufacturing, the housings are inspected visually and assigned a score between 1 and 10 based on their appearance, with 10 corresponding to a perfect part and 1 corresponding to a completely defective part. An experiment was conducted using two cool-down times, 10 and 20 seconds, and 20 housings were evaluated at each level of cool-down time. All 40 observations in this experiment were run in random order.\n",
        "\n",
        "\n",
        "| 10s |||| 20s ||||\n",
        "|--------------------------------||||||||\n",
        "| 1 | 3 | 2 | 6 | 7 | 6 | 8 | 9 |\n",
        "| 1 | 5 | 3 | 3 | 5 | 5 | 9 | 7 |\n",
        "| 5 | 2 | 1 | 1 | 5 | 4 | 8 | 6 |\n",
        "| 5 | 6 | 2 | 8 | 6 | 8 | 4 | 5 |\n",
        "| 3 | 2 | 5 | 3 | 6 | 8 | 7 | 7 |\n",
        "\n",
        "\n",
        "* Is there evidence to support the claim that the longer cool-down time\n",
        "results in fewer appearance defects? Use $\\alpha = 0.05$.\n",
        "* What is the P-value for the test conducted in the previous part?\n",
        "* Find a 95 percent confidence interval on the difference in means. Provide\n",
        "a practical interpretation of this interval.\n",
        "* Draw dot diagrams to assist in interpreting the results from this\n",
        "experiment.\n"
      ],
      "metadata": {
        "id": "CU8aDa_V3y_1"
      }
    },
    {
      "cell_type": "code",
      "source": [
        "Problem30 <- read.table(\"https://raw.githubusercontent.com/francji1/01NAEX/main/data/Ex02_30.csv\",header=TRUE,sep=\";\")\n",
        "head(Problem30)"
      ],
      "metadata": {
        "id": "OPmTG8WruIYf"
      },
      "execution_count": null,
      "outputs": []
    },
    {
      "cell_type": "markdown",
      "source": [
        "SOLUTION:"
      ],
      "metadata": {
        "id": "rvOPQRe_65uE"
      }
    },
    {
      "cell_type": "code",
      "source": [
        "var.test(Problem30$X10.seconds, Problem30$X20.seconds, alternative = \"two.sided\")"
      ],
      "metadata": {
        "id": "m8j_Yx6q9dpu"
      },
      "execution_count": null,
      "outputs": []
    },
    {
      "cell_type": "code",
      "source": [
        "# Convert the data into a long format zand use Levene test\n",
        "long_data <- pivot_longer(Problem30, cols = everything(), names_to = \"cooldown\", values_to = \"score\")\n",
        "\n",
        "values <- long_data$score\n",
        "groups <- long_data$cooldown\n",
        "levene.test(values, groups, location=\"median\")"
      ],
      "metadata": {
        "id": "sOHozZV_Omwu"
      },
      "execution_count": null,
      "outputs": []
    },
    {
      "cell_type": "markdown",
      "source": [
        "With F-test results, we can set *var.equal = TRUE*."
      ],
      "metadata": {
        "id": "CAr4Rx2eDFdu"
      }
    },
    {
      "cell_type": "code",
      "source": [
        "t.test(Problem30$X10.seconds, Problem30$X20.seconds, paired=FALSE, var.equal = TRUE,\n",
        "       mu = 0,alternative = \"greater\",conf.level = 0.95)"
      ],
      "metadata": {
        "id": "QrYaBaYLDFK-"
      },
      "execution_count": null,
      "outputs": []
    },
    {
      "cell_type": "code",
      "source": [
        "diff_means = mean(Problem30$X10.seconds) - mean(Problem30$X20.seconds)\n",
        "print(\"Difference in means:\")\n",
        "print(diff_means)"
      ],
      "metadata": {
        "id": "Kwdd_VC5Er7z"
      },
      "execution_count": null,
      "outputs": []
    },
    {
      "cell_type": "markdown",
      "source": [
        "With p-value = 1, we do not reject hypothesis. The confidence interval is $\\left(-4.1 , +\\infty\\right)$. There is a 95% statistical confidence that the real difference in means falls into this interval. The difference in sample means equals -3.15 which is inside of the confidence interval."
      ],
      "metadata": {
        "id": "lV92k2FdDple"
      }
    },
    {
      "cell_type": "code",
      "source": [
        "Problem30 %>%\n",
        "  pivot_longer(cols = c(X10.seconds,X20.seconds), names_to = \"type\", values_to = \"values\") %>%\n",
        "  ggplot(aes(x=type, y=values, fill = type)) +\n",
        "  geom_dotplot(binaxis='y', stackdir='center',\n",
        "                stackratio=1.5, dotsize=1.2,\n",
        "                binwidth = 0.3) +\n",
        "  scale_y_discrete(limits=factor(1:9)) +\n",
        "  scale_x_discrete(labels = c('10s','20s')) +\n",
        "  labs(title=\"Dot diagram\",\n",
        "         x =\"Time of cool down\", y = \"Quality\") +\n",
        "  coord_flip() + theme(legend.position=\"none\")"
      ],
      "metadata": {
        "id": "VFPhAnzHDaA-"
      },
      "execution_count": null,
      "outputs": []
    },
    {
      "cell_type": "code",
      "source": [
        "# simmilarway\n",
        "long_data <- gather(Problem30, key=\"cooldown\", value=\"score\")\n",
        "ggplot(long_data, aes(x=cooldown, y=score, fill=cooldown)) +\n",
        "  geom_dotplot(binaxis=\"y\", stackdir=\"center\", dotsize=1, binwidth=0.5) +\n",
        "  labs(title=\"Appearance Scores for Different Cool-Down Times\", y=\"Appearance Score\", x=\"Cool-Down Time\") +\n",
        "  theme_minimal() +\n",
        "  scale_fill_discrete(name=\"Cooldown Time\")"
      ],
      "metadata": {
        "id": "ymvs1U3Uwsal"
      },
      "execution_count": null,
      "outputs": []
    },
    {
      "cell_type": "code",
      "source": [],
      "metadata": {
        "id": "A_E5YPmYNZZD"
      },
      "execution_count": null,
      "outputs": []
    }
  ]
}