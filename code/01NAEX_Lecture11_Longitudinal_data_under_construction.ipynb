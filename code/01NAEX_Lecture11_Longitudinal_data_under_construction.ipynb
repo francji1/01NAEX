{
  "nbformat": 4,
  "nbformat_minor": 0,
  "metadata": {
    "colab": {
      "private_outputs": true,
      "provenance": [],
      "authorship_tag": "ABX9TyM5zrMkoq/N6U4KIdrAj1pH",
      "include_colab_link": true
    },
    "kernelspec": {
      "name": "python3",
      "display_name": "Python 3"
    },
    "language_info": {
      "name": "python"
    }
  },
  "cells": [
    {
      "cell_type": "markdown",
      "metadata": {
        "id": "view-in-github",
        "colab_type": "text"
      },
      "source": [
        "<a href=\"https://colab.research.google.com/github/francji1/01NAEX/blob/main/code/01NAEX_Lecture11_Longitudinal_data_under_construction.ipynb\" target=\"_parent\"><img src=\"https://colab.research.google.com/assets/colab-badge.svg\" alt=\"Open In Colab\"/></a>"
      ]
    },
    {
      "cell_type": "markdown",
      "source": [
        "#\n",
        "\n",
        "http://www.sortie-nd.org/lme/R%20Tutorials/Pinheiro%20-%20Mixed%20Models%20in%20S.pdf\n",
        "\n",
        "https://www.crumplab.com/psyc7709_2019/book/docs/a-tutorial-for-using-the-lme-function-from-the-nlme-package-.**html**"
      ],
      "metadata": {
        "id": "LS8c9yxBWz2b"
      }
    },
    {
      "cell_type": "code",
      "execution_count": null,
      "metadata": {
        "id": "yzj5n_nXttrj"
      },
      "outputs": [],
      "source": [
        "! pip install rpy2"
      ]
    },
    {
      "cell_type": "code",
      "source": [
        "import rpy2\n",
        "import numpy as np\n",
        "import pandas as pd\n",
        "\n",
        "# Set seed for reproducibility\n",
        "np.random.seed(42)\n",
        "\n",
        "# Parameters\n",
        "n_subjects = 100\n",
        "n_counties = 10\n",
        "n_times = 5\n",
        "\n",
        "# Fixed effects coefficients\n",
        "beta_gender = 1.5\n",
        "beta_age = -0.05\n",
        "\n",
        "# Random effects variances and covariance\n",
        "sigma_subject_intercept = 1.0\n",
        "sigma_subject_slope = 0.5\n",
        "rho_subject = 0.3  # Correlation between intercept and slope\n",
        "sigma_county = 0.7\n",
        "\n",
        "# AR(1) autocorrelation coefficient\n",
        "phi = 0.6\n",
        "sigma_epsilon = 1.0  # Standard deviation of residuals\n",
        "\n",
        "# Generate subjects\n",
        "subject_ids = np.arange(n_subjects)\n",
        "genders = np.random.binomial(1, 0.5, size=n_subjects)  # 0 or 1\n",
        "ages = np.random.normal(50, 10, size=n_subjects)  # Mean age 50, SD 10\n",
        "counties = np.random.choice(np.arange(n_counties), size=n_subjects)\n",
        "\n",
        "# Create a DataFrame to hold the data\n",
        "data = pd.DataFrame({\n",
        "    'subject_id': np.repeat(subject_ids, n_times),\n",
        "    'gender': np.repeat(genders, n_times),\n",
        "    'age': np.repeat(ages, n_times),\n",
        "    'county': np.repeat(counties, n_times)\n",
        "})\n",
        "\n",
        "# Generate time variable\n",
        "data['time'] = np.tile(np.arange(n_times), n_subjects)\n",
        "\n",
        "# Generate random effects for subjects (intercept and slope with correlation)\n",
        "from scipy.stats import multivariate_normal\n",
        "\n",
        "cov_subject = np.array([\n",
        "    [sigma_subject_intercept**2, rho_subject * sigma_subject_intercept * sigma_subject_slope],\n",
        "    [rho_subject * sigma_subject_intercept * sigma_subject_slope, sigma_subject_slope**2]\n",
        "])\n",
        "\n",
        "subject_random_effects = multivariate_normal.rvs(\n",
        "    mean=[0, 0],\n",
        "    cov=cov_subject,\n",
        "    size=n_subjects\n",
        ")\n",
        "\n",
        "data['subject_intercept'] = np.repeat(subject_random_effects[:, 0], n_times)\n",
        "data['subject_slope'] = np.repeat(subject_random_effects[:, 1], n_times)\n",
        "\n",
        "# Generate random effects for counties (random intercept)\n",
        "county_random_effects = np.random.normal(0, sigma_county, size=n_counties)\n",
        "data['county_intercept'] = data['county'].map(dict(zip(np.arange(n_counties), county_random_effects)))\n",
        "\n",
        "# Simulate AR(1) residuals for each subject\n",
        "def simulate_ar1_errors(phi, sigma, size):\n",
        "    epsilons = np.zeros(size)\n",
        "    epsilons[0] = np.random.normal(0, sigma / np.sqrt(1 - phi**2))\n",
        "    for t in range(1, size):\n",
        "        epsilons[t] = phi * epsilons[t - 1] + np.random.normal(0, sigma)\n",
        "    return epsilons\n",
        "\n",
        "data['epsilon'] = 0.0\n",
        "\n",
        "for subject in subject_ids:\n",
        "    idx = data['subject_id'] == subject\n",
        "    n_obs = idx.sum()\n",
        "    epsilons = simulate_ar1_errors(phi, sigma_epsilon, n_obs)\n",
        "    data.loc[idx, 'epsilon'] = epsilons\n",
        "\n",
        "# Compute the response variable\n",
        "data['y'] = (\n",
        "    beta_gender * data['gender'] +\n",
        "    beta_age * data['age'] +\n",
        "    data['subject_intercept'] +\n",
        "    data['subject_slope'] * data['time'] +\n",
        "    data['county_intercept'] +\n",
        "    data['epsilon']\n",
        ")\n",
        "\n",
        "# Center age for better model convergence\n",
        "data['age_centered'] = data['age'] - data['age'].mean()\n"
      ],
      "metadata": {
        "id": "j96cyiuCuRPq"
      },
      "execution_count": null,
      "outputs": []
    },
    {
      "cell_type": "code",
      "source": [
        "data.head(10)"
      ],
      "metadata": {
        "id": "E32ejpQXuTMH"
      },
      "execution_count": null,
      "outputs": []
    },
    {
      "cell_type": "code",
      "source": [
        "data.describe()"
      ],
      "metadata": {
        "id": "Nrooeeq9uTO2"
      },
      "execution_count": null,
      "outputs": []
    },
    {
      "cell_type": "code",
      "source": [
        "# Convert categorical variables to strings\n",
        "data['subject_id'] = data['subject_id'].astype(str)\n",
        "data['county'] = data['county'].astype(str)\n",
        "data['gender'] = data['gender'].astype(str)\n"
      ],
      "metadata": {
        "id": "_IhWIQftuTRz"
      },
      "execution_count": null,
      "outputs": []
    },
    {
      "cell_type": "code",
      "source": [
        "# Load  packages\n",
        "import rpy2.robjects as robjects\n",
        "from rpy2.robjects import pandas2ri\n",
        "from rpy2.robjects.conversion import localconverter\n",
        "from rpy2.robjects import Formula\n",
        "from rpy2.robjects.packages import importr\n",
        "from rpy2.robjects import DataFrame as RDataFrame, StrVector, FloatVector, IntVector\n",
        "from rpy2.robjects.vectors import ListVector\n",
        "\n",
        "# Activate the automatic conversion between R and pandas DataFrames\n",
        "pandas2ri.activate()\n"
      ],
      "metadata": {
        "id": "15-mf3lwuTUd"
      },
      "execution_count": null,
      "outputs": []
    },
    {
      "cell_type": "code",
      "source": [
        "# Define a function to convert a pandas DataFrame to an R-compatible DataFrame\n",
        "def pandas_to_r(data):\n",
        "    columns = {}\n",
        "    for col_name in data.columns:\n",
        "        col_data = data[col_name]\n",
        "        if col_data.dtype == 'object' or col_data.dtype.name == 'category':\n",
        "            columns[col_name] = StrVector(col_data.astype(str))\n",
        "        elif np.issubdtype(col_data.dtype, np.integer):\n",
        "            columns[col_name] = IntVector(col_data)\n",
        "        else:\n",
        "            columns[col_name] = FloatVector(col_data)\n",
        "    return RDataFrame(ListVector(columns))\n",
        "\n",
        "# Convert the DataFrame to an R-compatible data frame\n",
        "r_data = pandas_to_r(data)\n"
      ],
      "metadata": {
        "id": "1_NMPA4m1TAY"
      },
      "execution_count": null,
      "outputs": []
    },
    {
      "cell_type": "code",
      "source": [
        "#r_data"
      ],
      "metadata": {
        "id": "8wf9fEG-18TY"
      },
      "execution_count": null,
      "outputs": []
    },
    {
      "cell_type": "code",
      "source": [
        "from rpy2.robjects.packages import importr\n",
        "from rpy2.robjects import r\n",
        "\n",
        "# Import base and nlme packages\n",
        "base = importr('base')\n",
        "nlme = importr('nlme')"
      ],
      "metadata": {
        "id": "VZ5V4UgZ18Wr"
      },
      "execution_count": null,
      "outputs": []
    },
    {
      "cell_type": "code",
      "source": [
        "# Define the model formula\n",
        "model_formula = robjects.Formula('y ~ gender + age_centered')\n",
        "# Define random effects formula\n",
        "random_effects = robjects.Formula('~ time | subject_id')\n",
        "# Define correlation structure\n",
        "correlation = nlme.corAR1(form=robjects.Formula('~ time | subject_id'))\n"
      ],
      "metadata": {
        "id": "mJm7bRzq18Zx"
      },
      "execution_count": null,
      "outputs": []
    },
    {
      "cell_type": "code",
      "source": [
        "print(r(\"str(r_data)\"))"
      ],
      "metadata": {
        "id": "CpXLpy9R6r2d"
      },
      "execution_count": null,
      "outputs": []
    },
    {
      "cell_type": "code",
      "source": [
        "print(r(\"summary(r_data)\"))"
      ],
      "metadata": {
        "id": "Cby4VwLg6r5I"
      },
      "execution_count": null,
      "outputs": []
    },
    {
      "cell_type": "code",
      "source": [
        "r(\"r_data$time <- as.numeric(r_data$time)\")\n",
        "print(r(\"class(r_data$time)\"))       # Should return \"numeric\" or \"integer\"\n",
        "print(r(\"class(r_data$subject_id)\"))  # Should return \"factor"
      ],
      "metadata": {
        "id": "XNpZ1u1r7nw4"
      },
      "execution_count": null,
      "outputs": []
    },
    {
      "cell_type": "code",
      "source": [
        "lme_model = nlme.lme(\n",
        "    fixed=fixed_formula,\n",
        "    random=random_formula,\n",
        "    data=r_data,\n",
        "    method='REML'\n",
        ")"
      ],
      "metadata": {
        "id": "bbnD5SFe6r9C"
      },
      "execution_count": null,
      "outputs": []
    },
    {
      "cell_type": "code",
      "source": [
        "# Get the summary\n",
        "summary = base.summary(lme_model)\n",
        "print(summary)\n",
        "\n",
        "# Extract fixed effects\n",
        "fixed_effects = summary.rx2('tTable')\n",
        "print('Fixed Effects:')\n",
        "print(fixed_effects)\n",
        "\n",
        "# Extract random effects standard deviations\n",
        "random_effects_std = summary.rx2('stdDev')\n",
        "print('Random Effects Standard Deviations:')\n",
        "print(random_effects_std)\n"
      ],
      "metadata": {
        "id": "IX_5_-ks_fdZ"
      },
      "execution_count": null,
      "outputs": []
    },
    {
      "cell_type": "code",
      "source": [],
      "metadata": {
        "id": "RppxymTm8B5w"
      },
      "execution_count": null,
      "outputs": []
    },
    {
      "cell_type": "code",
      "source": [
        "stats = importr('stats')\n",
        "\n",
        "# Define the model formula\n",
        "model_formula = robjects.Formula('y ~ gender + age_centered')\n",
        "# Define random effects formula\n",
        "random_effects = robjects.Formula('~ time | subject_id')\n",
        "# Define  correlation formula\n",
        "correlation_formula = nlme.corAR1(form=Formula('~ time | subject_id'))\n",
        "\n",
        "\n",
        "# Fit the model\n",
        "lme_model = nlme.lme(\n",
        "    fixed = fixed_formula,\n",
        "    random = random_formula,\n",
        "    correlation = correlation_formula,\n",
        "    data = r_data,\n",
        "    method = \"REML\"\n",
        ")\n",
        "\n",
        "# https://stackoverflow.com/questions/74596213/explanation-of-random-term-syntax-in-nlmelme"
      ],
      "metadata": {
        "id": "lEQfGYM--LFb"
      },
      "execution_count": null,
      "outputs": []
    },
    {
      "cell_type": "code",
      "source": [
        "# Get the summary\n",
        "summary = base.summary(lme_model)\n",
        "print(summary)\n",
        "\n",
        "# Extract fixed effects\n",
        "fixed_effects = summary.rx2('tTable')\n",
        "print('Fixed Effects:')\n",
        "print(fixed_effects)\n",
        "\n",
        "# Extract random effects standard deviations\n",
        "random_effects_std = summary.rx2('stdDev')\n",
        "print('Random Effects Standard Deviations:')\n",
        "print(random_effects_std)\n",
        "\n",
        "# Extract autocorrelation parameter\n",
        "correlation_structure = lme_model.rx2('modelStruct').rx2('corStruct')\n",
        "phi_estimate = correlation_structure.rx2('coef')[0]\n",
        "print('Estimated AR(1) Autocorrelation Coefficient (Phi):', phi_estimate)"
      ],
      "metadata": {
        "id": "enobLl0z3g4U"
      },
      "execution_count": null,
      "outputs": []
    },
    {
      "cell_type": "code",
      "source": [
        "%load_ext rpy2.ipython"
      ],
      "metadata": {
        "id": "el9QYsqo_dop"
      },
      "execution_count": null,
      "outputs": []
    },
    {
      "cell_type": "code",
      "source": [
        "%%R\n",
        "library(nlme)\n",
        "library(lattice)\n",
        "data(Orthodont)\n",
        "\n",
        "# Fit the linear mixed-effects model with AR(1) correlation structure\n",
        "m_lme <- lme(distance ~ age * Sex,\n",
        "             random = ~1 + age | Subject,\n",
        "             correlation = corAR1(form = ~1 | Subject),\n",
        "             data = Orthodont)\n",
        "\n",
        "# Display the summary of the model\n",
        "summary(m_lme)\n"
      ],
      "metadata": {
        "id": "YAqt2VzF_5Zh"
      },
      "execution_count": null,
      "outputs": []
    },
    {
      "cell_type": "code",
      "source": [
        "%%R\n",
        "# Plot the fitted values versus residuals\n",
        "plot(m_lme, resid(., type=\"p\") ~ fitted(.) | Sex, abline = 0)"
      ],
      "metadata": {
        "id": "DnZl94drAd7Q"
      },
      "execution_count": null,
      "outputs": []
    },
    {
      "cell_type": "code",
      "source": [
        "# Import the R packages\n",
        "nlme = importr('nlme')\n",
        "lattice = importr('lattice')\n",
        "\n",
        "# Load the Orthodont data from R into Python\n",
        "data_env = robjects.globalenv\n",
        "robjects.r('data(Orthodont)')\n",
        "orthodont = data_env['Orthodont']\n",
        "\n",
        "# Convert the R data frame to a pandas DataFrame\n",
        "orthodont_df = pandas2ri.rpy2py(orthodont)\n",
        "\n",
        "# Display the first few rows of the data\n",
        "print(orthodont_df.head())\n"
      ],
      "metadata": {
        "id": "ljn8lE6Q_520"
      },
      "execution_count": null,
      "outputs": []
    },
    {
      "cell_type": "code",
      "source": [
        "# Import the R packages\n",
        "nlme = importr('nlme')\n",
        "lattice = importr('lattice')\n",
        "\n",
        "# Load the Orthodont data from R into Python\n",
        "robjects.r('data(Orthodont)')\n",
        "orthodont_df = robjects.r('Orthodont')\n",
        "\n",
        "# Use localconverter to convert the R data frame to pandas DataFrame\n",
        "#with localconverter(robjects.default_converter + pandas2ri.converter):\n",
        "#    orthodont_df = robjects.conversion.rpy2py(orthodont_r)\n",
        "\n",
        "\n",
        "# Display the first few rows of the data\n",
        "print(orthodont_df.head())\n"
      ],
      "metadata": {
        "id": "DL-aLTIg_580"
      },
      "execution_count": null,
      "outputs": []
    },
    {
      "cell_type": "code",
      "source": [
        "# Define the model formula and random effects\n",
        "model_formula = Formula('distance ~ age * Sex')\n",
        "random_effects = Formula('~1 + age | Subject')\n",
        "correlation_structure = nlme.corAR1(form=Formula('~1 | Subject'))\n",
        "r('print(head(data(Orthodont)))')\n",
        "\n",
        "# Fit the linear mixed-effects model\n",
        "m_lme = nlme.lme(fixed=model_formula,\n",
        "                 data=Orthodont,\n",
        "                 random=random_effects,\n",
        "                 correlation=correlation_structure,\n",
        "                 method='REML')\n",
        "\n",
        "# Get the summary of the model\n",
        "summary = robjects.r.summary(m_lme)\n",
        "print(summary)\n"
      ],
      "metadata": {
        "id": "K8PEFs6G_5_p"
      },
      "execution_count": null,
      "outputs": []
    },
    {
      "cell_type": "code",
      "source": [
        "import rpy2.robjects as robjects\n",
        "from rpy2.robjects import Formula\n",
        "from rpy2.robjects.packages import importr\n",
        "\n",
        "# Import the R packages\n",
        "nlme = importr('nlme')\n",
        "lattice = importr('lattice')\n",
        "\n",
        "# Load the Orthodont data into R's global environment\n",
        "robjects.r('data(Orthodont)')\n",
        "\n",
        "# Define the model formula and random effects\n",
        "model_formula = Formula('distance ~ age * Sex')\n",
        "random_effects = Formula('~1 + age | Subject')\n",
        "correlation_structure = nlme.corAR1(form=Formula('~1 | Subject'))\n",
        "\n",
        "# Access the Orthodont data from R's global environment\n",
        "Orthodont = robjects.globalenv['Orthodont']\n",
        "\n",
        "# Fit the linear mixed-effects model using the data directly from R\n",
        "m_lme = nlme.lme(fixed=model_formula,\n",
        "                 data=Orthodont,\n",
        "                 random=random_effects,\n",
        "                 correlation=correlation_structure,\n",
        "                 method='REML')\n",
        "\n",
        "# Get the summary of the model\n",
        "summary = robjects.r.summary(m_lme)\n",
        "print(summary)\n"
      ],
      "metadata": {
        "id": "fQzNQ7RRJm40"
      },
      "execution_count": null,
      "outputs": []
    },
    {
      "cell_type": "code",
      "source": [],
      "metadata": {
        "id": "8buS2i_MNiE_"
      },
      "execution_count": null,
      "outputs": []
    },
    {
      "cell_type": "code",
      "source": [
        "print(robjects.r('str(Orthodont)'))\n"
      ],
      "metadata": {
        "id": "81mFjlB0_6CW"
      },
      "execution_count": null,
      "outputs": []
    },
    {
      "cell_type": "code",
      "source": [
        "from rpy2.robjects import pandas2ri\n",
        "# Deactivate automatic conversion (rpy2 works with pandas df, but Orthodont is R df)\n",
        "pandas2ri.deactivate()\n",
        "\n",
        "# Load the Orthodont data into R's global environment\n",
        "robjects.r('data(Orthodont)')\n",
        "\n",
        "# Define the model components\n",
        "fixed_formula = Formula('distance ~ age * Sex')\n",
        "random_formula = Formula('~ 1 + age | Subject')\n",
        "correlation_structure = nlme.corAR1(form=Formula('~ 1 | Subject'))\n",
        "\n",
        "# Access the Orthodont data\n",
        "Orthodont = robjects.globalenv['Orthodont']\n",
        "\n",
        "# Fit the linear mixed-effects model\n",
        "m_lme = nlme.lme(\n",
        "    fixed=fixed_formula,\n",
        "    random=random_formula,\n",
        "    correlation=correlation_structure,\n",
        "    data=Orthodont,\n",
        "    method='REML'\n",
        ")\n"
      ],
      "metadata": {
        "id": "6zuO1as4_6Fb"
      },
      "execution_count": null,
      "outputs": []
    },
    {
      "cell_type": "code",
      "source": [
        "# Get the summary of the model\n",
        "summary = robjects.r.summary(m_lme)\n",
        "print(summary)"
      ],
      "metadata": {
        "id": "qH6KzaOMKgwK"
      },
      "execution_count": null,
      "outputs": []
    },
    {
      "cell_type": "code",
      "source": [
        "%%R\n",
        "library(nlme)\n",
        "library(lattice)\n",
        "data(Orthodont)\n",
        "\n",
        "# Fit the linear mixed-effects model with AR(1) correlation structure\n",
        "m_lme <- lme(distance ~ age * Sex,\n",
        "             random = ~1 + age | Subject,\n",
        "             correlation = corAR1(form = ~1 | Subject),\n",
        "             data = Orthodont)\n",
        "\n",
        "# Display the summary of the model\n",
        "summary(m_lme)\n",
        "\n"
      ],
      "metadata": {
        "id": "X1k0_NjvK1Ci"
      },
      "execution_count": null,
      "outputs": []
    },
    {
      "cell_type": "code",
      "source": [],
      "metadata": {
        "id": "cE99UE0lN9bq"
      },
      "execution_count": null,
      "outputs": []
    },
    {
      "cell_type": "markdown",
      "source": [
        "###Limitations of Python Packages\n",
        "* statsmodels MixedLM: Supports mixed-effects models with random intercepts and slopes. Does not natively support specifying autocorrelation structures (like AR(1)) in the residuals.\n",
        "\n",
        "* statsmodels GLSAR: Supports modeling autocorrelation in residuals.\n",
        "Does not support random effects.\n",
        "\n",
        "* nlmixed: An emerging package that support such models but is still under development."
      ],
      "metadata": {
        "id": "9hJl363qO4vn"
      }
    },
    {
      "cell_type": "code",
      "source": [
        "import pandas as pd\n",
        "import statsmodels.formula.api as smf\n",
        "\n",
        "# Load the Orthodont dataset\n",
        "data_url = 'https://raw.githubusercontent.com/vincentarelbundock/Rdatasets/master/csv/nlme/Orthodont.csv'\n",
        "data = pd.read_csv(data_url)\n",
        "\n",
        "# Remove the unnecessary column\n",
        "data = data.drop(columns=['rownames'])\n"
      ],
      "metadata": {
        "id": "ibQnQlRKPHE5"
      },
      "execution_count": null,
      "outputs": []
    },
    {
      "cell_type": "code",
      "source": [
        "data"
      ],
      "metadata": {
        "id": "ouo0FvIWPW4v"
      },
      "execution_count": null,
      "outputs": []
    },
    {
      "cell_type": "code",
      "source": [
        "# Convert categorical variables to appropriate types\n",
        "data['Subject'] = data['Subject'].astype('category')\n",
        "data['Sex'] = data['Sex'].astype('category')\n",
        "\n",
        "# Fit the mixed effects model with Random Effects\n",
        "# Random intercept and slope for age at the Subject level (re_formula=\"~ age\").\n",
        "model = smf.mixedlm(\n",
        "    \"distance ~ age * Sex\",\n",
        "    data,\n",
        "    groups=data[\"Subject\"],\n",
        "    re_formula=\"~ age\"\n",
        ")\n",
        "# No Autocorrelation Structure: The model does not account for the AR(1) autocorrelation in residuals.\n",
        "\n",
        "result = model.fit(reml=True)\n",
        "\n",
        "# Print the summary\n",
        "print(result.summary())\n"
      ],
      "metadata": {
        "id": "cAZFYbxYPWX6"
      },
      "execution_count": null,
      "outputs": []
    },
    {
      "cell_type": "code",
      "source": [
        "import statsmodels.api as sm\n",
        "import numpy as np\n",
        "\n",
        "# Sort data by Subject and age\n",
        "data_sorted = data.sort_values(['Subject', 'age'])\n",
        "\n",
        "# Create dummy variables for Sex\n",
        "data_sorted = pd.get_dummies(data_sorted, columns=['Sex'], drop_first=True)\n",
        "\n",
        "# Create the interaction term\n",
        "data_sorted['age_Sex_Male'] = data_sorted['age'] * data_sorted['Sex_Male']\n",
        "\n",
        "# Define the design matrix\n",
        "exog = sm.add_constant(data_sorted[['age', 'Sex_Male', 'age_Sex_Male']])\n",
        "endog = data_sorted['distance']\n",
        "\n",
        "# Initialize the GLSAR model\n",
        "model_glsar = sm.GLSAR(endog, exog, rho=1)\n",
        "\n",
        "# Iteratively estimate rho\n",
        "for i in range(10):\n",
        "    results_glsar = model_glsar.fit()\n",
        "    rho, sigma = sm.regression.linear_model.yule_walker(\n",
        "        results_glsar.resid, order=1, method='mle')\n",
        "    model_glsar = sm.GLSAR(endog, exog, rho=rho)\n",
        "\n",
        "# Fit the model\n",
        "results_glsar = model_glsar.fit()\n",
        "\n",
        "# Print the summary\n",
        "print(results_glsar.summary())\n"
      ],
      "metadata": {
        "id": "pIrwawxOPTjS"
      },
      "execution_count": null,
      "outputs": []
    },
    {
      "cell_type": "code",
      "source": [
        "from statsmodels.genmod.generalized_estimating_equations import GEE\n",
        "from statsmodels.genmod import families\n",
        "from statsmodels.genmod.cov_struct import Autoregressive\n",
        "\n",
        "# Convert 'Sex' and 'Subject' to categorical variables\n",
        "data['Sex'] = data['Sex'].astype('category')\n",
        "data['Subject'] = data['Subject'].astype('category')\n",
        "\n",
        "# Create numerical codes for 'Sex' and 'Subject'\n",
        "data['Sex_code'] = data['Sex'].cat.codes\n",
        "data['Subject_code'] = data['Subject'].cat.codes\n",
        "\n",
        "# Create interaction term\n",
        "data['age_Sex'] = data['age'] * data['Sex_code']\n",
        "\n",
        "# Add a constant term for the intercept\n",
        "data['Intercept'] = 1.0\n",
        "\n",
        "# Define endog and exog\n",
        "endog = data['distance']\n",
        "exog = data[['Intercept', 'age', 'Sex_code', 'age_Sex']]\n",
        "\n",
        "# Define the group and time variables\n",
        "groups = data['Subject_code']\n",
        "time = data['age']\n",
        "\n",
        "# Specify the AR(1) correlation structure\n",
        "cov_struct = Autoregressive()\n",
        "\n",
        "# Define the GEE model\n",
        "model = GEE(endog, exog, groups=groups, time=time, cov_struct=cov_struct, family=families.Gaussian())\n",
        "\n",
        "# Fit the model\n",
        "result = model.fit()\n",
        "\n",
        "# Print the summary\n",
        "print(result.summary())"
      ],
      "metadata": {
        "id": "5x7tuWO4Svio"
      },
      "execution_count": null,
      "outputs": []
    },
    {
      "cell_type": "markdown",
      "source": [],
      "metadata": {
        "id": "6FDKor89WyXJ"
      }
    },
    {
      "cell_type": "code",
      "source": [
        "!pip install nlmixed\n"
      ],
      "metadata": {
        "id": "YZD3OG_IP92i"
      },
      "execution_count": null,
      "outputs": []
    },
    {
      "cell_type": "code",
      "source": [
        "from nlmixed import NLMixed\n",
        "\n",
        "# Define the model formula\n",
        "formula = 'distance ~ b0 + b1 * age + b2 * Sex_Male + b3 * age_Sex_Male + u0[Subject] + u1[Subject] * age'\n",
        "\n",
        "# Prepare data\n",
        "data_sorted['Sex_Male'] = data_sorted['Sex_Male'].astype(int)\n",
        "data_sorted['Subject'] = data_sorted['Subject'].astype(int)\n",
        "\n",
        "# Define parameters and initial values\n",
        "init_params = {'b0': 0, 'b1': 0, 'b2': 0, 'b3': 0, 'Var(u0)': 1, 'Var(u1)': 1, 'Cov(u0,u1)': 0}\n",
        "\n",
        "# Fit the model\n",
        "model = NLMixed(formula, data_sorted, init_params, group='Subject')\n",
        "\n",
        "result = model.fit()\n",
        "\n",
        "# Print the summary\n",
        "print(result.summary())\n"
      ],
      "metadata": {
        "id": "DEL7SUTqSQHE"
      },
      "execution_count": null,
      "outputs": []
    },
    {
      "cell_type": "code",
      "source": [],
      "metadata": {
        "id": "daaGIMK-SQJ7"
      },
      "execution_count": null,
      "outputs": []
    },
    {
      "cell_type": "code",
      "source": [
        "import pandas as pd\n",
        "from rpy2.robjects import r, pandas2ri\n",
        "from rpy2.robjects.packages import importr\n",
        "\n",
        "# Activate pandas conversion\n",
        "pandas2ri.activate()\n",
        "\n",
        "# Load the nlme package in R\n",
        "nlme = importr('nlme')\n",
        "\n",
        "# Load the Orthodont dataset\n",
        "r('data(Orthodont)')\n",
        "df = r('Orthodont')\n",
        "\n",
        "df\n"
      ],
      "metadata": {
        "id": "K0xE8H-ESQNm"
      },
      "execution_count": null,
      "outputs": []
    },
    {
      "cell_type": "code",
      "source": [
        "# Rename columns for Leaspy compatibility\n",
        "df = df.rename(columns={\"distance\": \"measurement\", \"age\": \"time\", \"Subject\": \"id\"})\n",
        "\n",
        "# Ensure proper data types\n",
        "df['id'] = df['id'].astype(str)  # IDs must be strings\n",
        "df['time'] = df['time'].astype(float)  # Time as float\n",
        "df['measurement'] = df['measurement'].astype(float)  # Measurements as float\n"
      ],
      "metadata": {
        "id": "7vxUIwXskxqM"
      },
      "execution_count": null,
      "outputs": []
    },
    {
      "cell_type": "code",
      "source": [
        "pip install leaspy\n"
      ],
      "metadata": {
        "id": "Y7sFnMxClCPN"
      },
      "execution_count": null,
      "outputs": []
    },
    {
      "cell_type": "code",
      "source": [
        "from leaspy.io.data import LongitudinalDataset\n",
        "from leaspy.models import LinearModel\n",
        "from leaspy.inference import MaximumLikelihoodEstimator\n",
        "\n",
        "# Create a longitudinal dataset\n",
        "dataset = LongitudinalDataset.from_dataframe(\n",
        "    dataframe=df,\n",
        "    id_column=\"id\",\n",
        "    time_column=\"time\",\n",
        "    measurement_columns=[\"measurement\"]\n",
        ")\n",
        "\n",
        "# Define a Leaspy model (e.g., Linear growth model)\n",
        "model = LinearModel(dataset.dimension)\n",
        "\n",
        "# Initialize an estimator\n",
        "estimator = MaximumLikelihoodEstimator(model, dataset)\n",
        "\n",
        "# Fit the model\n",
        "fitted_model = estimator.estimate()\n"
      ],
      "metadata": {
        "id": "AS7Cag7OlDP_"
      },
      "execution_count": null,
      "outputs": []
    },
    {
      "cell_type": "code",
      "source": [
        "# Predict trajectories for all individuals\n",
        "predictions = fitted_model.predict(dataset)\n",
        "\n",
        "# Visualize one individual’s trajectory\n",
        "import matplotlib.pyplot as plt\n",
        "\n",
        "individual_id = \"M01\"  # Replace with an actual ID from the dataset\n",
        "individual_data = df[df['id'] == individual_id]\n",
        "\n",
        "plt.scatter(individual_data['time'], individual_data['measurement'], label=\"Observed\")\n",
        "plt.plot(predictions[individual_id]['time'], predictions[individual_id]['prediction'], label=\"Predicted\")\n",
        "plt.xlabel(\"Time\")\n",
        "plt.ylabel(\"Measurement\")\n",
        "plt.legend()\n",
        "plt.show()\n"
      ],
      "metadata": {
        "id": "JEuoD8WNlDS7"
      },
      "execution_count": null,
      "outputs": []
    },
    {
      "cell_type": "code",
      "source": [],
      "metadata": {
        "id": "cb-jIJmqlDV-"
      },
      "execution_count": null,
      "outputs": []
    },
    {
      "cell_type": "code",
      "source": [],
      "metadata": {
        "id": "N1fbm0RtlDY7"
      },
      "execution_count": null,
      "outputs": []
    }
  ]
}