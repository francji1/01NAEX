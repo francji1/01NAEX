{
  "nbformat": 4,
  "nbformat_minor": 0,
  "metadata": {
    "colab": {
      "private_outputs": true,
      "provenance": [],
      "authorship_tag": "ABX9TyOqQx4O/OT4iKX5SsS7+RCO",
      "include_colab_link": true
    },
    "kernelspec": {
      "name": "ir",
      "display_name": "R"
    },
    "language_info": {
      "name": "R"
    }
  },
  "cells": [
    {
      "cell_type": "markdown",
      "metadata": {
        "id": "view-in-github",
        "colab_type": "text"
      },
      "source": [
        "<a href=\"https://colab.research.google.com/github/francji1/01NAEX/blob/main/R/01NAEX_Exercise_12.ipynb\" target=\"_parent\"><img src=\"https://colab.research.google.com/assets/colab-badge.svg\" alt=\"Open In Colab\"/></a>"
      ]
    },
    {
      "cell_type": "markdown",
      "source": [
        "\t\n",
        "# O1NAEX Exercise 12"
      ],
      "metadata": {
        "id": "SJRUeUJPrezp"
      }
    },
    {
      "cell_type": "code",
      "source": [
        "#cat(system('sudo apt-get install -y gmp', intern=TRUE), sep = \"\\n\")\n",
        "#cat(system('sudo apt-get install -y partitions', intern=TRUE), sep = \"\\n\")\n",
        "#cat(system('sudo apt-get install -y DoE.base', intern=TRUE), sep = \"\\n\")\n",
        "\n",
        "list_of_packages <- c(\"tidyverse\",\"MASS\",\"nlme\",\"lme4\",\"lsmeans\",\"metR\",\"gls\") # \"agricolae\",\"nortest\",\"lattice\",\"pwr\",FrF2\n",
        "missing_packages <- list_of_packages[!(list_of_packages %in% installed.packages()[,\"Package\"])]\n",
        "missing_packages\n",
        "if(length(missing_packages)) install.packages(missing_packages)\n",
        "lapply(list_of_packages, library, character.only = TRUE)\n"
      ],
      "metadata": {
        "id": "crbwkzr9I90A"
      },
      "execution_count": null,
      "outputs": []
    },
    {
      "cell_type": "code",
      "source": [
        "#tibble::tibble(\n",
        "#  Package = names(installed.packages()[,3]),\n",
        "#  Version = unname(installed.packages()[,3])\n",
        "#)"
      ],
      "metadata": {
        "id": "mFJEGP4iPatd"
      },
      "execution_count": null,
      "outputs": []
    },
    {
      "cell_type": "code",
      "source": [],
      "metadata": {
        "id": "vU-TTThunR20"
      },
      "execution_count": null,
      "outputs": []
    },
    {
      "cell_type": "markdown",
      "source": [
        "## Investigate the effect of injection of Porcine Growth Hormone (PGH) on pH\n",
        "\t\t\n",
        "Experiment was carried out with two pigs from each of 6 litters. There were two treatments:\t1) control and \t2) pgh (daily injection with 0.08 mg PGH)\n",
        "\t\n",
        "The pH in the meat was measured 20 times from 30 minutes after until 24 hours after slaughter. There were 10 litters in the experiment\tbut pH was measured for only 6 of these. The order of the data is: treatment, litter, pig number, followed by pH measurements at 30, 45, 60, 75, 90, 105, 120, 150, 180, 210, 240, 270, 300, 330, 360, 390, 420, 450, 480, 1440 minutes after slaughter.\n",
        "\n",
        "In this analysis the focus should be on the effect of the treatment over time."
      ],
      "metadata": {
        "id": "Guz7v1lVu6LK"
      }
    },
    {
      "cell_type": "markdown",
      "source": [
        "**Tasks:**\n",
        "\n",
        "* Make one or more plots of the data. Comment on the plot(s).\n",
        "* Setup a suitable model for this data set, including both fixed and random effects, but no correlation structure. (Notice that besides the “pig” variable we also have\tinformation about litter, which could be included as an additional random effect.)\n",
        "* Reduce the initial model (if possible), both the random effects and fixed effects\tparts.\n",
        "* Extend the model by adding a correlation structure.\n",
        "* Use information criteria and/or semi-variograms to select an appropriate correlation structure.\n",
        "* Explain in words the correlation structure that was chosen.\n",
        "* Repeat the model reduction process.\n",
        "* What is the conclusion about the treatment?"
      ],
      "metadata": {
        "id": "Y0VOmEL55oWJ"
      }
    },
    {
      "cell_type": "code",
      "source": [],
      "metadata": {
        "id": "GWFQzWxE5Snq"
      },
      "execution_count": null,
      "outputs": []
    },
    {
      "cell_type": "code",
      "source": [
        "pgh <- read.table(\"https://raw.githubusercontent.com/francji1/01NAEX/main/data/pgh.txt\",header=TRUE,sep=\",\")\n",
        "pgh\n"
      ],
      "metadata": {
        "id": "xgcy4qqavEhu"
      },
      "execution_count": null,
      "outputs": []
    },
    {
      "cell_type": "code",
      "source": [],
      "metadata": {
        "id": "mO_qad23vwkH"
      },
      "execution_count": null,
      "outputs": []
    },
    {
      "cell_type": "code",
      "source": [],
      "metadata": {
        "id": "pE5TJpklrbPN"
      },
      "execution_count": null,
      "outputs": []
    },
    {
      "cell_type": "code",
      "source": [],
      "metadata": {
        "id": "2F26bckauxvB"
      },
      "execution_count": null,
      "outputs": []
    }
  ]
}