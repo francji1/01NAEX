{
  "nbformat": 4,
  "nbformat_minor": 0,
  "metadata": {
    "colab": {
      "private_outputs": true,
      "provenance": [],
      "collapsed_sections": [],
      "authorship_tag": "ABX9TyNaQ6WmiadasC+ZfTJRApRN",
      "include_colab_link": true
    },
    "kernelspec": {
      "name": "ir",
      "display_name": "R"
    },
    "language_info": {
      "name": "R"
    }
  },
  "cells": [
    {
      "cell_type": "markdown",
      "metadata": {
        "id": "view-in-github",
        "colab_type": "text"
      },
      "source": [
        "<a href=\"https://colab.research.google.com/github/francji1/01NAEX/blob/main/R/01NAEX_Exercise_06.ipynb\" target=\"_parent\"><img src=\"https://colab.research.google.com/assets/colab-badge.svg\" alt=\"Open In Colab\"/></a>"
      ]
    },
    {
      "cell_type": "markdown",
      "source": [
        "\t\n",
        "# O1NAEX Exercise 06"
      ],
      "metadata": {
        "id": "SJRUeUJPrezp"
      }
    },
    {
      "cell_type": "code",
      "source": [
        "cat(system('sudo apt-get install -y gmp', intern=TRUE), sep = \"\\n\")\n",
        "cat(system('sudo apt-get install -y partitions', intern=TRUE), sep = \"\\n\")\n",
        "cat(system('sudo apt-get install -y DoE.base', intern=TRUE), sep = \"\\n\")\n",
        "\n",
        "list_of_packages <- c(\"tidyverse\",\"MASS\",\"FrF2\") # \"agricolae\",\"nortest\",\"lattice\",\"pwr\",\n",
        "missing_packages <- list_of_packages[!(list_of_packages %in% installed.packages()[,\"Package\"])]\n",
        "missing_packages\n",
        "if(length(missing_packages)) install.packages(missing_packages)\n",
        "lapply(list_of_packages, library, character.only = TRUE)\n"
      ],
      "metadata": {
        "id": "crbwkzr9I90A"
      },
      "execution_count": null,
      "outputs": []
    },
    {
      "cell_type": "code",
      "source": [
        "tibble::tibble(\n",
        "  Package = names(installed.packages()[,3]),\n",
        "  Version = unname(installed.packages()[,3])\n",
        ")"
      ],
      "metadata": {
        "id": "mFJEGP4iPatd"
      },
      "execution_count": null,
      "outputs": []
    },
    {
      "cell_type": "markdown",
      "source": [
        "##\tProblem 6.31 + 6.32\n",
        "from the chapter 6, D. C. Montgomery DAoE - 8. edition.\n",
        "\t\n",
        "An experiment was conducted on a chemical process\n",
        "that produces a polymer. The four factors studied were temperature\n",
        "(A), catalyst concentration (B), time (C), and pressure\n",
        "(D). Two responses, molecular weight and viscosity, were\n",
        "observed. The design matrix and response data are following:"
      ],
      "metadata": {
        "id": "_lYQT0wrrb3V"
      }
    },
    {
      "cell_type": "code",
      "source": [
        "df631 <- read.table(\"https://raw.githubusercontent.com/francji1/01NAEX/main/data/Problem_6_31.txt\",header=TRUE,sep=\";\")\n",
        "(df631)"
      ],
      "metadata": {
        "id": "DfQaZt8HzOXa"
      },
      "execution_count": null,
      "outputs": []
    },
    {
      "cell_type": "markdown",
      "source": [
        "Use only first sixteen measurements, center points will be covered in the following lesson."
      ],
      "metadata": {
        "id": "jFIY10h0_iRG"
      }
    },
    {
      "cell_type": "markdown",
      "source": [
        "## Tasks:\n",
        "1. Consider only the molecular weight response. Plot the\n",
        "effect estimates on a normal probability scale. What\n",
        "effects appear important?\n",
        "2. Use an analysis of variance to confirm the results from the first \n",
        "part.\n",
        "3. Write down a regression model to predict molecular\n",
        "weight as a function of the important variables.\n",
        "4. Analyze the residuals and comment on model adequacy.\n",
        "5. Repeat parts 1.–4. using the viscosity response.\n",
        "\n",
        "Use the regression models for molecular weight and viscosity to answer the following questions.\n",
        "6. Construct a response surface contour plot for molecular\n",
        "weight. In what direction would you adjust therocess variables to increase molecular weight?\n",
        "7. Construct a response surface contour plot for viscosity.\n",
        "In what direction would you adjust the process variables\n",
        "to decrease viscosity?\n",
        "8. What operating conditions would you recommend if it\n",
        "was necessary to produce a product with molecular\n",
        "weight between 2400 and 2500 and the lowest possible\n",
        "viscosity?\n",
        "\n"
      ],
      "metadata": {
        "id": "dbEJmeh3zNWJ"
      }
    },
    {
      "cell_type": "code",
      "source": [
        "m         <-  FrF2(2^4, 4, replications = 1, randomize = F,factor.names = c(\"A\", \"B\",\"C\", \"D\"))\n",
        "Weight    <- df631[1:16,\"Weight\"]\n",
        "Viscosity <- df631[1:16,\"Viscosity\"]\n",
        "m         <- add.response(m,Weight)\n",
        "m         <- add.response(m,Viscosity)\n",
        "\n",
        "response.names(m)\n",
        "m"
      ],
      "metadata": {
        "id": "fxD9HMoPrbHg"
      },
      "execution_count": null,
      "outputs": []
    },
    {
      "cell_type": "code",
      "source": [],
      "metadata": {
        "id": "pE5TJpklrbPN"
      },
      "execution_count": null,
      "outputs": []
    },
    {
      "cell_type": "code",
      "source": [],
      "metadata": {
        "id": "2F26bckauxvB"
      },
      "execution_count": null,
      "outputs": []
    }
  ]
}