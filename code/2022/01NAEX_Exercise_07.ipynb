{
  "nbformat": 4,
  "nbformat_minor": 0,
  "metadata": {
    "colab": {
      "private_outputs": true,
      "provenance": [],
      "collapsed_sections": [],
      "authorship_tag": "ABX9TyN2nnUzcktCFTbGs5fqeYT5",
      "include_colab_link": true
    },
    "kernelspec": {
      "name": "ir",
      "display_name": "R"
    },
    "language_info": {
      "name": "R"
    }
  },
  "cells": [
    {
      "cell_type": "markdown",
      "metadata": {
        "id": "view-in-github",
        "colab_type": "text"
      },
      "source": [
        "<a href=\"https://colab.research.google.com/github/francji1/01NAEX/blob/main/R/01NAEX_Exercise_07.ipynb\" target=\"_parent\"><img src=\"https://colab.research.google.com/assets/colab-badge.svg\" alt=\"Open In Colab\"/></a>"
      ]
    },
    {
      "cell_type": "markdown",
      "source": [
        "\t\n",
        "# O1NAEX Exercise 07"
      ],
      "metadata": {
        "id": "SJRUeUJPrezp"
      }
    },
    {
      "cell_type": "code",
      "source": [
        "cat(system('sudo apt-get install -y gmp', intern=TRUE), sep = \"\\n\")\n",
        "cat(system('sudo apt-get install -y partitions', intern=TRUE), sep = \"\\n\")\n",
        "cat(system('sudo apt-get install -y DoE.base', intern=TRUE), sep = \"\\n\")\n",
        "\n",
        "list_of_packages <- c(\"tidyverse\",\"MASS\",\"FrF2\") # \"agricolae\",\"nortest\",\"lattice\",\"pwr\",\n",
        "missing_packages <- list_of_packages[!(list_of_packages %in% installed.packages()[,\"Package\"])]\n",
        "missing_packages\n",
        "if(length(missing_packages)) install.packages(missing_packages)\n",
        "lapply(list_of_packages, library, character.only = TRUE)\n"
      ],
      "metadata": {
        "id": "crbwkzr9I90A"
      },
      "execution_count": null,
      "outputs": []
    },
    {
      "cell_type": "code",
      "source": [
        "tibble::tibble(\n",
        "  Package = names(installed.packages()[,3]),\n",
        "  Version = unname(installed.packages()[,3])\n",
        ")"
      ],
      "metadata": {
        "id": "mFJEGP4iPatd"
      },
      "execution_count": null,
      "outputs": []
    },
    {
      "cell_type": "markdown",
      "source": [
        "##\tProblems 6.26 and 6.27 and 7.7\n",
        "from the chapters 6 and 7, D. C. Montgomery DAoE - 8. edition.\n",
        "\t\n",
        "An experiment was run in a semiconductor fabrication plant in an effort to increase yield. Five factors, each at two levels, were studied. The factors (and levels) were A \u0005 aperture setting (small, large), B \u0005 exposure time (20% below nominal, 20% above nominal), C \u0005 development time (30 and 45 s), D\u0005\n",
        "mask dimension (small, large), and E \u0005 etch time (14.5 and 15.5\n",
        "min). The unreplicated $2^5$ design shown below was run."
      ],
      "metadata": {
        "id": "_lYQT0wrrb3V"
      }
    },
    {
      "cell_type": "code",
      "source": [
        "df626 <- read.table(\"https://raw.githubusercontent.com/francji1/01NAEX/main/data/Ex06_26.csv\",header=TRUE,sep=\";\")\n",
        "head(df626)"
      ],
      "metadata": {
        "id": "DfQaZt8HzOXa"
      },
      "execution_count": null,
      "outputs": []
    },
    {
      "cell_type": "markdown",
      "source": [
        "a) Construct a normal probability plot of the effect estimates.\n",
        "Which effects appear to be large?\n",
        "\n",
        "b) Conduct an analysis of variance to confirm your findings\n",
        "for part (a).\n",
        "\n",
        "c) Write down the regression model relating yield to the\n",
        "significant process variables.\n",
        "\n",
        "d) Plot the residuals on normal probability paper. Is the\n",
        "plot satisfactory?\n",
        "\n",
        "e) Plot the residuals versus the predicted yields and versus\n",
        "each of the five factors. Comment on the plots.\n",
        "\n",
        "f) Interpret any significant interactions.\n",
        "\n",
        "g) What are your recommendations regarding process\n",
        "operating conditions?\n",
        "\n",
        "h) Project the 25 design in this problem into a 2k design\n",
        "in the important factors. Sketch the design and show\n",
        "the average and range of yields at each run. Does\n",
        "this sketch aid in interpreting the results of this\n",
        "experiment?\n",
        "\n",
        "i) Suppose that the experimenter had run four center points in addition to the 32 trials in the original experiment. The yields obtained at the\n",
        "center point runs were 68, 74, 76, and 70. Reanalyze the experiment, including a test for pure quadratic curvature. Discuss what your next step would be.\n",
        "\n",
        "j) Construct and analyze a design in two blocks with ABCDE\n",
        "confounded with blocks.\n",
        "\n",
        "k) Assuming now that four blocks are\n",
        "necessary. Suggest a reasonable confounding scheme.\n",
        "\n",
        "l) Suppose that it was necessary to run this design in four blocks\n",
        "with ACDE and BCD (and consequently ABE) confounded.\n",
        "Analyze the data from this design."
      ],
      "metadata": {
        "id": "dbEJmeh3zNWJ"
      }
    },
    {
      "cell_type": "code",
      "source": [],
      "metadata": {
        "id": "fxD9HMoPrbHg"
      },
      "execution_count": null,
      "outputs": []
    },
    {
      "cell_type": "code",
      "source": [],
      "metadata": {
        "id": "pE5TJpklrbPN"
      },
      "execution_count": null,
      "outputs": []
    },
    {
      "cell_type": "code",
      "source": [],
      "metadata": {
        "id": "2F26bckauxvB"
      },
      "execution_count": null,
      "outputs": []
    }
  ]
}