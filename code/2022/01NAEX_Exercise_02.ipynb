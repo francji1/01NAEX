{
  "nbformat": 4,
  "nbformat_minor": 0,
  "metadata": {
    "colab": {
      "private_outputs": true,
      "provenance": [],
      "collapsed_sections": []
    },
    "kernelspec": {
      "name": "ir",
      "display_name": "R"
    },
    "language_info": {
      "name": "R"
    }
  },
  "cells": [
    {
      "cell_type": "markdown",
      "source": [
        "# 01NAEX - Exercise 02\n",
        "Data and exercises come from D.C. Montgomery: Design and Analysis of Experiment [text odkazu](https://)- Chapter 02\n"
      ],
      "metadata": {
        "id": "IJZpZoupsfsX"
      }
    },
    {
      "cell_type": "markdown",
      "source": [
        "Get requirements:\n"
      ],
      "metadata": {
        "id": "pd9dWycysgCh"
      }
    },
    {
      "cell_type": "code",
      "source": [
        "list_of_packages <- c(\"tidyverse\", \"nortest\",\"lattice\",\"pwr\",\"MASS\",\"agricolae\")\n",
        "missing_packages <- list_of_packages[!(list_of_packages %in% installed.packages()[,\"Package\"])]\n",
        "missing_packages\n"
      ],
      "metadata": {
        "id": "OXxvZtMIsgVb"
      },
      "execution_count": null,
      "outputs": []
    },
    {
      "cell_type": "code",
      "source": [
        "# If you need to check your settings\n",
        "\n",
        "#getwd()\n",
        "#print(.libPaths())\n",
        "#print(sessionInfo())\n",
        "#print(version)"
      ],
      "metadata": {
        "id": "1CZG5KMctI6K"
      },
      "execution_count": null,
      "outputs": []
    },
    {
      "cell_type": "markdown",
      "source": [
        "If you install agricolae package on Google colab, it takes a long time ... It installs some extra packages and it can cause problems. Be patient."
      ],
      "metadata": {
        "id": "V77XOX1-wyi3"
      }
    },
    {
      "cell_type": "code",
      "source": [
        "if(length(missing_packages)) install.packages(missing_packages)\n",
        "lapply(list_of_packages, library, character.only = TRUE)"
      ],
      "metadata": {
        "id": "j9MSUk8Is6Lp"
      },
      "execution_count": null,
      "outputs": []
    },
    {
      "cell_type": "markdown",
      "source": [
        "## Assigment:\n",
        "\n",
        "*  Do exercise 3.7, 3.8, 3.9, and 3.10.\n",
        "* Use the R to create and analyze given designs.\n",
        "\n",
        "Data and exercises come from D.C. Montgomery: Design and Analysis of Experiment.\\\n"
      ],
      "metadata": {
        "id": "7SzDDewJ0Gps"
      }
    },
    {
      "cell_type": "markdown",
      "source": [
        "### Exercises 3.07\n",
        "\n",
        "The tensile strength of Portland cement is being studied. Four different mixing techniques can be used economically. A completely randomized experiment was conducted\tand the following data were collected:\n",
        "\t\n",
        "| Mixing | Technique Tensile Strength (lb/in2)||||\n",
        "|--------------------------------------------|||||\n",
        "| 1      |  3129  |  3000  |  2865  |  2890  |\n",
        "| 2      |  3200  |  3300  |  2975  |  3150  |\n",
        "| 3      |  2800  |  2900  |  2985  |  3050  |\n",
        "| 4      |  2600  |  2700  |  2600  |  2765  |\n",
        "\n",
        "* Construct a graphical display to compare the mean tensile strengths for the\n",
        "four mixing techniques. What are your conclusions?\n",
        "* Test the hypothesis that mixing techniques affect the\n",
        "strength of the cement. Use  $\\alpha = 0.05$.\n",
        "* Use the Fisher LSD method with  $\\alpha = 0.05$ to make\n",
        "comparisons between pairs of means.\n",
        "*  Construct a normal probability plot of the residuals.\n",
        "What conclusion would you draw about the validity of\n",
        "the normality assumption?\n",
        "*  Plot the residuals versus the predicted tensile strength. Comment on the plot.\n",
        "* Prepare a scatter plot of the results to aid the interpretation of the results of this experiment."
      ],
      "metadata": {
        "id": "zvHL1CwW0VKS"
      }
    },
    {
      "cell_type": "code",
      "source": [
        "Ex03_7 <- read.table(\"https://raw.githubusercontent.com/francji1/01NAEX/main/data/Ex03_7.csv\",header=TRUE,sep=\";\")\n",
        "head(Ex03_7)\n",
        "str(Ex03_7)\n",
        "\n",
        "library(ggplot2)\n",
        "library(tidyverse)\n",
        "install.packages('car')\n",
        "library(car)\n",
        "data <- Ex03_7 %>% transmute(stren = Tensile_Strength,\n",
        "                          tech = as.factor(Technique))\n",
        "ggplot(data=data, aes(x=tech, y=stren)) + \n",
        "  geom_boxplot() + \n",
        "  stat_summary(fun.y=\"mean\")\n",
        "\n"
      ],
      "metadata": {
        "id": "tQr4UVuXtrC_"
      },
      "execution_count": null,
      "outputs": []
    },
    {
      "cell_type": "markdown",
      "source": [
        "It seems that there is obvious difference in mixing techniques... to get also quantitative insight we can now \n",
        "conduct one-way ANOVA"
      ],
      "metadata": {
        "id": "YNzKCYtA85gS"
      }
    },
    {
      "cell_type": "code",
      "source": [
        "anova <- aov(stren ~ tech, data=data)\n",
        "summary(anova)"
      ],
      "metadata": {
        "id": "5Fx12vvW9Pea"
      },
      "execution_count": null,
      "outputs": []
    },
    {
      "cell_type": "code",
      "source": [
        "summary(lm(stren ~ tech, data=data))"
      ],
      "metadata": {
        "id": "8kphdfRCLE1n"
      },
      "execution_count": null,
      "outputs": []
    },
    {
      "cell_type": "code",
      "source": [],
      "metadata": {
        "id": "E0Q1urn0Ij-K"
      },
      "execution_count": null,
      "outputs": []
    },
    {
      "cell_type": "markdown",
      "source": [
        "We can reject null hypothesis about equality in means of strengths on level of 0.05. To find out which pairs significantly differ we will perform post-hoc analysis"
      ],
      "metadata": {
        "id": "UggllkVT9rPd"
      }
    },
    {
      "cell_type": "code",
      "source": [
        "? LSD.test"
      ],
      "metadata": {
        "id": "AQmat1VLIFRR"
      },
      "execution_count": null,
      "outputs": []
    },
    {
      "cell_type": "code",
      "source": [
        "# basic Fishers LSD test (with none correction)\n",
        "out1<-LSD.test(anova,\"tech\",p.adj=\"none\",console=TRUE)\n",
        "plot(out1,variation=\"SD\") # variation standard deviation"
      ],
      "metadata": {
        "id": "o-rcF5V4H6Le"
      },
      "execution_count": null,
      "outputs": []
    },
    {
      "cell_type": "code",
      "source": [
        "#  Fishers LSD test with bonferroni correction\n",
        "out1<-LSD.test(anova,\"tech\",p.adj=\"bonferroni\",console=TRUE)\n",
        "plot(out1,variation=\"SD\") # variation standard deviation"
      ],
      "metadata": {
        "id": "tIKPCmkAVqzv"
      },
      "execution_count": null,
      "outputs": []
    },
    {
      "cell_type": "markdown",
      "source": [
        "Fishers methods suggests that there is significant difference between means in group 1&4, 2&4 and 3&4"
      ],
      "metadata": {
        "id": "6Igw4iwbMEoD"
      }
    },
    {
      "cell_type": "code",
      "source": [
        "ggplot(data=data,mapping=aes(x=resid(anova), y=..density..)) +\n",
        "  geom_histogram(color=\"gray30\",fill=\"gray70\",binwidth=88) "
      ],
      "metadata": {
        "id": "aw6ec1jSIfPB"
      },
      "execution_count": null,
      "outputs": []
    },
    {
      "cell_type": "code",
      "source": [
        "plot(anova, which=1)"
      ],
      "metadata": {
        "id": "m0rTPo1p-LVA"
      },
      "execution_count": null,
      "outputs": []
    },
    {
      "cell_type": "code",
      "source": [
        "plot(anova, which=2)"
      ],
      "metadata": {
        "id": "d4dU8JK5Jw1p"
      },
      "execution_count": null,
      "outputs": []
    },
    {
      "cell_type": "code",
      "source": [
        "plot(anova, which=5)"
      ],
      "metadata": {
        "id": "olST_TFJFXLg"
      },
      "execution_count": null,
      "outputs": []
    },
    {
      "cell_type": "code",
      "source": [
        "bartlett.test(stren ~ tech, data=data)\n",
        "leveneTest(anova)\n"
      ],
      "metadata": {
        "id": "W8hu0_poCV-8"
      },
      "execution_count": null,
      "outputs": []
    },
    {
      "cell_type": "markdown",
      "source": [
        "Results of both tests suggest that we do not have enough evidence to reject hypothesis about equality of variances between groups."
      ],
      "metadata": {
        "id": "xMMj0h5nE2Az"
      }
    },
    {
      "cell_type": "code",
      "source": [
        "ggplot(data, aes(x=tech, y=stren, color=tech)) +\n",
        "  geom_point(size=5, shape=16)"
      ],
      "metadata": {
        "id": "XFDRIwjgNdUJ"
      },
      "execution_count": null,
      "outputs": []
    },
    {
      "cell_type": "markdown",
      "source": [
        "Graphical methods sugests that maybe there is inly difference between group 1&4 2&4 3&4"
      ],
      "metadata": {
        "id": "gGKR1hlNWOCa"
      }
    },
    {
      "cell_type": "markdown",
      "source": [
        "\n",
        "### Exercises 3.08 and 3.09 \n",
        "\n",
        "Reconsider the experiment in Problem 3.07. \n",
        "\n",
        "* Rework part (3) of Problem 3.07 using Tukey’s test\twith \t$\\alpha = 0.05$. Do you get the same conclusions from Tukey’s test that you did from the graphical procedure and/or the Fisher LSD method?\n",
        "* Explain the difference between the Tukey and Fisher procedures.\n",
        "*Find a 95percent confidence interval on the mean tensile strength of the Portland cement produced by each of the four mixing techniques. Also find a 95 percent confidence interval on the difference in means for techniques 1 and 3. Does this aid you in interpreting the results of the experiment?"
      ],
      "metadata": {
        "id": "Ylfv4-d_3SEl"
      }
    },
    {
      "cell_type": "code",
      "source": [
        "thsd <-TukeyHSD(anova, ordered=F, conf.level=0.95)\n",
        "thsd\n",
        "plot(thsd)"
      ],
      "metadata": {
        "id": "YtM7AlkJ0UF_"
      },
      "execution_count": null,
      "outputs": []
    },
    {
      "cell_type": "markdown",
      "source": [
        "As we can see that Tukeys HSD method showed that there is signifcant difference in means between groups 1&4 2&4 3&4 which is same conclusion as in graphical method and Fisher's LSD method with bonferroni's correction but different than basic Fisher's LSD method with none correction."
      ],
      "metadata": {
        "id": "PPYkOR7gWaS4"
      }
    },
    {
      "cell_type": "markdown",
      "source": [
        "Fisher LSD method is similar to pairwaise t-test (difference is only in dfs) and with more tests there is still higher probability of error of type I. On the other hand Tukeys method holds the significance level on chosen level and uses more exotic distribution."
      ],
      "metadata": {
        "id": "zpna-Nt-Nzeu"
      }
    },
    {
      "cell_type": "code",
      "source": [
        "confint(lm(stren~tech-1, data=data), level=0.95)  # get rid of intercept to get CI for all means"
      ],
      "metadata": {
        "id": "ZMetm9xjOlBu"
      },
      "execution_count": null,
      "outputs": []
    },
    {
      "cell_type": "code",
      "source": [
        "\n",
        "confint(lm(stren~tech, data=data), level=0.95) # technique 1 is our reference so we get 95% CI for tech_i - tech_1"
      ],
      "metadata": {
        "id": "jVOqXLInQf5h"
      },
      "execution_count": null,
      "outputs": []
    },
    {
      "cell_type": "markdown",
      "source": [
        "### Exercises 3.10\n",
        "\n",
        "A product developer is investigating the tensile strength\n",
        "of a new synthetic fiber that will be used to make cloth for\n",
        "men’s shirts. Strength is usually affected by the percentage of\n",
        "cotton used in the blend of materials for the fiber. The engineer\n",
        "conducts a completely randomized experiment with five levels\n",
        "of cotton content and replicates the experiment five times.\n",
        "\n",
        "\n",
        "* Is there evidence to support the claim that cotton content\n",
        "affects the mean tensile strength? Use $\\alpha = 0.05$.\n",
        "* Use the Fisher LSD method to make comparisons\n",
        "between the pairs of means. What conclusions can you\n",
        "draw?\n",
        "* Analyze the residuals from this experiment and comment\n",
        "on model adequacy.\n"
      ],
      "metadata": {
        "id": "CU8aDa_V3y_1"
      }
    },
    {
      "cell_type": "code",
      "source": [
        "Ex03_10 <- read.table(\"https://raw.githubusercontent.com/francji1/01NAEX/main/data/Ex03_10.csv\",header=TRUE,sep=\";\")\n",
        "head(Ex03_10)\n",
        "str(Ex03_10)"
      ],
      "metadata": {
        "id": "OPmTG8WruIYf"
      },
      "execution_count": null,
      "outputs": []
    },
    {
      "cell_type": "code",
      "source": [
        "data2 <- Ex03_10 %>% transmute(percentage = as.factor(Cotton_Weight),\n",
        "                          strength = Observations)"
      ],
      "metadata": {
        "id": "pbaiKKNJXIJb"
      },
      "execution_count": null,
      "outputs": []
    },
    {
      "cell_type": "code",
      "source": [
        "ggplot(data=data2, aes(x=percentage, y=strength)) + \n",
        "  geom_boxplot() + \n",
        "  stat_summary(fun.y=\"mean\", size=1, color='purple') + \n",
        "  geom_point(size=3, shape=16, color='red')"
      ],
      "metadata": {
        "id": "YZm4hagZZk83"
      },
      "execution_count": null,
      "outputs": []
    },
    {
      "cell_type": "code",
      "source": [
        "summary(lm(strength ~ percentage, data=data2))"
      ],
      "metadata": {
        "id": "4SsF22H-YWKO"
      },
      "execution_count": null,
      "outputs": []
    },
    {
      "cell_type": "markdown",
      "source": [
        "We can see that p-value for F-test is 0 so we can reject null hypothesis about equality of means so there exists at least one significant difference in means tensile strength between some group."
      ],
      "metadata": {
        "id": "sxQlZoTrYrAO"
      }
    },
    {
      "cell_type": "code",
      "source": [
        "out2<-LSD.test(aov(strength ~ percentage, data=data2),\"percentage\",p.adj=\"none\",console=TRUE)\n",
        "plot(out2,variation=\"SD\") # variation standard deviation"
      ],
      "metadata": {
        "id": "dWWt3quU7Cuh"
      },
      "execution_count": null,
      "outputs": []
    },
    {
      "cell_type": "code",
      "source": [
        "bartlett.test(strength ~ percentage, data=data2)\n",
        "leveneTest(strength ~ percentage, data=data2)"
      ],
      "metadata": {
        "id": "m8j_Yx6q9dpu"
      },
      "execution_count": null,
      "outputs": []
    },
    {
      "cell_type": "code",
      "source": [
        "plot(lm(strength ~ percentage, data=data2))"
      ],
      "metadata": {
        "id": "ck47fADTa08T"
      },
      "execution_count": null,
      "outputs": []
    },
    {
      "cell_type": "code",
      "source": [
        "ggplot(data=data2,mapping=aes(x=resid(lm(strength ~ percentage, data=data2)),\n",
        " y=..density..)) +\n",
        "  geom_histogram(color=\"gray30\",fill=\"gray70\",binwidth=2.5) "
      ],
      "metadata": {
        "id": "JtGTDQ96a_iw"
      },
      "execution_count": null,
      "outputs": []
    },
    {
      "cell_type": "markdown",
      "source": [
        "Graphical and statistical test suggest that there is no obvious problem with variance equality or normality of residuals. Residual plots does not show any trends ... Independence of measurements is hardly to be tested if at all...\n",
        "\n",
        "Overall analysis sugest that there is some linear trend between cotton percentage and tensile strength within interval 15-30 % but between 30% and 35% exist some kind of threshold where another increasing of cotton percentage results in drop of tensile strength"
      ],
      "metadata": {
        "id": "-_4SUCvJbR4p"
      }
    }
  ]
}