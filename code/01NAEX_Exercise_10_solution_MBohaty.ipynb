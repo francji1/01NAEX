{
  "nbformat": 4,
  "nbformat_minor": 0,
  "metadata": {
    "colab": {
      "private_outputs": true,
      "provenance": [],
      "include_colab_link": true
    },
    "kernelspec": {
      "name": "python3",
      "display_name": "Python 3"
    },
    "language_info": {
      "name": "python"
    }
  },
  "cells": [
    {
      "cell_type": "markdown",
      "metadata": {
        "id": "view-in-github",
        "colab_type": "text"
      },
      "source": [
        "<a href=\"https://colab.research.google.com/github/francji1/01NAEX/blob/main/code/01NAEX_Exercise_10_solution_MBohaty.ipynb\" target=\"_parent\"><img src=\"https://colab.research.google.com/assets/colab-badge.svg\" alt=\"Open In Colab\"/></a>"
      ]
    },
    {
      "cell_type": "markdown",
      "source": [
        "# O1NAEX Exercise 10\n",
        "\n",
        "\n",
        "author: xxx"
      ],
      "metadata": {
        "id": "SJRUeUJPrezp"
      }
    },
    {
      "cell_type": "markdown",
      "source": [
        "## Drying of beech wood planks\n",
        "\n",
        "To investigate the effect of drying of beech wood on the humidity percentage, the following experiment was conducted. Each of 20 planks was dried in a certain period of time. Then the humidity percentage was measured in 5 depths (1,3,5,7,9) and 3 widths (1,2,3) for each plank.\n",
        "\n",
        "**Source:** The Royal Veterinary and Agricultural University, Denmark.\n",
        "\n",
        "\n",
        "**Variables:**\n",
        "* plank \t -   Numbered 1-20\n",
        "* width      -   Numbered 1,2,3\n",
        "* depth \t -   Numbered 1,3,5,7,9\n",
        "* humidity   -   Humidity percentage\n",
        "\n",
        "**Number of observations:** 300 (20 planks)\n",
        "\n",
        "**Description:**\n",
        "* depth 1: \tclose to the top\n",
        "* depth 5: \tin the center\n",
        "* depth 9: \tclose to the bottom\n",
        "* depth 3: \tbetween 1 and 5\n",
        "* depth 7: \tbetween 5 and 9\n",
        "* width 1: \tclose to the side\n",
        "* width 3: \tin the center\n",
        "* width 2: \tbetween 1 and 3\n"
      ],
      "metadata": {
        "id": "r5gfgquYnR-L"
      }
    },
    {
      "cell_type": "markdown",
      "source": [
        "**Analyze data from the Drying of beech wood planks:**\n",
        "\n",
        "* Plot four average humidity profiles: 2 interaction plots for width and 2 for depth (done).\n",
        "* Carrying out the fixed effects model analysis.\n",
        "* Carry out the mixed model analysis.\n",
        "* Run the post hoc analysis\n",
        "* Compare the fixed parameters and use the p-value correction (TukeyHSD).\n",
        " Hint: Use function `lsmeans`  from the package `lsmeans` with `adjust=\"tukey`.\n",
        "* Summarize results."
      ],
      "metadata": {
        "id": "AXBQejMnn94O"
      }
    },
    {
      "cell_type": "code",
      "source": [
        "import pandas as pd\n",
        "import matplotlib.pyplot as plt\n",
        "from itertools import product\n",
        "\n",
        "import statsmodels.api as sm\n",
        "import statsmodels.formula.api as smf\n",
        "from statsmodels.stats.anova import anova_lm\n",
        "from statsmodels.stats.multicomp import pairwise_tukeyhsd\n"
      ],
      "metadata": {
        "id": "vU-TTThunR20"
      },
      "execution_count": null,
      "outputs": []
    },
    {
      "cell_type": "code",
      "source": [
        "planks = pd.read_csv(\"https://raw.githubusercontent.com/francji1/01NAEX/main/data/planks.txt\",sep=\",\")\n",
        "planks"
      ],
      "metadata": {
        "id": "DfQaZt8HzOXa"
      },
      "execution_count": null,
      "outputs": []
    },
    {
      "cell_type": "code",
      "source": [
        "planks['plank'] = planks['plank'].astype('category')\n",
        "planks['width'] = planks['width'].astype('category')\n",
        "planks['depth'] = planks['depth'].astype('category')\n"
      ],
      "metadata": {
        "id": "ZdlSiXZlHjWM"
      },
      "execution_count": null,
      "outputs": []
    },
    {
      "cell_type": "code",
      "source": [
        "def interaction_plot(x, trace, response, data, ax):\n",
        "    categories_x = data[x].cat.categories\n",
        "    categories_trace = data[trace].cat.categories\n",
        "\n",
        "    for trace_level in categories_trace:\n",
        "        subset = data[data[trace] == trace_level]\n",
        "        means = subset.groupby(x)[response].mean()\n",
        "        ax.plot(categories_x, means, label=f\"{trace}: {trace_level}\")\n",
        "\n",
        "    ax.set_xlabel(x)\n",
        "    ax.set_ylabel(response)\n",
        "    ax.legend(title=trace, loc='upper left', bbox_to_anchor=(1, 1), fontsize='small')  # Adjust legend position\n",
        "    ax.grid(True)\n"
      ],
      "metadata": {
        "id": "qK7N5Q38DKCI"
      },
      "execution_count": null,
      "outputs": []
    },
    {
      "cell_type": "code",
      "source": [
        "\n",
        "# Creating the 2x2 subplot layout\n",
        "fig, axes = plt.subplots(2, 2, figsize=(12, 10))\n",
        "\n",
        "# Plot 1: width vs plank\n",
        "interaction_plot('width', 'plank', 'humidity', planks, axes[0, 0])\n",
        "axes[0, 0].set_title(\"Width vs Plank\")\n",
        "\n",
        "# Plot 2: depth vs plank\n",
        "interaction_plot('depth', 'plank', 'humidity', planks, axes[0, 1])\n",
        "axes[0, 1].set_title(\"Depth vs Plank\")\n",
        "\n",
        "# Plot 3: width vs depth\n",
        "interaction_plot('width', 'depth', 'humidity', planks, axes[1, 0])\n",
        "axes[1, 0].set_title(\"Width vs Depth\")\n",
        "\n",
        "# Plot 4: depth vs width\n",
        "interaction_plot('depth', 'width', 'humidity', planks, axes[1, 1])\n",
        "axes[1, 1].set_title(\"Depth vs Width\")\n",
        "\n",
        "plt.tight_layout()\n",
        "plt.show()\n"
      ],
      "metadata": {
        "id": "DkLibLOLDK95"
      },
      "execution_count": null,
      "outputs": []
    },
    {
      "cell_type": "markdown",
      "source": [
        "## Fixed model\n",
        "Nejprve naladíme model s pevnými parametry, kde prkna budou vystupovat jako block."
      ],
      "metadata": {
        "id": "RO9C8SUMrxkP"
      }
    },
    {
      "cell_type": "code",
      "source": [
        "#fixed model, using planks as blocking factor\n",
        "fixed_model = smf.ols(\"humidity ~ C(width) + C(depth) + C(plank)\", data=planks).fit()\n",
        "print(fixed_model.summary())"
      ],
      "metadata": {
        "id": "iC4G5gwknBe6"
      },
      "execution_count": null,
      "outputs": []
    },
    {
      "cell_type": "code",
      "source": [
        "anova_fixed = anova_lm(fixed_model)\n",
        "print(anova_fixed)"
      ],
      "metadata": {
        "id": "L7ZMLNlgIGz4"
      },
      "execution_count": null,
      "outputs": []
    },
    {
      "cell_type": "code",
      "source": [
        "# Tukey HSD for Width\n",
        "tukey_width = pairwise_tukeyhsd(endog=planks['humidity'],\n",
        "                                groups=planks['width'],\n",
        "                                alpha=0.05)\n",
        "print(tukey_width)"
      ],
      "metadata": {
        "id": "8qYuECLasLtm"
      },
      "execution_count": null,
      "outputs": []
    },
    {
      "cell_type": "code",
      "source": [
        "# Tukey HSD for Depth\n",
        "tukey_depth = pairwise_tukeyhsd(endog=planks['humidity'],\n",
        "                                groups=planks['depth'],\n",
        "                                alpha=0.05)\n",
        "print(tukey_depth)"
      ],
      "metadata": {
        "id": "Gpj2cyNEuhbT"
      },
      "execution_count": null,
      "outputs": []
    },
    {
      "cell_type": "code",
      "source": [
        "# Plot Tukey results for Width\n",
        "tukey_width.plot_simultaneous()\n",
        "plt.title(\"Tukey HSD for Width\")\n",
        "plt.show()\n",
        "\n",
        "# Plot Tukey results for Depth\n",
        "tukey_depth.plot_simultaneous()\n",
        "plt.title(\"Tukey HSD for Depth\")\n",
        "plt.show()"
      ],
      "metadata": {
        "id": "6fB1vcUtusMw"
      },
      "execution_count": null,
      "outputs": []
    },
    {
      "cell_type": "markdown",
      "source": [
        "## Mixed model\n",
        "Nyní naladíme mixed model, nejprve v Pythonu, potom také v R kvůli možnosti provést ANOVU."
      ],
      "metadata": {
        "id": "A8A7p9hvvlED"
      }
    },
    {
      "cell_type": "code",
      "source": [
        "mixed_model = smf.mixedlm(\"humidity ~ C(width) + C(depth)\", planks, groups=planks['plank']).fit()\n",
        "print(mixed_model.summary())\n"
      ],
      "metadata": {
        "id": "RFC3OVVxnClq"
      },
      "execution_count": null,
      "outputs": []
    },
    {
      "cell_type": "code",
      "source": [
        "%load_ext rpy2.ipython"
      ],
      "metadata": {
        "id": "nMNafhZSQASJ"
      },
      "execution_count": null,
      "outputs": []
    },
    {
      "cell_type": "code",
      "source": [
        "%%R\n",
        "packages <- c(\"lme4\", \"car\", \"emmeans\")\n",
        "install.packages(packages)"
      ],
      "metadata": {
        "collapsed": true,
        "id": "CuA2L8LrUiXL"
      },
      "execution_count": null,
      "outputs": []
    },
    {
      "cell_type": "code",
      "source": [
        "%%R\n",
        "library(lme4) # For mixed models\n",
        "library(car)  # For ANOVA\n",
        "library(emmeans) # For post hoc analysis\n",
        "\n",
        "# Load data\n",
        "url <- \"https://raw.githubusercontent.com/francji1/01NAEX/main/data/planks.txt\"\n",
        "planks <- read.csv(url, sep = \",\")\n",
        "planks$plank <- as.factor(planks$plank)\n",
        "planks$width <- as.factor(planks$width)\n",
        "planks$depth <- as.factor(planks$depth)"
      ],
      "metadata": {
        "id": "2F26bckauxvB"
      },
      "execution_count": null,
      "outputs": []
    },
    {
      "cell_type": "code",
      "source": [
        "%%R\n",
        "mixed_model <- lmer(humidity ~ width + depth + (1 | plank), data = planks)\n",
        "summary(mixed_model)"
      ],
      "metadata": {
        "id": "O2NqgudEQQz3"
      },
      "execution_count": null,
      "outputs": []
    },
    {
      "cell_type": "markdown",
      "source": [
        "Vidíme, že výsledky při použití R a Pythonu jsou až na zaokrouhlení stejné."
      ],
      "metadata": {
        "id": "qm7qyT_rwTMN"
      }
    },
    {
      "cell_type": "code",
      "source": [
        "%%R\n",
        "anova <- Anova(mixed_model, type = \"III\")\n",
        "print(anova)"
      ],
      "metadata": {
        "id": "m2OVyAWdWnZ8"
      },
      "execution_count": null,
      "outputs": []
    },
    {
      "cell_type": "code",
      "source": [
        "%%R\n",
        "emm_width <- emmeans(mixed_model, pairwise ~ width, adjust = \"tukey\")\n",
        "print(emm_width)"
      ],
      "metadata": {
        "id": "JUp6RBc6auAU"
      },
      "execution_count": null,
      "outputs": []
    },
    {
      "cell_type": "code",
      "source": [
        "%%R\n",
        "emm_depth <- emmeans(mixed_model, pairwise ~ depth, adjust = \"tukey\")\n",
        "print(emm_depth)"
      ],
      "metadata": {
        "id": "hO_JkaYTvYDN"
      },
      "execution_count": null,
      "outputs": []
    },
    {
      "cell_type": "code",
      "source": [
        "%%R\n",
        "plot(emm_width$emmeans)"
      ],
      "metadata": {
        "id": "BlhGuoYhyCES"
      },
      "execution_count": null,
      "outputs": []
    },
    {
      "cell_type": "code",
      "source": [
        "%%R\n",
        "plot(emm_width$contrasts)"
      ],
      "metadata": {
        "id": "u6SHsdWy0UUD"
      },
      "execution_count": null,
      "outputs": []
    },
    {
      "cell_type": "code",
      "source": [
        "%%R\n",
        "plot(emm_depth$emmeans)"
      ],
      "metadata": {
        "id": "ewKisxbSyRgG"
      },
      "execution_count": null,
      "outputs": []
    },
    {
      "cell_type": "markdown",
      "source": [
        "Při použití mixed modelu jsme při párovém porovnávání byli schopni rozlišit rozdíl mezi jednotlivými šířkami, což jsme pro pevný model nedokázali. Ostatní výsledky nám vyšly stejné."
      ],
      "metadata": {
        "id": "YK4SnagX1QbE"
      }
    }
  ]
}