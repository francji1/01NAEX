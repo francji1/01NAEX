{
  "nbformat": 4,
  "nbformat_minor": 0,
  "metadata": {
    "colab": {
      "private_outputs": true,
      "provenance": [],
      "include_colab_link": true
    },
    "kernelspec": {
      "name": "ir",
      "display_name": "R"
    },
    "language_info": {
      "name": "R"
    }
  },
  "cells": [
    {
      "cell_type": "markdown",
      "metadata": {
        "id": "view-in-github",
        "colab_type": "text"
      },
      "source": [
        "<a href=\"https://colab.research.google.com/github/francji1/01NAEX/blob/main/code/01NAEX_Exercise_02_R.ipynb\" target=\"_parent\"><img src=\"https://colab.research.google.com/assets/colab-badge.svg\" alt=\"Open In Colab\"/></a>"
      ]
    },
    {
      "cell_type": "markdown",
      "source": [
        "# 01NAEX - Exercise 02\n",
        "Data and exercises come from D.C. Montgomery: Design and Analysis of Experiment [text odkazu](https://)- Chapter 02\n"
      ],
      "metadata": {
        "id": "IJZpZoupsfsX"
      }
    },
    {
      "cell_type": "markdown",
      "source": [
        "Get requirements:\n"
      ],
      "metadata": {
        "id": "pd9dWycysgCh"
      }
    },
    {
      "cell_type": "code",
      "source": [
        "list_of_packages <- c(\"tidyverse\", \"nortest\",\"lattice\",\"pwr\",\"MASS\",\"agricolae\")\n",
        "missing_packages <- list_of_packages[!(list_of_packages %in% installed.packages()[,\"Package\"])]\n",
        "missing_packages\n"
      ],
      "metadata": {
        "id": "OXxvZtMIsgVb"
      },
      "execution_count": null,
      "outputs": []
    },
    {
      "cell_type": "code",
      "source": [
        "# If you need to check your settings\n",
        "\n",
        "#getwd()\n",
        "#print(.libPaths())\n",
        "#print(sessionInfo())\n",
        "#print(version)"
      ],
      "metadata": {
        "id": "1CZG5KMctI6K"
      },
      "execution_count": null,
      "outputs": []
    },
    {
      "cell_type": "markdown",
      "source": [
        "If you install agricolae package on Google colab, it takes a long time ... It installs some extra packages and it can cause problems. Be patient."
      ],
      "metadata": {
        "id": "V77XOX1-wyi3"
      }
    },
    {
      "cell_type": "code",
      "source": [
        "if(length(missing_packages)) install.packages(missing_packages)\n",
        "lapply(list_of_packages, library, character.only = TRUE)"
      ],
      "metadata": {
        "id": "j9MSUk8Is6Lp"
      },
      "execution_count": null,
      "outputs": []
    },
    {
      "cell_type": "markdown",
      "source": [
        "## Assigment:\n",
        "\n",
        "*  Do exercise 3.7, 3.8, 3.9, and 3.10.\n",
        "* Use the R to create and analyze given designs.\n",
        "\n",
        "Data and exercises come from D.C. Montgomery: Design and Analysis of Experiment.\\\n"
      ],
      "metadata": {
        "id": "7SzDDewJ0Gps"
      }
    },
    {
      "cell_type": "markdown",
      "source": [
        "### Exercises 3.07\n",
        "\n",
        "The tensile strength of Portland cement is being studied. Four different mixing techniques can be used economically. A completely randomized experiment was conducted\tand the following data were collected:\n",
        "\n",
        "| Mixing | Technique Tensile Strength (lb/in2)||||\n",
        "|--------------------------------------------|||||\n",
        "| 1      |  3129  |  3000  |  2865  |  2890  |\n",
        "| 2      |  3200  |  3300  |  2975  |  3150  |\n",
        "| 3      |  2800  |  2900  |  2985  |  3050  |\n",
        "| 4      |  2600  |  2700  |  2600  |  2765  |\n",
        "\n",
        "* Construct a graphical display to compare the mean tensile strengths for the\n",
        "four mixing techniques. What are your conclusions?\n",
        "* Test the hypothesis that mixing techniques affect the\n",
        "strength of the cement. Use  $\\alpha = 0.05$.\n",
        "* Use the Fisher LSD method with  $\\alpha = 0.05$ to make\n",
        "comparisons between pairs of means.\n",
        "*  Construct a normal probability plot of the residuals.\n",
        "What conclusion would you draw about the validity of\n",
        "the normality assumption?\n",
        "*  Plot the residuals versus the predicted tensile strength. Comment on the plot.\n",
        "* Prepare a scatter plot of the results to aid the interpretation of the results of this experiment."
      ],
      "metadata": {
        "id": "zvHL1CwW0VKS"
      }
    },
    {
      "cell_type": "code",
      "source": [
        "Ex03_7 <- read.table(\"https://raw.githubusercontent.com/francji1/01NAEX/main/data/Ex03_7.csv\",header=TRUE,sep=\";\")\n",
        "head(Ex03_7)\n",
        "str(Ex03_7)\n",
        "\n",
        "library(ggplot2)\n",
        "library(tidyverse)\n",
        "install.packages('car')\n",
        "library(car)\n",
        "data <- Ex03_7 %>% transmute(stren = Tensile_Strength,\n",
        "                          tech = as.factor(Technique))\n",
        "ggplot(data=data, aes(x=tech, y=stren)) +\n",
        "  geom_boxplot() +\n",
        "  stat_summary(fun.y=\"mean\")\n",
        "\n"
      ],
      "metadata": {
        "id": "tQr4UVuXtrC_"
      },
      "execution_count": null,
      "outputs": []
    },
    {
      "cell_type": "markdown",
      "source": [
        "\n",
        "### Exercises 3.08 and 3.09\n",
        "\n",
        "Reconsider the experiment in Problem 3.07.\n",
        "\n",
        "* Rework part (3) of Problem 3.07 using Tukey’s test\twith \t$\\alpha = 0.05$. Do you get the same conclusions from Tukey’s test that you did from the graphical procedure and/or the Fisher LSD method?\n",
        "* Explain the difference between the Tukey and Fisher procedures.\n",
        "*Find a 95percent confidence interval on the mean tensile strength of the Portland cement produced by each of the four mixing techniques. Also find a 95 percent confidence interval on the difference in means for techniques 1 and 3. Does this aid you in interpreting the results of the experiment?"
      ],
      "metadata": {
        "id": "Ylfv4-d_3SEl"
      }
    },
    {
      "cell_type": "markdown",
      "source": [
        "### Exercises 3.10\n",
        "\n",
        "A product developer is investigating the tensile strength\n",
        "of a new synthetic fiber that will be used to make cloth for\n",
        "men’s shirts. Strength is usually affected by the percentage of\n",
        "cotton used in the blend of materials for the fiber. The engineer\n",
        "conducts a completely randomized experiment with five levels\n",
        "of cotton content and replicates the experiment five times.\n",
        "\n",
        "\n",
        "* Is there evidence to support the claim that cotton content\n",
        "affects the mean tensile strength? Use $\\alpha = 0.05$.\n",
        "* Use the Fisher LSD method to make comparisons\n",
        "between the pairs of means. What conclusions can you\n",
        "draw?\n",
        "* Analyze the residuals from this experiment and comment\n",
        "on model adequacy.\n"
      ],
      "metadata": {
        "id": "CU8aDa_V3y_1"
      }
    },
    {
      "cell_type": "code",
      "source": [
        "Ex03_10 <- read.table(\"https://raw.githubusercontent.com/francji1/01NAEX/main/data/Ex03_10.csv\",header=TRUE,sep=\";\")\n",
        "head(Ex03_10)\n",
        "str(Ex03_10)"
      ],
      "metadata": {
        "id": "OPmTG8WruIYf"
      },
      "execution_count": null,
      "outputs": []
    },
    {
      "cell_type": "code",
      "source": [
        "data2 <- Ex03_10 %>% transmute(percentage = as.factor(Cotton_Weight),\n",
        "                          strength = Observations)"
      ],
      "metadata": {
        "id": "pbaiKKNJXIJb"
      },
      "execution_count": null,
      "outputs": []
    },
    {
      "cell_type": "code",
      "source": [
        "ggplot(data=data2, aes(x=percentage, y=strength)) +\n",
        "  geom_boxplot() +\n",
        "  stat_summary(fun.y=\"mean\", size=1, color='purple') +\n",
        "  geom_point(size=3, shape=16, color='red')"
      ],
      "metadata": {
        "id": "YZm4hagZZk83"
      },
      "execution_count": null,
      "outputs": []
    }
  ]
}