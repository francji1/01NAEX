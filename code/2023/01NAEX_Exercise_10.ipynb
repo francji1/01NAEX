{
  "nbformat": 4,
  "nbformat_minor": 0,
  "metadata": {
    "colab": {
      "private_outputs": true,
      "provenance": [],
      "authorship_tag": "ABX9TyNul9/uxpU3aqCdl3n1RJ0H",
      "include_colab_link": true
    },
    "kernelspec": {
      "name": "ir",
      "display_name": "R"
    },
    "language_info": {
      "name": "R"
    }
  },
  "cells": [
    {
      "cell_type": "markdown",
      "metadata": {
        "id": "view-in-github",
        "colab_type": "text"
      },
      "source": [
        "<a href=\"https://colab.research.google.com/github/francji1/01NAEX/blob/main/code/01NAEX_Exercise_10.ipynb\" target=\"_parent\"><img src=\"https://colab.research.google.com/assets/colab-badge.svg\" alt=\"Open In Colab\"/></a>"
      ]
    },
    {
      "cell_type": "markdown",
      "source": [
        "\n",
        "# O1NAEX Exercise 10"
      ],
      "metadata": {
        "id": "SJRUeUJPrezp"
      }
    },
    {
      "cell_type": "code",
      "source": [
        "#cat(system('sudo apt-get install -y gmp', intern=TRUE), sep = \"\\n\")\n",
        "#cat(system('sudo apt-get install -y partitions', intern=TRUE), sep = \"\\n\")\n",
        "#cat(system('sudo apt-get install -y DoE.base', intern=TRUE), sep = \"\\n\")\n",
        "\n",
        "list_of_packages <- c(\"tidyverse\",\"MASS\",\"nlme\",\"lme4\",\"lsmeans\") # \"agricolae\",\"nortest\",\"lattice\",\"pwr\",FrF2\n",
        "missing_packages <- list_of_packages[!(list_of_packages %in% installed.packages()[,\"Package\"])]\n",
        "missing_packages\n",
        "if(length(missing_packages)) install.packages(missing_packages)\n",
        "lapply(list_of_packages, library, character.only = TRUE)\n"
      ],
      "metadata": {
        "id": "crbwkzr9I90A"
      },
      "execution_count": null,
      "outputs": []
    },
    {
      "cell_type": "code",
      "source": [
        "#tibble::tibble(\n",
        "#  Package = names(installed.packages()[,3]),\n",
        "#  Version = unname(installed.packages()[,3])\n",
        "#)"
      ],
      "metadata": {
        "id": "mFJEGP4iPatd"
      },
      "execution_count": null,
      "outputs": []
    },
    {
      "cell_type": "code",
      "source": [],
      "metadata": {
        "id": "vU-TTThunR20"
      },
      "execution_count": null,
      "outputs": []
    },
    {
      "cell_type": "markdown",
      "source": [
        "## Drying of beech wood planks\n",
        "\n",
        "To investigate the effect of drying of beech wood on the humidity percentage, the following experiment was conducted. Each of 20 planks was dried in a certain period of time. Then the humidity percentage was measured in 5 depths (1,3,5,7,9) and 3 widths (1,2,3) for each plank.\n",
        "\n",
        "**Source:** The Royal Veterinary and Agricultural University, Denmark.\n",
        "\n",
        "\n",
        "**Variables:**\n",
        "* plank \t -   Numbered 1-20\n",
        "* width      -   Numbered 1,2,3\n",
        "* depth \t -   Numbered 1,3,5,7,9\n",
        "* humidity   -   Humidity percentage\n",
        "\n",
        "**Number of observations:** 300 (20 planks)\n",
        "\n",
        "**Description:**\n",
        "* depth 1: \tclose to the top\n",
        "* depth 5: \tin the center\n",
        "* depth 9: \tclose to the bottom\n",
        "* depth 3: \tbetween 1 and 5\n",
        "* depth 7: \tbetween 5 and 9\n",
        "* width 1: \tclose to the side\n",
        "* width 3: \tin the center\n",
        "* width 2: \tbetween 1 and 3\n"
      ],
      "metadata": {
        "id": "r5gfgquYnR-L"
      }
    },
    {
      "cell_type": "markdown",
      "source": [
        "**Analyze data from the Drying of beech wood planks:**\n",
        "\n",
        "* Plot four average humidity profiles: 2 interaction plots for width and 2 for depth (done).\n",
        "* Carrying out the fixed effects model analysis.\n",
        "* Carry out the mixed model analysis.\n",
        "* Run the post hoc analysis\n",
        "* Compare the fixed parameters and use the p-value correction (TukeyHSD).\n",
        " Hint: Use function `lsmeans`  from the package `lsmeans` with `adjust=\"tukey`.\n",
        "* Summarize results."
      ],
      "metadata": {
        "id": "AXBQejMnn94O"
      }
    },
    {
      "cell_type": "code",
      "source": [
        "planks <- read.table(\"https://raw.githubusercontent.com/francji1/01NAEX/main/data/planks.txt\",header=TRUE,sep=\",\")\n",
        "planks"
      ],
      "metadata": {
        "id": "DfQaZt8HzOXa"
      },
      "execution_count": null,
      "outputs": []
    },
    {
      "cell_type": "code",
      "source": [
        "head(planks)\n"
      ],
      "metadata": {
        "id": "ZdlSiXZlHjWM"
      },
      "execution_count": null,
      "outputs": []
    },
    {
      "cell_type": "code",
      "source": [
        "planks$plank  <-factor(planks$plank)\n",
        "planks$width  <-factor(planks$width)\n",
        "planks$depth  <-factor(planks$depth)\n"
      ],
      "metadata": {
        "id": "iC4G5gwknBe6"
      },
      "execution_count": null,
      "outputs": []
    },
    {
      "cell_type": "code",
      "source": [
        "op <- par(mfrow=c(2,2))\n",
        "with(planks, interaction.plot(width,plank,humidity,legend=T))\n",
        "with(planks, interaction.plot(depth,plank,humidity,legend=T))\n",
        "with(planks, interaction.plot(width,depth,humidity,legend=T))\n",
        "with(planks, interaction.plot(depth,width,humidity,legend=T))\n",
        "par(op)"
      ],
      "metadata": {
        "id": "RFC3OVVxnClq"
      },
      "execution_count": null,
      "outputs": []
    },
    {
      "cell_type": "code",
      "source": [
        "#attach(planks)\n"
      ],
      "metadata": {
        "id": "iyltKmYLHjcn"
      },
      "execution_count": null,
      "outputs": []
    },
    {
      "cell_type": "code",
      "source": [],
      "metadata": {
        "id": "pE5TJpklrbPN"
      },
      "execution_count": null,
      "outputs": []
    },
    {
      "cell_type": "code",
      "source": [],
      "metadata": {
        "id": "2F26bckauxvB"
      },
      "execution_count": null,
      "outputs": []
    }
  ]
}