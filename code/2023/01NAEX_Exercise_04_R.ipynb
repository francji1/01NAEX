{
  "nbformat": 4,
  "nbformat_minor": 0,
  "metadata": {
    "colab": {
      "private_outputs": true,
      "provenance": [],
      "include_colab_link": true
    },
    "kernelspec": {
      "name": "ir",
      "display_name": "R"
    },
    "language_info": {
      "name": "R"
    }
  },
  "cells": [
    {
      "cell_type": "markdown",
      "metadata": {
        "id": "view-in-github",
        "colab_type": "text"
      },
      "source": [
        "<a href=\"https://colab.research.google.com/github/francji1/01NAEX/blob/main/code/01NAEX_Exercise_04_R.ipynb\" target=\"_parent\"><img src=\"https://colab.research.google.com/assets/colab-badge.svg\" alt=\"Open In Colab\"/></a>"
      ]
    },
    {
      "cell_type": "markdown",
      "source": [
        "\n",
        "# O1NAEX Exercise 04"
      ],
      "metadata": {
        "id": "SJRUeUJPrezp"
      }
    },
    {
      "cell_type": "code",
      "source": [
        "list_of_packages <- c(\"tidyverse\", \"nortest\",\"lattice\",\"pwr\",\"MASS\") # \"agricolae\"\n",
        "missing_packages <- list_of_packages[!(list_of_packages %in% installed.packages()[,\"Package\"])]\n",
        "missing_packages\n",
        "if(length(missing_packages)) install.packages(missing_packages)\n",
        "lapply(list_of_packages, library, character.only = TRUE)\n"
      ],
      "metadata": {
        "id": "j1giTE6AtYlf"
      },
      "execution_count": null,
      "outputs": []
    },
    {
      "cell_type": "markdown",
      "source": [
        "\n",
        "##\tProblem 4.23\n",
        "from the chapter 4, D. C. Montgomery DAoE - 8. edition.\n",
        "\n",
        "An industrial engineer is investigating the effect of\n",
        "four assembly methods (A, B, C, D) on the assembly time for\n",
        "a color television component. Four operators are selected for\n",
        "the study. Furthermore, the engineer knows that each assembly\n",
        "method produces such fatigue that the time required for\n",
        "the last assembly may be greater than the time required for the\n",
        "first, regardless of the method. That is, a trend develops in the\n",
        "required assembly time. To account for this source of variability,\n",
        "the engineer uses the Latin square design shown below.\n",
        "Analyze the data from this experiment (use\t$\\alpha = 0.05$) and draw\n",
        "appropriate conclusions.\n",
        "\n"
      ],
      "metadata": {
        "id": "_lYQT0wrrb3V"
      }
    },
    {
      "cell_type": "code",
      "source": [
        "df23 <- read.table(\"https://raw.githubusercontent.com/francji1/01NAEX/main/data/Problem_4_23.txt\",header=TRUE,sep=\";\")\n",
        "df23"
      ],
      "metadata": {
        "id": "0Zu8d8hUsK6m"
      },
      "execution_count": null,
      "outputs": []
    },
    {
      "cell_type": "code",
      "source": [
        "str(df23)"
      ],
      "metadata": {
        "id": "L3Jzm9vjs-oB"
      },
      "execution_count": null,
      "outputs": []
    },
    {
      "cell_type": "markdown",
      "source": [
        "## Problem  4.40\n",
        "from the chapter 4, D. C. Montgomery DAoE - 8. edition.\n"
      ],
      "metadata": {
        "id": "92wRmYRlsJ54"
      }
    },
    {
      "cell_type": "markdown",
      "source": [
        "\n",
        "An engineer is studying the mileage performance\n",
        "characteristics of five types of gasoline additives. In the road\n",
        "test he wishes to use cars as blocks; however, because of a time constraint, he must use an incomplete block design. He\n",
        "runs the balanced design with the five blocks that follow.\n",
        "Analyze the data from this experiment (use $\\alpha\t = 0.05$) and\n",
        "draw conclusions.\n"
      ],
      "metadata": {
        "id": "Tai_J8-1rv_U"
      }
    },
    {
      "cell_type": "code",
      "source": [
        "df40 <- read.table(\"https://raw.githubusercontent.com/francji1/01NAEX/main/data/Problem_4_40.txt\",header=TRUE,sep=\";\")\n",
        "df40"
      ],
      "metadata": {
        "id": "Xs8uoEu3t-ex"
      },
      "execution_count": null,
      "outputs": []
    },
    {
      "cell_type": "markdown",
      "source": [
        "# Problem  4.42\n",
        "from the chapter 4, D. C. Montgomery DAoE - 8. edition.\\\\[3mm]\n"
      ],
      "metadata": {
        "id": "xqGV-sqAt8Em"
      }
    },
    {
      "cell_type": "markdown",
      "source": [
        "Seven different hardwood concentrations are being studied to determine their effect on the strength of the paper produced. However, the pilot plant can only produce three\truns each day. As days may differ, the analyst uses the balanced incomplete block design that follows. Analyze the data from this experiment (use $\\alpha = 0.05$) and draw conclusions.\n",
        "\n",
        "Try to run, in addition to ANOVA with BIBD, the linear model with concentration as a quantitative response too (on condition there is no day effect).\n",
        "\n"
      ],
      "metadata": {
        "id": "--4FOfk3uRiA"
      }
    },
    {
      "cell_type": "code",
      "source": [
        "df42 <- read.table(\"https://raw.githubusercontent.com/francji1/01NAEX/main/data/Problem_4_42.txt\",header=TRUE,sep=\";\")\n",
        "df42"
      ],
      "metadata": {
        "id": "qT0tPAX1rbE_"
      },
      "execution_count": null,
      "outputs": []
    },
    {
      "cell_type": "code",
      "source": [],
      "metadata": {
        "id": "fxD9HMoPrbHg"
      },
      "execution_count": null,
      "outputs": []
    },
    {
      "cell_type": "code",
      "source": [],
      "metadata": {
        "id": "pE5TJpklrbPN"
      },
      "execution_count": null,
      "outputs": []
    },
    {
      "cell_type": "code",
      "source": [],
      "metadata": {
        "id": "2F26bckauxvB"
      },
      "execution_count": null,
      "outputs": []
    }
  ]
}