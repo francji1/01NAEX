{
  "nbformat": 4,
  "nbformat_minor": 0,
  "metadata": {
    "colab": {
      "private_outputs": true,
      "provenance": [],
      "include_colab_link": true
    },
    "kernelspec": {
      "name": "ir",
      "display_name": "R"
    },
    "language_info": {
      "name": "R"
    }
  },
  "cells": [
    {
      "cell_type": "markdown",
      "metadata": {
        "id": "view-in-github",
        "colab_type": "text"
      },
      "source": [
        "<a href=\"https://colab.research.google.com/github/francji1/01NAEX/blob/main/code/01NAEX_Exercise_10_student_solution.ipynb\" target=\"_parent\"><img src=\"https://colab.research.google.com/assets/colab-badge.svg\" alt=\"Open In Colab\"/></a>"
      ]
    },
    {
      "cell_type": "markdown",
      "source": [
        "\n",
        "# O1NAEX Exercise 10"
      ],
      "metadata": {
        "id": "SJRUeUJPrezp"
      }
    },
    {
      "cell_type": "code",
      "source": [
        "#cat(system('sudo apt-get install -y gmp', intern=TRUE), sep = \"\\n\")\n",
        "#cat(system('sudo apt-get install -y partitions', intern=TRUE), sep = \"\\n\")\n",
        "#cat(system('sudo apt-get install -y DoE.base', intern=TRUE), sep = \"\\n\")\n",
        "\n",
        "list_of_packages <- c(\"tidyverse\",\"MASS\",\"nlme\",\"lme4\",\"lsmeans\") # \"agricolae\",\"nortest\",\"lattice\",\"pwr\",FrF2\n",
        "missing_packages <- list_of_packages[!(list_of_packages %in% installed.packages()[,\"Package\"])]\n",
        "missing_packages\n",
        "if(length(missing_packages)) install.packages(missing_packages)\n",
        "lapply(list_of_packages, library, character.only = TRUE)\n"
      ],
      "metadata": {
        "id": "crbwkzr9I90A"
      },
      "execution_count": null,
      "outputs": []
    },
    {
      "cell_type": "code",
      "source": [
        "#tibble::tibble(\n",
        "#  Package = names(installed.packages()[,3]),\n",
        "#  Version = unname(installed.packages()[,3])\n",
        "#)"
      ],
      "metadata": {
        "id": "mFJEGP4iPatd"
      },
      "execution_count": null,
      "outputs": []
    },
    {
      "cell_type": "code",
      "source": [
        "install.packages(\"ggplot2\")\n",
        "library(ggplot2)"
      ],
      "metadata": {
        "id": "vU-TTThunR20"
      },
      "execution_count": null,
      "outputs": []
    },
    {
      "cell_type": "markdown",
      "source": [
        "## Drying of beech wood planks\n",
        "\n",
        "To investigate the effect of drying of beech wood on the humidity percentage, the following experiment was conducted. Each of 20 planks was dried in a certain period of time. Then the humidity percentage was measured in 5 depths (1,3,5,7,9) and 3 widths (1,2,3) for each plank.\n",
        "\n",
        "**Source:** The Royal Veterinary and Agricultural University, Denmark.\n",
        "\n",
        "\n",
        "**Variables:**\n",
        "* plank \t -   Numbered 1-20\n",
        "* width      -   Numbered 1,2,3\n",
        "* depth \t -   Numbered 1,3,5,7,9\n",
        "* humidity   -   Humidity percentage\n",
        "\n",
        "**Number of observations:** 300 (20 planks)\n",
        "\n",
        "**Description:**\n",
        "* depth 1: \tclose to the top\n",
        "* depth 5: \tin the center\n",
        "* depth 9: \tclose to the bottom\n",
        "* depth 3: \tbetween 1 and 5\n",
        "* depth 7: \tbetween 5 and 9\n",
        "* width 1: \tclose to the side\n",
        "* width 3: \tin the center\n",
        "* width 2: \tbetween 1 and 3\n"
      ],
      "metadata": {
        "id": "r5gfgquYnR-L"
      }
    },
    {
      "cell_type": "markdown",
      "source": [
        "**Analyze data from the Drying of beech wood planks:**\n",
        "\n",
        "* Plot four average humidity profiles: 2 interaction plots for width and 2 for depth (done).\n",
        "* Carrying out the fixed effects model analysis.\n",
        "* Carry out the mixed model analysis.\n",
        "* Run the post hoc analysis\n",
        "* Compare the fixed parameters and use the p-value correction (TukeyHSD).\n",
        " Hint: Use function `lsmeans`  from the package `lsmeans` with `adjust=\"tukey`.\n",
        "* Summarize results."
      ],
      "metadata": {
        "id": "AXBQejMnn94O"
      }
    },
    {
      "cell_type": "code",
      "source": [
        "planks <- read.table(\"https://raw.githubusercontent.com/francji1/01NAEX/main/data/planks.txt\",header=TRUE,sep=\",\")\n",
        "planks"
      ],
      "metadata": {
        "id": "DfQaZt8HzOXa"
      },
      "execution_count": null,
      "outputs": []
    },
    {
      "cell_type": "code",
      "source": [
        "head(planks)\n"
      ],
      "metadata": {
        "id": "ZdlSiXZlHjWM"
      },
      "execution_count": null,
      "outputs": []
    },
    {
      "cell_type": "code",
      "source": [
        "planks$plank  <-factor(planks$plank)\n",
        "planks$width  <-factor(planks$width)\n",
        "planks$depth  <-factor(planks$depth)\n"
      ],
      "metadata": {
        "id": "iC4G5gwknBe6"
      },
      "execution_count": null,
      "outputs": []
    },
    {
      "cell_type": "markdown",
      "source": [
        "# Data Visualization"
      ],
      "metadata": {
        "id": "bMZpeb1uucph"
      }
    },
    {
      "cell_type": "code",
      "source": [
        "ggplot(planks, aes(x=width, y=humidity)) +\n",
        "  geom_boxplot() +\n",
        "  stat_summary(fun.y=\"mean\")\n",
        "\n",
        "ggplot(planks, aes(x=depth, y=humidity)) +\n",
        "  geom_boxplot() +\n",
        "  stat_summary(fun.y=\"mean\")"
      ],
      "metadata": {
        "id": "-mEUTF1Gik7-"
      },
      "execution_count": null,
      "outputs": []
    },
    {
      "cell_type": "code",
      "source": [
        "# interaction plots\n",
        "op <- par(mfrow=c(2,2))\n",
        "with(planks, interaction.plot(width,plank,humidity,legend=T))\n",
        "with(planks, interaction.plot(depth,plank,humidity,legend=T))\n",
        "with(planks, interaction.plot(width,depth,humidity,legend=T))\n",
        "with(planks, interaction.plot(depth,width,humidity,legend=T))\n",
        "par(op)"
      ],
      "metadata": {
        "id": "RFC3OVVxnClq"
      },
      "execution_count": null,
      "outputs": []
    },
    {
      "cell_type": "code",
      "source": [
        "planks_with_mean <- planks %>%\n",
        "  group_by(plank,width) %>%\n",
        "  mutate(mean_humidity_pw = mean(humidity))%>%\n",
        "  group_by(plank,depth)%>%\n",
        "  mutate(mean_humidity_pd = mean(humidity))%>%\n",
        "  group_by(depth,width)%>%\n",
        "  mutate(mean_humidity_dw = mean(humidity))\n",
        "\n",
        "head(planks_with_mean)"
      ],
      "metadata": {
        "id": "rPFNPkM2XYq7"
      },
      "execution_count": null,
      "outputs": []
    },
    {
      "cell_type": "code",
      "source": [
        "# interaction plots using ggplot2\n",
        "ggplot(planks_with_mean, aes(x = width, y = mean_humidity_pw, color = plank, group = plank)) +\n",
        "  geom_point(position = position_dodge(width = 0.5), size = 3) +\n",
        "  geom_line(position = position_dodge(width = 0.5), size = 1) +\n",
        "  labs(title = \"Mean Humidity for Each Plank\",\n",
        "       x = \"Width\",\n",
        "       y = \"Mean Humidity\",\n",
        "       color = \"Plank\") +\n",
        "  theme_minimal()\n",
        "\n",
        "ggplot(planks_with_mean, aes(x = depth, y = mean_humidity_pd, color = plank, group = plank)) +\n",
        "  geom_point(position = position_dodge(width = 0.5), size = 3) +\n",
        "  geom_line(position = position_dodge(width = 0.5), size = 1) +\n",
        "  labs(title = \"Mean Humidity for Each Plank\",\n",
        "       x = \"Depth\",\n",
        "       y = \"Mean Humidity\",\n",
        "       color = \"Plank\") +\n",
        "  theme_minimal()\n",
        "\n",
        "ggplot(planks_with_mean, aes(x = width, y = mean_humidity_dw, color = depth, group = depth)) +\n",
        "  geom_point(position = position_dodge(width = 0.5), size = 3) +\n",
        "  geom_line(position = position_dodge(width = 0.5), size = 1) +\n",
        "  labs(title = \"Mean Humidity for Each Plank\",\n",
        "       x = \"Width\",\n",
        "       y = \"Mean Humidity\",\n",
        "       color = \"Depth\") +\n",
        "  theme_minimal()\n",
        "\n",
        "ggplot(planks_with_mean, aes(x = depth, y = mean_humidity_dw, color = width, group = width)) +\n",
        "  geom_point(position = position_dodge(width = 0.5), size = 3) +\n",
        "  geom_line(position = position_dodge(width = 0.5), size = 1) +\n",
        "  labs(title = \"Mean Humidity for Each Plank\",\n",
        "       x = \"Depth\",\n",
        "       y = \"Mean Humidity\",\n",
        "       color = \"Width\") +\n",
        "  theme_minimal()"
      ],
      "metadata": {
        "id": "BTwGMW1RTGgq"
      },
      "execution_count": null,
      "outputs": []
    },
    {
      "cell_type": "markdown",
      "source": [
        "From the interaction plots it can be seen that the mean of humidity at depth 3, 5 and 7 is higher than close to the top or bottom (depth 1 an 9)."
      ],
      "metadata": {
        "id": "vr_JSlobXBVM"
      }
    },
    {
      "cell_type": "code",
      "source": [
        "#lattice::xyplot(humidity~width | plank, groups=plank, data=planks, type=c('p','r'), auto.key=F)\n",
        "#lattice::xyplot(humidity~depth | plank, groups=plank, data=planks, type=c('p','r'), auto.key=F)"
      ],
      "metadata": {
        "id": "djYPccA7wTAH"
      },
      "execution_count": null,
      "outputs": []
    },
    {
      "cell_type": "markdown",
      "source": [
        "# Fixed effects model"
      ],
      "metadata": {
        "id": "KZh3yY-3u_Iy"
      }
    },
    {
      "cell_type": "markdown",
      "source": [
        "Our fixed effects are variables *depth* and *width*."
      ],
      "metadata": {
        "id": "N9Rpy9pIxWNd"
      }
    },
    {
      "cell_type": "code",
      "source": [
        "attach(planks)"
      ],
      "metadata": {
        "id": "iyltKmYLHjcn"
      },
      "execution_count": null,
      "outputs": []
    },
    {
      "cell_type": "code",
      "source": [
        "fixed_model <- lm(humidity ~ width * depth)\n",
        "summary(fixed_model)"
      ],
      "metadata": {
        "id": "yyUpWAin6MfH"
      },
      "execution_count": null,
      "outputs": []
    },
    {
      "cell_type": "markdown",
      "source": [
        "We can see that the *depth3*, *depth5* and *depth7* are statistically significant. None of the interactions are significant so we drop them from the model."
      ],
      "metadata": {
        "id": "R6CHaVwIchJK"
      }
    },
    {
      "cell_type": "code",
      "source": [
        "par(mfrow = c(2,2))\n",
        "plot(fixed_model)"
      ],
      "metadata": {
        "id": "-MHnXIxmemqm"
      },
      "execution_count": null,
      "outputs": []
    },
    {
      "cell_type": "code",
      "source": [
        "fixed_model2 <- lm(humidity~ width + depth)\n",
        "summary(fixed_model2)\n",
        "\n",
        "fixed_model3 <- lm(humidity ~ depth)\n",
        "summary(fixed_model3)"
      ],
      "metadata": {
        "id": "vAZJkZiPcPLc"
      },
      "execution_count": null,
      "outputs": []
    },
    {
      "cell_type": "code",
      "source": [
        "par(mfrow = c(2,2))\n",
        "plot(fixed_model2)"
      ],
      "metadata": {
        "id": "QxZM3EupeSBi"
      },
      "execution_count": null,
      "outputs": []
    },
    {
      "cell_type": "markdown",
      "source": [
        "# Mixed model"
      ],
      "metadata": {
        "id": "jyoanPQxvUc0"
      }
    },
    {
      "cell_type": "markdown",
      "source": [
        "Variable *plank* is our random effect."
      ],
      "metadata": {
        "id": "P6U7CbDUxlnJ"
      }
    },
    {
      "cell_type": "code",
      "source": [
        "mixed_model <- lme(humidity ~ width *depth, random = ~ 1 | plank)\n",
        "summary(mixed_model)"
      ],
      "metadata": {
        "id": "UHHopMSJWJj4"
      },
      "execution_count": null,
      "outputs": []
    },
    {
      "cell_type": "markdown",
      "source": [
        "Random intercept for the grouping variable *plank* has standard deviation 0.9898 so variable **plank ~** $ N(0; 0.9898^2)$. As in previous case there are no significant interactions. The coeficients of fixed effects in this mixed model are the same as in the fixed model."
      ],
      "metadata": {
        "id": "ycgh9x2RbE9B"
      }
    },
    {
      "cell_type": "code",
      "source": [
        "#mixed_model_b <- lmer(humidity ~ width*depth + (1 | plank))\n",
        "#summary(mixed_model_b)"
      ],
      "metadata": {
        "id": "pE5TJpklrbPN"
      },
      "execution_count": null,
      "outputs": []
    },
    {
      "cell_type": "code",
      "source": [
        "plot(mixed_model)\n",
        "\n",
        "# Extract residuals from the mixed model\n",
        "residuals_mixed <- residuals(mixed_model)\n",
        "\n",
        "\n",
        "# Create Q-Q Residuals plot\n",
        "qqnorm(residuals_mixed)\n",
        "qqline(residuals_mixed, col = 2)"
      ],
      "metadata": {
        "id": "WSd3xedG-EM0"
      },
      "execution_count": null,
      "outputs": []
    },
    {
      "cell_type": "code",
      "source": [
        "mixed_model2 <- lmer(humidity ~ depth+width + (1 | plank))\n",
        "summary(mixed_model2)\n",
        "\n",
        "plot(mixed_model2)\n",
        "\n",
        "# Extract residuals from the mixed model\n",
        "residuals_mixed <- residuals(mixed_model2)\n",
        "\n",
        "# Create Q-Q Residuals plot\n",
        "qqnorm(residuals_mixed)\n",
        "qqline(residuals_mixed, col = 2)"
      ],
      "metadata": {
        "id": "T1LOMRyYwiNy"
      },
      "execution_count": null,
      "outputs": []
    },
    {
      "cell_type": "code",
      "source": [
        "anova(mixed_model2,fixed_model2)"
      ],
      "metadata": {
        "id": "ZIfRp1LZ8hwS"
      },
      "execution_count": null,
      "outputs": []
    },
    {
      "cell_type": "code",
      "source": [
        "mixed_model <- lme(humidity ~ width * depth, random = ~ 1 | plank)\n",
        "mixed_model2 <- lme(humidity ~ depth + width, random = ~ 1 | plank)\n",
        "\n",
        "# Compare the models using anova from lmerTest\n",
        "anova(mixed_model, mixed_model2)"
      ],
      "metadata": {
        "id": "zx0i41ecMkU5"
      },
      "execution_count": null,
      "outputs": []
    },
    {
      "cell_type": "markdown",
      "source": [
        "This low p-value suggests that there is a significant difference between these two models. According to AIC and BIC the mixed-effects model is considered significantly better than the linear model in explaining the variance in the data."
      ],
      "metadata": {
        "id": "0Gz5-Y6S_LWP"
      }
    },
    {
      "cell_type": "code",
      "source": [
        "fixed_effects <- fixef(mixed_model2)\n",
        "\n",
        "# Use lsmeans to compute pairwise comparisons with Tukey's HSD correction\n",
        "lsmeans_results <- lsmeans(mixed_model2, specs = ~ width + depth, adjust = \"tukey\")\n",
        "\n",
        "# Display the results\n",
        "print(lsmeans_results)\n",
        "\n",
        "# Plot the results\n",
        "plot(lsmeans_results)"
      ],
      "metadata": {
        "id": "NE6_8d60mwJK"
      },
      "execution_count": null,
      "outputs": []
    },
    {
      "cell_type": "code",
      "source": [
        "install.packages(\"emmeans\")\n",
        "library(lme4)\n",
        "library(emmeans)\n",
        "\n",
        "# Assuming you have a model called mixed_model2\n",
        "mixed_model2 <- lmer(humidity ~ depth + width + (1 | plank))\n",
        "\n",
        "# Calculate the estimated marginal means\n",
        "emm <- emmeans(mixed_model2, ~ depth + width)\n",
        "\n",
        "# Pairwise comparisons with Tukey's HSD correction\n",
        "pairs <- pairs(emm, adjust = \"tukey\")\n",
        "\n",
        "# View the results\n",
        "summary(pairs)"
      ],
      "metadata": {
        "id": "YBZei8kbNn76"
      },
      "execution_count": null,
      "outputs": []
    },
    {
      "cell_type": "code",
      "source": [
        "# Calculate the estimated marginal means\n",
        "emm_depth <- emmeans(mixed_model2, ~ depth)\n",
        "plot(emm_depth)"
      ],
      "metadata": {
        "id": "nkEp0TvlN_-5"
      },
      "execution_count": null,
      "outputs": []
    },
    {
      "cell_type": "code",
      "source": [
        "# Calculate the estimated marginal means\n",
        "emm_width <- emmeans(mixed_model2, ~ width)\n",
        "plot(emm_width)"
      ],
      "metadata": {
        "id": "8zqE9Ep3OPRF"
      },
      "execution_count": null,
      "outputs": []
    },
    {
      "cell_type": "markdown",
      "source": [
        "# Summary\n",
        "\n",
        "In this analysis, a dataset of plank measurements, including width, depth, and humidity, was explored using both fixed-effects and mixed-effects models. According to data visualization the variable depth seems to be significant. After carrying out the fixed-effects analysis, it was determined that the best model for explaining humidity includes both width and depth as independent variables. The interactions are not statistically significant. Performing a mixed-effects analysis with plank as a random effect improved the results. The mixed effect model significantly better fits the data and is better in explaining the variance in the data. The random effect *plank* has the Normal distribution $N(0;0.9797)$."
      ],
      "metadata": {
        "id": "tSuLVe8T_2bU"
      }
    }
  ]
}