{
  "nbformat": 4,
  "nbformat_minor": 0,
  "metadata": {
    "colab": {
      "private_outputs": true,
      "provenance": [],
      "collapsed_sections": [],
      "authorship_tag": "ABX9TyP+jyJS7Q+2E2IGaQyDKq6I",
      "include_colab_link": true
    },
    "kernelspec": {
      "name": "ir",
      "display_name": "R"
    },
    "language_info": {
      "name": "R"
    }
  },
  "cells": [
    {
      "cell_type": "markdown",
      "metadata": {
        "id": "view-in-github",
        "colab_type": "text"
      },
      "source": [
        "<a href=\"https://colab.research.google.com/github/francji1/01NAEX/blob/main/R/01NAEX_Exercise_05.ipynb\" target=\"_parent\"><img src=\"https://colab.research.google.com/assets/colab-badge.svg\" alt=\"Open In Colab\"/></a>"
      ]
    },
    {
      "cell_type": "markdown",
      "source": [
        "\t\n",
        "# O1NAEX Exercise 05"
      ],
      "metadata": {
        "id": "SJRUeUJPrezp"
      }
    },
    {
      "cell_type": "code",
      "source": [
        "cat(system('sudo apt-get install -y gmp', intern=TRUE), sep = \"\\n\")\n",
        "cat(system('sudo apt-get install -y partitions', intern=TRUE), sep = \"\\n\")\n",
        "cat(system('sudo apt-get install -y DoE.base', intern=TRUE), sep = \"\\n\")\n",
        "\n",
        "list_of_packages <- c(\"tidyverse\",\"MASS\",\"FrF2\") # \"agricolae\",\"nortest\",\"lattice\",\"pwr\",\n",
        "missing_packages <- list_of_packages[!(list_of_packages %in% installed.packages()[,\"Package\"])]\n",
        "missing_packages\n",
        "if(length(missing_packages)) install.packages(missing_packages)\n",
        "lapply(list_of_packages, library, character.only = TRUE)\n"
      ],
      "metadata": {
        "id": "crbwkzr9I90A"
      },
      "execution_count": null,
      "outputs": []
    },
    {
      "cell_type": "code",
      "source": [
        "tibble::tibble(\n",
        "  Package = names(installed.packages()[,3]),\n",
        "  Version = unname(installed.packages()[,3])\n",
        ")"
      ],
      "metadata": {
        "id": "mFJEGP4iPatd"
      },
      "execution_count": null,
      "outputs": []
    },
    {
      "cell_type": "markdown",
      "source": [
        "##\tProblem 6.1\n",
        "from the chapter 6, D. C. Montgomery DAoE - 8. edition.\n",
        "\t\n",
        "An engineer is interested in the effects of cutting\n",
        "speed (A), tool geometry (B), and cutting angle (C) on the life\n",
        "(in hours) of a machine tool. Two levels of each factor are\n",
        "chosen, and three replicates of a 23 factorial design are run.\n",
        "The results are as follows:"
      ],
      "metadata": {
        "id": "_lYQT0wrrb3V"
      }
    },
    {
      "cell_type": "code",
      "source": [
        "df61 <- read.table(\"https://raw.githubusercontent.com/francji1/01NAEX/main/data/Problem_6_1.txt\",header=TRUE,sep=\";\")\n",
        "head(df61)"
      ],
      "metadata": {
        "id": "DfQaZt8HzOXa"
      },
      "execution_count": null,
      "outputs": []
    },
    {
      "cell_type": "markdown",
      "source": [
        "\n",
        "1. Estimate the factor effects. Which effects appear to be\n",
        "large?\n",
        "2. Use the analysis of variance to confirm your conclusions\n",
        "for part (a).\n",
        "3. Write down a regression model for predicting tool life\n",
        "(in hours) based on the results of this experiment.\n",
        "4. Analyze the residuals. Are there any obvious problems?\n",
        "5. On the basis of an analysis of main effect and interaction\n",
        "plots, what coded factor levels of A, B, and C\n",
        "would you recommend using?\n",
        "6. Reconsider task 3. Use the regression\n",
        "model to generate response surface and contour plots of the\n",
        "tool life response. Interpret these plots. Do they provide insight\n",
        "regarding the desirable operating conditions for this process?\n",
        "7. Find the standard error of the factor effects and\n",
        "approximate 95 percent confidence limits for the factor effects. Do the results of this analysis agree with the conclusions from the analysis of variance?\n",
        "\n"
      ],
      "metadata": {
        "id": "dbEJmeh3zNWJ"
      }
    },
    {
      "cell_type": "code",
      "source": [],
      "metadata": {
        "id": "fxD9HMoPrbHg"
      },
      "execution_count": null,
      "outputs": []
    },
    {
      "cell_type": "code",
      "source": [],
      "metadata": {
        "id": "pE5TJpklrbPN"
      },
      "execution_count": null,
      "outputs": []
    },
    {
      "cell_type": "code",
      "source": [],
      "metadata": {
        "id": "2F26bckauxvB"
      },
      "execution_count": null,
      "outputs": []
    }
  ]
}