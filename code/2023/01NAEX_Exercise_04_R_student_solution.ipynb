{
  "nbformat": 4,
  "nbformat_minor": 0,
  "metadata": {
    "colab": {
      "private_outputs": true,
      "provenance": [],
      "include_colab_link": true
    },
    "kernelspec": {
      "name": "ir",
      "display_name": "R"
    },
    "language_info": {
      "name": "R"
    }
  },
  "cells": [
    {
      "cell_type": "markdown",
      "metadata": {
        "id": "view-in-github",
        "colab_type": "text"
      },
      "source": [
        "<a href=\"https://colab.research.google.com/github/francji1/01NAEX/blob/main/code/01NAEX_Exercise_04_R_student_solution.ipynb\" target=\"_parent\"><img src=\"https://colab.research.google.com/assets/colab-badge.svg\" alt=\"Open In Colab\"/></a>"
      ]
    },
    {
      "cell_type": "markdown",
      "source": [
        "\n",
        "# O1NAEX Exercise 04"
      ],
      "metadata": {
        "id": "SJRUeUJPrezp"
      }
    },
    {
      "cell_type": "code",
      "source": [
        "list_of_packages <- c(\"tidyverse\", \"nortest\",\"lattice\",\"pwr\",\"MASS\",\"multcomp\") # \"agricolae\"\n",
        "missing_packages <- list_of_packages[!(list_of_packages %in% installed.packages()[,\"Package\"])]\n",
        "missing_packages\n",
        "if(length(missing_packages)) install.packages(missing_packages)\n",
        "lapply(list_of_packages, library, character.only = TRUE)\n"
      ],
      "metadata": {
        "id": "j1giTE6AtYlf"
      },
      "execution_count": null,
      "outputs": []
    },
    {
      "cell_type": "markdown",
      "source": [
        "\n",
        "##\tProblem 4.23\n",
        "from the chapter 4, D. C. Montgomery DAoE - 8. edition.\n",
        "\n",
        "An industrial engineer is investigating the effect of\n",
        "four assembly methods (A, B, C, D) on the assembly time for\n",
        "a color television component. Four operators are selected for\n",
        "the study. Furthermore, the engineer knows that each assembly\n",
        "method produces such fatigue that the time required for\n",
        "the last assembly may be greater than the time required for the\n",
        "first, regardless of the method. That is, a trend develops in the\n",
        "required assembly time. To account for this source of variability,\n",
        "the engineer uses the Latin square design shown below.\n",
        "Analyze the data from this experiment (use\t$\\alpha = 0.05$) and draw\n",
        "appropriate conclusions.\n",
        "\n"
      ],
      "metadata": {
        "id": "_lYQT0wrrb3V"
      }
    },
    {
      "cell_type": "code",
      "source": [
        "df23 <- read.table(\"https://raw.githubusercontent.com/francji1/01NAEX/main/data/Problem_4_23.txt\",header=TRUE,sep=\";\")\n",
        "df23"
      ],
      "metadata": {
        "id": "0Zu8d8hUsK6m"
      },
      "execution_count": null,
      "outputs": []
    },
    {
      "cell_type": "code",
      "source": [
        "str(df23)\n",
        "df23$Method = factor(df23$Method)\n",
        "df23$Order = factor(df23$Order)\n",
        "df23$Operator = factor(df23$Operator)\n",
        "str(df23)"
      ],
      "metadata": {
        "id": "L3Jzm9vjs-oB"
      },
      "execution_count": null,
      "outputs": []
    },
    {
      "cell_type": "code",
      "source": [
        "mod1 = anova(lm(Time ~ Method + Operator + Order, df23))\n",
        "print(mod1)"
      ],
      "metadata": {
        "id": "IQ0llsG4ts5K"
      },
      "execution_count": null,
      "outputs": []
    },
    {
      "cell_type": "markdown",
      "source": [
        "The assembly methods have significant influence on assembly time. So do the operators. The effect of order of the assembled component is deemed insignificant on the ceonfidence level of 0.05, however we suggest not neglecting it in further considerations. As seen on the plots below, the preferred method seems to be method A and we recommend considering firing operator 2."
      ],
      "metadata": {
        "id": "D51J59F8yIKQ"
      }
    },
    {
      "cell_type": "code",
      "source": [
        "par(mfrow=c(2,2))\n",
        "plot(Time ~ Method + Operator + Order, df23)"
      ],
      "metadata": {
        "id": "jZCH-EW4xAdZ"
      },
      "execution_count": null,
      "outputs": []
    },
    {
      "cell_type": "code",
      "source": [
        "plot.design(Time~Operator+Method+Order, data=df23)"
      ],
      "metadata": {
        "id": "3ffSJ9s4ahNr"
      },
      "execution_count": null,
      "outputs": []
    },
    {
      "cell_type": "code",
      "source": [
        "par(mfrow=c(2,2))\n",
        "plot(lm(Time ~ Method + Operator + Order, df23))"
      ],
      "metadata": {
        "id": "HO5fAgvKzgU4"
      },
      "execution_count": null,
      "outputs": []
    },
    {
      "cell_type": "markdown",
      "source": [
        "Analysis of residuals does not indicate any serious problems."
      ],
      "metadata": {
        "id": "SHBshyo-1efV"
      }
    },
    {
      "cell_type": "code",
      "source": [
        "shapiro.test(lm(Time ~ Method + Operator + Order, df23)$residuals)"
      ],
      "metadata": {
        "id": "jIc2zENXwrD-"
      },
      "execution_count": null,
      "outputs": []
    },
    {
      "cell_type": "markdown",
      "source": [
        "## Problem  4.40\n",
        "from the chapter 4, D. C. Montgomery DAoE - 8. edition.\n"
      ],
      "metadata": {
        "id": "92wRmYRlsJ54"
      }
    },
    {
      "cell_type": "markdown",
      "source": [
        "\n",
        "An engineer is studying the mileage performance\n",
        "characteristics of five types of gasoline additives. In the road\n",
        "test he wishes to use cars as blocks; however, because of a time constraint, he must use an incomplete block design. He\n",
        "runs the balanced design with the five blocks that follow.\n",
        "Analyze the data from this experiment (use $\\alpha\t = 0.05$) and\n",
        "draw conclusions.\n"
      ],
      "metadata": {
        "id": "Tai_J8-1rv_U"
      }
    },
    {
      "cell_type": "code",
      "source": [
        "df40 <- read.table(\"https://raw.githubusercontent.com/francji1/01NAEX/main/data/Problem_4_40.txt\",header=TRUE,sep=\";\")\n",
        "df40\n",
        "df40$Additive = factor(df40$Additive)\n",
        "df40$Car = factor(df40$Car)"
      ],
      "metadata": {
        "id": "Xs8uoEu3t-ex"
      },
      "execution_count": null,
      "outputs": []
    },
    {
      "cell_type": "markdown",
      "source": [
        "$\\lambda = \\frac{r(k-1)}{a-1}= \\frac{4(4-1)}{5-1}=3$ - Number of times each pair of treatments appear in the same block."
      ],
      "metadata": {
        "id": "-5MvDQFg3qdn"
      }
    },
    {
      "cell_type": "code",
      "source": [
        "print(anova(lm(Mileage ~ Additive + Car, df40)))"
      ],
      "metadata": {
        "id": "mq_1OGtp4rLn"
      },
      "execution_count": null,
      "outputs": []
    },
    {
      "cell_type": "code",
      "source": [
        " summary(aov(Mileage ~ Additive + Car + Error(Car), df40))"
      ],
      "metadata": {
        "id": "8qlFVitM6ln0"
      },
      "execution_count": null,
      "outputs": []
    },
    {
      "cell_type": "markdown",
      "source": [
        "Both models show significant effect of gas additive on mileage performance. The effect of the car used is also significant, so blocking them is important. The first two additives show the best results."
      ],
      "metadata": {
        "id": "oQTAqHVXzLFV"
      }
    },
    {
      "cell_type": "code",
      "source": [
        "par(mfrow=c(1,2))\n",
        "plot(Mileage ~ Additive + Car, df40)"
      ],
      "metadata": {
        "id": "AgEb4Cj2410l"
      },
      "execution_count": null,
      "outputs": []
    },
    {
      "cell_type": "code",
      "source": [
        "par(mfrow=c(2,2))\n",
        "plot(lm(Mileage ~ Additive + Car, df40))"
      ],
      "metadata": {
        "id": "TE_jQHjG7Ukl"
      },
      "execution_count": null,
      "outputs": []
    },
    {
      "cell_type": "code",
      "source": [
        "shapiro.test(lm(Mileage ~ Additive + Car, df40)$residuals)"
      ],
      "metadata": {
        "id": "HnMf9V_x1qdJ"
      },
      "execution_count": null,
      "outputs": []
    },
    {
      "cell_type": "code",
      "source": [],
      "metadata": {
        "id": "wNG4Q_YVa8kd"
      },
      "execution_count": null,
      "outputs": []
    },
    {
      "cell_type": "markdown",
      "source": [
        "The residuals do not deviate enough from normality to discard the results of the model."
      ],
      "metadata": {
        "id": "ts3g1mQL1zKy"
      }
    },
    {
      "cell_type": "code",
      "source": [
        "df40_aov <-(aov(Mileage~Car+Additive,df40))\n",
        "contr <- glht(df40_aov, linfct = mcp(Additive = \"Tukey\"))\n",
        "summary(contr, test = adjusted(\"none\"))\n",
        "\n",
        "summary(contr, test = adjusted(\"bonferroni\"))"
      ],
      "metadata": {
        "id": "T-QUloXLa9vw"
      },
      "execution_count": null,
      "outputs": []
    },
    {
      "cell_type": "markdown",
      "source": [
        "# Problem  4.42\n",
        "from the chapter 4, D. C. Montgomery DAoE - 8. edition.\\\\[3mm]\n"
      ],
      "metadata": {
        "id": "xqGV-sqAt8Em"
      }
    },
    {
      "cell_type": "markdown",
      "source": [
        "Seven different hardwood concentrations are being studied to determine their effect on the strength of the paper produced. However, the pilot plant can only produce three\truns each day. As days may differ, the analyst uses the balanced incomplete block design that follows. Analyze the data from this experiment (use $\\alpha = 0.05$) and draw conclusions.\n",
        "\n",
        "Try to run, in addition to ANOVA with BIBD, the linear model with concentration as a quantitative response too (on condition there is no day effect).\n",
        "\n"
      ],
      "metadata": {
        "id": "--4FOfk3uRiA"
      }
    },
    {
      "cell_type": "code",
      "source": [
        "df42 <- read.table(\"https://raw.githubusercontent.com/francji1/01NAEX/main/data/Problem_4_42.txt\",header=TRUE,sep=\";\")\n",
        "df42$ConcentrationF = factor(df42$Concentration)\n",
        "df42$Days = factor(df42$Days)\n",
        "df42"
      ],
      "metadata": {
        "id": "qT0tPAX1rbE_"
      },
      "execution_count": null,
      "outputs": []
    },
    {
      "cell_type": "code",
      "source": [
        "print(anova(lm(Strength ~ ConcentrationF + Days, df42)))"
      ],
      "metadata": {
        "id": "uq85FOut4f5Q"
      },
      "execution_count": null,
      "outputs": []
    },
    {
      "cell_type": "code",
      "source": [
        " summary(aov(Strength ~ ConcentrationF + Days + Error(Days), df42))"
      ],
      "metadata": {
        "id": "ABMX3cap4x-L"
      },
      "execution_count": null,
      "outputs": []
    },
    {
      "cell_type": "markdown",
      "source": [
        "The different levels of concentration have a significant effect on the strength of paper manufactured. The best concentration seems to be 10. The effect of different days is not deemed significant on confidence leve 0.05."
      ],
      "metadata": {
        "id": "-BADFocq9Bg5"
      }
    },
    {
      "cell_type": "code",
      "source": [
        "par(mfrow=c(1,2))\n",
        "plot(Strength ~ ConcentrationF + Days, df42)"
      ],
      "metadata": {
        "id": "SXdnSGm66D6U"
      },
      "execution_count": null,
      "outputs": []
    },
    {
      "cell_type": "code",
      "source": [
        "par(mfrow=c(2,2))\n",
        "plot(lm(Strength ~ ConcentrationF + Days, df42))"
      ],
      "metadata": {
        "id": "_UNVLC0WABMs"
      },
      "execution_count": null,
      "outputs": []
    },
    {
      "cell_type": "code",
      "source": [
        "shapiro.test(lm(Strength ~ ConcentrationF + Days, df42)$residuals)"
      ],
      "metadata": {
        "id": "06qmIs0tAQlT"
      },
      "execution_count": null,
      "outputs": []
    },
    {
      "cell_type": "markdown",
      "source": [
        "No issues with the residuals."
      ],
      "metadata": {
        "id": "urvB4uIYAaCQ"
      }
    },
    {
      "cell_type": "code",
      "source": [
        "mod3 = lm(Concentration ~ Strength, df42)\n",
        "summary(mod3)"
      ],
      "metadata": {
        "id": "fxD9HMoPrbHg"
      },
      "execution_count": null,
      "outputs": []
    },
    {
      "cell_type": "code",
      "source": [
        "ggplot(df42, aes(x = Concentration, y = Strength)) +\n",
        "  geom_point() +\n",
        "  labs(x = \"Concentration\", y = \"Strength\", title = \"df42\") +\n",
        "  geom_smooth(method = \"lm\", se = FALSE)"
      ],
      "metadata": {
        "id": "dzUJDcpl7P_k"
      },
      "execution_count": null,
      "outputs": []
    },
    {
      "cell_type": "markdown",
      "source": [
        "The regression model does not fit the data well as they do not seem to follow linear trend."
      ],
      "metadata": {
        "id": "tEKKmNhLAqdK"
      }
    },
    {
      "cell_type": "code",
      "source": [
        "df42_aov <-(aov(Strength~Concentration+Days,df42))\n",
        "contr <- glht(df42_aov, linfct = mcp(Days = \"Tukey\"))\n",
        "summary(contr, test = adjusted(\"none\"))\n",
        "\n",
        "summary(contr, test = adjusted(\"bonferroni\"))"
      ],
      "metadata": {
        "id": "2F26bckauxvB"
      },
      "execution_count": null,
      "outputs": []
    },
    {
      "cell_type": "code",
      "source": [],
      "metadata": {
        "id": "UKcshOdGbdBu"
      },
      "execution_count": null,
      "outputs": []
    }
  ]
}