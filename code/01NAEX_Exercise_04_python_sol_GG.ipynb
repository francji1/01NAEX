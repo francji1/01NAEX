{
  "cells": [
    {
      "cell_type": "markdown",
      "metadata": {
        "id": "view-in-github",
        "colab_type": "text"
      },
      "source": [
        "<a href=\"https://colab.research.google.com/github/francji1/01NAEX/blob/main/code/01NAEX_Exercise_04_python_sol_GG.ipynb\" target=\"_parent\"><img src=\"https://colab.research.google.com/assets/colab-badge.svg\" alt=\"Open In Colab\"/></a>"
      ]
    },
    {
      "cell_type": "markdown",
      "metadata": {
        "id": "SJRUeUJPrezp"
      },
      "source": [
        "\n",
        "# O1NAEX Exercise 04"
      ]
    },
    {
      "cell_type": "markdown",
      "metadata": {
        "id": "nEGyKc3C8teG"
      },
      "source": [
        "## Setup"
      ]
    },
    {
      "cell_type": "code",
      "execution_count": null,
      "metadata": {
        "id": "26cEQ8Nt8teK",
        "ExecuteTime": {
          "end_time": "2024-10-22T08:43:39.569964Z",
          "start_time": "2024-10-22T08:43:36.277481Z"
        }
      },
      "outputs": [],
      "source": [
        "!pip install rpy2"
      ]
    },
    {
      "cell_type": "code",
      "execution_count": null,
      "metadata": {
        "id": "vCDVk5ts8teL",
        "ExecuteTime": {
          "end_time": "2024-10-22T08:43:40.996756Z",
          "start_time": "2024-10-22T08:43:39.575589Z"
        }
      },
      "outputs": [],
      "source": [
        "%load_ext rpy2.ipython"
      ]
    },
    {
      "cell_type": "code",
      "execution_count": null,
      "metadata": {
        "id": "AzDtqykGeacb",
        "ExecuteTime": {
          "end_time": "2024-10-22T08:43:41.773968Z",
          "start_time": "2024-10-22T08:43:40.999444Z"
        }
      },
      "outputs": [],
      "source": [
        "import numpy as np\n",
        "import pandas as pd\n",
        "import matplotlib.pyplot as plt\n",
        "from scipy.stats import norm, t\n",
        "import statsmodels.api as sm\n",
        "import statsmodels.formula.api as smf\n",
        "import seaborn as sns\n",
        "import scipy.stats as stats\n"
      ]
    },
    {
      "cell_type": "code",
      "execution_count": null,
      "metadata": {
        "id": "a7zFYA4nIC38",
        "ExecuteTime": {
          "end_time": "2024-10-22T08:43:43.118913Z",
          "start_time": "2024-10-22T08:43:41.776121Z"
        }
      },
      "outputs": [],
      "source": [
        "# Recap of the Lecture in Python\n",
        "\n",
        "# Read the data from the URL\n",
        "rocket_path = \"https://raw.githubusercontent.com/francji1/01NAEX/refs/heads/main/data/rocket2.txt\"\n",
        "rocket = pd.read_csv(rocket_path, sep=\";\")\n",
        "\n",
        "\n",
        "# Renaming columns for consistency\n",
        "rocket.rename(columns={'op': 'operator', 'y': 'Propellant'}, inplace=True)\n",
        "\n",
        "# Converting columns to factors (categorical variables)\n",
        "rocket['operator'] = rocket['operator'].astype('category')\n",
        "rocket['batch'] = rocket['batch'].astype('category')\n",
        "\n",
        "# Latin Square Design Plotting\n",
        "sns.boxplot(x='operator', y='Propellant', data=rocket)\n",
        "plt.show()\n",
        "\n",
        "sns.boxplot(x='batch', y='Propellant', data=rocket)\n",
        "plt.show()\n",
        "\n",
        "sns.boxplot(x='treat', y='Propellant', data=rocket)\n",
        "plt.show()\n",
        "\n",
        "# Latin Square Design - Linear Model\n",
        "rocket_lm = smf.ols('Propellant ~ operator + batch + treat', data=rocket).fit()\n",
        "print(sm.stats.anova_lm(rocket_lm))\n",
        "\n",
        "\n",
        "# Without considering batch as a factor\n",
        "rocket_lm2 = smf.ols('Propellant ~ operator + treat', data=rocket).fit()\n",
        "print(sm.stats.anova_lm(rocket_lm2))"
      ]
    },
    {
      "cell_type": "markdown",
      "metadata": {
        "id": "_lYQT0wrrb3V"
      },
      "source": [
        "\n",
        "##\tProblem 4.23\n",
        "from the chapter 4, D. C. Montgomery DAoE - 8. edition.\n",
        "\n",
        "An industrial engineer is investigating the effect of\n",
        "four assembly methods (A, B, C, D) on the assembly time for\n",
        "a color television component. Four operators are selected for\n",
        "the study. Furthermore, the engineer knows that each assembly\n",
        "method produces such fatigue that the time required for\n",
        "the last assembly may be greater than the time required for the\n",
        "first, regardless of the method. That is, a trend develops in the\n",
        "required assembly time. To account for this source of variability,\n",
        "the engineer uses the Latin square design shown below.\n",
        "Analyze the data from this experiment (use\t$\\alpha = 0.05$) and draw\n",
        "appropriate conclusions.\n",
        "\n"
      ]
    },
    {
      "cell_type": "code",
      "execution_count": null,
      "metadata": {
        "id": "NEM0lHPvWZ0w",
        "ExecuteTime": {
          "end_time": "2024-10-22T09:18:39.449743Z",
          "start_time": "2024-10-22T09:18:39.159161Z"
        }
      },
      "outputs": [],
      "source": [
        "# Read the data from the URL\n",
        "url_4_23 = \"https://raw.githubusercontent.com/francji1/01NAEX/main/data/Problem_4_23.txt\"\n",
        "df_4_23 = pd.read_csv(url_4_23, sep=\";\")\n",
        "\n",
        "# Display the first few rows of the dataframe\n",
        "df_4_23.head(10)"
      ]
    },
    {
      "cell_type": "markdown",
      "source": [
        "Inspect the unique values of the columns to check which are categorical."
      ],
      "metadata": {
        "collapsed": false,
        "id": "buJsWiTArwsj"
      }
    },
    {
      "cell_type": "code",
      "outputs": [],
      "source": [
        "for col in df_4_23.columns:\n",
        "    print(f\"{col}: {df_4_23[col].unique()}\")"
      ],
      "metadata": {
        "ExecuteTime": {
          "end_time": "2024-10-22T09:18:40.688892Z",
          "start_time": "2024-10-22T09:18:40.682339Z"
        },
        "id": "iWLqGMybrwsk"
      },
      "execution_count": null
    },
    {
      "cell_type": "markdown",
      "metadata": {
        "id": "IS2MFFj4rwsk"
      },
      "source": [
        "_Time_ is, obviously, a quantitative variable. Cast the _Operator_ and _Method_ variables to categorical."
      ]
    },
    {
      "cell_type": "code",
      "execution_count": null,
      "metadata": {
        "ExecuteTime": {
          "end_time": "2024-10-22T09:18:43.287289Z",
          "start_time": "2024-10-22T09:18:43.279208Z"
        },
        "id": "z64WNDV9rwsk"
      },
      "outputs": [],
      "source": [
        "df_4_23['Method'] = df_4_23['Method'].astype('category')\n",
        "df_4_23['Operator'] = df_4_23['Operator'].astype('category')"
      ]
    },
    {
      "cell_type": "markdown",
      "source": [
        "Perform ANOVA with _Time_ as the response."
      ],
      "metadata": {
        "collapsed": false,
        "id": "TmOHqsijrwsk"
      }
    },
    {
      "cell_type": "code",
      "execution_count": null,
      "metadata": {
        "id": "Kw8XQ_3PbNWI",
        "ExecuteTime": {
          "end_time": "2024-10-22T09:18:47.721725Z",
          "start_time": "2024-10-22T09:18:47.678562Z"
        }
      },
      "outputs": [],
      "source": [
        "model_4_23 = smf.ols('Time ~ C(Method) + C(Operator) + Order', data=df_4_23).fit()\n",
        "anova_tab_4_23 = sm.stats.anova_lm(model_4_23, typ=2)\n",
        "anova_tab_4_23"
      ]
    },
    {
      "cell_type": "markdown",
      "source": [
        "From the ANOVA table, it's apparent that the assembly method (_Method_) and operator (_Operator_) have a significant effect on the assembly time (_Time_), while the order (_Order_) in which the assembly was performed does not.\n",
        "\n",
        "Let's check a more detailed model summary."
      ],
      "metadata": {
        "collapsed": false,
        "id": "LCE27euHrwsk"
      }
    },
    {
      "cell_type": "code",
      "execution_count": null,
      "metadata": {
        "ExecuteTime": {
          "end_time": "2024-10-22T09:18:56.859551Z",
          "start_time": "2024-10-22T09:18:56.800789Z"
        },
        "id": "Hw0dxcE9rwsl"
      },
      "outputs": [],
      "source": [
        "model_4_23.summary()"
      ]
    },
    {
      "cell_type": "markdown",
      "source": [
        "The levels that seem to have no significant effect on the assembly time are C and D.\n",
        "\n",
        "When it comes to the operators, the only one that seems to have any significant effect on the assembly time is the second one.\n",
        "\n",
        "\n",
        "\n",
        "Let's check the model assumptions."
      ],
      "metadata": {
        "collapsed": false,
        "id": "5-OnGEg4rwsl"
      }
    },
    {
      "cell_type": "markdown",
      "source": [
        "- Visual inspection of the residuals"
      ],
      "metadata": {
        "collapsed": false,
        "id": "VqFT4BUjrwsl"
      }
    },
    {
      "cell_type": "code",
      "execution_count": null,
      "metadata": {
        "id": "nJYQfMfodslv",
        "ExecuteTime": {
          "end_time": "2024-10-22T09:19:50.511926Z",
          "start_time": "2024-10-22T09:19:49.595273Z"
        }
      },
      "outputs": [],
      "source": [
        "resid_4_23 = model_4_23.resid\n",
        "\n",
        "fig, ax = plt.subplots(1, 3, figsize=(15, 7), dpi=100)\n",
        "sns.histplot(resid_4_23, kde=False, ax=ax[0])\n",
        "stats.probplot(resid_4_23, plot=ax[1])\n",
        "sns.residplot(x=model_4_23.fittedvalues, y=resid_4_23, lowess=True, ax=ax[2], line_kws={'color': 'red'})\n",
        "plt.show()"
      ]
    },
    {
      "cell_type": "markdown",
      "source": [
        "- Normality test"
      ],
      "metadata": {
        "collapsed": false,
        "id": "ZMhbHk2Drwsl"
      }
    },
    {
      "cell_type": "code",
      "execution_count": null,
      "metadata": {
        "ExecuteTime": {
          "end_time": "2024-10-22T09:19:55.699930Z",
          "start_time": "2024-10-22T09:19:55.686379Z"
        },
        "id": "KLRdBwSvrwsl"
      },
      "outputs": [],
      "source": [
        "# Shapiro-Wilk\n",
        "shap_results = stats.shapiro(resid_4_23)\n",
        "print(shap_results)\n"
      ]
    },
    {
      "cell_type": "markdown",
      "metadata": {
        "id": "4-it-0Errwsl"
      },
      "source": [
        "We're failing to reject the null hypothesis that the residuals are normally distributed."
      ]
    },
    {
      "cell_type": "markdown",
      "source": [
        "- Homoscedasticity test"
      ],
      "metadata": {
        "collapsed": false,
        "id": "8HTmABnRrwsl"
      }
    },
    {
      "cell_type": "code",
      "execution_count": null,
      "metadata": {
        "ExecuteTime": {
          "end_time": "2024-10-22T09:19:59.418140Z",
          "start_time": "2024-10-22T09:19:59.409842Z"
        },
        "id": "OqISZbP0rwsm"
      },
      "outputs": [],
      "source": [
        "import statsmodels.stats.api as sms\n",
        "\n",
        "bp = sms.het_breuschpagan(model_4_23.resid, model_4_23.model.exog)\n",
        "for statval, pval in zip(bp[0:2], bp[2:]):\n",
        "    print(statval, pval)"
      ]
    },
    {
      "cell_type": "markdown",
      "metadata": {
        "id": "czVXxlI4rwsm"
      },
      "source": [
        "Again, we're failing to reject the null hypothesis. The residuals are most likely homoscedastic."
      ]
    },
    {
      "cell_type": "markdown",
      "source": [
        "Since different _Method_ and _Operator_ variable levels seem to influence the response to a varying extent, we should run a post-hoc test to determine which level pairs are significantly different from the other."
      ],
      "metadata": {
        "collapsed": false,
        "id": "VvFZyVjArwsm"
      }
    },
    {
      "cell_type": "code",
      "execution_count": null,
      "metadata": {
        "ExecuteTime": {
          "end_time": "2024-10-22T09:20:07.511739Z",
          "start_time": "2024-10-22T09:20:06.651981Z"
        },
        "id": "NKhVpBl6rwsm"
      },
      "outputs": [],
      "source": [
        "from statsmodels.stats.multicomp import pairwise_tukeyhsd\n",
        "\n",
        "# Tukey HSD\n",
        "tukey_res_4_23 = pairwise_tukeyhsd(df_4_23['Time'], df_4_23['Method'], alpha=0.05)\n",
        "\n",
        "# Display results\n",
        "print(tukey_res_4_23)\n",
        "\n",
        "# Plotting Tukey HSD results\n",
        "tukey_res_4_23.plot_simultaneous()\n",
        "plt.show()"
      ]
    },
    {
      "cell_type": "markdown",
      "source": [
        "The Tukey HSD test shows that the only significant difference in assembly time is between methods A and C.\n",
        "\n",
        "Running the same test for the _Operator_ variable."
      ],
      "metadata": {
        "collapsed": false,
        "id": "nkyv-Qyorwsm"
      }
    },
    {
      "cell_type": "code",
      "outputs": [],
      "source": [
        "tukey_res_4_23_oper = pairwise_tukeyhsd(df_4_23['Time'], df_4_23['Operator'], alpha=0.05)\n",
        "\n",
        "print(tukey_res_4_23_oper)\n",
        "\n",
        "tukey_res_4_23_oper.plot_simultaneous()\n",
        "plt.show()"
      ],
      "metadata": {
        "ExecuteTime": {
          "end_time": "2024-10-22T09:20:40.494189Z",
          "start_time": "2024-10-22T09:20:39.378722Z"
        },
        "id": "qohbTdX6rwsm"
      },
      "execution_count": null
    },
    {
      "cell_type": "markdown",
      "source": [
        "No significant differences whatsoever..."
      ],
      "metadata": {
        "collapsed": false,
        "id": "9coy23X_rwsm"
      }
    },
    {
      "cell_type": "markdown",
      "metadata": {
        "id": "92wRmYRlsJ54"
      },
      "source": [
        "## Problem  4.40\n",
        "from the chapter 4, D. C. Montgomery DAoE - 8. edition.\n"
      ]
    },
    {
      "cell_type": "markdown",
      "metadata": {
        "id": "Tai_J8-1rv_U"
      },
      "source": [
        "\n",
        "An engineer is studying the mileage performance\n",
        "characteristics of five types of gasoline additives. In the road\n",
        "test he wishes to use cars as blocks; however, because of a time constraint, he must use an incomplete block design. He\n",
        "runs the balanced design with the five blocks that follow.\n",
        "Analyze the data from this experiment (use $\\alpha\t = 0.05$) and\n",
        "draw conclusions.\n"
      ]
    },
    {
      "cell_type": "code",
      "execution_count": null,
      "metadata": {
        "id": "4QhAwjRvWwCN",
        "ExecuteTime": {
          "end_time": "2024-10-22T09:20:45.254019Z",
          "start_time": "2024-10-22T09:20:45.013190Z"
        }
      },
      "outputs": [],
      "source": [
        "# Read the data from the URL\n",
        "url_4_40 = \"https://raw.githubusercontent.com/francji1/01NAEX/main/data/Problem_4_40.txt\"\n",
        "df_4_40 = pd.read_csv(url_4_40, sep=\";\")\n",
        "\n",
        "# Display the first few rows of the dataframe\n",
        "df_4_40.head()"
      ]
    },
    {
      "cell_type": "markdown",
      "source": [
        "Inspect the unique values of the columns to check which are categorical."
      ],
      "metadata": {
        "collapsed": false,
        "id": "kRarpvMsrwsn"
      }
    },
    {
      "cell_type": "code",
      "outputs": [],
      "source": [
        "for col in df_4_40.columns:\n",
        "    print(f\"{col}: {df_4_40[col].unique()}\")\n",
        ""
      ],
      "metadata": {
        "ExecuteTime": {
          "end_time": "2024-10-22T09:20:52.569775Z",
          "start_time": "2024-10-22T09:20:52.563974Z"
        },
        "id": "GQl4kxuDrwsn"
      },
      "execution_count": null
    },
    {
      "cell_type": "markdown",
      "source": [
        "- Casting _Additive_ to categorical."
      ],
      "metadata": {
        "collapsed": false,
        "id": "ytLabFYyrwsn"
      }
    },
    {
      "cell_type": "code",
      "execution_count": null,
      "metadata": {
        "ExecuteTime": {
          "end_time": "2024-10-22T09:20:58.449809Z",
          "start_time": "2024-10-22T09:20:58.443474Z"
        },
        "id": "e4PmGrInrwsn"
      },
      "outputs": [],
      "source": [
        "df_4_40['Additive'] = df_4_40['Additive'].astype('category')"
      ]
    },
    {
      "cell_type": "markdown",
      "source": [
        "Perform ANOVA with _Mileage_ as the response."
      ],
      "metadata": {
        "collapsed": false,
        "id": "MWyse0Qsrwsn"
      }
    },
    {
      "cell_type": "code",
      "execution_count": null,
      "metadata": {
        "ExecuteTime": {
          "end_time": "2024-10-22T09:21:01.699025Z",
          "start_time": "2024-10-22T09:21:01.674880Z"
        },
        "id": "Muz60jr3rwsn"
      },
      "outputs": [],
      "source": [
        "model_4_40 = smf.ols('Mileage ~ C(Additive) + Car', data=df_4_40).fit()\n",
        "anova_tab_4_40 = sm.stats.anova_lm(model_4_40, typ=2)\n",
        "anova_tab_4_40"
      ]
    },
    {
      "cell_type": "markdown",
      "source": [
        "From the ANOVA table, we see that both independent variables have a significant effect on the _Mileage_."
      ],
      "metadata": {
        "collapsed": false,
        "id": "HAdgIJc4rwso"
      }
    },
    {
      "cell_type": "code",
      "execution_count": null,
      "metadata": {
        "ExecuteTime": {
          "end_time": "2024-10-22T09:21:05.527191Z",
          "start_time": "2024-10-22T09:21:05.484477Z"
        },
        "id": "zA9piPq1rwso"
      },
      "outputs": [],
      "source": [
        "model_4_40.summary()"
      ]
    },
    {
      "cell_type": "markdown",
      "source": [
        "Model assumptions."
      ],
      "metadata": {
        "collapsed": false,
        "id": "4cr0_TGZrwso"
      }
    },
    {
      "cell_type": "markdown",
      "source": [
        "- Visual inspection of the residuals"
      ],
      "metadata": {
        "collapsed": false,
        "id": "Tl-bcTHMrwso"
      }
    },
    {
      "cell_type": "code",
      "execution_count": null,
      "metadata": {
        "ExecuteTime": {
          "end_time": "2024-10-22T09:21:09.456099Z",
          "start_time": "2024-10-22T09:21:08.549348Z"
        },
        "id": "tUWgrRbJrwsp"
      },
      "outputs": [],
      "source": [
        "resid_4_40 = model_4_40.resid\n",
        "fig, ax = plt.subplots(1, 3, figsize=(15, 7), dpi=100)\n",
        "sns.histplot(resid_4_40, kde=False, ax=ax[0])\n",
        "stats.probplot(resid_4_40, plot=ax[1])\n",
        "sns.residplot(x=model_4_40.fittedvalues, y=resid_4_40, lowess=True, ax=ax[2], line_kws={'color': 'red'})\n",
        "plt.show()"
      ]
    },
    {
      "cell_type": "markdown",
      "source": [
        "- Normality test"
      ],
      "metadata": {
        "collapsed": false,
        "id": "N5teu1hMrwsp"
      }
    },
    {
      "cell_type": "code",
      "outputs": [],
      "source": [
        "shapiro_test = stats.shapiro(model_4_40.resid)\n",
        "print(shapiro_test)"
      ],
      "metadata": {
        "ExecuteTime": {
          "end_time": "2024-10-22T09:21:19.767641Z",
          "start_time": "2024-10-22T09:21:19.762321Z"
        },
        "id": "07cR0s9Erwsp"
      },
      "execution_count": null
    },
    {
      "cell_type": "markdown",
      "source": [
        "We do not reject the normality null hypothesis."
      ],
      "metadata": {
        "collapsed": false,
        "id": "72uavK88rwsp"
      }
    },
    {
      "cell_type": "markdown",
      "source": [
        "- Homoscedasticity test"
      ],
      "metadata": {
        "collapsed": false,
        "id": "3z9xmf4Prwsp"
      }
    },
    {
      "cell_type": "code",
      "outputs": [],
      "source": [
        "bp = sms.het_breuschpagan(model_4_40.resid, model_4_40.model.exog)\n",
        "for statval, pval in zip(bp[0:2], bp[2:]):\n",
        "    print(statval, pval)"
      ],
      "metadata": {
        "ExecuteTime": {
          "end_time": "2024-10-22T09:21:24.120271Z",
          "start_time": "2024-10-22T09:21:24.112389Z"
        },
        "id": "f2bps7uUrwsp"
      },
      "execution_count": null
    },
    {
      "cell_type": "markdown",
      "source": [
        "Neither do we reject the homoscedasticity hypothesis."
      ],
      "metadata": {
        "collapsed": false,
        "id": "hXFLwGE4rwsp"
      }
    },
    {
      "cell_type": "markdown",
      "source": [
        "Check if there are any significant differences between the _Additive_ level pairs."
      ],
      "metadata": {
        "collapsed": false,
        "id": "rB6erfM4rwsq"
      }
    },
    {
      "cell_type": "code",
      "execution_count": null,
      "metadata": {
        "ExecuteTime": {
          "end_time": "2024-10-22T09:21:36.099242Z",
          "start_time": "2024-10-22T09:21:35.191161Z"
        },
        "id": "1_SvpDFqrwsq"
      },
      "outputs": [],
      "source": [
        "tukey_4_40 = pairwise_tukeyhsd(df_4_40['Mileage'], df_4_40['Additive'], alpha=0.05)\n",
        "\n",
        "# Display results\n",
        "print(tukey_4_40)\n",
        "\n",
        "# Plotting Tukey HSD results\n",
        "tukey_4_40.plot_simultaneous()\n",
        "plt.show()"
      ]
    },
    {
      "cell_type": "markdown",
      "source": [
        "No significant differences between the pairs found."
      ],
      "metadata": {
        "collapsed": false,
        "id": "2IK50c6orwsq"
      }
    },
    {
      "cell_type": "markdown",
      "metadata": {
        "id": "xqGV-sqAt8Em"
      },
      "source": [
        "    \n",
        "# Problem  4.42\n",
        "from the chapter 4, D. C. Montgomery DAoE - 8. edition.\\\\[3mm]\n"
      ]
    },
    {
      "cell_type": "markdown",
      "metadata": {
        "id": "--4FOfk3uRiA"
      },
      "source": [
        "Seven different hardwood concentrations are being studied to determine their effect on the strength of the paper produced. However, the pilot plant can only produce three\truns each day. As days may differ, the analyst uses the balanced incomplete block design that follows. Analyze the data from this experiment (use $\\alpha = 0.05$) and draw conclusions.\n"
      ]
    },
    {
      "cell_type": "markdown",
      "metadata": {
        "collapsed": false,
        "id": "jPSuNenLrwsq"
      },
      "source": [
        "Try to run, in addition to ANOVA with BIBD, the linear model with concentration as a quantitative response too (on condition there is no day effect).\n"
      ]
    },
    {
      "cell_type": "code",
      "execution_count": null,
      "metadata": {
        "id": "fxD9HMoPrbHg",
        "ExecuteTime": {
          "end_time": "2024-10-22T09:21:55.725736Z",
          "start_time": "2024-10-22T09:21:55.356426Z"
        }
      },
      "outputs": [],
      "source": [
        "# Read the data from the URL\n",
        "url_4_42 = \"https://raw.githubusercontent.com/francji1/01NAEX/main/data/Problem_4_42.txt\"\n",
        "df_4_42 = pd.read_csv(url_4_42, sep=\";\")\n",
        "\n",
        "\n",
        "# Display the first few rows of the dataframe\n",
        "df_4_42.head(10)"
      ]
    },
    {
      "cell_type": "code",
      "outputs": [],
      "source": [
        "for col in df_4_42.columns:\n",
        "    print(f\"{col}: {df_4_42[col].unique()}\")"
      ],
      "metadata": {
        "ExecuteTime": {
          "end_time": "2024-10-22T09:21:56.981712Z",
          "start_time": "2024-10-22T09:21:56.976217Z"
        },
        "id": "ihgOvzI1rwsr"
      },
      "execution_count": null
    },
    {
      "cell_type": "markdown",
      "source": [],
      "metadata": {
        "collapsed": false,
        "id": "K275OxwLrwsr"
      }
    },
    {
      "cell_type": "code",
      "outputs": [],
      "source": [
        "df_4_42['Concentration'] = df_4_42['Concentration'].astype('category')"
      ],
      "metadata": {
        "ExecuteTime": {
          "end_time": "2024-10-22T09:22:25.185896Z",
          "start_time": "2024-10-22T09:22:25.180574Z"
        },
        "id": "Z4xTLmqtrwsr"
      },
      "execution_count": null
    },
    {
      "cell_type": "markdown",
      "source": [
        "Run ANOVA with _Strength_ as the response."
      ],
      "metadata": {
        "collapsed": false,
        "id": "Snxi_e77rwsr"
      }
    },
    {
      "cell_type": "code",
      "execution_count": null,
      "metadata": {
        "id": "pE5TJpklrbPN",
        "ExecuteTime": {
          "end_time": "2024-10-22T09:22:26.635612Z",
          "start_time": "2024-10-22T09:22:26.603413Z"
        }
      },
      "outputs": [],
      "source": [
        "model_4_42 = smf.ols('Strength ~ C(Concentration) + Days', data=df_4_42).fit()\n",
        "\n",
        "anova_tab_4_42 = sm.stats.anova_lm(model_4_42, typ=2)\n",
        "anova_tab_4_42\n"
      ]
    },
    {
      "cell_type": "markdown",
      "source": [
        "ANOVA table shows that the _Days_ variable does't have a significant effect on the _Strength_, while the _Concentration_ does."
      ],
      "metadata": {
        "collapsed": false,
        "id": "BwX_BMzcrwsr"
      }
    },
    {
      "cell_type": "code",
      "execution_count": null,
      "metadata": {
        "id": "2F26bckauxvB",
        "ExecuteTime": {
          "end_time": "2024-10-22T09:22:38.175858Z",
          "start_time": "2024-10-22T09:22:38.125547Z"
        }
      },
      "outputs": [],
      "source": [
        "model_4_42.summary()"
      ]
    },
    {
      "cell_type": "markdown",
      "source": [
        "Model assumptions: visual inspection."
      ],
      "metadata": {
        "collapsed": false,
        "id": "PZPUNF_jrwsr"
      }
    },
    {
      "cell_type": "code",
      "execution_count": null,
      "metadata": {
        "ExecuteTime": {
          "end_time": "2024-10-22T09:22:41.944892Z",
          "start_time": "2024-10-22T09:22:41.177429Z"
        },
        "id": "jtO_BK0Srwss"
      },
      "outputs": [],
      "source": [
        "resid_4_42 = model_4_42.resid\n",
        "fig, ax = plt.subplots(1, 3, figsize=(15, 7), dpi=100)\n",
        "sns.histplot(resid_4_42, kde=False, ax=ax[0])\n",
        "stats.probplot(resid_4_42, plot=ax[1])\n",
        "sns.residplot(x=model_4_42.fittedvalues, y=resid_4_42, lowess=True, ax=ax[2], line_kws={'color': 'red'})\n",
        "plt.show()\n"
      ]
    },
    {
      "cell_type": "markdown",
      "source": [
        "- Normality test"
      ],
      "metadata": {
        "collapsed": false,
        "id": "gXxk92d7rwss"
      }
    },
    {
      "cell_type": "code",
      "outputs": [],
      "source": [
        "shapiro_test = stats.shapiro(model_4_42.resid)\n",
        "print(shapiro_test)"
      ],
      "metadata": {
        "ExecuteTime": {
          "end_time": "2024-10-22T09:22:49.379268Z",
          "start_time": "2024-10-22T09:22:49.373539Z"
        },
        "id": "oX-SJDH0rwss"
      },
      "execution_count": null
    },
    {
      "cell_type": "markdown",
      "source": [
        "- Homoscedasticity test"
      ],
      "metadata": {
        "collapsed": false,
        "id": "YZQkZJAcrwss"
      }
    },
    {
      "cell_type": "code",
      "outputs": [],
      "source": [
        "bp = sms.het_breuschpagan(model_4_42.resid, model_4_42.model.exog)\n",
        "for statval, pval in zip(bp[0:2], bp[2:]):\n",
        "    print(statval, pval)"
      ],
      "metadata": {
        "ExecuteTime": {
          "end_time": "2024-10-22T09:22:56.627540Z",
          "start_time": "2024-10-22T09:22:56.621395Z"
        },
        "id": "dN1jeDWXrwss"
      },
      "execution_count": null
    },
    {
      "cell_type": "markdown",
      "source": [
        "The model assumptions are met."
      ],
      "metadata": {
        "collapsed": false,
        "id": "L7dYL7sJrwss"
      }
    },
    {
      "cell_type": "markdown",
      "source": [
        "Let's try to fit a linear model with _Concentration_ as quantitative response."
      ],
      "metadata": {
        "collapsed": false,
        "id": "s2r6IIlXrwss"
      }
    },
    {
      "cell_type": "code",
      "outputs": [],
      "source": [
        "# Cast the Concentration to quantitative.\n",
        "df_4_42['Concentration'] = df_4_42['Concentration'].astype(float)"
      ],
      "metadata": {
        "ExecuteTime": {
          "end_time": "2024-10-22T09:23:01.658677Z",
          "start_time": "2024-10-22T09:23:01.652204Z"
        },
        "id": "83vZX2LZrwss"
      },
      "execution_count": null
    },
    {
      "cell_type": "code",
      "outputs": [],
      "source": [
        "model_linear = smf.ols('Concentration~Strength', data=df_4_42).fit()\n",
        "anova_tab = sm.stats.anova_lm(model_linear, typ=2)\n",
        "anova_tab"
      ],
      "metadata": {
        "ExecuteTime": {
          "end_time": "2024-10-22T09:23:03.519902Z",
          "start_time": "2024-10-22T09:23:03.490047Z"
        },
        "id": "1Wiz83Nprwst"
      },
      "execution_count": null
    },
    {
      "cell_type": "code",
      "outputs": [],
      "source": [
        "model_linear.summary()"
      ],
      "metadata": {
        "ExecuteTime": {
          "end_time": "2024-10-22T09:23:06.537653Z",
          "start_time": "2024-10-22T09:23:06.499101Z"
        },
        "id": "h16ACJYzrwst"
      },
      "execution_count": null
    },
    {
      "cell_type": "markdown",
      "source": [
        "The _Strength_ has no significant effect on the _Concentration_."
      ],
      "metadata": {
        "collapsed": false,
        "id": "muCkVILqrwst"
      }
    },
    {
      "cell_type": "markdown",
      "source": [
        "Model assumptions: visual inspection of the residuals."
      ],
      "metadata": {
        "collapsed": false,
        "id": "VMwVRYJarwst"
      }
    },
    {
      "cell_type": "code",
      "execution_count": null,
      "metadata": {
        "id": "SIS6edy2WAxd",
        "ExecuteTime": {
          "end_time": "2024-10-22T09:23:12.216518Z",
          "start_time": "2024-10-22T09:23:11.451408Z"
        }
      },
      "outputs": [],
      "source": [
        "resid_linear = model_linear.resid\n",
        "fig, ax = plt.subplots(1, 3, figsize=(15, 7), dpi=100)\n",
        "sns.histplot(resid_linear, kde=False, ax=ax[0])\n",
        "stats.probplot(resid_linear, plot=ax[1])\n",
        "sns.residplot(x=model_linear.fittedvalues, y=resid_linear, lowess=True, ax=ax[2], line_kws={'color': 'red'})\n",
        "plt.show()\n"
      ]
    },
    {
      "cell_type": "markdown",
      "source": [
        "- Normality test"
      ],
      "metadata": {
        "collapsed": false,
        "id": "3QyQ5wYcrwst"
      }
    },
    {
      "cell_type": "code",
      "outputs": [],
      "source": [
        "print(stats.shapiro(resid_linear))"
      ],
      "metadata": {
        "ExecuteTime": {
          "end_time": "2024-10-22T09:23:13.988966Z",
          "start_time": "2024-10-22T09:23:13.984032Z"
        },
        "id": "T0MygW2trwst"
      },
      "execution_count": null
    },
    {
      "cell_type": "markdown",
      "source": [
        "The residuals are not normal..."
      ],
      "metadata": {
        "collapsed": false,
        "id": "JuylHEl5rwst"
      }
    },
    {
      "cell_type": "markdown",
      "source": [
        "- Homoscedasticity test"
      ],
      "metadata": {
        "collapsed": false,
        "id": "B5tjzc5krwsu"
      }
    },
    {
      "cell_type": "code",
      "execution_count": null,
      "metadata": {
        "ExecuteTime": {
          "end_time": "2024-10-22T09:23:31.293268Z",
          "start_time": "2024-10-22T09:23:31.287556Z"
        },
        "id": "alFUz-Jvrwsu"
      },
      "outputs": [],
      "source": [
        "print(sms.het_breuschpagan(resid_linear, model_linear.model.exog))"
      ]
    },
    {
      "cell_type": "markdown",
      "source": [
        "... neither they are homoscedastic."
      ],
      "metadata": {
        "collapsed": false,
        "id": "fNH4yuWlrwsu"
      }
    },
    {
      "cell_type": "code",
      "outputs": [],
      "source": [],
      "metadata": {
        "id": "VuF73Ej_rwsu"
      },
      "execution_count": null
    }
  ],
  "metadata": {
    "colab": {
      "private_outputs": true,
      "provenance": [],
      "include_colab_link": true
    },
    "kernelspec": {
      "display_name": "Python 3 (ipykernel)",
      "language": "python",
      "name": "python3"
    },
    "language_info": {
      "codemirror_mode": {
        "name": "ipython",
        "version": 3
      },
      "file_extension": ".py",
      "mimetype": "text/x-python",
      "name": "python",
      "nbconvert_exporter": "python",
      "pygments_lexer": "ipython3",
      "version": "3.12.7"
    }
  },
  "nbformat": 4,
  "nbformat_minor": 0
}