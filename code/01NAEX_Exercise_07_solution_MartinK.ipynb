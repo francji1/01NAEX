{
  "cells": [
    {
      "cell_type": "markdown",
      "metadata": {
        "id": "view-in-github",
        "colab_type": "text"
      },
      "source": [
        "<a href=\"https://colab.research.google.com/github/francji1/01NAEX/blob/main/code/01NAEX_Exercise_07_solution_MartinK.ipynb\" target=\"_parent\"><img src=\"https://colab.research.google.com/assets/colab-badge.svg\" alt=\"Open In Colab\"/></a>"
      ]
    },
    {
      "cell_type": "markdown",
      "metadata": {
        "id": "SJRUeUJPrezp"
      },
      "source": [
        "\n",
        "# O1NAEX Exercise 07"
      ]
    },
    {
      "cell_type": "markdown",
      "metadata": {
        "id": "cfc40031"
      },
      "source": [
        "## Problem 6.31 + 6.32\n",
        "\n",
        "from the chapter 6, D. C. Montgomery DAoE - 8. edition.\n",
        "\n",
        "An experiment was conducted on a chemical process that produces a\n",
        "polymer. The four factors studied were temperature (A), catalyst\n",
        "concentration (B), time (C), and pressure (D). Two responses, molecular\n",
        "weight and viscosity, were observed. The design matrix and response data\n",
        "are following:"
      ]
    },
    {
      "cell_type": "code",
      "execution_count": null,
      "metadata": {
        "id": "XkkKD7h88ztb"
      },
      "outputs": [],
      "source": [
        " !pip install pyDOE3"
      ]
    },
    {
      "cell_type": "code",
      "execution_count": null,
      "metadata": {
        "id": "ADLJuBchGazL"
      },
      "outputs": [],
      "source": [
        "from pyDOE3 import ff2n\n",
        "import pandas as pd\n",
        "import numpy as np\n",
        "import statsmodels.formula.api as smf\n",
        "from scipy import stats\n",
        "import matplotlib.pyplot as plt\n",
        "import statsmodels.api as sm\n",
        "import seaborn as sns\n",
        "from matplotlib import cm\n",
        "\n",
        "df631 = pd.read_csv(\"https://raw.githubusercontent.com/francji1/01NAEX/main/data/Problem_6_31.txt\", sep=\";\")\n",
        "df631.head()"
      ]
    },
    {
      "cell_type": "code",
      "execution_count": null,
      "metadata": {
        "id": "WTJR3W1FEsZF"
      },
      "outputs": [],
      "source": [
        "m = ff2n(4)\n",
        "m = m[:, ::-1]\n",
        "\n",
        "m_df = pd.DataFrame(m, columns=[\"A\", \"B\", \"C\", \"D\"])\n",
        "Weight = df631.loc[0:15, \"Weight\"].values\n",
        "Viscosity = df631.loc[0:15, \"Viscosity\"].values\n",
        "m_df['Weight'] = Weight\n",
        "m_df['Viscosity'] = Viscosity\n",
        "response_names = m_df.columns[-2:].tolist()\n",
        "\n",
        "print(\"Response names:\", response_names)\n",
        "print(m_df)"
      ]
    },
    {
      "cell_type": "code",
      "execution_count": null,
      "metadata": {
        "id": "NxE90Ksc9Pzi"
      },
      "outputs": [],
      "source": [
        "df626 = pd.read_csv(\"https://raw.githubusercontent.com/francji1/01NAEX/main/data/Ex06_26.csv\", sep=\";\")\n",
        "df626.head()"
      ]
    },
    {
      "cell_type": "markdown",
      "metadata": {
        "id": "_lYQT0wrrb3V"
      },
      "source": [
        "##\tProblems 6.26 and 6.27 and 7.7\n",
        "from the chapters 6 and 7, D. C. Montgomery DAoE - 8. edition.\n",
        "\n",
        "An experiment was run in a semiconductor fabrication plant in an effort to increase yield. Five factors, each at two levels, were studied. The factors (and levels) were\n",
        "+ A = aperture setting (small, large),\n",
        "+ B = exposure time (20% below nominal, 20% above nominal),\n",
        "+ C = development time (30 and 45 s),\n",
        "+ D = mask dimension (small, large), and\n",
        "+ E = etch time (14.5 and 15.5min).\n",
        "\n",
        "The unreplicated $2^5$ design shown below was run."
      ]
    },
    {
      "cell_type": "code",
      "execution_count": null,
      "metadata": {
        "id": "fxD9HMoPrbHg"
      },
      "outputs": [],
      "source": [
        "import pandas as pd\n",
        "\n",
        "# Define new column names\n",
        "new_column_names = [\"A\", \"B\", \"C\", \"D\", \"E\"]\n",
        "\n",
        "# Rename columns\n",
        "df626.rename(columns=dict(zip(df626.columns, new_column_names)), inplace=True)\n"
      ]
    },
    {
      "cell_type": "code",
      "execution_count": null,
      "metadata": {
        "id": "JNwgymVZEsZH"
      },
      "outputs": [],
      "source": [
        "df626_df.head()"
      ]
    },
    {
      "cell_type": "code",
      "execution_count": null,
      "metadata": {
        "scrolled": true,
        "id": "jNOZdDCkEsZH"
      },
      "outputs": [],
      "source": [
        "pd.set_option('future.no_silent_downcasting', True)\n",
        "\n",
        "# Rename variable values\n",
        "df626[\"B\"] = df626[\"B\"].apply(lambda x: -1.0 if x < 15 else 1.0)\n",
        "df626[\"E\"] = df626[\"E\"].apply(lambda x: -1.0 if x < 15 else 1.0)\n",
        "df626[\"C\"] = df626[\"C\"].apply(lambda x: -1.0 if x < 40 else 1.0)\n",
        "\n",
        "df626[\"A\"] = df626[\"A\"].replace({\"small\": -1.0, \"large\": 1.0}).infer_objects(copy=False)\n",
        "df626[\"D\"] = df626[\"D\"].replace({\"Small\": -1.0, \"Large\": 1.0}).infer_objects(copy=False)\n",
        "\n",
        "# Change data types to categorical\n",
        "df626[new_column_names] = df626[new_column_names].astype(\"category\")\n",
        "\n",
        "# View the renamed dataframe\n",
        "df626.info()"
      ]
    },
    {
      "cell_type": "code",
      "execution_count": null,
      "metadata": {
        "id": "M_Mbsi0IEsZI"
      },
      "outputs": [],
      "source": [
        "df626.head()"
      ]
    },
    {
      "cell_type": "code",
      "execution_count": null,
      "metadata": {
        "id": "Wx_EhqrmEsZI"
      },
      "outputs": [],
      "source": [
        "df626_cp = df626.iloc[-4:] # Center points\n",
        "df626_df = df626.iloc[:-4] # Working points"
      ]
    },
    {
      "cell_type": "markdown",
      "metadata": {
        "id": "dbEJmeh3zNWJ"
      },
      "source": [
        "---\n",
        "**a) Construct a normal probability plot of the effect estimates.\n",
        "Which effects appear to be large?**\n",
        "\n",
        "---"
      ]
    },
    {
      "cell_type": "code",
      "execution_count": null,
      "metadata": {
        "id": "2F26bckauxvB"
      },
      "outputs": [],
      "source": [
        "# Fit the linear model\n",
        "model_full = smf.ols(\"Yield ~ (A + B + C + D + E)**2\", data=df626_df).fit()\n",
        "xnames = ['Intercept', 'A', 'B', 'C', 'D', 'E',\n",
        "          'A:B', 'A:C', 'A:D', 'A:E', 'B:C', 'B:D', 'B:E', 'C:D', 'C:E', 'D:E']\n",
        "# Summarize the model\n",
        "model_full.summary(xname=xnames)"
      ]
    },
    {
      "cell_type": "code",
      "execution_count": null,
      "metadata": {
        "id": "d_hsX4yaEsZJ"
      },
      "outputs": [],
      "source": [
        "# I would not like to be influenced (biased) by the p-value of the full model ANOVA hence not showing here\n",
        "full_anova = sm.stats.anova_lm(model_full, typ=2);"
      ]
    },
    {
      "cell_type": "code",
      "execution_count": null,
      "metadata": {
        "id": "61syo_-6EsZJ"
      },
      "outputs": [],
      "source": [
        "coeffs = model_full.params * 2\n",
        "coeffs.index = xnames\n",
        "full_total_ssq = full_anova[\"sum_sq\"].sum()\n",
        "effects_df = pd.DataFrame(coeffs,columns=[\"Effects\"])\n",
        "effects_df[\"Sum Sq.\"] = full_anova[\"sum_sq\"]\n",
        "effects_df[\"Percent contribution\"] = full_anova[\"sum_sq\"].map(lambda x: 100*x / full_total_ssq)"
      ]
    },
    {
      "cell_type": "code",
      "execution_count": null,
      "metadata": {
        "id": "ElmH9V3FEsZJ"
      },
      "outputs": [],
      "source": [
        "effects_df"
      ]
    },
    {
      "cell_type": "code",
      "execution_count": null,
      "metadata": {
        "id": "v3WuPygdEsZJ"
      },
      "outputs": [],
      "source": [
        "effects_no_intercept = effects_df.drop('Intercept')\n",
        "effects_abs = effects_no_intercept['Effects'].abs()\n",
        "effects_sorted = effects_abs.sort_values()\n",
        "effect_names_sorted = effects_sorted.index.tolist()\n",
        "\n",
        "n = len(effects_sorted)\n",
        "i = np.arange(1, n + 1)\n",
        "probabilities = (i - 0.5) / n\n",
        "expected_values = stats.halfnorm.ppf(probabilities)\n",
        "\n",
        "plt.figure(figsize=(10, 6))\n",
        "plt.plot(effects_sorted, expected_values,'o')\n",
        "\n",
        "\n",
        "for x, y, label in zip(effects_sorted,expected_values, effect_names_sorted):\n",
        "    plt.text(x+0.7, y-0.015, label, fontsize=9, ha='left')\n",
        "\n",
        "plt.xlabel('Effect')\n",
        "plt.ylabel('Normal % probability')\n",
        "plt.title('Normal Probability Plot of Effects')\n",
        "plt.grid(True)\n",
        "plt.show()"
      ]
    },
    {
      "cell_type": "markdown",
      "metadata": {
        "id": "nO7ooqTPEsZJ"
      },
      "source": [
        "Most important are the factors\n",
        "+ `C` and `B`\n",
        "\n",
        "and the interaction\n",
        "+ `A:B`."
      ]
    },
    {
      "cell_type": "markdown",
      "metadata": {
        "id": "TlcrhKCIEsZJ"
      },
      "source": [
        "---\n",
        "**b) Conduct an analysis of variance to confirm your findings\n",
        "for part (a).**\n",
        "\n",
        "---"
      ]
    },
    {
      "cell_type": "code",
      "execution_count": null,
      "metadata": {
        "id": "UjDX6ko1EsZJ"
      },
      "outputs": [],
      "source": [
        "model_reduced = smf.ols('Yield ~ B + C + A:B', data=df626_df).fit()\n",
        "sm.stats.anova_lm(model_reduced, typ=2)"
      ]
    },
    {
      "cell_type": "code",
      "execution_count": null,
      "metadata": {
        "id": "sQdJQgQtEsZK"
      },
      "outputs": [],
      "source": [
        "sm.stats.anova_lm(model_reduced, model_full, typ=\"I\")"
      ]
    },
    {
      "cell_type": "markdown",
      "metadata": {
        "id": "6szB8AYAEsZK"
      },
      "source": [
        "ANOVA (both of them)  have confirmed the findings."
      ]
    },
    {
      "cell_type": "code",
      "execution_count": null,
      "metadata": {
        "id": "YJ6epn6OEsZK"
      },
      "outputs": [],
      "source": [
        "formula_final = 'Yield ~ B + C + A:B'"
      ]
    },
    {
      "cell_type": "code",
      "execution_count": null,
      "metadata": {
        "id": "2xHIVSmtEsZK"
      },
      "outputs": [],
      "source": [
        "model_final = model_reduced"
      ]
    },
    {
      "cell_type": "markdown",
      "metadata": {
        "id": "mWRpPm_aEsZK"
      },
      "source": [
        "---\n",
        "**c) Write down the regression model relating yield to the significant process variables.**\n",
        "\n",
        "---"
      ]
    },
    {
      "cell_type": "code",
      "execution_count": null,
      "metadata": {
        "id": "h13PzcDuEsZK"
      },
      "outputs": [],
      "source": [
        "coeffs_final = model_final.params\n",
        "coeffs_final.index = [\"Intercept\",\"B\", \"C\", \"A+:B-\", \"A+:B+\"]\n",
        "coeffs_final"
      ]
    },
    {
      "cell_type": "code",
      "execution_count": null,
      "metadata": {
        "id": "VlzkXVSXEsZK"
      },
      "outputs": [],
      "source": [
        "print(\"A:B =\",-1 * coeffs_final[\"A+:B-\"] + coeffs_final[\"A+:B+\"])"
      ]
    },
    {
      "cell_type": "markdown",
      "metadata": {
        "id": "N2QxfCxCEsZK"
      },
      "source": [
        "$$\n",
        "\\text{Yield} = 6.78125 + 26 B + 9.68750 C + 3.875 A_{+}\\cdot B_{-} + 19.75 A_{+} \\cdot B_{+}\n",
        "$$ hence $$\n",
        "\\text{Yield} = 6.78 + 26 B + 9.69 C + 15.88 A\\cdot B\n",
        "$$"
      ]
    },
    {
      "cell_type": "markdown",
      "metadata": {
        "id": "tSgcT7zZEsZL"
      },
      "source": [
        "---\n",
        "**d) Plot the residuals on normal probability paper. Is the plot satisfactory?**\n",
        "\n",
        "---"
      ]
    },
    {
      "cell_type": "code",
      "execution_count": null,
      "metadata": {
        "id": "VmPqawENEsZL"
      },
      "outputs": [],
      "source": [
        "residuals = model_final.resid\n",
        "fitted = model_final.fittedvalues\n",
        "\n",
        "fig, (ax1, ax2) = plt.subplots(1, 2, figsize=(12, 5))\n",
        "ax1.scatter(fitted, residuals, edgecolors='k', facecolors='none')\n",
        "ax1.axhline(y=0, color='red', linestyle='--')\n",
        "ax1.set_xlabel('Fitted Values')\n",
        "ax1.set_ylabel('Residuals')\n",
        "ax1.set_title('Residuals vs. Fitted Values')\n",
        "ax1.grid(True)\n",
        "\n",
        "sm.qqplot(residuals, line='45', fit=True, ax=ax2)\n",
        "ax2.set_title('Normal Q-Q Plot')\n",
        "ax2.grid(True)\n",
        "\n",
        "# Adjust the spacing between subplots\n",
        "plt.subplots_adjust(wspace=0.2)\n",
        "\n",
        "plt.show()"
      ]
    },
    {
      "cell_type": "markdown",
      "metadata": {
        "id": "MtRDtGjEEsZL"
      },
      "source": [
        "Sem spokojenej rozhodně"
      ]
    },
    {
      "cell_type": "markdown",
      "metadata": {
        "id": "n-W8SKMGEsZL"
      },
      "source": [
        "---\n",
        "**e) Plot the residuals versus the predicted yields and versus each of the five factors. Comment on the plots.**\n",
        "\n",
        "---\n"
      ]
    },
    {
      "cell_type": "code",
      "execution_count": null,
      "metadata": {
        "id": "dc0GcRg7EsZL"
      },
      "outputs": [],
      "source": [
        "residuals = pd.Series(model_final.resid, name=\"Residuals\")\n",
        "df_with_resid = pd.concat([df626_df, residuals], axis=1)"
      ]
    },
    {
      "cell_type": "code",
      "execution_count": null,
      "metadata": {
        "id": "rHMm-iUOEsZL"
      },
      "outputs": [],
      "source": [
        "df_with_resid.head()"
      ]
    },
    {
      "cell_type": "code",
      "execution_count": null,
      "metadata": {
        "id": "hVgaun6GEsZM"
      },
      "outputs": [],
      "source": [
        "# Create the figure with two subplots\n",
        "fig =  plt.figure(figsize=(13, 2.5))\n",
        "\n",
        "# Create a grid of subplots for the residuals vs. factors\n",
        "factor_cols = ['A', 'B', 'C', 'D', 'E']\n",
        "for i, factor in enumerate(factor_cols):\n",
        "    ax = fig.add_subplot(1, 5, i+1)\n",
        "    sns.boxplot(x=factor, y=\"Residuals\", data=df_with_resid, ax=ax)\n",
        "    ax.set_xlabel(f\"{factor} Levels\")\n",
        "    if i == 0:\n",
        "        ax.set_ylabel(\"Residuals\")\n",
        "    else:\n",
        "        ax.set_ylabel(None)\n",
        "    ax.set_title(f\"Residuals vs. Factor {factor}\")\n",
        "    ax.grid(True)\n",
        "\n",
        "# Adjust the spacing between subplots\n",
        "plt.subplots_adjust(wspace=0.3)\n",
        "\n",
        "plt.show()"
      ]
    },
    {
      "cell_type": "markdown",
      "metadata": {
        "id": "HBavLuO1EsZM"
      },
      "source": [
        "Both the residuals against the predicted values and the residuals for the factors seem to be unbiased and also they seem to have a similar variance. Expected value around 0 which is a good sign.\n",
        "+ Ther is maybe a slight underrepresentation of the factor `D` (**mask dimension**) which did not make it to the reduced model."
      ]
    },
    {
      "cell_type": "markdown",
      "metadata": {
        "id": "ePwy3qjGEsZM"
      },
      "source": [
        "---\n",
        "**f) Interpret any significant interactions.**\n",
        "\n",
        "---"
      ]
    },
    {
      "cell_type": "markdown",
      "metadata": {
        "id": "VHn2iA0uEsZM"
      },
      "source": [
        "A recap of the factors:\n",
        "> +    A = aperture setting (small, large),\n",
        "> +    B = exposure time (20% below nominal, 20% above nominal),\n",
        "> +    C = development time (30 and 45 s),\n",
        "> +    D = mask dimension (small, large), and\n",
        "> +    E = etch time (14.5 and 15.5min).\n",
        "\n",
        "and the model\n",
        "> $$\n",
        "\\text{Yield} = 6.78 + 26 B + 9.69 C + 15.88 A\\cdot B\n",
        "$$\n",
        ">\n",
        "The interaction that is left in the model is only\n",
        "+ `A:B`\n",
        "\n",
        "which are in the experiment setting\n",
        "+ **aperture setting** $\\times$ **exposure time** (15.88)\n",
        "\n",
        "This gives them the obvious physical interpretation.\n",
        "+ Both **aperture setting** and the **exposure time** are related to the illumination that the lasers take upon the crystals. _Hence more power from the lasers, more yield!_"
      ]
    },
    {
      "cell_type": "markdown",
      "metadata": {
        "id": "0aeC7327EsZQ"
      },
      "source": [
        "---\n",
        "**g) What are your recommendations regarding process\n",
        "operating conditions?**\n",
        "\n",
        "---\n"
      ]
    },
    {
      "cell_type": "markdown",
      "metadata": {
        "id": "uHU3YT22EsZQ"
      },
      "source": [
        "+ The **development time** should be set to _(45 s)_.\n",
        "+ A _large_ **aperture setting** and **exposure time** (from the interaction and the independent factor)."
      ]
    },
    {
      "cell_type": "markdown",
      "metadata": {
        "id": "uDkm6QSpEsZQ"
      },
      "source": [
        "---\n",
        "**h) Project the $2^5$ design in this problem into a $2^k$ design\n",
        "in the important factors. Sketch the design and show\n",
        "the average and range of yields at each run. Does\n",
        "this sketch aid in interpreting the results of this\n",
        "experiment?**\n",
        "\n",
        "---\n"
      ]
    },
    {
      "cell_type": "markdown",
      "metadata": {
        "id": "AtU02mZoEsZR"
      },
      "source": [
        "We are left with the significant factors `A`, `B` and `C`."
      ]
    },
    {
      "cell_type": "code",
      "execution_count": null,
      "metadata": {
        "id": "OKtgG2ipEsZR"
      },
      "outputs": [],
      "source": [
        "df626_2k = df626_df.groupby(['A', 'B', 'C'], observed = False)"
      ]
    },
    {
      "cell_type": "code",
      "execution_count": null,
      "metadata": {
        "id": "aN37y7J4EsZR"
      },
      "outputs": [],
      "source": [
        "df626_2k.groups;"
      ]
    },
    {
      "cell_type": "code",
      "execution_count": null,
      "metadata": {
        "id": "7YzcZh5lEsZR"
      },
      "outputs": [],
      "source": [
        "df626_2k_df = pd.DataFrame(df626_2k['Yield'].mean())\n",
        "df626_2k_df.rename(columns = {'Yield':'Yield mean'}, inplace = True)\n",
        "df626_2k_df['Yield range'] = df626_2k['Yield'].apply(lambda y: np.max(y) - np.min(y))\n",
        "df626_2k_df.reset_index([0,1,2])"
      ]
    },
    {
      "cell_type": "markdown",
      "metadata": {
        "id": "M0tcC6iaEsZR"
      },
      "source": [
        "We can see that the range of the `Yield` against the mean value is small therefore we can believe that the choice of the relevant factors was done correctly."
      ]
    },
    {
      "cell_type": "markdown",
      "metadata": {
        "id": "GkiYs6l3EsZR"
      },
      "source": [
        "---\n",
        "**i) Suppose that the experimenter had run four center points in addition to the 32 trials in the original experiment. The yields obtained at the\n",
        "center point runs were 68, 74, 76, and 70. Reanalyze the experiment, including a test for pure quadratic curvature. Discuss what your next step would be.**\n",
        "\n",
        "---\n"
      ]
    },
    {
      "cell_type": "code",
      "execution_count": null,
      "metadata": {
        "id": "fLFJ0-k2EsZR"
      },
      "outputs": [],
      "source": [
        "factor_names = ['A','B','C','D','E']\n",
        "df626_cp.loc[:,factor_names] = df626_cp[factor_names].astype(float)\n",
        "df626_cp.loc[:, factor_names] = np.zeros((4, 5))\n",
        "df626_cp"
      ]
    },
    {
      "cell_type": "code",
      "execution_count": null,
      "metadata": {
        "id": "Tft9-rugEsZR"
      },
      "outputs": [],
      "source": [
        "cp_analysis = {\n",
        "    'Y_cp':df626_cp['Yield'].mean(),\n",
        "    'Y_f':df626_df['Yield'].mean(),\n",
        "    'Y_f - Y_cp':df626_df['Yield'].mean() - df626_cp['Yield'].mean()\n",
        "}"
      ]
    },
    {
      "cell_type": "code",
      "execution_count": null,
      "metadata": {
        "id": "04IiWDw6EsZS"
      },
      "outputs": [],
      "source": [
        "n_f, n_c = len(df626_df), len(df626_cp)\n",
        "ss_pq = n_f * n_c\n",
        "cp_analysis['SS_pq'] = n_f*n_c*cp_analysis['Y_f - Y_cp']**2/(n_f + n_c)\n",
        "cp_analysis['MS_F'] = df626_cp['Yield'].map(lambda y: (y - cp_analysis['Y_cp'])**2).sum()/(n_c - 1)\n",
        "cp_analysis['F_stat'] = cp_analysis['SS_pq']/cp_analysis['MS_F']\n",
        "cp_analysis['p-val'] = stats.f.sf(cp_analysis['F_stat'],3,1)"
      ]
    },
    {
      "cell_type": "code",
      "execution_count": null,
      "metadata": {
        "id": "B6MQ953hEsZS"
      },
      "outputs": [],
      "source": [
        "pd.DataFrame(cp_analysis, index=[0])"
      ]
    },
    {
      "cell_type": "markdown",
      "metadata": {
        "id": "vQjSHxmIEsZS"
      },
      "source": [
        "We conclude that there is a significant reason to believe that there is a quadratic curvature in the model."
      ]
    },
    {
      "cell_type": "code",
      "execution_count": null,
      "metadata": {
        "id": "2jvo2M1IEsZS"
      },
      "outputs": [],
      "source": [
        "df626_w_cp = pd.concat([df626_df,df626_cp], ignore_index=True)\n",
        "df626_w_cp.loc[:,factor_names] = df626_w_cp.loc[:,factor_names].astype(float)\n",
        "df626_w_cp.insert(6, 'F', np.concat([np.zeros(32), np.ones(4)]))\n",
        "df626_w_cp.tail(6)"
      ]
    },
    {
      "cell_type": "code",
      "execution_count": null,
      "metadata": {
        "id": "hHYKjARGEsZS"
      },
      "outputs": [],
      "source": [
        "model_w_cp_full = smf.ols(\"Yield ~ (A + B + C + D + E)**2 + F\", data=df626_w_cp).fit()\n",
        "sm.stats.anova_lm(model_w_cp_full, typ=2)"
      ]
    },
    {
      "cell_type": "code",
      "execution_count": null,
      "metadata": {
        "id": "PuKakRqwEsZS"
      },
      "outputs": [],
      "source": [
        "sm.stats.anova_lm(model_final,typ=2)"
      ]
    },
    {
      "cell_type": "code",
      "execution_count": null,
      "metadata": {
        "id": "y6dKwfbNEsZS"
      },
      "outputs": [],
      "source": [
        "model_w_cp = smf.ols(formula_final, data=df626_w_cp).fit()\n",
        "sm.stats.anova_lm(model_w_cp,typ=2)"
      ]
    },
    {
      "cell_type": "code",
      "execution_count": null,
      "metadata": {
        "id": "bwRaPf-gEsZT"
      },
      "outputs": [],
      "source": [
        "df626_df_numeric = df626_df.copy()\n",
        "df626_df_numeric[factor_names] = df626_df_numeric[factor_names].astype(float)\n",
        "sm.stats.anova_lm(smf.ols(formula_final + \" + I(B**2)\", data=df626_df_numeric).fit(),typ=2)"
      ]
    },
    {
      "cell_type": "markdown",
      "metadata": {
        "id": "MCnfgvfJEsZT"
      },
      "source": [
        "I would keep the original model and be satistied with it."
      ]
    },
    {
      "cell_type": "markdown",
      "metadata": {
        "id": "zQqnKXRfEsZT"
      },
      "source": [
        "---\n",
        "**j) Construct and analyze a design in two blocks with ABCDE\n",
        "confounded with blocks.**\n",
        "\n",
        "---\n"
      ]
    },
    {
      "cell_type": "code",
      "execution_count": null,
      "metadata": {
        "id": "fx585iICEsZT"
      },
      "outputs": [],
      "source": [
        "df626_blck = df626_df.copy()\n",
        "df626_blck.insert(5,\"BLC\", df626_blck[factor_names].astype(float).prod(axis=1))\n",
        "df626_blck.head()"
      ]
    },
    {
      "cell_type": "markdown",
      "metadata": {
        "id": "widK6tkbEsZT"
      },
      "source": [
        "We have two blocks for this design. The result of the analysis would be unchanged."
      ]
    },
    {
      "cell_type": "markdown",
      "metadata": {
        "id": "0gmyJAqOEsZT"
      },
      "source": [
        "---\n",
        "**k) Assuming now that four blocks are\n",
        "necessary. Suggest a reasonable confounding scheme.**\n",
        "\n",
        "---\n"
      ]
    },
    {
      "cell_type": "markdown",
      "metadata": {
        "id": "juUIBCWwEsZT"
      },
      "source": [
        "For four blocks we may chose any 2 permutations of 3 factors that overlap in 1 factor to generate the blocks. We will have these cubic interactions confounded and the 4 factor intraction that has includes the union of these factors from the generation scheme.\n",
        "\n",
        "For my experiment, I would choose `ACD`, `ABE` which would confound `ACD`, `ABE` and `ACDE`. I suggest this in order to keep the possibility of the intraction `ABC` which can be important based on the initial modeling. Further more, it confounds `ABE` where `A:B` is already in the model and `E` is insignificant hence this is OK and `ACD` where `D` is insignificant and we threw out `A:C` due to its insignificance from ANOVA. This blocking scheme assures that there is no reason to believe that I would miss a significant factor or interaction."
      ]
    },
    {
      "cell_type": "markdown",
      "metadata": {
        "id": "_5EZXrk6EsZT"
      },
      "source": [
        "---\n",
        "**l) Suppose that it was necessary to run this design in four blocks\n",
        "with ACDE and BCD (and consequently ABE) confounded.\n",
        "Analyze the data from this design.**\n",
        "\n",
        "---"
      ]
    },
    {
      "cell_type": "markdown",
      "metadata": {
        "id": "GZmhJFhMEsZT"
      },
      "source": [
        "The results would probably be the same... It would take a long time to do this and lead to no additional results. This is my anaysis."
      ]
    },
    {
      "cell_type": "code",
      "execution_count": null,
      "metadata": {
        "id": "7xfl0RFxEsZU"
      },
      "outputs": [],
      "source": []
    }
  ],
  "metadata": {
    "colab": {
      "private_outputs": true,
      "provenance": [],
      "include_colab_link": true
    },
    "kernelspec": {
      "display_name": "NAEX01",
      "language": "python",
      "name": "naex01"
    },
    "language_info": {
      "codemirror_mode": {
        "name": "ipython",
        "version": 3
      },
      "file_extension": ".py",
      "mimetype": "text/x-python",
      "name": "python",
      "nbconvert_exporter": "python",
      "pygments_lexer": "ipython3",
      "version": "3.12.7"
    }
  },
  "nbformat": 4,
  "nbformat_minor": 0
}