{
  "nbformat": 4,
  "nbformat_minor": 0,
  "metadata": {
    "colab": {
      "private_outputs": true,
      "provenance": [],
      "toc_visible": true
    },
    "kernelspec": {
      "name": "python3",
      "display_name": "Python 3"
    },
    "language_info": {
      "name": "python"
    }
  },
  "cells": [
    {
      "cell_type": "code",
      "source": [],
      "metadata": {
        "id": "zKcaGUH2I0Dp"
      },
      "execution_count": null,
      "outputs": []
    },
    {
      "cell_type": "markdown",
      "source": [
        "##  Recap the code from the Lecture (Python instead of R)"
      ],
      "metadata": {
        "id": "4peItEjtdRIN"
      }
    },
    {
      "cell_type": "code",
      "execution_count": null,
      "metadata": {
        "id": "4IViDmO3hRRe"
      },
      "outputs": [],
      "source": [
        "import os\n",
        "import pandas as pd\n",
        "import numpy as np\n",
        "\n",
        "import matplotlib.pyplot as plt\n",
        "import seaborn as sns\n",
        "from scipy import stats\n",
        "from sklearn.linear_model import LinearRegression\n",
        "from statsmodels.formula.api import ols\n",
        "import statsmodels.formula.api as smf\n",
        "\n",
        "from statsmodels.stats.anova import anova_lm\n",
        "from statsmodels.stats.multicomp import pairwise_tukeyhsd\n",
        "from statsmodels.stats.diagnostic import het_breuschpagan\n",
        "from statsmodels.stats.api import durbin_watson\n",
        "import statsmodels.api as sm\n"
      ]
    },
    {
      "cell_type": "markdown",
      "source": [
        "### Exercises 3.07\n",
        "\n",
        "The tensile strength of Portland cement is being studied. Four different mixing techniques can be used economically. A completely randomized experiment was conducted\tand the following data were collected:\n",
        "\n",
        "| Mixing | Technique Tensile Strength (lb/in2)||||\n",
        "|--------------------------------------------|||||\n",
        "| 1      |  3129  |  3000  |  2865  |  2890  |\n",
        "| 2      |  3200  |  3300  |  2975  |  3150  |\n",
        "| 3      |  2800  |  2900  |  2985  |  3050  |\n",
        "| 4      |  2600  |  2700  |  2600  |  2765  |\n",
        "\n",
        "* Construct a graphical display to compare the mean tensile strengths for the\n",
        "four mixing techniques. What are your conclusions?\n",
        "* Test the hypothesis that mixing techniques affect the\n",
        "strength of the cement. Use  $\\alpha = 0.05$.\n",
        "* Use the Fisher LSD method with  $\\alpha = 0.05$ to make\n",
        "comparisons between pairs of means.\n",
        "*  Construct a normal probability plot of the residuals.\n",
        "What conclusion would you draw about the validity of\n",
        "the normality assumption?\n",
        "*  Plot the residuals versus the predicted tensile strength. Comment on the plot.\n",
        "* Prepare a scatter plot of the results to aid the interpretation of the results of this experiment."
      ],
      "metadata": {
        "id": "FRkNu4f2AUf0"
      }
    },
    {
      "cell_type": "code",
      "source": [
        "# Read the data from the CSV file\n",
        "url = \"https://raw.githubusercontent.com/francji1/01NAEX/main/data/Ex03_7.csv\"\n",
        "Ex03_7 = pd.read_csv(url, sep=\";\")\n",
        "\n",
        "# Show the first few rows of the dataset\n",
        "#print(Ex03_7.head())\n",
        "# Show the structure of the dataset\n",
        "#print(Ex03_7.info())\n",
        "\n",
        "# Transform the data, renaming columns and converting Technique to a factor (category)\n",
        "data = Ex03_7.assign(\n",
        "    stren=Ex03_7['Tensile_Strength'],\n",
        "    tech=Ex03_7['Technique'].astype('category')\n",
        ")\n",
        "\n",
        "# Create the boxplot\n",
        "plt.figure(figsize=(8, 6))\n",
        "sns.boxplot(x='tech', y='stren', data=data)\n",
        "\n",
        "# Add the mean as a point on the plot\n",
        "sns.pointplot(x='tech', y='stren', data=data, join=False, color='red', markers='D', ci=None)\n",
        "\n",
        "# Show the plot\n",
        "plt.title(\"Tensile Strength by Technique\")\n",
        "plt.show()"
      ],
      "metadata": {
        "id": "9ueUdq8TmXWN"
      },
      "execution_count": null,
      "outputs": []
    },
    {
      "cell_type": "code",
      "source": [
        "# ANOVA - One-way\n",
        "# Formula: 'response_variable ~ explanatory_variable'\n",
        "anova_model = ols('stren ~ tech', data=data).fit()\n",
        "anova_table = sm.stats.anova_lm(anova_model, typ=2) #type 1,2,3, vygoogli si\n",
        "\n",
        "# Add the 'mean_sq' column by dividing 'sum_sq' by 'df'\n",
        "anova_table['mean_sq'] = anova_table['sum_sq'] / anova_table['df']\n",
        "\n",
        "\n",
        "\n",
        "mse = anova_table['mean_sq'][1]\n",
        "anova_table"
      ],
      "metadata": {
        "id": "oVOnUM0h9iby"
      },
      "execution_count": null,
      "outputs": []
    },
    {
      "cell_type": "code",
      "source": [
        "# Set your alpha level (e.g., 0.05)\n",
        "alpha = 0.05\n",
        "# Extract the p-value\n",
        "p_value = anova_table[\"PR(>F)\"][0]\n",
        "\n",
        "# Print out if the result is significant based on the alpha level\n",
        "if p_value < alpha:\n",
        "    print(f\"Since p-value = {p_value:.4f} is less than alpha = {alpha}, we reject the null hypothesis of equal means.\")\n",
        "else:\n",
        "    print(f\"Since p-value = {p_value:.4f} is greater than alpha = {alpha}, we fail to reject the null hypothesis.\")"
      ],
      "metadata": {
        "id": "GokRkjvvD4LU"
      },
      "execution_count": null,
      "outputs": []
    },
    {
      "cell_type": "code",
      "source": [
        "# ANOVA says that there is significant difference between the means -> time to do the pairwise comparisons between group means using Fisher's LSD.\n",
        "# Mean values of each group\n",
        "group_means = data.groupby('tech')['stren'].mean()\n",
        "print(group_means)\n",
        "\n",
        "# Number of observations per group\n",
        "group_sizes = data.groupby('tech').size()\n",
        "print(group_sizes)\n",
        "\n",
        "# Perform pairwise t-tests (Fisher's LSD)\n",
        "comparisons = []\n",
        "mean_diffs = []\n",
        "lsd_diffs = []\n",
        "\n",
        "group_means.index\n",
        "\n",
        "#alpha\n",
        "alpha = 0.05\n",
        "\n",
        "# Degrees of freedom\n",
        "n_total = len(data)\n",
        "n_groups = len(group_sizes)\n",
        "df_error = n_total - n_groups #degrees of freedom for the error N-a\n",
        "\n",
        "for i, tech1 in enumerate(group_means.index):\n",
        "      for tech2 in group_means.index[i+1:]:\n",
        "            mean_diff = abs(group_means[tech1] - group_means[tech2])\n",
        "\n",
        "            pooled_se = np.sqrt(mse * (1/group_sizes[tech1] + 1/group_sizes[tech2]))\n",
        "\n",
        "            # t-statistic\n",
        "            t_critical =  stats.t.ppf(1 - alpha/2, df_error)\n",
        "\n",
        "            #LSD\n",
        "            lsd = t_critical * pooled_se\n",
        "\n",
        "\n",
        "            # Calculate the p-value for the t-statistic\n",
        "            comparisons.append(f\"{tech1} vs {tech2}\")\n",
        "            mean_diffs.append(mean_diff)\n",
        "            lsd_diffs.append(lsd)\n",
        "\n",
        "            if mean_diff > lsd:\n",
        "                print(f\"Significant difference between {tech1} and {tech2}\")\n",
        "            else:\n",
        "                print(f\"No significant difference between {tech1} and {tech2}\")\n"
      ],
      "metadata": {
        "id": "gvg2RRs1EdSH"
      },
      "execution_count": null,
      "outputs": []
    },
    {
      "cell_type": "code",
      "source": [
        "# Obtain residuals from the model\n",
        "residuals = anova_model.resid\n",
        "\n",
        "# Q-Q plot of the residuals\n",
        "sm.qqplot(residuals, line = \"45\", fit = True)\n",
        "plt.title('Normal Q-Q Plot of Residuals')\n",
        "plt.show() #seems pretty okayyy"
      ],
      "metadata": {
        "id": "AmqtFt5lDttF"
      },
      "execution_count": null,
      "outputs": []
    },
    {
      "cell_type": "code",
      "source": [
        "fitted_values = anova_model.fittedvalues\n",
        "\n",
        "# Plot residuals versus fitted values\n",
        "plt.scatter(fitted_values, residuals)\n",
        "plt.axhline(0, color='red', linestyle='--', lw=2)\n",
        "plt.title('Residuals vs. Predicted Tensile Strength')\n",
        "plt.xlabel('Predicted Tensile Strength')\n",
        "plt.ylabel('Residuals')\n",
        "plt.show() #no transformations needed, we don't see any patterns, the plot is structureless"
      ],
      "metadata": {
        "id": "pJWHACBHCHCk"
      },
      "execution_count": null,
      "outputs": []
    },
    {
      "cell_type": "code",
      "source": [
        "# Create a scatter plot with a boxplot overlay\n",
        "plt.figure(figsize=(8,6))\n",
        "sns.stripplot(x='tech', y='stren', data=data, jitter=True, color='blue', alpha=0.7)\n",
        "sns.boxplot(x='tech', y='stren', data=data, showcaps=True, boxprops={'facecolor':'None'},\n",
        "            showfliers=False, whiskerprops={'linewidth':2})\n",
        "\n",
        "plt.title('Scatter Plot of Tensile Strength by Technique')\n",
        "plt.xlabel('Technique')\n",
        "plt.ylabel('Tensile Strength')\n",
        "plt.show()"
      ],
      "metadata": {
        "id": "_y2QABj4LqrG"
      },
      "execution_count": null,
      "outputs": []
    },
    {
      "cell_type": "markdown",
      "source": [
        "### Exercises 3.08 and 3.09\n",
        "\n",
        "Reconsider the experiment in Problem 3.07.\n",
        "\n",
        "* Rework part (3) of Problem 3.07 using Tukey’s test\twith \t$\\alpha = 0.05$. Do you get the same conclusions from Tukey’s test that you did from the graphical procedure and/or the Fisher LSD method?\n",
        "* Explain the difference between the Tukey and Fisher procedures.\n",
        "*Find a 95percent confidence interval on the mean tensile strength of the Portland cement produced by each of the four mixing techniques. Also find a 95 percent confidence interval on the difference in means for techniques 1 and 3. Does this aid you in interpreting the results of the experiment?"
      ],
      "metadata": {
        "id": "IN07KGKkNneS"
      }
    },
    {
      "cell_type": "code",
      "source": [
        "# Perform Tukey's HSD test for pairwise comparisons\n",
        "tukey_test = pairwise_tukeyhsd(endog=data['stren'],  # Dependent variable (Tensile Strength)\n",
        "                               groups=data['tech'],  # Independent variable (Technique)\n",
        "                               alpha=0.05)  # Significance level\n",
        "\n",
        "# Display Tukey's HSD test results\n",
        "print(tukey_test) # the conclusions are different"
      ],
      "metadata": {
        "id": "hClqDp_UNpTN"
      },
      "execution_count": null,
      "outputs": []
    },
    {
      "cell_type": "code",
      "source": [
        "# Explain the difference between the Tukey and Fisher procedures.\n",
        "import matplotlib.pyplot as plt\n",
        "import matplotlib.image as mpimg\n",
        "\n",
        "# Specify the path to your image file\n",
        "image_path = 'Fisher_vs_Tukey.png'\n",
        "\n",
        "# Load the image\n",
        "img = mpimg.imread(image_path)\n",
        "\n",
        "# Display the image\n",
        "plt.imshow(img)\n",
        "plt.axis('off')  # Hide axes"
      ],
      "metadata": {
        "id": "8xGixXbGUozA"
      },
      "execution_count": null,
      "outputs": []
    },
    {
      "cell_type": "code",
      "source": [
        "# Get the 95% confidence intervals for the mean tensile strength of each technique\n",
        "mean_ci = anova_model.get_prediction().summary_frame(alpha=0.05)\n",
        "print(mean_ci.iloc[[0, 4, 8,12]])\n",
        "\n",
        "# Extract predictions for each technique group mean\n",
        "group_means = data.groupby('tech')['stren'].mean()\n",
        "print(\"\\nGroup Means:\\n\", group_means)"
      ],
      "metadata": {
        "id": "c9dmmM5hQ8Rw"
      },
      "execution_count": null,
      "outputs": []
    },
    {
      "cell_type": "code",
      "source": [
        "# Perform Tukey's HSD test\n",
        "tukey = pairwise_tukeyhsd(endog=data['Tensile_Strength'], groups=data['Technique'], alpha=0.05)\n",
        "print(tukey)"
      ],
      "metadata": {
        "id": "rl36nI3gDRPO"
      },
      "execution_count": null,
      "outputs": []
    },
    {
      "cell_type": "code",
      "source": [
        "# Extract the Tukey HSD results\n",
        "means_diff = tukey.meandiffs  # Mean differences\n",
        "ci_lower = tukey.confint[:, 0]  # Lower bound of confidence intervals\n",
        "ci_upper = tukey.confint[:, 1]  # Upper bound of confidence intervals\n",
        "comparisons = tukey.summary().data[1:]  # Extract the group comparisons from the Tukey summary\n",
        "\n",
        "# Create a plot for confidence intervals of pairwise comparisons\n",
        "plt.figure(figsize=(10, 6))\n",
        "\n",
        "# Plot the confidence intervals as horizontal lines\n",
        "for i, (lower, upper) in enumerate(zip(ci_lower, ci_upper)):\n",
        "    plt.plot([lower, upper], [i, i], color='black')\n",
        "    plt.plot(means_diff[i], i, 'o', color='red')  # Plot the mean difference as a red point\n",
        "\n",
        "# Labeling the y-axis with the comparisons\n",
        "comparison_labels = [f\"{row[0]} - {row[1]}\" for row in comparisons]  # Create labels like \"180-160\"\n",
        "plt.yticks(np.arange(len(comparison_labels)), comparison_labels)\n",
        "\n",
        "# Add vertical line at 0 (no difference)\n",
        "plt.axvline(0, color='grey', linestyle='--')\n",
        "\n",
        "# Add labels and title\n",
        "plt.xlabel('Mean Difference with 95% CI')\n",
        "plt.title('Tukey HSD Confidence Intervals')\n",
        "\n",
        "# Show the plot\n",
        "plt.tight_layout()\n",
        "plt.show()"
      ],
      "metadata": {
        "id": "QMpK4YsID1j-"
      },
      "execution_count": null,
      "outputs": []
    },
    {
      "cell_type": "markdown",
      "source": [
        "### Exercises 3.10\n",
        "\n",
        "A product developer is investigating the tensile strength\n",
        "of a new synthetic fiber that will be used to make cloth for\n",
        "men’s shirts. Strength is usually affected by the percentage of\n",
        "cotton used in the blend of materials for the fiber. The engineer\n",
        "conducts a completely randomized experiment with five levels\n",
        "of cotton content and replicates the experiment five times.\n",
        "\n",
        "\n",
        "* Is there evidence to support the claim that cotton content\n",
        "affects the mean tensile strength? Use $\\alpha = 0.05$.\n",
        "* Use the Fisher LSD method to make comparisons\n",
        "between the pairs of means. What conclusions can you\n",
        "draw?\n",
        "* Analyze the residuals from this experiment and comment\n",
        "on model adequacy."
      ],
      "metadata": {
        "id": "KsVIF_vVFppF"
      }
    },
    {
      "cell_type": "code",
      "source": [
        "# Read the data from the CSV file\n",
        "url = \"https://raw.githubusercontent.com/francji1/01NAEX/main/data/Ex03_10.csv\"\n",
        "Ex03_10 = pd.read_csv(url, sep=\";\")\n",
        "\n",
        "Ex03_10.head()\n"
      ],
      "metadata": {
        "id": "efLkFHspFyqr"
      },
      "execution_count": null,
      "outputs": []
    },
    {
      "cell_type": "code",
      "source": [
        "# Transform the data\n",
        "data2 = Ex03_10.assign(\n",
        "    percentage=Ex03_10['Cotton_Weight '].astype('category'),  # Convert Cotton_Weight to categorical\n",
        "    strength=Ex03_10['Observations']                         # Keep the Observations column as 'strength'\n",
        ")"
      ],
      "metadata": {
        "id": "vd6HRnR_HNiJ"
      },
      "execution_count": null,
      "outputs": []
    },
    {
      "cell_type": "code",
      "source": [
        "# Create the boxplot\n",
        "plt.figure(figsize=(8, 6))\n",
        "sns.boxplot(x='percentage', y='strength', data=data2)\n",
        "\n",
        "# Add the mean as a point on the plot\n",
        "sns.pointplot(x='percentage', y='strength', data=data2, join=False, color='red', markers='D', ci=None)\n",
        "\n",
        "# Show the plot\n",
        "plt.title(\"Tensile Strength by Cotton levels\")\n",
        "plt.show()"
      ],
      "metadata": {
        "id": "V7WsPXC7Gt4a"
      },
      "execution_count": null,
      "outputs": []
    },
    {
      "cell_type": "code",
      "source": [
        "# ANOVA - One-way\n",
        "# Formula: 'response_variable ~ explanatory_variable'\n",
        "anova_model = ols('strength ~ percentage', data=data2).fit()\n",
        "anova_table = sm.stats.anova_lm(anova_model, typ=2) #type 1,2,3, vygoogli si\n",
        "\n",
        "# Add the 'mean_sq' column by dividing 'sum_sq' by 'df'\n",
        "anova_table['mean_sq'] = anova_table['sum_sq'] / anova_table['df']\n",
        "mse = anova_table['mean_sq'][1]\n",
        "\n",
        "anova_table"
      ],
      "metadata": {
        "id": "iAqA-I-OIXBK"
      },
      "execution_count": null,
      "outputs": []
    },
    {
      "cell_type": "code",
      "source": [
        "# Set your alpha level (e.g., 0.05)\n",
        "alpha = 0.05\n",
        "# Extract the p-value\n",
        "p_value = anova_table[\"PR(>F)\"][0]\n",
        "\n",
        "# Print out if the result is significant based on the alpha level\n",
        "if p_value < alpha:\n",
        "    print(f\"Since p-value = {p_value:.4f} is less than alpha = {alpha}, we reject the null hypothesis of equal means.\")\n",
        "else:\n",
        "    print(f\"Since p-value = {p_value:.4f} is greater than alpha = {alpha}, we fail to reject the null hypothesis.\")"
      ],
      "metadata": {
        "id": "Kpi-je_wLd_T"
      },
      "execution_count": null,
      "outputs": []
    },
    {
      "cell_type": "code",
      "source": [
        "# ANOVA says that there is significant difference between the means -> time to do the pairwise comparisons between group means using Fisher's LSD.\n",
        "# Mean values of each group\n",
        "group_means = data2.groupby('percentage')['strength'].mean()\n",
        "print(group_means)\n",
        "\n",
        "# Number of observations per group\n",
        "group_sizes = data2.groupby('percentage').size()\n",
        "print(group_sizes)\n",
        "\n",
        "# Perform pairwise t-tests (Fisher's LSD)\n",
        "comparisons = []\n",
        "mean_diffs = []\n",
        "lsd_diffs = []\n",
        "\n",
        "group_means.index\n",
        "\n",
        "#alpha\n",
        "alpha = 0.05\n",
        "\n",
        "# Degrees of freedom\n",
        "n_total = len(data2)\n",
        "n_groups = len(group_sizes)\n",
        "df_error = n_total - n_groups #degrees of freedom for the error N-a\n",
        "\n",
        "for i, tech1 in enumerate(group_means.index):\n",
        "      for tech2 in group_means.index[i+1:]:\n",
        "            mean_diff = abs(group_means[tech1] - group_means[tech2])\n",
        "\n",
        "            pooled_se = np.sqrt(mse * (1/group_sizes[tech1] + 1/group_sizes[tech2]))\n",
        "\n",
        "            # t-statistic\n",
        "            t_critical =  stats.t.ppf(1 - alpha/2, df_error)\n",
        "\n",
        "            #LSD\n",
        "            lsd = t_critical * pooled_se\n",
        "\n",
        "\n",
        "            # Calculate the p-value for the t-statistic\n",
        "            comparisons.append(f\"{tech1} vs {tech2}\")\n",
        "            mean_diffs.append(mean_diff)\n",
        "            lsd_diffs.append(lsd)\n",
        "\n",
        "            if mean_diff > lsd:\n",
        "                print(f\"Significant difference between {tech1} and {tech2}\")\n",
        "            else:\n",
        "                print(f\"No significant difference between {tech1} and {tech2}\")\n"
      ],
      "metadata": {
        "id": "vCQZE2O6MPM0"
      },
      "execution_count": null,
      "outputs": []
    },
    {
      "cell_type": "code",
      "source": [
        "# Obtain residuals from the model\n",
        "residuals = anova_model.resid\n",
        "\n",
        "# Q-Q plot of the residuals\n",
        "sm.qqplot(residuals, line = \"45\", fit = True)\n",
        "plt.title('Normal Q-Q Plot of Residuals')\n",
        "plt.show() #seems pretty okayyy"
      ],
      "metadata": {
        "id": "NH00Un5KNJmR"
      },
      "execution_count": null,
      "outputs": []
    },
    {
      "cell_type": "code",
      "source": [
        "fitted_values = anova_model.fittedvalues\n",
        "\n",
        "# Plot residuals versus fitted values\n",
        "plt.scatter(fitted_values, residuals)\n",
        "plt.axhline(0, color='red', linestyle='--', lw=2)\n",
        "plt.title('Residuals vs. Predicted Tensile Strength')\n",
        "plt.xlabel('Predicted Tensile Strength')\n",
        "plt.ylabel('Residuals')\n",
        "plt.show() #no transformations needed, we don't see any patterns, the plot is structureless"
      ],
      "metadata": {
        "id": "LwIjMCs6NSkW"
      },
      "execution_count": null,
      "outputs": []
    }
  ]
}