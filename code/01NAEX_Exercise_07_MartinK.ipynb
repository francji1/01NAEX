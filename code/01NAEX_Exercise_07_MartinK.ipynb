{
 "cells": [
  {
   "cell_type": "markdown",
   "metadata": {
    "colab_type": "text",
    "id": "view-in-github"
   },
   "source": [
    "<a href=\"https://colab.research.google.com/github/francji1/01NAEX/blob/main/code/01NAEX_Exercise_07.ipynb\" target=\"_parent\"><img src=\"https://colab.research.google.com/assets/colab-badge.svg\" alt=\"Open In Colab\"/></a>"
   ]
  },
  {
   "cell_type": "markdown",
   "metadata": {
    "id": "SJRUeUJPrezp"
   },
   "source": [
    "\n",
    "# O1NAEX Exercise 07"
   ]
  },
  {
   "cell_type": "markdown",
   "metadata": {
    "id": "cfc40031"
   },
   "source": [
    "## Problem 6.31 + 6.32\n",
    "\n",
    "from the chapter 6, D. C. Montgomery DAoE - 8. edition.\n",
    "\n",
    "An experiment was conducted on a chemical process that produces a\n",
    "polymer. The four factors studied were temperature (A), catalyst\n",
    "concentration (B), time (C), and pressure (D). Two responses, molecular\n",
    "weight and viscosity, were observed. The design matrix and response data\n",
    "are following:"
   ]
  },
  {
   "cell_type": "code",
   "execution_count": 193,
   "metadata": {
    "id": "XkkKD7h88ztb"
   },
   "outputs": [],
   "source": [
    "# !pip install pyDOE3"
   ]
  },
  {
   "cell_type": "code",
   "execution_count": 194,
   "metadata": {
    "id": "ADLJuBchGazL"
   },
   "outputs": [
    {
     "data": {
      "text/html": [
       "<div>\n",
       "<style scoped>\n",
       "    .dataframe tbody tr th:only-of-type {\n",
       "        vertical-align: middle;\n",
       "    }\n",
       "\n",
       "    .dataframe tbody tr th {\n",
       "        vertical-align: top;\n",
       "    }\n",
       "\n",
       "    .dataframe thead th {\n",
       "        text-align: right;\n",
       "    }\n",
       "</style>\n",
       "<table border=\"1\" class=\"dataframe\">\n",
       "  <thead>\n",
       "    <tr style=\"text-align: right;\">\n",
       "      <th></th>\n",
       "      <th>Temperature</th>\n",
       "      <th>Concentration</th>\n",
       "      <th>Time</th>\n",
       "      <th>Pressure</th>\n",
       "      <th>Weight</th>\n",
       "      <th>Viscosity</th>\n",
       "    </tr>\n",
       "  </thead>\n",
       "  <tbody>\n",
       "    <tr>\n",
       "      <th>0</th>\n",
       "      <td>100</td>\n",
       "      <td>4</td>\n",
       "      <td>20</td>\n",
       "      <td>60.0</td>\n",
       "      <td>2400</td>\n",
       "      <td>1400</td>\n",
       "    </tr>\n",
       "    <tr>\n",
       "      <th>1</th>\n",
       "      <td>120</td>\n",
       "      <td>4</td>\n",
       "      <td>20</td>\n",
       "      <td>60.0</td>\n",
       "      <td>2410</td>\n",
       "      <td>1500</td>\n",
       "    </tr>\n",
       "    <tr>\n",
       "      <th>2</th>\n",
       "      <td>100</td>\n",
       "      <td>8</td>\n",
       "      <td>20</td>\n",
       "      <td>60.0</td>\n",
       "      <td>2315</td>\n",
       "      <td>1520</td>\n",
       "    </tr>\n",
       "    <tr>\n",
       "      <th>3</th>\n",
       "      <td>120</td>\n",
       "      <td>8</td>\n",
       "      <td>20</td>\n",
       "      <td>60.0</td>\n",
       "      <td>2510</td>\n",
       "      <td>1630</td>\n",
       "    </tr>\n",
       "    <tr>\n",
       "      <th>4</th>\n",
       "      <td>100</td>\n",
       "      <td>4</td>\n",
       "      <td>30</td>\n",
       "      <td>60.0</td>\n",
       "      <td>2615</td>\n",
       "      <td>1380</td>\n",
       "    </tr>\n",
       "  </tbody>\n",
       "</table>\n",
       "</div>"
      ],
      "text/plain": [
       "   Temperature  Concentration  Time  Pressure  Weight  Viscosity\n",
       "0          100              4    20      60.0    2400       1400\n",
       "1          120              4    20      60.0    2410       1500\n",
       "2          100              8    20      60.0    2315       1520\n",
       "3          120              8    20      60.0    2510       1630\n",
       "4          100              4    30      60.0    2615       1380"
      ]
     },
     "execution_count": 194,
     "metadata": {},
     "output_type": "execute_result"
    }
   ],
   "source": [
    "from pyDOE3 import ff2n\n",
    "import pandas as pd\n",
    "import numpy as np\n",
    "import statsmodels.formula.api as smf\n",
    "from scipy import stats\n",
    "import matplotlib.pyplot as plt\n",
    "import statsmodels.api as sm\n",
    "import seaborn as sns\n",
    "from matplotlib import cm\n",
    "\n",
    "df631 = pd.read_csv(\"https://raw.githubusercontent.com/francji1/01NAEX/main/data/Problem_6_31.txt\", sep=\";\")\n",
    "df631.head()"
   ]
  },
  {
   "cell_type": "code",
   "execution_count": 195,
   "metadata": {},
   "outputs": [
    {
     "name": "stdout",
     "output_type": "stream",
     "text": [
      "Response names: ['Weight', 'Viscosity']\n",
      "      A    B    C    D  Weight  Viscosity\n",
      "0  -1.0 -1.0 -1.0 -1.0    2400       1400\n",
      "1   1.0 -1.0 -1.0 -1.0    2410       1500\n",
      "2  -1.0  1.0 -1.0 -1.0    2315       1520\n",
      "3   1.0  1.0 -1.0 -1.0    2510       1630\n",
      "4  -1.0 -1.0  1.0 -1.0    2615       1380\n",
      "5   1.0 -1.0  1.0 -1.0    2625       1525\n",
      "6  -1.0  1.0  1.0 -1.0    2400       1500\n",
      "7   1.0  1.0  1.0 -1.0    2750       1620\n",
      "8  -1.0 -1.0 -1.0  1.0    2400       1400\n",
      "9   1.0 -1.0 -1.0  1.0    2390       1525\n",
      "10 -1.0  1.0 -1.0  1.0    2300       1500\n",
      "11  1.0  1.0 -1.0  1.0    2520       1500\n",
      "12 -1.0 -1.0  1.0  1.0    2625       1420\n",
      "13  1.0 -1.0  1.0  1.0    2630       1490\n",
      "14 -1.0  1.0  1.0  1.0    2500       1500\n",
      "15  1.0  1.0  1.0  1.0    2710       1600\n"
     ]
    }
   ],
   "source": [
    "m = ff2n(4)\n",
    "m = m[:, ::-1]\n",
    "\n",
    "m_df = pd.DataFrame(m, columns=[\"A\", \"B\", \"C\", \"D\"])\n",
    "Weight = df631.loc[0:15, \"Weight\"].values\n",
    "Viscosity = df631.loc[0:15, \"Viscosity\"].values\n",
    "m_df['Weight'] = Weight\n",
    "m_df['Viscosity'] = Viscosity\n",
    "response_names = m_df.columns[-2:].tolist()\n",
    "\n",
    "print(\"Response names:\", response_names)\n",
    "print(m_df)"
   ]
  },
  {
   "cell_type": "code",
   "execution_count": 196,
   "metadata": {
    "id": "NxE90Ksc9Pzi"
   },
   "outputs": [
    {
     "data": {
      "text/html": [
       "<div>\n",
       "<style scoped>\n",
       "    .dataframe tbody tr th:only-of-type {\n",
       "        vertical-align: middle;\n",
       "    }\n",
       "\n",
       "    .dataframe tbody tr th {\n",
       "        vertical-align: top;\n",
       "    }\n",
       "\n",
       "    .dataframe thead th {\n",
       "        text-align: right;\n",
       "    }\n",
       "</style>\n",
       "<table border=\"1\" class=\"dataframe\">\n",
       "  <thead>\n",
       "    <tr style=\"text-align: right;\">\n",
       "      <th></th>\n",
       "      <th>Aperture</th>\n",
       "      <th>ExposureTime</th>\n",
       "      <th>DevelopTime</th>\n",
       "      <th>MaskDimension</th>\n",
       "      <th>EtchTime</th>\n",
       "      <th>Yield</th>\n",
       "    </tr>\n",
       "  </thead>\n",
       "  <tbody>\n",
       "    <tr>\n",
       "      <th>0</th>\n",
       "      <td>small</td>\n",
       "      <td>-20</td>\n",
       "      <td>30.0</td>\n",
       "      <td>Small</td>\n",
       "      <td>14.5</td>\n",
       "      <td>7</td>\n",
       "    </tr>\n",
       "    <tr>\n",
       "      <th>1</th>\n",
       "      <td>large</td>\n",
       "      <td>-20</td>\n",
       "      <td>30.0</td>\n",
       "      <td>Small</td>\n",
       "      <td>14.5</td>\n",
       "      <td>9</td>\n",
       "    </tr>\n",
       "    <tr>\n",
       "      <th>2</th>\n",
       "      <td>small</td>\n",
       "      <td>20</td>\n",
       "      <td>30.0</td>\n",
       "      <td>Small</td>\n",
       "      <td>14.5</td>\n",
       "      <td>34</td>\n",
       "    </tr>\n",
       "    <tr>\n",
       "      <th>3</th>\n",
       "      <td>large</td>\n",
       "      <td>20</td>\n",
       "      <td>30.0</td>\n",
       "      <td>Small</td>\n",
       "      <td>14.5</td>\n",
       "      <td>55</td>\n",
       "    </tr>\n",
       "    <tr>\n",
       "      <th>4</th>\n",
       "      <td>small</td>\n",
       "      <td>-20</td>\n",
       "      <td>45.0</td>\n",
       "      <td>Small</td>\n",
       "      <td>14.5</td>\n",
       "      <td>16</td>\n",
       "    </tr>\n",
       "  </tbody>\n",
       "</table>\n",
       "</div>"
      ],
      "text/plain": [
       "  Aperture  ExposureTime  DevelopTime MaskDimension  EtchTime  Yield\n",
       "0    small           -20         30.0         Small      14.5      7\n",
       "1    large           -20         30.0         Small      14.5      9\n",
       "2    small            20         30.0         Small      14.5     34\n",
       "3    large            20         30.0         Small      14.5     55\n",
       "4    small           -20         45.0         Small      14.5     16"
      ]
     },
     "execution_count": 196,
     "metadata": {},
     "output_type": "execute_result"
    }
   ],
   "source": [
    "df626 = pd.read_csv(\"https://raw.githubusercontent.com/francji1/01NAEX/main/data/Ex06_26.csv\", sep=\";\")\n",
    "df626.head()"
   ]
  },
  {
   "cell_type": "markdown",
   "metadata": {
    "id": "_lYQT0wrrb3V"
   },
   "source": [
    "##\tProblems 6.26 and 6.27 and 7.7\n",
    "from the chapters 6 and 7, D. C. Montgomery DAoE - 8. edition.\n",
    "\n",
    "An experiment was run in a semiconductor fabrication plant in an effort to increase yield. Five factors, each at two levels, were studied. The factors (and levels) were \n",
    "+ A = aperture setting (small, large),\n",
    "+ B = exposure time (20% below nominal, 20% above nominal),\n",
    "+ C = development time (30 and 45 s),\n",
    "+ D = mask dimension (small, large), and\n",
    "+ E = etch time (14.5 and 15.5min).\n",
    "\n",
    "The unreplicated $2^5$ design shown below was run."
   ]
  },
  {
   "cell_type": "code",
   "execution_count": 197,
   "metadata": {
    "id": "fxD9HMoPrbHg"
   },
   "outputs": [],
   "source": [
    "import pandas as pd\n",
    "\n",
    "# Define new column names\n",
    "new_column_names = [\"A\", \"B\", \"C\", \"D\", \"E\"]\n",
    "\n",
    "# Rename columns\n",
    "df626.rename(columns=dict(zip(df626.columns, new_column_names)), inplace=True)\n"
   ]
  },
  {
   "cell_type": "code",
   "execution_count": 198,
   "metadata": {},
   "outputs": [
    {
     "data": {
      "text/html": [
       "<div>\n",
       "<style scoped>\n",
       "    .dataframe tbody tr th:only-of-type {\n",
       "        vertical-align: middle;\n",
       "    }\n",
       "\n",
       "    .dataframe tbody tr th {\n",
       "        vertical-align: top;\n",
       "    }\n",
       "\n",
       "    .dataframe thead th {\n",
       "        text-align: right;\n",
       "    }\n",
       "</style>\n",
       "<table border=\"1\" class=\"dataframe\">\n",
       "  <thead>\n",
       "    <tr style=\"text-align: right;\">\n",
       "      <th></th>\n",
       "      <th>A</th>\n",
       "      <th>B</th>\n",
       "      <th>C</th>\n",
       "      <th>D</th>\n",
       "      <th>E</th>\n",
       "      <th>Yield</th>\n",
       "    </tr>\n",
       "  </thead>\n",
       "  <tbody>\n",
       "    <tr>\n",
       "      <th>0</th>\n",
       "      <td>-1.0</td>\n",
       "      <td>-1.0</td>\n",
       "      <td>-1.0</td>\n",
       "      <td>-1.0</td>\n",
       "      <td>-1.0</td>\n",
       "      <td>7</td>\n",
       "    </tr>\n",
       "    <tr>\n",
       "      <th>1</th>\n",
       "      <td>1.0</td>\n",
       "      <td>-1.0</td>\n",
       "      <td>-1.0</td>\n",
       "      <td>-1.0</td>\n",
       "      <td>-1.0</td>\n",
       "      <td>9</td>\n",
       "    </tr>\n",
       "    <tr>\n",
       "      <th>2</th>\n",
       "      <td>-1.0</td>\n",
       "      <td>-1.0</td>\n",
       "      <td>-1.0</td>\n",
       "      <td>-1.0</td>\n",
       "      <td>-1.0</td>\n",
       "      <td>34</td>\n",
       "    </tr>\n",
       "    <tr>\n",
       "      <th>3</th>\n",
       "      <td>1.0</td>\n",
       "      <td>-1.0</td>\n",
       "      <td>-1.0</td>\n",
       "      <td>-1.0</td>\n",
       "      <td>-1.0</td>\n",
       "      <td>55</td>\n",
       "    </tr>\n",
       "    <tr>\n",
       "      <th>4</th>\n",
       "      <td>-1.0</td>\n",
       "      <td>-1.0</td>\n",
       "      <td>-1.0</td>\n",
       "      <td>-1.0</td>\n",
       "      <td>-1.0</td>\n",
       "      <td>16</td>\n",
       "    </tr>\n",
       "  </tbody>\n",
       "</table>\n",
       "</div>"
      ],
      "text/plain": [
       "     A    B    C    D    E  Yield\n",
       "0 -1.0 -1.0 -1.0 -1.0 -1.0      7\n",
       "1  1.0 -1.0 -1.0 -1.0 -1.0      9\n",
       "2 -1.0 -1.0 -1.0 -1.0 -1.0     34\n",
       "3  1.0 -1.0 -1.0 -1.0 -1.0     55\n",
       "4 -1.0 -1.0 -1.0 -1.0 -1.0     16"
      ]
     },
     "execution_count": 198,
     "metadata": {},
     "output_type": "execute_result"
    }
   ],
   "source": [
    "df626_df.head()"
   ]
  },
  {
   "cell_type": "code",
   "execution_count": 199,
   "metadata": {
    "scrolled": true
   },
   "outputs": [
    {
     "name": "stdout",
     "output_type": "stream",
     "text": [
      "<class 'pandas.core.frame.DataFrame'>\n",
      "RangeIndex: 36 entries, 0 to 35\n",
      "Data columns (total 6 columns):\n",
      " #   Column  Non-Null Count  Dtype   \n",
      "---  ------  --------------  -----   \n",
      " 0   A       36 non-null     category\n",
      " 1   B       36 non-null     category\n",
      " 2   C       36 non-null     category\n",
      " 3   D       36 non-null     category\n",
      " 4   E       36 non-null     category\n",
      " 5   Yield   36 non-null     int64   \n",
      "dtypes: category(5), int64(1)\n",
      "memory usage: 1.2 KB\n"
     ]
    }
   ],
   "source": [
    "pd.set_option('future.no_silent_downcasting', True)\n",
    "\n",
    "# Rename variable values\n",
    "df626[\"B\"] = df626[\"B\"].apply(lambda x: -1.0 if x < 15 else 1.0)\n",
    "df626[\"E\"] = df626[\"E\"].apply(lambda x: -1.0 if x < 15 else 1.0)\n",
    "df626[\"C\"] = df626[\"C\"].apply(lambda x: -1.0 if x < 40 else 1.0)\n",
    "\n",
    "df626[\"A\"] = df626[\"A\"].replace({\"small\": -1.0, \"large\": 1.0}).infer_objects(copy=False)\n",
    "df626[\"D\"] = df626[\"D\"].replace({\"Small\": -1.0, \"Large\": 1.0}).infer_objects(copy=False)\n",
    "\n",
    "# Change data types to categorical\n",
    "df626[new_column_names] = df626[new_column_names].astype(\"category\")\n",
    "\n",
    "# View the renamed dataframe\n",
    "df626.info()"
   ]
  },
  {
   "cell_type": "code",
   "execution_count": 200,
   "metadata": {},
   "outputs": [
    {
     "data": {
      "text/html": [
       "<div>\n",
       "<style scoped>\n",
       "    .dataframe tbody tr th:only-of-type {\n",
       "        vertical-align: middle;\n",
       "    }\n",
       "\n",
       "    .dataframe tbody tr th {\n",
       "        vertical-align: top;\n",
       "    }\n",
       "\n",
       "    .dataframe thead th {\n",
       "        text-align: right;\n",
       "    }\n",
       "</style>\n",
       "<table border=\"1\" class=\"dataframe\">\n",
       "  <thead>\n",
       "    <tr style=\"text-align: right;\">\n",
       "      <th></th>\n",
       "      <th>A</th>\n",
       "      <th>B</th>\n",
       "      <th>C</th>\n",
       "      <th>D</th>\n",
       "      <th>E</th>\n",
       "      <th>Yield</th>\n",
       "    </tr>\n",
       "  </thead>\n",
       "  <tbody>\n",
       "    <tr>\n",
       "      <th>0</th>\n",
       "      <td>-1.0</td>\n",
       "      <td>-1.0</td>\n",
       "      <td>-1.0</td>\n",
       "      <td>-1.0</td>\n",
       "      <td>-1.0</td>\n",
       "      <td>7</td>\n",
       "    </tr>\n",
       "    <tr>\n",
       "      <th>1</th>\n",
       "      <td>1.0</td>\n",
       "      <td>-1.0</td>\n",
       "      <td>-1.0</td>\n",
       "      <td>-1.0</td>\n",
       "      <td>-1.0</td>\n",
       "      <td>9</td>\n",
       "    </tr>\n",
       "    <tr>\n",
       "      <th>2</th>\n",
       "      <td>-1.0</td>\n",
       "      <td>1.0</td>\n",
       "      <td>-1.0</td>\n",
       "      <td>-1.0</td>\n",
       "      <td>-1.0</td>\n",
       "      <td>34</td>\n",
       "    </tr>\n",
       "    <tr>\n",
       "      <th>3</th>\n",
       "      <td>1.0</td>\n",
       "      <td>1.0</td>\n",
       "      <td>-1.0</td>\n",
       "      <td>-1.0</td>\n",
       "      <td>-1.0</td>\n",
       "      <td>55</td>\n",
       "    </tr>\n",
       "    <tr>\n",
       "      <th>4</th>\n",
       "      <td>-1.0</td>\n",
       "      <td>-1.0</td>\n",
       "      <td>1.0</td>\n",
       "      <td>-1.0</td>\n",
       "      <td>-1.0</td>\n",
       "      <td>16</td>\n",
       "    </tr>\n",
       "  </tbody>\n",
       "</table>\n",
       "</div>"
      ],
      "text/plain": [
       "     A    B    C    D    E  Yield\n",
       "0 -1.0 -1.0 -1.0 -1.0 -1.0      7\n",
       "1  1.0 -1.0 -1.0 -1.0 -1.0      9\n",
       "2 -1.0  1.0 -1.0 -1.0 -1.0     34\n",
       "3  1.0  1.0 -1.0 -1.0 -1.0     55\n",
       "4 -1.0 -1.0  1.0 -1.0 -1.0     16"
      ]
     },
     "execution_count": 200,
     "metadata": {},
     "output_type": "execute_result"
    }
   ],
   "source": [
    "df626.head()"
   ]
  },
  {
   "cell_type": "code",
   "execution_count": 201,
   "metadata": {},
   "outputs": [],
   "source": [
    "df626_cp = df626.iloc[-4:] # Center points\n",
    "df626_df = df626.iloc[:-4] # Working points"
   ]
  },
  {
   "cell_type": "markdown",
   "metadata": {
    "id": "dbEJmeh3zNWJ"
   },
   "source": [
    "---\n",
    "**a) Construct a normal probability plot of the effect estimates.\n",
    "Which effects appear to be large?**\n",
    "\n",
    "---"
   ]
  },
  {
   "cell_type": "code",
   "execution_count": 202,
   "metadata": {
    "id": "2F26bckauxvB"
   },
   "outputs": [
    {
     "data": {
      "text/html": [
       "<table class=\"simpletable\">\n",
       "<caption>OLS Regression Results</caption>\n",
       "<tr>\n",
       "  <th>Dep. Variable:</th>          <td>Yield</td>      <th>  R-squared:         </th> <td>   0.997</td>\n",
       "</tr>\n",
       "<tr>\n",
       "  <th>Model:</th>                   <td>OLS</td>       <th>  Adj. R-squared:    </th> <td>   0.993</td>\n",
       "</tr>\n",
       "<tr>\n",
       "  <th>Method:</th>             <td>Least Squares</td>  <th>  F-statistic:       </th> <td>   311.9</td>\n",
       "</tr>\n",
       "<tr>\n",
       "  <th>Date:</th>             <td>Tue, 19 Nov 2024</td> <th>  Prob (F-statistic):</th> <td>7.92e-17</td>\n",
       "</tr>\n",
       "<tr>\n",
       "  <th>Time:</th>                 <td>00:00:36</td>     <th>  Log-Likelihood:    </th> <td> -48.876</td>\n",
       "</tr>\n",
       "<tr>\n",
       "  <th>No. Observations:</th>      <td>    32</td>      <th>  AIC:               </th> <td>   129.8</td>\n",
       "</tr>\n",
       "<tr>\n",
       "  <th>Df Residuals:</th>          <td>    16</td>      <th>  BIC:               </th> <td>   153.2</td>\n",
       "</tr>\n",
       "<tr>\n",
       "  <th>Df Model:</th>              <td>    15</td>      <th>                     </th>     <td> </td>   \n",
       "</tr>\n",
       "<tr>\n",
       "  <th>Covariance Type:</th>      <td>nonrobust</td>    <th>                     </th>     <td> </td>   \n",
       "</tr>\n",
       "</table>\n",
       "<table class=\"simpletable\">\n",
       "<tr>\n",
       "      <td></td>         <th>coef</th>     <th>std err</th>      <th>t</th>      <th>P>|t|</th>  <th>[0.025</th>    <th>0.975]</th>  \n",
       "</tr>\n",
       "<tr>\n",
       "  <th>Intercept</th> <td>    7.5625</td> <td>    1.115</td> <td>    6.785</td> <td> 0.000</td> <td>    5.200</td> <td>    9.925</td>\n",
       "</tr>\n",
       "<tr>\n",
       "  <th>A</th>         <td>    2.5625</td> <td>    1.246</td> <td>    2.056</td> <td> 0.056</td> <td>   -0.079</td> <td>    5.204</td>\n",
       "</tr>\n",
       "<tr>\n",
       "  <th>B</th>         <td>   26.0625</td> <td>    1.246</td> <td>   20.915</td> <td> 0.000</td> <td>   23.421</td> <td>   28.704</td>\n",
       "</tr>\n",
       "<tr>\n",
       "  <th>C</th>         <td>    8.0625</td> <td>    1.246</td> <td>    6.470</td> <td> 0.000</td> <td>    5.421</td> <td>   10.704</td>\n",
       "</tr>\n",
       "<tr>\n",
       "  <th>D</th>         <td>    0.3125</td> <td>    1.246</td> <td>    0.251</td> <td> 0.805</td> <td>   -2.329</td> <td>    2.954</td>\n",
       "</tr>\n",
       "<tr>\n",
       "  <th>E</th>         <td>   -0.1875</td> <td>    1.246</td> <td>   -0.150</td> <td> 0.882</td> <td>   -2.829</td> <td>    2.454</td>\n",
       "</tr>\n",
       "<tr>\n",
       "  <th>A:B</th>       <td>   15.8750</td> <td>    1.115</td> <td>   14.244</td> <td> 0.000</td> <td>   13.512</td> <td>   18.238</td>\n",
       "</tr>\n",
       "<tr>\n",
       "  <th>A:C</th>       <td>    0.8750</td> <td>    1.115</td> <td>    0.785</td> <td> 0.444</td> <td>   -1.488</td> <td>    3.238</td>\n",
       "</tr>\n",
       "<tr>\n",
       "  <th>A:D</th>       <td>   -0.1250</td> <td>    1.115</td> <td>   -0.112</td> <td> 0.912</td> <td>   -2.488</td> <td>    2.238</td>\n",
       "</tr>\n",
       "<tr>\n",
       "  <th>A:E</th>       <td>    1.8750</td> <td>    1.115</td> <td>    1.682</td> <td> 0.112</td> <td>   -0.488</td> <td>    4.238</td>\n",
       "</tr>\n",
       "<tr>\n",
       "  <th>B:C</th>       <td>    0.1250</td> <td>    1.115</td> <td>    0.112</td> <td> 0.912</td> <td>   -2.238</td> <td>    2.488</td>\n",
       "</tr>\n",
       "<tr>\n",
       "  <th>B:D</th>       <td>   -1.3750</td> <td>    1.115</td> <td>   -1.234</td> <td> 0.235</td> <td>   -3.738</td> <td>    0.988</td>\n",
       "</tr>\n",
       "<tr>\n",
       "  <th>B:E</th>       <td>    1.1250</td> <td>    1.115</td> <td>    1.009</td> <td> 0.328</td> <td>   -1.238</td> <td>    3.488</td>\n",
       "</tr>\n",
       "<tr>\n",
       "  <th>C:D</th>       <td>    1.6250</td> <td>    1.115</td> <td>    1.458</td> <td> 0.164</td> <td>   -0.738</td> <td>    3.988</td>\n",
       "</tr>\n",
       "<tr>\n",
       "  <th>C:E</th>       <td>    0.6250</td> <td>    1.115</td> <td>    0.561</td> <td> 0.583</td> <td>   -1.738</td> <td>    2.988</td>\n",
       "</tr>\n",
       "<tr>\n",
       "  <th>D:E</th>       <td>   -2.3750</td> <td>    1.115</td> <td>   -2.131</td> <td> 0.049</td> <td>   -4.738</td> <td>   -0.012</td>\n",
       "</tr>\n",
       "</table>\n",
       "<table class=\"simpletable\">\n",
       "<tr>\n",
       "  <th>Omnibus:</th>       <td> 1.838</td> <th>  Durbin-Watson:     </th> <td>   1.828</td>\n",
       "</tr>\n",
       "<tr>\n",
       "  <th>Prob(Omnibus):</th> <td> 0.399</td> <th>  Jarque-Bera (JB):  </th> <td>   0.767</td>\n",
       "</tr>\n",
       "<tr>\n",
       "  <th>Skew:</th>          <td> 0.078</td> <th>  Prob(JB):          </th> <td>   0.681</td>\n",
       "</tr>\n",
       "<tr>\n",
       "  <th>Kurtosis:</th>      <td> 3.742</td> <th>  Cond. No.          </th> <td>    14.7</td>\n",
       "</tr>\n",
       "</table><br/><br/>Notes:<br/>[1] Standard Errors assume that the covariance matrix of the errors is correctly specified."
      ],
      "text/latex": [
       "\\begin{center}\n",
       "\\begin{tabular}{lclc}\n",
       "\\toprule\n",
       "\\textbf{Dep. Variable:}    &      Yield       & \\textbf{  R-squared:         } &     0.997   \\\\\n",
       "\\textbf{Model:}            &       OLS        & \\textbf{  Adj. R-squared:    } &     0.993   \\\\\n",
       "\\textbf{Method:}           &  Least Squares   & \\textbf{  F-statistic:       } &     311.9   \\\\\n",
       "\\textbf{Date:}             & Tue, 19 Nov 2024 & \\textbf{  Prob (F-statistic):} &  7.92e-17   \\\\\n",
       "\\textbf{Time:}             &     00:00:36     & \\textbf{  Log-Likelihood:    } &   -48.876   \\\\\n",
       "\\textbf{No. Observations:} &          32      & \\textbf{  AIC:               } &     129.8   \\\\\n",
       "\\textbf{Df Residuals:}     &          16      & \\textbf{  BIC:               } &     153.2   \\\\\n",
       "\\textbf{Df Model:}         &          15      & \\textbf{                     } &             \\\\\n",
       "\\textbf{Covariance Type:}  &    nonrobust     & \\textbf{                     } &             \\\\\n",
       "\\bottomrule\n",
       "\\end{tabular}\n",
       "\\begin{tabular}{lcccccc}\n",
       "                   & \\textbf{coef} & \\textbf{std err} & \\textbf{t} & \\textbf{P$> |$t$|$} & \\textbf{[0.025} & \\textbf{0.975]}  \\\\\n",
       "\\midrule\n",
       "\\textbf{Intercept} &       7.5625  &        1.115     &     6.785  &         0.000        &        5.200    &        9.925     \\\\\n",
       "\\textbf{A}         &       2.5625  &        1.246     &     2.056  &         0.056        &       -0.079    &        5.204     \\\\\n",
       "\\textbf{B}         &      26.0625  &        1.246     &    20.915  &         0.000        &       23.421    &       28.704     \\\\\n",
       "\\textbf{C}         &       8.0625  &        1.246     &     6.470  &         0.000        &        5.421    &       10.704     \\\\\n",
       "\\textbf{D}         &       0.3125  &        1.246     &     0.251  &         0.805        &       -2.329    &        2.954     \\\\\n",
       "\\textbf{E}         &      -0.1875  &        1.246     &    -0.150  &         0.882        &       -2.829    &        2.454     \\\\\n",
       "\\textbf{A:B}       &      15.8750  &        1.115     &    14.244  &         0.000        &       13.512    &       18.238     \\\\\n",
       "\\textbf{A:C}       &       0.8750  &        1.115     &     0.785  &         0.444        &       -1.488    &        3.238     \\\\\n",
       "\\textbf{A:D}       &      -0.1250  &        1.115     &    -0.112  &         0.912        &       -2.488    &        2.238     \\\\\n",
       "\\textbf{A:E}       &       1.8750  &        1.115     &     1.682  &         0.112        &       -0.488    &        4.238     \\\\\n",
       "\\textbf{B:C}       &       0.1250  &        1.115     &     0.112  &         0.912        &       -2.238    &        2.488     \\\\\n",
       "\\textbf{B:D}       &      -1.3750  &        1.115     &    -1.234  &         0.235        &       -3.738    &        0.988     \\\\\n",
       "\\textbf{B:E}       &       1.1250  &        1.115     &     1.009  &         0.328        &       -1.238    &        3.488     \\\\\n",
       "\\textbf{C:D}       &       1.6250  &        1.115     &     1.458  &         0.164        &       -0.738    &        3.988     \\\\\n",
       "\\textbf{C:E}       &       0.6250  &        1.115     &     0.561  &         0.583        &       -1.738    &        2.988     \\\\\n",
       "\\textbf{D:E}       &      -2.3750  &        1.115     &    -2.131  &         0.049        &       -4.738    &       -0.012     \\\\\n",
       "\\bottomrule\n",
       "\\end{tabular}\n",
       "\\begin{tabular}{lclc}\n",
       "\\textbf{Omnibus:}       &  1.838 & \\textbf{  Durbin-Watson:     } &    1.828  \\\\\n",
       "\\textbf{Prob(Omnibus):} &  0.399 & \\textbf{  Jarque-Bera (JB):  } &    0.767  \\\\\n",
       "\\textbf{Skew:}          &  0.078 & \\textbf{  Prob(JB):          } &    0.681  \\\\\n",
       "\\textbf{Kurtosis:}      &  3.742 & \\textbf{  Cond. No.          } &     14.7  \\\\\n",
       "\\bottomrule\n",
       "\\end{tabular}\n",
       "%\\caption{OLS Regression Results}\n",
       "\\end{center}\n",
       "\n",
       "Notes: \\newline\n",
       " [1] Standard Errors assume that the covariance matrix of the errors is correctly specified."
      ],
      "text/plain": [
       "<class 'statsmodels.iolib.summary.Summary'>\n",
       "\"\"\"\n",
       "                            OLS Regression Results                            \n",
       "==============================================================================\n",
       "Dep. Variable:                  Yield   R-squared:                       0.997\n",
       "Model:                            OLS   Adj. R-squared:                  0.993\n",
       "Method:                 Least Squares   F-statistic:                     311.9\n",
       "Date:                Tue, 19 Nov 2024   Prob (F-statistic):           7.92e-17\n",
       "Time:                        00:00:36   Log-Likelihood:                -48.876\n",
       "No. Observations:                  32   AIC:                             129.8\n",
       "Df Residuals:                      16   BIC:                             153.2\n",
       "Df Model:                          15                                         \n",
       "Covariance Type:            nonrobust                                         \n",
       "==============================================================================\n",
       "                 coef    std err          t      P>|t|      [0.025      0.975]\n",
       "------------------------------------------------------------------------------\n",
       "Intercept      7.5625      1.115      6.785      0.000       5.200       9.925\n",
       "A              2.5625      1.246      2.056      0.056      -0.079       5.204\n",
       "B             26.0625      1.246     20.915      0.000      23.421      28.704\n",
       "C              8.0625      1.246      6.470      0.000       5.421      10.704\n",
       "D              0.3125      1.246      0.251      0.805      -2.329       2.954\n",
       "E             -0.1875      1.246     -0.150      0.882      -2.829       2.454\n",
       "A:B           15.8750      1.115     14.244      0.000      13.512      18.238\n",
       "A:C            0.8750      1.115      0.785      0.444      -1.488       3.238\n",
       "A:D           -0.1250      1.115     -0.112      0.912      -2.488       2.238\n",
       "A:E            1.8750      1.115      1.682      0.112      -0.488       4.238\n",
       "B:C            0.1250      1.115      0.112      0.912      -2.238       2.488\n",
       "B:D           -1.3750      1.115     -1.234      0.235      -3.738       0.988\n",
       "B:E            1.1250      1.115      1.009      0.328      -1.238       3.488\n",
       "C:D            1.6250      1.115      1.458      0.164      -0.738       3.988\n",
       "C:E            0.6250      1.115      0.561      0.583      -1.738       2.988\n",
       "D:E           -2.3750      1.115     -2.131      0.049      -4.738      -0.012\n",
       "==============================================================================\n",
       "Omnibus:                        1.838   Durbin-Watson:                   1.828\n",
       "Prob(Omnibus):                  0.399   Jarque-Bera (JB):                0.767\n",
       "Skew:                           0.078   Prob(JB):                        0.681\n",
       "Kurtosis:                       3.742   Cond. No.                         14.7\n",
       "==============================================================================\n",
       "\n",
       "Notes:\n",
       "[1] Standard Errors assume that the covariance matrix of the errors is correctly specified.\n",
       "\"\"\""
      ]
     },
     "execution_count": 202,
     "metadata": {},
     "output_type": "execute_result"
    }
   ],
   "source": [
    "# Fit the linear model\n",
    "model_full = smf.ols(\"Yield ~ (A + B + C + D + E)**2\", data=df626_df).fit()\n",
    "xnames = ['Intercept', 'A', 'B', 'C', 'D', 'E',\n",
    "          'A:B', 'A:C', 'A:D', 'A:E', 'B:C', 'B:D', 'B:E', 'C:D', 'C:E', 'D:E']\n",
    "# Summarize the model\n",
    "model_full.summary(xname=xnames)"
   ]
  },
  {
   "cell_type": "code",
   "execution_count": 203,
   "metadata": {},
   "outputs": [],
   "source": [
    "# I would not like to be influenced (biased) by the p-value of the full model ANOVA hence not showing here\n",
    "full_anova = sm.stats.anova_lm(model_full, typ=2);"
   ]
  },
  {
   "cell_type": "code",
   "execution_count": 204,
   "metadata": {},
   "outputs": [],
   "source": [
    "coeffs = model_full.params * 2\n",
    "coeffs.index = xnames\n",
    "full_total_ssq = full_anova[\"sum_sq\"].sum()\n",
    "effects_df = pd.DataFrame(coeffs,columns=[\"Effects\"])\n",
    "effects_df[\"Sum Sq.\"] = full_anova[\"sum_sq\"]\n",
    "effects_df[\"Percent contribution\"] = full_anova[\"sum_sq\"].map(lambda x: 100*x / full_total_ssq)"
   ]
  },
  {
   "cell_type": "code",
   "execution_count": 205,
   "metadata": {},
   "outputs": [
    {
     "data": {
      "text/html": [
       "<div>\n",
       "<style scoped>\n",
       "    .dataframe tbody tr th:only-of-type {\n",
       "        vertical-align: middle;\n",
       "    }\n",
       "\n",
       "    .dataframe tbody tr th {\n",
       "        vertical-align: top;\n",
       "    }\n",
       "\n",
       "    .dataframe thead th {\n",
       "        text-align: right;\n",
       "    }\n",
       "</style>\n",
       "<table border=\"1\" class=\"dataframe\">\n",
       "  <thead>\n",
       "    <tr style=\"text-align: right;\">\n",
       "      <th></th>\n",
       "      <th>Effects</th>\n",
       "      <th>Sum Sq.</th>\n",
       "      <th>Percent contribution</th>\n",
       "    </tr>\n",
       "  </thead>\n",
       "  <tbody>\n",
       "    <tr>\n",
       "      <th>Intercept</th>\n",
       "      <td>15.125</td>\n",
       "      <td>NaN</td>\n",
       "      <td>NaN</td>\n",
       "    </tr>\n",
       "    <tr>\n",
       "      <th>A</th>\n",
       "      <td>5.125</td>\n",
       "      <td>1116.28125</td>\n",
       "      <td>9.570338</td>\n",
       "    </tr>\n",
       "    <tr>\n",
       "      <th>B</th>\n",
       "      <td>52.125</td>\n",
       "      <td>9214.03125</td>\n",
       "      <td>78.995678</td>\n",
       "    </tr>\n",
       "    <tr>\n",
       "      <th>C</th>\n",
       "      <td>16.125</td>\n",
       "      <td>750.78125</td>\n",
       "      <td>6.436756</td>\n",
       "    </tr>\n",
       "    <tr>\n",
       "      <th>D</th>\n",
       "      <td>0.625</td>\n",
       "      <td>5.28125</td>\n",
       "      <td>0.045278</td>\n",
       "    </tr>\n",
       "    <tr>\n",
       "      <th>E</th>\n",
       "      <td>-0.375</td>\n",
       "      <td>1.53125</td>\n",
       "      <td>0.013128</td>\n",
       "    </tr>\n",
       "    <tr>\n",
       "      <th>A:B</th>\n",
       "      <td>31.750</td>\n",
       "      <td>504.03125</td>\n",
       "      <td>4.321267</td>\n",
       "    </tr>\n",
       "    <tr>\n",
       "      <th>A:C</th>\n",
       "      <td>1.750</td>\n",
       "      <td>1.53125</td>\n",
       "      <td>0.013128</td>\n",
       "    </tr>\n",
       "    <tr>\n",
       "      <th>A:D</th>\n",
       "      <td>-0.250</td>\n",
       "      <td>0.03125</td>\n",
       "      <td>0.000268</td>\n",
       "    </tr>\n",
       "    <tr>\n",
       "      <th>A:E</th>\n",
       "      <td>3.750</td>\n",
       "      <td>7.03125</td>\n",
       "      <td>0.060282</td>\n",
       "    </tr>\n",
       "    <tr>\n",
       "      <th>B:C</th>\n",
       "      <td>0.250</td>\n",
       "      <td>0.03125</td>\n",
       "      <td>0.000268</td>\n",
       "    </tr>\n",
       "    <tr>\n",
       "      <th>B:D</th>\n",
       "      <td>-2.750</td>\n",
       "      <td>3.78125</td>\n",
       "      <td>0.032418</td>\n",
       "    </tr>\n",
       "    <tr>\n",
       "      <th>B:E</th>\n",
       "      <td>2.250</td>\n",
       "      <td>2.53125</td>\n",
       "      <td>0.021701</td>\n",
       "    </tr>\n",
       "    <tr>\n",
       "      <th>C:D</th>\n",
       "      <td>3.250</td>\n",
       "      <td>5.28125</td>\n",
       "      <td>0.045278</td>\n",
       "    </tr>\n",
       "    <tr>\n",
       "      <th>C:E</th>\n",
       "      <td>1.250</td>\n",
       "      <td>0.78125</td>\n",
       "      <td>0.006698</td>\n",
       "    </tr>\n",
       "    <tr>\n",
       "      <th>D:E</th>\n",
       "      <td>-4.750</td>\n",
       "      <td>11.28125</td>\n",
       "      <td>0.096719</td>\n",
       "    </tr>\n",
       "  </tbody>\n",
       "</table>\n",
       "</div>"
      ],
      "text/plain": [
       "           Effects     Sum Sq.  Percent contribution\n",
       "Intercept   15.125         NaN                   NaN\n",
       "A            5.125  1116.28125              9.570338\n",
       "B           52.125  9214.03125             78.995678\n",
       "C           16.125   750.78125              6.436756\n",
       "D            0.625     5.28125              0.045278\n",
       "E           -0.375     1.53125              0.013128\n",
       "A:B         31.750   504.03125              4.321267\n",
       "A:C          1.750     1.53125              0.013128\n",
       "A:D         -0.250     0.03125              0.000268\n",
       "A:E          3.750     7.03125              0.060282\n",
       "B:C          0.250     0.03125              0.000268\n",
       "B:D         -2.750     3.78125              0.032418\n",
       "B:E          2.250     2.53125              0.021701\n",
       "C:D          3.250     5.28125              0.045278\n",
       "C:E          1.250     0.78125              0.006698\n",
       "D:E         -4.750    11.28125              0.096719"
      ]
     },
     "execution_count": 205,
     "metadata": {},
     "output_type": "execute_result"
    }
   ],
   "source": [
    "effects_df"
   ]
  },
  {
   "cell_type": "code",
   "execution_count": 206,
   "metadata": {},
   "outputs": [
    {
     "data": {
      "image/png": "[encoded data removed]",
      "text/plain": [
       "<Figure size 1000x600 with 1 Axes>"
      ]
     },
     "metadata": {},
     "output_type": "display_data"
    }
   ],
   "source": [
    "effects_no_intercept = effects_df.drop('Intercept')\n",
    "effects_abs = effects_no_intercept['Effects'].abs()\n",
    "effects_sorted = effects_abs.sort_values()\n",
    "effect_names_sorted = effects_sorted.index.tolist()\n",
    "\n",
    "n = len(effects_sorted)\n",
    "i = np.arange(1, n + 1)\n",
    "probabilities = (i - 0.5) / n\n",
    "expected_values = stats.halfnorm.ppf(probabilities)\n",
    "\n",
    "plt.figure(figsize=(10, 6))\n",
    "plt.plot(effects_sorted, expected_values,'o')\n",
    "\n",
    "\n",
    "for x, y, label in zip(effects_sorted,expected_values, effect_names_sorted):\n",
    "    plt.text(x+0.7, y-0.015, label, fontsize=9, ha='left')\n",
    "\n",
    "plt.xlabel('Effect')\n",
    "plt.ylabel('Normal % probability')\n",
    "plt.title('Normal Probability Plot of Effects')\n",
    "plt.grid(True)\n",
    "plt.show()"
   ]
  },
  {
   "cell_type": "markdown",
   "metadata": {},
   "source": [
    "Most important are the factors \n",
    "+ `B` and `E`\n",
    "\n",
    "and the interactions \n",
    "+ `B:C`, `A:B`, `C:E` and `B:E`."
   ]
  },
  {
   "cell_type": "markdown",
   "metadata": {},
   "source": [
    "---\n",
    "**b) Conduct an analysis of variance to confirm your findings\n",
    "for part (a).**\n",
    "\n",
    "---"
   ]
  },
  {
   "cell_type": "code",
   "execution_count": 111,
   "metadata": {},
   "outputs": [
    {
     "data": {
      "text/html": [
       "<div>\n",
       "<style scoped>\n",
       "    .dataframe tbody tr th:only-of-type {\n",
       "        vertical-align: middle;\n",
       "    }\n",
       "\n",
       "    .dataframe tbody tr th {\n",
       "        vertical-align: top;\n",
       "    }\n",
       "\n",
       "    .dataframe thead th {\n",
       "        text-align: right;\n",
       "    }\n",
       "</style>\n",
       "<table border=\"1\" class=\"dataframe\">\n",
       "  <thead>\n",
       "    <tr style=\"text-align: right;\">\n",
       "      <th></th>\n",
       "      <th>sum_sq</th>\n",
       "      <th>df</th>\n",
       "      <th>F</th>\n",
       "      <th>PR(&gt;F)</th>\n",
       "    </tr>\n",
       "  </thead>\n",
       "  <tbody>\n",
       "    <tr>\n",
       "      <th>B</th>\n",
       "      <td>5080.387821</td>\n",
       "      <td>1.0</td>\n",
       "      <td>15.731190</td>\n",
       "      <td>0.000484</td>\n",
       "    </tr>\n",
       "    <tr>\n",
       "      <th>E</th>\n",
       "      <td>890.157051</td>\n",
       "      <td>1.0</td>\n",
       "      <td>2.756331</td>\n",
       "      <td>0.108442</td>\n",
       "    </tr>\n",
       "    <tr>\n",
       "      <th>B:C</th>\n",
       "      <td>974.496429</td>\n",
       "      <td>2.0</td>\n",
       "      <td>1.508742</td>\n",
       "      <td>0.239253</td>\n",
       "    </tr>\n",
       "    <tr>\n",
       "      <th>A:B</th>\n",
       "      <td>1608.300000</td>\n",
       "      <td>2.0</td>\n",
       "      <td>2.490014</td>\n",
       "      <td>0.101753</td>\n",
       "    </tr>\n",
       "    <tr>\n",
       "      <th>C:E</th>\n",
       "      <td>569.335714</td>\n",
       "      <td>1.0</td>\n",
       "      <td>1.762922</td>\n",
       "      <td>0.195377</td>\n",
       "    </tr>\n",
       "    <tr>\n",
       "      <th>B:E</th>\n",
       "      <td>534.942857</td>\n",
       "      <td>1.0</td>\n",
       "      <td>1.656426</td>\n",
       "      <td>0.209011</td>\n",
       "    </tr>\n",
       "    <tr>\n",
       "      <th>Residual</th>\n",
       "      <td>8719.650000</td>\n",
       "      <td>27.0</td>\n",
       "      <td>NaN</td>\n",
       "      <td>NaN</td>\n",
       "    </tr>\n",
       "  </tbody>\n",
       "</table>\n",
       "</div>"
      ],
      "text/plain": [
       "               sum_sq    df          F    PR(>F)\n",
       "B         5080.387821   1.0  15.731190  0.000484\n",
       "E          890.157051   1.0   2.756331  0.108442\n",
       "B:C        974.496429   2.0   1.508742  0.239253\n",
       "A:B       1608.300000   2.0   2.490014  0.101753\n",
       "C:E        569.335714   1.0   1.762922  0.195377\n",
       "B:E        534.942857   1.0   1.656426  0.209011\n",
       "Residual  8719.650000  27.0        NaN       NaN"
      ]
     },
     "execution_count": 111,
     "metadata": {},
     "output_type": "execute_result"
    }
   ],
   "source": [
    "model_reduced = smf.ols('Yield ~ B + E + B:C + A:B + C:E + B:E', data=df626).fit()\n",
    "anova_results = sm.stats.anova_lm(model_reduced, typ=2)\n",
    "anova_results"
   ]
  },
  {
   "cell_type": "code",
   "execution_count": 112,
   "metadata": {},
   "outputs": [
    {
     "data": {
      "text/html": [
       "<div>\n",
       "<style scoped>\n",
       "    .dataframe tbody tr th:only-of-type {\n",
       "        vertical-align: middle;\n",
       "    }\n",
       "\n",
       "    .dataframe tbody tr th {\n",
       "        vertical-align: top;\n",
       "    }\n",
       "\n",
       "    .dataframe thead th {\n",
       "        text-align: right;\n",
       "    }\n",
       "</style>\n",
       "<table border=\"1\" class=\"dataframe\">\n",
       "  <thead>\n",
       "    <tr style=\"text-align: right;\">\n",
       "      <th></th>\n",
       "      <th>df_resid</th>\n",
       "      <th>ssr</th>\n",
       "      <th>df_diff</th>\n",
       "      <th>ss_diff</th>\n",
       "      <th>F</th>\n",
       "      <th>Pr(&gt;F)</th>\n",
       "    </tr>\n",
       "  </thead>\n",
       "  <tbody>\n",
       "    <tr>\n",
       "      <th>0</th>\n",
       "      <td>27.0</td>\n",
       "      <td>8719.650000</td>\n",
       "      <td>0.0</td>\n",
       "      <td>NaN</td>\n",
       "      <td>NaN</td>\n",
       "      <td>NaN</td>\n",
       "    </tr>\n",
       "    <tr>\n",
       "      <th>1</th>\n",
       "      <td>20.0</td>\n",
       "      <td>8688.859722</td>\n",
       "      <td>7.0</td>\n",
       "      <td>30.790278</td>\n",
       "      <td>0.010125</td>\n",
       "      <td>0.999999</td>\n",
       "    </tr>\n",
       "  </tbody>\n",
       "</table>\n",
       "</div>"
      ],
      "text/plain": [
       "   df_resid          ssr  df_diff    ss_diff         F    Pr(>F)\n",
       "0      27.0  8719.650000      0.0        NaN       NaN       NaN\n",
       "1      20.0  8688.859722      7.0  30.790278  0.010125  0.999999"
      ]
     },
     "execution_count": 112,
     "metadata": {},
     "output_type": "execute_result"
    }
   ],
   "source": [
    "sm.stats.anova_lm(model_reduced, model_full, typ=\"I\")"
   ]
  },
  {
   "cell_type": "markdown",
   "metadata": {},
   "source": [
    "ANOVA (both of them) has somewhat confirmed the findings. Even though the $p$-value is not optimal for `E` and `A:B`, I decided to keep those for the sake of keeping these factors in the models atleast in thier interactions. If we remove the interaction `C:E` we will eliminate the factor `C` from the model completely, but according to the model fitted below, this is a reasonable choice."
   ]
  },
  {
   "cell_type": "code",
   "execution_count": 113,
   "metadata": {},
   "outputs": [
    {
     "data": {
      "text/html": [
       "<div>\n",
       "<style scoped>\n",
       "    .dataframe tbody tr th:only-of-type {\n",
       "        vertical-align: middle;\n",
       "    }\n",
       "\n",
       "    .dataframe tbody tr th {\n",
       "        vertical-align: top;\n",
       "    }\n",
       "\n",
       "    .dataframe thead th {\n",
       "        text-align: right;\n",
       "    }\n",
       "</style>\n",
       "<table border=\"1\" class=\"dataframe\">\n",
       "  <thead>\n",
       "    <tr style=\"text-align: right;\">\n",
       "      <th></th>\n",
       "      <th>sum_sq</th>\n",
       "      <th>df</th>\n",
       "      <th>F</th>\n",
       "      <th>PR(&gt;F)</th>\n",
       "    </tr>\n",
       "  </thead>\n",
       "  <tbody>\n",
       "    <tr>\n",
       "      <th>B</th>\n",
       "      <td>5080.387821</td>\n",
       "      <td>1.0</td>\n",
       "      <td>14.782863</td>\n",
       "      <td>0.000609</td>\n",
       "    </tr>\n",
       "    <tr>\n",
       "      <th>E</th>\n",
       "      <td>1069.204545</td>\n",
       "      <td>1.0</td>\n",
       "      <td>3.111161</td>\n",
       "      <td>0.088291</td>\n",
       "    </tr>\n",
       "    <tr>\n",
       "      <th>A:B</th>\n",
       "      <td>1608.300000</td>\n",
       "      <td>2.0</td>\n",
       "      <td>2.339908</td>\n",
       "      <td>0.114264</td>\n",
       "    </tr>\n",
       "    <tr>\n",
       "      <th>C:E</th>\n",
       "      <td>773.891608</td>\n",
       "      <td>2.0</td>\n",
       "      <td>1.125931</td>\n",
       "      <td>0.338120</td>\n",
       "    </tr>\n",
       "    <tr>\n",
       "      <th>Residual</th>\n",
       "      <td>9966.353846</td>\n",
       "      <td>29.0</td>\n",
       "      <td>NaN</td>\n",
       "      <td>NaN</td>\n",
       "    </tr>\n",
       "  </tbody>\n",
       "</table>\n",
       "</div>"
      ],
      "text/plain": [
       "               sum_sq    df          F    PR(>F)\n",
       "B         5080.387821   1.0  14.782863  0.000609\n",
       "E         1069.204545   1.0   3.111161  0.088291\n",
       "A:B       1608.300000   2.0   2.339908  0.114264\n",
       "C:E        773.891608   2.0   1.125931  0.338120\n",
       "Residual  9966.353846  29.0        NaN       NaN"
      ]
     },
     "execution_count": 113,
     "metadata": {},
     "output_type": "execute_result"
    }
   ],
   "source": [
    "model_reduceder = smf.ols('Yield ~ B + E + A:B + C:E', data=df626).fit()\n",
    "sm.stats.anova_lm(model_reduceder, typ=2)"
   ]
  },
  {
   "cell_type": "code",
   "execution_count": 115,
   "metadata": {},
   "outputs": [
    {
     "data": {
      "text/html": [
       "<div>\n",
       "<style scoped>\n",
       "    .dataframe tbody tr th:only-of-type {\n",
       "        vertical-align: middle;\n",
       "    }\n",
       "\n",
       "    .dataframe tbody tr th {\n",
       "        vertical-align: top;\n",
       "    }\n",
       "\n",
       "    .dataframe thead th {\n",
       "        text-align: right;\n",
       "    }\n",
       "</style>\n",
       "<table border=\"1\" class=\"dataframe\">\n",
       "  <thead>\n",
       "    <tr style=\"text-align: right;\">\n",
       "      <th></th>\n",
       "      <th>df_resid</th>\n",
       "      <th>ssr</th>\n",
       "      <th>df_diff</th>\n",
       "      <th>ss_diff</th>\n",
       "      <th>F</th>\n",
       "      <th>Pr(&gt;F)</th>\n",
       "    </tr>\n",
       "  </thead>\n",
       "  <tbody>\n",
       "    <tr>\n",
       "      <th>0</th>\n",
       "      <td>29.0</td>\n",
       "      <td>9966.353846</td>\n",
       "      <td>0.0</td>\n",
       "      <td>NaN</td>\n",
       "      <td>NaN</td>\n",
       "      <td>NaN</td>\n",
       "    </tr>\n",
       "    <tr>\n",
       "      <th>1</th>\n",
       "      <td>27.0</td>\n",
       "      <td>8719.650000</td>\n",
       "      <td>2.0</td>\n",
       "      <td>1246.703846</td>\n",
       "      <td>1.930181</td>\n",
       "      <td>0.164626</td>\n",
       "    </tr>\n",
       "  </tbody>\n",
       "</table>\n",
       "</div>"
      ],
      "text/plain": [
       "   df_resid          ssr  df_diff      ss_diff         F    Pr(>F)\n",
       "0      29.0  9966.353846      0.0          NaN       NaN       NaN\n",
       "1      27.0  8719.650000      2.0  1246.703846  1.930181  0.164626"
      ]
     },
     "execution_count": 115,
     "metadata": {},
     "output_type": "execute_result"
    }
   ],
   "source": [
    "sm.stats.anova_lm(model_reduceder, model_reduced, typ=\"I\")"
   ]
  },
  {
   "cell_type": "markdown",
   "metadata": {},
   "source": [
    "I will be using `model_reduceder` to enunciate the parsimony of the model."
   ]
  },
  {
   "cell_type": "code",
   "execution_count": 116,
   "metadata": {},
   "outputs": [],
   "source": [
    "model_final = model_reduceder"
   ]
  },
  {
   "cell_type": "markdown",
   "metadata": {},
   "source": [
    "---\n",
    "**c) Write down the regression model relating yield to the significant process variables.**\n",
    "\n",
    "---"
   ]
  },
  {
   "cell_type": "code",
   "execution_count": 122,
   "metadata": {},
   "outputs": [
    {
     "data": {
      "text/plain": [
       "Intercept    11.969231\n",
       "B            15.886538\n",
       "E            19.576923\n",
       "A+:B-         3.100000\n",
       "A+:B+        19.750000\n",
       "C+:E-         9.375000\n",
       "C+:E+        -9.451923\n",
       "dtype: float64"
      ]
     },
     "execution_count": 122,
     "metadata": {},
     "output_type": "execute_result"
    }
   ],
   "source": [
    "coeffs_final = model_final.params\n",
    "coeffs_final.index = [\"Intercept\",\"B\", \"E\", \"A+:B-\", \"A+:B+\", \"C+:E-\", \"C+:E+\"]\n",
    "coeffs_final"
   ]
  },
  {
   "cell_type": "code",
   "execution_count": 127,
   "metadata": {},
   "outputs": [
    {
     "name": "stdout",
     "output_type": "stream",
     "text": [
      "A:B = 16.650000000000006\n"
     ]
    }
   ],
   "source": [
    "print(\"A:B =\",-1 * coeffs_final[\"A+:B-\"] + coeffs_final[\"A+:B+\"])"
   ]
  },
  {
   "cell_type": "code",
   "execution_count": 128,
   "metadata": {},
   "outputs": [
    {
     "name": "stdout",
     "output_type": "stream",
     "text": [
      "C:E = -18.82692307692308\n"
     ]
    }
   ],
   "source": [
    "print(\"C:E =\",-1 * coeffs_final[\"C+:E-\"] + coeffs_final[\"C+:E+\"])"
   ]
  },
  {
   "cell_type": "markdown",
   "metadata": {},
   "source": [
    "$$ \n",
    "\\text{Yield} = 11.969231 + 15.886538 B + 19.576923 E + 3.1 A_{+}\\cdot B_{-} + 19.75 A_{+} \\cdot B_{+} + 9.375 C_{+} \\cdot E_{-} - 9.451923 C_{+} \\cdot E_{+}\n",
    "$$ hence $$\n",
    "\\text{Yield} = 11.97 + 15.89 B + 19.58 E + 16.65 A\\cdot B - 18.83 C \\cdot E\n",
    "$$"
   ]
  },
  {
   "cell_type": "markdown",
   "metadata": {},
   "source": [
    "---\n",
    "**d) Plot the residuals on normal probability paper. Is the plot satisfactory?**\n",
    "\n",
    "---"
   ]
  },
  {
   "cell_type": "code",
   "execution_count": 161,
   "metadata": {},
   "outputs": [
    {
     "data": {
      "image/png": "[encoded data removed]",
      "text/plain": [
       "<Figure size 1200x500 with 2 Axes>"
      ]
     },
     "metadata": {},
     "output_type": "display_data"
    }
   ],
   "source": [
    "residuals = model_final.resid\n",
    "fitted = model_final.fittedvalues\n",
    "\n",
    "fig, (ax1, ax2) = plt.subplots(1, 2, figsize=(12, 5))\n",
    "ax1.scatter(fitted, residuals, edgecolors='k', facecolors='none')\n",
    "ax1.axhline(y=0, color='red', linestyle='--')\n",
    "ax1.set_xlabel('Fitted Values')\n",
    "ax1.set_ylabel('Residuals')\n",
    "ax1.set_title('Residuals vs. Fitted Values')\n",
    "ax1.grid(True)\n",
    "\n",
    "sm.qqplot(residuals, line='45', fit=True, ax=ax2)\n",
    "ax2.set_title('Normal Q-Q Plot')\n",
    "ax2.grid(True)\n",
    "\n",
    "# Adjust the spacing between subplots\n",
    "plt.subplots_adjust(wspace=0.2)\n",
    "\n",
    "plt.show()"
   ]
  },
  {
   "cell_type": "markdown",
   "metadata": {},
   "source": [
    "Sem spokojenej rozhodně"
   ]
  },
  {
   "cell_type": "markdown",
   "metadata": {},
   "source": [
    "---\n",
    "**e) Plot the residuals versus the predicted yields and versus each of the five factors. Comment on the plots.**\n",
    "\n",
    "---\n"
   ]
  },
  {
   "cell_type": "code",
   "execution_count": 141,
   "metadata": {},
   "outputs": [],
   "source": [
    "residuals = pd.Series(model.resid, name=\"Residuals\")\n",
    "df_with_resid = pd.concat([df626, residuals], axis=1)"
   ]
  },
  {
   "cell_type": "code",
   "execution_count": 143,
   "metadata": {},
   "outputs": [
    {
     "data": {
      "text/html": [
       "<div>\n",
       "<style scoped>\n",
       "    .dataframe tbody tr th:only-of-type {\n",
       "        vertical-align: middle;\n",
       "    }\n",
       "\n",
       "    .dataframe tbody tr th {\n",
       "        vertical-align: top;\n",
       "    }\n",
       "\n",
       "    .dataframe thead th {\n",
       "        text-align: right;\n",
       "    }\n",
       "</style>\n",
       "<table border=\"1\" class=\"dataframe\">\n",
       "  <thead>\n",
       "    <tr style=\"text-align: right;\">\n",
       "      <th></th>\n",
       "      <th>A</th>\n",
       "      <th>B</th>\n",
       "      <th>C</th>\n",
       "      <th>D</th>\n",
       "      <th>E</th>\n",
       "      <th>Yield</th>\n",
       "      <th>Residuals</th>\n",
       "    </tr>\n",
       "  </thead>\n",
       "  <tbody>\n",
       "    <tr>\n",
       "      <th>0</th>\n",
       "      <td>-1.0</td>\n",
       "      <td>-1.0</td>\n",
       "      <td>-1.0</td>\n",
       "      <td>-1.0</td>\n",
       "      <td>-1.0</td>\n",
       "      <td>7</td>\n",
       "      <td>-4.484722</td>\n",
       "    </tr>\n",
       "    <tr>\n",
       "      <th>1</th>\n",
       "      <td>1.0</td>\n",
       "      <td>-1.0</td>\n",
       "      <td>-1.0</td>\n",
       "      <td>-1.0</td>\n",
       "      <td>-1.0</td>\n",
       "      <td>9</td>\n",
       "      <td>-4.977778</td>\n",
       "    </tr>\n",
       "    <tr>\n",
       "      <th>2</th>\n",
       "      <td>-1.0</td>\n",
       "      <td>1.0</td>\n",
       "      <td>-1.0</td>\n",
       "      <td>-1.0</td>\n",
       "      <td>-1.0</td>\n",
       "      <td>34</td>\n",
       "      <td>4.936111</td>\n",
       "    </tr>\n",
       "    <tr>\n",
       "      <th>3</th>\n",
       "      <td>1.0</td>\n",
       "      <td>1.0</td>\n",
       "      <td>-1.0</td>\n",
       "      <td>-1.0</td>\n",
       "      <td>-1.0</td>\n",
       "      <td>55</td>\n",
       "      <td>6.838889</td>\n",
       "    </tr>\n",
       "    <tr>\n",
       "      <th>4</th>\n",
       "      <td>-1.0</td>\n",
       "      <td>-1.0</td>\n",
       "      <td>1.0</td>\n",
       "      <td>-1.0</td>\n",
       "      <td>-1.0</td>\n",
       "      <td>16</td>\n",
       "      <td>4.936111</td>\n",
       "    </tr>\n",
       "  </tbody>\n",
       "</table>\n",
       "</div>"
      ],
      "text/plain": [
       "     A    B    C    D    E  Yield  Residuals\n",
       "0 -1.0 -1.0 -1.0 -1.0 -1.0      7  -4.484722\n",
       "1  1.0 -1.0 -1.0 -1.0 -1.0      9  -4.977778\n",
       "2 -1.0  1.0 -1.0 -1.0 -1.0     34   4.936111\n",
       "3  1.0  1.0 -1.0 -1.0 -1.0     55   6.838889\n",
       "4 -1.0 -1.0  1.0 -1.0 -1.0     16   4.936111"
      ]
     },
     "execution_count": 143,
     "metadata": {},
     "output_type": "execute_result"
    }
   ],
   "source": [
    "df_with_resid.head()"
   ]
  },
  {
   "cell_type": "code",
   "execution_count": 168,
   "metadata": {},
   "outputs": [
    {
     "data": {
      "image/png": "[encoded data removed]",
      "text/plain": [
       "<Figure size 1300x250 with 5 Axes>"
      ]
     },
     "metadata": {},
     "output_type": "display_data"
    }
   ],
   "source": [
    "# Create the figure with two subplots\n",
    "fig =  plt.figure(figsize=(13, 2.5))\n",
    "\n",
    "# Create a grid of subplots for the residuals vs. factors\n",
    "factor_cols = ['A', 'B', 'C', 'D', 'E']\n",
    "for i, factor in enumerate(factor_cols):\n",
    "    ax = fig.add_subplot(1, 5, i+1)\n",
    "    sns.boxplot(x=factor, y=\"Residuals\", data=df_with_resid, ax=ax)\n",
    "    ax.set_xlabel(f\"{factor} Levels\")\n",
    "    if i == 0:\n",
    "        ax.set_ylabel(\"Residuals\")\n",
    "    else:\n",
    "        ax.set_ylabel(None)\n",
    "    ax.set_title(f\"Residuals vs. Factor {factor}\")\n",
    "    ax.grid(True)\n",
    "\n",
    "# Adjust the spacing between subplots\n",
    "plt.subplots_adjust(wspace=0.3)\n",
    "\n",
    "plt.show()"
   ]
  },
  {
   "cell_type": "markdown",
   "metadata": {},
   "source": [
    "Both the residuals against the predicted values and the residuals for the factors seem to be unbiased and also they seem to have a similar variance. "
   ]
  },
  {
   "cell_type": "markdown",
   "metadata": {},
   "source": [
    "---\n",
    "**f) Interpret any significant interactions.**\n",
    "\n",
    "---"
   ]
  },
  {
   "cell_type": "markdown",
   "metadata": {},
   "source": [
    "A recap of the factors:\n",
    "> +    A = aperture setting (small, large),\n",
    "> +    B = exposure time (20% below nominal, 20% above nominal),\n",
    "> +    C = development time (30 and 45 s),\n",
    "> +    D = mask dimension (small, large), and\n",
    "> +    E = etch time (14.5 and 15.5min).\n",
    "\n",
    "and the model\n",
    "> $$\n",
    "\\text{Yield} = 11.97 + 15.89 B + 19.58 E + 16.65 A\\cdot B - 18.83 C \\cdot E\n",
    "$$\n",
    "> \n",
    "The interactions that are left in the model are\n",
    "+ `A:B` and `C:E`\n",
    "\n",
    "which are in the experiment setting\n",
    "+ **aperture setting** $\\times$ **exposure time** (16.65)\n",
    "+ **developement time** $\\times$ **etch time** (-18.83)\n",
    "\n",
    "This gives them the obvious physical interpretation. \n",
    "+ Both **aperture setting** and the **exposure time** are related to the illumination that the lasers take upon the crystals. _Hence more power from the lasers, more yield!_\n",
    "+ **Developement time** and **etch time** are both related to the chemicals that are applyied after the laser exposure. _The more time we spend on this process, the less yield!_ (Tak určitě makes sense...)"
   ]
  },
  {
   "cell_type": "markdown",
   "metadata": {},
   "source": [
    "---\n",
    "**g) What are your recommendations regarding process\n",
    "operating conditions?**\n",
    "\n",
    "---\n"
   ]
  },
  {
   "cell_type": "markdown",
   "metadata": {},
   "source": [
    "Given the model above, since **etch time** is not only present in the interaction but also independently with a high coefficient, I would recommend keeping it _long (15.5min)_ and _reducing_ the **development time** _(30 s)_. A _large_ **aperture setting** and **exposure time** (from the interaction and the independent factor)."
   ]
  },
  {
   "cell_type": "markdown",
   "metadata": {},
   "source": [
    "---\n",
    "**h) Project the $2^5$ design in this problem into a $2^k$ design\n",
    "in the important factors. Sketch the design and show\n",
    "the average and range of yields at each run. Does\n",
    "this sketch aid in interpreting the results of this\n",
    "experiment?**\n",
    "\n",
    "---\n"
   ]
  },
  {
   "cell_type": "markdown",
   "metadata": {},
   "source": [
    "---\n",
    "**i) Suppose that the experimenter had run four center points in addition to the 32 trials in the original experiment. The yields obtained at the\n",
    "center point runs were 68, 74, 76, and 70. Reanalyze the experiment, including a test for pure quadratic curvature. Discuss what your next step would be.**\n",
    "\n",
    "---\n"
   ]
  },
  {
   "cell_type": "code",
   "execution_count": 172,
   "metadata": {},
   "outputs": [
    {
     "data": {
      "text/html": [
       "<div>\n",
       "<style scoped>\n",
       "    .dataframe tbody tr th:only-of-type {\n",
       "        vertical-align: middle;\n",
       "    }\n",
       "\n",
       "    .dataframe tbody tr th {\n",
       "        vertical-align: top;\n",
       "    }\n",
       "\n",
       "    .dataframe thead th {\n",
       "        text-align: right;\n",
       "    }\n",
       "</style>\n",
       "<table border=\"1\" class=\"dataframe\">\n",
       "  <thead>\n",
       "    <tr style=\"text-align: right;\">\n",
       "      <th></th>\n",
       "      <th>A</th>\n",
       "      <th>B</th>\n",
       "      <th>C</th>\n",
       "      <th>D</th>\n",
       "      <th>E</th>\n",
       "      <th>Yield</th>\n",
       "    </tr>\n",
       "  </thead>\n",
       "  <tbody>\n",
       "    <tr>\n",
       "      <th>32</th>\n",
       "      <td>-1.0</td>\n",
       "      <td>-1.0</td>\n",
       "      <td>-1.0</td>\n",
       "      <td>-1.0</td>\n",
       "      <td>1.0</td>\n",
       "      <td>68</td>\n",
       "    </tr>\n",
       "    <tr>\n",
       "      <th>33</th>\n",
       "      <td>1.0</td>\n",
       "      <td>-1.0</td>\n",
       "      <td>-1.0</td>\n",
       "      <td>-1.0</td>\n",
       "      <td>1.0</td>\n",
       "      <td>74</td>\n",
       "    </tr>\n",
       "    <tr>\n",
       "      <th>34</th>\n",
       "      <td>-1.0</td>\n",
       "      <td>-1.0</td>\n",
       "      <td>-1.0</td>\n",
       "      <td>1.0</td>\n",
       "      <td>1.0</td>\n",
       "      <td>76</td>\n",
       "    </tr>\n",
       "    <tr>\n",
       "      <th>35</th>\n",
       "      <td>1.0</td>\n",
       "      <td>-1.0</td>\n",
       "      <td>-1.0</td>\n",
       "      <td>1.0</td>\n",
       "      <td>1.0</td>\n",
       "      <td>70</td>\n",
       "    </tr>\n",
       "  </tbody>\n",
       "</table>\n",
       "</div>"
      ],
      "text/plain": [
       "      A    B    C    D    E  Yield\n",
       "32 -1.0 -1.0 -1.0 -1.0  1.0     68\n",
       "33  1.0 -1.0 -1.0 -1.0  1.0     74\n",
       "34 -1.0 -1.0 -1.0  1.0  1.0     76\n",
       "35  1.0 -1.0 -1.0  1.0  1.0     70"
      ]
     },
     "execution_count": 172,
     "metadata": {},
     "output_type": "execute_result"
    }
   ],
   "source": [
    "df626.tail(4)"
   ]
  },
  {
   "cell_type": "markdown",
   "metadata": {},
   "source": [
    "Jesus fucking crist! I fucking hate this shit! I made a model and now they are telling me that I should have used only the first 32 data points and should have left the rest for the center points. For god sake, why couldn't they have written that at the fucking beginning of the excercise!"
   ]
  },
  {
   "cell_type": "markdown",
   "metadata": {},
   "source": [
    "---\n",
    "**j) Construct and analyze a design in two blocks with ABCDE\n",
    "confounded with blocks.**\n",
    "\n",
    "---\n"
   ]
  },
  {
   "cell_type": "markdown",
   "metadata": {},
   "source": [
    "---\n",
    "**k) Assuming now that four blocks are\n",
    "necessary. Suggest a reasonable confounding scheme.**\n",
    "\n",
    "---\n"
   ]
  },
  {
   "cell_type": "markdown",
   "metadata": {},
   "source": [
    "---\n",
    "**l) Suppose that it was necessary to run this design in four blocks\n",
    "with ACDE and BCD (and consequently ABE) confounded.\n",
    "Analyze the data from this design.**\n",
    "\n",
    "---"
   ]
  },
  {
   "cell_type": "code",
   "execution_count": null,
   "metadata": {},
   "outputs": [],
   "source": []
  }
 ],
 "metadata": {
  "colab": {
   "include_colab_link": true,
   "private_outputs": true,
   "provenance": []
  },
  "kernelspec": {
   "display_name": "NAEX01",
   "language": "python",
   "name": "naex01"
  },
  "language_info": {
   "codemirror_mode": {
    "name": "ipython",
    "version": 3
   },
   "file_extension": ".py",
   "mimetype": "text/x-python",
   "name": "python",
   "nbconvert_exporter": "python",
   "pygments_lexer": "ipython3",
   "version": "3.12.7"
  }
 },
 "nbformat": 4,
 "nbformat_minor": 4
}
