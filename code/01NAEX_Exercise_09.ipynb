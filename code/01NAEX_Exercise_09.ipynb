{
  "nbformat": 4,
  "nbformat_minor": 0,
  "metadata": {
    "colab": {
      "private_outputs": true,
      "provenance": [],
      "authorship_tag": "ABX9TyPztsqnn71WLWjIHk3tEzaE",
      "include_colab_link": true
    },
    "kernelspec": {
      "name": "python3",
      "display_name": "Python 3"
    },
    "language_info": {
      "name": "python"
    }
  },
  "cells": [
    {
      "cell_type": "markdown",
      "metadata": {
        "id": "view-in-github",
        "colab_type": "text"
      },
      "source": [
        "<a href=\"https://colab.research.google.com/github/francji1/01NAEX/blob/main/code/01NAEX_Exercise_09.ipynb\" target=\"_parent\"><img src=\"https://colab.research.google.com/assets/colab-badge.svg\" alt=\"Open In Colab\"/></a>"
      ]
    },
    {
      "cell_type": "markdown",
      "source": [
        "\n",
        "# O1NAEX Exercise 09\n",
        "\n",
        "author: xxx"
      ],
      "metadata": {
        "id": "SJRUeUJPrezp"
      }
    },
    {
      "cell_type": "markdown",
      "source": [
        "##\tProblem 11.8\n",
        "from the chapter 11 -  D. C. Montgomery DAoE - 8. edition.\n",
        "\n",
        "The data  were collected in\tan experiment to optimize crystal growth as a function of\tthree variables $x_1$, $x_2$, and $x_3$. Large values of y (`Yield` in grams)\tare desirable. Fit a second-order model and analyze the fitted surface. Under what set of conditions is maximum growth achieved?"
      ],
      "metadata": {
        "id": "_lYQT0wrrb3V"
      }
    },
    {
      "cell_type": "code",
      "source": [
        "# !pip install pyDOE3\n",
        "# from pyDOE3 import ff2n"
      ],
      "metadata": {
        "id": "DfQaZt8HzOXa"
      },
      "execution_count": null,
      "outputs": []
    },
    {
      "cell_type": "code",
      "source": [
        "import pandas as pd\n",
        "\n",
        "df118 = pd.read_csv(\"https://raw.githubusercontent.com/francji1/01NAEX/main/data/Ex118.csv\", sep=\";\")\n",
        "df118"
      ],
      "metadata": {
        "id": "p6rgXxlgBxUT"
      },
      "execution_count": null,
      "outputs": []
    },
    {
      "cell_type": "code",
      "source": [],
      "metadata": {
        "id": "ZdlSiXZlHjWM"
      },
      "execution_count": null,
      "outputs": []
    },
    {
      "cell_type": "code",
      "source": [],
      "metadata": {
        "id": "VyQS8xN_o3Q-"
      },
      "execution_count": null,
      "outputs": []
    },
    {
      "cell_type": "markdown",
      "source": [
        "##\tProblem 11.12\n",
        "from the chapter 11 -  D. C. Montgomery DAoE - 8. edition.\n",
        "\n",
        "Consider the three-variable central composite design. Analyze the data and draw conclusions, assuming that we wish to maximize `Conversion` ($y_1$) with\t\t\t`Activity` ($y_2$) between 55 and 60\tachieved?"
      ],
      "metadata": {
        "id": "oA3Z3QG_HjqU"
      }
    },
    {
      "cell_type": "code",
      "source": [
        "df118 = pd.read_csv(\"https://raw.githubusercontent.com/francji1/01NAEX/main/data/Ex1112.csv\", sep=\";\")\n",
        "df118"
      ],
      "metadata": {
        "id": "fxD9HMoPrbHg"
      },
      "execution_count": null,
      "outputs": []
    },
    {
      "cell_type": "code",
      "source": [],
      "metadata": {
        "id": "pE5TJpklrbPN"
      },
      "execution_count": null,
      "outputs": []
    },
    {
      "cell_type": "code",
      "source": [],
      "metadata": {
        "id": "2F26bckauxvB"
      },
      "execution_count": null,
      "outputs": []
    }
  ]
}