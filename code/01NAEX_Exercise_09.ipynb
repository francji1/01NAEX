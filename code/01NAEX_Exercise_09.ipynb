{
  "nbformat": 4,
  "nbformat_minor": 0,
  "metadata": {
    "colab": {
      "private_outputs": true,
      "provenance": [],
      "authorship_tag": "ABX9TyPLiX0KRP/cpvuGbrQmr5Tu",
      "include_colab_link": true
    },
    "kernelspec": {
      "name": "ir",
      "display_name": "R"
    },
    "language_info": {
      "name": "R"
    }
  },
  "cells": [
    {
      "cell_type": "markdown",
      "metadata": {
        "id": "view-in-github",
        "colab_type": "text"
      },
      "source": [
        "<a href=\"https://colab.research.google.com/github/francji1/01NAEX/blob/main/code/01NAEX_Exercise_09.ipynb\" target=\"_parent\"><img src=\"https://colab.research.google.com/assets/colab-badge.svg\" alt=\"Open In Colab\"/></a>"
      ]
    },
    {
      "cell_type": "markdown",
      "source": [
        "\n",
        "# O1NAEX Exercise 09"
      ],
      "metadata": {
        "id": "SJRUeUJPrezp"
      }
    },
    {
      "cell_type": "code",
      "source": [
        "cat(system('sudo apt-get install -y gmp', intern=TRUE), sep = \"\\n\")\n",
        "cat(system('sudo apt-get install -y partitions', intern=TRUE), sep = \"\\n\")\n",
        "cat(system('sudo apt-get install -y DoE.base', intern=TRUE), sep = \"\\n\")\n",
        "\n",
        "list_of_packages <- c(\"tidyverse\",\"MASS\",\"FrF2\") # \"agricolae\",\"nortest\",\"lattice\",\"pwr\",\n",
        "missing_packages <- list_of_packages[!(list_of_packages %in% installed.packages()[,\"Package\"])]\n",
        "missing_packages\n",
        "\n",
        "if(length(missing_packages)) install.packages(missing_packages)\n",
        "lapply(list_of_packages, library, character.only = TRUE)\n"
      ],
      "metadata": {
        "id": "crbwkzr9I90A"
      },
      "execution_count": null,
      "outputs": []
    },
    {
      "cell_type": "code",
      "source": [],
      "metadata": {
        "id": "ZsHcf5iJooKH"
      },
      "execution_count": null,
      "outputs": []
    },
    {
      "cell_type": "code",
      "source": [],
      "metadata": {
        "id": "fYlPrh7XooS8"
      },
      "execution_count": null,
      "outputs": []
    },
    {
      "cell_type": "code",
      "execution_count": null,
      "metadata": {
        "id": "77d2096d"
      },
      "outputs": [],
      "source": [
        "# list_of_packages <- c(\"tidyverse\",\"MASS\",\"FrF2\",\"dplyr\",\"lattice\",\"ggplot2\",\"Hmisc\")\n",
        "# missing_packages <- list_of_packages[!(list_of_packages %in% installed.packages()[,\"Package\"])]\n",
        "# print(missing_packages)\n",
        "\n",
        "# system(\"sudo apt-get install libgmp-dev\")\n",
        "# install.packages(\"gmp\")\n",
        "\n",
        "# system(\"sudo apt-get install libpartitions-dev\")\n",
        "# install.packages(\"partitions\")\n",
        "\n",
        "# system(\"sudo apt-get install libDoE.base-dev\")\n",
        "# install.packages(\"DoE.base\")\n",
        "\n",
        "# if(length(missing_packages)) install.packages(missing_packages)\n",
        "# lapply(list_of_packages, library, character.only = TRUE)"
      ]
    },
    {
      "cell_type": "code",
      "source": [
        "#tibble::tibble(\n",
        "#  Package = names(installed.packages()[,3]),\n",
        "#  Version = unname(installed.packages()[,3])\n",
        "#)"
      ],
      "metadata": {
        "id": "mFJEGP4iPatd"
      },
      "execution_count": null,
      "outputs": []
    },
    {
      "cell_type": "markdown",
      "source": [
        "##\tProblem 11.8\n",
        "from the chapter 11 -  D. C. Montgomery DAoE - 8. edition.\n",
        "\n",
        "The data  were collected in\tan experiment to optimize crystal growth as a function of\tthree variables $x_1$, $x_2$, and $x_3$. Large values of y (`Yield` in grams)\tare desirable. Fit a second-order model and analyze the fitted surface. Under what set of conditions is maximum growth achieved?"
      ],
      "metadata": {
        "id": "_lYQT0wrrb3V"
      }
    },
    {
      "cell_type": "code",
      "source": [
        "df118 <- read.table(\"https://raw.githubusercontent.com/francji1/01NAEX/main/data/Ex118.csv\",header=TRUE,sep=\";\")\n",
        "df118"
      ],
      "metadata": {
        "id": "DfQaZt8HzOXa"
      },
      "execution_count": null,
      "outputs": []
    },
    {
      "cell_type": "code",
      "source": [],
      "metadata": {
        "id": "ZdlSiXZlHjWM"
      },
      "execution_count": null,
      "outputs": []
    },
    {
      "cell_type": "code",
      "source": [],
      "metadata": {
        "id": "VyQS8xN_o3Q-"
      },
      "execution_count": null,
      "outputs": []
    },
    {
      "cell_type": "markdown",
      "source": [
        "##\tProblem 11.12\n",
        "from the chapter 11 -  D. C. Montgomery DAoE - 8. edition.\n",
        "\n",
        "Consider the three-variable central composite design. Analyze the data and draw conclusions, assuming that we wish to maximize `Conversion` ($y_1$) with\t\t\t`Activity` ($y_2$) between 55 and 60\tachieved?"
      ],
      "metadata": {
        "id": "oA3Z3QG_HjqU"
      }
    },
    {
      "cell_type": "code",
      "source": [
        "df1112 <- read.table(\"https://raw.githubusercontent.com/francji1/01NAEX/main/data/Ex1112.csv\",header=TRUE,sep=\";\")\n",
        "df1112"
      ],
      "metadata": {
        "id": "fxD9HMoPrbHg"
      },
      "execution_count": null,
      "outputs": []
    },
    {
      "cell_type": "code",
      "source": [],
      "metadata": {
        "id": "pE5TJpklrbPN"
      },
      "execution_count": null,
      "outputs": []
    },
    {
      "cell_type": "code",
      "source": [],
      "metadata": {
        "id": "2F26bckauxvB"
      },
      "execution_count": null,
      "outputs": []
    }
  ]
}