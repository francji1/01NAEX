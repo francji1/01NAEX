{
  "cells": [
    {
      "cell_type": "markdown",
      "metadata": {
        "id": "view-in-github",
        "colab_type": "text"
      },
      "source": [
        "<a href=\"https://colab.research.google.com/github/francji1/01NAEX/blob/main/code/01NAEX_Exercise_04_python.ipynb\" target=\"_parent\"><img src=\"https://colab.research.google.com/assets/colab-badge.svg\" alt=\"Open In Colab\"/></a>"
      ]
    },
    {
      "cell_type": "markdown",
      "metadata": {
        "id": "SJRUeUJPrezp"
      },
      "source": [
        "\n",
        "# O1NAEX Exercise 04"
      ]
    },
    {
      "cell_type": "markdown",
      "metadata": {
        "id": "nEGyKc3C8teG"
      },
      "source": [
        "## Setup"
      ]
    },
    {
      "cell_type": "code",
      "execution_count": null,
      "metadata": {
        "execution": {
          "iopub.execute_input": "2025-10-13T17:24:48.569776Z",
          "iopub.status.busy": "2025-10-13T17:24:48.569776Z",
          "iopub.status.idle": "2025-10-13T17:24:48.574388Z",
          "shell.execute_reply": "2025-10-13T17:24:48.573885Z"
        },
        "id": "26cEQ8Nt8teK"
      },
      "outputs": [],
      "source": [
        "# Skipped: !pip install rpy2"
      ]
    },
    {
      "cell_type": "code",
      "execution_count": null,
      "metadata": {
        "execution": {
          "iopub.execute_input": "2025-10-13T17:24:48.576392Z",
          "iopub.status.busy": "2025-10-13T17:24:48.576392Z",
          "iopub.status.idle": "2025-10-13T17:24:48.578617Z",
          "shell.execute_reply": "2025-10-13T17:24:48.578617Z"
        },
        "id": "vCDVk5ts8teL"
      },
      "outputs": [],
      "source": [
        "# Skipped: %load_ext rpy2.ipython"
      ]
    },
    {
      "cell_type": "code",
      "execution_count": null,
      "metadata": {
        "id": "X-tQykDJeaY9"
      },
      "outputs": [],
      "source": []
    },
    {
      "cell_type": "code",
      "execution_count": null,
      "metadata": {
        "execution": {
          "iopub.execute_input": "2025-10-13T17:24:48.580620Z",
          "iopub.status.busy": "2025-10-13T17:24:48.580620Z",
          "iopub.status.idle": "2025-10-13T17:24:58.030900Z",
          "shell.execute_reply": "2025-10-13T17:24:58.030900Z"
        },
        "id": "AzDtqykGeacb"
      },
      "outputs": [],
      "source": [
        "import numpy as np\n",
        "import pandas as pd\n",
        "import matplotlib.pyplot as plt\n",
        "from scipy.stats import norm, t\n",
        "import statsmodels.api as sm\n",
        "import statsmodels.formula.api as smf\n",
        "import seaborn as sns\n"
      ]
    },
    {
      "cell_type": "code",
      "execution_count": null,
      "metadata": {
        "execution": {
          "iopub.execute_input": "2025-10-13T17:24:58.034019Z",
          "iopub.status.busy": "2025-10-13T17:24:58.033019Z",
          "iopub.status.idle": "2025-10-13T17:24:58.715411Z",
          "shell.execute_reply": "2025-10-13T17:24:58.715411Z"
        },
        "id": "a7zFYA4nIC38"
      },
      "outputs": [],
      "source": [
        "# Recap of the Lecture in Python\n",
        "\n",
        "# Read the data from the URL\n",
        "rocket_path = \"https://raw.githubusercontent.com/francji1/01NAEX/refs/heads/main/data/rocket2.txt\"\n",
        "rocket = pd.read_csv(rocket_path, sep=\";\")\n",
        "\n",
        "\n",
        "# Renaming columns for consistency\n",
        "rocket.rename(columns={'op': 'operator', 'y': 'Propellant'}, inplace=True)\n",
        "\n",
        "# Converting columns to factors (categorical variables)\n",
        "rocket['operator'] = rocket['operator'].astype('category')\n",
        "rocket['batch'] = rocket['batch'].astype('category')\n",
        "\n",
        "# Latin Square Design Plotting\n",
        "sns.boxplot(x='operator', y='Propellant', data=rocket)\n",
        "plt.show()\n",
        "\n",
        "sns.boxplot(x='batch', y='Propellant', data=rocket)\n",
        "plt.show()\n",
        "\n",
        "sns.boxplot(x='treat', y='Propellant', data=rocket)\n",
        "plt.show()\n",
        "\n",
        "# Latin Square Design - Linear Model\n",
        "rocket_lm = smf.ols('Propellant ~ operator + batch + treat', data=rocket).fit()\n",
        "print(sm.stats.anova_lm(rocket_lm))\n",
        "\n",
        "\n",
        "# Without considering batch as a factor\n",
        "rocket_lm2 = smf.ols('Propellant ~ operator + treat', data=rocket).fit()\n",
        "print(sm.stats.anova_lm(rocket_lm2))"
      ]
    },
    {
      "cell_type": "markdown",
      "metadata": {
        "id": "_lYQT0wrrb3V"
      },
      "source": [
        "\n",
        "##\tProblem 4.23\n",
        "from the chapter 4, D. C. Montgomery DAoE - 8. edition.\n",
        "\n",
        "An industrial engineer is investigating the effect of\n",
        "four assembly methods (A, B, C, D) on the assembly time for\n",
        "a color television component. Four operators are selected for\n",
        "the study. Furthermore, the engineer knows that each assembly\n",
        "method produces such fatigue that the time required for\n",
        "the last assembly may be greater than the time required for the\n",
        "first, regardless of the method. That is, a trend develops in the\n",
        "required assembly time. To account for this source of variability,\n",
        "the engineer uses the Latin square design shown below.\n",
        "Analyze the data from this experiment (use\t$\\alpha = 0.05$) and draw\n",
        "appropriate conclusions.\n",
        "\n"
      ]
    },
    {
      "cell_type": "code",
      "execution_count": null,
      "metadata": {
        "execution": {
          "iopub.execute_input": "2025-10-13T17:24:58.718417Z",
          "iopub.status.busy": "2025-10-13T17:24:58.717419Z",
          "iopub.status.idle": "2025-10-13T17:24:58.943892Z",
          "shell.execute_reply": "2025-10-13T17:24:58.943892Z"
        },
        "id": "NEM0lHPvWZ0w"
      },
      "outputs": [],
      "source": [
        "# Read the data from the URL\n",
        "url_4_23 = \"https://raw.githubusercontent.com/francji1/01NAEX/main/data/Problem_4_23.txt\"\n",
        "df_4_23 = pd.read_csv(url_4_23, sep=\";\")\n",
        "\n",
        "# Display the first few rows of the dataframe\n",
        "df_4_23.head()"
      ]
    },
    {
      "cell_type": "markdown",
      "metadata": {
        "id": "92wRmYRlsJ54"
      },
      "source": [
        "## Problem  4.40\n",
        "from the chapter 4, D. C. Montgomery DAoE - 8. edition.\n"
      ]
    },
    {
      "cell_type": "markdown",
      "metadata": {
        "id": "Tai_J8-1rv_U"
      },
      "source": [
        "\n",
        "An engineer is studying the mileage performance\n",
        "characteristics of five types of gasoline additives. In the road\n",
        "test he wishes to use cars as blocks; however, because of a time constraint, he must use an incomplete block design. He\n",
        "runs the balanced design with the five blocks that follow.\n",
        "Analyze the data from this experiment (use $\\alpha\t = 0.05$) and\n",
        "draw conclusions.\n"
      ]
    },
    {
      "cell_type": "code",
      "execution_count": null,
      "metadata": {
        "execution": {
          "iopub.execute_input": "2025-10-13T17:24:58.945899Z",
          "iopub.status.busy": "2025-10-13T17:24:58.945899Z",
          "iopub.status.idle": "2025-10-13T17:24:59.250841Z",
          "shell.execute_reply": "2025-10-13T17:24:59.250841Z"
        },
        "id": "4QhAwjRvWwCN"
      },
      "outputs": [],
      "source": [
        "# Read the data from the URL\n",
        "url_4_40 = \"https://raw.githubusercontent.com/francji1/01NAEX/main/data/Problem_4_40.txt\"\n",
        "df_4_40 = pd.read_csv(url_4_40, sep=\";\")\n",
        "\n",
        "# Display the first few rows of the dataframe\n",
        "df_4_40.head()"
      ]
    },
    {
      "cell_type": "markdown",
      "metadata": {
        "id": "xqGV-sqAt8Em"
      },
      "source": [
        "# Problem  4.42\n",
        "from the chapter 4, D. C. Montgomery DAoE - 8. edition.\\\\[3mm]\n"
      ]
    },
    {
      "cell_type": "markdown",
      "metadata": {
        "id": "--4FOfk3uRiA"
      },
      "source": [
        "Seven different hardwood concentrations are being studied to determine their effect on the strength of the paper produced. However, the pilot plant can only produce three\truns each day. As days may differ, the analyst uses the balanced incomplete block design that follows. Analyze the data from this experiment (use $\\alpha = 0.05$) and draw conclusions.\n",
        "\n",
        "Try to run, in addition to ANOVA with BIBD, the linear model with concentration as a quantitative response too (on condition there is no day effect).\n",
        "\n"
      ]
    },
    {
      "cell_type": "code",
      "execution_count": null,
      "metadata": {
        "execution": {
          "iopub.execute_input": "2025-10-13T17:24:59.254849Z",
          "iopub.status.busy": "2025-10-13T17:24:59.253850Z",
          "iopub.status.idle": "2025-10-13T17:24:59.553007Z",
          "shell.execute_reply": "2025-10-13T17:24:59.553007Z"
        },
        "id": "fxD9HMoPrbHg"
      },
      "outputs": [],
      "source": [
        "# Read the data from the URL\n",
        "url_4_42 = \"https://raw.githubusercontent.com/francji1/01NAEX/main/data/Problem_4_42.txt\"\n",
        "df_4_42 = pd.read_csv(url_4_42, sep=\";\")\n",
        "\n",
        "# Display the first few rows of the dataframe\n",
        "df_4_42.head()"
      ]
    },
    {
      "cell_type": "code",
      "execution_count": null,
      "metadata": {
        "id": "pE5TJpklrbPN"
      },
      "outputs": [],
      "source": []
    },
    {
      "cell_type": "code",
      "execution_count": null,
      "metadata": {
        "id": "2F26bckauxvB"
      },
      "outputs": [],
      "source": []
    },
    {
      "cell_type": "code",
      "execution_count": null,
      "metadata": {
        "id": "gGBBoUASWAt1"
      },
      "outputs": [],
      "source": []
    },
    {
      "cell_type": "code",
      "execution_count": null,
      "metadata": {
        "id": "SIS6edy2WAxd"
      },
      "outputs": [],
      "source": []
    }
  ],
  "metadata": {
    "colab": {
      "private_outputs": true,
      "provenance": [],
      "include_colab_link": true
    },
    "kernelspec": {
      "display_name": "Python 3",
      "name": "python3"
    },
    "language_info": {
      "codemirror_mode": {
        "name": "ipython",
        "version": 3
      },
      "file_extension": ".py",
      "mimetype": "text/x-python",
      "name": "python",
      "nbconvert_exporter": "python",
      "pygments_lexer": "ipython3",
      "version": "3.12.7"
    }
  },
  "nbformat": 4,
  "nbformat_minor": 0
}