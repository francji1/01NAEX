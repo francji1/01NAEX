{
  "nbformat": 4,
  "nbformat_minor": 0,
  "metadata": {
    "colab": {
      "private_outputs": true,
      "provenance": [],
      "authorship_tag": "ABX9TyObeJe7JGVOqcbYpjKwrvMH",
      "include_colab_link": true
    },
    "kernelspec": {
      "name": "python3",
      "display_name": "Python 3"
    },
    "language_info": {
      "name": "python"
    }
  },
  "cells": [
    {
      "cell_type": "markdown",
      "metadata": {
        "id": "view-in-github",
        "colab_type": "text"
      },
      "source": [
        "<a href=\"https://colab.research.google.com/github/francji1/01NAEX/blob/main/code/01NAEX_Exercise_04_python.ipynb\" target=\"_parent\"><img src=\"https://colab.research.google.com/assets/colab-badge.svg\" alt=\"Open In Colab\"/></a>"
      ]
    },
    {
      "cell_type": "markdown",
      "source": [
        "\n",
        "# O1NAEX Exercise 04"
      ],
      "metadata": {
        "id": "SJRUeUJPrezp"
      }
    },
    {
      "cell_type": "markdown",
      "metadata": {
        "id": "nEGyKc3C8teG"
      },
      "source": [
        "## Setup"
      ]
    },
    {
      "cell_type": "code",
      "execution_count": null,
      "metadata": {
        "id": "26cEQ8Nt8teK"
      },
      "outputs": [],
      "source": [
        "!pip install rpy2"
      ]
    },
    {
      "cell_type": "code",
      "execution_count": null,
      "metadata": {
        "id": "vCDVk5ts8teL"
      },
      "outputs": [],
      "source": [
        "%load_ext rpy2.ipython"
      ]
    },
    {
      "cell_type": "code",
      "source": [],
      "metadata": {
        "id": "X-tQykDJeaY9"
      },
      "execution_count": null,
      "outputs": []
    },
    {
      "cell_type": "code",
      "source": [
        "import numpy as np\n",
        "import pandas as pd\n",
        "import matplotlib.pyplot as plt\n",
        "from scipy.stats import norm, t\n",
        "import statsmodels.api as sm\n",
        "import statsmodels.formula.api as smf\n",
        "import seaborn as sns\n"
      ],
      "metadata": {
        "id": "AzDtqykGeacb"
      },
      "execution_count": null,
      "outputs": []
    },
    {
      "cell_type": "code",
      "source": [
        "# Recap of the Lecture in Python\n",
        "\n",
        "# Read the data from the URL\n",
        "rocket_path = \"https://raw.githubusercontent.com/francji1/01NAEX/refs/heads/main/data/rocket2.txt\"\n",
        "rocket = pd.read_csv(rocket_path, sep=\";\")\n",
        "\n",
        "\n",
        "# Renaming columns for consistency\n",
        "rocket.rename(columns={'op': 'operator', 'y': 'Propellant'}, inplace=True)\n",
        "\n",
        "# Converting columns to factors (categorical variables)\n",
        "rocket['operator'] = rocket['operator'].astype('category')\n",
        "rocket['batch'] = rocket['batch'].astype('category')\n",
        "\n",
        "# Latin Square Design Plotting\n",
        "sns.boxplot(x='operator', y='Propellant', data=rocket)\n",
        "plt.show()\n",
        "\n",
        "sns.boxplot(x='batch', y='Propellant', data=rocket)\n",
        "plt.show()\n",
        "\n",
        "sns.boxplot(x='treat', y='Propellant', data=rocket)\n",
        "plt.show()\n",
        "\n",
        "# Latin Square Design - Linear Model\n",
        "rocket_lm = smf.ols('Propellant ~ operator + batch + treat', data=rocket).fit()\n",
        "print(sm.stats.anova_lm(rocket_lm))\n",
        "\n",
        "\n",
        "# Without considering batch as a factor\n",
        "rocket_lm2 = smf.ols('Propellant ~ operator + treat', data=rocket).fit()\n",
        "print(sm.stats.anova_lm(rocket_lm2))"
      ],
      "metadata": {
        "id": "a7zFYA4nIC38"
      },
      "execution_count": null,
      "outputs": []
    },
    {
      "cell_type": "markdown",
      "source": [
        "\n",
        "##\tProblem 4.23\n",
        "from the chapter 4, D. C. Montgomery DAoE - 8. edition.\n",
        "\n",
        "An industrial engineer is investigating the effect of\n",
        "four assembly methods (A, B, C, D) on the assembly time for\n",
        "a color television component. Four operators are selected for\n",
        "the study. Furthermore, the engineer knows that each assembly\n",
        "method produces such fatigue that the time required for\n",
        "the last assembly may be greater than the time required for the\n",
        "first, regardless of the method. That is, a trend develops in the\n",
        "required assembly time. To account for this source of variability,\n",
        "the engineer uses the Latin square design shown below.\n",
        "Analyze the data from this experiment (use\t$\\alpha = 0.05$) and draw\n",
        "appropriate conclusions.\n",
        "\n"
      ],
      "metadata": {
        "id": "_lYQT0wrrb3V"
      }
    },
    {
      "cell_type": "code",
      "source": [
        "# Read the data from the URL\n",
        "url_4_23 = \"https://raw.githubusercontent.com/francji1/01NAEX/main/data/Problem_4_23.txt\"\n",
        "df_4_23 = pd.read_csv(url_4_23, sep=\";\")\n",
        "\n",
        "# Display the first few rows of the dataframe\n",
        "df_4_23.head()"
      ],
      "metadata": {
        "id": "NEM0lHPvWZ0w"
      },
      "execution_count": null,
      "outputs": []
    },
    {
      "cell_type": "markdown",
      "source": [
        "## Problem  4.40\n",
        "from the chapter 4, D. C. Montgomery DAoE - 8. edition.\n"
      ],
      "metadata": {
        "id": "92wRmYRlsJ54"
      }
    },
    {
      "cell_type": "markdown",
      "source": [
        "\n",
        "An engineer is studying the mileage performance\n",
        "characteristics of five types of gasoline additives. In the road\n",
        "test he wishes to use cars as blocks; however, because of a time constraint, he must use an incomplete block design. He\n",
        "runs the balanced design with the five blocks that follow.\n",
        "Analyze the data from this experiment (use $\\alpha\t = 0.05$) and\n",
        "draw conclusions.\n"
      ],
      "metadata": {
        "id": "Tai_J8-1rv_U"
      }
    },
    {
      "cell_type": "code",
      "source": [
        "# Read the data from the URL\n",
        "url_4_40 = \"https://raw.githubusercontent.com/francji1/01NAEX/main/data/Problem_4_40.txt\"\n",
        "df_4_40 = pd.read_csv(url_4_40, sep=\";\")\n",
        "\n",
        "# Display the first few rows of the dataframe\n",
        "df_4_40.head()"
      ],
      "metadata": {
        "id": "4QhAwjRvWwCN"
      },
      "execution_count": null,
      "outputs": []
    },
    {
      "cell_type": "markdown",
      "source": [
        "# Problem  4.42\n",
        "from the chapter 4, D. C. Montgomery DAoE - 8. edition.\\\\[3mm]\n"
      ],
      "metadata": {
        "id": "xqGV-sqAt8Em"
      }
    },
    {
      "cell_type": "markdown",
      "source": [
        "Seven different hardwood concentrations are being studied to determine their effect on the strength of the paper produced. However, the pilot plant can only produce three\truns each day. As days may differ, the analyst uses the balanced incomplete block design that follows. Analyze the data from this experiment (use $\\alpha = 0.05$) and draw conclusions.\n",
        "\n",
        "Try to run, in addition to ANOVA with BIBD, the linear model with concentration as a quantitative response too (on condition there is no day effect).\n",
        "\n"
      ],
      "metadata": {
        "id": "--4FOfk3uRiA"
      }
    },
    {
      "cell_type": "code",
      "source": [
        "# Read the data from the URL\n",
        "url_4_42 = \"https://raw.githubusercontent.com/francji1/01NAEX/main/data/Problem_4_42.txt\"\n",
        "df_4_42 = pd.read_csv(url_4_42, sep=\";\")\n",
        "\n",
        "# Display the first few rows of the dataframe\n",
        "df_4_42.head()"
      ],
      "metadata": {
        "id": "fxD9HMoPrbHg"
      },
      "execution_count": null,
      "outputs": []
    },
    {
      "cell_type": "code",
      "source": [],
      "metadata": {
        "id": "pE5TJpklrbPN"
      },
      "execution_count": null,
      "outputs": []
    },
    {
      "cell_type": "code",
      "source": [],
      "metadata": {
        "id": "2F26bckauxvB"
      },
      "execution_count": null,
      "outputs": []
    },
    {
      "cell_type": "code",
      "source": [],
      "metadata": {
        "id": "gGBBoUASWAt1"
      },
      "execution_count": null,
      "outputs": []
    },
    {
      "cell_type": "code",
      "source": [],
      "metadata": {
        "id": "SIS6edy2WAxd"
      },
      "execution_count": null,
      "outputs": []
    }
  ]
}