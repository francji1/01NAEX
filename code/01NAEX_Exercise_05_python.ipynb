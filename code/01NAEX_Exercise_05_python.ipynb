{
  "cells": [
    {
      "cell_type": "markdown",
      "metadata": {
        "id": "view-in-github",
        "colab_type": "text"
      },
      "source": [
        "<a href=\"https://colab.research.google.com/github/francji1/01NAEX/blob/main/code/01NAEX_Exercise_05_python.ipynb\" target=\"_parent\"><img src=\"https://colab.research.google.com/assets/colab-badge.svg\" alt=\"Open In Colab\"/></a>"
      ]
    },
    {
      "cell_type": "markdown",
      "id": "299fb084",
      "metadata": {
        "id": "299fb084"
      },
      "source": [
        "\n",
        "# O1NAEX Exercise 05"
      ]
    },
    {
      "cell_type": "markdown",
      "id": "296f13b3",
      "metadata": {
        "id": "296f13b3"
      },
      "source": [
        "##\tProblem 6.1\n",
        "from the chapter 6, D. C. Montgomery DAoE - 8. edition.\n",
        "\n",
        "An engineer is interested in the effects of cutting\n",
        "speed (A), tool geometry (B), and cutting angle (C) on the life\n",
        "(in hours) of a machine tool. Two levels of each factor are\n",
        "chosen, and three replicates of a 23 factorial design are run.\n",
        "The results are as follows:"
      ]
    },
    {
      "cell_type": "code",
      "execution_count": null,
      "id": "df76858a",
      "metadata": {
        "colab": {
          "base_uri": "https://localhost:8080/",
          "height": 206
        },
        "id": "df76858a",
        "outputId": "3b83cd3a-0f70-4223-d20a-4240581f7c38"
      },
      "outputs": [
        {
          "data": {
            "text/html": [
              "<div>\n",
              "<style scoped>\n",
              "    .dataframe tbody tr th:only-of-type {\n",
              "        vertical-align: middle;\n",
              "    }\n",
              "\n",
              "    .dataframe tbody tr th {\n",
              "        vertical-align: top;\n",
              "    }\n",
              "\n",
              "    .dataframe thead th {\n",
              "        text-align: right;\n",
              "    }\n",
              "</style>\n",
              "<table border=\"1\" class=\"dataframe\">\n",
              "  <thead>\n",
              "    <tr style=\"text-align: right;\">\n",
              "      <th></th>\n",
              "      <th>CuttingSpeed</th>\n",
              "      <th>ToolGeometry</th>\n",
              "      <th>CuttingAngle</th>\n",
              "      <th>LifeHours</th>\n",
              "    </tr>\n",
              "  </thead>\n",
              "  <tbody>\n",
              "    <tr>\n",
              "      <th>0</th>\n",
              "      <td>-1</td>\n",
              "      <td>-1</td>\n",
              "      <td>-1</td>\n",
              "      <td>22</td>\n",
              "    </tr>\n",
              "    <tr>\n",
              "      <th>1</th>\n",
              "      <td>-1</td>\n",
              "      <td>-1</td>\n",
              "      <td>-1</td>\n",
              "      <td>31</td>\n",
              "    </tr>\n",
              "    <tr>\n",
              "      <th>2</th>\n",
              "      <td>-1</td>\n",
              "      <td>-1</td>\n",
              "      <td>-1</td>\n",
              "      <td>25</td>\n",
              "    </tr>\n",
              "    <tr>\n",
              "      <th>3</th>\n",
              "      <td>1</td>\n",
              "      <td>-1</td>\n",
              "      <td>-1</td>\n",
              "      <td>32</td>\n",
              "    </tr>\n",
              "    <tr>\n",
              "      <th>4</th>\n",
              "      <td>1</td>\n",
              "      <td>-1</td>\n",
              "      <td>-1</td>\n",
              "      <td>43</td>\n",
              "    </tr>\n",
              "    <tr>\n",
              "      <th>5</th>\n",
              "      <td>1</td>\n",
              "      <td>-1</td>\n",
              "      <td>-1</td>\n",
              "      <td>29</td>\n",
              "    </tr>\n",
              "    <tr>\n",
              "      <th>6</th>\n",
              "      <td>-1</td>\n",
              "      <td>1</td>\n",
              "      <td>-1</td>\n",
              "      <td>35</td>\n",
              "    </tr>\n",
              "    <tr>\n",
              "      <th>7</th>\n",
              "      <td>-1</td>\n",
              "      <td>1</td>\n",
              "      <td>-1</td>\n",
              "      <td>34</td>\n",
              "    </tr>\n",
              "  </tbody>\n",
              "</table>\n",
              "</div>"
            ],
            "text/plain": [
              "   CuttingSpeed  ToolGeometry  CuttingAngle  LifeHours\n",
              "0            -1            -1            -1         22\n",
              "1            -1            -1            -1         31\n",
              "2            -1            -1            -1         25\n",
              "3             1            -1            -1         32\n",
              "4             1            -1            -1         43\n",
              "5             1            -1            -1         29\n",
              "6            -1             1            -1         35\n",
              "7            -1             1            -1         34"
            ]
          },
          "execution_count": 3,
          "metadata": {},
          "output_type": "execute_result"
        }
      ],
      "source": [
        "import pandas as pd\n",
        "import statsmodels.api as sm\n",
        "import statsmodels.formula.api as smf\n",
        "import matplotlib.pyplot as plt\n",
        "import numpy as np\n",
        "\n",
        "\n",
        "df61 = pd.read_csv(\"https://raw.githubusercontent.com/francji1/01NAEX/main/data/Problem_6_1.txt\", sep=\";\")\n",
        "df61.head(8)"
      ]
    },
    {
      "cell_type": "markdown",
      "id": "dbEJmeh3zNWJ",
      "metadata": {
        "id": "dbEJmeh3zNWJ"
      },
      "source": [
        "\n",
        "1. Estimate the factor effects. Which effects appear to be\n",
        "large?\n",
        "2. Use the analysis of variance to confirm your conclusions\n",
        "for part (a).Examine the interaction effects between cutting speed (A) and tool geometry (B). How do these interactions influence tool life compared to the main effects?\n",
        "3. Write down a regression model for predicting tool life\n",
        "(in hours) based on the results of this experiment.\n",
        "4. Analyze the residuals. Are there any obvious problems?\n",
        "5. On the basis of an analysis of main effect and interaction\n",
        "plots, what coded factor levels of A, B, and C\n",
        "would you recommend using?\n",
        "6. Reconsider task 3. Use the regression\n",
        "model to generate response surface and contour plots of the\n",
        "tool life response. Interpret these plots. Do they provide insight\n",
        "regarding the desirable operating conditions for this process?\n",
        "7. Find the standard error of the factor effects and\n",
        "approximate 95 percent confidence limits for the factor effects. Do the results of this analysis agree with the conclusions from the analysis of variance?\n",
        "8. Given the results from your analysis of variance and the regression model, what specific settings for cutting speed (A), tool geometry (B), and cutting angle (C) would you recommend for maximizing tool life? Justify your recommendations with supporting data.\n",
        "9. Conduct a sensitivity analysis to determine how changes in each factor (A, B, and C) impact the variability of tool life. Which factor has the most significant effect on tool life variability, and how might this influence future experimental designs?\n",
        "\n"
      ]
    },
    {
      "cell_type": "code",
      "execution_count": null,
      "id": "VZ1RSfyoRT6-",
      "metadata": {
        "id": "VZ1RSfyoRT6-"
      },
      "outputs": [],
      "source": []
    }
  ],
  "metadata": {
    "colab": {
      "provenance": [],
      "include_colab_link": true
    },
    "kernelspec": {
      "display_name": "Python 3",
      "name": "python3"
    },
    "language_info": {
      "codemirror_mode": {
        "name": "ipython",
        "version": 3
      },
      "file_extension": ".py",
      "mimetype": "text/x-python",
      "name": "python",
      "nbconvert_exporter": "python",
      "pygments_lexer": "ipython3",
      "version": "3.12.7"
    }
  },
  "nbformat": 4,
  "nbformat_minor": 5
}