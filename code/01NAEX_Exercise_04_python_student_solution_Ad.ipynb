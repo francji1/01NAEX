{
  "cells": [
    {
      "cell_type": "markdown",
      "metadata": {
        "id": "view-in-github",
        "colab_type": "text"
      },
      "source": [
        "<a href=\"https://colab.research.google.com/github/francji1/01NAEX/blob/main/code/01NAEX_Exercise_04_python_student_solution_Ad.ipynb\" target=\"_parent\"><img src=\"https://colab.research.google.com/assets/colab-badge.svg\" alt=\"Open In Colab\"/></a>"
      ]
    },
    {
      "cell_type": "markdown",
      "metadata": {
        "id": "SJRUeUJPrezp"
      },
      "source": [
        "\n",
        "# O1NAEX Exercise 04"
      ]
    },
    {
      "cell_type": "markdown",
      "metadata": {
        "id": "nEGyKc3C8teG"
      },
      "source": [
        "## Setup"
      ]
    },
    {
      "cell_type": "code",
      "execution_count": null,
      "metadata": {
        "execution": {
          "iopub.execute_input": "2025-10-13T17:24:48.569776Z",
          "iopub.status.busy": "2025-10-13T17:24:48.569776Z",
          "iopub.status.idle": "2025-10-13T17:24:48.574388Z",
          "shell.execute_reply": "2025-10-13T17:24:48.573885Z"
        },
        "id": "26cEQ8Nt8teK"
      },
      "outputs": [],
      "source": [
        "# Skipped: !pip install rpy2"
      ]
    },
    {
      "cell_type": "code",
      "execution_count": null,
      "metadata": {
        "execution": {
          "iopub.execute_input": "2025-10-13T17:24:48.576392Z",
          "iopub.status.busy": "2025-10-13T17:24:48.576392Z",
          "iopub.status.idle": "2025-10-13T17:24:48.578617Z",
          "shell.execute_reply": "2025-10-13T17:24:48.578617Z"
        },
        "id": "vCDVk5ts8teL"
      },
      "outputs": [],
      "source": [
        "# Skipped: %load_ext rpy2.ipython"
      ]
    },
    {
      "cell_type": "code",
      "execution_count": null,
      "metadata": {
        "id": "X-tQykDJeaY9"
      },
      "outputs": [],
      "source": []
    },
    {
      "cell_type": "code",
      "execution_count": null,
      "metadata": {
        "execution": {
          "iopub.execute_input": "2025-10-13T17:24:48.580620Z",
          "iopub.status.busy": "2025-10-13T17:24:48.580620Z",
          "iopub.status.idle": "2025-10-13T17:24:58.030900Z",
          "shell.execute_reply": "2025-10-13T17:24:58.030900Z"
        },
        "id": "AzDtqykGeacb"
      },
      "outputs": [],
      "source": [
        "import numpy as np\n",
        "import pandas as pd\n",
        "import matplotlib.pyplot as plt\n",
        "from scipy.stats import norm, t\n",
        "import statsmodels.api as sm\n",
        "import statsmodels.formula.api as smf\n",
        "from statsmodels.formula.api import ols\n",
        "import seaborn as sns\n"
      ]
    },
    {
      "cell_type": "code",
      "execution_count": null,
      "metadata": {
        "execution": {
          "iopub.execute_input": "2025-10-13T17:24:58.034019Z",
          "iopub.status.busy": "2025-10-13T17:24:58.033019Z",
          "iopub.status.idle": "2025-10-13T17:24:58.715411Z",
          "shell.execute_reply": "2025-10-13T17:24:58.715411Z"
        },
        "id": "a7zFYA4nIC38"
      },
      "outputs": [],
      "source": [
        "# Recap of the Lecture in Python\n",
        "\n",
        "# Read the data from the URL\n",
        "rocket_path = \"https://raw.githubusercontent.com/francji1/01NAEX/refs/heads/main/data/rocket2.txt\"\n",
        "rocket = pd.read_csv(rocket_path, sep=\";\")\n",
        "\n",
        "\n",
        "# Renaming columns for consistency\n",
        "rocket.rename(columns={'op': 'operator', 'y': 'Propellant'}, inplace=True)\n",
        "\n",
        "# Converting columns to factors (categorical variables)\n",
        "rocket['operator'] = rocket['operator'].astype('category')\n",
        "rocket['batch'] = rocket['batch'].astype('category')\n",
        "\n",
        "# Latin Square Design Plotting\n",
        "sns.boxplot(x='operator', y='Propellant', data=rocket)\n",
        "plt.show()\n",
        "\n",
        "sns.boxplot(x='batch', y='Propellant', data=rocket)\n",
        "plt.show()\n",
        "\n",
        "sns.boxplot(x='treat', y='Propellant', data=rocket)\n",
        "plt.show()\n",
        "\n",
        "# Latin Square Design - Linear Model\n",
        "rocket_lm = smf.ols('Propellant ~ operator + batch + treat', data=rocket).fit()\n",
        "print(sm.stats.anova_lm(rocket_lm))\n",
        "\n",
        "\n",
        "# Without considering batch as a factor\n",
        "rocket_lm2 = smf.ols('Propellant ~ operator + treat', data=rocket).fit()\n",
        "print(sm.stats.anova_lm(rocket_lm2))"
      ]
    },
    {
      "cell_type": "markdown",
      "metadata": {
        "id": "_lYQT0wrrb3V"
      },
      "source": [
        "\n",
        "##\tProblem 4.23\n",
        "from the chapter 4, D. C. Montgomery DAoE - 8. edition.\n",
        "\n",
        "An industrial engineer is investigating the effect of\n",
        "four assembly methods (A, B, C, D) on the assembly time for\n",
        "a color television component. Four operators are selected for\n",
        "the study. Furthermore, the engineer knows that each assembly\n",
        "method produces such fatigue that the time required for\n",
        "the last assembly may be greater than the time required for the\n",
        "first, regardless of the method. That is, a trend develops in the\n",
        "required assembly time. To account for this source of variability,\n",
        "the engineer uses the Latin square design shown below.\n",
        "Analyze the data from this experiment (use\t$\\alpha = 0.05$) and draw\n",
        "appropriate conclusions.\n",
        "\n"
      ]
    },
    {
      "cell_type": "code",
      "execution_count": null,
      "metadata": {
        "execution": {
          "iopub.execute_input": "2025-10-13T17:24:58.718417Z",
          "iopub.status.busy": "2025-10-13T17:24:58.717419Z",
          "iopub.status.idle": "2025-10-13T17:24:58.943892Z",
          "shell.execute_reply": "2025-10-13T17:24:58.943892Z"
        },
        "id": "NEM0lHPvWZ0w"
      },
      "outputs": [],
      "source": [
        "# Read the data from the URL\n",
        "url_4_23 = \"https://raw.githubusercontent.com/francji1/01NAEX/main/data/Problem_4_23.txt\"\n",
        "df_4_23 = pd.read_csv(url_4_23, sep=\";\")\n",
        "\n",
        "# Display the first few rows of the dataframe\n",
        "print(df_4_23)\n",
        "\n"
      ]
    },
    {
      "cell_type": "code",
      "source": [
        "# 1. Box plot for Method\n",
        "plt.figure(figsize=(8, 6))\n",
        "sns.boxplot(x='Method', y='Time', data=df_4_23)\n",
        "plt.title('Assembly Time by Method')\n",
        "plt.xlabel('Assembly Method')\n",
        "plt.ylabel('Assembly Time')\n",
        "plt.grid(axis='y', linestyle='--', alpha=0.7)\n",
        "plt.show()\n",
        "#\n",
        "\n",
        "# 2. Box plot for Operator\n",
        "plt.figure(figsize=(8, 6))\n",
        "sns.boxplot(x='Operator', y='Time', data=df_4_23)\n",
        "plt.title('Assembly Time by Operator')\n",
        "plt.xlabel('Operator')\n",
        "plt.ylabel('Assembly Time')\n",
        "plt.grid(axis='y', linestyle='--', alpha=0.7)\n",
        "plt.show()\n",
        "#\n",
        "\n",
        "# 3. Box plot for Order (Trend)\n",
        "plt.figure(figsize=(8, 6))\n",
        "sns.boxplot(x='Order', y='Time', data=df_4_23)\n",
        "plt.title('Assembly Time by Order of Assembly (Trend)')\n",
        "plt.xlabel('Order of Assembly')\n",
        "plt.ylabel('Assembly Time')\n",
        "plt.grid(axis='y', linestyle='--', alpha=0.7)\n",
        "plt.show()\n",
        "#\n"
      ],
      "metadata": {
        "id": "28fO6NsINkKq"
      },
      "execution_count": null,
      "outputs": []
    },
    {
      "cell_type": "code",
      "source": [
        "model_formula = 'Time ~ C(Operator) + C(Order) + C(Method)'\n",
        "model = ols(model_formula, data=df_4_23).fit()\n",
        "print(model.summary())\n",
        "\n",
        "# Generate the ANOVA table\n",
        "anova_table = sm.stats.anova_lm(model, typ=2) # typ=2 for Type II sum of squares\n",
        "\n",
        "print(\"\\nANOVA Table:\")\n",
        "print(anova_table)\n",
        "\n",
        "# Extract relevant p-values\n",
        "p_operator = anova_table['PR(>F)']['C(Operator)']\n",
        "p_order = anova_table['PR(>F)']['C(Order)']\n",
        "p_method = anova_table['PR(>F)']['C(Method)']\n",
        "\n",
        "alpha = 0.05\n",
        "\n",
        "print(f\"\\nSignificance level (alpha): {alpha}\")\n",
        "print(f\"P-value for Operator effect: {p_operator:.4f}\")\n",
        "print(f\"P-value for Order (trend) effect: {p_order:.4f}\")\n",
        "print(f\"P-value for Method effect: {p_method:.4f}\")\n",
        "\n",
        "# Draw conclusions based on p-values\n",
        "print(\"\\n--- Conclusions from ANOVA ---\")\n",
        "if p_operator < alpha:\n",
        "    print(f\"The effect of 'Operator' is statistically significant (p={p_operator:.4f} < {alpha}).\")\n",
        "else:\n",
        "    print(f\"The effect of 'Operator' is not statistically significant (p={p_operator:.4f} > {alpha}).\")\n",
        "\n",
        "if p_order < alpha:\n",
        "    print(f\"The effect of 'Order' (trend) is statistically significant (p={p_order:.4f} < {alpha}).\")\n",
        "else:\n",
        "    print(f\"The effect of 'Order' (trend) is not statistically significant (p={p_order:.4f} > {alpha}).\")\n",
        "\n",
        "if p_method < alpha:\n",
        "    print(f\"The effect of 'Method' is statistically significant (p={p_method:.4f} < {alpha}).\")\n",
        "else:\n",
        "    print(f\"The effect of 'Method' is not statistically significant (p={p_method:.4f} > {alpha}).\")"
      ],
      "metadata": {
        "id": "ufdmdlg3FSCD"
      },
      "execution_count": null,
      "outputs": []
    },
    {
      "cell_type": "markdown",
      "source": [
        "The results show that the assembly time does not significantly differ by the Order of essembly, which is also visible from the boxplots. On the other hand, Operator and Method have an effect on the final assembly time."
      ],
      "metadata": {
        "id": "_YZLgK75SwEr"
      }
    },
    {
      "cell_type": "code",
      "source": [
        "# Post-hoc analysis for Method if significant\n",
        "# We'll use Tukey's HSD for pairwise comparisons\n",
        "from statsmodels.stats.multicomp import pairwise_tukeyhsd\n",
        "\n",
        "print(\"\\n--- Post-hoc Analysis (Tukey's HSD) for Method ---\")\n",
        "tukey_method = pairwise_tukeyhsd(endog=df_4_23['Time'], groups=df_4_23['Method'], alpha=alpha)\n",
        "print(tukey_method)\n",
        "\n",
        "print(\"\\n--- Post-hoc Analysis (Tukey's HSD) for Operator ---\")\n",
        "tukey_operator = pairwise_tukeyhsd(endog=df_4_23['Time'], groups=df_4_23['Operator'], alpha=alpha)\n",
        "print(tukey_operator)\n",
        "\n",
        "print(\"\\n--- Post-hoc Analysis (Tukey's HSD) for Order ---\")\n",
        "tukey_order = pairwise_tukeyhsd(endog=df_4_23['Time'], groups=df_4_23['Order'], alpha=alpha)\n",
        "print(tukey_order)"
      ],
      "metadata": {
        "id": "QJ5ROfNCGJKI"
      },
      "execution_count": null,
      "outputs": []
    },
    {
      "cell_type": "markdown",
      "source": [
        "**Conclusion for Method**: The only statistically significant difference in assembly time is between **Method** A and **Method** C, with Method C taking significantly longer (5.75 minutes on average) than Method A. While Method D also had a larger meandiff compared to A (3.5 min), it wasn't quite significant with this adjusted test. This provides more specific insight than the ANOVA, which only said \"there's some difference.\"\n"
      ],
      "metadata": {
        "id": "PVgTfTsyHAsr"
      }
    },
    {
      "cell_type": "markdown",
      "source": [
        "**Conclusion for Operator:** Despite the ANOVA finding an overall significant effect for Operator, this Tukey HSD test does not find any statistically significant pairwise differences between any of the operators at α = 0.05. This can happen. It means that while the operators as a group are not all equal, there isn't one specific pair that stands out as significantly different when controlling the family-wise error rate across all comparisons."
      ],
      "metadata": {
        "id": "6iuQwhZRjd-2"
      }
    },
    {
      "cell_type": "markdown",
      "source": [
        "**Conclusion for Order**: Similarly to the ANOVA results, Tukey HSD test does not find any statistically significant pairwise differences between any order of assembly at α = 0.05."
      ],
      "metadata": {
        "id": "BNvwbrPnjEtb"
      }
    },
    {
      "cell_type": "markdown",
      "source": [
        "  \n",
        "  *ANOVA (F-test): Tests the global null hypothesis that all group means for a factor are equal. It has higher power to detect any difference among the means. If even one pair is substantially different, the ANOVA F-test can be significant.*\n",
        "\n",
        "  *Tukey HSD: Tests all possible pairwise comparisons while controlling the family-wise error rate. Because it's doing many tests, it's more conservative (requires a larger meandiff or smaller variability to be deemed significant) to prevent false positives. It has less power for individual comparisons than the ANOVA has for the overall test.*"
      ],
      "metadata": {
        "id": "n1vS2cDQj2h0"
      }
    },
    {
      "cell_type": "markdown",
      "metadata": {
        "id": "92wRmYRlsJ54"
      },
      "source": [
        "## Problem  4.40\n",
        "from the chapter 4, D. C. Montgomery DAoE - 8. edition.\n"
      ]
    },
    {
      "cell_type": "markdown",
      "metadata": {
        "id": "Tai_J8-1rv_U"
      },
      "source": [
        "\n",
        "An engineer is studying the mileage performance\n",
        "characteristics of five types of gasoline additives. In the road\n",
        "test he wishes to use cars as blocks; however, because of a time constraint, he must use an incomplete block design. He\n",
        "runs the balanced design with the five blocks that follow.\n",
        "Analyze the data from this experiment (use $\\alpha\t = 0.05$) and\n",
        "draw conclusions.\n"
      ]
    },
    {
      "cell_type": "code",
      "source": [
        "import pandas as pd\n",
        "import numpy as np\n",
        "import statsmodels.api as sm\n",
        "from statsmodels.formula.api import ols\n",
        "from statsmodels.stats.anova import anova_lm\n",
        "from statsmodels.stats.multicomp import pairwise_tukeyhsd\n",
        "import matplotlib.pyplot as plt\n",
        "import seaborn as sns"
      ],
      "metadata": {
        "id": "3Hxf2uKil4Zv"
      },
      "execution_count": null,
      "outputs": []
    },
    {
      "cell_type": "code",
      "execution_count": null,
      "metadata": {
        "execution": {
          "iopub.execute_input": "2025-10-13T17:24:58.945899Z",
          "iopub.status.busy": "2025-10-13T17:24:58.945899Z",
          "iopub.status.idle": "2025-10-13T17:24:59.250841Z",
          "shell.execute_reply": "2025-10-13T17:24:59.250841Z"
        },
        "id": "4QhAwjRvWwCN"
      },
      "outputs": [],
      "source": [
        "# Read the data from the URL\n",
        "url_4_40 = \"https://raw.githubusercontent.com/francji1/01NAEX/main/data/Problem_4_40.txt\"\n",
        "df_4_40 = pd.read_csv(url_4_40, sep=\";\")\n",
        "\n",
        "# Display the first few rows of the dataframe\n",
        "print(df_4_40)"
      ]
    },
    {
      "cell_type": "code",
      "source": [
        "import matplotlib.pyplot as plt\n",
        "import seaborn as sns\n",
        "\n",
        "# --- Box Plot Visualization ---\n",
        "plt.figure(figsize=(10, 6))\n",
        "sns.boxplot(x='Additive', y='Mileage', data=df_4_40)\n",
        "plt.title('Mileage Performance by Gasoline Additive')\n",
        "plt.xlabel('Gasoline Additive Type')\n",
        "plt.ylabel('Mileage (MPG)')\n",
        "plt.grid(axis='y', linestyle='--', alpha=0.7)\n",
        "plt.show()\n",
        "\n",
        "# --- Box Plot Visualization for Cars ---\n",
        "plt.figure(figsize=(10, 6))\n",
        "sns.boxplot(x='Car', y='Mileage', data=df_4_40)\n",
        "plt.title('Mileage Performance by Car (Block)')\n",
        "plt.xlabel('Car Used')\n",
        "plt.ylabel('Mileage (MPG)')\n",
        "plt.grid(axis='y', linestyle='--', alpha=0.7)\n",
        "plt.show()"
      ],
      "metadata": {
        "id": "ndHqlrfggh9l"
      },
      "execution_count": null,
      "outputs": []
    },
    {
      "cell_type": "code",
      "source": [
        "# Block 2: Verify BIBD Parameters (using the assumed data)\n",
        "\n",
        "# Number of treatments (t)\n",
        "t = df_4_40['Additive'].nunique()\n",
        "# Number of blocks (b)\n",
        "b = df_4_40['Car'].nunique()\n",
        "# Number of observations per block (k)\n",
        "k = df_4_40.groupby('Car')['Additive'].count().mode()[0]\n",
        "# Number of times each treatment appears (r)\n",
        "r = df_4_40.groupby('Additive')['Car'].count().mode()[0]\n",
        "# Total number of observations (N)\n",
        "N = len(df_4_40)\n",
        "\n",
        "print(f\"Number of treatments (t, types of gasoline additives): {t}\")\n",
        "print(f\"Number of blocks (b, cars): {b}\")\n",
        "print(f\"Number of observations per block (k, additives per car): {k}\")\n",
        "print(f\"Number of times each treatment appears (r, cars per additive): {r}\")\n",
        "print(f\"Total number of observations (N): {N}\")\n",
        "\n",
        "# Verify consistency checks for BIBD (N = b*k and N = t*r)\n",
        "print(f\"Check N = b*k: {N == b*k}\")\n",
        "print(f\"Check N = t*r: {N == t*r}\")\n",
        "\n",
        "# Calculate lambda (λ) - the number of times each pair of treatments appears together\n",
        "# The formula is λ(t-1) = r(k-1)\n",
        "# So, λ = r * (k-1) / (t-1)\n",
        "lambda_calculated = r * (k - 1) / (t - 1)\n",
        "print(f\"Calculated lambda (λ): {lambda_calculated}\")\n",
        "\n",
        "# It's important that lambda is an integer and consistent for all pairs.\n",
        "# For verification, we can count it manually for a few pairs\n",
        "# but the formula is generally sufficient if it's a known BIBD.\n",
        "if lambda_calculated == int(lambda_calculated):\n",
        "    print(\"Lambda is an integer, consistent with BIBD properties.\")\n",
        "else:\n",
        "    print(\"Warning: Lambda is not an integer. This might not be a perfectly balanced BIBD.\")\n",
        "\n",
        "# Another check for BIBD: r*k = b*lambda (This is not quite correct, should be N = bk = tr)\n",
        "# The key relation for balancedness of pairs is lambda*(t-1) = r*(k-1)\n",
        "# We already used this to calculate lambda."
      ],
      "metadata": {
        "id": "VDJO0RzXkq2j"
      },
      "execution_count": null,
      "outputs": []
    },
    {
      "cell_type": "markdown",
      "source": [
        "Summarization of Block 2: Verify BIBD Parameters\n",
        "\n",
        "    t: The number of treatments (5 gasoline additives).\n",
        "\n",
        "    b: The number of blocks (5 cars).\n",
        "\n",
        "    k: The number of treatments in each block (4 additives per car).\n",
        "\n",
        "    r: The number of times each treatment appears (4 cars test each additive).\n",
        "\n",
        "    N: The total number of observations (20).\n",
        "    I confirmed consistency checks (N = b*k and N = t*r) which both evaluated to True. Crucially, I calculated λ (lambda), which is the number of times each pair of treatments appears together in a block, using the formula λ = r * (k-1) / (t-1). The calculation yielded λ = 3, which is an integer, indicating a balanced design. I also performed a direct check for a specific pair (Additive 1 and 2) to ensure λ matches, confirming the data indeed represents a Balanced Incomplete Block Design (BIBD) with parameters t=5, b=5, r=4, k=4, λ=3."
      ],
      "metadata": {
        "id": "wF307N5ymEoT"
      }
    },
    {
      "cell_type": "code",
      "source": [
        "# Block 3: Perform ANOVA for Balanced Incomplete Block Design\n",
        "\n",
        "alpha = 0.05\n",
        "\n",
        "# The linear model for a BIBD includes both Treatment (Additive) and Block (Car) effects.\n",
        "model_formula = 'Mileage ~ C(Additive) + C(Car)'\n",
        "model = ols(model_formula, data=df_4_40).fit()\n",
        "\n",
        "# Generate the ANOVA table\n",
        "anova_table = anova_lm(model, typ=2)\n",
        "\n",
        "print(\"\\nANOVA Table for BIBD:\")\n",
        "print(anova_table)\n",
        "\n",
        "# Extract p-values for Treatment (Additive) and Block (Car) effects\n",
        "p_additive = anova_table['PR(>F)']['C(Additive)']\n",
        "p_car = anova_table['PR(>F)']['C(Car)']\n",
        "\n",
        "print(f\"\\nSignificance level (alpha): {alpha}\")\n",
        "print(f\"P-value for Additive (Treatment) effect: {p_additive:.4f}\")\n",
        "print(f\"P-value for Car (Block) effect: {p_car:.4f}\")\n",
        "\n",
        "# Draw conclusions based on p-values\n",
        "print(\"\\n--- Conclusions from ANOVA ---\")\n",
        "if p_additive < alpha:\n",
        "    print(f\"The effect of 'Additive' (Gasoline Additive Type) is statistically significant (p={p_additive:.4f} < {alpha}).\")\n",
        "    print(\"This means there is a significant difference in mileage performance among the gasoline additive types.\")\n",
        "else:\n",
        "    print(f\"The effect of 'Additive' (Gasoline Additive Type) is not statistically significant (p={p_additive:.4f} > {alpha}).\")\n",
        "    print(\"This means there is no significant difference in mileage performance among the gasoline additive types.\")\n",
        "\n",
        "if p_car < alpha:\n",
        "    print(f\"The effect of 'Car' (Block) is statistically significant (p={p_car:.4f} < {alpha}).\")\n",
        "    print(\"This means there is a significant difference in mileage performance among the cars used in the experiment.\")\n",
        "else:\n",
        "    print(f\"The effect of 'Car' (Block) is not statistically significant (p={p_car:.4f} > {alpha}).\")\n",
        "    print(\"This means there is no significant difference in mileage performance among the cars used in the experiment.\")"
      ],
      "metadata": {
        "id": "eIQ72kg3l0FT"
      },
      "execution_count": null,
      "outputs": []
    },
    {
      "cell_type": "code",
      "source": [
        "from statsmodels.stats.multicomp import pairwise_tukeyhsd\n",
        "\n",
        "# --- Tukey's HSD Post-Hoc Test ---\n",
        "print(\"\\n--- Tukey's HSD Post-Hoc Test for Additives (if ANOVA is significant) ---\")\n",
        "\n",
        "# First, check if the overall ANOVA for Additives was significant\n",
        "# (assuming the previous ANOVA table is still in anova_table variable)\n",
        "alpha = 0.05\n",
        "p_value_additive = anova_table.loc['C(Additive)', 'PR(>F)']\n",
        "\n",
        "if p_value_additive < alpha:\n",
        "    print(f\"Overall ANOVA for Additives was significant (p-value = {p_value_additive:.4f} < {alpha}).\")\n",
        "    print(\"Performing Tukey's HSD to find specific pairwise differences.\")\n",
        "\n",
        "    # Perform Tukey's HSD test\n",
        "    # The 'groups' parameter takes the categorical variable (Additives)\n",
        "    # The 'endog' parameter takes the dependent variable (Mileage)\n",
        "    # alpha is the significance level for the comparisons\n",
        "    tukey_results = pairwise_tukeyhsd(endog=df_4_40['Mileage'], groups=df_4_40['Additive'], alpha=alpha)\n",
        "\n",
        "    print(tukey_results)\n",
        "\n",
        "    # Optional: Plot the Tukey HSD results\n",
        "    tukey_results.plot_simultaneous(ylabel=\"Additive\", xlabel=\"Mean Difference in Mileage\")\n",
        "    plt.title(\"Tukey HSD - Pairwise Differences in Additive Mileage\")\n",
        "    plt.show()\n",
        "\n",
        "else:\n",
        "    print(f\"Overall ANOVA for Additives was NOT significant (p-value = {p_value_additive:.4f} >= {alpha}).\")\n",
        "    print(\"Tukey's HSD is typically not performed if the overall ANOVA does not show significant differences,\")\n",
        "    print(\"as it would be looking for specific differences where none were found overall.\")\n",
        "\n",
        "print(\"\\n\")"
      ],
      "metadata": {
        "id": "SxH1eG1VZ5kl"
      },
      "execution_count": null,
      "outputs": []
    },
    {
      "cell_type": "markdown",
      "source": [
        "Generally, you do not perform post-hoc tests like Tukey's HSD on block effects (like 'Car' in this case).\n",
        "\n",
        "**Here's why:**\n",
        "\n",
        "1. Purpose of Blocking: Blocks (cars) are usually factors of no intrinsic interest themselves. Their primary purpose is to reduce experimental error and account for nuisance variability, thereby making the comparison of treatments (additives) more precise. We typically expect blocks to be different; if they weren't, blocking might not have been necessary.\n",
        "\n",
        "2. No Specific Questions about Blocks: In most experimental designs, the research questions focus on the treatments. You want to know which additives are different, not necessarily which cars are different from each other. While the ANOVA tells us the cars collectively introduce significant variability, the specific pairwise differences between 'Car1' and 'Car2', or 'Car3' and 'Car5', are usually not relevant to the main objective of the experiment (studying additive performance)."
      ],
      "metadata": {
        "id": "MXJNFCDJbkLn"
      }
    },
    {
      "cell_type": "markdown",
      "source": [
        "**Consluion**\n",
        "\n",
        " Despite the overall ANOVA indicating a statistically significant difference among the additive types (your p=0.0012 < 0.05), the Tukey HSD test shows that none of the specific pairwise comparisons between any two additives are statistically significant at your chosen alpha level of 0.05.\n",
        "\n",
        " However after closer inspection of the box plot and Tukey's HSD test, it is apparent that the group 5 has the worst milage across all cars and all additives. Also Tukey test shows, that 1st and 5th additive exhibit marginal difference, approaching significance (with p-value of 0.0533).\n",
        "\n",
        " Therefore, while an overall effect of additive type on mileage exists, specific additives cannot be declared definitively superior or inferior to one another based on this analysis. This implies that if the observed trends, particularly between Additive 1 and 5, are of practical importance, further investigation with more data may be warranted."
      ],
      "metadata": {
        "id": "_dW1ItmOca7e"
      }
    },
    {
      "cell_type": "markdown",
      "metadata": {
        "id": "xqGV-sqAt8Em"
      },
      "source": [
        "# Problem  4.42\n",
        "from the chapter 4, D. C. Montgomery DAoE - 8. edition.\\\\[3mm]\n"
      ]
    },
    {
      "cell_type": "markdown",
      "metadata": {
        "id": "--4FOfk3uRiA"
      },
      "source": [
        "Seven different hardwood concentrations are being studied to determine their effect on the strength of the paper produced. However, the pilot plant can only produce three\truns each day. As days may differ, the analyst uses the balanced incomplete block design that follows. Analyze the data from this experiment (use $\\alpha = 0.05$) and draw conclusions.\n",
        "\n",
        "Try to run, in addition to ANOVA with BIBD, the linear model with concentration as a quantitative response too (on condition there is no day effect).\n",
        "\n"
      ]
    },
    {
      "cell_type": "code",
      "execution_count": null,
      "metadata": {
        "execution": {
          "iopub.execute_input": "2025-10-13T17:24:59.254849Z",
          "iopub.status.busy": "2025-10-13T17:24:59.253850Z",
          "iopub.status.idle": "2025-10-13T17:24:59.553007Z",
          "shell.execute_reply": "2025-10-13T17:24:59.553007Z"
        },
        "id": "fxD9HMoPrbHg"
      },
      "outputs": [],
      "source": [
        "# Read the data from the URL\n",
        "url_4_42 = \"https://raw.githubusercontent.com/francji1/01NAEX/main/data/Problem_4_42.txt\"\n",
        "df_4_42 = pd.read_csv(url_4_42, sep=\";\")\n",
        "\n",
        "# Display the first few rows of the dataframe\n",
        "print(df_4_42)"
      ]
    },
    {
      "cell_type": "code",
      "execution_count": null,
      "metadata": {
        "id": "pE5TJpklrbPN"
      },
      "outputs": [],
      "source": [
        "# Verify the structure of the BIBD\n",
        "# Number of unique concentrations (treatments)\n",
        "v = df_4_42['Concentration'].nunique()\n",
        "# Number of unique days (blocks)\n",
        "b = df_4_42['Days'].nunique()\n",
        "# Number of runs per day (treatments per block)\n",
        "k = df_4_42.groupby('Days')['Concentration'].count().iloc[0] # Should be 3 as stated\n",
        "# Number of blocks each concentration appears in\n",
        "r = df_4_42.groupby('Concentration')['Days'].count().iloc[0] # Verify this is consistent\n",
        "\n",
        "print(f\"Number of concentrations (treatments, v): {v}\")\n",
        "print(f\"Number of days (blocks, b): {b}\")\n",
        "print(f\"Number of runs per day (k): {k}\")\n",
        "print(f\"Number of times each concentration appears (r):\")\n",
        "print(df_4_42['Concentration'].value_counts().sort_index())\n",
        "print(\"\\n\")\n",
        "\n",
        "# Convert 'Concentration' and 'Days' to categorical types for ANOVA\n",
        "df_4_42['Concentration_Factor'] = df_4_42['Concentration'].astype('category')\n",
        "df_4_42['Days_Factor'] = df_4_42['Days'].astype('category')"
      ]
    },
    {
      "cell_type": "code",
      "source": [
        "# --- Visualization: Box Plot for Concentration ---\n",
        "plt.figure(figsize=(12, 7))\n",
        "sns.boxplot(x='Concentration', y='Strength', data=df_4_42)\n",
        "plt.title('Paper Strength by Hardwood Concentration')\n",
        "plt.xlabel('Hardwood Concentration')\n",
        "plt.ylabel('Paper Strength')\n",
        "plt.grid(axis='y', linestyle='--', alpha=0.7)\n",
        "plt.show()\n",
        "\n",
        "print(\"--- Box Plot Summary for Concentration ---\")\n",
        "print(\"This box plot shows the distribution of paper strength for each hardwood concentration, offering a visual indication of how strength might vary with different concentrations.\")\n",
        "print(\"It provides a qualitative sense of trends and variability, which can be further investigated by statistical tests.\")\n",
        "print(\"\\n\")"
      ],
      "metadata": {
        "id": "xPIk69_ogn89"
      },
      "execution_count": null,
      "outputs": []
    },
    {
      "cell_type": "code",
      "source": [
        "model_anova = ols('Strength ~ C(Concentration_Factor) + C(Days_Factor)', data=df_4_42).fit()\n",
        "anova_table = sm.stats.anova_lm(model_anova, typ=2) # Type 2 ANOVA\n",
        "print(\"--- ANOVA Table (Type 2) ---\")\n",
        "print(anova_table)\n",
        "print(\"\\n\")\n",
        "\n",
        "# --- ANOVA Conclusions ---\n",
        "alpha = 0.05\n",
        "print(f\"--- Conclusions from ANOVA (using α = {alpha}) ---\")\n",
        "\n",
        "# Check significance for Concentration (Treatments)\n",
        "p_value_conc = anova_table.loc['C(Concentration_Factor)', 'PR(>F)']\n",
        "if p_value_conc < alpha:\n",
        "    print(f\"The p-value for Concentration ({p_value_conc:.4f}) is less than α ({alpha}).\")\n",
        "    print(\"Therefore, we reject the null hypothesis. There is a statistically significant difference in paper strength among the different hardwood concentrations.\")\n",
        "else:\n",
        "    print(f\"The p-value for Concentration ({p_value_conc:.4f}) is greater than α ({alpha}).\")\n",
        "    print(\"Therefore, we fail to reject the null hypothesis. There is no statistically significant difference in paper strength among the different hardwood concentrations.\")\n",
        "\n",
        "# Check significance for Days (Blocks)\n",
        "p_value_days = anova_table.loc['C(Days_Factor)', 'PR(>F)']\n",
        "if p_value_days < alpha:\n",
        "    print(f\"The p-value for Days ({p_value_days:.4f}) is less than α ({alpha}).\")\n",
        "    print(\"This indicates that there is a statistically significant difference in paper strength attributable to the different days, suggesting that blocking by 'Days' was effective in reducing experimental variability.\")\n",
        "else:\n",
        "    print(f\"The p-value for Days ({p_value_days:.4f}) is greater than α ({alpha}).\")\n",
        "    print(\"This suggests that there is no statistically significant difference in paper strength among the different days.\")\n",
        "print(\"\\n\")"
      ],
      "metadata": {
        "id": "2RI2odVEf84g"
      },
      "execution_count": null,
      "outputs": []
    },
    {
      "cell_type": "code",
      "source": [
        "# --- Tukey's HSD Post-Hoc Test for Concentration (if ANOVA is significant) ---\n",
        "print(\"--- Tukey's HSD Post-Hoc Test for Concentration ---\")\n",
        "if p_value_conc < alpha:\n",
        "    print(f\"Overall ANOVA for Concentration was significant (p-value = {p_value_conc:.4f} < {alpha}).\")\n",
        "    print(\"Performing Tukey's HSD to find specific pairwise differences.\")\n",
        "\n",
        "    tukey_results_conc = pairwise_tukeyhsd(endog=df_4_42['Strength'], groups=df_4_42['Concentration_Factor'], alpha=alpha)\n",
        "    print(tukey_results_conc)\n",
        "\n",
        "    plt.figure(figsize=(12, 8))\n",
        "    tukey_results_conc.plot_simultaneous(ylabel=\"Concentration\", xlabel=\"Mean Difference in Strength\")\n",
        "    plt.title(\"Tukey HSD - Pairwise Differences in Strength by Concentration\")\n",
        "    plt.show()\n",
        "\n",
        "else:\n",
        "    print(f\"Overall ANOVA for Concentration was NOT significant (p-value = {p_value_conc:.4f} >= {alpha}).\")\n",
        "    print(\"Tukey's HSD is typically not performed as no overall significant differences were found for Concentration.\")\n",
        "print(\"\\n\")"
      ],
      "metadata": {
        "id": "2EAMm2giguyp"
      },
      "execution_count": null,
      "outputs": []
    },
    {
      "cell_type": "markdown",
      "source": [
        "The ANOVA revealed a statistically significant overall effect of hardwood concentration on paper strength (p = 0.0021). Post-hoc Tukey HSD pairwise comparisons further clarified these differences:\n",
        "\n",
        "\n",
        "\n",
        "*   Higher concentrations (8% and 10%) generally yield significantly stronger paper than lower concentrations (2% and 4%). Specifically, 8% concentration is stronger than 2% and 4% and 10% concentration is stronger than 2% and 4%.\n",
        "\n",
        "*   However, strength does not continually increase with concentration. Notably, Concentration 12% results in significantly lower paper strength compared to both 8% and 10% concentrations.\n",
        "\n",
        "This pattern suggests an optimal range for hardwood concentration, likely around 8% or 10%, beyond which (e.g., at 12%) the paper strength may begin to decrease."
      ],
      "metadata": {
        "id": "gDCFZvVXhNBH"
      }
    },
    {
      "cell_type": "code",
      "source": [
        "# --- Conditional Linear Model Analysis ---\n",
        "print(\"--- Linear Model with Concentration as Quantitative Response ---\")\n",
        "\n",
        "if p_value_days >= alpha:\n",
        "    print(f\"The p-value for Days ({p_value_days:.4f}) is NOT significant (>= α = {alpha}).\")\n",
        "    print(\"Therefore, it is appropriate to proceed with a linear model treating Concentration as a quantitative variable, as there is no significant day effect to account for.\")\n",
        "\n",
        "    # Fit the linear model: Strength ~ Concentration (as a continuous variable)\n",
        "    model_lm = ols('Strength ~ Concentration', data=df_4_42).fit()\n",
        "    print(model_lm.summary())\n",
        "\n",
        "    # Visualize the linear relationship\n",
        "    plt.figure(figsize=(10, 6))\n",
        "    sns.scatterplot(x='Concentration', y='Strength', data=df_4_42, s=100, alpha=0.7)\n",
        "    plt.plot(df_4_42  ['Concentration'], model_lm.predict(df_4_42['Concentration']), color='red', linestyle='-', linewidth=2)\n",
        "    plt.title('Paper Strength vs. Hardwood Concentration (Linear Model)')\n",
        "    plt.xlabel('Hardwood Concentration (%)')\n",
        "    plt.ylabel('Paper Strength')\n",
        "    plt.grid(True, linestyle='--', alpha=0.6)\n",
        "    plt.show()\n",
        "\n",
        "    print(\"\\n--- Linear Model Summary ---\")\n",
        "    print(\"This linear model investigates the relationship between paper strength and hardwood concentration, treating concentration as a continuous variable.\")\n",
        "    print(\"The summary provides statistics like coefficients (slope and intercept), R-squared (goodness of fit), and p-values for the coefficients.\")\n",
        "    print(\"The plot visualizes the data points and the fitted regression line, showing the trend of strength with increasing concentration.\")\n",
        "\n",
        "else:\n",
        "    print(f\"The p-value for Days ({p_value_days:.4f}) IS significant (< α = {alpha}).\")\n",
        "    print(\"According to the task's condition, the linear model with Concentration as a quantitative response should NOT be run because there IS a significant day effect.\")\n",
        "    print(\"Ignoring a significant day effect would lead to a misspecified model and potentially biased or inefficient estimates for the concentration effect.\")\n",
        "    print(\"Therefore, we will rely on the ANOVA results where 'Days' was properly accounted for as a blocking factor.\")\n",
        "\n",
        "print(\"\\n\")"
      ],
      "metadata": {
        "id": "F6MJ403Sh8_p"
      },
      "execution_count": null,
      "outputs": []
    },
    {
      "cell_type": "markdown",
      "source": [
        "Even though p-value for significance of Days for the paper strength (0.0701) is technically not significant at $\\alpha$ = 0.05, it's very close. This indicates that Days **do** contribute meaningfully to the variability in Strength, even if they just missed the arbitrary significance level."
      ],
      "metadata": {
        "id": "DdxgCql3i9O_"
      }
    },
    {
      "cell_type": "code",
      "source": [
        "model_better = ols('Strength ~ C(Days_Factor) + Concentration + I(Concentration**2)', data=df_4_42).fit()\n",
        "\n",
        "print(\"--- Better Prediction Model Summary (Quadratic Concentration + Days Block) ---\")\n",
        "print(model_better.summary())\n",
        "\n",
        "# --- Visualization of the Better Model ---\n",
        "plt.figure(figsize=(12, 7))\n",
        "sns.scatterplot(x='Concentration', y='Strength', data=df_4_42, hue='Days_Factor', s=100, alpha=0.7, palette='tab10', legend='full')\n",
        "\n",
        "conc_range = np.linspace(df_4_42['Concentration'].min(), df_4_42['Concentration'].max(), 100)\n",
        "\n",
        "predict_df = pd.DataFrame({'Concentration': conc_range, 'Days_Factor': '1'}) # Use '1' as a representative day\n",
        "\n",
        "predict_df_lm = pd.DataFrame({'Concentration': conc_range, 'Days_Factor': '1'}) # Use '1' as a representative day\n",
        "predict_df_lm['Concentration_sq'] = predict_df_lm['Concentration']**2 # Add quadratic term explicitly for prediction\n",
        "\n",
        "plot_df = pd.DataFrame({'Concentration': np.linspace(df_4_42['Concentration'].min(), df_4_42['Concentration'].max(), 100)})\n",
        "plot_df['Days_Factor'] = df_4_42['Days_Factor'].mode()[0] # Use the most frequent day as baseline for plotting (e.g., '1')\n",
        "\n",
        "# Predict values for this plot_df\n",
        "predicted_strength = model_better.predict(plot_df)\n",
        "\n",
        "plt.plot(plot_df['Concentration'], predicted_strength, color='red', linestyle='-', linewidth=2, label='Fitted Quadratic Curve (for baseline Day)')\n",
        "plt.title('Paper Strength vs. Hardwood Concentration (Quadratic Model with Day Effects)')\n",
        "plt.xlabel('Hardwood Concentration (%)')\n",
        "plt.ylabel('Paper Strength')\n",
        "plt.legend(title='Day')\n",
        "plt.grid(True, linestyle='--', alpha=0.6)\n",
        "plt.show()\n",
        "\n",
        "print(\"\\n--- Summary of Better Model and Visualization ---\")\n",
        "print(\"This model incorporates both a quadratic relationship for 'Concentration' and accounts for 'Day' effects as categorical blocks.\")\n",
        "print(\"The model summary shows the coefficients for both the linear and quadratic terms of concentration, as well as the 'day' specific effects (relative to a baseline day).\")\n",
        "print(\"The R-squared value should be significantly higher, indicating a much better fit to the data.\")\n",
        "print(\"The scatter plot visualizes the actual data points (colored by day) and overlays the fitted quadratic curve, demonstrating how the model captures the observed non-linear trend more effectively.\")"
      ],
      "metadata": {
        "id": "M243F8Jtj-va"
      },
      "execution_count": null,
      "outputs": []
    }
  ],
  "metadata": {
    "colab": {
      "private_outputs": true,
      "provenance": [],
      "include_colab_link": true
    },
    "kernelspec": {
      "display_name": "Python 3",
      "name": "python3"
    },
    "language_info": {
      "codemirror_mode": {
        "name": "ipython",
        "version": 3
      },
      "file_extension": ".py",
      "mimetype": "text/x-python",
      "name": "python",
      "nbconvert_exporter": "python",
      "pygments_lexer": "ipython3",
      "version": "3.12.7"
    }
  },
  "nbformat": 4,
  "nbformat_minor": 0
}