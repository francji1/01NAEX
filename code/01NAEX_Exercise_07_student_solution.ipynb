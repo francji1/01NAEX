{
  "nbformat": 4,
  "nbformat_minor": 0,
  "metadata": {
    "colab": {
      "provenance": []
    },
    "kernelspec": {
      "name": "ir",
      "display_name": "R"
    },
    "language_info": {
      "name": "R"
    }
  },
  "cells": [
    {
      "cell_type": "markdown",
      "source": [
        "\n",
        "# O1NAEX Exercise 07"
      ],
      "metadata": {
        "id": "SJRUeUJPrezp"
      }
    },
    {
      "cell_type": "code",
      "execution_count": 1,
      "metadata": {
        "id": "77d2096d",
        "colab": {
          "base_uri": "https://localhost:8080/",
          "height": 17
        },
        "outputId": "6f975be4-e799-4f3d-849b-e6a244bc93ba"
      },
      "outputs": [
        {
          "output_type": "display_data",
          "data": {
            "text/html": [],
            "text/markdown": "",
            "text/latex": "",
            "text/plain": [
              "character(0)"
            ]
          },
          "metadata": {}
        }
      ],
      "source": [
        "list_of_packages <- c(\"tidyverse\",\"MASS\",\"FrF2\",\"dplyr\",\"lattice\",\"ggplot2\",\"Hmisc\")\n",
        "missing_packages <- list_of_packages[!(list_of_packages %in% installed.packages()[,\"Package\"])]\n",
        "missing_packages"
      ]
    },
    {
      "cell_type": "code",
      "source": [
        "system(\"sudo apt-get install libgmp-dev\")\n",
        "install.packages(\"gmp\")\n"
      ],
      "metadata": {
        "id": "ywiz24tMOOmQ",
        "colab": {
          "base_uri": "https://localhost:8080/"
        },
        "outputId": "2d70e47c-add3-4a6f-c846-94be9db3f09a"
      },
      "execution_count": 2,
      "outputs": [
        {
          "output_type": "stream",
          "name": "stderr",
          "text": [
            "Installing package into ‘/usr/local/lib/R/site-library’\n",
            "(as ‘lib’ is unspecified)\n",
            "\n"
          ]
        }
      ]
    },
    {
      "cell_type": "code",
      "source": [
        "system(\"sudo apt-get install libpartitions-dev\")\n",
        "install.packages(\"partitions\")"
      ],
      "metadata": {
        "id": "qe3fj9_HOneG",
        "colab": {
          "base_uri": "https://localhost:8080/"
        },
        "outputId": "b0032d52-d13c-458a-e421-0524173f2112"
      },
      "execution_count": null,
      "outputs": [
        {
          "output_type": "stream",
          "name": "stderr",
          "text": [
            "Installing package into ‘/usr/local/lib/R/site-library’\n",
            "(as ‘lib’ is unspecified)\n",
            "\n"
          ]
        }
      ]
    },
    {
      "cell_type": "code",
      "source": [
        "system(\"sudo apt-get install libDoE.base-dev\")\n",
        "install.packages(\"DoE.base\")"
      ],
      "metadata": {
        "id": "GS8CwZEIOtEz",
        "colab": {
          "base_uri": "https://localhost:8080/"
        },
        "outputId": "bb4abc44-4241-40a1-fabd-715aed091ce0"
      },
      "execution_count": 3,
      "outputs": [
        {
          "output_type": "stream",
          "name": "stderr",
          "text": [
            "Installing package into ‘/usr/local/lib/R/site-library’\n",
            "(as ‘lib’ is unspecified)\n",
            "\n"
          ]
        }
      ]
    },
    {
      "cell_type": "code",
      "source": [
        "if(length(missing_packages)) install.packages(missing_packages)\n",
        "lapply(list_of_packages, library, character.only = TRUE)"
      ],
      "metadata": {
        "id": "UI5LQjwCH4DD",
        "colab": {
          "base_uri": "https://localhost:8080/",
          "height": 1000
        },
        "outputId": "b6d4a8e4-bdb7-4400-e082-2228f89b220f"
      },
      "execution_count": 4,
      "outputs": [
        {
          "output_type": "stream",
          "name": "stderr",
          "text": [
            "── \u001b[1mAttaching core tidyverse packages\u001b[22m ──────────────────────── tidyverse 2.0.0 ──\n",
            "\u001b[32m✔\u001b[39m \u001b[34mdplyr    \u001b[39m 1.1.3     \u001b[32m✔\u001b[39m \u001b[34mreadr    \u001b[39m 2.1.4\n",
            "\u001b[32m✔\u001b[39m \u001b[34mforcats  \u001b[39m 1.0.0     \u001b[32m✔\u001b[39m \u001b[34mstringr  \u001b[39m 1.5.0\n",
            "\u001b[32m✔\u001b[39m \u001b[34mggplot2  \u001b[39m 3.4.4     \u001b[32m✔\u001b[39m \u001b[34mtibble   \u001b[39m 3.2.1\n",
            "\u001b[32m✔\u001b[39m \u001b[34mlubridate\u001b[39m 1.9.3     \u001b[32m✔\u001b[39m \u001b[34mtidyr    \u001b[39m 1.3.0\n",
            "\u001b[32m✔\u001b[39m \u001b[34mpurrr    \u001b[39m 1.0.2     \n",
            "── \u001b[1mConflicts\u001b[22m ────────────────────────────────────────── tidyverse_conflicts() ──\n",
            "\u001b[31m✖\u001b[39m \u001b[34mdplyr\u001b[39m::\u001b[32mfilter()\u001b[39m masks \u001b[34mstats\u001b[39m::filter()\n",
            "\u001b[31m✖\u001b[39m \u001b[34mdplyr\u001b[39m::\u001b[32mlag()\u001b[39m    masks \u001b[34mstats\u001b[39m::lag()\n",
            "\u001b[36mℹ\u001b[39m Use the conflicted package (\u001b[3m\u001b[34m<http://conflicted.r-lib.org/>\u001b[39m\u001b[23m) to force all conflicts to become errors\n",
            "\n",
            "Attaching package: ‘MASS’\n",
            "\n",
            "\n",
            "The following object is masked from ‘package:dplyr’:\n",
            "\n",
            "    select\n",
            "\n",
            "\n",
            "Loading required package: DoE.base\n",
            "\n",
            "Loading required package: grid\n",
            "\n",
            "Loading required package: conf.design\n",
            "\n",
            "Registered S3 method overwritten by 'DoE.base':\n",
            "  method           from       \n",
            "  factorize.factor conf.design\n",
            "\n",
            "\n",
            "Attaching package: ‘DoE.base’\n",
            "\n",
            "\n",
            "The following objects are masked from ‘package:stats’:\n",
            "\n",
            "    aov, lm\n",
            "\n",
            "\n",
            "The following object is masked from ‘package:graphics’:\n",
            "\n",
            "    plot.design\n",
            "\n",
            "\n",
            "The following object is masked from ‘package:base’:\n",
            "\n",
            "    lengths\n",
            "\n",
            "\n",
            "\n",
            "Attaching package: ‘Hmisc’\n",
            "\n",
            "\n",
            "The following objects are masked from ‘package:dplyr’:\n",
            "\n",
            "    src, summarize\n",
            "\n",
            "\n",
            "The following objects are masked from ‘package:base’:\n",
            "\n",
            "    format.pval, units\n",
            "\n",
            "\n"
          ]
        },
        {
          "output_type": "display_data",
          "data": {
            "text/html": [
              "<ol>\n",
              "\t<li><style>\n",
              ".list-inline {list-style: none; margin:0; padding: 0}\n",
              ".list-inline>li {display: inline-block}\n",
              ".list-inline>li:not(:last-child)::after {content: \"\\00b7\"; padding: 0 .5ex}\n",
              "</style>\n",
              "<ol class=list-inline><li>'lubridate'</li><li>'forcats'</li><li>'stringr'</li><li>'dplyr'</li><li>'purrr'</li><li>'readr'</li><li>'tidyr'</li><li>'tibble'</li><li>'ggplot2'</li><li>'tidyverse'</li><li>'stats'</li><li>'graphics'</li><li>'grDevices'</li><li>'utils'</li><li>'datasets'</li><li>'methods'</li><li>'base'</li></ol>\n",
              "</li>\n",
              "\t<li><style>\n",
              ".list-inline {list-style: none; margin:0; padding: 0}\n",
              ".list-inline>li {display: inline-block}\n",
              ".list-inline>li:not(:last-child)::after {content: \"\\00b7\"; padding: 0 .5ex}\n",
              "</style>\n",
              "<ol class=list-inline><li>'MASS'</li><li>'lubridate'</li><li>'forcats'</li><li>'stringr'</li><li>'dplyr'</li><li>'purrr'</li><li>'readr'</li><li>'tidyr'</li><li>'tibble'</li><li>'ggplot2'</li><li>'tidyverse'</li><li>'stats'</li><li>'graphics'</li><li>'grDevices'</li><li>'utils'</li><li>'datasets'</li><li>'methods'</li><li>'base'</li></ol>\n",
              "</li>\n",
              "\t<li><style>\n",
              ".list-inline {list-style: none; margin:0; padding: 0}\n",
              ".list-inline>li {display: inline-block}\n",
              ".list-inline>li:not(:last-child)::after {content: \"\\00b7\"; padding: 0 .5ex}\n",
              "</style>\n",
              "<ol class=list-inline><li>'FrF2'</li><li>'DoE.base'</li><li>'conf.design'</li><li>'grid'</li><li>'MASS'</li><li>'lubridate'</li><li>'forcats'</li><li>'stringr'</li><li>'dplyr'</li><li>'purrr'</li><li>'readr'</li><li>'tidyr'</li><li>'tibble'</li><li>'ggplot2'</li><li>'tidyverse'</li><li>'stats'</li><li>'graphics'</li><li>'grDevices'</li><li>'utils'</li><li>'datasets'</li><li>'methods'</li><li>'base'</li></ol>\n",
              "</li>\n",
              "\t<li><style>\n",
              ".list-inline {list-style: none; margin:0; padding: 0}\n",
              ".list-inline>li {display: inline-block}\n",
              ".list-inline>li:not(:last-child)::after {content: \"\\00b7\"; padding: 0 .5ex}\n",
              "</style>\n",
              "<ol class=list-inline><li>'FrF2'</li><li>'DoE.base'</li><li>'conf.design'</li><li>'grid'</li><li>'MASS'</li><li>'lubridate'</li><li>'forcats'</li><li>'stringr'</li><li>'dplyr'</li><li>'purrr'</li><li>'readr'</li><li>'tidyr'</li><li>'tibble'</li><li>'ggplot2'</li><li>'tidyverse'</li><li>'stats'</li><li>'graphics'</li><li>'grDevices'</li><li>'utils'</li><li>'datasets'</li><li>'methods'</li><li>'base'</li></ol>\n",
              "</li>\n",
              "\t<li><style>\n",
              ".list-inline {list-style: none; margin:0; padding: 0}\n",
              ".list-inline>li {display: inline-block}\n",
              ".list-inline>li:not(:last-child)::after {content: \"\\00b7\"; padding: 0 .5ex}\n",
              "</style>\n",
              "<ol class=list-inline><li>'lattice'</li><li>'FrF2'</li><li>'DoE.base'</li><li>'conf.design'</li><li>'grid'</li><li>'MASS'</li><li>'lubridate'</li><li>'forcats'</li><li>'stringr'</li><li>'dplyr'</li><li>'purrr'</li><li>'readr'</li><li>'tidyr'</li><li>'tibble'</li><li>'ggplot2'</li><li>'tidyverse'</li><li>'stats'</li><li>'graphics'</li><li>'grDevices'</li><li>'utils'</li><li>'datasets'</li><li>'methods'</li><li>'base'</li></ol>\n",
              "</li>\n",
              "\t<li><style>\n",
              ".list-inline {list-style: none; margin:0; padding: 0}\n",
              ".list-inline>li {display: inline-block}\n",
              ".list-inline>li:not(:last-child)::after {content: \"\\00b7\"; padding: 0 .5ex}\n",
              "</style>\n",
              "<ol class=list-inline><li>'lattice'</li><li>'FrF2'</li><li>'DoE.base'</li><li>'conf.design'</li><li>'grid'</li><li>'MASS'</li><li>'lubridate'</li><li>'forcats'</li><li>'stringr'</li><li>'dplyr'</li><li>'purrr'</li><li>'readr'</li><li>'tidyr'</li><li>'tibble'</li><li>'ggplot2'</li><li>'tidyverse'</li><li>'stats'</li><li>'graphics'</li><li>'grDevices'</li><li>'utils'</li><li>'datasets'</li><li>'methods'</li><li>'base'</li></ol>\n",
              "</li>\n",
              "\t<li><style>\n",
              ".list-inline {list-style: none; margin:0; padding: 0}\n",
              ".list-inline>li {display: inline-block}\n",
              ".list-inline>li:not(:last-child)::after {content: \"\\00b7\"; padding: 0 .5ex}\n",
              "</style>\n",
              "<ol class=list-inline><li>'Hmisc'</li><li>'lattice'</li><li>'FrF2'</li><li>'DoE.base'</li><li>'conf.design'</li><li>'grid'</li><li>'MASS'</li><li>'lubridate'</li><li>'forcats'</li><li>'stringr'</li><li>'dplyr'</li><li>'purrr'</li><li>'readr'</li><li>'tidyr'</li><li>'tibble'</li><li>'ggplot2'</li><li>'tidyverse'</li><li>'stats'</li><li>'graphics'</li><li>'grDevices'</li><li>'utils'</li><li>'datasets'</li><li>'methods'</li><li>'base'</li></ol>\n",
              "</li>\n",
              "</ol>\n"
            ],
            "text/markdown": "1. 1. 'lubridate'\n2. 'forcats'\n3. 'stringr'\n4. 'dplyr'\n5. 'purrr'\n6. 'readr'\n7. 'tidyr'\n8. 'tibble'\n9. 'ggplot2'\n10. 'tidyverse'\n11. 'stats'\n12. 'graphics'\n13. 'grDevices'\n14. 'utils'\n15. 'datasets'\n16. 'methods'\n17. 'base'\n\n\n\n2. 1. 'MASS'\n2. 'lubridate'\n3. 'forcats'\n4. 'stringr'\n5. 'dplyr'\n6. 'purrr'\n7. 'readr'\n8. 'tidyr'\n9. 'tibble'\n10. 'ggplot2'\n11. 'tidyverse'\n12. 'stats'\n13. 'graphics'\n14. 'grDevices'\n15. 'utils'\n16. 'datasets'\n17. 'methods'\n18. 'base'\n\n\n\n3. 1. 'FrF2'\n2. 'DoE.base'\n3. 'conf.design'\n4. 'grid'\n5. 'MASS'\n6. 'lubridate'\n7. 'forcats'\n8. 'stringr'\n9. 'dplyr'\n10. 'purrr'\n11. 'readr'\n12. 'tidyr'\n13. 'tibble'\n14. 'ggplot2'\n15. 'tidyverse'\n16. 'stats'\n17. 'graphics'\n18. 'grDevices'\n19. 'utils'\n20. 'datasets'\n21. 'methods'\n22. 'base'\n\n\n\n4. 1. 'FrF2'\n2. 'DoE.base'\n3. 'conf.design'\n4. 'grid'\n5. 'MASS'\n6. 'lubridate'\n7. 'forcats'\n8. 'stringr'\n9. 'dplyr'\n10. 'purrr'\n11. 'readr'\n12. 'tidyr'\n13. 'tibble'\n14. 'ggplot2'\n15. 'tidyverse'\n16. 'stats'\n17. 'graphics'\n18. 'grDevices'\n19. 'utils'\n20. 'datasets'\n21. 'methods'\n22. 'base'\n\n\n\n5. 1. 'lattice'\n2. 'FrF2'\n3. 'DoE.base'\n4. 'conf.design'\n5. 'grid'\n6. 'MASS'\n7. 'lubridate'\n8. 'forcats'\n9. 'stringr'\n10. 'dplyr'\n11. 'purrr'\n12. 'readr'\n13. 'tidyr'\n14. 'tibble'\n15. 'ggplot2'\n16. 'tidyverse'\n17. 'stats'\n18. 'graphics'\n19. 'grDevices'\n20. 'utils'\n21. 'datasets'\n22. 'methods'\n23. 'base'\n\n\n\n6. 1. 'lattice'\n2. 'FrF2'\n3. 'DoE.base'\n4. 'conf.design'\n5. 'grid'\n6. 'MASS'\n7. 'lubridate'\n8. 'forcats'\n9. 'stringr'\n10. 'dplyr'\n11. 'purrr'\n12. 'readr'\n13. 'tidyr'\n14. 'tibble'\n15. 'ggplot2'\n16. 'tidyverse'\n17. 'stats'\n18. 'graphics'\n19. 'grDevices'\n20. 'utils'\n21. 'datasets'\n22. 'methods'\n23. 'base'\n\n\n\n7. 1. 'Hmisc'\n2. 'lattice'\n3. 'FrF2'\n4. 'DoE.base'\n5. 'conf.design'\n6. 'grid'\n7. 'MASS'\n8. 'lubridate'\n9. 'forcats'\n10. 'stringr'\n11. 'dplyr'\n12. 'purrr'\n13. 'readr'\n14. 'tidyr'\n15. 'tibble'\n16. 'ggplot2'\n17. 'tidyverse'\n18. 'stats'\n19. 'graphics'\n20. 'grDevices'\n21. 'utils'\n22. 'datasets'\n23. 'methods'\n24. 'base'\n\n\n\n\n\n",
            "text/latex": "\\begin{enumerate}\n\\item \\begin{enumerate*}\n\\item 'lubridate'\n\\item 'forcats'\n\\item 'stringr'\n\\item 'dplyr'\n\\item 'purrr'\n\\item 'readr'\n\\item 'tidyr'\n\\item 'tibble'\n\\item 'ggplot2'\n\\item 'tidyverse'\n\\item 'stats'\n\\item 'graphics'\n\\item 'grDevices'\n\\item 'utils'\n\\item 'datasets'\n\\item 'methods'\n\\item 'base'\n\\end{enumerate*}\n\n\\item \\begin{enumerate*}\n\\item 'MASS'\n\\item 'lubridate'\n\\item 'forcats'\n\\item 'stringr'\n\\item 'dplyr'\n\\item 'purrr'\n\\item 'readr'\n\\item 'tidyr'\n\\item 'tibble'\n\\item 'ggplot2'\n\\item 'tidyverse'\n\\item 'stats'\n\\item 'graphics'\n\\item 'grDevices'\n\\item 'utils'\n\\item 'datasets'\n\\item 'methods'\n\\item 'base'\n\\end{enumerate*}\n\n\\item \\begin{enumerate*}\n\\item 'FrF2'\n\\item 'DoE.base'\n\\item 'conf.design'\n\\item 'grid'\n\\item 'MASS'\n\\item 'lubridate'\n\\item 'forcats'\n\\item 'stringr'\n\\item 'dplyr'\n\\item 'purrr'\n\\item 'readr'\n\\item 'tidyr'\n\\item 'tibble'\n\\item 'ggplot2'\n\\item 'tidyverse'\n\\item 'stats'\n\\item 'graphics'\n\\item 'grDevices'\n\\item 'utils'\n\\item 'datasets'\n\\item 'methods'\n\\item 'base'\n\\end{enumerate*}\n\n\\item \\begin{enumerate*}\n\\item 'FrF2'\n\\item 'DoE.base'\n\\item 'conf.design'\n\\item 'grid'\n\\item 'MASS'\n\\item 'lubridate'\n\\item 'forcats'\n\\item 'stringr'\n\\item 'dplyr'\n\\item 'purrr'\n\\item 'readr'\n\\item 'tidyr'\n\\item 'tibble'\n\\item 'ggplot2'\n\\item 'tidyverse'\n\\item 'stats'\n\\item 'graphics'\n\\item 'grDevices'\n\\item 'utils'\n\\item 'datasets'\n\\item 'methods'\n\\item 'base'\n\\end{enumerate*}\n\n\\item \\begin{enumerate*}\n\\item 'lattice'\n\\item 'FrF2'\n\\item 'DoE.base'\n\\item 'conf.design'\n\\item 'grid'\n\\item 'MASS'\n\\item 'lubridate'\n\\item 'forcats'\n\\item 'stringr'\n\\item 'dplyr'\n\\item 'purrr'\n\\item 'readr'\n\\item 'tidyr'\n\\item 'tibble'\n\\item 'ggplot2'\n\\item 'tidyverse'\n\\item 'stats'\n\\item 'graphics'\n\\item 'grDevices'\n\\item 'utils'\n\\item 'datasets'\n\\item 'methods'\n\\item 'base'\n\\end{enumerate*}\n\n\\item \\begin{enumerate*}\n\\item 'lattice'\n\\item 'FrF2'\n\\item 'DoE.base'\n\\item 'conf.design'\n\\item 'grid'\n\\item 'MASS'\n\\item 'lubridate'\n\\item 'forcats'\n\\item 'stringr'\n\\item 'dplyr'\n\\item 'purrr'\n\\item 'readr'\n\\item 'tidyr'\n\\item 'tibble'\n\\item 'ggplot2'\n\\item 'tidyverse'\n\\item 'stats'\n\\item 'graphics'\n\\item 'grDevices'\n\\item 'utils'\n\\item 'datasets'\n\\item 'methods'\n\\item 'base'\n\\end{enumerate*}\n\n\\item \\begin{enumerate*}\n\\item 'Hmisc'\n\\item 'lattice'\n\\item 'FrF2'\n\\item 'DoE.base'\n\\item 'conf.design'\n\\item 'grid'\n\\item 'MASS'\n\\item 'lubridate'\n\\item 'forcats'\n\\item 'stringr'\n\\item 'dplyr'\n\\item 'purrr'\n\\item 'readr'\n\\item 'tidyr'\n\\item 'tibble'\n\\item 'ggplot2'\n\\item 'tidyverse'\n\\item 'stats'\n\\item 'graphics'\n\\item 'grDevices'\n\\item 'utils'\n\\item 'datasets'\n\\item 'methods'\n\\item 'base'\n\\end{enumerate*}\n\n\\end{enumerate}\n",
            "text/plain": [
              "[[1]]\n",
              " [1] \"lubridate\" \"forcats\"   \"stringr\"   \"dplyr\"     \"purrr\"     \"readr\"    \n",
              " [7] \"tidyr\"     \"tibble\"    \"ggplot2\"   \"tidyverse\" \"stats\"     \"graphics\" \n",
              "[13] \"grDevices\" \"utils\"     \"datasets\"  \"methods\"   \"base\"     \n",
              "\n",
              "[[2]]\n",
              " [1] \"MASS\"      \"lubridate\" \"forcats\"   \"stringr\"   \"dplyr\"     \"purrr\"    \n",
              " [7] \"readr\"     \"tidyr\"     \"tibble\"    \"ggplot2\"   \"tidyverse\" \"stats\"    \n",
              "[13] \"graphics\"  \"grDevices\" \"utils\"     \"datasets\"  \"methods\"   \"base\"     \n",
              "\n",
              "[[3]]\n",
              " [1] \"FrF2\"        \"DoE.base\"    \"conf.design\" \"grid\"        \"MASS\"       \n",
              " [6] \"lubridate\"   \"forcats\"     \"stringr\"     \"dplyr\"       \"purrr\"      \n",
              "[11] \"readr\"       \"tidyr\"       \"tibble\"      \"ggplot2\"     \"tidyverse\"  \n",
              "[16] \"stats\"       \"graphics\"    \"grDevices\"   \"utils\"       \"datasets\"   \n",
              "[21] \"methods\"     \"base\"       \n",
              "\n",
              "[[4]]\n",
              " [1] \"FrF2\"        \"DoE.base\"    \"conf.design\" \"grid\"        \"MASS\"       \n",
              " [6] \"lubridate\"   \"forcats\"     \"stringr\"     \"dplyr\"       \"purrr\"      \n",
              "[11] \"readr\"       \"tidyr\"       \"tibble\"      \"ggplot2\"     \"tidyverse\"  \n",
              "[16] \"stats\"       \"graphics\"    \"grDevices\"   \"utils\"       \"datasets\"   \n",
              "[21] \"methods\"     \"base\"       \n",
              "\n",
              "[[5]]\n",
              " [1] \"lattice\"     \"FrF2\"        \"DoE.base\"    \"conf.design\" \"grid\"       \n",
              " [6] \"MASS\"        \"lubridate\"   \"forcats\"     \"stringr\"     \"dplyr\"      \n",
              "[11] \"purrr\"       \"readr\"       \"tidyr\"       \"tibble\"      \"ggplot2\"    \n",
              "[16] \"tidyverse\"   \"stats\"       \"graphics\"    \"grDevices\"   \"utils\"      \n",
              "[21] \"datasets\"    \"methods\"     \"base\"       \n",
              "\n",
              "[[6]]\n",
              " [1] \"lattice\"     \"FrF2\"        \"DoE.base\"    \"conf.design\" \"grid\"       \n",
              " [6] \"MASS\"        \"lubridate\"   \"forcats\"     \"stringr\"     \"dplyr\"      \n",
              "[11] \"purrr\"       \"readr\"       \"tidyr\"       \"tibble\"      \"ggplot2\"    \n",
              "[16] \"tidyverse\"   \"stats\"       \"graphics\"    \"grDevices\"   \"utils\"      \n",
              "[21] \"datasets\"    \"methods\"     \"base\"       \n",
              "\n",
              "[[7]]\n",
              " [1] \"Hmisc\"       \"lattice\"     \"FrF2\"        \"DoE.base\"    \"conf.design\"\n",
              " [6] \"grid\"        \"MASS\"        \"lubridate\"   \"forcats\"     \"stringr\"    \n",
              "[11] \"dplyr\"       \"purrr\"       \"readr\"       \"tidyr\"       \"tibble\"     \n",
              "[16] \"ggplot2\"     \"tidyverse\"   \"stats\"       \"graphics\"    \"grDevices\"  \n",
              "[21] \"utils\"       \"datasets\"    \"methods\"     \"base\"       \n"
            ]
          },
          "metadata": {}
        }
      ]
    },
    {
      "cell_type": "code",
      "source": [],
      "metadata": {
        "id": "crbwkzr9I90A"
      },
      "execution_count": 5,
      "outputs": []
    },
    {
      "cell_type": "code",
      "source": [
        "tibble::tibble(\n",
        "  Package = names(installed.packages()[,3]),\n",
        "  Version = unname(installed.packages()[,3])\n",
        ")"
      ],
      "metadata": {
        "id": "mFJEGP4iPatd",
        "colab": {
          "base_uri": "https://localhost:8080/",
          "height": 1000
        },
        "outputId": "58df5022-0319-4725-92ad-e4d9f93d94ac"
      },
      "execution_count": 6,
      "outputs": [
        {
          "output_type": "display_data",
          "data": {
            "text/html": [
              "<table class=\"dataframe\">\n",
              "<caption>A tibble: 188 × 2</caption>\n",
              "<thead>\n",
              "\t<tr><th scope=col>Package</th><th scope=col>Version</th></tr>\n",
              "\t<tr><th scope=col>&lt;chr&gt;</th><th scope=col>&lt;chr&gt;</th></tr>\n",
              "</thead>\n",
              "<tbody>\n",
              "\t<tr><td>checkmate    </td><td>2.3.0 </td></tr>\n",
              "\t<tr><td>combinat     </td><td>0.0-8 </td></tr>\n",
              "\t<tr><td>conf.design  </td><td>2.0.0 </td></tr>\n",
              "\t<tr><td>DoE.base     </td><td>1.2-3 </td></tr>\n",
              "\t<tr><td>Formula      </td><td>1.2-5 </td></tr>\n",
              "\t<tr><td>FrF2         </td><td>2.3-3 </td></tr>\n",
              "\t<tr><td>gmp          </td><td>0.7-2 </td></tr>\n",
              "\t<tr><td>gridExtra    </td><td>2.3   </td></tr>\n",
              "\t<tr><td>Hmisc        </td><td>5.1-1 </td></tr>\n",
              "\t<tr><td>htmlTable    </td><td>2.4.2 </td></tr>\n",
              "\t<tr><td>htmlwidgets  </td><td>1.6.2 </td></tr>\n",
              "\t<tr><td>igraph       </td><td>1.5.1 </td></tr>\n",
              "\t<tr><td>IRdisplay    </td><td>1.1   </td></tr>\n",
              "\t<tr><td>IRkernel     </td><td>1.3.2 </td></tr>\n",
              "\t<tr><td>lmtest       </td><td>0.9-40</td></tr>\n",
              "\t<tr><td>mathjaxr     </td><td>1.6-0 </td></tr>\n",
              "\t<tr><td>numbers      </td><td>0.8-5 </td></tr>\n",
              "\t<tr><td>partitions   </td><td>1.10-7</td></tr>\n",
              "\t<tr><td>pbdZMQ       </td><td>0.3-10</td></tr>\n",
              "\t<tr><td>polynom      </td><td>1.4-1 </td></tr>\n",
              "\t<tr><td>rbibutils    </td><td>2.2.16</td></tr>\n",
              "\t<tr><td>Rdpack       </td><td>2.6   </td></tr>\n",
              "\t<tr><td>repr         </td><td>1.1.6 </td></tr>\n",
              "\t<tr><td>scatterplot3d</td><td>0.3-44</td></tr>\n",
              "\t<tr><td>sets         </td><td>1.0-24</td></tr>\n",
              "\t<tr><td>sfsmisc      </td><td>1.1-16</td></tr>\n",
              "\t<tr><td>vcd          </td><td>1.4-11</td></tr>\n",
              "\t<tr><td>viridis      </td><td>0.6.4 </td></tr>\n",
              "\t<tr><td>zoo          </td><td>1.8-12</td></tr>\n",
              "\t<tr><td>askpass      </td><td>1.2.0 </td></tr>\n",
              "\t<tr><td>⋮</td><td>⋮</td></tr>\n",
              "\t<tr><td>zip       </td><td>2.3.0  </td></tr>\n",
              "\t<tr><td>base      </td><td>4.3.2  </td></tr>\n",
              "\t<tr><td>boot      </td><td>1.3-28 </td></tr>\n",
              "\t<tr><td>class     </td><td>7.3-22 </td></tr>\n",
              "\t<tr><td>cluster   </td><td>2.1.4  </td></tr>\n",
              "\t<tr><td>codetools </td><td>0.2-19 </td></tr>\n",
              "\t<tr><td>compiler  </td><td>4.3.2  </td></tr>\n",
              "\t<tr><td>datasets  </td><td>4.3.2  </td></tr>\n",
              "\t<tr><td>foreign   </td><td>0.8-85 </td></tr>\n",
              "\t<tr><td>graphics  </td><td>4.3.2  </td></tr>\n",
              "\t<tr><td>grDevices </td><td>4.3.2  </td></tr>\n",
              "\t<tr><td>grid      </td><td>4.3.2  </td></tr>\n",
              "\t<tr><td>KernSmooth</td><td>2.23-22</td></tr>\n",
              "\t<tr><td>lattice   </td><td>0.22-5 </td></tr>\n",
              "\t<tr><td>MASS      </td><td>7.3-60 </td></tr>\n",
              "\t<tr><td>Matrix    </td><td>1.6-1.1</td></tr>\n",
              "\t<tr><td>methods   </td><td>4.3.2  </td></tr>\n",
              "\t<tr><td>mgcv      </td><td>1.9-0  </td></tr>\n",
              "\t<tr><td>nlme      </td><td>3.1-163</td></tr>\n",
              "\t<tr><td>nnet      </td><td>7.3-19 </td></tr>\n",
              "\t<tr><td>parallel  </td><td>4.3.2  </td></tr>\n",
              "\t<tr><td>rpart     </td><td>4.1.21 </td></tr>\n",
              "\t<tr><td>spatial   </td><td>7.3-17 </td></tr>\n",
              "\t<tr><td>splines   </td><td>4.3.2  </td></tr>\n",
              "\t<tr><td>stats     </td><td>4.3.2  </td></tr>\n",
              "\t<tr><td>stats4    </td><td>4.3.2  </td></tr>\n",
              "\t<tr><td>survival  </td><td>3.5-7  </td></tr>\n",
              "\t<tr><td>tcltk     </td><td>4.3.2  </td></tr>\n",
              "\t<tr><td>tools     </td><td>4.3.2  </td></tr>\n",
              "\t<tr><td>utils     </td><td>4.3.2  </td></tr>\n",
              "</tbody>\n",
              "</table>\n"
            ],
            "text/markdown": "\nA tibble: 188 × 2\n\n| Package &lt;chr&gt; | Version &lt;chr&gt; |\n|---|---|\n| checkmate     | 2.3.0  |\n| combinat      | 0.0-8  |\n| conf.design   | 2.0.0  |\n| DoE.base      | 1.2-3  |\n| Formula       | 1.2-5  |\n| FrF2          | 2.3-3  |\n| gmp           | 0.7-2  |\n| gridExtra     | 2.3    |\n| Hmisc         | 5.1-1  |\n| htmlTable     | 2.4.2  |\n| htmlwidgets   | 1.6.2  |\n| igraph        | 1.5.1  |\n| IRdisplay     | 1.1    |\n| IRkernel      | 1.3.2  |\n| lmtest        | 0.9-40 |\n| mathjaxr      | 1.6-0  |\n| numbers       | 0.8-5  |\n| partitions    | 1.10-7 |\n| pbdZMQ        | 0.3-10 |\n| polynom       | 1.4-1  |\n| rbibutils     | 2.2.16 |\n| Rdpack        | 2.6    |\n| repr          | 1.1.6  |\n| scatterplot3d | 0.3-44 |\n| sets          | 1.0-24 |\n| sfsmisc       | 1.1-16 |\n| vcd           | 1.4-11 |\n| viridis       | 0.6.4  |\n| zoo           | 1.8-12 |\n| askpass       | 1.2.0  |\n| ⋮ | ⋮ |\n| zip        | 2.3.0   |\n| base       | 4.3.2   |\n| boot       | 1.3-28  |\n| class      | 7.3-22  |\n| cluster    | 2.1.4   |\n| codetools  | 0.2-19  |\n| compiler   | 4.3.2   |\n| datasets   | 4.3.2   |\n| foreign    | 0.8-85  |\n| graphics   | 4.3.2   |\n| grDevices  | 4.3.2   |\n| grid       | 4.3.2   |\n| KernSmooth | 2.23-22 |\n| lattice    | 0.22-5  |\n| MASS       | 7.3-60  |\n| Matrix     | 1.6-1.1 |\n| methods    | 4.3.2   |\n| mgcv       | 1.9-0   |\n| nlme       | 3.1-163 |\n| nnet       | 7.3-19  |\n| parallel   | 4.3.2   |\n| rpart      | 4.1.21  |\n| spatial    | 7.3-17  |\n| splines    | 4.3.2   |\n| stats      | 4.3.2   |\n| stats4     | 4.3.2   |\n| survival   | 3.5-7   |\n| tcltk      | 4.3.2   |\n| tools      | 4.3.2   |\n| utils      | 4.3.2   |\n\n",
            "text/latex": "A tibble: 188 × 2\n\\begin{tabular}{ll}\n Package & Version\\\\\n <chr> & <chr>\\\\\n\\hline\n\t checkmate     & 2.3.0 \\\\\n\t combinat      & 0.0-8 \\\\\n\t conf.design   & 2.0.0 \\\\\n\t DoE.base      & 1.2-3 \\\\\n\t Formula       & 1.2-5 \\\\\n\t FrF2          & 2.3-3 \\\\\n\t gmp           & 0.7-2 \\\\\n\t gridExtra     & 2.3   \\\\\n\t Hmisc         & 5.1-1 \\\\\n\t htmlTable     & 2.4.2 \\\\\n\t htmlwidgets   & 1.6.2 \\\\\n\t igraph        & 1.5.1 \\\\\n\t IRdisplay     & 1.1   \\\\\n\t IRkernel      & 1.3.2 \\\\\n\t lmtest        & 0.9-40\\\\\n\t mathjaxr      & 1.6-0 \\\\\n\t numbers       & 0.8-5 \\\\\n\t partitions    & 1.10-7\\\\\n\t pbdZMQ        & 0.3-10\\\\\n\t polynom       & 1.4-1 \\\\\n\t rbibutils     & 2.2.16\\\\\n\t Rdpack        & 2.6   \\\\\n\t repr          & 1.1.6 \\\\\n\t scatterplot3d & 0.3-44\\\\\n\t sets          & 1.0-24\\\\\n\t sfsmisc       & 1.1-16\\\\\n\t vcd           & 1.4-11\\\\\n\t viridis       & 0.6.4 \\\\\n\t zoo           & 1.8-12\\\\\n\t askpass       & 1.2.0 \\\\\n\t ⋮ & ⋮\\\\\n\t zip        & 2.3.0  \\\\\n\t base       & 4.3.2  \\\\\n\t boot       & 1.3-28 \\\\\n\t class      & 7.3-22 \\\\\n\t cluster    & 2.1.4  \\\\\n\t codetools  & 0.2-19 \\\\\n\t compiler   & 4.3.2  \\\\\n\t datasets   & 4.3.2  \\\\\n\t foreign    & 0.8-85 \\\\\n\t graphics   & 4.3.2  \\\\\n\t grDevices  & 4.3.2  \\\\\n\t grid       & 4.3.2  \\\\\n\t KernSmooth & 2.23-22\\\\\n\t lattice    & 0.22-5 \\\\\n\t MASS       & 7.3-60 \\\\\n\t Matrix     & 1.6-1.1\\\\\n\t methods    & 4.3.2  \\\\\n\t mgcv       & 1.9-0  \\\\\n\t nlme       & 3.1-163\\\\\n\t nnet       & 7.3-19 \\\\\n\t parallel   & 4.3.2  \\\\\n\t rpart      & 4.1.21 \\\\\n\t spatial    & 7.3-17 \\\\\n\t splines    & 4.3.2  \\\\\n\t stats      & 4.3.2  \\\\\n\t stats4     & 4.3.2  \\\\\n\t survival   & 3.5-7  \\\\\n\t tcltk      & 4.3.2  \\\\\n\t tools      & 4.3.2  \\\\\n\t utils      & 4.3.2  \\\\\n\\end{tabular}\n",
            "text/plain": [
              "    Package       Version\n",
              "1   checkmate     2.3.0  \n",
              "2   combinat      0.0-8  \n",
              "3   conf.design   2.0.0  \n",
              "4   DoE.base      1.2-3  \n",
              "5   Formula       1.2-5  \n",
              "6   FrF2          2.3-3  \n",
              "7   gmp           0.7-2  \n",
              "8   gridExtra     2.3    \n",
              "9   Hmisc         5.1-1  \n",
              "10  htmlTable     2.4.2  \n",
              "11  htmlwidgets   1.6.2  \n",
              "12  igraph        1.5.1  \n",
              "13  IRdisplay     1.1    \n",
              "14  IRkernel      1.3.2  \n",
              "15  lmtest        0.9-40 \n",
              "16  mathjaxr      1.6-0  \n",
              "17  numbers       0.8-5  \n",
              "18  partitions    1.10-7 \n",
              "19  pbdZMQ        0.3-10 \n",
              "20  polynom       1.4-1  \n",
              "21  rbibutils     2.2.16 \n",
              "22  Rdpack        2.6    \n",
              "23  repr          1.1.6  \n",
              "24  scatterplot3d 0.3-44 \n",
              "25  sets          1.0-24 \n",
              "26  sfsmisc       1.1-16 \n",
              "27  vcd           1.4-11 \n",
              "28  viridis       0.6.4  \n",
              "29  zoo           1.8-12 \n",
              "30  askpass       1.2.0  \n",
              "⋮   ⋮             ⋮      \n",
              "159 zip           2.3.0  \n",
              "160 base          4.3.2  \n",
              "161 boot          1.3-28 \n",
              "162 class         7.3-22 \n",
              "163 cluster       2.1.4  \n",
              "164 codetools     0.2-19 \n",
              "165 compiler      4.3.2  \n",
              "166 datasets      4.3.2  \n",
              "167 foreign       0.8-85 \n",
              "168 graphics      4.3.2  \n",
              "169 grDevices     4.3.2  \n",
              "170 grid          4.3.2  \n",
              "171 KernSmooth    2.23-22\n",
              "172 lattice       0.22-5 \n",
              "173 MASS          7.3-60 \n",
              "174 Matrix        1.6-1.1\n",
              "175 methods       4.3.2  \n",
              "176 mgcv          1.9-0  \n",
              "177 nlme          3.1-163\n",
              "178 nnet          7.3-19 \n",
              "179 parallel      4.3.2  \n",
              "180 rpart         4.1.21 \n",
              "181 spatial       7.3-17 \n",
              "182 splines       4.3.2  \n",
              "183 stats         4.3.2  \n",
              "184 stats4        4.3.2  \n",
              "185 survival      3.5-7  \n",
              "186 tcltk         4.3.2  \n",
              "187 tools         4.3.2  \n",
              "188 utils         4.3.2  "
            ]
          },
          "metadata": {}
        }
      ]
    },
    {
      "cell_type": "markdown",
      "source": [
        "## Problem 6.31 + 6.32\n",
        "\n",
        "from the chapter 6, D. C. Montgomery DAoE - 8. edition.\n",
        "\n",
        "An experiment was conducted on a chemical process that produces a\n",
        "polymer. The four factors studied were temperature (A), catalyst\n",
        "concentration (B), time (C), and pressure (D). Two responses, molecular\n",
        "weight and viscosity, were observed. The design matrix and response data\n",
        "are following:"
      ],
      "metadata": {
        "id": "V4KEl2ChbmjR"
      }
    },
    {
      "cell_type": "code",
      "source": [
        "df631 <- read.table(\"https://raw.githubusercontent.com/francji1/01NAEX/main/data/Problem_6_31.txt\",header=TRUE,sep=\";\")\n",
        "head(df631)"
      ],
      "metadata": {
        "colab": {
          "base_uri": "https://localhost:8080/",
          "height": 286
        },
        "id": "13vUZfIgb53L",
        "outputId": "171875f2-f861-41ab-a70f-ade89280c369"
      },
      "execution_count": 7,
      "outputs": [
        {
          "output_type": "display_data",
          "data": {
            "text/html": [
              "<table class=\"dataframe\">\n",
              "<caption>A data.frame: 6 × 6</caption>\n",
              "<thead>\n",
              "\t<tr><th></th><th scope=col>Temperature</th><th scope=col>Concentration</th><th scope=col>Time</th><th scope=col>Pressure</th><th scope=col>Weight</th><th scope=col>Viscosity</th></tr>\n",
              "\t<tr><th></th><th scope=col>&lt;int&gt;</th><th scope=col>&lt;int&gt;</th><th scope=col>&lt;int&gt;</th><th scope=col>&lt;dbl&gt;</th><th scope=col>&lt;int&gt;</th><th scope=col>&lt;int&gt;</th></tr>\n",
              "</thead>\n",
              "<tbody>\n",
              "\t<tr><th scope=row>1</th><td>100</td><td>4</td><td>20</td><td>60</td><td>2400</td><td>1400</td></tr>\n",
              "\t<tr><th scope=row>2</th><td>120</td><td>4</td><td>20</td><td>60</td><td>2410</td><td>1500</td></tr>\n",
              "\t<tr><th scope=row>3</th><td>100</td><td>8</td><td>20</td><td>60</td><td>2315</td><td>1520</td></tr>\n",
              "\t<tr><th scope=row>4</th><td>120</td><td>8</td><td>20</td><td>60</td><td>2510</td><td>1630</td></tr>\n",
              "\t<tr><th scope=row>5</th><td>100</td><td>4</td><td>30</td><td>60</td><td>2615</td><td>1380</td></tr>\n",
              "\t<tr><th scope=row>6</th><td>120</td><td>4</td><td>30</td><td>60</td><td>2625</td><td>1525</td></tr>\n",
              "</tbody>\n",
              "</table>\n"
            ],
            "text/markdown": "\nA data.frame: 6 × 6\n\n| <!--/--> | Temperature &lt;int&gt; | Concentration &lt;int&gt; | Time &lt;int&gt; | Pressure &lt;dbl&gt; | Weight &lt;int&gt; | Viscosity &lt;int&gt; |\n|---|---|---|---|---|---|---|\n| 1 | 100 | 4 | 20 | 60 | 2400 | 1400 |\n| 2 | 120 | 4 | 20 | 60 | 2410 | 1500 |\n| 3 | 100 | 8 | 20 | 60 | 2315 | 1520 |\n| 4 | 120 | 8 | 20 | 60 | 2510 | 1630 |\n| 5 | 100 | 4 | 30 | 60 | 2615 | 1380 |\n| 6 | 120 | 4 | 30 | 60 | 2625 | 1525 |\n\n",
            "text/latex": "A data.frame: 6 × 6\n\\begin{tabular}{r|llllll}\n  & Temperature & Concentration & Time & Pressure & Weight & Viscosity\\\\\n  & <int> & <int> & <int> & <dbl> & <int> & <int>\\\\\n\\hline\n\t1 & 100 & 4 & 20 & 60 & 2400 & 1400\\\\\n\t2 & 120 & 4 & 20 & 60 & 2410 & 1500\\\\\n\t3 & 100 & 8 & 20 & 60 & 2315 & 1520\\\\\n\t4 & 120 & 8 & 20 & 60 & 2510 & 1630\\\\\n\t5 & 100 & 4 & 30 & 60 & 2615 & 1380\\\\\n\t6 & 120 & 4 & 30 & 60 & 2625 & 1525\\\\\n\\end{tabular}\n",
            "text/plain": [
              "  Temperature Concentration Time Pressure Weight Viscosity\n",
              "1 100         4             20   60       2400   1400     \n",
              "2 120         4             20   60       2410   1500     \n",
              "3 100         8             20   60       2315   1520     \n",
              "4 120         8             20   60       2510   1630     \n",
              "5 100         4             30   60       2615   1380     \n",
              "6 120         4             30   60       2625   1525     "
            ]
          },
          "metadata": {}
        }
      ]
    },
    {
      "cell_type": "code",
      "source": [
        "m         <-  FrF2(2^4, 4, replications = 1, randomize = F,factor.names = c(\"A\", \"B\",\"C\", \"D\"))\n",
        "Weight    <- df631[1:16,\"Weight\"]\n",
        "Viscosity <- df631[1:16,\"Viscosity\"]\n",
        "m_full <-m\n",
        "m_full         <- add.response(m_full,Weight)\n",
        "m_full         <- add.response(m_full,Viscosity)"
      ],
      "metadata": {
        "colab": {
          "base_uri": "https://localhost:8080/"
        },
        "id": "ZHnKB_EHbo2-",
        "outputId": "c8e325d6-022a-4605-e711-470650d69ef4"
      },
      "execution_count": 8,
      "outputs": [
        {
          "output_type": "stream",
          "name": "stderr",
          "text": [
            "creating full factorial with 16 runs ...\n",
            "\n",
            "\n"
          ]
        }
      ]
    },
    {
      "cell_type": "code",
      "source": [
        "m_weight <- m\n",
        "m_weight <- add.response(m_weight,Weight)"
      ],
      "metadata": {
        "id": "sud4vHpGb_sk"
      },
      "execution_count": 9,
      "outputs": []
    },
    {
      "cell_type": "code",
      "source": [
        "# Test curvature\n",
        "summary(aov(Weight ~ A + C + A:B, data=m_full))"
      ],
      "metadata": {
        "colab": {
          "base_uri": "https://localhost:8080/",
          "height": 138
        },
        "id": "ZXGCSGnKcQ5Q",
        "outputId": "69079107-c773-4dfa-dcfa-736fec4f2cd4"
      },
      "execution_count": 10,
      "outputs": [
        {
          "output_type": "display_data",
          "data": {
            "text/plain": [
              "            Df Sum Sq Mean Sq F value   Pr(>F)    \n",
              "A            1  61256   61256   61.78 7.72e-06 ***\n",
              "C            1 162006  162006  163.40 6.06e-08 ***\n",
              "A:B          2  58106   29053   29.30 3.92e-05 ***\n",
              "Residuals   11  10906     991                     \n",
              "---\n",
              "Signif. codes:  0 ‘***’ 0.001 ‘**’ 0.01 ‘*’ 0.05 ‘.’ 0.1 ‘ ’ 1"
            ]
          },
          "metadata": {}
        }
      ]
    },
    {
      "cell_type": "markdown",
      "source": [
        "> *Montgomery, Design and Analysis of Experiments:*\n",
        "\"If interaction terms are added to a main effect or first-order model we have a model capable of representing some curvature in the response function. This curvature results from the twisting of the response surface plane induced by the interaction term.\"\n",
        "\n"
      ],
      "metadata": {
        "id": "EqP5lG9wo_mT"
      }
    },
    {
      "cell_type": "markdown",
      "source": [
        "##\tProblems 6.26 and 6.27 and 7.7\n",
        "from the chapters 6 and 7, D. C. Montgomery DAoE - 8. edition.\n",
        "\n",
        "An experiment was run in a semiconductor fabrication plant in an effort to increase yield. Five factors, each at two levels, were studied. The factors (and levels) were A \u0005 aperture setting (small, large), B \u0005 exposure time (20% below nominal, 20% above nominal), C \u0005 development time (30 and 45 s), D\u0005\n",
        "mask dimension (small, large), and E \u0005 etch time (14.5 and 15.5\n",
        "min). The unreplicated $2^5$ design shown below was run."
      ],
      "metadata": {
        "id": "_lYQT0wrrb3V"
      }
    },
    {
      "cell_type": "code",
      "source": [
        "df626 <- read.table(\"https://raw.githubusercontent.com/francji1/01NAEX/main/data/Ex06_26.csv\",header=TRUE,sep=\";\")\n",
        "head(df626)"
      ],
      "metadata": {
        "id": "DfQaZt8HzOXa",
        "colab": {
          "base_uri": "https://localhost:8080/",
          "height": 286
        },
        "outputId": "f681b87d-eb67-40f6-bf3c-09267c4a956c"
      },
      "execution_count": 11,
      "outputs": [
        {
          "output_type": "display_data",
          "data": {
            "text/html": [
              "<table class=\"dataframe\">\n",
              "<caption>A data.frame: 6 × 6</caption>\n",
              "<thead>\n",
              "\t<tr><th></th><th scope=col>Aperture</th><th scope=col>ExposureTime</th><th scope=col>DevelopTime</th><th scope=col>MaskDimension</th><th scope=col>EtchTime</th><th scope=col>Yield</th></tr>\n",
              "\t<tr><th></th><th scope=col>&lt;chr&gt;</th><th scope=col>&lt;int&gt;</th><th scope=col>&lt;dbl&gt;</th><th scope=col>&lt;chr&gt;</th><th scope=col>&lt;dbl&gt;</th><th scope=col>&lt;int&gt;</th></tr>\n",
              "</thead>\n",
              "<tbody>\n",
              "\t<tr><th scope=row>1</th><td>small</td><td>-20</td><td>30</td><td>Small</td><td>14.5</td><td> 7</td></tr>\n",
              "\t<tr><th scope=row>2</th><td>large</td><td>-20</td><td>30</td><td>Small</td><td>14.5</td><td> 9</td></tr>\n",
              "\t<tr><th scope=row>3</th><td>small</td><td> 20</td><td>30</td><td>Small</td><td>14.5</td><td>34</td></tr>\n",
              "\t<tr><th scope=row>4</th><td>large</td><td> 20</td><td>30</td><td>Small</td><td>14.5</td><td>55</td></tr>\n",
              "\t<tr><th scope=row>5</th><td>small</td><td>-20</td><td>45</td><td>Small</td><td>14.5</td><td>16</td></tr>\n",
              "\t<tr><th scope=row>6</th><td>large</td><td>-20</td><td>45</td><td>Small</td><td>14.5</td><td>20</td></tr>\n",
              "</tbody>\n",
              "</table>\n"
            ],
            "text/markdown": "\nA data.frame: 6 × 6\n\n| <!--/--> | Aperture &lt;chr&gt; | ExposureTime &lt;int&gt; | DevelopTime &lt;dbl&gt; | MaskDimension &lt;chr&gt; | EtchTime &lt;dbl&gt; | Yield &lt;int&gt; |\n|---|---|---|---|---|---|---|\n| 1 | small | -20 | 30 | Small | 14.5 |  7 |\n| 2 | large | -20 | 30 | Small | 14.5 |  9 |\n| 3 | small |  20 | 30 | Small | 14.5 | 34 |\n| 4 | large |  20 | 30 | Small | 14.5 | 55 |\n| 5 | small | -20 | 45 | Small | 14.5 | 16 |\n| 6 | large | -20 | 45 | Small | 14.5 | 20 |\n\n",
            "text/latex": "A data.frame: 6 × 6\n\\begin{tabular}{r|llllll}\n  & Aperture & ExposureTime & DevelopTime & MaskDimension & EtchTime & Yield\\\\\n  & <chr> & <int> & <dbl> & <chr> & <dbl> & <int>\\\\\n\\hline\n\t1 & small & -20 & 30 & Small & 14.5 &  7\\\\\n\t2 & large & -20 & 30 & Small & 14.5 &  9\\\\\n\t3 & small &  20 & 30 & Small & 14.5 & 34\\\\\n\t4 & large &  20 & 30 & Small & 14.5 & 55\\\\\n\t5 & small & -20 & 45 & Small & 14.5 & 16\\\\\n\t6 & large & -20 & 45 & Small & 14.5 & 20\\\\\n\\end{tabular}\n",
            "text/plain": [
              "  Aperture ExposureTime DevelopTime MaskDimension EtchTime Yield\n",
              "1 small    -20          30          Small         14.5      7   \n",
              "2 large    -20          30          Small         14.5      9   \n",
              "3 small     20          30          Small         14.5     34   \n",
              "4 large     20          30          Small         14.5     55   \n",
              "5 small    -20          45          Small         14.5     16   \n",
              "6 large    -20          45          Small         14.5     20   "
            ]
          },
          "metadata": {}
        }
      ]
    },
    {
      "cell_type": "markdown",
      "source": [
        "a) Construct a normal probability plot of the effect estimates.\n",
        "Which effects appear to be large?\n",
        "\n",
        "b) Conduct an analysis of variance to confirm your findings\n",
        "for part (a).\n",
        "\n",
        "c) Write down the regression model relating yield to the\n",
        "significant process variables.\n",
        "\n",
        "d) Plot the residuals on normal probability paper. Is the\n",
        "plot satisfactory?\n",
        "\n",
        "e) Plot the residuals versus the predicted yields and versus\n",
        "each of the five factors. Comment on the plots.\n",
        "\n",
        "f) Interpret any significant interactions.\n",
        "\n",
        "g) What are your recommendations regarding process\n",
        "operating conditions?\n",
        "\n",
        "h) Project the 25 design in this problem into a 2k design\n",
        "in the important factors. Sketch the design and show\n",
        "the average and range of yields at each run. Does\n",
        "this sketch aid in interpreting the results of this\n",
        "experiment?\n",
        "\n",
        "i) Suppose that the experimenter had run four center points in addition to the 32 trials in the original experiment. The yields obtained at the\n",
        "center point runs were 68, 74, 76, and 70. Reanalyze the experiment, including a test for pure quadratic curvature. Discuss what your next step would be.\n",
        "\n",
        "j) Construct and analyze a design in two blocks with ABCDE\n",
        "confounded with blocks.\n",
        "\n",
        "k) Assuming now that four blocks are\n",
        "necessary. Suggest a reasonable confounding scheme.\n",
        "\n",
        "l) Suppose that it was necessary to run this design in four blocks\n",
        "with ACDE and BCD (and consequently ABE) confounded.\n",
        "Analyze the data from this design."
      ],
      "metadata": {
        "id": "dbEJmeh3zNWJ"
      }
    },
    {
      "cell_type": "code",
      "source": [
        "# Define new column names\n",
        "new_column_names = c(\"A\", \"B\", \"C\", \"D\", \"E\")\n",
        "\n",
        "# Rename columns using the `rename_with` function\n",
        "df626 = df626 %>%\n",
        "  rename_with(~ new_column_names, c(1,2,3,4,5))\n",
        "\n",
        "# Rename variable values\n",
        "df626 = df626 %>%\n",
        "  mutate_at(vars(B, E), ~ ifelse(. < 15, -1, 1)) %>%\n",
        "  mutate_at(vars(C), ~ ifelse(. < 40, -1, 1))\n",
        "\n",
        "df626$A[df626$A == \"small\"] = -1\n",
        "df626$A[df626$A == \"large\"] = 1\n",
        "df626$D[df626$D == \"Small\"] = -1\n",
        "df626$D[df626$D == \"Large\"] = 1\n",
        "\n",
        "# Change the first 5 double columns to factors\n",
        "df626 = df626 %>%\n",
        "  mutate_at(vars(A:E), as.factor)\n",
        "\n",
        "# View the renamed dataframe\n",
        "str(df626)"
      ],
      "metadata": {
        "id": "fxD9HMoPrbHg",
        "colab": {
          "base_uri": "https://localhost:8080/"
        },
        "outputId": "90f21a7c-c5df-400a-bdf8-a4d085967c28"
      },
      "execution_count": 12,
      "outputs": [
        {
          "output_type": "stream",
          "name": "stdout",
          "text": [
            "'data.frame':\t36 obs. of  6 variables:\n",
            " $ A    : Factor w/ 2 levels \"-1\",\"1\": 1 2 1 2 1 2 1 2 1 2 ...\n",
            " $ B    : Factor w/ 2 levels \"-1\",\"1\": 1 1 2 2 1 1 2 2 1 1 ...\n",
            " $ C    : Factor w/ 2 levels \"-1\",\"1\": 1 1 1 1 2 2 2 2 1 1 ...\n",
            " $ D    : Factor w/ 2 levels \"-1\",\"1\": 1 1 1 1 1 1 1 1 2 2 ...\n",
            " $ E    : Factor w/ 2 levels \"-1\",\"1\": 1 1 1 1 1 1 1 1 1 1 ...\n",
            " $ Yield: int  7 9 34 55 16 20 40 60 8 10 ...\n"
          ]
        }
      ]
    },
    {
      "cell_type": "code",
      "source": [
        "frf_0  =  FrF2(2^5, 5, replications = 1, randomize = F, factor.names = c(\"A\", \"B\", \"C\", \"D\", \"E\"))\n",
        "Yield  = df626[1:32,\"Yield\"]\n",
        "frf_0 = add.response(frf_0, Yield)\n",
        "\n",
        "head(frf_0)"
      ],
      "metadata": {
        "id": "Z7zYK4ip1RIF",
        "colab": {
          "base_uri": "https://localhost:8080/",
          "height": 338
        },
        "outputId": "3941018c-f81d-44ff-902a-ae29b8f926d4"
      },
      "execution_count": 13,
      "outputs": [
        {
          "output_type": "stream",
          "name": "stderr",
          "text": [
            "creating full factorial with 32 runs ...\n",
            "\n",
            "\n"
          ]
        },
        {
          "output_type": "display_data",
          "data": {
            "text/html": [
              "<table class=\"dataframe\">\n",
              "<caption>A data.frame: 6 × 6</caption>\n",
              "<thead>\n",
              "\t<tr><th></th><th scope=col>A</th><th scope=col>B</th><th scope=col>C</th><th scope=col>D</th><th scope=col>E</th><th scope=col>Yield</th></tr>\n",
              "\t<tr><th></th><th scope=col>&lt;fct&gt;</th><th scope=col>&lt;fct&gt;</th><th scope=col>&lt;fct&gt;</th><th scope=col>&lt;fct&gt;</th><th scope=col>&lt;fct&gt;</th><th scope=col>&lt;int&gt;</th></tr>\n",
              "</thead>\n",
              "<tbody>\n",
              "\t<tr><th scope=row>1</th><td>-1</td><td>-1</td><td>-1</td><td>-1</td><td>-1</td><td> 7</td></tr>\n",
              "\t<tr><th scope=row>2</th><td>1 </td><td>-1</td><td>-1</td><td>-1</td><td>-1</td><td> 9</td></tr>\n",
              "\t<tr><th scope=row>3</th><td>-1</td><td>1 </td><td>-1</td><td>-1</td><td>-1</td><td>34</td></tr>\n",
              "\t<tr><th scope=row>4</th><td>1 </td><td>1 </td><td>-1</td><td>-1</td><td>-1</td><td>55</td></tr>\n",
              "\t<tr><th scope=row>5</th><td>-1</td><td>-1</td><td>1 </td><td>-1</td><td>-1</td><td>16</td></tr>\n",
              "\t<tr><th scope=row>6</th><td>1 </td><td>-1</td><td>1 </td><td>-1</td><td>-1</td><td>20</td></tr>\n",
              "</tbody>\n",
              "</table>\n"
            ],
            "text/markdown": "\nA data.frame: 6 × 6\n\n| <!--/--> | A &lt;fct&gt; | B &lt;fct&gt; | C &lt;fct&gt; | D &lt;fct&gt; | E &lt;fct&gt; | Yield &lt;int&gt; |\n|---|---|---|---|---|---|---|\n| 1 | -1 | -1 | -1 | -1 | -1 |  7 |\n| 2 | 1  | -1 | -1 | -1 | -1 |  9 |\n| 3 | -1 | 1  | -1 | -1 | -1 | 34 |\n| 4 | 1  | 1  | -1 | -1 | -1 | 55 |\n| 5 | -1 | -1 | 1  | -1 | -1 | 16 |\n| 6 | 1  | -1 | 1  | -1 | -1 | 20 |\n\n",
            "text/latex": "A data.frame: 6 × 6\n\\begin{tabular}{r|llllll}\n  & A & B & C & D & E & Yield\\\\\n  & <fct> & <fct> & <fct> & <fct> & <fct> & <int>\\\\\n\\hline\n\t1 & -1 & -1 & -1 & -1 & -1 &  7\\\\\n\t2 & 1  & -1 & -1 & -1 & -1 &  9\\\\\n\t3 & -1 & 1  & -1 & -1 & -1 & 34\\\\\n\t4 & 1  & 1  & -1 & -1 & -1 & 55\\\\\n\t5 & -1 & -1 & 1  & -1 & -1 & 16\\\\\n\t6 & 1  & -1 & 1  & -1 & -1 & 20\\\\\n\\end{tabular}\n",
            "text/plain": [
              "  A  B  C  D  E  Yield\n",
              "1 -1 -1 -1 -1 -1  7   \n",
              "2 1  -1 -1 -1 -1  9   \n",
              "3 -1 1  -1 -1 -1 34   \n",
              "4 1  1  -1 -1 -1 55   \n",
              "5 -1 -1 1  -1 -1 16   \n",
              "6 1  -1 1  -1 -1 20   "
            ]
          },
          "metadata": {}
        }
      ]
    },
    {
      "cell_type": "markdown",
      "source": [
        "### a) normal probability plot\n",
        "\n",
        "Construct a normal probability plot of the effect estimates. Which effects appear to be large?\n",
        "\n",
        "---\n",
        "\n"
      ],
      "metadata": {
        "id": "Q2msQDu5ETaT"
      }
    },
    {
      "cell_type": "code",
      "source": [
        "mod_1 = lm(Yield ~ (A+B+C+D+E)^2, data = frf_0)\n",
        "summary(mod_1)"
      ],
      "metadata": {
        "id": "2F26bckauxvB",
        "colab": {
          "base_uri": "https://localhost:8080/",
          "height": 572
        },
        "outputId": "88a82608-b662-4d68-f5e9-c6ffe53aa79e"
      },
      "execution_count": 14,
      "outputs": [
        {
          "output_type": "display_data",
          "data": {
            "text/plain": [
              "\n",
              "Call:\n",
              "lm.default(formula = Yield ~ (A + B + C + D + E)^2, data = frf_0)\n",
              "\n",
              "Residuals:\n",
              "    Min      1Q  Median      3Q     Max \n",
              "-2.8750 -0.6719  0.1562  0.4844  2.9375 \n",
              "\n",
              "Coefficients:\n",
              "            Estimate Std. Error t value Pr(>|t|)    \n",
              "(Intercept) 30.53125    0.27863 109.575  < 2e-16 ***\n",
              "A1           5.90625    0.27863  21.197 3.90e-13 ***\n",
              "B1          16.96875    0.27863  60.900  < 2e-16 ***\n",
              "C1           4.84375    0.27863  17.384 8.21e-12 ***\n",
              "D1          -0.40625    0.27863  -1.458    0.164    \n",
              "E1           0.21875    0.27863   0.785    0.444    \n",
              "A1:B1        3.96875    0.27863  14.244 1.66e-10 ***\n",
              "A1:C1        0.21875    0.27863   0.785    0.444    \n",
              "A1:D1       -0.03125    0.27863  -0.112    0.912    \n",
              "A1:E1        0.46875    0.27863   1.682    0.112    \n",
              "B1:C1        0.03125    0.27863   0.112    0.912    \n",
              "B1:D1       -0.34375    0.27863  -1.234    0.235    \n",
              "B1:E1        0.28125    0.27863   1.009    0.328    \n",
              "C1:D1        0.40625    0.27863   1.458    0.164    \n",
              "C1:E1        0.15625    0.27863   0.561    0.583    \n",
              "D1:E1       -0.59375    0.27863  -2.131    0.049 *  \n",
              "---\n",
              "Signif. codes:  0 ‘***’ 0.001 ‘**’ 0.01 ‘*’ 0.05 ‘.’ 0.1 ‘ ’ 1\n",
              "\n",
              "Residual standard error: 1.576 on 16 degrees of freedom\n",
              "Multiple R-squared:  0.9966,\tAdjusted R-squared:  0.9934 \n",
              "F-statistic: 311.9 on 15 and 16 DF,  p-value: < 2.2e-16\n"
            ]
          },
          "metadata": {}
        }
      ]
    },
    {
      "cell_type": "code",
      "source": [
        "# Daniel plot\n",
        "qqline(DanielPlot(mod_1, alpha = 0.1)$y)"
      ],
      "metadata": {
        "id": "am2PLVDMlnQi",
        "colab": {
          "base_uri": "https://localhost:8080/",
          "height": 437
        },
        "outputId": "50140664-c018-4a61-d47c-37e781bb506e"
      },
      "execution_count": 15,
      "outputs": [
        {
          "output_type": "display_data",
          "data": {
            "text/plain": [
              "Plot with title “Normal Plot for Yield, alpha=0.1”"
            ],
            "image/png": "[encoded data removed]"
          },
          "metadata": {
            "image/png": {
              "width": 420,
              "height": 420
            }
          }
        }
      ]
    },
    {
      "cell_type": "markdown",
      "source": [
        "Effects A, B, C and interaction A:B seem to be important judging from the Daniel plot output."
      ],
      "metadata": {
        "id": "6P6d2YOFDn2S"
      }
    },
    {
      "cell_type": "markdown",
      "source": [
        "### b) anova\n",
        "\n",
        "Conduct an analysis of variance to confirm your findings for part (a).\n",
        "\n",
        "---\n",
        "\n"
      ],
      "metadata": {
        "id": "ylCu3R69EDBx"
      }
    },
    {
      "cell_type": "code",
      "source": [
        "summary(aov(Yield ~ A + B + C + A:B, data = frf_0))"
      ],
      "metadata": {
        "id": "HEfWQib6uTy3",
        "colab": {
          "base_uri": "https://localhost:8080/",
          "height": 156
        },
        "outputId": "713f9858-c55d-4d76-f5ab-cc5eff305aaa"
      },
      "execution_count": 16,
      "outputs": [
        {
          "output_type": "display_data",
          "data": {
            "text/plain": [
              "            Df Sum Sq Mean Sq F value   Pr(>F)    \n",
              "A            1   1116    1116   382.3  < 2e-16 ***\n",
              "B            1   9214    9214  3155.3  < 2e-16 ***\n",
              "C            1    751     751   257.1 2.53e-15 ***\n",
              "A:B          1    504     504   172.6 3.04e-13 ***\n",
              "Residuals   27     79       3                     \n",
              "---\n",
              "Signif. codes:  0 ‘***’ 0.001 ‘**’ 0.01 ‘*’ 0.05 ‘.’ 0.1 ‘ ’ 1"
            ]
          },
          "metadata": {}
        }
      ]
    },
    {
      "cell_type": "markdown",
      "source": [
        "ANOVA p-values support the significance of the chosen factors based on visual inspecion of the Daniel plot."
      ],
      "metadata": {
        "id": "rRJeuy3RHHyZ"
      }
    },
    {
      "cell_type": "markdown",
      "source": [
        "### c) regression model\n",
        "\n",
        "Write down the regression model relating yield to the significant process variables.\n",
        "\n",
        "---\n",
        "\n"
      ],
      "metadata": {
        "id": "EPHRl63PGHQa"
      }
    },
    {
      "cell_type": "code",
      "source": [
        "mod_2 = lm(Yield ~ A + B + C + A:B, data = frf_0)\n",
        "summary(mod_2)"
      ],
      "metadata": {
        "id": "zoo6DVoAEKF3",
        "colab": {
          "base_uri": "https://localhost:8080/",
          "height": 381
        },
        "outputId": "01a09bcf-b08a-46f3-df9a-7a43dada0c12"
      },
      "execution_count": 17,
      "outputs": [
        {
          "output_type": "display_data",
          "data": {
            "text/plain": [
              "\n",
              "Call:\n",
              "lm.default(formula = Yield ~ A + B + C + A:B, data = frf_0)\n",
              "\n",
              "Residuals:\n",
              "    Min      1Q  Median      3Q     Max \n",
              "-2.7812 -1.2812 -0.3438  1.2500  2.7812 \n",
              "\n",
              "Coefficients:\n",
              "            Estimate Std. Error t value Pr(>|t|)    \n",
              "(Intercept)  30.5312     0.3021  101.07  < 2e-16 ***\n",
              "A1            5.9063     0.3021   19.55  < 2e-16 ***\n",
              "B1           16.9688     0.3021   56.17  < 2e-16 ***\n",
              "C1            4.8438     0.3021   16.03 2.53e-15 ***\n",
              "A1:B1         3.9687     0.3021   13.14 3.04e-13 ***\n",
              "---\n",
              "Signif. codes:  0 ‘***’ 0.001 ‘**’ 0.01 ‘*’ 0.05 ‘.’ 0.1 ‘ ’ 1\n",
              "\n",
              "Residual standard error: 1.709 on 27 degrees of freedom\n",
              "Multiple R-squared:  0.9932,\tAdjusted R-squared:  0.9922 \n",
              "F-statistic: 991.8 on 4 and 27 DF,  p-value: < 2.2e-16\n"
            ]
          },
          "metadata": {}
        }
      ]
    },
    {
      "cell_type": "markdown",
      "source": [
        "### d) residuals"
      ],
      "metadata": {
        "id": "uz9tPw6kHnzc"
      }
    },
    {
      "cell_type": "code",
      "source": [
        "# Normal Probability Plot of Residuals\n",
        "qqnorm(residuals(mod_2))\n",
        "qqline(residuals(mod_2))"
      ],
      "metadata": {
        "id": "QvqmveheGVug",
        "colab": {
          "base_uri": "https://localhost:8080/",
          "height": 437
        },
        "outputId": "d0679701-7a32-42d3-919c-c4ba491b8bd1"
      },
      "execution_count": 18,
      "outputs": [
        {
          "output_type": "display_data",
          "data": {
            "text/plain": [
              "Plot with title “Normal Q-Q Plot”"
            ],
            "image/png": "[encoded data removed]"
          },
          "metadata": {
            "image/png": {
              "width": 420,
              "height": 420
            }
          }
        }
      ]
    },
    {
      "cell_type": "markdown",
      "source": [
        "QQ-plot looks somwhat heavy-tailed meaning the residuals are not normally distributed."
      ],
      "metadata": {
        "id": "ybnObEjAI3Tm"
      }
    },
    {
      "cell_type": "markdown",
      "source": [
        "### e) residuals vs. predicted and factors\n",
        "\n",
        "Plot the residuals versus the predicted yields and versus each of the five factors. Comment on the plots.\n",
        "\n",
        "---\n",
        "\n"
      ],
      "metadata": {
        "id": "Nw4F741MJzUt"
      }
    },
    {
      "cell_type": "code",
      "source": [
        "# Residuals vs. Predicted Values Plot\n",
        "plot(fitted(mod_2), residuals(mod_2),\n",
        "     xlab = \"Predicted Values\", ylab = \"Residuals\",\n",
        "     main = \"Residuals vs. Predicted Values\")\n",
        "abline(h = 0, col = \"red\")"
      ],
      "metadata": {
        "id": "67EAUihIIOFw",
        "colab": {
          "base_uri": "https://localhost:8080/",
          "height": 437
        },
        "outputId": "a2d8476e-69b7-4084-c090-71a9a2c1978d"
      },
      "execution_count": 19,
      "outputs": [
        {
          "output_type": "display_data",
          "data": {
            "text/plain": [
              "Plot with title “Residuals vs. Predicted Values”"
            ],
            "image/png": "[encoded data removed]"
          },
          "metadata": {
            "image/png": {
              "width": 420,
              "height": 420
            }
          }
        }
      ]
    },
    {
      "cell_type": "markdown",
      "source": [
        "An observable cone implies heteroscedasticity."
      ],
      "metadata": {
        "id": "LqEdVVwfZh_x"
      }
    },
    {
      "cell_type": "code",
      "source": [
        "# Create a plot of residuals vs. factor variable \"A\"\n",
        "plot(frf_0$A, residuals(mod_2),\n",
        "     xlab = \"Factor A Levels\", ylab = \"Residuals\",\n",
        "     main = \"Residuals vs. Factor A Levels\")\n",
        "abline(h = 0, col = \"red\")"
      ],
      "metadata": {
        "id": "Zu1pqJfMKDfQ",
        "colab": {
          "base_uri": "https://localhost:8080/",
          "height": 437
        },
        "outputId": "b5d72324-6334-4ebc-b0eb-7637a0a9db7e"
      },
      "execution_count": 20,
      "outputs": [
        {
          "output_type": "display_data",
          "data": {
            "text/plain": [
              "Plot with title “Residuals vs. Factor A Levels”"
            ],
            "image/png": "[encoded data removed]"
          },
          "metadata": {
            "image/png": {
              "width": 420,
              "height": 420
            }
          }
        }
      ]
    },
    {
      "cell_type": "code",
      "source": [
        "# Create a plot of residuals vs. factor variable \"B\"\n",
        "plot(frf_0$B, residuals(mod_2),\n",
        "     xlab = \"Factor B Levels\", ylab = \"Residuals\",\n",
        "     main = \"Residuals vs. Factor B Levels\")\n",
        "abline(h = 0, col = \"red\")"
      ],
      "metadata": {
        "id": "zdBiKXj6RKMv",
        "colab": {
          "base_uri": "https://localhost:8080/",
          "height": 437
        },
        "outputId": "2d6d0a80-4eb8-43d1-ba13-97a6db2c62e9"
      },
      "execution_count": 21,
      "outputs": [
        {
          "output_type": "display_data",
          "data": {
            "text/plain": [
              "Plot with title “Residuals vs. Factor B Levels”"
            ],
            "image/png": "[encoded data removed]"
          },
          "metadata": {
            "image/png": {
              "width": 420,
              "height": 420
            }
          }
        }
      ]
    },
    {
      "cell_type": "code",
      "source": [
        "# Create a plot of residuals vs. factor variable \"C\"\n",
        "plot(frf_0$C, residuals(mod_2),\n",
        "     xlab = \"Factor C Levels\", ylab = \"Residuals\",\n",
        "     main = \"Residuals vs. Factor C Levels\")\n",
        "abline(h = 0, col = \"red\")"
      ],
      "metadata": {
        "id": "XSjc9eMMVKQy",
        "colab": {
          "base_uri": "https://localhost:8080/",
          "height": 437
        },
        "outputId": "d28221a6-da01-468a-d2c0-99fe6c20b73a"
      },
      "execution_count": 22,
      "outputs": [
        {
          "output_type": "display_data",
          "data": {
            "text/plain": [
              "Plot with title “Residuals vs. Factor C Levels”"
            ],
            "image/png": "[encoded data removed]"
          },
          "metadata": {
            "image/png": {
              "width": 420,
              "height": 420
            }
          }
        }
      ]
    },
    {
      "cell_type": "code",
      "source": [
        "# Create a plot of residuals vs. factor variable \"D\"\n",
        "plot(frf_0$D, residuals(mod_2),\n",
        "     xlab = \"Factor D Levels\", ylab = \"Residuals\",\n",
        "     main = \"Residuals vs. Factor D Levels\")\n",
        "abline(h = 0, col = \"red\")"
      ],
      "metadata": {
        "id": "2vwp9IU0VSnE",
        "colab": {
          "base_uri": "https://localhost:8080/",
          "height": 437
        },
        "outputId": "37883ea0-8b99-4f43-8bff-e0f0c4981363"
      },
      "execution_count": 23,
      "outputs": [
        {
          "output_type": "display_data",
          "data": {
            "text/plain": [
              "Plot with title “Residuals vs. Factor D Levels”"
            ],
            "image/png": "[encoded data removed]"
          },
          "metadata": {
            "image/png": {
              "width": 420,
              "height": 420
            }
          }
        }
      ]
    },
    {
      "cell_type": "code",
      "source": [
        "# Create a plot of residuals vs. factor variable \"E\"\n",
        "plot(frf_0$E, residuals(mod_2),\n",
        "     xlab = \"Factor E Levels\", ylab = \"Residuals\",\n",
        "     main = \"Residuals vs. Factor E Levels\")\n",
        "abline(h = 0, col = \"red\")"
      ],
      "metadata": {
        "id": "HwYszcCjVaVF",
        "colab": {
          "base_uri": "https://localhost:8080/",
          "height": 437
        },
        "outputId": "1b28d5e4-1446-4fa5-c379-b498aef19a88"
      },
      "execution_count": 24,
      "outputs": [
        {
          "output_type": "display_data",
          "data": {
            "text/plain": [
              "Plot with title “Residuals vs. Factor E Levels”"
            ],
            "image/png": "[encoded data removed]"
          },
          "metadata": {
            "image/png": {
              "width": 420,
              "height": 420
            }
          }
        }
      ]
    },
    {
      "cell_type": "markdown",
      "source": [
        "Heteroscedasticity can also be confirmed by the means of residuals vs. factor levels plot. Factors A, C, D and especially B show greater dispersion in one of their levels."
      ],
      "metadata": {
        "id": "FDp-qAyuZpgF"
      }
    },
    {
      "cell_type": "markdown",
      "source": [
        "### f) interpretation\n",
        "\n",
        "Interpret any significant interactions.\n",
        "\n",
        "---\n"
      ],
      "metadata": {
        "id": "adOfFNEVaXEk"
      }
    },
    {
      "cell_type": "code",
      "source": [
        "summary(mod_2)"
      ],
      "metadata": {
        "id": "axS68BFRVf30",
        "colab": {
          "base_uri": "https://localhost:8080/",
          "height": 381
        },
        "outputId": "9f777173-5ce7-44cf-c256-e02ef2c07563"
      },
      "execution_count": 25,
      "outputs": [
        {
          "output_type": "display_data",
          "data": {
            "text/plain": [
              "\n",
              "Call:\n",
              "lm.default(formula = Yield ~ A + B + C + A:B, data = frf_0)\n",
              "\n",
              "Residuals:\n",
              "    Min      1Q  Median      3Q     Max \n",
              "-2.7812 -1.2812 -0.3438  1.2500  2.7812 \n",
              "\n",
              "Coefficients:\n",
              "            Estimate Std. Error t value Pr(>|t|)    \n",
              "(Intercept)  30.5312     0.3021  101.07  < 2e-16 ***\n",
              "A1            5.9063     0.3021   19.55  < 2e-16 ***\n",
              "B1           16.9688     0.3021   56.17  < 2e-16 ***\n",
              "C1            4.8438     0.3021   16.03 2.53e-15 ***\n",
              "A1:B1         3.9687     0.3021   13.14 3.04e-13 ***\n",
              "---\n",
              "Signif. codes:  0 ‘***’ 0.001 ‘**’ 0.01 ‘*’ 0.05 ‘.’ 0.1 ‘ ’ 1\n",
              "\n",
              "Residual standard error: 1.709 on 27 degrees of freedom\n",
              "Multiple R-squared:  0.9932,\tAdjusted R-squared:  0.9922 \n",
              "F-statistic: 991.8 on 4 and 27 DF,  p-value: < 2.2e-16\n"
            ]
          },
          "metadata": {}
        }
      ]
    },
    {
      "cell_type": "markdown",
      "source": [
        "One significant interaction has been found, that being the interaction of factors A and B denoting aperture setting and expozition time respectively. The term's estimated coefficient reads approximately 4. This means that Yield grows 4 times with the change of Exposition time and Aperture setting from low to high (i.e. from small to large setting and from exposition of 20 % below nominal to 20 % above nominal)."
      ],
      "metadata": {
        "id": "QNvRDeVTa2cF"
      }
    },
    {
      "cell_type": "markdown",
      "source": [
        "### g) recommendations\n",
        "\n",
        "What are your recommendations regarding process operating conditions?\n",
        "\n",
        "---\n",
        "\n",
        "Based on model coefficients it is recommended to use the large aperture (A), expose for 20 % above nominal (B) and opt for the development time of 45 seconds (C) for higher Yield values."
      ],
      "metadata": {
        "id": "cNCAG7O_hUxd"
      }
    },
    {
      "cell_type": "markdown",
      "source": [
        "### h) reduced design"
      ],
      "metadata": {
        "id": "bt_PzsDu6xZ2"
      }
    },
    {
      "cell_type": "markdown",
      "source": [
        " Project the 25 design in this problem into a 2k design in the important factors. Sketch the design and show the average and range of yields at each run. Does this sketch aid in interpreting the results of this experiment?\n",
        "\n",
        "\n",
        "---\n"
      ],
      "metadata": {
        "id": "r-JXU1uQ7KTx"
      }
    },
    {
      "cell_type": "code",
      "source": [
        "# Create a design in the important factors\n",
        "frf_1 = FrF2(2^3, 3, replications = 4, randomize = FALSE, factor.names = c(\"A\", \"B\", \"C\"))\n",
        "frf_1 = add.response(frf_1, Yield)\n",
        "head(frf_1, 8)"
      ],
      "metadata": {
        "colab": {
          "base_uri": "https://localhost:8080/",
          "height": 401
        },
        "id": "CzIhKiphUjwi",
        "outputId": "af311563-7de9-4997-bad2-866127767107"
      },
      "execution_count": 26,
      "outputs": [
        {
          "output_type": "stream",
          "name": "stderr",
          "text": [
            "creating full factorial with 8 runs ...\n",
            "\n",
            "\n"
          ]
        },
        {
          "output_type": "display_data",
          "data": {
            "text/html": [
              "<table class=\"dataframe\">\n",
              "<caption>A data.frame: 8 × 5</caption>\n",
              "<thead>\n",
              "\t<tr><th></th><th scope=col>A</th><th scope=col>B</th><th scope=col>C</th><th scope=col>Blocks</th><th scope=col>Yield</th></tr>\n",
              "\t<tr><th></th><th scope=col>&lt;fct&gt;</th><th scope=col>&lt;fct&gt;</th><th scope=col>&lt;fct&gt;</th><th scope=col>&lt;fct&gt;</th><th scope=col>&lt;int&gt;</th></tr>\n",
              "</thead>\n",
              "<tbody>\n",
              "\t<tr><th scope=row>1</th><td>-1</td><td>-1</td><td>-1</td><td>.1</td><td> 7</td></tr>\n",
              "\t<tr><th scope=row>2</th><td>1 </td><td>-1</td><td>-1</td><td>.1</td><td> 9</td></tr>\n",
              "\t<tr><th scope=row>3</th><td>-1</td><td>1 </td><td>-1</td><td>.1</td><td>34</td></tr>\n",
              "\t<tr><th scope=row>4</th><td>1 </td><td>1 </td><td>-1</td><td>.1</td><td>55</td></tr>\n",
              "\t<tr><th scope=row>5</th><td>-1</td><td>-1</td><td>1 </td><td>.1</td><td>16</td></tr>\n",
              "\t<tr><th scope=row>6</th><td>1 </td><td>-1</td><td>1 </td><td>.1</td><td>20</td></tr>\n",
              "\t<tr><th scope=row>7</th><td>-1</td><td>1 </td><td>1 </td><td>.1</td><td>40</td></tr>\n",
              "\t<tr><th scope=row>8</th><td>1 </td><td>1 </td><td>1 </td><td>.1</td><td>60</td></tr>\n",
              "</tbody>\n",
              "</table>\n"
            ],
            "text/markdown": "\nA data.frame: 8 × 5\n\n| <!--/--> | A &lt;fct&gt; | B &lt;fct&gt; | C &lt;fct&gt; | Blocks &lt;fct&gt; | Yield &lt;int&gt; |\n|---|---|---|---|---|---|\n| 1 | -1 | -1 | -1 | .1 |  7 |\n| 2 | 1  | -1 | -1 | .1 |  9 |\n| 3 | -1 | 1  | -1 | .1 | 34 |\n| 4 | 1  | 1  | -1 | .1 | 55 |\n| 5 | -1 | -1 | 1  | .1 | 16 |\n| 6 | 1  | -1 | 1  | .1 | 20 |\n| 7 | -1 | 1  | 1  | .1 | 40 |\n| 8 | 1  | 1  | 1  | .1 | 60 |\n\n",
            "text/latex": "A data.frame: 8 × 5\n\\begin{tabular}{r|lllll}\n  & A & B & C & Blocks & Yield\\\\\n  & <fct> & <fct> & <fct> & <fct> & <int>\\\\\n\\hline\n\t1 & -1 & -1 & -1 & .1 &  7\\\\\n\t2 & 1  & -1 & -1 & .1 &  9\\\\\n\t3 & -1 & 1  & -1 & .1 & 34\\\\\n\t4 & 1  & 1  & -1 & .1 & 55\\\\\n\t5 & -1 & -1 & 1  & .1 & 16\\\\\n\t6 & 1  & -1 & 1  & .1 & 20\\\\\n\t7 & -1 & 1  & 1  & .1 & 40\\\\\n\t8 & 1  & 1  & 1  & .1 & 60\\\\\n\\end{tabular}\n",
            "text/plain": [
              "  A  B  C  Blocks Yield\n",
              "1 -1 -1 -1 .1      7   \n",
              "2 1  -1 -1 .1      9   \n",
              "3 -1 1  -1 .1     34   \n",
              "4 1  1  -1 .1     55   \n",
              "5 -1 -1 1  .1     16   \n",
              "6 1  -1 1  .1     20   \n",
              "7 -1 1  1  .1     40   \n",
              "8 1  1  1  .1     60   "
            ]
          },
          "metadata": {}
        }
      ]
    },
    {
      "cell_type": "markdown",
      "source": [
        "Run-specific effect combinations are shown in the table above."
      ],
      "metadata": {
        "id": "iz-HclQFQAY7"
      }
    },
    {
      "cell_type": "code",
      "source": [
        "# Extract yields and assign them their respective runs\n",
        "frf_2 = as.data.frame(frf_1$Yield)\n",
        "frf_2$Run = as.factor(rep(1:8, each = 1, length.out = 32))\n",
        "colnames(frf_2)[1] = \"Yield\"\n",
        "\n",
        "head(frf_2, 8)"
      ],
      "metadata": {
        "colab": {
          "base_uri": "https://localhost:8080/",
          "height": 349
        },
        "id": "dAkFB-8BEkZv",
        "outputId": "45131216-8e6f-4278-9aae-cabde55e9404"
      },
      "execution_count": 27,
      "outputs": [
        {
          "output_type": "display_data",
          "data": {
            "text/html": [
              "<table class=\"dataframe\">\n",
              "<caption>A data.frame: 8 × 2</caption>\n",
              "<thead>\n",
              "\t<tr><th></th><th scope=col>Yield</th><th scope=col>Run</th></tr>\n",
              "\t<tr><th></th><th scope=col>&lt;int&gt;</th><th scope=col>&lt;fct&gt;</th></tr>\n",
              "</thead>\n",
              "<tbody>\n",
              "\t<tr><th scope=row>1</th><td> 7</td><td>1</td></tr>\n",
              "\t<tr><th scope=row>2</th><td> 9</td><td>2</td></tr>\n",
              "\t<tr><th scope=row>3</th><td>34</td><td>3</td></tr>\n",
              "\t<tr><th scope=row>4</th><td>55</td><td>4</td></tr>\n",
              "\t<tr><th scope=row>5</th><td>16</td><td>5</td></tr>\n",
              "\t<tr><th scope=row>6</th><td>20</td><td>6</td></tr>\n",
              "\t<tr><th scope=row>7</th><td>40</td><td>7</td></tr>\n",
              "\t<tr><th scope=row>8</th><td>60</td><td>8</td></tr>\n",
              "</tbody>\n",
              "</table>\n"
            ],
            "text/markdown": "\nA data.frame: 8 × 2\n\n| <!--/--> | Yield &lt;int&gt; | Run &lt;fct&gt; |\n|---|---|---|\n| 1 |  7 | 1 |\n| 2 |  9 | 2 |\n| 3 | 34 | 3 |\n| 4 | 55 | 4 |\n| 5 | 16 | 5 |\n| 6 | 20 | 6 |\n| 7 | 40 | 7 |\n| 8 | 60 | 8 |\n\n",
            "text/latex": "A data.frame: 8 × 2\n\\begin{tabular}{r|ll}\n  & Yield & Run\\\\\n  & <int> & <fct>\\\\\n\\hline\n\t1 &  7 & 1\\\\\n\t2 &  9 & 2\\\\\n\t3 & 34 & 3\\\\\n\t4 & 55 & 4\\\\\n\t5 & 16 & 5\\\\\n\t6 & 20 & 6\\\\\n\t7 & 40 & 7\\\\\n\t8 & 60 & 8\\\\\n\\end{tabular}\n",
            "text/plain": [
              "  Yield Run\n",
              "1  7    1  \n",
              "2  9    2  \n",
              "3 34    3  \n",
              "4 55    4  \n",
              "5 16    5  \n",
              "6 20    6  \n",
              "7 40    7  \n",
              "8 60    8  "
            ]
          },
          "metadata": {}
        }
      ]
    },
    {
      "cell_type": "code",
      "source": [
        "y_1 = frf_2[frf_2$Run == \"1\", ]$Yield\n",
        "y_2 = frf_2[frf_2$Run == \"2\", ]$Yield\n",
        "y_3 = frf_2[frf_2$Run == \"3\", ]$Yield\n",
        "y_4 = frf_2[frf_2$Run == \"4\", ]$Yield\n",
        "y_5 = frf_2[frf_2$Run == \"5\", ]$Yield\n",
        "y_6 = frf_2[frf_2$Run == \"6\", ]$Yield\n",
        "y_7 = frf_2[frf_2$Run == \"7\", ]$Yield\n",
        "y_8 = frf_2[frf_2$Run == \"8\", ]$Yield\n",
        "\n",
        "frf_3 = as.data.frame(cbind(y_1, y_2, y_3, y_4, y_5, y_6, y_7, y_8))\n",
        "colnames(frf_3) = c(\"Run 1\", \"Run 2\", \"Run 3\", \"Run 4\", \"Run 5\", \"Run 6\", \"Run 7\", \"Run 8\")\n",
        "\n",
        "frf_3"
      ],
      "metadata": {
        "colab": {
          "base_uri": "https://localhost:8080/",
          "height": 223
        },
        "id": "tUU8fOJ9alcq",
        "outputId": "8cba368d-8227-4711-ead7-30b534bb9be4"
      },
      "execution_count": 28,
      "outputs": [
        {
          "output_type": "display_data",
          "data": {
            "text/html": [
              "<table class=\"dataframe\">\n",
              "<caption>A data.frame: 4 × 8</caption>\n",
              "<thead>\n",
              "\t<tr><th scope=col>Run 1</th><th scope=col>Run 2</th><th scope=col>Run 3</th><th scope=col>Run 4</th><th scope=col>Run 5</th><th scope=col>Run 6</th><th scope=col>Run 7</th><th scope=col>Run 8</th></tr>\n",
              "\t<tr><th scope=col>&lt;int&gt;</th><th scope=col>&lt;int&gt;</th><th scope=col>&lt;int&gt;</th><th scope=col>&lt;int&gt;</th><th scope=col>&lt;int&gt;</th><th scope=col>&lt;int&gt;</th><th scope=col>&lt;int&gt;</th><th scope=col>&lt;int&gt;</th></tr>\n",
              "</thead>\n",
              "<tbody>\n",
              "\t<tr><td>7</td><td> 9</td><td>34</td><td>55</td><td>16</td><td>20</td><td>40</td><td>60</td></tr>\n",
              "\t<tr><td>8</td><td>10</td><td>32</td><td>50</td><td>18</td><td>21</td><td>44</td><td>61</td></tr>\n",
              "\t<tr><td>8</td><td>12</td><td>35</td><td>52</td><td>15</td><td>22</td><td>45</td><td>65</td></tr>\n",
              "\t<tr><td>6</td><td>10</td><td>30</td><td>53</td><td>15</td><td>20</td><td>41</td><td>63</td></tr>\n",
              "</tbody>\n",
              "</table>\n"
            ],
            "text/markdown": "\nA data.frame: 4 × 8\n\n| Run 1 &lt;int&gt; | Run 2 &lt;int&gt; | Run 3 &lt;int&gt; | Run 4 &lt;int&gt; | Run 5 &lt;int&gt; | Run 6 &lt;int&gt; | Run 7 &lt;int&gt; | Run 8 &lt;int&gt; |\n|---|---|---|---|---|---|---|---|\n| 7 |  9 | 34 | 55 | 16 | 20 | 40 | 60 |\n| 8 | 10 | 32 | 50 | 18 | 21 | 44 | 61 |\n| 8 | 12 | 35 | 52 | 15 | 22 | 45 | 65 |\n| 6 | 10 | 30 | 53 | 15 | 20 | 41 | 63 |\n\n",
            "text/latex": "A data.frame: 4 × 8\n\\begin{tabular}{llllllll}\n Run 1 & Run 2 & Run 3 & Run 4 & Run 5 & Run 6 & Run 7 & Run 8\\\\\n <int> & <int> & <int> & <int> & <int> & <int> & <int> & <int>\\\\\n\\hline\n\t 7 &  9 & 34 & 55 & 16 & 20 & 40 & 60\\\\\n\t 8 & 10 & 32 & 50 & 18 & 21 & 44 & 61\\\\\n\t 8 & 12 & 35 & 52 & 15 & 22 & 45 & 65\\\\\n\t 6 & 10 & 30 & 53 & 15 & 20 & 41 & 63\\\\\n\\end{tabular}\n",
            "text/plain": [
              "  Run 1 Run 2 Run 3 Run 4 Run 5 Run 6 Run 7 Run 8\n",
              "1 7      9    34    55    16    20    40    60   \n",
              "2 8     10    32    50    18    21    44    61   \n",
              "3 8     12    35    52    15    22    45    65   \n",
              "4 6     10    30    53    15    20    41    63   "
            ]
          },
          "metadata": {}
        }
      ]
    },
    {
      "cell_type": "code",
      "source": [
        "# Means\n",
        "means = colMeans(frf_3[sapply(frf_3, is.numeric)])\n",
        "\n",
        "# Ranges\n",
        "mins = apply(frf_3, 2, FUN = min)\n",
        "maxs = apply(frf_3, 2, FUN = max)\n",
        "\n",
        "# Dataframe\n",
        "as.data.frame(cbind(mins, means, maxs))"
      ],
      "metadata": {
        "colab": {
          "base_uri": "https://localhost:8080/",
          "height": 349
        },
        "id": "eQ8Tc9PMritP",
        "outputId": "daf51133-c85a-49e8-e9bc-2c5e771200d3"
      },
      "execution_count": 29,
      "outputs": [
        {
          "output_type": "display_data",
          "data": {
            "text/html": [
              "<table class=\"dataframe\">\n",
              "<caption>A data.frame: 8 × 3</caption>\n",
              "<thead>\n",
              "\t<tr><th></th><th scope=col>mins</th><th scope=col>means</th><th scope=col>maxs</th></tr>\n",
              "\t<tr><th></th><th scope=col>&lt;dbl&gt;</th><th scope=col>&lt;dbl&gt;</th><th scope=col>&lt;dbl&gt;</th></tr>\n",
              "</thead>\n",
              "<tbody>\n",
              "\t<tr><th scope=row>Run 1</th><td> 6</td><td> 7.25</td><td> 8</td></tr>\n",
              "\t<tr><th scope=row>Run 2</th><td> 9</td><td>10.25</td><td>12</td></tr>\n",
              "\t<tr><th scope=row>Run 3</th><td>30</td><td>32.75</td><td>35</td></tr>\n",
              "\t<tr><th scope=row>Run 4</th><td>50</td><td>52.50</td><td>55</td></tr>\n",
              "\t<tr><th scope=row>Run 5</th><td>15</td><td>16.00</td><td>18</td></tr>\n",
              "\t<tr><th scope=row>Run 6</th><td>20</td><td>20.75</td><td>22</td></tr>\n",
              "\t<tr><th scope=row>Run 7</th><td>40</td><td>42.50</td><td>45</td></tr>\n",
              "\t<tr><th scope=row>Run 8</th><td>60</td><td>62.25</td><td>65</td></tr>\n",
              "</tbody>\n",
              "</table>\n"
            ],
            "text/markdown": "\nA data.frame: 8 × 3\n\n| <!--/--> | mins &lt;dbl&gt; | means &lt;dbl&gt; | maxs &lt;dbl&gt; |\n|---|---|---|---|\n| Run 1 |  6 |  7.25 |  8 |\n| Run 2 |  9 | 10.25 | 12 |\n| Run 3 | 30 | 32.75 | 35 |\n| Run 4 | 50 | 52.50 | 55 |\n| Run 5 | 15 | 16.00 | 18 |\n| Run 6 | 20 | 20.75 | 22 |\n| Run 7 | 40 | 42.50 | 45 |\n| Run 8 | 60 | 62.25 | 65 |\n\n",
            "text/latex": "A data.frame: 8 × 3\n\\begin{tabular}{r|lll}\n  & mins & means & maxs\\\\\n  & <dbl> & <dbl> & <dbl>\\\\\n\\hline\n\tRun 1 &  6 &  7.25 &  8\\\\\n\tRun 2 &  9 & 10.25 & 12\\\\\n\tRun 3 & 30 & 32.75 & 35\\\\\n\tRun 4 & 50 & 52.50 & 55\\\\\n\tRun 5 & 15 & 16.00 & 18\\\\\n\tRun 6 & 20 & 20.75 & 22\\\\\n\tRun 7 & 40 & 42.50 & 45\\\\\n\tRun 8 & 60 & 62.25 & 65\\\\\n\\end{tabular}\n",
            "text/plain": [
              "      mins means maxs\n",
              "Run 1  6    7.25  8  \n",
              "Run 2  9   10.25 12  \n",
              "Run 3 30   32.75 35  \n",
              "Run 4 50   52.50 55  \n",
              "Run 5 15   16.00 18  \n",
              "Run 6 20   20.75 22  \n",
              "Run 7 40   42.50 45  \n",
              "Run 8 60   62.25 65  "
            ]
          },
          "metadata": {}
        }
      ]
    },
    {
      "cell_type": "code",
      "source": [
        "# Sketch means and ranges\n",
        "ggplot(frf_2, aes(x = Run, y = Yield)) +\n",
        "  geom_boxplot() +\n",
        "  stat_summary(fun.data = \"mean_cl_normal\",\n",
        "              aes(shape = \"mean\"),\n",
        "              colour = \"black\",\n",
        "              geom = \"point\",\n",
        "              size = 4) +\n",
        "      scale_shape_manual(\"\", values=c(\"mean\" = \"x\")) +\n",
        "  theme_classic()"
      ],
      "metadata": {
        "colab": {
          "base_uri": "https://localhost:8080/",
          "height": 437
        },
        "id": "W-IQzKQx7q7B",
        "outputId": "9b7ff5c9-b8cb-4565-a252-424f0e3b63f3"
      },
      "execution_count": 30,
      "outputs": [
        {
          "output_type": "display_data",
          "data": {
            "text/plain": [
              "plot without title"
            ],
            "image/png": "[encoded data removed]"
          },
          "metadata": {
            "image/png": {
              "width": 420,
              "height": 420
            }
          }
        }
      ]
    },
    {
      "cell_type": "markdown",
      "source": [
        "It can be seen from the plot that runs $1, 2, 5$ and $6$ seem to have lower Yield values compared to the rest. What these runs have in common is that their exposure time (variable B) is set to 20 % below nominal (-1 level). We would therefore suspect that this value is going to have a negative effect on yield promotion."
      ],
      "metadata": {
        "id": "DHF_RljPwUEc"
      }
    },
    {
      "cell_type": "markdown",
      "source": [
        "### i) center points"
      ],
      "metadata": {
        "id": "zSRDIsYb4GLz"
      }
    },
    {
      "cell_type": "markdown",
      "source": [
        " Suppose that the experimenter had run four center points in addition to the 32 trials in the original experiment. The yields obtained at the center point runs were 68, 74, 76, and 70. Reanalyze the experiment, including a test for pure quadratic curvature. Discuss what your next step would be.\n",
        "\n",
        "\n",
        "---\n",
        "\n"
      ],
      "metadata": {
        "id": "WohriodP4A_4"
      }
    },
    {
      "cell_type": "code",
      "source": [
        "# Add center points\n",
        "frf_4 = FrF2(2^5, 5, replications = 1, randomize = FALSE, factor.names = c(\"A\", \"B\", \"C\", \"D\", \"E\"))\n",
        "frf_4 = add.center(frf_4, 4)\n",
        "\n",
        "# Add response\n",
        "Yield_2 = c(Yield, 68, 74, 76, 70)\n",
        "frf_2 = add.response(frf_4, Yield_2)\n",
        "\n",
        "# ANOVA using the new design\n",
        "anova(aov(Yield_2 ~ A + B + C + A:B,  data = frf_4))"
      ],
      "metadata": {
        "colab": {
          "base_uri": "https://localhost:8080/",
          "height": 307
        },
        "id": "kNEnWt602_5C",
        "outputId": "78a17e2a-d5e0-42dd-b7d8-c45aa36ab7be"
      },
      "execution_count": 31,
      "outputs": [
        {
          "output_type": "stream",
          "name": "stderr",
          "text": [
            "creating full factorial with 32 runs ...\n",
            "\n",
            "\n"
          ]
        },
        {
          "output_type": "display_data",
          "data": {
            "text/html": [
              "<table class=\"dataframe\">\n",
              "<caption>A anova: 5 × 5</caption>\n",
              "<thead>\n",
              "\t<tr><th></th><th scope=col>Df</th><th scope=col>Sum Sq</th><th scope=col>Mean Sq</th><th scope=col>F value</th><th scope=col>Pr(&gt;F)</th></tr>\n",
              "\t<tr><th></th><th scope=col>&lt;int&gt;</th><th scope=col>&lt;dbl&gt;</th><th scope=col>&lt;dbl&gt;</th><th scope=col>&lt;dbl&gt;</th><th scope=col>&lt;dbl&gt;</th></tr>\n",
              "</thead>\n",
              "<tbody>\n",
              "\t<tr><th scope=row>A</th><td> 1</td><td>1116.2813</td><td>1116.2813</td><td> 5.551695</td><td>2.496395e-02</td></tr>\n",
              "\t<tr><th scope=row>B</th><td> 1</td><td>9214.0313</td><td>9214.0313</td><td>45.824915</td><td>1.403686e-07</td></tr>\n",
              "\t<tr><th scope=row>C</th><td> 1</td><td> 750.7813</td><td> 750.7813</td><td> 3.733923</td><td>6.250046e-02</td></tr>\n",
              "\t<tr><th scope=row>A:B</th><td> 1</td><td> 504.0312</td><td> 504.0312</td><td> 2.506741</td><td>1.235103e-01</td></tr>\n",
              "\t<tr><th scope=row>Residuals</th><td>31</td><td>6233.1806</td><td> 201.0703</td><td>       NA</td><td>          NA</td></tr>\n",
              "</tbody>\n",
              "</table>\n"
            ],
            "text/markdown": "\nA anova: 5 × 5\n\n| <!--/--> | Df &lt;int&gt; | Sum Sq &lt;dbl&gt; | Mean Sq &lt;dbl&gt; | F value &lt;dbl&gt; | Pr(&gt;F) &lt;dbl&gt; |\n|---|---|---|---|---|---|\n| A |  1 | 1116.2813 | 1116.2813 |  5.551695 | 2.496395e-02 |\n| B |  1 | 9214.0313 | 9214.0313 | 45.824915 | 1.403686e-07 |\n| C |  1 |  750.7813 |  750.7813 |  3.733923 | 6.250046e-02 |\n| A:B |  1 |  504.0312 |  504.0312 |  2.506741 | 1.235103e-01 |\n| Residuals | 31 | 6233.1806 |  201.0703 |        NA |           NA |\n\n",
            "text/latex": "A anova: 5 × 5\n\\begin{tabular}{r|lllll}\n  & Df & Sum Sq & Mean Sq & F value & Pr(>F)\\\\\n  & <int> & <dbl> & <dbl> & <dbl> & <dbl>\\\\\n\\hline\n\tA &  1 & 1116.2813 & 1116.2813 &  5.551695 & 2.496395e-02\\\\\n\tB &  1 & 9214.0313 & 9214.0313 & 45.824915 & 1.403686e-07\\\\\n\tC &  1 &  750.7813 &  750.7813 &  3.733923 & 6.250046e-02\\\\\n\tA:B &  1 &  504.0312 &  504.0312 &  2.506741 & 1.235103e-01\\\\\n\tResiduals & 31 & 6233.1806 &  201.0703 &        NA &           NA\\\\\n\\end{tabular}\n",
            "text/plain": [
              "          Df Sum Sq    Mean Sq   F value   Pr(>F)      \n",
              "A          1 1116.2813 1116.2813  5.551695 2.496395e-02\n",
              "B          1 9214.0313 9214.0313 45.824915 1.403686e-07\n",
              "C          1  750.7813  750.7813  3.733923 6.250046e-02\n",
              "A:B        1  504.0312  504.0312  2.506741 1.235103e-01\n",
              "Residuals 31 6233.1806  201.0703        NA           NA"
            ]
          },
          "metadata": {}
        }
      ]
    },
    {
      "cell_type": "code",
      "source": [
        "summary(lm(Yield_2 ~ ., data = frf_4))"
      ],
      "metadata": {
        "colab": {
          "base_uri": "https://localhost:8080/",
          "height": 399
        },
        "id": "IXx1l6WzKnBG",
        "outputId": "8cdb4253-906d-4e26-f020-a512077a35e9"
      },
      "execution_count": 32,
      "outputs": [
        {
          "output_type": "display_data",
          "data": {
            "text/plain": [
              "\n",
              "Call:\n",
              "lm.default(formula = Yield_2 ~ ., data = frf_4)\n",
              "\n",
              "Residuals:\n",
              "    Min      1Q  Median      3Q     Max \n",
              "-11.233  -8.045  -2.639   0.095  40.861 \n",
              "\n",
              "Coefficients:\n",
              "            Estimate Std. Error t value Pr(>|t|)    \n",
              "(Intercept)  35.1389     2.4964  14.076 9.38e-15 ***\n",
              "A             5.9063     2.6478   2.231   0.0333 *  \n",
              "B            16.9688     2.6478   6.409 4.48e-07 ***\n",
              "C             4.8438     2.6478   1.829   0.0773 .  \n",
              "D            -0.4062     2.6478  -0.153   0.8791    \n",
              "E             0.2188     2.6478   0.083   0.9347    \n",
              "---\n",
              "Signif. codes:  0 ‘***’ 0.001 ‘**’ 0.01 ‘*’ 0.05 ‘.’ 0.1 ‘ ’ 1\n",
              "\n",
              "Residual standard error: 14.98 on 30 degrees of freedom\n",
              "Multiple R-squared:  0.6223,\tAdjusted R-squared:  0.5593 \n",
              "F-statistic: 9.885 on 5 and 30 DF,  p-value: 1.163e-05\n"
            ]
          },
          "metadata": {}
        }
      ]
    },
    {
      "cell_type": "code",
      "source": [
        "# ANOVA using the former design\n",
        "anova(aov(Yield ~ A + B + C + A:B,  data = frf_1))"
      ],
      "metadata": {
        "colab": {
          "base_uri": "https://localhost:8080/",
          "height": 255
        },
        "id": "PPBLAc3bm2Us",
        "outputId": "74f73d79-357d-4930-8f3c-e77dc44f1a69"
      },
      "execution_count": 33,
      "outputs": [
        {
          "output_type": "display_data",
          "data": {
            "text/html": [
              "<table class=\"dataframe\">\n",
              "<caption>A anova: 5 × 5</caption>\n",
              "<thead>\n",
              "\t<tr><th></th><th scope=col>Df</th><th scope=col>Sum Sq</th><th scope=col>Mean Sq</th><th scope=col>F value</th><th scope=col>Pr(&gt;F)</th></tr>\n",
              "\t<tr><th></th><th scope=col>&lt;int&gt;</th><th scope=col>&lt;dbl&gt;</th><th scope=col>&lt;dbl&gt;</th><th scope=col>&lt;dbl&gt;</th><th scope=col>&lt;dbl&gt;</th></tr>\n",
              "</thead>\n",
              "<tbody>\n",
              "\t<tr><th scope=row>A</th><td> 1</td><td>1116.28125</td><td>1116.281250</td><td> 382.2699</td><td>1.808356e-17</td></tr>\n",
              "\t<tr><th scope=row>B</th><td> 1</td><td>9214.03125</td><td>9214.031250</td><td>3155.3401</td><td>1.660703e-29</td></tr>\n",
              "\t<tr><th scope=row>C</th><td> 1</td><td> 750.78125</td><td> 750.781250</td><td> 257.1046</td><td>2.534053e-15</td></tr>\n",
              "\t<tr><th scope=row>A:B</th><td> 1</td><td> 504.03125</td><td> 504.031250</td><td> 172.6052</td><td>3.037894e-13</td></tr>\n",
              "\t<tr><th scope=row>Residuals</th><td>27</td><td>  78.84375</td><td>   2.920139</td><td>       NA</td><td>          NA</td></tr>\n",
              "</tbody>\n",
              "</table>\n"
            ],
            "text/markdown": "\nA anova: 5 × 5\n\n| <!--/--> | Df &lt;int&gt; | Sum Sq &lt;dbl&gt; | Mean Sq &lt;dbl&gt; | F value &lt;dbl&gt; | Pr(&gt;F) &lt;dbl&gt; |\n|---|---|---|---|---|---|\n| A |  1 | 1116.28125 | 1116.281250 |  382.2699 | 1.808356e-17 |\n| B |  1 | 9214.03125 | 9214.031250 | 3155.3401 | 1.660703e-29 |\n| C |  1 |  750.78125 |  750.781250 |  257.1046 | 2.534053e-15 |\n| A:B |  1 |  504.03125 |  504.031250 |  172.6052 | 3.037894e-13 |\n| Residuals | 27 |   78.84375 |    2.920139 |        NA |           NA |\n\n",
            "text/latex": "A anova: 5 × 5\n\\begin{tabular}{r|lllll}\n  & Df & Sum Sq & Mean Sq & F value & Pr(>F)\\\\\n  & <int> & <dbl> & <dbl> & <dbl> & <dbl>\\\\\n\\hline\n\tA &  1 & 1116.28125 & 1116.281250 &  382.2699 & 1.808356e-17\\\\\n\tB &  1 & 9214.03125 & 9214.031250 & 3155.3401 & 1.660703e-29\\\\\n\tC &  1 &  750.78125 &  750.781250 &  257.1046 & 2.534053e-15\\\\\n\tA:B &  1 &  504.03125 &  504.031250 &  172.6052 & 3.037894e-13\\\\\n\tResiduals & 27 &   78.84375 &    2.920139 &        NA &           NA\\\\\n\\end{tabular}\n",
            "text/plain": [
              "          Df Sum Sq     Mean Sq     F value   Pr(>F)      \n",
              "A          1 1116.28125 1116.281250  382.2699 1.808356e-17\n",
              "B          1 9214.03125 9214.031250 3155.3401 1.660703e-29\n",
              "C          1  750.78125  750.781250  257.1046 2.534053e-15\n",
              "A:B        1  504.03125  504.031250  172.6052 3.037894e-13\n",
              "Residuals 27   78.84375    2.920139        NA           NA"
            ]
          },
          "metadata": {}
        }
      ]
    },
    {
      "cell_type": "code",
      "source": [
        "# Test pure quadratic curvature\n",
        "summary(lm(Yield_2 ~ A + B + C + A:B + iscube(frf_4), frf_4))"
      ],
      "metadata": {
        "colab": {
          "base_uri": "https://localhost:8080/",
          "height": 416
        },
        "id": "S65ev8aUm9zC",
        "outputId": "d385fa1f-3381-41f6-a358-6a23cad52b8f"
      },
      "execution_count": 34,
      "outputs": [
        {
          "output_type": "display_data",
          "data": {
            "text/plain": [
              "\n",
              "Call:\n",
              "lm.default(formula = Yield_2 ~ A + B + C + A:B + iscube(frf_4), \n",
              "    data = frf_4)\n",
              "\n",
              "Residuals:\n",
              "    Min      1Q  Median      3Q     Max \n",
              "-4.0000 -1.4687 -0.3437  1.3906  4.0000 \n",
              "\n",
              "Coefficients:\n",
              "                  Estimate Std. Error t value Pr(>|t|)    \n",
              "(Intercept)        72.0000     0.9952   72.35  < 2e-16 ***\n",
              "A                   5.9063     0.3518   16.79  < 2e-16 ***\n",
              "B                  16.9688     0.3518   48.23  < 2e-16 ***\n",
              "C                   4.8438     0.3518   13.77 1.68e-14 ***\n",
              "iscube(frf_4)TRUE -41.4687     1.0555  -39.29  < 2e-16 ***\n",
              "A:B                 3.9687     0.3518   11.28 2.58e-12 ***\n",
              "---\n",
              "Signif. codes:  0 ‘***’ 0.001 ‘**’ 0.01 ‘*’ 0.05 ‘.’ 0.1 ‘ ’ 1\n",
              "\n",
              "Residual standard error: 1.99 on 30 degrees of freedom\n",
              "Multiple R-squared:  0.9933,\tAdjusted R-squared:  0.9922 \n",
              "F-statistic: 893.6 on 5 and 30 DF,  p-value: < 2.2e-16\n"
            ]
          },
          "metadata": {}
        }
      ]
    },
    {
      "cell_type": "markdown",
      "source": [
        "Significant iscube coefficient implies an existence of pure quadratic curvature. The next step would therefore be to construct a second-order model."
      ],
      "metadata": {
        "id": "i7j738rYorpH"
      }
    },
    {
      "cell_type": "markdown",
      "source": [
        "### j) two blocks\n",
        "\n",
        "Construct and analyze a design in two blocks with ABCDE confounded with blocks.\n",
        "\n",
        "\n",
        "---\n",
        "\n"
      ],
      "metadata": {
        "id": "ONpYTS5cTpIl"
      }
    },
    {
      "cell_type": "code",
      "source": [
        "frf_5 = FrF2(2^5, 5, replications = 1, randomize = F, factor.names = c(\"A\", \"B\", \"C\", \"D\", \"E\"), blocks = \"ABCDE\")\n",
        "frf_5 = add.response(frf_5, Yield)\n",
        "head(frf_5)"
      ],
      "metadata": {
        "colab": {
          "base_uri": "https://localhost:8080/",
          "height": 286
        },
        "id": "9YNhxw0ob8kN",
        "outputId": "db364e9f-e032-419f-fb24-88f20f3dc653"
      },
      "execution_count": 35,
      "outputs": [
        {
          "output_type": "display_data",
          "data": {
            "text/html": [
              "<table class=\"dataframe\">\n",
              "<caption>A data.frame: 6 × 7</caption>\n",
              "<thead>\n",
              "\t<tr><th></th><th scope=col>Blocks</th><th scope=col>A</th><th scope=col>B</th><th scope=col>C</th><th scope=col>D</th><th scope=col>E</th><th scope=col>Yield</th></tr>\n",
              "\t<tr><th></th><th scope=col>&lt;fct&gt;</th><th scope=col>&lt;fct&gt;</th><th scope=col>&lt;fct&gt;</th><th scope=col>&lt;fct&gt;</th><th scope=col>&lt;fct&gt;</th><th scope=col>&lt;fct&gt;</th><th scope=col>&lt;int&gt;</th></tr>\n",
              "</thead>\n",
              "<tbody>\n",
              "\t<tr><th scope=row>1</th><td>1</td><td>-1</td><td>-1</td><td>-1</td><td>-1</td><td>-1</td><td> 7</td></tr>\n",
              "\t<tr><th scope=row>2</th><td>1</td><td>-1</td><td>-1</td><td>-1</td><td>1 </td><td>1 </td><td> 9</td></tr>\n",
              "\t<tr><th scope=row>3</th><td>1</td><td>-1</td><td>-1</td><td>1 </td><td>-1</td><td>1 </td><td>34</td></tr>\n",
              "\t<tr><th scope=row>4</th><td>1</td><td>-1</td><td>-1</td><td>1 </td><td>1 </td><td>-1</td><td>55</td></tr>\n",
              "\t<tr><th scope=row>5</th><td>1</td><td>-1</td><td>1 </td><td>-1</td><td>-1</td><td>1 </td><td>16</td></tr>\n",
              "\t<tr><th scope=row>6</th><td>1</td><td>-1</td><td>1 </td><td>-1</td><td>1 </td><td>-1</td><td>20</td></tr>\n",
              "</tbody>\n",
              "</table>\n"
            ],
            "text/markdown": "\nA data.frame: 6 × 7\n\n| <!--/--> | Blocks &lt;fct&gt; | A &lt;fct&gt; | B &lt;fct&gt; | C &lt;fct&gt; | D &lt;fct&gt; | E &lt;fct&gt; | Yield &lt;int&gt; |\n|---|---|---|---|---|---|---|---|\n| 1 | 1 | -1 | -1 | -1 | -1 | -1 |  7 |\n| 2 | 1 | -1 | -1 | -1 | 1  | 1  |  9 |\n| 3 | 1 | -1 | -1 | 1  | -1 | 1  | 34 |\n| 4 | 1 | -1 | -1 | 1  | 1  | -1 | 55 |\n| 5 | 1 | -1 | 1  | -1 | -1 | 1  | 16 |\n| 6 | 1 | -1 | 1  | -1 | 1  | -1 | 20 |\n\n",
            "text/latex": "A data.frame: 6 × 7\n\\begin{tabular}{r|lllllll}\n  & Blocks & A & B & C & D & E & Yield\\\\\n  & <fct> & <fct> & <fct> & <fct> & <fct> & <fct> & <int>\\\\\n\\hline\n\t1 & 1 & -1 & -1 & -1 & -1 & -1 &  7\\\\\n\t2 & 1 & -1 & -1 & -1 & 1  & 1  &  9\\\\\n\t3 & 1 & -1 & -1 & 1  & -1 & 1  & 34\\\\\n\t4 & 1 & -1 & -1 & 1  & 1  & -1 & 55\\\\\n\t5 & 1 & -1 & 1  & -1 & -1 & 1  & 16\\\\\n\t6 & 1 & -1 & 1  & -1 & 1  & -1 & 20\\\\\n\\end{tabular}\n",
            "text/plain": [
              "  Blocks A  B  C  D  E  Yield\n",
              "1 1      -1 -1 -1 -1 -1  7   \n",
              "2 1      -1 -1 -1 1  1   9   \n",
              "3 1      -1 -1 1  -1 1  34   \n",
              "4 1      -1 -1 1  1  -1 55   \n",
              "5 1      -1 1  -1 -1 1  16   \n",
              "6 1      -1 1  -1 1  -1 20   "
            ]
          },
          "metadata": {}
        }
      ]
    },
    {
      "cell_type": "code",
      "source": [
        "mod_4 = lm(Yield ~ .^2, frf_5)\n",
        "summary(mod_4)"
      ],
      "metadata": {
        "colab": {
          "base_uri": "https://localhost:8080/",
          "height": 676
        },
        "id": "24hwD8YIgCU0",
        "outputId": "bf5a2e36-bae4-4d2e-e7bc-90f581a96fdf"
      },
      "execution_count": 36,
      "outputs": [
        {
          "output_type": "display_data",
          "data": {
            "text/plain": [
              "\n",
              "Call:\n",
              "lm.default(formula = Yield ~ .^2, data = frf_5)\n",
              "\n",
              "Residuals:\n",
              "    Min      1Q  Median      3Q     Max \n",
              "-1.6875 -0.6875  0.0000  0.6875  1.6875 \n",
              "\n",
              "Coefficients:\n",
              "            Estimate Std. Error t value Pr(>|t|)    \n",
              "(Intercept) 30.53125    0.27564 110.766  < 2e-16 ***\n",
              "Blocks1      0.21875    0.27564   0.794   0.4458    \n",
              "A1          -0.40625    0.27564  -1.474   0.1713    \n",
              "B1           4.84375    0.27564  17.573 7.57e-09 ***\n",
              "C1          16.96875    0.27564  61.562 3.11e-14 ***\n",
              "D1           5.90625    0.27564  21.428 1.09e-09 ***\n",
              "E1          -0.09375    0.27564  -0.340   0.7408    \n",
              "Blocks1:A1  -0.59375    0.27564  -2.154   0.0567 .  \n",
              "Blocks1:B1   0.15625    0.27564   0.567   0.5833    \n",
              "Blocks1:C1   0.28125    0.27564   1.020   0.3316    \n",
              "Blocks1:D1   0.46875    0.27564   1.701   0.1199    \n",
              "Blocks1:E1  -0.03125    0.27564  -0.113   0.9120    \n",
              "A1:B1        0.40625    0.27564   1.474   0.1713    \n",
              "A1:C1       -0.34375    0.27564  -1.247   0.2408    \n",
              "A1:D1       -0.03125    0.27564  -0.113   0.9120    \n",
              "A1:E1        0.09375    0.27564   0.340   0.7408    \n",
              "B1:C1        0.03125    0.27564   0.113   0.9120    \n",
              "B1:D1        0.21875    0.27564   0.794   0.4458    \n",
              "B1:E1        0.46875    0.27564   1.701   0.1199    \n",
              "C1:D1        3.96875    0.27564  14.398 5.18e-08 ***\n",
              "C1:E1       -0.15625    0.27564  -0.567   0.5833    \n",
              "D1:E1       -0.46875    0.27564  -1.701   0.1199    \n",
              "---\n",
              "Signif. codes:  0 ‘***’ 0.001 ‘**’ 0.01 ‘*’ 0.05 ‘.’ 0.1 ‘ ’ 1\n",
              "\n",
              "Residual standard error: 1.559 on 10 degrees of freedom\n",
              "Multiple R-squared:  0.9979,\tAdjusted R-squared:  0.9935 \n",
              "F-statistic:   228 on 21 and 10 DF,  p-value: 9.529e-11\n"
            ]
          },
          "metadata": {}
        }
      ]
    },
    {
      "cell_type": "code",
      "source": [
        "# Daniel plot\n",
        "qqline(DanielPlot(mod_4, alpha = 0.1)$y)"
      ],
      "metadata": {
        "colab": {
          "base_uri": "https://localhost:8080/",
          "height": 437
        },
        "id": "4dRrY_RaMbNm",
        "outputId": "c9061eff-11d0-4de0-c11d-cbef4599bec7"
      },
      "execution_count": 37,
      "outputs": [
        {
          "output_type": "display_data",
          "data": {
            "text/plain": [
              "Plot with title “Normal Plot for Yield, alpha=0.1”"
            ],
            "image/png": "[encoded data removed]"
          },
          "metadata": {
            "image/png": {
              "width": 420,
              "height": 420
            }
          }
        }
      ]
    },
    {
      "cell_type": "code",
      "source": [
        "# Model with only the significant terms\n",
        "summary(lm(Yield ~ B + C + D + C:D, frf_5))"
      ],
      "metadata": {
        "colab": {
          "base_uri": "https://localhost:8080/",
          "height": 381
        },
        "id": "vi7fWEPqnVk7",
        "outputId": "3e3386e6-d76f-425d-bce0-0b7714244748"
      },
      "execution_count": 38,
      "outputs": [
        {
          "output_type": "display_data",
          "data": {
            "text/plain": [
              "\n",
              "Call:\n",
              "lm.default(formula = Yield ~ B + C + D + C:D, data = frf_5)\n",
              "\n",
              "Residuals:\n",
              "    Min      1Q  Median      3Q     Max \n",
              "-2.7812 -1.2812 -0.3438  1.2500  2.7812 \n",
              "\n",
              "Coefficients:\n",
              "            Estimate Std. Error t value Pr(>|t|)    \n",
              "(Intercept)  30.5312     0.3021  101.07  < 2e-16 ***\n",
              "B1            4.8438     0.3021   16.03 2.53e-15 ***\n",
              "C1           16.9688     0.3021   56.17  < 2e-16 ***\n",
              "D1            5.9063     0.3021   19.55  < 2e-16 ***\n",
              "C1:D1         3.9687     0.3021   13.14 3.04e-13 ***\n",
              "---\n",
              "Signif. codes:  0 ‘***’ 0.001 ‘**’ 0.01 ‘*’ 0.05 ‘.’ 0.1 ‘ ’ 1\n",
              "\n",
              "Residual standard error: 1.709 on 27 degrees of freedom\n",
              "Multiple R-squared:  0.9932,\tAdjusted R-squared:  0.9922 \n",
              "F-statistic: 991.8 on 4 and 27 DF,  p-value: < 2.2e-16\n"
            ]
          },
          "metadata": {}
        }
      ]
    },
    {
      "cell_type": "markdown",
      "source": [
        "Aperture (A) variable lost its significance in block design whereas Masked dimension (D) together with its interaction with Development time (C) now show p-values greatly below the significance level."
      ],
      "metadata": {
        "id": "rhQwKuuHoczd"
      }
    },
    {
      "cell_type": "code",
      "source": [
        "# Block effect\n",
        "b1_yield = mean(frf_5[frf_5$Blocks == 1, ]$Yield)\n",
        "b2_yield = mean(frf_5[frf_5$Blocks == 2, ]$Yield)\n",
        "\n",
        "b2_yield - b1_yield"
      ],
      "metadata": {
        "colab": {
          "base_uri": "https://localhost:8080/",
          "height": 34
        },
        "id": "HJ76t2irqxI4",
        "outputId": "3cbd4f70-6514-478d-fa40-704b6aa6a276"
      },
      "execution_count": 39,
      "outputs": [
        {
          "output_type": "display_data",
          "data": {
            "text/html": [
              "0.4375"
            ],
            "text/markdown": "0.4375",
            "text/latex": "0.4375",
            "text/plain": [
              "[1] 0.4375"
            ]
          },
          "metadata": {}
        }
      ]
    },
    {
      "cell_type": "markdown",
      "source": [
        "The found block effect appears to be rather small. This is in accordance with high p-value of the Block variable displayed by ANOVA."
      ],
      "metadata": {
        "id": "wtMIV6zcrZ-O"
      }
    },
    {
      "cell_type": "markdown",
      "source": [
        "### k) four blocks\n",
        "\n",
        "Assuming now that four blocks are necessary. Suggest a reasonable confounding scheme.\n",
        "\n",
        "***\n",
        "$2^k$ design with $2^p$ blocks where $p\\ll k$.\n",
        "\n",
        "We have found the main effects to be B, C and D together with the C:D interaction. These terms therefore carry the most information and should not be confounded.\n",
        "\n",
        "At the same time it would be useful to confound interactions of higher order as these are typically not as significant. We can confound ACDE and BCD. Blocking\n",
        "\n",
        "$ACDE * BCD = ABC^2D^2E = ABE$\n",
        "\n",
        "confounds one four-way interaction and two three-way interactions which do not tend to be significant. We can hence leave all main effects as well as all their simple interactions intact minimizing the risk of losing important information."
      ],
      "metadata": {
        "id": "gbaUFEaaTxc1"
      }
    },
    {
      "cell_type": "markdown",
      "source": [
        "### l) final design\n",
        "\n",
        "Suppose that it was necessary to run this design in four blocks with ACDE and BCD (and consequently ABE) confounded. Analyze the data from this design.\n",
        "\n",
        "---\n",
        "\n",
        "\n"
      ],
      "metadata": {
        "id": "7l_tYhueT3WY"
      }
    },
    {
      "cell_type": "code",
      "source": [
        "frf_6 = FrF2(2^5, 5, replications = 1, randomize = F, factor.names = c(\"A\", \"B\", \"C\", \"D\", \"E\"), blocks = c(\"ACDE\", \"BCD\"))\n",
        "frf_6 = add.response(frf_6, Yield)\n",
        "head(frf_6)"
      ],
      "metadata": {
        "colab": {
          "base_uri": "https://localhost:8080/",
          "height": 286
        },
        "id": "QliPXI58_Xfr",
        "outputId": "115b9dd6-9e7a-4dda-d5c0-ba27c6cd6401"
      },
      "execution_count": 40,
      "outputs": [
        {
          "output_type": "display_data",
          "data": {
            "text/html": [
              "<table class=\"dataframe\">\n",
              "<caption>A data.frame: 6 × 7</caption>\n",
              "<thead>\n",
              "\t<tr><th></th><th scope=col>Blocks</th><th scope=col>A</th><th scope=col>B</th><th scope=col>C</th><th scope=col>D</th><th scope=col>E</th><th scope=col>Yield</th></tr>\n",
              "\t<tr><th></th><th scope=col>&lt;fct&gt;</th><th scope=col>&lt;fct&gt;</th><th scope=col>&lt;fct&gt;</th><th scope=col>&lt;fct&gt;</th><th scope=col>&lt;fct&gt;</th><th scope=col>&lt;fct&gt;</th><th scope=col>&lt;int&gt;</th></tr>\n",
              "</thead>\n",
              "<tbody>\n",
              "\t<tr><th scope=row>1</th><td>1</td><td>-1</td><td>-1</td><td>-1</td><td>-1</td><td>1 </td><td> 7</td></tr>\n",
              "\t<tr><th scope=row>2</th><td>1</td><td>-1</td><td>-1</td><td>1 </td><td>1 </td><td>1 </td><td> 9</td></tr>\n",
              "\t<tr><th scope=row>3</th><td>1</td><td>-1</td><td>1 </td><td>-1</td><td>1 </td><td>-1</td><td>34</td></tr>\n",
              "\t<tr><th scope=row>4</th><td>1</td><td>-1</td><td>1 </td><td>1 </td><td>-1</td><td>-1</td><td>55</td></tr>\n",
              "\t<tr><th scope=row>5</th><td>1</td><td>1 </td><td>-1</td><td>-1</td><td>-1</td><td>-1</td><td>16</td></tr>\n",
              "\t<tr><th scope=row>6</th><td>1</td><td>1 </td><td>-1</td><td>1 </td><td>1 </td><td>-1</td><td>20</td></tr>\n",
              "</tbody>\n",
              "</table>\n"
            ],
            "text/markdown": "\nA data.frame: 6 × 7\n\n| <!--/--> | Blocks &lt;fct&gt; | A &lt;fct&gt; | B &lt;fct&gt; | C &lt;fct&gt; | D &lt;fct&gt; | E &lt;fct&gt; | Yield &lt;int&gt; |\n|---|---|---|---|---|---|---|---|\n| 1 | 1 | -1 | -1 | -1 | -1 | 1  |  7 |\n| 2 | 1 | -1 | -1 | 1  | 1  | 1  |  9 |\n| 3 | 1 | -1 | 1  | -1 | 1  | -1 | 34 |\n| 4 | 1 | -1 | 1  | 1  | -1 | -1 | 55 |\n| 5 | 1 | 1  | -1 | -1 | -1 | -1 | 16 |\n| 6 | 1 | 1  | -1 | 1  | 1  | -1 | 20 |\n\n",
            "text/latex": "A data.frame: 6 × 7\n\\begin{tabular}{r|lllllll}\n  & Blocks & A & B & C & D & E & Yield\\\\\n  & <fct> & <fct> & <fct> & <fct> & <fct> & <fct> & <int>\\\\\n\\hline\n\t1 & 1 & -1 & -1 & -1 & -1 & 1  &  7\\\\\n\t2 & 1 & -1 & -1 & 1  & 1  & 1  &  9\\\\\n\t3 & 1 & -1 & 1  & -1 & 1  & -1 & 34\\\\\n\t4 & 1 & -1 & 1  & 1  & -1 & -1 & 55\\\\\n\t5 & 1 & 1  & -1 & -1 & -1 & -1 & 16\\\\\n\t6 & 1 & 1  & -1 & 1  & 1  & -1 & 20\\\\\n\\end{tabular}\n",
            "text/plain": [
              "  Blocks A  B  C  D  E  Yield\n",
              "1 1      -1 -1 -1 -1 1   7   \n",
              "2 1      -1 -1 1  1  1   9   \n",
              "3 1      -1 1  -1 1  -1 34   \n",
              "4 1      -1 1  1  -1 -1 55   \n",
              "5 1      1  -1 -1 -1 -1 16   \n",
              "6 1      1  -1 1  1  -1 20   "
            ]
          },
          "metadata": {}
        }
      ]
    },
    {
      "cell_type": "markdown",
      "source": [
        "$1$ ... $BCD = -1$\n",
        "\n",
        "$2$ ... $ACDE = -1$\n",
        "\n",
        "$3$ ... $ACDE = 1$\n",
        "\n",
        "$4$ ... $BCD = 1$"
      ],
      "metadata": {
        "id": "Pjb4OlQtEtN8"
      }
    },
    {
      "cell_type": "markdown",
      "source": [
        "Full model with first order interactions does not have enough degrees of freedom to estimate all the regression coefficients. That is why interactions are omitted in order to discover the main effects first."
      ],
      "metadata": {
        "id": "ywaJPfavGOlD"
      }
    },
    {
      "cell_type": "code",
      "source": [
        "summary(lm(Yield ~ ., frf_6))"
      ],
      "metadata": {
        "colab": {
          "base_uri": "https://localhost:8080/",
          "height": 451
        },
        "id": "g8Y415GoBr04",
        "outputId": "e724b8b8-133f-4003-dfba-3d2273251aa5"
      },
      "execution_count": 41,
      "outputs": [
        {
          "output_type": "display_data",
          "data": {
            "text/plain": [
              "\n",
              "Call:\n",
              "lm.default(formula = Yield ~ ., data = frf_6)\n",
              "\n",
              "Residuals:\n",
              "    Min      1Q  Median      3Q     Max \n",
              "-6.2812 -3.8906 -0.4375  3.8125  6.5313 \n",
              "\n",
              "Coefficients:\n",
              "            Estimate Std. Error t value Pr(>|t|)    \n",
              "(Intercept)  30.5312     0.8699  35.097  < 2e-16 ***\n",
              "Blocks1      -0.4062     0.8699  -0.467    0.645    \n",
              "Blocks2       0.2188     0.8699   0.251    0.804    \n",
              "Blocks3      -0.5938     0.8699  -0.683    0.502    \n",
              "A1            4.8438     0.8699   5.568 1.15e-05 ***\n",
              "B1           16.9688     0.8699  19.506 8.33e-16 ***\n",
              "C1            5.9063     0.8699   6.789 6.34e-07 ***\n",
              "D1            0.1563     0.8699   0.180    0.859    \n",
              "E1           -0.4688     0.8699  -0.539    0.595    \n",
              "---\n",
              "Signif. codes:  0 ‘***’ 0.001 ‘**’ 0.01 ‘*’ 0.05 ‘.’ 0.1 ‘ ’ 1\n",
              "\n",
              "Residual standard error: 4.921 on 23 degrees of freedom\n",
              "Multiple R-squared:  0.9522,\tAdjusted R-squared:  0.9356 \n",
              "F-statistic: 57.33 on 8 and 23 DF,  p-value: 2.292e-13\n"
            ]
          },
          "metadata": {}
        }
      ]
    },
    {
      "cell_type": "code",
      "source": [
        "# Block effects\n",
        "b1_yield = mean(frf_6[frf_6$Blocks == 1, ]$Yield)\n",
        "b2_yield = mean(frf_6[frf_6$Blocks == 2, ]$Yield)\n",
        "b3_yield = mean(frf_6[frf_6$Blocks == 3, ]$Yield)\n",
        "b4_yield = mean(frf_6[frf_6$Blocks == 4, ]$Yield)\n",
        "\n",
        "c(b1_yield, b2_yield, b3_yield, b4_yield)"
      ],
      "metadata": {
        "colab": {
          "base_uri": "https://localhost:8080/",
          "height": 34
        },
        "id": "A0_v1hNMQ_OY",
        "outputId": "32ab8268-e372-44e9-eff6-f8aa0bbe9ac8"
      },
      "execution_count": 42,
      "outputs": [
        {
          "output_type": "display_data",
          "data": {
            "text/html": [
              "<style>\n",
              ".list-inline {list-style: none; margin:0; padding: 0}\n",
              ".list-inline>li {display: inline-block}\n",
              ".list-inline>li:not(:last-child)::after {content: \"\\00b7\"; padding: 0 .5ex}\n",
              "</style>\n",
              "<ol class=list-inline><li>30.125</li><li>30.5</li><li>31.75</li><li>29.75</li></ol>\n"
            ],
            "text/markdown": "1. 30.125\n2. 30.5\n3. 31.75\n4. 29.75\n\n\n",
            "text/latex": "\\begin{enumerate*}\n\\item 30.125\n\\item 30.5\n\\item 31.75\n\\item 29.75\n\\end{enumerate*}\n",
            "text/plain": [
              "[1] 30.125 30.500 31.750 29.750"
            ]
          },
          "metadata": {}
        }
      ]
    },
    {
      "cell_type": "markdown",
      "source": [
        "All four block effects are similar in values. This was expected as their coefficients\n",
        "\n",
        "Now we can see if there are any significant higher order interactions among the main effects."
      ],
      "metadata": {
        "id": "x-Ehx8jhGvGL"
      }
    },
    {
      "cell_type": "code",
      "source": [
        "mod_5 = lm(Yield ~ (A + B + C)^3, frf_6)\n",
        "summary(mod_5)"
      ],
      "metadata": {
        "colab": {
          "base_uri": "https://localhost:8080/",
          "height": 434
        },
        "id": "rUKVAbrFB8ZR",
        "outputId": "23377e4b-b271-4bef-e509-7df048b963af"
      },
      "execution_count": 43,
      "outputs": [
        {
          "output_type": "display_data",
          "data": {
            "text/plain": [
              "\n",
              "Call:\n",
              "lm.default(formula = Yield ~ (A + B + C)^3, data = frf_6)\n",
              "\n",
              "Residuals:\n",
              "   Min     1Q Median     3Q    Max \n",
              "-2.750 -1.062 -0.250  1.250  2.750 \n",
              "\n",
              "Coefficients:\n",
              "            Estimate Std. Error t value Pr(>|t|)    \n",
              "(Intercept) 30.53125    0.31406  97.215  < 2e-16 ***\n",
              "A1           4.84375    0.31406  15.423 5.92e-14 ***\n",
              "B1          16.96875    0.31406  54.031  < 2e-16 ***\n",
              "C1           5.90625    0.31406  18.806 7.20e-16 ***\n",
              "A1:B1        0.03125    0.31406   0.100    0.922    \n",
              "A1:C1        0.21875    0.31406   0.697    0.493    \n",
              "B1:C1        3.96875    0.31406  12.637 4.25e-12 ***\n",
              "A1:B1:C1    -0.21875    0.31406  -0.697    0.493    \n",
              "---\n",
              "Signif. codes:  0 ‘***’ 0.001 ‘**’ 0.01 ‘*’ 0.05 ‘.’ 0.1 ‘ ’ 1\n",
              "\n",
              "Residual standard error: 1.777 on 24 degrees of freedom\n",
              "Multiple R-squared:  0.9935,\tAdjusted R-squared:  0.9916 \n",
              "F-statistic: 524.5 on 7 and 24 DF,  p-value: < 2.2e-16\n"
            ]
          },
          "metadata": {}
        }
      ]
    },
    {
      "cell_type": "code",
      "source": [
        "# Daniel plot\n",
        "qqline(DanielPlot(mod_5, alpha = 0.1)$y)"
      ],
      "metadata": {
        "colab": {
          "base_uri": "https://localhost:8080/",
          "height": 437
        },
        "id": "OdDkC7BkMzPD",
        "outputId": "48578b77-4034-464b-a451-641b3f8d4d4a"
      },
      "execution_count": 44,
      "outputs": [
        {
          "output_type": "display_data",
          "data": {
            "text/plain": [
              "Plot with title “Normal Plot for Yield, alpha=0.1”"
            ],
            "image/png": "[encoded data removed]"
          },
          "metadata": {
            "image/png": {
              "width": 420,
              "height": 420
            }
          }
        }
      ]
    },
    {
      "cell_type": "code",
      "source": [
        "# Print the remaining effects\n",
        "effects = as.data.frame(2*mod_5$coefficients)\n",
        "names(effects)[1] = 'Effects'\n",
        "effects"
      ],
      "metadata": {
        "colab": {
          "base_uri": "https://localhost:8080/",
          "height": 349
        },
        "id": "YTTmh3dNPDWg",
        "outputId": "6c37dae7-12da-4049-ccc5-39b374b439a0"
      },
      "execution_count": 45,
      "outputs": [
        {
          "output_type": "display_data",
          "data": {
            "text/html": [
              "<table class=\"dataframe\">\n",
              "<caption>A data.frame: 8 × 1</caption>\n",
              "<thead>\n",
              "\t<tr><th></th><th scope=col>Effects</th></tr>\n",
              "\t<tr><th></th><th scope=col>&lt;dbl&gt;</th></tr>\n",
              "</thead>\n",
              "<tbody>\n",
              "\t<tr><th scope=row>(Intercept)</th><td>61.0625</td></tr>\n",
              "\t<tr><th scope=row>A1</th><td> 9.6875</td></tr>\n",
              "\t<tr><th scope=row>B1</th><td>33.9375</td></tr>\n",
              "\t<tr><th scope=row>C1</th><td>11.8125</td></tr>\n",
              "\t<tr><th scope=row>A1:B1</th><td> 0.0625</td></tr>\n",
              "\t<tr><th scope=row>A1:C1</th><td> 0.4375</td></tr>\n",
              "\t<tr><th scope=row>B1:C1</th><td> 7.9375</td></tr>\n",
              "\t<tr><th scope=row>A1:B1:C1</th><td>-0.4375</td></tr>\n",
              "</tbody>\n",
              "</table>\n"
            ],
            "text/markdown": "\nA data.frame: 8 × 1\n\n| <!--/--> | Effects &lt;dbl&gt; |\n|---|---|\n| (Intercept) | 61.0625 |\n| A1 |  9.6875 |\n| B1 | 33.9375 |\n| C1 | 11.8125 |\n| A1:B1 |  0.0625 |\n| A1:C1 |  0.4375 |\n| B1:C1 |  7.9375 |\n| A1:B1:C1 | -0.4375 |\n\n",
            "text/latex": "A data.frame: 8 × 1\n\\begin{tabular}{r|l}\n  & Effects\\\\\n  & <dbl>\\\\\n\\hline\n\t(Intercept) & 61.0625\\\\\n\tA1 &  9.6875\\\\\n\tB1 & 33.9375\\\\\n\tC1 & 11.8125\\\\\n\tA1:B1 &  0.0625\\\\\n\tA1:C1 &  0.4375\\\\\n\tB1:C1 &  7.9375\\\\\n\tA1:B1:C1 & -0.4375\\\\\n\\end{tabular}\n",
            "text/plain": [
              "            Effects\n",
              "(Intercept) 61.0625\n",
              "A1           9.6875\n",
              "B1          33.9375\n",
              "C1          11.8125\n",
              "A1:B1        0.0625\n",
              "A1:C1        0.4375\n",
              "B1:C1        7.9375\n",
              "A1:B1:C1    -0.4375"
            ]
          },
          "metadata": {}
        }
      ]
    },
    {
      "cell_type": "code",
      "source": [
        "final = lm(Yield ~ A + B + C + B:C, frf_6)\n",
        "summary(final)"
      ],
      "metadata": {
        "colab": {
          "base_uri": "https://localhost:8080/",
          "height": 381
        },
        "id": "LhVeY9szCLYf",
        "outputId": "94b25c04-73e9-4552-cd2a-84bb077c450c"
      },
      "execution_count": 46,
      "outputs": [
        {
          "output_type": "display_data",
          "data": {
            "text/plain": [
              "\n",
              "Call:\n",
              "lm.default(formula = Yield ~ A + B + C + B:C, data = frf_6)\n",
              "\n",
              "Residuals:\n",
              "    Min      1Q  Median      3Q     Max \n",
              "-2.7812 -1.2812 -0.3438  1.2500  2.7812 \n",
              "\n",
              "Coefficients:\n",
              "            Estimate Std. Error t value Pr(>|t|)    \n",
              "(Intercept)  30.5312     0.3021  101.07  < 2e-16 ***\n",
              "A1            4.8438     0.3021   16.03 2.53e-15 ***\n",
              "B1           16.9688     0.3021   56.17  < 2e-16 ***\n",
              "C1            5.9063     0.3021   19.55  < 2e-16 ***\n",
              "B1:C1         3.9687     0.3021   13.14 3.04e-13 ***\n",
              "---\n",
              "Signif. codes:  0 ‘***’ 0.001 ‘**’ 0.01 ‘*’ 0.05 ‘.’ 0.1 ‘ ’ 1\n",
              "\n",
              "Residual standard error: 1.709 on 27 degrees of freedom\n",
              "Multiple R-squared:  0.9932,\tAdjusted R-squared:  0.9922 \n",
              "F-statistic: 991.8 on 4 and 27 DF,  p-value: < 2.2e-16\n"
            ]
          },
          "metadata": {}
        }
      ]
    },
    {
      "cell_type": "markdown",
      "source": [
        "Significant terms are A, B, C and the interaction between B and C."
      ],
      "metadata": {
        "id": "-m9dcr6VUkhX"
      }
    }
  ]
}