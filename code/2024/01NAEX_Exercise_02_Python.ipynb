{
  "nbformat": 4,
  "nbformat_minor": 0,
  "metadata": {
    "colab": {
      "private_outputs": true,
      "provenance": [],
      "authorship_tag": "ABX9TyNWkQwOj8Z2iLgbRntvIMVn",
      "include_colab_link": true
    },
    "kernelspec": {
      "name": "python3",
      "display_name": "Python 3"
    },
    "language_info": {
      "name": "python"
    }
  },
  "cells": [
    {
      "cell_type": "markdown",
      "metadata": {
        "id": "view-in-github",
        "colab_type": "text"
      },
      "source": [
        "<a href=\"https://colab.research.google.com/github/francji1/01NAEX/blob/main/code/01NAEX_Exercise_02_Python.ipynb\" target=\"_parent\"><img src=\"https://colab.research.google.com/assets/colab-badge.svg\" alt=\"Open In Colab\"/></a>"
      ]
    },
    {
      "cell_type": "code",
      "source": [],
      "metadata": {
        "id": "zKcaGUH2I0Dp"
      },
      "execution_count": null,
      "outputs": []
    },
    {
      "cell_type": "markdown",
      "source": [
        "##  Recap the code from the Lecture (Python instead of R)"
      ],
      "metadata": {
        "id": "4peItEjtdRIN"
      }
    },
    {
      "cell_type": "code",
      "execution_count": null,
      "metadata": {
        "id": "4IViDmO3hRRe"
      },
      "outputs": [],
      "source": [
        "import os\n",
        "import pandas as pd\n",
        "import numpy as np\n",
        "\n",
        "import matplotlib.pyplot as plt\n",
        "import seaborn as sns\n",
        "from scipy import stats\n",
        "from sklearn.linear_model import LinearRegression\n",
        "from statsmodels.formula.api import ols\n",
        "import statsmodels.formula.api as smf\n",
        "\n",
        "from statsmodels.stats.anova import anova_lm\n",
        "from statsmodels.stats.multicomp import pairwise_tukeyhsd\n",
        "from statsmodels.stats.diagnostic import het_breuschpagan\n",
        "from statsmodels.stats.api import durbin_watson\n",
        "import statsmodels.api as sm\n"
      ]
    },
    {
      "cell_type": "code",
      "source": [
        "import pandas as pd\n",
        "\n",
        "# URL to the etch rate data\n",
        "url = \"https://raw.githubusercontent.com/francji1/01NAEX/refs/heads/main/data/etchrate.txt\"\n",
        "\n",
        "# Load the etch rate data directly from the URL\n",
        "etch_rate = pd.read_csv(url, delim_whitespace=True)\n",
        "\n",
        "# Display the first few rows to verify the data has been loaded correctly\n",
        "print(etch_rate.head())"
      ],
      "metadata": {
        "id": "vkA3Lzbfi5ul"
      },
      "execution_count": null,
      "outputs": []
    },
    {
      "cell_type": "code",
      "source": [
        "# Group the data by RF and calculate the mean etch rate for each group\n",
        "grp_means = etch_rate.groupby('RF')['rate'].mean()\n",
        "\n",
        "# Create a scatter plot for both the mean etch rates and all data points\n",
        "plt.scatter(etch_rate['RF'], etch_rate['rate'], label='Data Points', color='lightblue')\n",
        "plt.scatter(grp_means.index, grp_means.values, label='Mean Etch Rate', color='darkblue')\n",
        "\n",
        "# Add labels and title\n",
        "plt.xlabel(\"RF Power (W)\")\n",
        "plt.ylabel(\"Observed Etch Rate (Å/min)\")\n",
        "plt.title(\"Etch Rate Data\")\n",
        "plt.legend()\n",
        "\n",
        "# Display the plot\n",
        "plt.show()"
      ],
      "metadata": {
        "id": "7NjTgL03O1rn"
      },
      "execution_count": null,
      "outputs": []
    },
    {
      "cell_type": "code",
      "source": [
        "# Boxplot by 'RF Power'\n",
        "etch_rate.boxplot(column='rate', by='RF')\n",
        "plt.title('Etch Rate by RF Power')\n",
        "plt.xlabel('RF Power (W)')\n",
        "plt.ylabel('Observed Etch Rate (Å/min)')\n",
        "\n",
        "# Display the boxplots\n",
        "plt.tight_layout()\n",
        "plt.show()"
      ],
      "metadata": {
        "id": "S6nOq2m8PcyU"
      },
      "execution_count": null,
      "outputs": []
    },
    {
      "cell_type": "code",
      "source": [
        "# boxplot for 'rate' grouped by 'run' considering the runs as a factor\n",
        "plt.figure(figsize=(8, 6))\n",
        "\n",
        "# Boxplot by 'run' only\n",
        "etch_rate.boxplot(column='rate', by='run', grid=False)\n",
        "plt.title('Etch Rate by Run (Run as Factor)')\n",
        "plt.xlabel('Run')\n",
        "plt.ylabel('Observed Etch Rate (Å/min)')\n",
        "\n",
        "# Display the boxplot\n",
        "plt.tight_layout()\n",
        "plt.show()"
      ],
      "metadata": {
        "id": "0xMDJU3yPhXo"
      },
      "execution_count": null,
      "outputs": []
    },
    {
      "cell_type": "code",
      "source": [
        "# Linear models for etch rate\n",
        "etch_rate['Power'] = etch_rate['RF'].astype('category')\n",
        "etch_rate['Run'] = etch_rate['run'].astype('category')\n",
        "\n",
        "model2 = ols('rate ~ Power', data=etch_rate).fit()\n",
        "model0 = ols('rate ~ Power - 1', data=etch_rate).fit()\n",
        "print(model2.summary())\n",
        "print(model0.summary())\n"
      ],
      "metadata": {
        "id": "y8UBGWVNh0ma"
      },
      "execution_count": null,
      "outputs": []
    },
    {
      "cell_type": "code",
      "source": [
        "etch_rate"
      ],
      "metadata": {
        "id": "o9bVuNpoRIK9"
      },
      "execution_count": null,
      "outputs": []
    },
    {
      "cell_type": "code",
      "source": [
        "# Ensure that 'run' is treated as a categorical variable\n",
        "etch_rate['Run'] = etch_rate['run'].astype('category')\n",
        "etch_rate['Power'] = etch_rate['Power'].astype('category')\n",
        "\n",
        "model1 = ols('rate ~ Power + Run', data=etch_rate).fit()\n",
        "anova_table1 = sm.stats.anova_lm(model1)\n",
        "\n",
        "# Display the summary of the ANOVA table\n",
        "anova_table1"
      ],
      "metadata": {
        "id": "KrdOzZF_Q7jh"
      },
      "execution_count": null,
      "outputs": []
    },
    {
      "cell_type": "code",
      "source": [
        "model2 = ols('rate ~ Power', data=etch_rate).fit()\n",
        "anova_table2 = sm.stats.anova_lm(model2)\n",
        "\n",
        "# Display the summary of the ANOVA table\n",
        "anova_table2"
      ],
      "metadata": {
        "id": "YfdEe32uRHbR"
      },
      "execution_count": null,
      "outputs": []
    },
    {
      "cell_type": "code",
      "source": [
        "# Perform ANOVA comparison between the two models\n",
        "anova_comparison = sm.stats.anova_lm(model2, model1)\n",
        "\n",
        "# Display the result of the ANOVA comparison\n",
        "anova_comparison\n"
      ],
      "metadata": {
        "id": "FD5VMbGrSH28"
      },
      "execution_count": null,
      "outputs": []
    },
    {
      "cell_type": "code",
      "source": [
        "# Display the summary of the model\n",
        "model_summary = model2.summary()\n",
        "\n",
        "# Compute the confidence intervals for the coefficients\n",
        "conf_intervals = model2.conf_int()\n",
        "\n",
        "model_summary, conf_intervals\n"
      ],
      "metadata": {
        "id": "FZc6kbTyTScA"
      },
      "execution_count": null,
      "outputs": []
    },
    {
      "cell_type": "code",
      "source": [
        "# Display the summary of the model\n",
        "model_summary = model0.summary()\n",
        "\n",
        "# Compute the confidence intervals for the coefficients\n",
        "conf_intervals = model0.conf_int()\n",
        "\n",
        "model_summary, conf_intervals\n"
      ],
      "metadata": {
        "id": "yrnOm984T-9P"
      },
      "execution_count": null,
      "outputs": []
    },
    {
      "cell_type": "code",
      "source": [],
      "metadata": {
        "id": "s3Ay1HZCU1dp"
      },
      "execution_count": null,
      "outputs": []
    },
    {
      "cell_type": "code",
      "source": [
        "# Create the new variables Power1 and Power2, as transformations of the original Power variable.\n",
        "\n",
        "# Power1 is the original RF power and Power2 is the square of the RF power\n",
        "etch_rate['Power1'] = etch_rate['Power'].astype(float)  # Convert Power to numeric for quantitative analysis\n",
        "etch_rate['Power2'] = etch_rate['Power1'] ** 2  # Square of Power\n",
        "\n",
        "# First model: Erch_rate ~ Power1\n",
        "model3 = smf.ols('rate ~ Power1', data=etch_rate).fit()\n",
        "model3_summary = model3.summary()\n",
        "\n",
        "# Second model: Erch_rate ~ Power1 + Power2\n",
        "model4 = smf.ols('rate ~ Power1 + Power2', data=etch_rate).fit()\n",
        "model4_summary = model4.summary()\n",
        "\n",
        "model3_summary, model4_summary\n"
      ],
      "metadata": {
        "id": "4FMNmOnpU1lI"
      },
      "execution_count": null,
      "outputs": []
    },
    {
      "cell_type": "code",
      "source": [
        "# Generate predicted values from both models (model3 and model4)\n",
        "etch_rate['pred_model3'] = model3.fittedvalues  # Predicted values from the linear model (model3)\n",
        "etch_rate['pred_model4'] = model4.fittedvalues  # Predicted values from the quadratic model (model4)\n",
        "\n",
        "# Create the plot to display actual data points and model predictions\n",
        "plt.figure(figsize=(10, 6))\n",
        "\n",
        "# Scatter plot of the actual data points with 'x' markers\n",
        "plt.scatter(etch_rate['Power1'], etch_rate['rate'], color='blue', marker='x', label='Data Points')\n",
        "\n",
        "# Plot the predicted values from the linear model (Model 3) as a line\n",
        "plt.plot(etch_rate['Power1'], etch_rate['pred_model3'], color='green', marker='o', linestyle='-', label='Linear Model')\n",
        "\n",
        "# Plot the predicted values from the quadratic model (Model 4) as a line\n",
        "plt.plot(etch_rate['Power1'], etch_rate['pred_model4'], color='red', marker='o', linestyle='-', label='Quadratic Model')\n",
        "\n",
        "# Add labels and title\n",
        "plt.xlabel('Power (RF Power in W)')\n",
        "plt.ylabel('Etch Rate (Å/min)')\n",
        "plt.title('Comparison of Linear and Quadratic Regression Models')\n",
        "\n",
        "# Add a legend\n",
        "plt.legend()\n",
        "\n",
        "# Show the plot\n",
        "plt.show()\n"
      ],
      "metadata": {
        "id": "rPgU5IosU1oK"
      },
      "execution_count": null,
      "outputs": []
    },
    {
      "cell_type": "code",
      "source": [
        "import numpy as np\n",
        "from scipy.stats import ttest_ind\n",
        "from statsmodels.stats.multitest import multipletests\n",
        "\n",
        "# Prepare the data by grouping the etch rate data by Power1\n",
        "groups = etch_rate.groupby('Power1')['rate'].apply(list)\n",
        "\n",
        "# List to store pairwise t-test results\n",
        "p_values = []\n",
        "\n",
        "# Perform pairwise t-tests between all combinations of Power1 groups\n",
        "power_levels = sorted(groups.keys())\n",
        "for i in range(len(power_levels)):\n",
        "    for j in range(i+1, len(power_levels)):\n",
        "        # Perform t-test between groups i and j\n",
        "        t_stat, p_val = ttest_ind(groups[power_levels[i]], groups[power_levels[j]], equal_var=True)\n",
        "        p_values.append((power_levels[i], power_levels[j], p_val))\n",
        "\n",
        "# Extract the p-values for adjustment\n",
        "p_vals = [p_val for _, _, p_val in p_values]\n",
        "\n",
        "# Apply Bonferroni correction\n",
        "_, p_vals_bonf, _, _ = multipletests(p_vals, method='bonferroni')\n",
        "\n",
        "# Apply Holm (Hochberg's step-up procedure)\n",
        "_, p_vals_hoch, _, _ = multipletests(p_vals, method='holm')\n",
        "\n",
        "# Display the results\n",
        "print(\"Pairwise t-test results with Bonferroni adjustment:\")\n",
        "for (level1, level2, _), p_val_bonf in zip(p_values, p_vals_bonf):\n",
        "    print(f\"{level1} vs {level2}: p-value = {p_val_bonf:.4e}\")\n",
        "\n",
        "print(\"\\nPairwise t-test results with Hochberg (Holm) adjustment:\")\n",
        "for (level1, level2, _), p_val_hoch in zip(p_values, p_vals_hoch):\n",
        "    print(f\"{level1} vs {level2}: p-value = {p_val_hoch:.4e}\")\n"
      ],
      "metadata": {
        "id": "2exkB4YAX4Sw"
      },
      "execution_count": null,
      "outputs": []
    },
    {
      "cell_type": "code",
      "source": [
        "# Post-ANOVA Comparison of Means (Tukey HSD)\n",
        "tukey_result = pairwise_tukeyhsd(etch_rate['rate'], etch_rate['Power'])\n",
        "print(tukey_result)\n",
        "tukey_result.plot_simultaneous()\n",
        "plt.show()\n"
      ],
      "metadata": {
        "id": "TP4NIfK3hx19"
      },
      "execution_count": null,
      "outputs": []
    },
    {
      "cell_type": "code",
      "source": [
        "import matplotlib.pyplot as plt\n",
        "import numpy as np\n",
        "\n",
        "# Perform Tukey's HSD test\n",
        "tukey = pairwise_tukeyhsd(endog=etch_rate['rate'], groups=etch_rate['Power'], alpha=0.05)\n",
        "\n",
        "# Extract the Tukey HSD results\n",
        "means_diff = tukey.meandiffs  # Mean differences\n",
        "ci_lower = tukey.confint[:, 0]  # Lower bound of confidence intervals\n",
        "ci_upper = tukey.confint[:, 1]  # Upper bound of confidence intervals\n",
        "comparisons = tukey.summary().data[1:]  # Extract the group comparisons from the Tukey summary\n",
        "\n",
        "# Create a plot for confidence intervals of pairwise comparisons\n",
        "plt.figure(figsize=(10, 6))\n",
        "\n",
        "# Plot the confidence intervals as horizontal lines\n",
        "for i, (lower, upper) in enumerate(zip(ci_lower, ci_upper)):\n",
        "    plt.plot([lower, upper], [i, i], color='black')\n",
        "    plt.plot(means_diff[i], i, 'o', color='red')  # Plot the mean difference as a red point\n",
        "\n",
        "# Labeling the y-axis with the comparisons\n",
        "comparison_labels = [f\"{row[0]} - {row[1]}\" for row in comparisons]  # Create labels like \"180-160\"\n",
        "plt.yticks(np.arange(len(comparison_labels)), comparison_labels)\n",
        "\n",
        "# Add vertical line at 0 (no difference)\n",
        "plt.axvline(0, color='grey', linestyle='--')\n",
        "\n",
        "# Add labels and title\n",
        "plt.xlabel('Mean Difference with 95% CI')\n",
        "plt.title('Tukey HSD Confidence Intervals')\n",
        "\n",
        "# Show the plot\n",
        "plt.tight_layout()\n",
        "plt.show()\n"
      ],
      "metadata": {
        "id": "GlqNEkIHcS1W"
      },
      "execution_count": null,
      "outputs": []
    },
    {
      "cell_type": "code",
      "source": [
        "\n",
        "\n",
        "means = etch_rate.groupby('Power', observed=True)['rate'].mean()  # Group means by Power levels\n",
        "std_errs = etch_rate.groupby('Power', observed=True)['rate'].std() / np.sqrt(etch_rate.groupby('Power', observed=True)['rate'].count())  # Standard errors\n",
        "n = etch_rate.groupby('Power', observed=True)['rate'].count()  # Replicates per group\n",
        "df_error = 16  # Given degrees of freedom for error\n",
        "mse = 334  # Given Mean Square Error\n",
        "alpha = 0.05  # Significance level\n",
        "\n",
        "# Calculate the critical value of t for the given degrees of freedom and alpha level\n",
        "t_critical = stats.t.ppf(1 - alpha/2, df_error)\n",
        "\n",
        "# Calculate the Least Significant Difference (LSD)\n",
        "lsd = t_critical * np.sqrt(2 * mse / n.mean())  # Assuming balanced design for simplicity\n",
        "\n",
        "# Calculate the confidence intervals for each group\n",
        "ci_lower = means - t_critical * std_errs\n",
        "ci_upper = means + t_critical * std_errs\n",
        "\n",
        "# Create a summary DataFrame\n",
        "summary_df = pd.DataFrame({\n",
        "    'Mean': means,\n",
        "    'Std. Error': std_errs,\n",
        "    'Lower CI (95%)': ci_lower,\n",
        "    'Upper CI (95%)': ci_upper,\n",
        "    'Min': etch_rate.groupby('Power', observed=True)['rate'].min(),\n",
        "    'Max': etch_rate.groupby('Power', observed=True)['rate'].max()\n",
        "})\n",
        "\n",
        "# Print summary\n",
        "print(\"LSD Test Results:\")\n",
        "print(summary_df)\n",
        "print(f\"\\nLeast Significant Difference (LSD): {lsd:.5f}\")\n",
        "print(f\"Critical Value of t: {t_critical:.5f}\")\n",
        "\n",
        "# Perform pairwise comparisons to group means\n",
        "groups = means.sort_values(ascending=False).index\n",
        "letters = ['a', 'b', 'c', 'd']  # Group labels based on LSD results\n",
        "group_labels = {}\n",
        "\n",
        "# Initialize the group labeling\n",
        "for i, group1 in enumerate(groups):\n",
        "    group_labels[group1] = letters[i]\n",
        "\n",
        "    for group2 in groups[i + 1:]:\n",
        "        mean_diff = abs(means[group1] - means[group2])\n",
        "        if mean_diff > lsd:\n",
        "            # Means are significantly different, keep different labels\n",
        "            pass\n",
        "        else:\n",
        "            # Means are not significantly different, assign the same letter\n",
        "            group_labels[group2] = group_labels[group1]\n",
        "\n",
        "# Create a DataFrame to show group labels and means\n",
        "grouped_means_df = pd.DataFrame({\n",
        "    'Group': groups,\n",
        "    'Mean': means[groups],\n",
        "    'Label': [group_labels[g] for g in groups]\n",
        "})\n",
        "\n",
        "print(\"\\nGroups, Treatments and Means with Labels:\")\n",
        "print(grouped_means_df)\n"
      ],
      "metadata": {
        "id": "eWvuySBycnE2"
      },
      "execution_count": null,
      "outputs": []
    },
    {
      "cell_type": "code",
      "source": [
        "import numpy as np\n",
        "from statsmodels.stats.power import FTestAnovaPower\n",
        "\n",
        "# Parameters\n",
        "sd = 25  # Standard deviation (within-group variance)\n",
        "max_difference = 75  # Maximum difference between group means\n",
        "alpha = 0.01  # Significance level\n",
        "groups = 4  # Number of groups\n",
        "\n",
        "# Sequence of sample sizes\n",
        "nn = np.arange(4, 11)  # Sample sizes from 4 to 10\n",
        "\n",
        "# Compute the effect size based on R/Minitab convention\n",
        "effect_size = (max_difference / 2) / sd  # Effect size of 1.5\n",
        "\n",
        "# Initialize FTestAnovaPower object\n",
        "power_analysis = FTestAnovaPower()\n",
        "\n",
        "# Calculate power for each sample size\n",
        "beta = []\n",
        "for n in nn:\n",
        "    power = power_analysis.power(effect_size=effect_size, nobs=n * groups, alpha=alpha, k_groups=groups)\n",
        "    beta.append(power)\n",
        "\n",
        "# Display the results\n",
        "print(\"Sample Sizes:\", nn)\n",
        "print(\"Power:\", beta)\n"
      ],
      "metadata": {
        "id": "o8Bmp64kcnH1"
      },
      "execution_count": null,
      "outputs": []
    },
    {
      "cell_type": "code",
      "source": [
        "#!pip install statsmodels==0.13.2 numpy==1.22.3 scipy==1.8.0#\n",
        "\n",
        "#import statsmodels\n",
        "#import numpy as np\n",
        "#import scipy\n",
        "\n",
        "#print(f\"Statsmodels Version: {statsmodels.__version__}\")\n",
        "#print(f\"NumPy Version: {np.__version__}\")\n",
        "#print(f\"SciPy Version: {scipy.__version__}\")"
      ],
      "metadata": {
        "id": "vbrGEaE6d8fq"
      },
      "execution_count": null,
      "outputs": []
    },
    {
      "cell_type": "code",
      "source": [
        "import statsmodels\n",
        "import numpy as np\n",
        "import scipy\n",
        "\n",
        "print(f\"Statsmodels Version: {statsmodels.__version__}\")\n",
        "print(f\"NumPy Version: {np.__version__}\")\n",
        "print(f\"SciPy Version: {scipy.__version__}\")"
      ],
      "metadata": {
        "id": "0SoRw2Csd8iq"
      },
      "execution_count": null,
      "outputs": []
    },
    {
      "cell_type": "code",
      "source": [
        "from statsmodels.stats.power import FTestAnovaPower\n",
        "\n",
        "# Power analysis example (ANOVA power calculation)\n",
        "power_analysis = FTestAnovaPower()\n",
        "effect_size = np.var(grp_means) / (25**2)  # Effect size calculation\n",
        "power = power_analysis.solve_power(effect_size=effect_size, nobs=10, alpha=0.01, k_groups=4)  # Corrected argument\n",
        "print(\"ANOVA Power:\", power)\n"
      ],
      "metadata": {
        "id": "7lCf3TPCjRru"
      },
      "execution_count": null,
      "outputs": []
    },
    {
      "cell_type": "code",
      "source": [
        "# Generating operating characteristic curve for sample size\n",
        "sd_vals = np.arange(20, 81, 1)\n",
        "nn_vals = np.arange(3, 11, 1)\n",
        "beta_matrix = np.zeros((len(sd_vals), len(nn_vals)))\n",
        "\n",
        "for i, sd in enumerate(sd_vals):\n",
        "    for j, n in enumerate(nn_vals):\n",
        "        effect_size = (75**2) / (2 * 4 * (sd**2))\n",
        "        beta_matrix[i, j] = power_analysis.solve_power(effect_size=effect_size, nobs=n, alpha=0.01, k_groups=4)\n",
        "\n",
        "# Plotting the operating characteristic curve\n",
        "plt.figure(figsize=(8, 6))\n",
        "for i, n in enumerate(nn_vals):\n",
        "    plt.plot(sd_vals, beta_matrix[:, i], label=f'n={n}')\n",
        "plt.xlabel('Standard Deviation (σ)')\n",
        "plt.ylabel('1 - β (Power)')\n",
        "plt.title('Operating Characteristic Curve for a = 4 Treatment Means')\n",
        "plt.grid(True)\n",
        "plt.legend()\n",
        "plt.show()\n"
      ],
      "metadata": {
        "id": "xGbe5VXOjQ8B"
      },
      "execution_count": null,
      "outputs": []
    },
    {
      "cell_type": "code",
      "source": [
        "\n",
        "# Operating characteristic curve based on a grid of standard deviations and sample sizes\n",
        "sd_grid = np.arange(20, 81, 1)  # Range of standard deviations\n",
        "nn_grid = np.arange(4, 13, 1)  # Range of sample sizes\n",
        "beta_grid = np.zeros((len(sd_grid), len(nn_grid)))\n",
        "\n",
        "# Fill beta (power) matrix\n",
        "for i, sd in enumerate(sd_grid):\n",
        "    for j, n in enumerate(nn_grid):\n",
        "        effect_size = (75 ** 2) / (2 * (4 - 1) * (sd ** 2))  # Using 4 groups in this example\n",
        "        beta_grid[i, j] = power_analysis.solve_power(effect_size=effect_size, nobs=n, alpha=0.01, k_groups=4)\n"
      ],
      "metadata": {
        "id": "DMd5q9AfjX7g"
      },
      "execution_count": null,
      "outputs": []
    },
    {
      "cell_type": "code",
      "source": [
        "\n",
        "# Plot the operating characteristic curve\n",
        "plt.figure(figsize=(8, 6))\n",
        "for j, n in enumerate(nn_grid):\n",
        "    plt.plot(sd_grid, beta_grid[:, j], label=f'n={n}')\n",
        "plt.xlabel('Standard Deviation (σ)')\n",
        "plt.ylabel('1 - β (Power)')\n",
        "plt.title('Operating Characteristic Curve for a=4 Treatment Means')\n",
        "plt.grid(True)\n",
        "plt.legend(title='Sample Size (n)')\n",
        "plt.show()\n"
      ],
      "metadata": {
        "id": "ZBsRiWWHjXhW"
      },
      "execution_count": null,
      "outputs": []
    },
    {
      "cell_type": "code",
      "source": [
        "\n",
        "# Bartlett's test for homogeneity of variances\n",
        "bartlett_result = stats.bartlett(etch_rate['rate'], etch_rate['RF'])\n",
        "print(\"Bartlett's Test for Homogeneity of Variances:\", bartlett_result)\n"
      ],
      "metadata": {
        "id": "U1h_Es32jW9F"
      },
      "execution_count": null,
      "outputs": []
    },
    {
      "cell_type": "code",
      "source": [
        "\n",
        "# Levene's test for homogeneity of variances\n",
        "levene_result = stats.levene(etch_rate['rate'], etch_rate['RF'], center='mean')\n",
        "print(\"Levene's Test for Homogeneity of Variances:\", levene_result)\n"
      ],
      "metadata": {
        "id": "aUHQaaTEjWzO"
      },
      "execution_count": null,
      "outputs": []
    },
    {
      "cell_type": "code",
      "source": [
        "\n",
        "# Durbin-Watson test for autocorrelation of residuals\n",
        "durbin_watson_stat = durbin_watson(model1.resid)\n",
        "print(\"Durbin-Watson Test Statistic:\", durbin_watson_stat)\n"
      ],
      "metadata": {
        "id": "9nx-cI3sjWo3"
      },
      "execution_count": null,
      "outputs": []
    },
    {
      "cell_type": "code",
      "source": [],
      "metadata": {
        "id": "py1JXBN-j83k"
      },
      "execution_count": null,
      "outputs": []
    },
    {
      "cell_type": "code",
      "source": [
        "\n",
        "# Use the correct exogenous variable name for regression diagnostics\n",
        "fig, ax = plt.subplots(2, 2, figsize=(12, 12))\n",
        "\n",
        "# Use one of the variables from model1.model.exog_names, such as 'Power[T.180]'\n",
        "sm.graphics.plot_regress_exog(model1, 'Power[T.180]', fig=fig)\n",
        "plt.show()\n"
      ],
      "metadata": {
        "id": "js6w6KwcjWOG"
      },
      "execution_count": null,
      "outputs": []
    },
    {
      "cell_type": "code",
      "source": [
        "model1.summary()"
      ],
      "metadata": {
        "id": "qKbZWrF3ktIs"
      },
      "execution_count": null,
      "outputs": []
    },
    {
      "cell_type": "code",
      "source": [
        "\n",
        "# Regression model comparison (with and without intercept)\n",
        "anova_result1 = anova_lm(model1)\n",
        "anova_result2 = anova_lm(model2)\n",
        "print(\"ANOVA Results for Model 1 (with intercept):\")\n",
        "print(anova_result1)\n",
        "print(\"ANOVA Results for Model 2 (without intercept):\")\n",
        "print(anova_result2)\n"
      ],
      "metadata": {
        "id": "iGv1QYbxjWB2"
      },
      "execution_count": null,
      "outputs": []
    },
    {
      "cell_type": "code",
      "source": [
        "\n",
        "# Post-hoc comparisons using Tukey HSD for multiple comparisons\n",
        "tukey_result = pairwise_tukeyhsd(etch_rate['rate'], etch_rate['Power'], alpha=0.05)\n",
        "print(\"Tukey HSD Results:\")\n",
        "print(tukey_result)\n",
        "tukey_result.plot_simultaneous()\n",
        "plt.show()\n"
      ],
      "metadata": {
        "id": "UowxTwGXjV3e"
      },
      "execution_count": null,
      "outputs": []
    },
    {
      "cell_type": "code",
      "source": [
        "\n",
        "# Final summary statistics for the etch rate data\n",
        "overall_mean = np.mean(etch_rate['rate'])\n",
        "treatment_effects = etch_rate.groupby('RF')['rate'].mean() - overall_mean\n",
        "\n",
        "print(\"Overall mean of etch rate:\", overall_mean)\n",
        "print(\"Treatment effects relative to overall mean:\")\n",
        "print(treatment_effects)\n"
      ],
      "metadata": {
        "id": "tjZd-B47jVsU"
      },
      "execution_count": null,
      "outputs": []
    },
    {
      "cell_type": "code",
      "source": [
        "\n",
        "# Example of generating summary tables from ANOVA\n",
        "model_tables = anova_lm(model1)\n",
        "print(\"Model Tables from ANOVA:\")\n",
        "print(model_tables)\n"
      ],
      "metadata": {
        "id": "m8ronOeOjVNG"
      },
      "execution_count": null,
      "outputs": []
    },
    {
      "cell_type": "code",
      "source": [
        "\n",
        "# Calculate the pooled standard deviation\n",
        "MSe = anova_result1['mean_sq'][1]\n",
        "SD_pool = np.sqrt(MSe / 16)\n",
        "print(\"Pooled Standard Deviation:\", SD_pool)\n"
      ],
      "metadata": {
        "id": "tmpxl9BEjU_K"
      },
      "execution_count": null,
      "outputs": []
    },
    {
      "cell_type": "code",
      "source": [
        "\n",
        "# Post-ANOVA comparison of means using Tukey HSD\n",
        "print(\"Tukey HSD Comparison of Means:\")\n",
        "tukey_result = pairwise_tukeyhsd(etch_rate['rate'], etch_rate['Power'], alpha=0.05)\n",
        "print(tukey_result)\n",
        "tukey_result.plot_simultaneous()\n",
        "plt.show()\n"
      ],
      "metadata": {
        "id": "bmBtXfBUjUyt"
      },
      "execution_count": null,
      "outputs": []
    },
    {
      "cell_type": "code",
      "source": [
        "\n",
        "# Plotting residuals and ANOVA diagnostics\n",
        "fig = plt.figure(figsize=(12, 8))\n",
        "sm.graphics.plot_partregress_grid(model1, fig=fig)\n",
        "plt.show()\n"
      ],
      "metadata": {
        "id": "0DsHHdzejUm_"
      },
      "execution_count": null,
      "outputs": []
    },
    {
      "cell_type": "code",
      "source": [
        "\n",
        "import matplotlib.pyplot as plt\n",
        "import statsmodels.api as sm\n",
        "\n",
        "# Residuals vs Fitted\n",
        "fig, ax = plt.subplots(1, 2, figsize=(12, 6))\n",
        "# Plot residuals vs fitted values\n",
        "sm.graphics.plot_regress_exog(model1, 'Power[T.180]', fig=fig)\n",
        "plt.show()"
      ],
      "metadata": {
        "id": "Xet6TQuCjUZ9"
      },
      "execution_count": null,
      "outputs": []
    },
    {
      "cell_type": "code",
      "source": [
        "\n",
        "\n",
        "\n",
        "# Influence Plot\n",
        "fig_influence = sm.graphics.influence_plot(model1, figsize=(12, 8))\n",
        "plt.show()\n"
      ],
      "metadata": {
        "id": "2mSDyLBvmDAR"
      },
      "execution_count": null,
      "outputs": []
    },
    {
      "cell_type": "code",
      "source": [
        "import matplotlib.pyplot as plt\n",
        "import statsmodels.api as sm\n",
        "\n",
        "# Create a figure and axis first\n",
        "fig, ax = plt.subplots(figsize=(12, 8))\n",
        "\n",
        "# Plot leverage vs residuals squared\n",
        "sm.graphics.plot_leverage_resid2(model1, ax=ax)\n",
        "plt.show()\n",
        "\n"
      ],
      "metadata": {
        "id": "zHriw_XvmIep"
      },
      "execution_count": null,
      "outputs": []
    },
    {
      "cell_type": "code",
      "source": [
        "\n",
        "# Additional tests\n",
        "durbin_watson_stat = durbin_watson(model1.resid)\n",
        "print(\"Durbin-Watson Test:\", durbin_watson_stat)\n"
      ],
      "metadata": {
        "id": "AlaCTvd4jUC1"
      },
      "execution_count": null,
      "outputs": []
    },
    {
      "cell_type": "code",
      "source": [
        "# Example of power calculation\n",
        "grp_means = [575, 600, 650, 675]  # Group means\n",
        "between_var = np.var(grp_means)\n",
        "within_var = 25 ** 2\n",
        "power_result = power_analysis.solve_power(effect_size=between_var / within_var, nobs=10, alpha=0.01, k_groups=4)\n",
        "print(\"Power of the test:\", power_result)\n"
      ],
      "metadata": {
        "id": "TSHMkhpyjT2v"
      },
      "execution_count": null,
      "outputs": []
    },
    {
      "cell_type": "code",
      "source": [],
      "metadata": {
        "id": "9ueUdq8TmXWN"
      },
      "execution_count": null,
      "outputs": []
    }
  ]
}