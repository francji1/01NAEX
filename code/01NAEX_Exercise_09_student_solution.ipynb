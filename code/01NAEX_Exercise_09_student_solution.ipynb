{
  "nbformat": 4,
  "nbformat_minor": 0,
  "metadata": {
    "colab": {
      "private_outputs": true,
      "provenance": [],
      "include_colab_link": true
    },
    "kernelspec": {
      "name": "ir",
      "display_name": "R"
    },
    "language_info": {
      "name": "R"
    }
  },
  "cells": [
    {
      "cell_type": "markdown",
      "metadata": {
        "id": "view-in-github",
        "colab_type": "text"
      },
      "source": [
        "<a href=\"https://colab.research.google.com/github/francji1/01NAEX/blob/main/code/01NAEX_Exercise_09_student_solution.ipynb\" target=\"_parent\"><img src=\"https://colab.research.google.com/assets/colab-badge.svg\" alt=\"Open In Colab\"/></a>"
      ]
    },
    {
      "cell_type": "markdown",
      "source": [
        "\n",
        "# O1NAEX Exercise 09"
      ],
      "metadata": {
        "id": "SJRUeUJPrezp"
      }
    },
    {
      "cell_type": "code",
      "source": [
        "# cat(system('sudo apt-get install -y gmp', intern=TRUE), sep = \"\\n\")\n",
        "# cat(system('sudo apt-get install -y partitions', intern=TRUE), sep = \"\\n\")\n",
        "# cat(system('sudo apt-get install -y DoE.base', intern=TRUE), sep = \"\\n\")\n",
        "\n",
        "# list_of_packages <- c(\"tidyverse\",\"MASS\",\"FrF2\") # \"agricolae\",\"nortest\",\"lattice\",\"pwr\",\n",
        "# missing_packages <- list_of_packages[!(list_of_packages %in% installed.packages()[,\"Package\"])]\n",
        "# missing_packages\n",
        "\n",
        "# if(length(missing_packages)) install.packages(missing_packages)\n",
        "# lapply(list_of_packages, library, character.only = TRUE)\n",
        "install.packages('rsm')\n",
        "install.packages('ggplot2')\n",
        "install.packages('car')\n",
        "install.packages('reshape2')"
      ],
      "metadata": {
        "id": "crbwkzr9I90A"
      },
      "execution_count": null,
      "outputs": []
    },
    {
      "cell_type": "code",
      "source": [
        "install.packages('metR')"
      ],
      "metadata": {
        "id": "bGynogq4_UtI"
      },
      "execution_count": null,
      "outputs": []
    },
    {
      "cell_type": "code",
      "source": [
        "library('rsm')\n",
        "library('ggplot2')\n",
        "library('reshape2')\n",
        "library(dplyr)\n",
        "library(car)\n",
        "library('metR')"
      ],
      "metadata": {
        "id": "ZsHcf5iJooKH"
      },
      "execution_count": null,
      "outputs": []
    },
    {
      "cell_type": "code",
      "source": [
        "knitr::opts_chunk$set(echo = FALSE,warning = FALSE, message = FALSE,fig.width=15, fig.height=10)"
      ],
      "metadata": {
        "id": "fYlPrh7XooS8"
      },
      "execution_count": null,
      "outputs": []
    },
    {
      "cell_type": "code",
      "execution_count": null,
      "metadata": {
        "id": "77d2096d"
      },
      "outputs": [],
      "source": [
        "# list_of_packages <- c(\"tidyverse\",\"MASS\",\"FrF2\",\"dplyr\",\"lattice\",\"ggplot2\",\"Hmisc\")\n",
        "# missing_packages <- list_of_packages[!(list_of_packages %in% installed.packages()[,\"Package\"])]\n",
        "# print(missing_packages)\n",
        "\n",
        "# system(\"sudo apt-get install libgmp-dev\")\n",
        "# install.packages(\"gmp\")\n",
        "\n",
        "# system(\"sudo apt-get install libpartitions-dev\")\n",
        "# install.packages(\"partitions\")\n",
        "\n",
        "# system(\"sudo apt-get install libDoE.base-dev\")\n",
        "# install.packages(\"DoE.base\")\n",
        "\n",
        "# if(length(missing_packages)) install.packages(missing_packages)\n",
        "# lapply(list_of_packages, library, character.only = TRUE)"
      ]
    },
    {
      "cell_type": "code",
      "source": [
        "#tibble::tibble(\n",
        "#  Package = names(installed.packages()[,3]),\n",
        "#  Version = unname(installed.packages()[,3])\n",
        "#)"
      ],
      "metadata": {
        "id": "mFJEGP4iPatd"
      },
      "execution_count": null,
      "outputs": []
    },
    {
      "cell_type": "markdown",
      "source": [
        "##\tProblem 11.8\n",
        "from the chapter 11 -  D. C. Montgomery DAoE - 8. edition.\n",
        "\n",
        "The data  were collected in\tan experiment to optimize crystal growth as a function of\tthree variables $x_1$, $x_2$, and $x_3$. Large values of y (`Yield` in grams)\tare desirable. Fit a second-order model and analyze the fitted surface. Under what set of conditions is maximum growth achieved?"
      ],
      "metadata": {
        "id": "_lYQT0wrrb3V"
      }
    },
    {
      "cell_type": "code",
      "source": [
        "df118 <- read.table(\"https://raw.githubusercontent.com/francji1/01NAEX/main/data/Ex118.csv\",header=TRUE,sep=\";\")\n",
        "df118"
      ],
      "metadata": {
        "id": "DfQaZt8HzOXa"
      },
      "execution_count": null,
      "outputs": []
    },
    {
      "cell_type": "markdown",
      "source": [
        "Quadratic model with interactions:"
      ],
      "metadata": {
        "id": "3zCLu95Uxp8d"
      }
    },
    {
      "cell_type": "code",
      "source": [
        "full_model <- lm(Yield ~ x1 + x2 + x3 + I(x1^2) + I(x2^2) + I(x3^2) + x1:x2 + x1:x3 + x2:x3, data = df118)\n",
        "model_summary<-summary(full_model)\n",
        "model_summary\n",
        "full_model %>%\n",
        "  aov() %>%\n",
        "  summary()"
      ],
      "metadata": {
        "id": "ZdlSiXZlHjWM"
      },
      "execution_count": null,
      "outputs": []
    },
    {
      "cell_type": "code",
      "source": [
        "coefficients_table <- model_summary$coefficients\n",
        "\n",
        "# Confidence intervals for the model parameters\n",
        "conf_intervals <- confint(full_model)\n",
        "\n",
        "# Calculate VIF for the model\n",
        "model_vif <- vif(full_model)\n",
        "model_vif <- c(NA, vif(full_model))\n",
        "\n",
        "results <- data.frame(\n",
        "  Coefficient_Estimate = round(coefficients_table[, \"Estimate\"],2),\n",
        "  Standard_Error = round(coefficients_table[, \"Std. Error\"],2),\n",
        "  CI_95_Low = round(conf_intervals[, 1],2),\n",
        "  CI_95_High = round(conf_intervals[, 2],2),\n",
        "  VIF = round(model_vif,2)\n",
        ")\n",
        "rownames(results) <- rownames(coefficients_table)\n",
        "\n",
        "# Print the results\n",
        "knitr::kable(results)"
      ],
      "metadata": {
        "id": "U8tXPFcbpWDR"
      },
      "execution_count": null,
      "outputs": []
    },
    {
      "cell_type": "markdown",
      "source": [
        "A lot of the terms seem to be non-significant. Therefore, the model is reduced."
      ],
      "metadata": {
        "id": "3nMJK3qVrStH"
      }
    },
    {
      "cell_type": "code",
      "source": [
        "reduced_model <- lm(Yield ~  x2 + x3 + I(x2^2) + I(x3^2), data = df118)\n",
        "red_model_summary<-summary(reduced_model)\n",
        "red_model_summary\n",
        "reduced_model%>%\n",
        "  aov() %>%\n",
        "  summary()"
      ],
      "metadata": {
        "id": "e84DyW9CrVYD"
      },
      "execution_count": null,
      "outputs": []
    },
    {
      "cell_type": "code",
      "source": [
        "\n",
        "coefficients_table <- red_model_summary$coefficients\n",
        "\n",
        "# Confidence intervals for the model parameters\n",
        "conf_intervals <- confint(reduced_model)\n",
        "\n",
        "# Calculate VIF for the model\n",
        "model_vif <- c(NA, vif(reduced_model))\n",
        "\n",
        "results <- data.frame(\n",
        "  Coefficient_Estimate = round(coefficients_table[, \"Estimate\"],2),\n",
        "  Standard_Error = round(coefficients_table[, \"Std. Error\"],2),\n",
        "  CI_95_Low = round(conf_intervals[, 1],2),\n",
        "  CI_95_High = round(conf_intervals[, 2],2),\n",
        "  VIF = round(model_vif,2)\n",
        ")\n",
        "rownames(results) <- rownames(coefficients_table)\n",
        "\n",
        "# Print the results\n",
        "knitr::kable(results)"
      ],
      "metadata": {
        "id": "Q8GSZkQKraQh"
      },
      "execution_count": null,
      "outputs": []
    },
    {
      "cell_type": "markdown",
      "source": [
        "Based on the F-statistic, the model seems to be significant.\n",
        "\n",
        "\n",
        "Contourplot is shown below."
      ],
      "metadata": {
        "id": "2KVnaDtTsSjH"
      }
    },
    {
      "cell_type": "code",
      "source": [
        "contour(reduced_model, ~x2 + x3, image=TRUE)\n",
        "coefficients <- reduced_model$coefficients\n",
        "\n",
        "b <- c(coefficients['x2'], coefficients['x3'])\n",
        "B <- matrix(0, nrow = 2, ncol = 2)\n",
        "diag(B) <- c(coefficients['I(x2^2)'], coefficients['I(x3^2)'])\n",
        "\n",
        "stationary_point <- -1/2 * solve(B) %*% b\n",
        "stationary_point_natural <- stationary_point\n",
        "\n",
        "stationary_response <- predict(reduced_model, newdata = data.frame(x2 = stationary_point_natural[1],\n",
        "                                                                  x3 = stationary_point_natural[2]))\n",
        "\n",
        "points(stationary_point_natural[1,1],stationary_point_natural[2,1],pch=19,col='red')\n",
        "#include design points\n",
        "#points(df118$x2, df118$x3, pch = 19, col = 'blue')\n",
        "stationary_response\n",
        "stationary_point_natural"
      ],
      "metadata": {
        "id": "kkA9Ox4ItxeW"
      },
      "execution_count": null,
      "outputs": []
    },
    {
      "cell_type": "markdown",
      "source": [
        "Value of the yield variable predicted by the model at the stationary point: 97.68."
      ],
      "metadata": {
        "id": "QJQcJObSvWdI"
      }
    },
    {
      "cell_type": "markdown",
      "source": [
        "##\tProblem 11.12\n",
        "from the chapter 11 -  D. C. Montgomery DAoE - 8. edition.\n",
        "\n",
        "Consider the three-variable central composite design. Analyze the data and draw conclusions, assuming that we wish to maximize `Conversion` ($y_1$) with\t\t\t`Activity` ($y_2$) between 55 and 60\tachieved?"
      ],
      "metadata": {
        "id": "oA3Z3QG_HjqU"
      }
    },
    {
      "cell_type": "code",
      "source": [
        "df1112 <- read.table(\"https://raw.githubusercontent.com/francji1/01NAEX/main/data/Ex1112.csv\",header=TRUE,sep=\";\")\n",
        "df1112"
      ],
      "metadata": {
        "id": "fxD9HMoPrbHg"
      },
      "execution_count": null,
      "outputs": []
    },
    {
      "cell_type": "markdown",
      "source": [
        "Quadratic model for conversion:"
      ],
      "metadata": {
        "id": "_Ey3qGPJ9wp_"
      }
    },
    {
      "cell_type": "code",
      "source": [
        "conversion_model <- lm(Conversion ~Time +Temperature+ Catalyst+Time:Temperature+Time:Catalyst+Temperature:Catalyst+I(Time^2)+I(Temperature^2)+I(Catalyst^2), data = df1112)\n",
        "conversion_summary<-summary(conversion_model)\n",
        "conversion_summary\n",
        "conversion_model%>%\n",
        "  aov() %>%\n",
        "  summary()"
      ],
      "metadata": {
        "id": "pE5TJpklrbPN"
      },
      "execution_count": null,
      "outputs": []
    },
    {
      "cell_type": "markdown",
      "source": [
        "The p-value suggest that the model is significant."
      ],
      "metadata": {
        "id": "kOYvBz3n78re"
      }
    },
    {
      "cell_type": "markdown",
      "source": [
        "Model coefficient summary table:"
      ],
      "metadata": {
        "id": "QXqcSlWi9bOG"
      }
    },
    {
      "cell_type": "code",
      "source": [
        "coefficients_table <- conversion_summary$coefficients\n",
        "conf_intervals <- confint(conversion_model)\n",
        "model_vif <- vif(conversion_model)\n",
        "model_vif <- c(NA, vif(conversion_model))\n",
        "results <- data.frame(\n",
        "  Coefficient_Estimate = round(coefficients_table[, \"Estimate\"],2),\n",
        "  Standard_Error = round(coefficients_table[, \"Std. Error\"],2),\n",
        "  CI_95_Low = round(conf_intervals[, 1],2),\n",
        "  CI_95_High = round(conf_intervals[, 2],2),\n",
        "  VIF = round(model_vif,2)\n",
        ")\n",
        "rownames(results) <- rownames(coefficients_table)\n",
        "knitr::kable(results)"
      ],
      "metadata": {
        "id": "Rx9flkab9UpI"
      },
      "execution_count": null,
      "outputs": []
    },
    {
      "cell_type": "markdown",
      "source": [
        "Model for activity"
      ],
      "metadata": {
        "id": "BjXIAC_m9t2h"
      }
    },
    {
      "cell_type": "code",
      "source": [
        "Activity_model <- lm(Activity ~Time +Temperature+ Catalyst+Time:Temperature+Time:Catalyst+Temperature:Catalyst+I(Time^2)+I(Temperature^2)+I(Catalyst^2), data = df1112)\n",
        "Activity_summary<-summary(Activity_model)\n",
        "Activity_summary\n",
        "Activity_model%>%\n",
        "  aov() %>%\n",
        "  summary()"
      ],
      "metadata": {
        "id": "31Tn1ehX9tRA"
      },
      "execution_count": null,
      "outputs": []
    },
    {
      "cell_type": "markdown",
      "source": [
        "P-value implies that the model should be significant. However most of the parameters seem insignificant."
      ],
      "metadata": {
        "id": "wgmTYvOX919k"
      }
    },
    {
      "cell_type": "markdown",
      "source": [
        "Summary table of this model:"
      ],
      "metadata": {
        "id": "u2Lr3OYa-ROT"
      }
    },
    {
      "cell_type": "code",
      "source": [
        "coefficients_table <- Activity_summary$coefficients\n",
        "conf_intervals <- confint(Activity_model)\n",
        "model_vif <- vif(Activity_model)\n",
        "model_vif <- c(NA, vif(Activity_model))\n",
        "results <- data.frame(\n",
        "  Coefficient_Estimate = round(coefficients_table[, \"Estimate\"],2),\n",
        "  Standard_Error = round(coefficients_table[, \"Std. Error\"],2),\n",
        "  CI_95_Low = round(conf_intervals[, 1],2),\n",
        "  CI_95_High = round(conf_intervals[, 2],2),\n",
        "  VIF = round(model_vif,2)\n",
        ")\n",
        "rownames(results) <- rownames(coefficients_table)\n",
        "knitr::kable(results)"
      ],
      "metadata": {
        "id": "rcOggLTm-Rkd"
      },
      "execution_count": null,
      "outputs": []
    },
    {
      "cell_type": "markdown",
      "source": [
        "Reducing the activity model:"
      ],
      "metadata": {
        "id": "NKuuWD_O-FJt"
      }
    },
    {
      "cell_type": "code",
      "source": [
        "Activity_model_reduced <- lm(Activity ~Time + Catalyst+I(Time^2), data = df1112)\n",
        "Activity_reduced_summary<-summary(Activity_model_reduced)\n",
        "Activity_reduced_summary\n",
        "Activity_model_reduced%>%\n",
        "  aov() %>%\n",
        "  summary()"
      ],
      "metadata": {
        "id": "oTe7XaWB-EQ5"
      },
      "execution_count": null,
      "outputs": []
    },
    {
      "cell_type": "code",
      "source": [
        "coefficients_table <- Activity_reduced_summary$coefficients\n",
        "conf_intervals <- confint(Activity_model_reduced)\n",
        "model_vif <- vif(Activity_model_reduced)\n",
        "model_vif <- c(NA, vif(Activity_model_reduced))\n",
        "results <- data.frame(\n",
        "  Coefficient_Estimate = round(coefficients_table[, \"Estimate\"],2),\n",
        "  Standard_Error = round(coefficients_table[, \"Std. Error\"],2),\n",
        "  CI_95_Low = round(conf_intervals[, 1],2),\n",
        "  CI_95_High = round(conf_intervals[, 2],2),\n",
        "  VIF = round(model_vif,2)\n",
        ")\n",
        "rownames(results) <- rownames(coefficients_table)\n",
        "knitr::kable(results)"
      ],
      "metadata": {
        "id": "GWfjSX1m-amY"
      },
      "execution_count": null,
      "outputs": []
    },
    {
      "cell_type": "markdown",
      "source": [
        "All the variables now seem to be significant as well as the model."
      ],
      "metadata": {
        "id": "T3n5WIIh-eZ1"
      }
    },
    {
      "cell_type": "markdown",
      "source": [
        "Following are contour plots for the two final models, first one for conversion, second for activity."
      ],
      "metadata": {
        "id": "9TKnn3h_-qnR"
      }
    },
    {
      "cell_type": "code",
      "source": [
        "contour(conversion_model,~Time + Catalyst,image=TRUE)\n",
        "contour(Activity_model_reduced,~Time + Catalyst,image=TRUE)"
      ],
      "metadata": {
        "id": "yX8ud0qi-pi6"
      },
      "execution_count": null,
      "outputs": []
    },
    {
      "cell_type": "markdown",
      "source": [
        "Overlay plots:"
      ],
      "metadata": {
        "id": "m9P1hMxT-976"
      }
    },
    {
      "cell_type": "code",
      "source": [
        "new_data <- expand.grid(Time = unique(df1112$Time), Catalyst = unique(df1112$Catalyst), Temperature = -1)\n",
        "\n",
        "new_data$Conversion <- predict(conversion_model, newdata = new_data)\n",
        "new_data$Activity <- predict(Activity_model_reduced, newdata = new_data)\n",
        "\n",
        "\n",
        "new_data$response = \"Conversion\"\n",
        "new_data2 <- new_data\n",
        "new_data2$response = \"Activity\"\n",
        "new_data2$Conversion <- new_data$Activity\n",
        "combined_data <- rbind(new_data, new_data2)\n",
        "\n",
        "library(ggplot2)\n",
        "\n",
        "\n",
        "\n",
        "g <- ggplot(combined_data, aes(Time, Catalyst)) +\n",
        "  geom_contour(data = subset(combined_data, response == \"Conversion\"), aes(z = Conversion), color = \"blue\",binwidth = 10) +\n",
        "  geom_contour(data = subset(combined_data, response == \"Activity\"), aes(z = Activity), color = \"red\",binwidth = 10) +\n",
        "  geom_text_contour(data = subset(combined_data, response == \"Conversion\"), aes(z = Conversion), color = \"blue\",binwidth=4,check_overlap = F) +\n",
        "  geom_text_contour(data = subset(combined_data, response == \"Activity\"), aes(z = Activity),color = \"red\",binwidth=3,check_overlap = F)\n",
        "\n",
        "print(g)"
      ],
      "metadata": {
        "id": "fcEljZbg-9TU"
      },
      "execution_count": null,
      "outputs": []
    }
  ]
}